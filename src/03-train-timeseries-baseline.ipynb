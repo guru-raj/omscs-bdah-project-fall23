{
 "cells": [
  {
   "cell_type": "code",
   "execution_count": 1,
   "metadata": {},
   "outputs": [
    {
     "name": "stderr",
     "output_type": "stream",
     "text": [
      "2023-11-12 23:55:53.907636: E tensorflow/compiler/xla/stream_executor/cuda/cuda_dnn.cc:9342] Unable to register cuDNN factory: Attempting to register factory for plugin cuDNN when one has already been registered\n",
      "2023-11-12 23:55:53.907672: E tensorflow/compiler/xla/stream_executor/cuda/cuda_fft.cc:609] Unable to register cuFFT factory: Attempting to register factory for plugin cuFFT when one has already been registered\n",
      "2023-11-12 23:55:53.907712: E tensorflow/compiler/xla/stream_executor/cuda/cuda_blas.cc:1518] Unable to register cuBLAS factory: Attempting to register factory for plugin cuBLAS when one has already been registered\n",
      "2023-11-12 23:55:53.914029: I tensorflow/core/platform/cpu_feature_guard.cc:182] This TensorFlow binary is optimized to use available CPU instructions in performance-critical operations.\n",
      "To enable the following instructions: AVX2 FMA, in other operations, rebuild TensorFlow with the appropriate compiler flags.\n"
     ]
    }
   ],
   "source": [
    "import pandas as pd\n",
    "import os\n",
    "import numpy as np\n",
    "from gensim.models import Word2Vec, FastText\n",
    "import glove\n",
    "from glove import Corpus\n",
    "\n",
    "import collections\n",
    "import gc \n",
    "\n",
    "import keras\n",
    "from keras import backend as K\n",
    "from keras import regularizers\n",
    "from keras.models import Sequential, Model\n",
    "from keras.layers import Flatten, Dense, Dropout, Input, concatenate, Activation, Concatenate, LSTM, GRU\n",
    "from keras.layers import Input, Conv2D, MaxPooling2D, UpSampling2D, Conv1D, BatchNormalization, GRU, Convolution1D, LSTM\n",
    "from keras.layers import UpSampling1D, MaxPooling1D, GlobalMaxPooling1D, GlobalAveragePooling1D,MaxPool1D\n",
    "\n",
    "from keras.optimizers import Adam\n",
    "\n",
    "from keras.callbacks import EarlyStopping, ModelCheckpoint, History, ReduceLROnPlateau\n",
    "import np_utils\n",
    "from tensorflow.python.keras.backend import set_session, clear_session, get_session\n",
    "import tensorflow as tf\n",
    "\n",
    "\n",
    "from sklearn.utils import class_weight\n",
    "from sklearn.metrics import average_precision_score, roc_auc_score, accuracy_score, f1_score"
   ]
  },
  {
   "cell_type": "code",
   "execution_count": 2,
   "metadata": {},
   "outputs": [],
   "source": [
    "# Reset Keras Session\n",
    "def reset_keras(model):\n",
    "    sess = get_session()\n",
    "    clear_session()\n",
    "    sess.close()\n",
    "    sess = get_session()\n",
    "\n",
    "    try:\n",
    "        del model # this is from global space - change this as you need\n",
    "    except:\n",
    "        pass\n",
    "\n",
    "    gc.collect() # if it's done something you should see a number being outputted\n",
    "\n",
    "def make_prediction_timeseries(model, test_data):\n",
    "    probs = model.predict(test_data)\n",
    "    y_pred = [1 if i>=0.5 else 0 for i in probs]\n",
    "    return probs, y_pred\n",
    "\n",
    "def save_scores_timeseries(predictions, probs, ground_truth, model_name, \n",
    "                problem_type, iteration, hidden_unit_size, type_of_ner):\n",
    "    \n",
    "    auc = roc_auc_score(ground_truth, probs)\n",
    "    auprc = average_precision_score(ground_truth, probs)\n",
    "    acc   = accuracy_score(ground_truth, predictions)\n",
    "    F1    = f1_score(ground_truth, predictions)\n",
    "    \n",
    "    \n",
    "    result_dict = {} \n",
    "    result_dict['iteration'] = [iteration]\n",
    "    result_dict['auc'] = [auc]\n",
    "    result_dict['auprc'] = [auprc]\n",
    "    result_dict['acc'] = [acc]\n",
    "    result_dict['F1'] = [F1]\n",
    "        \n",
    "    filename = str(hidden_unit_size)+\"-\"+model_name+\"-\"+problem_type+\"-\"+type_of_ner+\".csv\"\n",
    "    \n",
    "    result_path = \"../results/timeseries-baseline/metrics/\"+filename\n",
    "    df = pd.DataFrame.from_dict(result_dict)\n",
    "    df.to_csv(result_path,mode='a',index=False,header=False)\n",
    "    result_dict = {}    \n",
    "    result_dict['auc'] = auc\n",
    "    result_dict['auprc'] = auprc\n",
    "    result_dict['acc'] = acc\n",
    "    result_dict['F1'] = F1\n",
    "\n",
    "        \n",
    "    file_name = str(hidden_unit_size)+\"-\"+model_name+\"-\"+problem_type+\"-\"+str(iteration)+\"-\"+type_of_ner+\".p\"\n",
    "    \n",
    "    result_path = \"../results/timeseries-baseline/metrics/\"\n",
    "    pd.to_pickle(result_dict, os.path.join(result_path, file_name))\n",
    "    print(auc, auprc, acc, F1)"
   ]
  },
  {
   "cell_type": "code",
   "execution_count": 3,
   "metadata": {},
   "outputs": [],
   "source": [
    "def timeseries_model(layer_name, number_of_unit):\n",
    "    K.clear_session()\n",
    "    \n",
    "    sequence_input = Input(shape=(24,104),  name = \"timeseries_input\")\n",
    "    \n",
    "    if layer_name == \"LSTM\":\n",
    "        x = LSTM(number_of_unit)(sequence_input)\n",
    "    else:\n",
    "        x = GRU(number_of_unit)(sequence_input)\n",
    "    \n",
    "    logits_regularizer = regularizers.l2(l2=0.01)\n",
    "    sigmoid_pred = Dense(1, activation='sigmoid',use_bias=False,\n",
    "                         kernel_initializer=tf.keras.initializers.GlorotNormal(), \n",
    "                  kernel_regularizer=logits_regularizer)(x)\n",
    "    \n",
    "    \n",
    "    model = Model(inputs=sequence_input, outputs=sigmoid_pred)\n",
    "    \n",
    "    \n",
    "    model.compile(loss='binary_crossentropy', optimizer='adam', metrics=['acc'])\n",
    "    return model"
   ]
  },
  {
   "cell_type": "code",
   "execution_count": 4,
   "metadata": {},
   "outputs": [],
   "source": [
    "type_of_ner = \"new\"\n",
    "\n",
    "x_train_lstm = pd.read_pickle(\"../data/timeseries/\"+type_of_ner+\"_x_train.pkl\")\n",
    "x_dev_lstm = pd.read_pickle(\"../data/timeseries/\"+type_of_ner+\"_x_dev.pkl\")\n",
    "x_test_lstm = pd.read_pickle(\"../data/timeseries/\"+type_of_ner+\"_x_test.pkl\")\n",
    "\n",
    "y_train = pd.read_pickle(\"../data/timeseries/\"+type_of_ner+\"_y_train.pkl\")\n",
    "y_dev = pd.read_pickle(\"../data/timeseries/\"+type_of_ner+\"_y_dev.pkl\")\n",
    "y_test = pd.read_pickle(\"../data/timeseries/\"+type_of_ner+\"_y_test.pkl\")"
   ]
  },
  {
   "cell_type": "code",
   "execution_count": 5,
   "metadata": {},
   "outputs": [
    {
     "name": "stdout",
     "output_type": "stream",
     "text": [
      "Layer:  LSTM\n",
      "Hidden unit:  128\n",
      "Iteration number:  1\n",
      "=============================\n",
      "Problem type:  mort_hosp\n",
      "__________________\n"
     ]
    },
    {
     "name": "stderr",
     "output_type": "stream",
     "text": [
      "2023-11-12 23:56:04.787939: I tensorflow/core/common_runtime/gpu/gpu_device.cc:1886] Created device /job:localhost/replica:0/task:0/device:GPU:0 with 13074 MB memory:  -> device: 0, name: Quadro RTX 5000, pci bus id: 0000:2b:00.0, compute capability: 7.5\n"
     ]
    },
    {
     "name": "stdout",
     "output_type": "stream",
     "text": [
      "Epoch 1/100\n"
     ]
    },
    {
     "name": "stderr",
     "output_type": "stream",
     "text": [
      "2023-11-12 23:56:06.322167: I tensorflow/compiler/xla/stream_executor/cuda/cuda_dnn.cc:442] Loaded cuDNN version 8700\n"
     ]
    },
    {
     "name": "stdout",
     "output_type": "stream",
     "text": [
      " 39/121 [========>.....................] - ETA: 0s - loss: 0.3843 - acc: 0.8512 "
     ]
    },
    {
     "name": "stderr",
     "output_type": "stream",
     "text": [
      "2023-11-12 23:56:06.637219: I tensorflow/compiler/xla/service/service.cc:168] XLA service 0x7fd6fc99ec10 initialized for platform CUDA (this does not guarantee that XLA will be used). Devices:\n",
      "2023-11-12 23:56:06.637239: I tensorflow/compiler/xla/service/service.cc:176]   StreamExecutor device (0): Quadro RTX 5000, Compute Capability 7.5\n",
      "2023-11-12 23:56:06.640160: I tensorflow/compiler/mlir/tensorflow/utils/dump_mlir_util.cc:269] disabling MLIR crash reproducer, set env var `MLIR_CRASH_REPRODUCER_DIRECTORY` to enable.\n",
      "2023-11-12 23:56:06.706288: I ./tensorflow/compiler/jit/device_compiler.h:186] Compiled cluster using XLA!  This line is logged at most once for the lifetime of the process.\n"
     ]
    },
    {
     "name": "stdout",
     "output_type": "stream",
     "text": [
      "117/121 [============================>.] - ETA: 0s - loss: 0.3049 - acc: 0.8892\n",
      "Epoch 1: val_loss improved from inf to 0.24480, saving model to ../results/timeseries-baseline/LSTM-128-mort_hosp-best_model.hdf5\n",
      "121/121 [==============================] - 2s 5ms/step - loss: 0.3033 - acc: 0.8901 - val_loss: 0.2448 - val_acc: 0.9151\n",
      "Epoch 2/100\n",
      " 61/121 [==============>...............] - ETA: 0s - loss: 0.2347 - acc: 0.9183"
     ]
    },
    {
     "name": "stderr",
     "output_type": "stream",
     "text": [
      "/data/apps/miniforge3/envs/cse6250-project/lib/python3.9/site-packages/keras/src/engine/training.py:3079: UserWarning: You are saving your model as an HDF5 file via `model.save()`. This file format is considered legacy. We recommend using instead the native Keras format, e.g. `model.save('my_model.keras')`.\n",
      "  saving_api.save_model(\n"
     ]
    },
    {
     "name": "stdout",
     "output_type": "stream",
     "text": [
      "118/121 [============================>.] - ETA: 0s - loss: 0.2343 - acc: 0.9178\n",
      "Epoch 2: val_loss improved from 0.24480 to 0.24071, saving model to ../results/timeseries-baseline/LSTM-128-mort_hosp-best_model.hdf5\n",
      "121/121 [==============================] - 0s 3ms/step - loss: 0.2349 - acc: 0.9180 - val_loss: 0.2407 - val_acc: 0.9146\n",
      "Epoch 3/100\n",
      "103/121 [========================>.....] - ETA: 0s - loss: 0.2124 - acc: 0.9271\n",
      "Epoch 3: val_loss improved from 0.24071 to 0.23905, saving model to ../results/timeseries-baseline/LSTM-128-mort_hosp-best_model.hdf5\n",
      "121/121 [==============================] - 0s 3ms/step - loss: 0.2131 - acc: 0.9265 - val_loss: 0.2391 - val_acc: 0.9151\n",
      "Epoch 4/100\n",
      "116/121 [===========================>..] - ETA: 0s - loss: 0.1962 - acc: 0.9312\n",
      "Epoch 4: val_loss improved from 0.23905 to 0.23795, saving model to ../results/timeseries-baseline/LSTM-128-mort_hosp-best_model.hdf5\n",
      "121/121 [==============================] - 0s 4ms/step - loss: 0.1946 - acc: 0.9319 - val_loss: 0.2380 - val_acc: 0.9160\n",
      "Epoch 5/100\n",
      "114/121 [===========================>..] - ETA: 0s - loss: 0.1723 - acc: 0.9407\n",
      "Epoch 5: val_loss did not improve from 0.23795\n",
      "121/121 [==============================] - 0s 3ms/step - loss: 0.1716 - acc: 0.9409 - val_loss: 0.2553 - val_acc: 0.9124\n",
      "Epoch 6/100\n",
      "106/121 [=========================>....] - ETA: 0s - loss: 0.1542 - acc: 0.9485\n",
      "Epoch 6: val_loss did not improve from 0.23795\n",
      "121/121 [==============================] - 0s 3ms/step - loss: 0.1559 - acc: 0.9482 - val_loss: 0.2606 - val_acc: 0.9087\n",
      "Epoch 7/100\n",
      "114/121 [===========================>..] - ETA: 0s - loss: 0.1356 - acc: 0.9566\n",
      "Epoch 7: val_loss did not improve from 0.23795\n",
      "121/121 [==============================] - 0s 3ms/step - loss: 0.1375 - acc: 0.9560 - val_loss: 0.2775 - val_acc: 0.9060\n",
      "138/138 [==============================] - 0s 897us/step\n",
      "0.8743341964295869 0.5557075557998025 0.9108034498411257 0.4738955823293173\n"
     ]
    },
    {
     "name": "stderr",
     "output_type": "stream",
     "text": [
      "2023-11-12 23:56:10.107084: I tensorflow/core/common_runtime/gpu/gpu_device.cc:1886] Created device /job:localhost/replica:0/task:0/device:GPU:0 with 13074 MB memory:  -> device: 0, name: Quadro RTX 5000, pci bus id: 0000:2b:00.0, compute capability: 7.5\n",
      "2023-11-12 23:56:10.118085: I tensorflow/core/common_runtime/gpu/gpu_device.cc:1886] Created device /job:localhost/replica:0/task:0/device:GPU:0 with 13074 MB memory:  -> device: 0, name: Quadro RTX 5000, pci bus id: 0000:2b:00.0, compute capability: 7.5\n"
     ]
    },
    {
     "name": "stdout",
     "output_type": "stream",
     "text": [
      "Problem type:  mort_icu\n",
      "__________________\n",
      "Epoch 1/100\n",
      "105/121 [=========================>....] - ETA: 0s - loss: 0.2599 - acc: 0.9079\n",
      "Epoch 1: val_loss improved from inf to 0.18415, saving model to ../results/timeseries-baseline/LSTM-128-mort_icu-best_model.hdf5\n",
      "121/121 [==============================] - 1s 5ms/step - loss: 0.2502 - acc: 0.9121 - val_loss: 0.1841 - val_acc: 0.9423\n",
      "Epoch 2/100\n",
      " 64/121 [==============>...............] - ETA: 0s - loss: 0.1832 - acc: 0.9386"
     ]
    },
    {
     "name": "stderr",
     "output_type": "stream",
     "text": [
      "/data/apps/miniforge3/envs/cse6250-project/lib/python3.9/site-packages/keras/src/engine/training.py:3079: UserWarning: You are saving your model as an HDF5 file via `model.save()`. This file format is considered legacy. We recommend using instead the native Keras format, e.g. `model.save('my_model.keras')`.\n",
      "  saving_api.save_model(\n"
     ]
    },
    {
     "name": "stdout",
     "output_type": "stream",
     "text": [
      "121/121 [==============================] - ETA: 0s - loss: 0.1746 - acc: 0.9434\n",
      "Epoch 2: val_loss improved from 0.18415 to 0.17178, saving model to ../results/timeseries-baseline/LSTM-128-mort_icu-best_model.hdf5\n",
      "121/121 [==============================] - 0s 3ms/step - loss: 0.1746 - acc: 0.9434 - val_loss: 0.1718 - val_acc: 0.9450\n",
      "Epoch 3/100\n",
      "104/121 [========================>.....] - ETA: 0s - loss: 0.1530 - acc: 0.9524\n",
      "Epoch 3: val_loss did not improve from 0.17178\n",
      "121/121 [==============================] - 0s 3ms/step - loss: 0.1544 - acc: 0.9516 - val_loss: 0.1723 - val_acc: 0.9446\n",
      "Epoch 4/100\n",
      "120/121 [============================>.] - ETA: 0s - loss: 0.1358 - acc: 0.9566\n",
      "Epoch 4: val_loss did not improve from 0.17178\n",
      "121/121 [==============================] - 0s 3ms/step - loss: 0.1356 - acc: 0.9568 - val_loss: 0.1790 - val_acc: 0.9382\n",
      "Epoch 5/100\n",
      "106/121 [=========================>....] - ETA: 0s - loss: 0.1188 - acc: 0.9634\n",
      "Epoch 5: val_loss did not improve from 0.17178\n",
      "121/121 [==============================] - 0s 3ms/step - loss: 0.1207 - acc: 0.9624 - val_loss: 0.1813 - val_acc: 0.9391\n",
      "138/138 [==============================] - 0s 948us/step\n",
      "0.884984180840649 0.5006470867166869 0.9371311847480708 0.32273838630806845\n"
     ]
    },
    {
     "name": "stderr",
     "output_type": "stream",
     "text": [
      "2023-11-12 23:56:13.997179: I tensorflow/core/common_runtime/gpu/gpu_device.cc:1886] Created device /job:localhost/replica:0/task:0/device:GPU:0 with 13074 MB memory:  -> device: 0, name: Quadro RTX 5000, pci bus id: 0000:2b:00.0, compute capability: 7.5\n",
      "2023-11-12 23:56:14.008193: I tensorflow/core/common_runtime/gpu/gpu_device.cc:1886] Created device /job:localhost/replica:0/task:0/device:GPU:0 with 13074 MB memory:  -> device: 0, name: Quadro RTX 5000, pci bus id: 0000:2b:00.0, compute capability: 7.5\n"
     ]
    },
    {
     "name": "stdout",
     "output_type": "stream",
     "text": [
      "Problem type:  los_3\n",
      "__________________\n",
      "Epoch 1/100\n",
      "112/121 [==========================>...] - ETA: 0s - loss: 0.6624 - acc: 0.6362\n",
      "Epoch 1: val_loss improved from inf to 0.62683, saving model to ../results/timeseries-baseline/LSTM-128-los_3-best_model.hdf5\n",
      "121/121 [==============================] - 1s 5ms/step - loss: 0.6608 - acc: 0.6374 - val_loss: 0.6268 - val_acc: 0.6708\n",
      "Epoch 2/100\n",
      " 56/121 [============>.................] - ETA: 0s - loss: 0.6216 - acc: 0.6773"
     ]
    },
    {
     "name": "stderr",
     "output_type": "stream",
     "text": [
      "/data/apps/miniforge3/envs/cse6250-project/lib/python3.9/site-packages/keras/src/engine/training.py:3079: UserWarning: You are saving your model as an HDF5 file via `model.save()`. This file format is considered legacy. We recommend using instead the native Keras format, e.g. `model.save('my_model.keras')`.\n",
      "  saving_api.save_model(\n"
     ]
    },
    {
     "name": "stdout",
     "output_type": "stream",
     "text": [
      "108/121 [=========================>....] - ETA: 0s - loss: 0.6241 - acc: 0.6740\n",
      "Epoch 2: val_loss improved from 0.62683 to 0.62262, saving model to ../results/timeseries-baseline/LSTM-128-los_3-best_model.hdf5\n",
      "121/121 [==============================] - 0s 3ms/step - loss: 0.6260 - acc: 0.6714 - val_loss: 0.6226 - val_acc: 0.6685\n",
      "Epoch 3/100\n",
      "117/121 [============================>.] - ETA: 0s - loss: 0.6059 - acc: 0.6861\n",
      "Epoch 3: val_loss improved from 0.62262 to 0.61308, saving model to ../results/timeseries-baseline/LSTM-128-los_3-best_model.hdf5\n",
      "121/121 [==============================] - 0s 3ms/step - loss: 0.6058 - acc: 0.6855 - val_loss: 0.6131 - val_acc: 0.6812\n",
      "Epoch 4/100\n",
      "102/121 [========================>.....] - ETA: 0s - loss: 0.5795 - acc: 0.7106\n",
      "Epoch 4: val_loss did not improve from 0.61308\n",
      "121/121 [==============================] - 0s 3ms/step - loss: 0.5803 - acc: 0.7101 - val_loss: 0.6214 - val_acc: 0.6626\n",
      "Epoch 5/100\n",
      "107/121 [=========================>....] - ETA: 0s - loss: 0.5497 - acc: 0.7341\n",
      "Epoch 5: val_loss did not improve from 0.61308\n",
      "121/121 [==============================] - 0s 3ms/step - loss: 0.5504 - acc: 0.7333 - val_loss: 0.6365 - val_acc: 0.6612\n",
      "Epoch 6/100\n",
      "118/121 [============================>.] - ETA: 0s - loss: 0.5163 - acc: 0.7576\n",
      "Epoch 6: val_loss did not improve from 0.61308\n",
      "121/121 [==============================] - 0s 3ms/step - loss: 0.5167 - acc: 0.7572 - val_loss: 0.6662 - val_acc: 0.6553\n",
      "138/138 [==============================] - 0s 949us/step\n",
      "0.6964580282448787 0.6393912289332007 0.6559237403540626 0.5329636475662354\n"
     ]
    },
    {
     "name": "stderr",
     "output_type": "stream",
     "text": [
      "2023-11-12 23:56:18.482855: I tensorflow/core/common_runtime/gpu/gpu_device.cc:1886] Created device /job:localhost/replica:0/task:0/device:GPU:0 with 13074 MB memory:  -> device: 0, name: Quadro RTX 5000, pci bus id: 0000:2b:00.0, compute capability: 7.5\n",
      "2023-11-12 23:56:18.493395: I tensorflow/core/common_runtime/gpu/gpu_device.cc:1886] Created device /job:localhost/replica:0/task:0/device:GPU:0 with 13074 MB memory:  -> device: 0, name: Quadro RTX 5000, pci bus id: 0000:2b:00.0, compute capability: 7.5\n"
     ]
    },
    {
     "name": "stdout",
     "output_type": "stream",
     "text": [
      "Problem type:  los_7\n",
      "__________________\n",
      "Epoch 1/100\n",
      "105/121 [=========================>....] - ETA: 0s - loss: 0.3094 - acc: 0.9025\n",
      "Epoch 1: val_loss improved from inf to 0.26252, saving model to ../results/timeseries-baseline/LSTM-128-los_7-best_model.hdf5\n",
      "121/121 [==============================] - 1s 5ms/step - loss: 0.3052 - acc: 0.9046 - val_loss: 0.2625 - val_acc: 0.9223\n",
      "Epoch 2/100\n",
      " 59/121 [=============>................] - ETA: 0s - loss: 0.2629 - acc: 0.9191"
     ]
    },
    {
     "name": "stderr",
     "output_type": "stream",
     "text": [
      "/data/apps/miniforge3/envs/cse6250-project/lib/python3.9/site-packages/keras/src/engine/training.py:3079: UserWarning: You are saving your model as an HDF5 file via `model.save()`. This file format is considered legacy. We recommend using instead the native Keras format, e.g. `model.save('my_model.keras')`.\n",
      "  saving_api.save_model(\n"
     ]
    },
    {
     "name": "stdout",
     "output_type": "stream",
     "text": [
      "110/121 [==========================>...] - ETA: 0s - loss: 0.2551 - acc: 0.9215\n",
      "Epoch 2: val_loss improved from 0.26252 to 0.25744, saving model to ../results/timeseries-baseline/LSTM-128-los_7-best_model.hdf5\n",
      "121/121 [==============================] - 0s 3ms/step - loss: 0.2547 - acc: 0.9219 - val_loss: 0.2574 - val_acc: 0.9223\n",
      "Epoch 3/100\n",
      "118/121 [============================>.] - ETA: 0s - loss: 0.2413 - acc: 0.9243\n",
      "Epoch 3: val_loss did not improve from 0.25744\n",
      "121/121 [==============================] - 0s 3ms/step - loss: 0.2403 - acc: 0.9248 - val_loss: 0.2582 - val_acc: 0.9223\n",
      "Epoch 4/100\n",
      "112/121 [==========================>...] - ETA: 0s - loss: 0.2266 - acc: 0.9284\n",
      "Epoch 4: val_loss did not improve from 0.25744\n",
      "121/121 [==============================] - 0s 3ms/step - loss: 0.2268 - acc: 0.9278 - val_loss: 0.2577 - val_acc: 0.9219\n",
      "Epoch 5/100\n",
      "120/121 [============================>.] - ETA: 0s - loss: 0.2114 - acc: 0.9314\n",
      "Epoch 5: val_loss did not improve from 0.25744\n",
      "121/121 [==============================] - 0s 3ms/step - loss: 0.2116 - acc: 0.9314 - val_loss: 0.2738 - val_acc: 0.9187\n",
      "138/138 [==============================] - 0s 959us/step\n",
      "0.7253995006242198 0.19818198991671013 0.9189741261915569 0.016528925619834708\n"
     ]
    },
    {
     "name": "stderr",
     "output_type": "stream",
     "text": [
      "2023-11-12 23:56:22.634671: I tensorflow/core/common_runtime/gpu/gpu_device.cc:1886] Created device /job:localhost/replica:0/task:0/device:GPU:0 with 13074 MB memory:  -> device: 0, name: Quadro RTX 5000, pci bus id: 0000:2b:00.0, compute capability: 7.5\n",
      "2023-11-12 23:56:22.644271: I tensorflow/core/common_runtime/gpu/gpu_device.cc:1886] Created device /job:localhost/replica:0/task:0/device:GPU:0 with 13074 MB memory:  -> device: 0, name: Quadro RTX 5000, pci bus id: 0000:2b:00.0, compute capability: 7.5\n"
     ]
    },
    {
     "name": "stdout",
     "output_type": "stream",
     "text": [
      "Iteration number:  2\n",
      "=============================\n",
      "Problem type:  mort_hosp\n",
      "__________________\n",
      "Epoch 1/100\n",
      "111/121 [==========================>...] - ETA: 0s - loss: 0.3084 - acc: 0.8884\n",
      "Epoch 1: val_loss improved from inf to 0.25001, saving model to ../results/timeseries-baseline/LSTM-128-mort_hosp-best_model.hdf5\n",
      "121/121 [==============================] - 1s 5ms/step - loss: 0.3068 - acc: 0.8889 - val_loss: 0.2500 - val_acc: 0.9187\n",
      "Epoch 2/100\n",
      " 62/121 [==============>...............] - ETA: 0s - loss: 0.2421 - acc: 0.9151"
     ]
    },
    {
     "name": "stderr",
     "output_type": "stream",
     "text": [
      "/data/apps/miniforge3/envs/cse6250-project/lib/python3.9/site-packages/keras/src/engine/training.py:3079: UserWarning: You are saving your model as an HDF5 file via `model.save()`. This file format is considered legacy. We recommend using instead the native Keras format, e.g. `model.save('my_model.keras')`.\n",
      "  saving_api.save_model(\n"
     ]
    },
    {
     "name": "stdout",
     "output_type": "stream",
     "text": [
      "121/121 [==============================] - ETA: 0s - loss: 0.2364 - acc: 0.9176\n",
      "Epoch 2: val_loss improved from 0.25001 to 0.24223, saving model to ../results/timeseries-baseline/LSTM-128-mort_hosp-best_model.hdf5\n",
      "121/121 [==============================] - 0s 3ms/step - loss: 0.2364 - acc: 0.9176 - val_loss: 0.2422 - val_acc: 0.9146\n",
      "Epoch 3/100\n",
      "113/121 [===========================>..] - ETA: 0s - loss: 0.2148 - acc: 0.9251\n",
      "Epoch 3: val_loss improved from 0.24223 to 0.23567, saving model to ../results/timeseries-baseline/LSTM-128-mort_hosp-best_model.hdf5\n",
      "121/121 [==============================] - 0s 3ms/step - loss: 0.2159 - acc: 0.9243 - val_loss: 0.2357 - val_acc: 0.9137\n",
      "Epoch 4/100\n",
      "110/121 [==========================>...] - ETA: 0s - loss: 0.1940 - acc: 0.9334\n",
      "Epoch 4: val_loss did not improve from 0.23567\n",
      "121/121 [==============================] - 0s 3ms/step - loss: 0.1958 - acc: 0.9324 - val_loss: 0.2416 - val_acc: 0.9160\n",
      "Epoch 5/100\n",
      "109/121 [==========================>...] - ETA: 0s - loss: 0.1729 - acc: 0.9414\n",
      "Epoch 5: val_loss did not improve from 0.23567\n",
      "121/121 [==============================] - 0s 3ms/step - loss: 0.1735 - acc: 0.9410 - val_loss: 0.2495 - val_acc: 0.9105\n",
      "Epoch 6/100\n",
      "117/121 [============================>.] - ETA: 0s - loss: 0.1554 - acc: 0.9489\n",
      "Epoch 6: val_loss did not improve from 0.23567\n",
      "121/121 [==============================] - 0s 3ms/step - loss: 0.1549 - acc: 0.9490 - val_loss: 0.2621 - val_acc: 0.9078\n",
      "138/138 [==============================] - 0s 931us/step\n",
      "0.8766786915236946 0.5513046853905975 0.9101225601452565 0.4406779661016949\n"
     ]
    },
    {
     "name": "stderr",
     "output_type": "stream",
     "text": [
      "2023-11-12 23:56:27.156679: I tensorflow/core/common_runtime/gpu/gpu_device.cc:1886] Created device /job:localhost/replica:0/task:0/device:GPU:0 with 13074 MB memory:  -> device: 0, name: Quadro RTX 5000, pci bus id: 0000:2b:00.0, compute capability: 7.5\n",
      "2023-11-12 23:56:27.166617: I tensorflow/core/common_runtime/gpu/gpu_device.cc:1886] Created device /job:localhost/replica:0/task:0/device:GPU:0 with 13074 MB memory:  -> device: 0, name: Quadro RTX 5000, pci bus id: 0000:2b:00.0, compute capability: 7.5\n"
     ]
    },
    {
     "name": "stdout",
     "output_type": "stream",
     "text": [
      "Problem type:  mort_icu\n",
      "__________________\n",
      "Epoch 1/100\n",
      "107/121 [=========================>....] - ETA: 0s - loss: 0.2504 - acc: 0.9165\n",
      "Epoch 1: val_loss improved from inf to 0.17995, saving model to ../results/timeseries-baseline/LSTM-128-mort_icu-best_model.hdf5\n",
      "121/121 [==============================] - 1s 5ms/step - loss: 0.2433 - acc: 0.9196 - val_loss: 0.1800 - val_acc: 0.9414\n",
      "Epoch 2/100\n",
      " 54/121 [============>.................] - ETA: 0s - loss: 0.1784 - acc: 0.9414"
     ]
    },
    {
     "name": "stderr",
     "output_type": "stream",
     "text": [
      "/data/apps/miniforge3/envs/cse6250-project/lib/python3.9/site-packages/keras/src/engine/training.py:3079: UserWarning: You are saving your model as an HDF5 file via `model.save()`. This file format is considered legacy. We recommend using instead the native Keras format, e.g. `model.save('my_model.keras')`.\n",
      "  saving_api.save_model(\n"
     ]
    },
    {
     "name": "stdout",
     "output_type": "stream",
     "text": [
      "102/121 [========================>.....] - ETA: 0s - loss: 0.1697 - acc: 0.9438\n",
      "Epoch 2: val_loss improved from 0.17995 to 0.17958, saving model to ../results/timeseries-baseline/LSTM-128-mort_icu-best_model.hdf5\n",
      "121/121 [==============================] - 0s 3ms/step - loss: 0.1721 - acc: 0.9436 - val_loss: 0.1796 - val_acc: 0.9423\n",
      "Epoch 3/100\n",
      "112/121 [==========================>...] - ETA: 0s - loss: 0.1542 - acc: 0.9500\n",
      "Epoch 3: val_loss improved from 0.17958 to 0.17112, saving model to ../results/timeseries-baseline/LSTM-128-mort_icu-best_model.hdf5\n",
      "121/121 [==============================] - 0s 3ms/step - loss: 0.1546 - acc: 0.9498 - val_loss: 0.1711 - val_acc: 0.9419\n",
      "Epoch 4/100\n",
      "121/121 [==============================] - ETA: 0s - loss: 0.1364 - acc: 0.9565\n",
      "Epoch 4: val_loss did not improve from 0.17112\n",
      "121/121 [==============================] - 0s 3ms/step - loss: 0.1364 - acc: 0.9565 - val_loss: 0.1806 - val_acc: 0.9360\n",
      "Epoch 5/100\n",
      "116/121 [===========================>..] - ETA: 0s - loss: 0.1217 - acc: 0.9628\n",
      "Epoch 5: val_loss did not improve from 0.17112\n",
      "121/121 [==============================] - 0s 3ms/step - loss: 0.1209 - acc: 0.9632 - val_loss: 0.1839 - val_acc: 0.9387\n",
      "Epoch 6/100\n",
      "115/121 [===========================>..] - ETA: 0s - loss: 0.1048 - acc: 0.9695\n",
      "Epoch 6: val_loss did not improve from 0.17112\n",
      "121/121 [==============================] - 0s 3ms/step - loss: 0.1059 - acc: 0.9691 - val_loss: 0.1905 - val_acc: 0.9351\n",
      "138/138 [==============================] - 0s 921us/step\n",
      "0.8827908684760916 0.496360731315964 0.9396277802995915 0.38990825688073394\n"
     ]
    },
    {
     "name": "stderr",
     "output_type": "stream",
     "text": [
      "2023-11-12 23:56:31.739775: I tensorflow/core/common_runtime/gpu/gpu_device.cc:1886] Created device /job:localhost/replica:0/task:0/device:GPU:0 with 13074 MB memory:  -> device: 0, name: Quadro RTX 5000, pci bus id: 0000:2b:00.0, compute capability: 7.5\n",
      "2023-11-12 23:56:31.751609: I tensorflow/core/common_runtime/gpu/gpu_device.cc:1886] Created device /job:localhost/replica:0/task:0/device:GPU:0 with 13074 MB memory:  -> device: 0, name: Quadro RTX 5000, pci bus id: 0000:2b:00.0, compute capability: 7.5\n"
     ]
    },
    {
     "name": "stdout",
     "output_type": "stream",
     "text": [
      "Problem type:  los_3\n",
      "__________________\n",
      "Epoch 1/100\n",
      "110/121 [==========================>...] - ETA: 0s - loss: 0.6597 - acc: 0.6382\n",
      "Epoch 1: val_loss improved from inf to 0.63747, saving model to ../results/timeseries-baseline/LSTM-128-los_3-best_model.hdf5\n",
      "121/121 [==============================] - 1s 6ms/step - loss: 0.6597 - acc: 0.6374 - val_loss: 0.6375 - val_acc: 0.6635\n",
      "Epoch 2/100\n",
      " 57/121 [=============>................] - ETA: 0s - loss: 0.6241 - acc: 0.6719"
     ]
    },
    {
     "name": "stderr",
     "output_type": "stream",
     "text": [
      "/data/apps/miniforge3/envs/cse6250-project/lib/python3.9/site-packages/keras/src/engine/training.py:3079: UserWarning: You are saving your model as an HDF5 file via `model.save()`. This file format is considered legacy. We recommend using instead the native Keras format, e.g. `model.save('my_model.keras')`.\n",
      "  saving_api.save_model(\n"
     ]
    },
    {
     "name": "stdout",
     "output_type": "stream",
     "text": [
      "110/121 [==========================>...] - ETA: 0s - loss: 0.6253 - acc: 0.6726\n",
      "Epoch 2: val_loss improved from 0.63747 to 0.62111, saving model to ../results/timeseries-baseline/LSTM-128-los_3-best_model.hdf5\n",
      "121/121 [==============================] - 0s 3ms/step - loss: 0.6255 - acc: 0.6719 - val_loss: 0.6211 - val_acc: 0.6680\n",
      "Epoch 3/100\n",
      "118/121 [============================>.] - ETA: 0s - loss: 0.6028 - acc: 0.6880\n",
      "Epoch 3: val_loss improved from 0.62111 to 0.62058, saving model to ../results/timeseries-baseline/LSTM-128-los_3-best_model.hdf5\n",
      "121/121 [==============================] - 0s 3ms/step - loss: 0.6027 - acc: 0.6882 - val_loss: 0.6206 - val_acc: 0.6739\n",
      "Epoch 4/100\n",
      "118/121 [============================>.] - ETA: 0s - loss: 0.5780 - acc: 0.7108\n",
      "Epoch 4: val_loss did not improve from 0.62058\n",
      "121/121 [==============================] - 0s 3ms/step - loss: 0.5779 - acc: 0.7112 - val_loss: 0.6334 - val_acc: 0.6521\n",
      "Epoch 5/100\n",
      "119/121 [============================>.] - ETA: 0s - loss: 0.5486 - acc: 0.7335\n",
      "Epoch 5: val_loss did not improve from 0.62058\n",
      "121/121 [==============================] - 0s 3ms/step - loss: 0.5489 - acc: 0.7332 - val_loss: 0.6473 - val_acc: 0.6562\n",
      "Epoch 6/100\n",
      "107/121 [=========================>....] - ETA: 0s - loss: 0.5072 - acc: 0.7664\n",
      "Epoch 6: val_loss did not improve from 0.62058\n",
      "121/121 [==============================] - 0s 3ms/step - loss: 0.5084 - acc: 0.7656 - val_loss: 0.6764 - val_acc: 0.6435\n",
      "138/138 [==============================] - 0s 932us/step\n",
      "0.6909352959989227 0.6323348422746002 0.662051747616886 0.5611553197760094\n"
     ]
    },
    {
     "name": "stderr",
     "output_type": "stream",
     "text": [
      "2023-11-12 23:56:36.318516: I tensorflow/core/common_runtime/gpu/gpu_device.cc:1886] Created device /job:localhost/replica:0/task:0/device:GPU:0 with 13074 MB memory:  -> device: 0, name: Quadro RTX 5000, pci bus id: 0000:2b:00.0, compute capability: 7.5\n",
      "2023-11-12 23:56:36.329438: I tensorflow/core/common_runtime/gpu/gpu_device.cc:1886] Created device /job:localhost/replica:0/task:0/device:GPU:0 with 13074 MB memory:  -> device: 0, name: Quadro RTX 5000, pci bus id: 0000:2b:00.0, compute capability: 7.5\n"
     ]
    },
    {
     "name": "stdout",
     "output_type": "stream",
     "text": [
      "Problem type:  los_7\n",
      "__________________\n",
      "Epoch 1/100\n",
      "111/121 [==========================>...] - ETA: 0s - loss: 0.3140 - acc: 0.9013\n",
      "Epoch 1: val_loss improved from inf to 0.26508, saving model to ../results/timeseries-baseline/LSTM-128-los_7-best_model.hdf5\n",
      "121/121 [==============================] - 1s 5ms/step - loss: 0.3097 - acc: 0.9028 - val_loss: 0.2651 - val_acc: 0.9228\n",
      "Epoch 2/100\n",
      " 60/121 [=============>................] - ETA: 0s - loss: 0.2528 - acc: 0.9221"
     ]
    },
    {
     "name": "stderr",
     "output_type": "stream",
     "text": [
      "/data/apps/miniforge3/envs/cse6250-project/lib/python3.9/site-packages/keras/src/engine/training.py:3079: UserWarning: You are saving your model as an HDF5 file via `model.save()`. This file format is considered legacy. We recommend using instead the native Keras format, e.g. `model.save('my_model.keras')`.\n",
      "  saving_api.save_model(\n"
     ]
    },
    {
     "name": "stdout",
     "output_type": "stream",
     "text": [
      "111/121 [==========================>...] - ETA: 0s - loss: 0.2560 - acc: 0.9215\n",
      "Epoch 2: val_loss improved from 0.26508 to 0.26278, saving model to ../results/timeseries-baseline/LSTM-128-los_7-best_model.hdf5\n",
      "121/121 [==============================] - 0s 3ms/step - loss: 0.2541 - acc: 0.9227 - val_loss: 0.2628 - val_acc: 0.9233\n",
      "Epoch 3/100\n",
      "120/121 [============================>.] - ETA: 0s - loss: 0.2395 - acc: 0.9238\n",
      "Epoch 3: val_loss improved from 0.26278 to 0.26087, saving model to ../results/timeseries-baseline/LSTM-128-los_7-best_model.hdf5\n",
      "121/121 [==============================] - 0s 3ms/step - loss: 0.2399 - acc: 0.9237 - val_loss: 0.2609 - val_acc: 0.9210\n",
      "Epoch 4/100\n",
      "121/121 [==============================] - ETA: 0s - loss: 0.2258 - acc: 0.9274\n",
      "Epoch 4: val_loss did not improve from 0.26087\n",
      "121/121 [==============================] - 0s 3ms/step - loss: 0.2258 - acc: 0.9274 - val_loss: 0.2678 - val_acc: 0.9187\n",
      "Epoch 5/100\n",
      "110/121 [==========================>...] - ETA: 0s - loss: 0.2067 - acc: 0.9322\n",
      "Epoch 5: val_loss did not improve from 0.26087\n",
      "121/121 [==============================] - 0s 3ms/step - loss: 0.2080 - acc: 0.9317 - val_loss: 0.2691 - val_acc: 0.9201\n",
      "Epoch 6/100\n",
      "104/121 [========================>.....] - ETA: 0s - loss: 0.1908 - acc: 0.9383\n",
      "Epoch 6: val_loss did not improve from 0.26087\n",
      "121/121 [==============================] - 0s 3ms/step - loss: 0.1925 - acc: 0.9374 - val_loss: 0.2912 - val_acc: 0.9105\n",
      "138/138 [==============================] - 0s 958us/step\n",
      "0.7089117769454848 0.20405753343397176 0.9189741261915569 0.06788511749347259\n"
     ]
    },
    {
     "name": "stderr",
     "output_type": "stream",
     "text": [
      "2023-11-12 23:56:40.894451: I tensorflow/core/common_runtime/gpu/gpu_device.cc:1886] Created device /job:localhost/replica:0/task:0/device:GPU:0 with 13074 MB memory:  -> device: 0, name: Quadro RTX 5000, pci bus id: 0000:2b:00.0, compute capability: 7.5\n",
      "2023-11-12 23:56:40.902919: I tensorflow/core/common_runtime/gpu/gpu_device.cc:1886] Created device /job:localhost/replica:0/task:0/device:GPU:0 with 13074 MB memory:  -> device: 0, name: Quadro RTX 5000, pci bus id: 0000:2b:00.0, compute capability: 7.5\n"
     ]
    },
    {
     "name": "stdout",
     "output_type": "stream",
     "text": [
      "Iteration number:  3\n",
      "=============================\n",
      "Problem type:  mort_hosp\n",
      "__________________\n",
      "Epoch 1/100\n",
      "113/121 [===========================>..] - ETA: 0s - loss: 0.3026 - acc: 0.8929\n",
      "Epoch 1: val_loss improved from inf to 0.25261, saving model to ../results/timeseries-baseline/LSTM-128-mort_hosp-best_model.hdf5\n",
      "121/121 [==============================] - 1s 5ms/step - loss: 0.3008 - acc: 0.8933 - val_loss: 0.2526 - val_acc: 0.9087\n",
      "Epoch 2/100\n",
      " 59/121 [=============>................] - ETA: 0s - loss: 0.2400 - acc: 0.9163"
     ]
    },
    {
     "name": "stderr",
     "output_type": "stream",
     "text": [
      "/data/apps/miniforge3/envs/cse6250-project/lib/python3.9/site-packages/keras/src/engine/training.py:3079: UserWarning: You are saving your model as an HDF5 file via `model.save()`. This file format is considered legacy. We recommend using instead the native Keras format, e.g. `model.save('my_model.keras')`.\n",
      "  saving_api.save_model(\n"
     ]
    },
    {
     "name": "stdout",
     "output_type": "stream",
     "text": [
      "117/121 [============================>.] - ETA: 0s - loss: 0.2350 - acc: 0.9177\n",
      "Epoch 2: val_loss improved from 0.25261 to 0.24561, saving model to ../results/timeseries-baseline/LSTM-128-mort_hosp-best_model.hdf5\n",
      "121/121 [==============================] - 0s 3ms/step - loss: 0.2351 - acc: 0.9172 - val_loss: 0.2456 - val_acc: 0.9105\n",
      "Epoch 3/100\n",
      "117/121 [============================>.] - ETA: 0s - loss: 0.2141 - acc: 0.9273\n",
      "Epoch 3: val_loss improved from 0.24561 to 0.24555, saving model to ../results/timeseries-baseline/LSTM-128-mort_hosp-best_model.hdf5\n",
      "121/121 [==============================] - 0s 3ms/step - loss: 0.2141 - acc: 0.9266 - val_loss: 0.2456 - val_acc: 0.9092\n",
      "Epoch 4/100\n",
      "112/121 [==========================>...] - ETA: 0s - loss: 0.1934 - acc: 0.9334\n",
      "Epoch 4: val_loss did not improve from 0.24555\n",
      "121/121 [==============================] - 0s 3ms/step - loss: 0.1932 - acc: 0.9333 - val_loss: 0.2573 - val_acc: 0.9064\n",
      "Epoch 5/100\n",
      "112/121 [==========================>...] - ETA: 0s - loss: 0.1719 - acc: 0.9411\n",
      "Epoch 5: val_loss did not improve from 0.24555\n",
      "121/121 [==============================] - 0s 3ms/step - loss: 0.1729 - acc: 0.9410 - val_loss: 0.2603 - val_acc: 0.9060\n",
      "Epoch 6/100\n",
      "120/121 [============================>.] - ETA: 0s - loss: 0.1489 - acc: 0.9517\n",
      "Epoch 6: val_loss did not improve from 0.24555\n",
      "121/121 [==============================] - 0s 3ms/step - loss: 0.1494 - acc: 0.9514 - val_loss: 0.2746 - val_acc: 0.9001\n",
      "138/138 [==============================] - 0s 942us/step\n",
      "0.8786056292794888 0.5590923892719905 0.9123921924648207 0.44219653179190754\n"
     ]
    },
    {
     "name": "stderr",
     "output_type": "stream",
     "text": [
      "2023-11-12 23:56:45.452018: I tensorflow/core/common_runtime/gpu/gpu_device.cc:1886] Created device /job:localhost/replica:0/task:0/device:GPU:0 with 13074 MB memory:  -> device: 0, name: Quadro RTX 5000, pci bus id: 0000:2b:00.0, compute capability: 7.5\n",
      "2023-11-12 23:56:45.463761: I tensorflow/core/common_runtime/gpu/gpu_device.cc:1886] Created device /job:localhost/replica:0/task:0/device:GPU:0 with 13074 MB memory:  -> device: 0, name: Quadro RTX 5000, pci bus id: 0000:2b:00.0, compute capability: 7.5\n"
     ]
    },
    {
     "name": "stdout",
     "output_type": "stream",
     "text": [
      "Problem type:  mort_icu\n",
      "__________________\n",
      "Epoch 1/100\n",
      "109/121 [==========================>...] - ETA: 0s - loss: 0.2512 - acc: 0.9144\n",
      "Epoch 1: val_loss improved from inf to 0.18674, saving model to ../results/timeseries-baseline/LSTM-128-mort_icu-best_model.hdf5\n",
      "121/121 [==============================] - 1s 5ms/step - loss: 0.2426 - acc: 0.9177 - val_loss: 0.1867 - val_acc: 0.9423\n",
      "Epoch 2/100\n",
      " 59/121 [=============>................] - ETA: 0s - loss: 0.1795 - acc: 0.9420"
     ]
    },
    {
     "name": "stderr",
     "output_type": "stream",
     "text": [
      "/data/apps/miniforge3/envs/cse6250-project/lib/python3.9/site-packages/keras/src/engine/training.py:3079: UserWarning: You are saving your model as an HDF5 file via `model.save()`. This file format is considered legacy. We recommend using instead the native Keras format, e.g. `model.save('my_model.keras')`.\n",
      "  saving_api.save_model(\n"
     ]
    },
    {
     "name": "stdout",
     "output_type": "stream",
     "text": [
      "117/121 [============================>.] - ETA: 0s - loss: 0.1740 - acc: 0.9432\n",
      "Epoch 2: val_loss improved from 0.18674 to 0.17269, saving model to ../results/timeseries-baseline/LSTM-128-mort_icu-best_model.hdf5\n",
      "121/121 [==============================] - 0s 3ms/step - loss: 0.1733 - acc: 0.9436 - val_loss: 0.1727 - val_acc: 0.9437\n",
      "Epoch 3/100\n",
      "113/121 [===========================>..] - ETA: 0s - loss: 0.1553 - acc: 0.9485\n",
      "Epoch 3: val_loss did not improve from 0.17269\n",
      "121/121 [==============================] - 0s 3ms/step - loss: 0.1522 - acc: 0.9498 - val_loss: 0.1801 - val_acc: 0.9410\n",
      "Epoch 4/100\n",
      "111/121 [==========================>...] - ETA: 0s - loss: 0.1347 - acc: 0.9557\n",
      "Epoch 4: val_loss did not improve from 0.17269\n",
      "121/121 [==============================] - 0s 3ms/step - loss: 0.1364 - acc: 0.9551 - val_loss: 0.1753 - val_acc: 0.9391\n",
      "Epoch 5/100\n",
      "112/121 [==========================>...] - ETA: 0s - loss: 0.1192 - acc: 0.9623\n",
      "Epoch 5: val_loss did not improve from 0.17269\n",
      "121/121 [==============================] - 0s 3ms/step - loss: 0.1198 - acc: 0.9620 - val_loss: 0.1851 - val_acc: 0.9414\n",
      "138/138 [==============================] - 0s 942us/step\n",
      "0.8872515551070695 0.5074415350748835 0.939400817067635 0.37470725995316156\n"
     ]
    },
    {
     "name": "stderr",
     "output_type": "stream",
     "text": [
      "2023-11-12 23:56:49.651400: I tensorflow/core/common_runtime/gpu/gpu_device.cc:1886] Created device /job:localhost/replica:0/task:0/device:GPU:0 with 13074 MB memory:  -> device: 0, name: Quadro RTX 5000, pci bus id: 0000:2b:00.0, compute capability: 7.5\n",
      "2023-11-12 23:56:49.662870: I tensorflow/core/common_runtime/gpu/gpu_device.cc:1886] Created device /job:localhost/replica:0/task:0/device:GPU:0 with 13074 MB memory:  -> device: 0, name: Quadro RTX 5000, pci bus id: 0000:2b:00.0, compute capability: 7.5\n"
     ]
    },
    {
     "name": "stdout",
     "output_type": "stream",
     "text": [
      "Problem type:  los_3\n",
      "__________________\n",
      "Epoch 1/100\n",
      "112/121 [==========================>...] - ETA: 0s - loss: 0.6589 - acc: 0.6389\n",
      "Epoch 1: val_loss improved from inf to 0.62868, saving model to ../results/timeseries-baseline/LSTM-128-los_3-best_model.hdf5\n",
      "121/121 [==============================] - 1s 5ms/step - loss: 0.6589 - acc: 0.6386 - val_loss: 0.6287 - val_acc: 0.6567\n",
      "Epoch 2/100\n",
      " 60/121 [=============>................] - ETA: 0s - loss: 0.6267 - acc: 0.6685"
     ]
    },
    {
     "name": "stderr",
     "output_type": "stream",
     "text": [
      "/data/apps/miniforge3/envs/cse6250-project/lib/python3.9/site-packages/keras/src/engine/training.py:3079: UserWarning: You are saving your model as an HDF5 file via `model.save()`. This file format is considered legacy. We recommend using instead the native Keras format, e.g. `model.save('my_model.keras')`.\n",
      "  saving_api.save_model(\n"
     ]
    },
    {
     "name": "stdout",
     "output_type": "stream",
     "text": [
      "110/121 [==========================>...] - ETA: 0s - loss: 0.6237 - acc: 0.6714\n",
      "Epoch 2: val_loss improved from 0.62868 to 0.62263, saving model to ../results/timeseries-baseline/LSTM-128-los_3-best_model.hdf5\n",
      "121/121 [==============================] - 0s 3ms/step - loss: 0.6244 - acc: 0.6717 - val_loss: 0.6226 - val_acc: 0.6653\n",
      "Epoch 3/100\n",
      "117/121 [============================>.] - ETA: 0s - loss: 0.6034 - acc: 0.6864\n",
      "Epoch 3: val_loss improved from 0.62263 to 0.61475, saving model to ../results/timeseries-baseline/LSTM-128-los_3-best_model.hdf5\n",
      "121/121 [==============================] - 0s 3ms/step - loss: 0.6028 - acc: 0.6868 - val_loss: 0.6148 - val_acc: 0.6735\n",
      "Epoch 4/100\n",
      "109/121 [==========================>...] - ETA: 0s - loss: 0.5760 - acc: 0.7097\n",
      "Epoch 4: val_loss did not improve from 0.61475\n",
      "121/121 [==============================] - 0s 3ms/step - loss: 0.5781 - acc: 0.7079 - val_loss: 0.6226 - val_acc: 0.6612\n",
      "Epoch 5/100\n",
      "106/121 [=========================>....] - ETA: 0s - loss: 0.5445 - acc: 0.7355\n",
      "Epoch 5: val_loss did not improve from 0.61475\n",
      "121/121 [==============================] - 0s 3ms/step - loss: 0.5459 - acc: 0.7340 - val_loss: 0.6365 - val_acc: 0.6635\n",
      "Epoch 6/100\n",
      "115/121 [===========================>..] - ETA: 0s - loss: 0.5064 - acc: 0.7662\n",
      "Epoch 6: val_loss did not improve from 0.61475\n",
      "121/121 [==============================] - 0s 3ms/step - loss: 0.5069 - acc: 0.7650 - val_loss: 0.6748 - val_acc: 0.6494\n",
      "138/138 [==============================] - 0s 941us/step\n",
      "0.6868930843811544 0.630382749078749 0.6581933726736269 0.5472038484666266\n"
     ]
    },
    {
     "name": "stderr",
     "output_type": "stream",
     "text": [
      "2023-11-12 23:56:54.263943: I tensorflow/core/common_runtime/gpu/gpu_device.cc:1886] Created device /job:localhost/replica:0/task:0/device:GPU:0 with 13074 MB memory:  -> device: 0, name: Quadro RTX 5000, pci bus id: 0000:2b:00.0, compute capability: 7.5\n",
      "2023-11-12 23:56:54.275081: I tensorflow/core/common_runtime/gpu/gpu_device.cc:1886] Created device /job:localhost/replica:0/task:0/device:GPU:0 with 13074 MB memory:  -> device: 0, name: Quadro RTX 5000, pci bus id: 0000:2b:00.0, compute capability: 7.5\n"
     ]
    },
    {
     "name": "stdout",
     "output_type": "stream",
     "text": [
      "Problem type:  los_7\n",
      "__________________\n",
      "Epoch 1/100\n",
      "111/121 [==========================>...] - ETA: 0s - loss: 0.3143 - acc: 0.9003\n",
      "Epoch 1: val_loss improved from inf to 0.26579, saving model to ../results/timeseries-baseline/LSTM-128-los_7-best_model.hdf5\n",
      "121/121 [==============================] - 1s 5ms/step - loss: 0.3128 - acc: 0.9010 - val_loss: 0.2658 - val_acc: 0.9214\n",
      "Epoch 2/100\n",
      " 60/121 [=============>................] - ETA: 0s - loss: 0.2499 - acc: 0.9266"
     ]
    },
    {
     "name": "stderr",
     "output_type": "stream",
     "text": [
      "/data/apps/miniforge3/envs/cse6250-project/lib/python3.9/site-packages/keras/src/engine/training.py:3079: UserWarning: You are saving your model as an HDF5 file via `model.save()`. This file format is considered legacy. We recommend using instead the native Keras format, e.g. `model.save('my_model.keras')`.\n",
      "  saving_api.save_model(\n"
     ]
    },
    {
     "name": "stdout",
     "output_type": "stream",
     "text": [
      "114/121 [===========================>..] - ETA: 0s - loss: 0.2542 - acc: 0.9228\n",
      "Epoch 2: val_loss improved from 0.26579 to 0.26007, saving model to ../results/timeseries-baseline/LSTM-128-los_7-best_model.hdf5\n",
      "121/121 [==============================] - 0s 3ms/step - loss: 0.2537 - acc: 0.9228 - val_loss: 0.2601 - val_acc: 0.9201\n",
      "Epoch 3/100\n",
      "119/121 [============================>.] - ETA: 0s - loss: 0.2387 - acc: 0.9253\n",
      "Epoch 3: val_loss improved from 0.26007 to 0.25892, saving model to ../results/timeseries-baseline/LSTM-128-los_7-best_model.hdf5\n",
      "121/121 [==============================] - 0s 3ms/step - loss: 0.2393 - acc: 0.9250 - val_loss: 0.2589 - val_acc: 0.9228\n",
      "Epoch 4/100\n",
      "109/121 [==========================>...] - ETA: 0s - loss: 0.2243 - acc: 0.9268\n",
      "Epoch 4: val_loss improved from 0.25892 to 0.25873, saving model to ../results/timeseries-baseline/LSTM-128-los_7-best_model.hdf5\n",
      "121/121 [==============================] - 0s 3ms/step - loss: 0.2239 - acc: 0.9274 - val_loss: 0.2587 - val_acc: 0.9210\n",
      "Epoch 5/100\n",
      "101/121 [========================>.....] - ETA: 0s - loss: 0.2107 - acc: 0.9315\n",
      "Epoch 5: val_loss did not improve from 0.25873\n",
      "121/121 [==============================] - 0s 3ms/step - loss: 0.2094 - acc: 0.9324 - val_loss: 0.2703 - val_acc: 0.9201\n",
      "Epoch 6/100\n",
      "115/121 [===========================>..] - ETA: 0s - loss: 0.1908 - acc: 0.9368\n",
      "Epoch 6: val_loss did not improve from 0.25873\n",
      "121/121 [==============================] - 0s 3ms/step - loss: 0.1908 - acc: 0.9368 - val_loss: 0.2734 - val_acc: 0.9173\n",
      "Epoch 7/100\n",
      "112/121 [==========================>...] - ETA: 0s - loss: 0.1750 - acc: 0.9442\n",
      "Epoch 7: val_loss did not improve from 0.25873\n",
      "121/121 [==============================] - 0s 3ms/step - loss: 0.1753 - acc: 0.9448 - val_loss: 0.2936 - val_acc: 0.9119\n",
      "138/138 [==============================] - 0s 914us/step\n",
      "0.7043598279927867 0.17824536729409854 0.9169314571039492 0.046875\n"
     ]
    },
    {
     "name": "stderr",
     "output_type": "stream",
     "text": [
      "2023-11-12 23:56:59.205945: I tensorflow/core/common_runtime/gpu/gpu_device.cc:1886] Created device /job:localhost/replica:0/task:0/device:GPU:0 with 13074 MB memory:  -> device: 0, name: Quadro RTX 5000, pci bus id: 0000:2b:00.0, compute capability: 7.5\n",
      "2023-11-12 23:56:59.217037: I tensorflow/core/common_runtime/gpu/gpu_device.cc:1886] Created device /job:localhost/replica:0/task:0/device:GPU:0 with 13074 MB memory:  -> device: 0, name: Quadro RTX 5000, pci bus id: 0000:2b:00.0, compute capability: 7.5\n"
     ]
    },
    {
     "name": "stdout",
     "output_type": "stream",
     "text": [
      "Iteration number:  4\n",
      "=============================\n",
      "Problem type:  mort_hosp\n",
      "__________________\n",
      "Epoch 1/100\n",
      "116/121 [===========================>..] - ETA: 0s - loss: 0.3013 - acc: 0.8928\n",
      "Epoch 1: val_loss improved from inf to 0.24908, saving model to ../results/timeseries-baseline/LSTM-128-mort_hosp-best_model.hdf5\n",
      "121/121 [==============================] - 1s 5ms/step - loss: 0.3004 - acc: 0.8929 - val_loss: 0.2491 - val_acc: 0.9119\n",
      "Epoch 2/100\n",
      " 58/121 [=============>................] - ETA: 0s - loss: 0.2329 - acc: 0.9172"
     ]
    },
    {
     "name": "stderr",
     "output_type": "stream",
     "text": [
      "/data/apps/miniforge3/envs/cse6250-project/lib/python3.9/site-packages/keras/src/engine/training.py:3079: UserWarning: You are saving your model as an HDF5 file via `model.save()`. This file format is considered legacy. We recommend using instead the native Keras format, e.g. `model.save('my_model.keras')`.\n",
      "  saving_api.save_model(\n"
     ]
    },
    {
     "name": "stdout",
     "output_type": "stream",
     "text": [
      "104/121 [========================>.....] - ETA: 0s - loss: 0.2350 - acc: 0.9177\n",
      "Epoch 2: val_loss improved from 0.24908 to 0.24349, saving model to ../results/timeseries-baseline/LSTM-128-mort_hosp-best_model.hdf5\n",
      "121/121 [==============================] - 0s 3ms/step - loss: 0.2330 - acc: 0.9183 - val_loss: 0.2435 - val_acc: 0.9074\n",
      "Epoch 3/100\n",
      "114/121 [===========================>..] - ETA: 0s - loss: 0.2148 - acc: 0.9239\n",
      "Epoch 3: val_loss improved from 0.24349 to 0.24120, saving model to ../results/timeseries-baseline/LSTM-128-mort_hosp-best_model.hdf5\n",
      "121/121 [==============================] - 0s 3ms/step - loss: 0.2134 - acc: 0.9246 - val_loss: 0.2412 - val_acc: 0.9092\n",
      "Epoch 4/100\n",
      "118/121 [============================>.] - ETA: 0s - loss: 0.1935 - acc: 0.9329\n",
      "Epoch 4: val_loss did not improve from 0.24120\n",
      "121/121 [==============================] - 0s 3ms/step - loss: 0.1938 - acc: 0.9328 - val_loss: 0.2545 - val_acc: 0.9087\n",
      "Epoch 5/100\n",
      "113/121 [===========================>..] - ETA: 0s - loss: 0.1720 - acc: 0.9424\n",
      "Epoch 5: val_loss did not improve from 0.24120\n",
      "121/121 [==============================] - 0s 3ms/step - loss: 0.1725 - acc: 0.9424 - val_loss: 0.2509 - val_acc: 0.9096\n",
      "Epoch 6/100\n",
      "120/121 [============================>.] - ETA: 0s - loss: 0.1523 - acc: 0.9495\n",
      "Epoch 6: val_loss did not improve from 0.24120\n",
      "121/121 [==============================] - 0s 3ms/step - loss: 0.1525 - acc: 0.9494 - val_loss: 0.2699 - val_acc: 0.9055\n",
      "138/138 [==============================] - 0s 924us/step\n",
      "0.8719696629158715 0.545630498553524 0.9137539718565593 0.4492753623188406\n"
     ]
    },
    {
     "name": "stderr",
     "output_type": "stream",
     "text": [
      "2023-11-12 23:57:03.845742: I tensorflow/core/common_runtime/gpu/gpu_device.cc:1886] Created device /job:localhost/replica:0/task:0/device:GPU:0 with 13074 MB memory:  -> device: 0, name: Quadro RTX 5000, pci bus id: 0000:2b:00.0, compute capability: 7.5\n",
      "2023-11-12 23:57:03.856406: I tensorflow/core/common_runtime/gpu/gpu_device.cc:1886] Created device /job:localhost/replica:0/task:0/device:GPU:0 with 13074 MB memory:  -> device: 0, name: Quadro RTX 5000, pci bus id: 0000:2b:00.0, compute capability: 7.5\n"
     ]
    },
    {
     "name": "stdout",
     "output_type": "stream",
     "text": [
      "Problem type:  mort_icu\n",
      "__________________\n",
      "Epoch 1/100\n",
      "112/121 [==========================>...] - ETA: 0s - loss: 0.2581 - acc: 0.9153\n",
      "Epoch 1: val_loss improved from inf to 0.18030, saving model to ../results/timeseries-baseline/LSTM-128-mort_icu-best_model.hdf5\n",
      "121/121 [==============================] - 1s 5ms/step - loss: 0.2520 - acc: 0.9173 - val_loss: 0.1803 - val_acc: 0.9391\n",
      "Epoch 2/100\n",
      " 58/121 [=============>................] - ETA: 0s - loss: 0.1742 - acc: 0.9441"
     ]
    },
    {
     "name": "stderr",
     "output_type": "stream",
     "text": [
      "/data/apps/miniforge3/envs/cse6250-project/lib/python3.9/site-packages/keras/src/engine/training.py:3079: UserWarning: You are saving your model as an HDF5 file via `model.save()`. This file format is considered legacy. We recommend using instead the native Keras format, e.g. `model.save('my_model.keras')`.\n",
      "  saving_api.save_model(\n"
     ]
    },
    {
     "name": "stdout",
     "output_type": "stream",
     "text": [
      "112/121 [==========================>...] - ETA: 0s - loss: 0.1733 - acc: 0.9434\n",
      "Epoch 2: val_loss improved from 0.18030 to 0.17406, saving model to ../results/timeseries-baseline/LSTM-128-mort_icu-best_model.hdf5\n",
      "121/121 [==============================] - 0s 3ms/step - loss: 0.1733 - acc: 0.9436 - val_loss: 0.1741 - val_acc: 0.9414\n",
      "Epoch 3/100\n",
      "113/121 [===========================>..] - ETA: 0s - loss: 0.1539 - acc: 0.9481\n",
      "Epoch 3: val_loss improved from 0.17406 to 0.17282, saving model to ../results/timeseries-baseline/LSTM-128-mort_icu-best_model.hdf5\n",
      "121/121 [==============================] - 0s 3ms/step - loss: 0.1539 - acc: 0.9485 - val_loss: 0.1728 - val_acc: 0.9414\n",
      "Epoch 4/100\n",
      "119/121 [============================>.] - ETA: 0s - loss: 0.1363 - acc: 0.9558\n",
      "Epoch 4: val_loss did not improve from 0.17282\n",
      "121/121 [==============================] - 0s 3ms/step - loss: 0.1358 - acc: 0.9558 - val_loss: 0.1833 - val_acc: 0.9382\n",
      "Epoch 5/100\n",
      "116/121 [===========================>..] - ETA: 0s - loss: 0.1206 - acc: 0.9617\n",
      "Epoch 5: val_loss did not improve from 0.17282\n",
      "121/121 [==============================] - 0s 3ms/step - loss: 0.1206 - acc: 0.9622 - val_loss: 0.1812 - val_acc: 0.9387\n",
      "Epoch 6/100\n",
      "111/121 [==========================>...] - ETA: 0s - loss: 0.1053 - acc: 0.9688\n",
      "Epoch 6: val_loss did not improve from 0.17282\n",
      "121/121 [==============================] - 0s 3ms/step - loss: 0.1054 - acc: 0.9689 - val_loss: 0.2053 - val_acc: 0.9351\n",
      "138/138 [==============================] - 0s 958us/step\n",
      "0.8889441781559049 0.49711356114645683 0.9405356332274172 0.4329004329004329\n"
     ]
    },
    {
     "name": "stderr",
     "output_type": "stream",
     "text": [
      "2023-11-12 23:57:08.445478: I tensorflow/core/common_runtime/gpu/gpu_device.cc:1886] Created device /job:localhost/replica:0/task:0/device:GPU:0 with 13074 MB memory:  -> device: 0, name: Quadro RTX 5000, pci bus id: 0000:2b:00.0, compute capability: 7.5\n",
      "2023-11-12 23:57:08.456831: I tensorflow/core/common_runtime/gpu/gpu_device.cc:1886] Created device /job:localhost/replica:0/task:0/device:GPU:0 with 13074 MB memory:  -> device: 0, name: Quadro RTX 5000, pci bus id: 0000:2b:00.0, compute capability: 7.5\n"
     ]
    },
    {
     "name": "stdout",
     "output_type": "stream",
     "text": [
      "Problem type:  los_3\n",
      "__________________\n",
      "Epoch 1/100\n",
      "111/121 [==========================>...] - ETA: 0s - loss: 0.6563 - acc: 0.6351\n",
      "Epoch 1: val_loss improved from inf to 0.62276, saving model to ../results/timeseries-baseline/LSTM-128-los_3-best_model.hdf5\n",
      "121/121 [==============================] - 1s 5ms/step - loss: 0.6547 - acc: 0.6369 - val_loss: 0.6228 - val_acc: 0.6726\n",
      "Epoch 2/100\n",
      " 57/121 [=============>................] - ETA: 0s - loss: 0.6256 - acc: 0.6698"
     ]
    },
    {
     "name": "stderr",
     "output_type": "stream",
     "text": [
      "/data/apps/miniforge3/envs/cse6250-project/lib/python3.9/site-packages/keras/src/engine/training.py:3079: UserWarning: You are saving your model as an HDF5 file via `model.save()`. This file format is considered legacy. We recommend using instead the native Keras format, e.g. `model.save('my_model.keras')`.\n",
      "  saving_api.save_model(\n"
     ]
    },
    {
     "name": "stdout",
     "output_type": "stream",
     "text": [
      "110/121 [==========================>...] - ETA: 0s - loss: 0.6209 - acc: 0.6739\n",
      "Epoch 2: val_loss improved from 0.62276 to 0.62272, saving model to ../results/timeseries-baseline/LSTM-128-los_3-best_model.hdf5\n",
      "121/121 [==============================] - 0s 3ms/step - loss: 0.6216 - acc: 0.6728 - val_loss: 0.6227 - val_acc: 0.6603\n",
      "Epoch 3/100\n",
      "116/121 [===========================>..] - ETA: 0s - loss: 0.6007 - acc: 0.6895\n",
      "Epoch 3: val_loss improved from 0.62272 to 0.62039, saving model to ../results/timeseries-baseline/LSTM-128-los_3-best_model.hdf5\n",
      "121/121 [==============================] - 0s 3ms/step - loss: 0.6013 - acc: 0.6887 - val_loss: 0.6204 - val_acc: 0.6621\n",
      "Epoch 4/100\n",
      "106/121 [=========================>....] - ETA: 0s - loss: 0.5770 - acc: 0.7080\n",
      "Epoch 4: val_loss improved from 0.62039 to 0.62009, saving model to ../results/timeseries-baseline/LSTM-128-los_3-best_model.hdf5\n",
      "121/121 [==============================] - 0s 3ms/step - loss: 0.5786 - acc: 0.7082 - val_loss: 0.6201 - val_acc: 0.6649\n",
      "Epoch 5/100\n",
      "110/121 [==========================>...] - ETA: 0s - loss: 0.5465 - acc: 0.7347\n",
      "Epoch 5: val_loss did not improve from 0.62009\n",
      "121/121 [==============================] - 0s 3ms/step - loss: 0.5477 - acc: 0.7342 - val_loss: 0.6471 - val_acc: 0.6490\n",
      "Epoch 6/100\n",
      "113/121 [===========================>..] - ETA: 0s - loss: 0.5124 - acc: 0.7604\n",
      "Epoch 6: val_loss did not improve from 0.62009\n",
      "121/121 [==============================] - 0s 3ms/step - loss: 0.5130 - acc: 0.7601 - val_loss: 0.6654 - val_acc: 0.6385\n",
      "Epoch 7/100\n",
      "117/121 [============================>.] - ETA: 0s - loss: 0.4692 - acc: 0.7909\n",
      "Epoch 7: val_loss did not improve from 0.62009\n",
      "121/121 [==============================] - 0s 3ms/step - loss: 0.4698 - acc: 0.7898 - val_loss: 0.6956 - val_acc: 0.6490\n",
      "138/138 [==============================] - 0s 945us/step\n",
      "0.6814935447491122 0.6248113697247735 0.6554698138901498 0.5476758045292014\n"
     ]
    },
    {
     "name": "stderr",
     "output_type": "stream",
     "text": [
      "2023-11-12 23:57:13.447699: I tensorflow/core/common_runtime/gpu/gpu_device.cc:1886] Created device /job:localhost/replica:0/task:0/device:GPU:0 with 13074 MB memory:  -> device: 0, name: Quadro RTX 5000, pci bus id: 0000:2b:00.0, compute capability: 7.5\n",
      "2023-11-12 23:57:13.459572: I tensorflow/core/common_runtime/gpu/gpu_device.cc:1886] Created device /job:localhost/replica:0/task:0/device:GPU:0 with 13074 MB memory:  -> device: 0, name: Quadro RTX 5000, pci bus id: 0000:2b:00.0, compute capability: 7.5\n"
     ]
    },
    {
     "name": "stdout",
     "output_type": "stream",
     "text": [
      "Problem type:  los_7\n",
      "__________________\n",
      "Epoch 1/100\n",
      "118/121 [============================>.] - ETA: 0s - loss: 0.3092 - acc: 0.9043\n",
      "Epoch 1: val_loss improved from inf to 0.26369, saving model to ../results/timeseries-baseline/LSTM-128-los_7-best_model.hdf5\n",
      "121/121 [==============================] - 1s 5ms/step - loss: 0.3077 - acc: 0.9048 - val_loss: 0.2637 - val_acc: 0.9233\n",
      "Epoch 2/100\n",
      " 58/121 [=============>................] - ETA: 0s - loss: 0.2524 - acc: 0.9239"
     ]
    },
    {
     "name": "stderr",
     "output_type": "stream",
     "text": [
      "/data/apps/miniforge3/envs/cse6250-project/lib/python3.9/site-packages/keras/src/engine/training.py:3079: UserWarning: You are saving your model as an HDF5 file via `model.save()`. This file format is considered legacy. We recommend using instead the native Keras format, e.g. `model.save('my_model.keras')`.\n",
      "  saving_api.save_model(\n"
     ]
    },
    {
     "name": "stdout",
     "output_type": "stream",
     "text": [
      "112/121 [==========================>...] - ETA: 0s - loss: 0.2528 - acc: 0.9238\n",
      "Epoch 2: val_loss improved from 0.26369 to 0.25894, saving model to ../results/timeseries-baseline/LSTM-128-los_7-best_model.hdf5\n",
      "121/121 [==============================] - 0s 3ms/step - loss: 0.2548 - acc: 0.9226 - val_loss: 0.2589 - val_acc: 0.9228\n",
      "Epoch 3/100\n",
      "108/121 [=========================>....] - ETA: 0s - loss: 0.2450 - acc: 0.9219\n",
      "Epoch 3: val_loss did not improve from 0.25894\n",
      "121/121 [==============================] - 0s 3ms/step - loss: 0.2408 - acc: 0.9237 - val_loss: 0.2632 - val_acc: 0.9228\n",
      "Epoch 4/100\n",
      "120/121 [============================>.] - ETA: 0s - loss: 0.2275 - acc: 0.9265\n",
      "Epoch 4: val_loss did not improve from 0.25894\n",
      "121/121 [==============================] - 0s 3ms/step - loss: 0.2274 - acc: 0.9265 - val_loss: 0.2601 - val_acc: 0.9192\n",
      "Epoch 5/100\n",
      "109/121 [==========================>...] - ETA: 0s - loss: 0.2093 - acc: 0.9311\n",
      "Epoch 5: val_loss did not improve from 0.25894\n",
      "121/121 [==============================] - 0s 3ms/step - loss: 0.2106 - acc: 0.9312 - val_loss: 0.2691 - val_acc: 0.9183\n",
      "138/138 [==============================] - 0s 967us/step\n",
      "0.7270959911222084 0.1920313363056747 0.9171584203359056 0.021447721179624665\n"
     ]
    },
    {
     "name": "stderr",
     "output_type": "stream",
     "text": [
      "2023-11-12 23:57:17.841797: I tensorflow/core/common_runtime/gpu/gpu_device.cc:1886] Created device /job:localhost/replica:0/task:0/device:GPU:0 with 13074 MB memory:  -> device: 0, name: Quadro RTX 5000, pci bus id: 0000:2b:00.0, compute capability: 7.5\n",
      "2023-11-12 23:57:17.852473: I tensorflow/core/common_runtime/gpu/gpu_device.cc:1886] Created device /job:localhost/replica:0/task:0/device:GPU:0 with 13074 MB memory:  -> device: 0, name: Quadro RTX 5000, pci bus id: 0000:2b:00.0, compute capability: 7.5\n"
     ]
    },
    {
     "name": "stdout",
     "output_type": "stream",
     "text": [
      "Iteration number:  5\n",
      "=============================\n",
      "Problem type:  mort_hosp\n",
      "__________________\n",
      "Epoch 1/100\n",
      "118/121 [============================>.] - ETA: 0s - loss: 0.3050 - acc: 0.8892\n",
      "Epoch 1: val_loss improved from inf to 0.25345, saving model to ../results/timeseries-baseline/LSTM-128-mort_hosp-best_model.hdf5\n",
      "121/121 [==============================] - 1s 5ms/step - loss: 0.3050 - acc: 0.8893 - val_loss: 0.2535 - val_acc: 0.9087\n",
      "Epoch 2/100\n",
      " 65/121 [===============>..............] - ETA: 0s - loss: 0.2357 - acc: 0.9174"
     ]
    },
    {
     "name": "stderr",
     "output_type": "stream",
     "text": [
      "/data/apps/miniforge3/envs/cse6250-project/lib/python3.9/site-packages/keras/src/engine/training.py:3079: UserWarning: You are saving your model as an HDF5 file via `model.save()`. This file format is considered legacy. We recommend using instead the native Keras format, e.g. `model.save('my_model.keras')`.\n",
      "  saving_api.save_model(\n"
     ]
    },
    {
     "name": "stdout",
     "output_type": "stream",
     "text": [
      "119/121 [============================>.] - ETA: 0s - loss: 0.2354 - acc: 0.9166\n",
      "Epoch 2: val_loss improved from 0.25345 to 0.24489, saving model to ../results/timeseries-baseline/LSTM-128-mort_hosp-best_model.hdf5\n",
      "121/121 [==============================] - 0s 3ms/step - loss: 0.2353 - acc: 0.9166 - val_loss: 0.2449 - val_acc: 0.9087\n",
      "Epoch 3/100\n",
      "108/121 [=========================>....] - ETA: 0s - loss: 0.2099 - acc: 0.9272\n",
      "Epoch 3: val_loss improved from 0.24489 to 0.24260, saving model to ../results/timeseries-baseline/LSTM-128-mort_hosp-best_model.hdf5\n",
      "121/121 [==============================] - 0s 3ms/step - loss: 0.2106 - acc: 0.9272 - val_loss: 0.2426 - val_acc: 0.9110\n",
      "Epoch 4/100\n",
      "120/121 [============================>.] - ETA: 0s - loss: 0.1895 - acc: 0.9347\n",
      "Epoch 4: val_loss did not improve from 0.24260\n",
      "121/121 [==============================] - 0s 3ms/step - loss: 0.1897 - acc: 0.9346 - val_loss: 0.2519 - val_acc: 0.9110\n",
      "Epoch 5/100\n",
      "115/121 [===========================>..] - ETA: 0s - loss: 0.1685 - acc: 0.9408\n",
      "Epoch 5: val_loss did not improve from 0.24260\n",
      "121/121 [==============================] - 0s 3ms/step - loss: 0.1699 - acc: 0.9407 - val_loss: 0.2510 - val_acc: 0.9083\n",
      "Epoch 6/100\n",
      "115/121 [===========================>..] - ETA: 0s - loss: 0.1480 - acc: 0.9510\n",
      "Epoch 6: val_loss did not improve from 0.24260\n",
      "121/121 [==============================] - 0s 3ms/step - loss: 0.1499 - acc: 0.9499 - val_loss: 0.2693 - val_acc: 0.9042\n",
      "138/138 [==============================] - 0s 887us/step\n",
      "0.8748514042870303 0.5611216573845044 0.9144348615524285 0.42965204236006055\n"
     ]
    },
    {
     "name": "stderr",
     "output_type": "stream",
     "text": [
      "2023-11-12 23:57:22.500799: I tensorflow/core/common_runtime/gpu/gpu_device.cc:1886] Created device /job:localhost/replica:0/task:0/device:GPU:0 with 13074 MB memory:  -> device: 0, name: Quadro RTX 5000, pci bus id: 0000:2b:00.0, compute capability: 7.5\n",
      "2023-11-12 23:57:22.514091: I tensorflow/core/common_runtime/gpu/gpu_device.cc:1886] Created device /job:localhost/replica:0/task:0/device:GPU:0 with 13074 MB memory:  -> device: 0, name: Quadro RTX 5000, pci bus id: 0000:2b:00.0, compute capability: 7.5\n"
     ]
    },
    {
     "name": "stdout",
     "output_type": "stream",
     "text": [
      "Problem type:  mort_icu\n",
      "__________________\n",
      "Epoch 1/100\n",
      "116/121 [===========================>..] - ETA: 0s - loss: 0.2396 - acc: 0.9207\n",
      "Epoch 1: val_loss improved from inf to 0.17872, saving model to ../results/timeseries-baseline/LSTM-128-mort_icu-best_model.hdf5\n",
      "121/121 [==============================] - 1s 5ms/step - loss: 0.2373 - acc: 0.9215 - val_loss: 0.1787 - val_acc: 0.9410\n",
      "Epoch 2/100\n",
      " 61/121 [==============>...............] - ETA: 0s - loss: 0.1699 - acc: 0.9466"
     ]
    },
    {
     "name": "stderr",
     "output_type": "stream",
     "text": [
      "/data/apps/miniforge3/envs/cse6250-project/lib/python3.9/site-packages/keras/src/engine/training.py:3079: UserWarning: You are saving your model as an HDF5 file via `model.save()`. This file format is considered legacy. We recommend using instead the native Keras format, e.g. `model.save('my_model.keras')`.\n",
      "  saving_api.save_model(\n"
     ]
    },
    {
     "name": "stdout",
     "output_type": "stream",
     "text": [
      "119/121 [============================>.] - ETA: 0s - loss: 0.1727 - acc: 0.9441\n",
      "Epoch 2: val_loss improved from 0.17872 to 0.17106, saving model to ../results/timeseries-baseline/LSTM-128-mort_icu-best_model.hdf5\n",
      "121/121 [==============================] - 0s 3ms/step - loss: 0.1729 - acc: 0.9441 - val_loss: 0.1711 - val_acc: 0.9428\n",
      "Epoch 3/100\n",
      "107/121 [=========================>....] - ETA: 0s - loss: 0.1511 - acc: 0.9499\n",
      "Epoch 3: val_loss improved from 0.17106 to 0.17024, saving model to ../results/timeseries-baseline/LSTM-128-mort_icu-best_model.hdf5\n",
      "121/121 [==============================] - 0s 3ms/step - loss: 0.1528 - acc: 0.9495 - val_loss: 0.1702 - val_acc: 0.9437\n",
      "Epoch 4/100\n",
      "103/121 [========================>.....] - ETA: 0s - loss: 0.1367 - acc: 0.9550\n",
      "Epoch 4: val_loss improved from 0.17024 to 0.17018, saving model to ../results/timeseries-baseline/LSTM-128-mort_icu-best_model.hdf5\n",
      "121/121 [==============================] - 0s 3ms/step - loss: 0.1375 - acc: 0.9551 - val_loss: 0.1702 - val_acc: 0.9428\n",
      "Epoch 5/100\n",
      "121/121 [==============================] - ETA: 0s - loss: 0.1215 - acc: 0.9607\n",
      "Epoch 5: val_loss did not improve from 0.17018\n",
      "121/121 [==============================] - 0s 3ms/step - loss: 0.1215 - acc: 0.9607 - val_loss: 0.1772 - val_acc: 0.9405\n",
      "Epoch 6/100\n",
      "117/121 [============================>.] - ETA: 0s - loss: 0.1061 - acc: 0.9677\n",
      "Epoch 6: val_loss did not improve from 0.17018\n",
      "121/121 [==============================] - 0s 3ms/step - loss: 0.1066 - acc: 0.9678 - val_loss: 0.1924 - val_acc: 0.9328\n",
      "Epoch 7/100\n",
      "108/121 [=========================>....] - ETA: 0s - loss: 0.0924 - acc: 0.9723\n",
      "Epoch 7: val_loss did not improve from 0.17018\n",
      "121/121 [==============================] - 0s 3ms/step - loss: 0.0922 - acc: 0.9720 - val_loss: 0.2017 - val_acc: 0.9328\n",
      "138/138 [==============================] - 0s 926us/step\n",
      "0.8776898549852532 0.4814574205127246 0.9389468906037222 0.42643923240938164\n"
     ]
    },
    {
     "name": "stderr",
     "output_type": "stream",
     "text": [
      "2023-11-12 23:57:27.505236: I tensorflow/core/common_runtime/gpu/gpu_device.cc:1886] Created device /job:localhost/replica:0/task:0/device:GPU:0 with 13074 MB memory:  -> device: 0, name: Quadro RTX 5000, pci bus id: 0000:2b:00.0, compute capability: 7.5\n",
      "2023-11-12 23:57:27.515568: I tensorflow/core/common_runtime/gpu/gpu_device.cc:1886] Created device /job:localhost/replica:0/task:0/device:GPU:0 with 13074 MB memory:  -> device: 0, name: Quadro RTX 5000, pci bus id: 0000:2b:00.0, compute capability: 7.5\n"
     ]
    },
    {
     "name": "stdout",
     "output_type": "stream",
     "text": [
      "Problem type:  los_3\n",
      "__________________\n",
      "Epoch 1/100\n",
      "106/121 [=========================>....] - ETA: 0s - loss: 0.6594 - acc: 0.6357\n",
      "Epoch 1: val_loss improved from inf to 0.62213, saving model to ../results/timeseries-baseline/LSTM-128-los_3-best_model.hdf5\n",
      "121/121 [==============================] - 1s 5ms/step - loss: 0.6569 - acc: 0.6396 - val_loss: 0.6221 - val_acc: 0.6680\n",
      "Epoch 2/100\n",
      " 60/121 [=============>................] - ETA: 0s - loss: 0.6221 - acc: 0.6762"
     ]
    },
    {
     "name": "stderr",
     "output_type": "stream",
     "text": [
      "/data/apps/miniforge3/envs/cse6250-project/lib/python3.9/site-packages/keras/src/engine/training.py:3079: UserWarning: You are saving your model as an HDF5 file via `model.save()`. This file format is considered legacy. We recommend using instead the native Keras format, e.g. `model.save('my_model.keras')`.\n",
      "  saving_api.save_model(\n"
     ]
    },
    {
     "name": "stdout",
     "output_type": "stream",
     "text": [
      "114/121 [===========================>..] - ETA: 0s - loss: 0.6217 - acc: 0.6739\n",
      "Epoch 2: val_loss improved from 0.62213 to 0.62108, saving model to ../results/timeseries-baseline/LSTM-128-los_3-best_model.hdf5\n",
      "121/121 [==============================] - 0s 3ms/step - loss: 0.6218 - acc: 0.6737 - val_loss: 0.6211 - val_acc: 0.6703\n",
      "Epoch 3/100\n",
      "120/121 [============================>.] - ETA: 0s - loss: 0.5995 - acc: 0.6930\n",
      "Epoch 3: val_loss improved from 0.62108 to 0.61238, saving model to ../results/timeseries-baseline/LSTM-128-los_3-best_model.hdf5\n",
      "121/121 [==============================] - 0s 3ms/step - loss: 0.6000 - acc: 0.6927 - val_loss: 0.6124 - val_acc: 0.6748\n",
      "Epoch 4/100\n",
      "112/121 [==========================>...] - ETA: 0s - loss: 0.5743 - acc: 0.7132\n",
      "Epoch 4: val_loss did not improve from 0.61238\n",
      "121/121 [==============================] - 0s 4ms/step - loss: 0.5742 - acc: 0.7140 - val_loss: 0.6257 - val_acc: 0.6639\n",
      "Epoch 5/100\n",
      "114/121 [===========================>..] - ETA: 0s - loss: 0.5395 - acc: 0.7414\n",
      "Epoch 5: val_loss did not improve from 0.61238\n",
      "121/121 [==============================] - 0s 4ms/step - loss: 0.5399 - acc: 0.7409 - val_loss: 0.6483 - val_acc: 0.6394\n",
      "Epoch 6/100\n",
      "109/121 [==========================>...] - ETA: 0s - loss: 0.4996 - acc: 0.7722\n",
      "Epoch 6: val_loss did not improve from 0.61238\n",
      "121/121 [==============================] - 0s 3ms/step - loss: 0.5004 - acc: 0.7717 - val_loss: 0.6704 - val_acc: 0.6508\n",
      "138/138 [==============================] - 0s 914us/step\n",
      "0.693385682304028 0.6330168272350793 0.6534271448025419 0.5549402506557854\n"
     ]
    },
    {
     "name": "stderr",
     "output_type": "stream",
     "text": [
      "2023-11-12 23:57:32.497641: I tensorflow/core/common_runtime/gpu/gpu_device.cc:1886] Created device /job:localhost/replica:0/task:0/device:GPU:0 with 13074 MB memory:  -> device: 0, name: Quadro RTX 5000, pci bus id: 0000:2b:00.0, compute capability: 7.5\n",
      "2023-11-12 23:57:32.508096: I tensorflow/core/common_runtime/gpu/gpu_device.cc:1886] Created device /job:localhost/replica:0/task:0/device:GPU:0 with 13074 MB memory:  -> device: 0, name: Quadro RTX 5000, pci bus id: 0000:2b:00.0, compute capability: 7.5\n"
     ]
    },
    {
     "name": "stdout",
     "output_type": "stream",
     "text": [
      "Problem type:  los_7\n",
      "__________________\n",
      "Epoch 1/100\n",
      "120/121 [============================>.] - ETA: 0s - loss: 0.3082 - acc: 0.9036\n",
      "Epoch 1: val_loss improved from inf to 0.26897, saving model to ../results/timeseries-baseline/LSTM-128-los_7-best_model.hdf5\n",
      "121/121 [==============================] - 1s 5ms/step - loss: 0.3074 - acc: 0.9039 - val_loss: 0.2690 - val_acc: 0.9219\n",
      "Epoch 2/100\n",
      " 62/121 [==============>...............] - ETA: 0s - loss: 0.2501 - acc: 0.9239"
     ]
    },
    {
     "name": "stderr",
     "output_type": "stream",
     "text": [
      "/data/apps/miniforge3/envs/cse6250-project/lib/python3.9/site-packages/keras/src/engine/training.py:3079: UserWarning: You are saving your model as an HDF5 file via `model.save()`. This file format is considered legacy. We recommend using instead the native Keras format, e.g. `model.save('my_model.keras')`.\n",
      "  saving_api.save_model(\n"
     ]
    },
    {
     "name": "stdout",
     "output_type": "stream",
     "text": [
      "103/121 [========================>.....] - ETA: 0s - loss: 0.2571 - acc: 0.9213\n",
      "Epoch 2: val_loss improved from 0.26897 to 0.26520, saving model to ../results/timeseries-baseline/LSTM-128-los_7-best_model.hdf5\n",
      "121/121 [==============================] - 0s 3ms/step - loss: 0.2548 - acc: 0.9223 - val_loss: 0.2652 - val_acc: 0.9223\n",
      "Epoch 3/100\n",
      "121/121 [==============================] - ETA: 0s - loss: 0.2392 - acc: 0.9242\n",
      "Epoch 3: val_loss improved from 0.26520 to 0.25835, saving model to ../results/timeseries-baseline/LSTM-128-los_7-best_model.hdf5\n",
      "121/121 [==============================] - 0s 3ms/step - loss: 0.2392 - acc: 0.9242 - val_loss: 0.2584 - val_acc: 0.9214\n",
      "Epoch 4/100\n",
      "116/121 [===========================>..] - ETA: 0s - loss: 0.2257 - acc: 0.9271\n",
      "Epoch 4: val_loss did not improve from 0.25835\n",
      "121/121 [==============================] - 0s 4ms/step - loss: 0.2255 - acc: 0.9272 - val_loss: 0.2676 - val_acc: 0.9196\n",
      "Epoch 5/100\n",
      "116/121 [===========================>..] - ETA: 0s - loss: 0.2075 - acc: 0.9320\n",
      "Epoch 5: val_loss did not improve from 0.25835\n",
      "121/121 [==============================] - 0s 3ms/step - loss: 0.2067 - acc: 0.9326 - val_loss: 0.2847 - val_acc: 0.9173\n",
      "Epoch 6/100\n",
      "117/121 [============================>.] - ETA: 0s - loss: 0.1945 - acc: 0.9365\n",
      "Epoch 6: val_loss did not improve from 0.25835\n",
      "121/121 [==============================] - 0s 3ms/step - loss: 0.1936 - acc: 0.9368 - val_loss: 0.2781 - val_acc: 0.9178\n",
      "138/138 [==============================] - 0s 895us/step\n",
      "0.716708281315023 0.19210548799107374 0.9192010894235134 0.016574585635359115\n"
     ]
    },
    {
     "name": "stderr",
     "output_type": "stream",
     "text": [
      "2023-11-12 23:57:37.177640: I tensorflow/core/common_runtime/gpu/gpu_device.cc:1886] Created device /job:localhost/replica:0/task:0/device:GPU:0 with 13074 MB memory:  -> device: 0, name: Quadro RTX 5000, pci bus id: 0000:2b:00.0, compute capability: 7.5\n",
      "2023-11-12 23:57:37.190221: I tensorflow/core/common_runtime/gpu/gpu_device.cc:1886] Created device /job:localhost/replica:0/task:0/device:GPU:0 with 13074 MB memory:  -> device: 0, name: Quadro RTX 5000, pci bus id: 0000:2b:00.0, compute capability: 7.5\n"
     ]
    },
    {
     "name": "stdout",
     "output_type": "stream",
     "text": [
      "Iteration number:  6\n",
      "=============================\n",
      "Problem type:  mort_hosp\n",
      "__________________\n",
      "Epoch 1/100\n",
      "109/121 [==========================>...] - ETA: 0s - loss: 0.3052 - acc: 0.8919\n",
      "Epoch 1: val_loss improved from inf to 0.24794, saving model to ../results/timeseries-baseline/LSTM-128-mort_hosp-best_model.hdf5\n",
      "121/121 [==============================] - 2s 6ms/step - loss: 0.3017 - acc: 0.8931 - val_loss: 0.2479 - val_acc: 0.9164\n",
      "Epoch 2/100\n",
      " 65/121 [===============>..............] - ETA: 0s - loss: 0.2372 - acc: 0.9181"
     ]
    },
    {
     "name": "stderr",
     "output_type": "stream",
     "text": [
      "/data/apps/miniforge3/envs/cse6250-project/lib/python3.9/site-packages/keras/src/engine/training.py:3079: UserWarning: You are saving your model as an HDF5 file via `model.save()`. This file format is considered legacy. We recommend using instead the native Keras format, e.g. `model.save('my_model.keras')`.\n",
      "  saving_api.save_model(\n"
     ]
    },
    {
     "name": "stdout",
     "output_type": "stream",
     "text": [
      "107/121 [=========================>....] - ETA: 0s - loss: 0.2358 - acc: 0.9174\n",
      "Epoch 2: val_loss improved from 0.24794 to 0.23559, saving model to ../results/timeseries-baseline/LSTM-128-mort_hosp-best_model.hdf5\n",
      "121/121 [==============================] - 0s 3ms/step - loss: 0.2355 - acc: 0.9174 - val_loss: 0.2356 - val_acc: 0.9151\n",
      "Epoch 3/100\n",
      "109/121 [==========================>...] - ETA: 0s - loss: 0.2110 - acc: 0.9265\n",
      "Epoch 3: val_loss did not improve from 0.23559\n",
      "121/121 [==============================] - 0s 3ms/step - loss: 0.2125 - acc: 0.9257 - val_loss: 0.2418 - val_acc: 0.9137\n",
      "Epoch 4/100\n",
      "108/121 [=========================>....] - ETA: 0s - loss: 0.1920 - acc: 0.9345\n",
      "Epoch 4: val_loss did not improve from 0.23559\n",
      "121/121 [==============================] - 0s 3ms/step - loss: 0.1932 - acc: 0.9336 - val_loss: 0.2468 - val_acc: 0.9110\n",
      "Epoch 5/100\n",
      "112/121 [==========================>...] - ETA: 0s - loss: 0.1734 - acc: 0.9424\n",
      "Epoch 5: val_loss did not improve from 0.23559\n",
      "121/121 [==============================] - 0s 3ms/step - loss: 0.1720 - acc: 0.9427 - val_loss: 0.2576 - val_acc: 0.9101\n",
      "138/138 [==============================] - 0s 902us/step\n",
      "0.8729948717893172 0.544825072088276 0.9142078983204721 0.41666666666666663\n"
     ]
    },
    {
     "name": "stderr",
     "output_type": "stream",
     "text": [
      "2023-11-12 23:57:41.794355: I tensorflow/core/common_runtime/gpu/gpu_device.cc:1886] Created device /job:localhost/replica:0/task:0/device:GPU:0 with 13074 MB memory:  -> device: 0, name: Quadro RTX 5000, pci bus id: 0000:2b:00.0, compute capability: 7.5\n",
      "2023-11-12 23:57:41.807117: I tensorflow/core/common_runtime/gpu/gpu_device.cc:1886] Created device /job:localhost/replica:0/task:0/device:GPU:0 with 13074 MB memory:  -> device: 0, name: Quadro RTX 5000, pci bus id: 0000:2b:00.0, compute capability: 7.5\n"
     ]
    },
    {
     "name": "stdout",
     "output_type": "stream",
     "text": [
      "Problem type:  mort_icu\n",
      "__________________\n",
      "Epoch 1/100\n",
      "118/121 [============================>.] - ETA: 0s - loss: 0.2466 - acc: 0.9180\n",
      "Epoch 1: val_loss improved from inf to 0.18725, saving model to ../results/timeseries-baseline/LSTM-128-mort_icu-best_model.hdf5\n",
      "121/121 [==============================] - 1s 5ms/step - loss: 0.2456 - acc: 0.9183 - val_loss: 0.1873 - val_acc: 0.9373\n",
      "Epoch 2/100\n",
      " 61/121 [==============>...............] - ETA: 0s - loss: 0.1740 - acc: 0.9433"
     ]
    },
    {
     "name": "stderr",
     "output_type": "stream",
     "text": [
      "/data/apps/miniforge3/envs/cse6250-project/lib/python3.9/site-packages/keras/src/engine/training.py:3079: UserWarning: You are saving your model as an HDF5 file via `model.save()`. This file format is considered legacy. We recommend using instead the native Keras format, e.g. `model.save('my_model.keras')`.\n",
      "  saving_api.save_model(\n"
     ]
    },
    {
     "name": "stdout",
     "output_type": "stream",
     "text": [
      "121/121 [==============================] - ETA: 0s - loss: 0.1754 - acc: 0.9432\n",
      "Epoch 2: val_loss improved from 0.18725 to 0.17659, saving model to ../results/timeseries-baseline/LSTM-128-mort_icu-best_model.hdf5\n",
      "121/121 [==============================] - 0s 3ms/step - loss: 0.1754 - acc: 0.9432 - val_loss: 0.1766 - val_acc: 0.9419\n",
      "Epoch 3/100\n",
      "109/121 [==========================>...] - ETA: 0s - loss: 0.1552 - acc: 0.9501\n",
      "Epoch 3: val_loss improved from 0.17659 to 0.17523, saving model to ../results/timeseries-baseline/LSTM-128-mort_icu-best_model.hdf5\n",
      "121/121 [==============================] - 0s 3ms/step - loss: 0.1553 - acc: 0.9498 - val_loss: 0.1752 - val_acc: 0.9437\n",
      "Epoch 4/100\n",
      "116/121 [===========================>..] - ETA: 0s - loss: 0.1399 - acc: 0.9555\n",
      "Epoch 4: val_loss did not improve from 0.17523\n",
      "121/121 [==============================] - 0s 3ms/step - loss: 0.1384 - acc: 0.9559 - val_loss: 0.1798 - val_acc: 0.9410\n",
      "Epoch 5/100\n",
      "121/121 [==============================] - ETA: 0s - loss: 0.1222 - acc: 0.9618\n",
      "Epoch 5: val_loss did not improve from 0.17523\n",
      "121/121 [==============================] - 0s 3ms/step - loss: 0.1222 - acc: 0.9618 - val_loss: 0.1870 - val_acc: 0.9378\n",
      "Epoch 6/100\n",
      "119/121 [============================>.] - ETA: 0s - loss: 0.1079 - acc: 0.9669\n",
      "Epoch 6: val_loss did not improve from 0.17523\n",
      "121/121 [==============================] - 0s 3ms/step - loss: 0.1082 - acc: 0.9669 - val_loss: 0.1861 - val_acc: 0.9373\n",
      "138/138 [==============================] - 0s 942us/step\n",
      "0.8876442374825743 0.50395115172593 0.9391738538356786 0.4462809917355372\n"
     ]
    },
    {
     "name": "stderr",
     "output_type": "stream",
     "text": [
      "2023-11-12 23:57:46.603482: I tensorflow/core/common_runtime/gpu/gpu_device.cc:1886] Created device /job:localhost/replica:0/task:0/device:GPU:0 with 13074 MB memory:  -> device: 0, name: Quadro RTX 5000, pci bus id: 0000:2b:00.0, compute capability: 7.5\n",
      "2023-11-12 23:57:46.616432: I tensorflow/core/common_runtime/gpu/gpu_device.cc:1886] Created device /job:localhost/replica:0/task:0/device:GPU:0 with 13074 MB memory:  -> device: 0, name: Quadro RTX 5000, pci bus id: 0000:2b:00.0, compute capability: 7.5\n"
     ]
    },
    {
     "name": "stdout",
     "output_type": "stream",
     "text": [
      "Problem type:  los_3\n",
      "__________________\n",
      "Epoch 1/100\n",
      "116/121 [===========================>..] - ETA: 0s - loss: 0.6591 - acc: 0.6355\n",
      "Epoch 1: val_loss improved from inf to 0.62432, saving model to ../results/timeseries-baseline/LSTM-128-los_3-best_model.hdf5\n",
      "121/121 [==============================] - 1s 5ms/step - loss: 0.6574 - acc: 0.6363 - val_loss: 0.6243 - val_acc: 0.6762\n",
      "Epoch 2/100\n",
      " 59/121 [=============>................] - ETA: 0s - loss: 0.6223 - acc: 0.6713"
     ]
    },
    {
     "name": "stderr",
     "output_type": "stream",
     "text": [
      "/data/apps/miniforge3/envs/cse6250-project/lib/python3.9/site-packages/keras/src/engine/training.py:3079: UserWarning: You are saving your model as an HDF5 file via `model.save()`. This file format is considered legacy. We recommend using instead the native Keras format, e.g. `model.save('my_model.keras')`.\n",
      "  saving_api.save_model(\n"
     ]
    },
    {
     "name": "stdout",
     "output_type": "stream",
     "text": [
      "119/121 [============================>.] - ETA: 0s - loss: 0.6221 - acc: 0.6706\n",
      "Epoch 2: val_loss improved from 0.62432 to 0.61425, saving model to ../results/timeseries-baseline/LSTM-128-los_3-best_model.hdf5\n",
      "121/121 [==============================] - 0s 3ms/step - loss: 0.6225 - acc: 0.6706 - val_loss: 0.6142 - val_acc: 0.6721\n",
      "Epoch 3/100\n",
      "104/121 [========================>.....] - ETA: 0s - loss: 0.6006 - acc: 0.6919\n",
      "Epoch 3: val_loss did not improve from 0.61425\n",
      "121/121 [==============================] - 0s 3ms/step - loss: 0.6006 - acc: 0.6912 - val_loss: 0.6201 - val_acc: 0.6644\n",
      "Epoch 4/100\n",
      "116/121 [===========================>..] - ETA: 0s - loss: 0.5762 - acc: 0.7123\n",
      "Epoch 4: val_loss did not improve from 0.61425\n",
      "121/121 [==============================] - 0s 3ms/step - loss: 0.5759 - acc: 0.7129 - val_loss: 0.6320 - val_acc: 0.6748\n",
      "Epoch 5/100\n",
      "101/121 [========================>.....] - ETA: 0s - loss: 0.5410 - acc: 0.7403\n",
      "Epoch 5: val_loss did not improve from 0.61425\n",
      "121/121 [==============================] - 0s 3ms/step - loss: 0.5447 - acc: 0.7380 - val_loss: 0.6374 - val_acc: 0.6621\n",
      "138/138 [==============================] - 0s 946us/step\n",
      "0.6913793575047551 0.6362262797841759 0.6547889241942805 0.543928035982009\n"
     ]
    },
    {
     "name": "stderr",
     "output_type": "stream",
     "text": [
      "2023-11-12 23:57:50.955881: I tensorflow/core/common_runtime/gpu/gpu_device.cc:1886] Created device /job:localhost/replica:0/task:0/device:GPU:0 with 13074 MB memory:  -> device: 0, name: Quadro RTX 5000, pci bus id: 0000:2b:00.0, compute capability: 7.5\n",
      "2023-11-12 23:57:50.967091: I tensorflow/core/common_runtime/gpu/gpu_device.cc:1886] Created device /job:localhost/replica:0/task:0/device:GPU:0 with 13074 MB memory:  -> device: 0, name: Quadro RTX 5000, pci bus id: 0000:2b:00.0, compute capability: 7.5\n"
     ]
    },
    {
     "name": "stdout",
     "output_type": "stream",
     "text": [
      "Problem type:  los_7\n",
      "__________________\n",
      "Epoch 1/100\n",
      "107/121 [=========================>....] - ETA: 0s - loss: 0.3090 - acc: 0.9051\n",
      "Epoch 1: val_loss improved from inf to 0.26519, saving model to ../results/timeseries-baseline/LSTM-128-los_7-best_model.hdf5\n",
      "121/121 [==============================] - 1s 5ms/step - loss: 0.3052 - acc: 0.9068 - val_loss: 0.2652 - val_acc: 0.9228\n",
      "Epoch 2/100\n",
      " 61/121 [==============>...............] - ETA: 0s - loss: 0.2602 - acc: 0.9189"
     ]
    },
    {
     "name": "stderr",
     "output_type": "stream",
     "text": [
      "/data/apps/miniforge3/envs/cse6250-project/lib/python3.9/site-packages/keras/src/engine/training.py:3079: UserWarning: You are saving your model as an HDF5 file via `model.save()`. This file format is considered legacy. We recommend using instead the native Keras format, e.g. `model.save('my_model.keras')`.\n",
      "  saving_api.save_model(\n"
     ]
    },
    {
     "name": "stdout",
     "output_type": "stream",
     "text": [
      "119/121 [============================>.] - ETA: 0s - loss: 0.2523 - acc: 0.9227\n",
      "Epoch 2: val_loss improved from 0.26519 to 0.26454, saving model to ../results/timeseries-baseline/LSTM-128-los_7-best_model.hdf5\n",
      "121/121 [==============================] - 0s 3ms/step - loss: 0.2535 - acc: 0.9223 - val_loss: 0.2645 - val_acc: 0.9214\n",
      "Epoch 3/100\n",
      "120/121 [============================>.] - ETA: 0s - loss: 0.2397 - acc: 0.9235\n",
      "Epoch 3: val_loss improved from 0.26454 to 0.26448, saving model to ../results/timeseries-baseline/LSTM-128-los_7-best_model.hdf5\n",
      "121/121 [==============================] - 0s 3ms/step - loss: 0.2398 - acc: 0.9235 - val_loss: 0.2645 - val_acc: 0.9223\n",
      "Epoch 4/100\n",
      "121/121 [==============================] - ETA: 0s - loss: 0.2234 - acc: 0.9271\n",
      "Epoch 4: val_loss did not improve from 0.26448\n",
      "121/121 [==============================] - 0s 3ms/step - loss: 0.2234 - acc: 0.9271 - val_loss: 0.2677 - val_acc: 0.9205\n",
      "Epoch 5/100\n",
      "111/121 [==========================>...] - ETA: 0s - loss: 0.2052 - acc: 0.9342\n",
      "Epoch 5: val_loss did not improve from 0.26448\n",
      "121/121 [==============================] - 0s 3ms/step - loss: 0.2071 - acc: 0.9338 - val_loss: 0.2768 - val_acc: 0.9214\n",
      "Epoch 6/100\n",
      "116/121 [===========================>..] - ETA: 0s - loss: 0.1905 - acc: 0.9392\n",
      "Epoch 6: val_loss did not improve from 0.26448\n",
      "121/121 [==============================] - 0s 3ms/step - loss: 0.1894 - acc: 0.9396 - val_loss: 0.2879 - val_acc: 0.9146\n",
      "138/138 [==============================] - 0s 909us/step\n",
      "0.7239707310306561 0.18720864354686825 0.9192010894235134 0.0481283422459893\n"
     ]
    },
    {
     "name": "stderr",
     "output_type": "stream",
     "text": [
      "2023-11-12 23:57:55.852005: I tensorflow/core/common_runtime/gpu/gpu_device.cc:1886] Created device /job:localhost/replica:0/task:0/device:GPU:0 with 13074 MB memory:  -> device: 0, name: Quadro RTX 5000, pci bus id: 0000:2b:00.0, compute capability: 7.5\n",
      "2023-11-12 23:57:55.863897: I tensorflow/core/common_runtime/gpu/gpu_device.cc:1886] Created device /job:localhost/replica:0/task:0/device:GPU:0 with 13074 MB memory:  -> device: 0, name: Quadro RTX 5000, pci bus id: 0000:2b:00.0, compute capability: 7.5\n"
     ]
    },
    {
     "name": "stdout",
     "output_type": "stream",
     "text": [
      "Iteration number:  7\n",
      "=============================\n",
      "Problem type:  mort_hosp\n",
      "__________________\n",
      "Epoch 1/100\n",
      "105/121 [=========================>....] - ETA: 0s - loss: 0.3073 - acc: 0.8894\n",
      "Epoch 1: val_loss improved from inf to 0.24470, saving model to ../results/timeseries-baseline/LSTM-128-mort_hosp-best_model.hdf5\n",
      "121/121 [==============================] - 1s 5ms/step - loss: 0.3027 - acc: 0.8914 - val_loss: 0.2447 - val_acc: 0.9137\n",
      "Epoch 2/100\n",
      " 55/121 [============>.................] - ETA: 0s - loss: 0.2346 - acc: 0.9200"
     ]
    },
    {
     "name": "stderr",
     "output_type": "stream",
     "text": [
      "/data/apps/miniforge3/envs/cse6250-project/lib/python3.9/site-packages/keras/src/engine/training.py:3079: UserWarning: You are saving your model as an HDF5 file via `model.save()`. This file format is considered legacy. We recommend using instead the native Keras format, e.g. `model.save('my_model.keras')`.\n",
      "  saving_api.save_model(\n"
     ]
    },
    {
     "name": "stdout",
     "output_type": "stream",
     "text": [
      "110/121 [==========================>...] - ETA: 0s - loss: 0.2347 - acc: 0.9189\n",
      "Epoch 2: val_loss improved from 0.24470 to 0.24151, saving model to ../results/timeseries-baseline/LSTM-128-mort_hosp-best_model.hdf5\n",
      "121/121 [==============================] - 0s 3ms/step - loss: 0.2353 - acc: 0.9185 - val_loss: 0.2415 - val_acc: 0.9142\n",
      "Epoch 3/100\n",
      "117/121 [============================>.] - ETA: 0s - loss: 0.2125 - acc: 0.9259\n",
      "Epoch 3: val_loss improved from 0.24151 to 0.23817, saving model to ../results/timeseries-baseline/LSTM-128-mort_hosp-best_model.hdf5\n",
      "121/121 [==============================] - 0s 3ms/step - loss: 0.2130 - acc: 0.9258 - val_loss: 0.2382 - val_acc: 0.9124\n",
      "Epoch 4/100\n",
      "109/121 [==========================>...] - ETA: 0s - loss: 0.1929 - acc: 0.9340\n",
      "Epoch 4: val_loss did not improve from 0.23817\n",
      "121/121 [==============================] - 0s 3ms/step - loss: 0.1912 - acc: 0.9351 - val_loss: 0.2498 - val_acc: 0.9160\n",
      "Epoch 5/100\n",
      "109/121 [==========================>...] - ETA: 0s - loss: 0.1697 - acc: 0.9418\n",
      "Epoch 5: val_loss did not improve from 0.23817\n",
      "121/121 [==============================] - 0s 3ms/step - loss: 0.1709 - acc: 0.9419 - val_loss: 0.2445 - val_acc: 0.9069\n",
      "Epoch 6/100\n",
      "116/121 [===========================>..] - ETA: 0s - loss: 0.1490 - acc: 0.9512\n",
      "Epoch 6: val_loss did not improve from 0.23817\n",
      "121/121 [==============================] - 0s 3ms/step - loss: 0.1513 - acc: 0.9505 - val_loss: 0.2702 - val_acc: 0.9046\n",
      "138/138 [==============================] - 0s 990us/step\n",
      "0.8716782934631968 0.5321662290549912 0.905583295506128 0.42699724517906334\n"
     ]
    },
    {
     "name": "stderr",
     "output_type": "stream",
     "text": [
      "2023-11-12 23:58:00.775341: I tensorflow/core/common_runtime/gpu/gpu_device.cc:1886] Created device /job:localhost/replica:0/task:0/device:GPU:0 with 13074 MB memory:  -> device: 0, name: Quadro RTX 5000, pci bus id: 0000:2b:00.0, compute capability: 7.5\n",
      "2023-11-12 23:58:00.789591: I tensorflow/core/common_runtime/gpu/gpu_device.cc:1886] Created device /job:localhost/replica:0/task:0/device:GPU:0 with 13074 MB memory:  -> device: 0, name: Quadro RTX 5000, pci bus id: 0000:2b:00.0, compute capability: 7.5\n"
     ]
    },
    {
     "name": "stdout",
     "output_type": "stream",
     "text": [
      "Problem type:  mort_icu\n",
      "__________________\n",
      "Epoch 1/100\n",
      "112/121 [==========================>...] - ETA: 0s - loss: 0.2424 - acc: 0.9199\n",
      "Epoch 1: val_loss improved from inf to 0.18613, saving model to ../results/timeseries-baseline/LSTM-128-mort_icu-best_model.hdf5\n",
      "121/121 [==============================] - 1s 5ms/step - loss: 0.2396 - acc: 0.9209 - val_loss: 0.1861 - val_acc: 0.9401\n",
      "Epoch 2/100\n",
      " 56/121 [============>.................] - ETA: 0s - loss: 0.1675 - acc: 0.9436"
     ]
    },
    {
     "name": "stderr",
     "output_type": "stream",
     "text": [
      "/data/apps/miniforge3/envs/cse6250-project/lib/python3.9/site-packages/keras/src/engine/training.py:3079: UserWarning: You are saving your model as an HDF5 file via `model.save()`. This file format is considered legacy. We recommend using instead the native Keras format, e.g. `model.save('my_model.keras')`.\n",
      "  saving_api.save_model(\n"
     ]
    },
    {
     "name": "stdout",
     "output_type": "stream",
     "text": [
      "115/121 [===========================>..] - ETA: 0s - loss: 0.1732 - acc: 0.9417\n",
      "Epoch 2: val_loss improved from 0.18613 to 0.17465, saving model to ../results/timeseries-baseline/LSTM-128-mort_icu-best_model.hdf5\n",
      "121/121 [==============================] - 0s 3ms/step - loss: 0.1714 - acc: 0.9423 - val_loss: 0.1746 - val_acc: 0.9437\n",
      "Epoch 3/100\n",
      "113/121 [===========================>..] - ETA: 0s - loss: 0.1524 - acc: 0.9494\n",
      "Epoch 3: val_loss did not improve from 0.17465\n",
      "121/121 [==============================] - 0s 3ms/step - loss: 0.1516 - acc: 0.9499 - val_loss: 0.1781 - val_acc: 0.9419\n",
      "Epoch 4/100\n",
      "114/121 [===========================>..] - ETA: 0s - loss: 0.1351 - acc: 0.9545\n",
      "Epoch 4: val_loss did not improve from 0.17465\n",
      "121/121 [==============================] - 0s 3ms/step - loss: 0.1342 - acc: 0.9549 - val_loss: 0.1978 - val_acc: 0.9428\n",
      "Epoch 5/100\n",
      "117/121 [============================>.] - ETA: 0s - loss: 0.1201 - acc: 0.9624\n",
      "Epoch 5: val_loss did not improve from 0.17465\n",
      "121/121 [==============================] - 0s 3ms/step - loss: 0.1196 - acc: 0.9624 - val_loss: 0.1896 - val_acc: 0.9364\n",
      "138/138 [==============================] - 0s 1ms/step\n",
      "0.8789550791420854 0.508865320534954 0.9405356332274172 0.39351851851851855\n"
     ]
    },
    {
     "name": "stderr",
     "output_type": "stream",
     "text": [
      "2023-11-12 23:58:05.398370: I tensorflow/core/common_runtime/gpu/gpu_device.cc:1886] Created device /job:localhost/replica:0/task:0/device:GPU:0 with 13074 MB memory:  -> device: 0, name: Quadro RTX 5000, pci bus id: 0000:2b:00.0, compute capability: 7.5\n",
      "2023-11-12 23:58:05.416719: I tensorflow/core/common_runtime/gpu/gpu_device.cc:1886] Created device /job:localhost/replica:0/task:0/device:GPU:0 with 13074 MB memory:  -> device: 0, name: Quadro RTX 5000, pci bus id: 0000:2b:00.0, compute capability: 7.5\n"
     ]
    },
    {
     "name": "stdout",
     "output_type": "stream",
     "text": [
      "Problem type:  los_3\n",
      "__________________\n",
      "Epoch 1/100\n",
      "104/121 [========================>.....] - ETA: 0s - loss: 0.6603 - acc: 0.6340\n",
      "Epoch 1: val_loss improved from inf to 0.62874, saving model to ../results/timeseries-baseline/LSTM-128-los_3-best_model.hdf5\n",
      "121/121 [==============================] - 1s 5ms/step - loss: 0.6579 - acc: 0.6365 - val_loss: 0.6287 - val_acc: 0.6612\n",
      "Epoch 2/100\n",
      " 63/121 [==============>...............] - ETA: 0s - loss: 0.6219 - acc: 0.6765"
     ]
    },
    {
     "name": "stderr",
     "output_type": "stream",
     "text": [
      "/data/apps/miniforge3/envs/cse6250-project/lib/python3.9/site-packages/keras/src/engine/training.py:3079: UserWarning: You are saving your model as an HDF5 file via `model.save()`. This file format is considered legacy. We recommend using instead the native Keras format, e.g. `model.save('my_model.keras')`.\n",
      "  saving_api.save_model(\n"
     ]
    },
    {
     "name": "stdout",
     "output_type": "stream",
     "text": [
      "110/121 [==========================>...] - ETA: 0s - loss: 0.6240 - acc: 0.6714\n",
      "Epoch 2: val_loss improved from 0.62874 to 0.62492, saving model to ../results/timeseries-baseline/LSTM-128-los_3-best_model.hdf5\n",
      "121/121 [==============================] - 0s 3ms/step - loss: 0.6229 - acc: 0.6715 - val_loss: 0.6249 - val_acc: 0.6608\n",
      "Epoch 3/100\n",
      "113/121 [===========================>..] - ETA: 0s - loss: 0.6025 - acc: 0.6884\n",
      "Epoch 3: val_loss improved from 0.62492 to 0.61799, saving model to ../results/timeseries-baseline/LSTM-128-los_3-best_model.hdf5\n",
      "121/121 [==============================] - 0s 3ms/step - loss: 0.6032 - acc: 0.6888 - val_loss: 0.6180 - val_acc: 0.6658\n",
      "Epoch 4/100\n",
      "117/121 [============================>.] - ETA: 0s - loss: 0.5765 - acc: 0.7121\n",
      "Epoch 4: val_loss did not improve from 0.61799\n",
      "121/121 [==============================] - 0s 3ms/step - loss: 0.5767 - acc: 0.7117 - val_loss: 0.6298 - val_acc: 0.6635\n",
      "Epoch 5/100\n",
      "121/121 [==============================] - ETA: 0s - loss: 0.5466 - acc: 0.7361\n",
      "Epoch 5: val_loss did not improve from 0.61799\n",
      "121/121 [==============================] - 0s 3ms/step - loss: 0.5466 - acc: 0.7361 - val_loss: 0.6525 - val_acc: 0.6567\n",
      "Epoch 6/100\n",
      "116/121 [===========================>..] - ETA: 0s - loss: 0.5073 - acc: 0.7701\n",
      "Epoch 6: val_loss did not improve from 0.61799\n",
      "121/121 [==============================] - 0s 3ms/step - loss: 0.5078 - acc: 0.7690 - val_loss: 0.6824 - val_acc: 0.6426\n",
      "138/138 [==============================] - 0s 943us/step\n",
      "0.6873760709656787 0.6304976054768017 0.6584203359055832 0.554074074074074\n"
     ]
    },
    {
     "name": "stderr",
     "output_type": "stream",
     "text": [
      "2023-11-12 23:58:10.358968: I tensorflow/core/common_runtime/gpu/gpu_device.cc:1886] Created device /job:localhost/replica:0/task:0/device:GPU:0 with 13074 MB memory:  -> device: 0, name: Quadro RTX 5000, pci bus id: 0000:2b:00.0, compute capability: 7.5\n",
      "2023-11-12 23:58:10.371269: I tensorflow/core/common_runtime/gpu/gpu_device.cc:1886] Created device /job:localhost/replica:0/task:0/device:GPU:0 with 13074 MB memory:  -> device: 0, name: Quadro RTX 5000, pci bus id: 0000:2b:00.0, compute capability: 7.5\n"
     ]
    },
    {
     "name": "stdout",
     "output_type": "stream",
     "text": [
      "Problem type:  los_7\n",
      "__________________\n",
      "Epoch 1/100\n",
      "112/121 [==========================>...] - ETA: 0s - loss: 0.3105 - acc: 0.9016\n",
      "Epoch 1: val_loss improved from inf to 0.26594, saving model to ../results/timeseries-baseline/LSTM-128-los_7-best_model.hdf5\n",
      "121/121 [==============================] - 1s 5ms/step - loss: 0.3059 - acc: 0.9037 - val_loss: 0.2659 - val_acc: 0.9228\n",
      "Epoch 2/100\n",
      " 61/121 [==============>...............] - ETA: 0s - loss: 0.2629 - acc: 0.9183"
     ]
    },
    {
     "name": "stderr",
     "output_type": "stream",
     "text": [
      "/data/apps/miniforge3/envs/cse6250-project/lib/python3.9/site-packages/keras/src/engine/training.py:3079: UserWarning: You are saving your model as an HDF5 file via `model.save()`. This file format is considered legacy. We recommend using instead the native Keras format, e.g. `model.save('my_model.keras')`.\n",
      "  saving_api.save_model(\n"
     ]
    },
    {
     "name": "stdout",
     "output_type": "stream",
     "text": [
      "115/121 [===========================>..] - ETA: 0s - loss: 0.2536 - acc: 0.9221\n",
      "Epoch 2: val_loss improved from 0.26594 to 0.26454, saving model to ../results/timeseries-baseline/LSTM-128-los_7-best_model.hdf5\n",
      "121/121 [==============================] - 0s 3ms/step - loss: 0.2528 - acc: 0.9223 - val_loss: 0.2645 - val_acc: 0.9223\n",
      "Epoch 3/100\n",
      "115/121 [===========================>..] - ETA: 0s - loss: 0.2394 - acc: 0.9241\n",
      "Epoch 3: val_loss improved from 0.26454 to 0.26015, saving model to ../results/timeseries-baseline/LSTM-128-los_7-best_model.hdf5\n",
      "121/121 [==============================] - 0s 3ms/step - loss: 0.2377 - acc: 0.9249 - val_loss: 0.2602 - val_acc: 0.9223\n",
      "Epoch 4/100\n",
      "103/121 [========================>.....] - ETA: 0s - loss: 0.2189 - acc: 0.9300\n",
      "Epoch 4: val_loss did not improve from 0.26015\n",
      "121/121 [==============================] - 0s 3ms/step - loss: 0.2238 - acc: 0.9279 - val_loss: 0.2633 - val_acc: 0.9196\n",
      "Epoch 5/100\n",
      "102/121 [========================>.....] - ETA: 0s - loss: 0.2046 - acc: 0.9347\n",
      "Epoch 5: val_loss did not improve from 0.26015\n",
      "121/121 [==============================] - 0s 3ms/step - loss: 0.2083 - acc: 0.9331 - val_loss: 0.2641 - val_acc: 0.9178\n",
      "Epoch 6/100\n",
      "113/121 [===========================>..] - ETA: 0s - loss: 0.1912 - acc: 0.9374\n",
      "Epoch 6: val_loss did not improve from 0.26015\n",
      "121/121 [==============================] - 0s 3ms/step - loss: 0.1905 - acc: 0.9371 - val_loss: 0.2859 - val_acc: 0.9160\n",
      "138/138 [==============================] - 0s 862us/step\n",
      "0.716846303232071 0.1845945293714233 0.9171584203359056 0.036939313984168866\n"
     ]
    },
    {
     "name": "stderr",
     "output_type": "stream",
     "text": [
      "2023-11-12 23:58:15.239145: I tensorflow/core/common_runtime/gpu/gpu_device.cc:1886] Created device /job:localhost/replica:0/task:0/device:GPU:0 with 13074 MB memory:  -> device: 0, name: Quadro RTX 5000, pci bus id: 0000:2b:00.0, compute capability: 7.5\n",
      "2023-11-12 23:58:15.248961: I tensorflow/core/common_runtime/gpu/gpu_device.cc:1886] Created device /job:localhost/replica:0/task:0/device:GPU:0 with 13074 MB memory:  -> device: 0, name: Quadro RTX 5000, pci bus id: 0000:2b:00.0, compute capability: 7.5\n"
     ]
    },
    {
     "name": "stdout",
     "output_type": "stream",
     "text": [
      "Iteration number:  8\n",
      "=============================\n",
      "Problem type:  mort_hosp\n",
      "__________________\n",
      "Epoch 1/100\n",
      "121/121 [==============================] - ETA: 0s - loss: 0.3061 - acc: 0.8902\n",
      "Epoch 1: val_loss improved from inf to 0.24649, saving model to ../results/timeseries-baseline/LSTM-128-mort_hosp-best_model.hdf5\n",
      "121/121 [==============================] - 2s 6ms/step - loss: 0.3061 - acc: 0.8902 - val_loss: 0.2465 - val_acc: 0.9137\n",
      "Epoch 2/100\n",
      " 50/121 [===========>..................] - ETA: 0s - loss: 0.2350 - acc: 0.9181"
     ]
    },
    {
     "name": "stderr",
     "output_type": "stream",
     "text": [
      "/data/apps/miniforge3/envs/cse6250-project/lib/python3.9/site-packages/keras/src/engine/training.py:3079: UserWarning: You are saving your model as an HDF5 file via `model.save()`. This file format is considered legacy. We recommend using instead the native Keras format, e.g. `model.save('my_model.keras')`.\n",
      "  saving_api.save_model(\n"
     ]
    },
    {
     "name": "stdout",
     "output_type": "stream",
     "text": [
      "113/121 [===========================>..] - ETA: 0s - loss: 0.2389 - acc: 0.9156\n",
      "Epoch 2: val_loss improved from 0.24649 to 0.24067, saving model to ../results/timeseries-baseline/LSTM-128-mort_hosp-best_model.hdf5\n",
      "121/121 [==============================] - 0s 3ms/step - loss: 0.2380 - acc: 0.9162 - val_loss: 0.2407 - val_acc: 0.9142\n",
      "Epoch 3/100\n",
      "115/121 [===========================>..] - ETA: 0s - loss: 0.2147 - acc: 0.9259\n",
      "Epoch 3: val_loss did not improve from 0.24067\n",
      "121/121 [==============================] - 0s 3ms/step - loss: 0.2147 - acc: 0.9256 - val_loss: 0.2428 - val_acc: 0.9142\n",
      "Epoch 4/100\n",
      "102/121 [========================>.....] - ETA: 0s - loss: 0.1916 - acc: 0.9341\n",
      "Epoch 4: val_loss did not improve from 0.24067\n",
      "121/121 [==============================] - 0s 3ms/step - loss: 0.1932 - acc: 0.9335 - val_loss: 0.2447 - val_acc: 0.9083\n",
      "Epoch 5/100\n",
      "103/121 [========================>.....] - ETA: 0s - loss: 0.1685 - acc: 0.9437\n",
      "Epoch 5: val_loss did not improve from 0.24067\n",
      "121/121 [==============================] - 0s 3ms/step - loss: 0.1714 - acc: 0.9425 - val_loss: 0.2598 - val_acc: 0.9092\n",
      "138/138 [==============================] - 0s 1ms/step\n",
      "0.8803522212588134 0.5602608940044268 0.9139809350885156 0.44832605531295483\n"
     ]
    },
    {
     "name": "stderr",
     "output_type": "stream",
     "text": [
      "2023-11-12 23:58:19.798208: I tensorflow/core/common_runtime/gpu/gpu_device.cc:1886] Created device /job:localhost/replica:0/task:0/device:GPU:0 with 13074 MB memory:  -> device: 0, name: Quadro RTX 5000, pci bus id: 0000:2b:00.0, compute capability: 7.5\n",
      "2023-11-12 23:58:19.809679: I tensorflow/core/common_runtime/gpu/gpu_device.cc:1886] Created device /job:localhost/replica:0/task:0/device:GPU:0 with 13074 MB memory:  -> device: 0, name: Quadro RTX 5000, pci bus id: 0000:2b:00.0, compute capability: 7.5\n"
     ]
    },
    {
     "name": "stdout",
     "output_type": "stream",
     "text": [
      "Problem type:  mort_icu\n",
      "__________________\n",
      "Epoch 1/100\n",
      "111/121 [==========================>...] - ETA: 0s - loss: 0.2547 - acc: 0.9170\n",
      "Epoch 1: val_loss improved from inf to 0.18653, saving model to ../results/timeseries-baseline/LSTM-128-mort_icu-best_model.hdf5\n",
      "121/121 [==============================] - 1s 5ms/step - loss: 0.2489 - acc: 0.9190 - val_loss: 0.1865 - val_acc: 0.9373\n",
      "Epoch 2/100\n",
      " 51/121 [===========>..................] - ETA: 0s - loss: 0.1673 - acc: 0.9476"
     ]
    },
    {
     "name": "stderr",
     "output_type": "stream",
     "text": [
      "/data/apps/miniforge3/envs/cse6250-project/lib/python3.9/site-packages/keras/src/engine/training.py:3079: UserWarning: You are saving your model as an HDF5 file via `model.save()`. This file format is considered legacy. We recommend using instead the native Keras format, e.g. `model.save('my_model.keras')`.\n",
      "  saving_api.save_model(\n"
     ]
    },
    {
     "name": "stdout",
     "output_type": "stream",
     "text": [
      "117/121 [============================>.] - ETA: 0s - loss: 0.1737 - acc: 0.9446\n",
      "Epoch 2: val_loss improved from 0.18653 to 0.17553, saving model to ../results/timeseries-baseline/LSTM-128-mort_icu-best_model.hdf5\n",
      "121/121 [==============================] - 0s 4ms/step - loss: 0.1741 - acc: 0.9445 - val_loss: 0.1755 - val_acc: 0.9432\n",
      "Epoch 3/100\n",
      "106/121 [=========================>....] - ETA: 0s - loss: 0.1540 - acc: 0.9506\n",
      "Epoch 3: val_loss improved from 0.17553 to 0.17180, saving model to ../results/timeseries-baseline/LSTM-128-mort_icu-best_model.hdf5\n",
      "121/121 [==============================] - 0s 3ms/step - loss: 0.1550 - acc: 0.9498 - val_loss: 0.1718 - val_acc: 0.9437\n",
      "Epoch 4/100\n",
      "113/121 [===========================>..] - ETA: 0s - loss: 0.1365 - acc: 0.9562\n",
      "Epoch 4: val_loss did not improve from 0.17180\n",
      "121/121 [==============================] - 0s 3ms/step - loss: 0.1366 - acc: 0.9564 - val_loss: 0.1765 - val_acc: 0.9428\n",
      "Epoch 5/100\n",
      "118/121 [============================>.] - ETA: 0s - loss: 0.1196 - acc: 0.9633\n",
      "Epoch 5: val_loss did not improve from 0.17180\n",
      "121/121 [==============================] - 0s 3ms/step - loss: 0.1198 - acc: 0.9633 - val_loss: 0.1775 - val_acc: 0.9405\n",
      "Epoch 6/100\n",
      "111/121 [==========================>...] - ETA: 0s - loss: 0.1064 - acc: 0.9675\n",
      "Epoch 6: val_loss did not improve from 0.17180\n",
      "121/121 [==============================] - 0s 3ms/step - loss: 0.1062 - acc: 0.9673 - val_loss: 0.1876 - val_acc: 0.9410\n",
      "138/138 [==============================] - 0s 957us/step\n",
      "0.8817948901916584 0.4884495227488562 0.9391738538356786 0.3936651583710407\n"
     ]
    },
    {
     "name": "stderr",
     "output_type": "stream",
     "text": [
      "2023-11-12 23:58:24.925663: I tensorflow/core/common_runtime/gpu/gpu_device.cc:1886] Created device /job:localhost/replica:0/task:0/device:GPU:0 with 13074 MB memory:  -> device: 0, name: Quadro RTX 5000, pci bus id: 0000:2b:00.0, compute capability: 7.5\n",
      "2023-11-12 23:58:24.937641: I tensorflow/core/common_runtime/gpu/gpu_device.cc:1886] Created device /job:localhost/replica:0/task:0/device:GPU:0 with 13074 MB memory:  -> device: 0, name: Quadro RTX 5000, pci bus id: 0000:2b:00.0, compute capability: 7.5\n"
     ]
    },
    {
     "name": "stdout",
     "output_type": "stream",
     "text": [
      "Problem type:  los_3\n",
      "__________________\n",
      "Epoch 1/100\n",
      "115/121 [===========================>..] - ETA: 0s - loss: 0.6588 - acc: 0.6338\n",
      "Epoch 1: val_loss improved from inf to 0.62244, saving model to ../results/timeseries-baseline/LSTM-128-los_3-best_model.hdf5\n",
      "121/121 [==============================] - 1s 5ms/step - loss: 0.6573 - acc: 0.6366 - val_loss: 0.6224 - val_acc: 0.6717\n",
      "Epoch 2/100\n",
      " 61/121 [==============>...............] - ETA: 0s - loss: 0.6193 - acc: 0.6748"
     ]
    },
    {
     "name": "stderr",
     "output_type": "stream",
     "text": [
      "/data/apps/miniforge3/envs/cse6250-project/lib/python3.9/site-packages/keras/src/engine/training.py:3079: UserWarning: You are saving your model as an HDF5 file via `model.save()`. This file format is considered legacy. We recommend using instead the native Keras format, e.g. `model.save('my_model.keras')`.\n",
      "  saving_api.save_model(\n"
     ]
    },
    {
     "name": "stdout",
     "output_type": "stream",
     "text": [
      "120/121 [============================>.] - ETA: 0s - loss: 0.6235 - acc: 0.6693\n",
      "Epoch 2: val_loss improved from 0.62244 to 0.61975, saving model to ../results/timeseries-baseline/LSTM-128-los_3-best_model.hdf5\n",
      "121/121 [==============================] - 0s 3ms/step - loss: 0.6234 - acc: 0.6695 - val_loss: 0.6198 - val_acc: 0.6662\n",
      "Epoch 3/100\n",
      "110/121 [==========================>...] - ETA: 0s - loss: 0.6007 - acc: 0.6930\n",
      "Epoch 3: val_loss improved from 0.61975 to 0.61400, saving model to ../results/timeseries-baseline/LSTM-128-los_3-best_model.hdf5\n",
      "121/121 [==============================] - 0s 3ms/step - loss: 0.6023 - acc: 0.6915 - val_loss: 0.6140 - val_acc: 0.6771\n",
      "Epoch 4/100\n",
      "109/121 [==========================>...] - ETA: 0s - loss: 0.5757 - acc: 0.7139\n",
      "Epoch 4: val_loss did not improve from 0.61400\n",
      "121/121 [==============================] - 0s 3ms/step - loss: 0.5770 - acc: 0.7120 - val_loss: 0.6291 - val_acc: 0.6658\n",
      "Epoch 5/100\n",
      "115/121 [===========================>..] - ETA: 0s - loss: 0.5478 - acc: 0.7369\n",
      "Epoch 5: val_loss did not improve from 0.61400\n",
      "121/121 [==============================] - 0s 3ms/step - loss: 0.5482 - acc: 0.7366 - val_loss: 0.6371 - val_acc: 0.6621\n",
      "Epoch 6/100\n",
      "115/121 [===========================>..] - ETA: 0s - loss: 0.5085 - acc: 0.7651\n",
      "Epoch 6: val_loss did not improve from 0.61400\n",
      "121/121 [==============================] - 0s 3ms/step - loss: 0.5096 - acc: 0.7644 - val_loss: 0.6589 - val_acc: 0.6594\n",
      "138/138 [==============================] - 0s 962us/step\n",
      "0.6900383359423656 0.6327660664708055 0.6661370857921016 0.5505652306752215\n"
     ]
    },
    {
     "name": "stderr",
     "output_type": "stream",
     "text": [
      "2023-11-12 23:58:29.918235: I tensorflow/core/common_runtime/gpu/gpu_device.cc:1886] Created device /job:localhost/replica:0/task:0/device:GPU:0 with 13074 MB memory:  -> device: 0, name: Quadro RTX 5000, pci bus id: 0000:2b:00.0, compute capability: 7.5\n",
      "2023-11-12 23:58:29.930589: I tensorflow/core/common_runtime/gpu/gpu_device.cc:1886] Created device /job:localhost/replica:0/task:0/device:GPU:0 with 13074 MB memory:  -> device: 0, name: Quadro RTX 5000, pci bus id: 0000:2b:00.0, compute capability: 7.5\n"
     ]
    },
    {
     "name": "stdout",
     "output_type": "stream",
     "text": [
      "Problem type:  los_7\n",
      "__________________\n",
      "Epoch 1/100\n",
      "107/121 [=========================>....] - ETA: 0s - loss: 0.3161 - acc: 0.8983\n",
      "Epoch 1: val_loss improved from inf to 0.26787, saving model to ../results/timeseries-baseline/LSTM-128-los_7-best_model.hdf5\n",
      "121/121 [==============================] - 2s 5ms/step - loss: 0.3080 - acc: 0.9024 - val_loss: 0.2679 - val_acc: 0.9228\n",
      "Epoch 2/100\n",
      " 61/121 [==============>...............] - ETA: 0s - loss: 0.2503 - acc: 0.9235"
     ]
    },
    {
     "name": "stderr",
     "output_type": "stream",
     "text": [
      "/data/apps/miniforge3/envs/cse6250-project/lib/python3.9/site-packages/keras/src/engine/training.py:3079: UserWarning: You are saving your model as an HDF5 file via `model.save()`. This file format is considered legacy. We recommend using instead the native Keras format, e.g. `model.save('my_model.keras')`.\n",
      "  saving_api.save_model(\n"
     ]
    },
    {
     "name": "stdout",
     "output_type": "stream",
     "text": [
      "119/121 [============================>.] - ETA: 0s - loss: 0.2536 - acc: 0.9227\n",
      "Epoch 2: val_loss improved from 0.26787 to 0.26455, saving model to ../results/timeseries-baseline/LSTM-128-los_7-best_model.hdf5\n",
      "121/121 [==============================] - 0s 3ms/step - loss: 0.2540 - acc: 0.9224 - val_loss: 0.2645 - val_acc: 0.9223\n",
      "Epoch 3/100\n",
      "112/121 [==========================>...] - ETA: 0s - loss: 0.2417 - acc: 0.9240\n",
      "Epoch 3: val_loss improved from 0.26455 to 0.26222, saving model to ../results/timeseries-baseline/LSTM-128-los_7-best_model.hdf5\n",
      "121/121 [==============================] - 0s 3ms/step - loss: 0.2400 - acc: 0.9248 - val_loss: 0.2622 - val_acc: 0.9228\n",
      "Epoch 4/100\n",
      "118/121 [============================>.] - ETA: 0s - loss: 0.2250 - acc: 0.9284\n",
      "Epoch 4: val_loss did not improve from 0.26222\n",
      "121/121 [==============================] - 0s 3ms/step - loss: 0.2245 - acc: 0.9285 - val_loss: 0.2680 - val_acc: 0.9210\n",
      "Epoch 5/100\n",
      "106/121 [=========================>....] - ETA: 0s - loss: 0.2077 - acc: 0.9342\n",
      "Epoch 5: val_loss did not improve from 0.26222\n",
      "121/121 [==============================] - 0s 3ms/step - loss: 0.2090 - acc: 0.9335 - val_loss: 0.2735 - val_acc: 0.9164\n",
      "Epoch 6/100\n",
      "117/121 [============================>.] - ETA: 0s - loss: 0.1870 - acc: 0.9399\n",
      "Epoch 6: val_loss did not improve from 0.26222\n",
      "121/121 [==============================] - 0s 3ms/step - loss: 0.1877 - acc: 0.9396 - val_loss: 0.2818 - val_acc: 0.9146\n",
      "138/138 [==============================] - 0s 896us/step\n",
      "0.722920654737134 0.18650407719192494 0.9169314571039492 0.005434782608695652\n"
     ]
    },
    {
     "name": "stderr",
     "output_type": "stream",
     "text": [
      "2023-11-12 23:58:34.988459: I tensorflow/core/common_runtime/gpu/gpu_device.cc:1886] Created device /job:localhost/replica:0/task:0/device:GPU:0 with 13074 MB memory:  -> device: 0, name: Quadro RTX 5000, pci bus id: 0000:2b:00.0, compute capability: 7.5\n",
      "2023-11-12 23:58:34.998231: I tensorflow/core/common_runtime/gpu/gpu_device.cc:1886] Created device /job:localhost/replica:0/task:0/device:GPU:0 with 13074 MB memory:  -> device: 0, name: Quadro RTX 5000, pci bus id: 0000:2b:00.0, compute capability: 7.5\n"
     ]
    },
    {
     "name": "stdout",
     "output_type": "stream",
     "text": [
      "Iteration number:  9\n",
      "=============================\n",
      "Problem type:  mort_hosp\n",
      "__________________\n",
      "Epoch 1/100\n",
      "111/121 [==========================>...] - ETA: 0s - loss: 0.3040 - acc: 0.8907\n",
      "Epoch 1: val_loss improved from inf to 0.25000, saving model to ../results/timeseries-baseline/LSTM-128-mort_hosp-best_model.hdf5\n",
      "121/121 [==============================] - 1s 5ms/step - loss: 0.3024 - acc: 0.8907 - val_loss: 0.2500 - val_acc: 0.9151\n",
      "Epoch 2/100\n",
      " 65/121 [===============>..............] - ETA: 0s - loss: 0.2390 - acc: 0.9163"
     ]
    },
    {
     "name": "stderr",
     "output_type": "stream",
     "text": [
      "/data/apps/miniforge3/envs/cse6250-project/lib/python3.9/site-packages/keras/src/engine/training.py:3079: UserWarning: You are saving your model as an HDF5 file via `model.save()`. This file format is considered legacy. We recommend using instead the native Keras format, e.g. `model.save('my_model.keras')`.\n",
      "  saving_api.save_model(\n"
     ]
    },
    {
     "name": "stdout",
     "output_type": "stream",
     "text": [
      "103/121 [========================>.....] - ETA: 0s - loss: 0.2375 - acc: 0.9169\n",
      "Epoch 2: val_loss improved from 0.25000 to 0.24375, saving model to ../results/timeseries-baseline/LSTM-128-mort_hosp-best_model.hdf5\n",
      "121/121 [==============================] - 0s 3ms/step - loss: 0.2360 - acc: 0.9174 - val_loss: 0.2438 - val_acc: 0.9146\n",
      "Epoch 3/100\n",
      "116/121 [===========================>..] - ETA: 0s - loss: 0.2116 - acc: 0.9269\n",
      "Epoch 3: val_loss improved from 0.24375 to 0.24329, saving model to ../results/timeseries-baseline/LSTM-128-mort_hosp-best_model.hdf5\n",
      "121/121 [==============================] - 0s 3ms/step - loss: 0.2116 - acc: 0.9266 - val_loss: 0.2433 - val_acc: 0.9133\n",
      "Epoch 4/100\n",
      "119/121 [============================>.] - ETA: 0s - loss: 0.1923 - acc: 0.9342\n",
      "Epoch 4: val_loss did not improve from 0.24329\n",
      "121/121 [==============================] - 0s 3ms/step - loss: 0.1926 - acc: 0.9341 - val_loss: 0.2448 - val_acc: 0.9096\n",
      "Epoch 5/100\n",
      "110/121 [==========================>...] - ETA: 0s - loss: 0.1748 - acc: 0.9392\n",
      "Epoch 5: val_loss did not improve from 0.24329\n",
      "121/121 [==============================] - 0s 3ms/step - loss: 0.1733 - acc: 0.9399 - val_loss: 0.2560 - val_acc: 0.9092\n",
      "Epoch 6/100\n",
      "120/121 [============================>.] - ETA: 0s - loss: 0.1506 - acc: 0.9508\n",
      "Epoch 6: val_loss did not improve from 0.24329\n",
      "121/121 [==============================] - 0s 3ms/step - loss: 0.1507 - acc: 0.9509 - val_loss: 0.2633 - val_acc: 0.9033\n",
      "138/138 [==============================] - 0s 912us/step\n",
      "0.8754401005603718 0.5547864897231991 0.9126191556967771 0.4363103953147877\n"
     ]
    },
    {
     "name": "stderr",
     "output_type": "stream",
     "text": [
      "2023-11-12 23:58:39.967220: I tensorflow/core/common_runtime/gpu/gpu_device.cc:1886] Created device /job:localhost/replica:0/task:0/device:GPU:0 with 13074 MB memory:  -> device: 0, name: Quadro RTX 5000, pci bus id: 0000:2b:00.0, compute capability: 7.5\n",
      "2023-11-12 23:58:39.979373: I tensorflow/core/common_runtime/gpu/gpu_device.cc:1886] Created device /job:localhost/replica:0/task:0/device:GPU:0 with 13074 MB memory:  -> device: 0, name: Quadro RTX 5000, pci bus id: 0000:2b:00.0, compute capability: 7.5\n"
     ]
    },
    {
     "name": "stdout",
     "output_type": "stream",
     "text": [
      "Problem type:  mort_icu\n",
      "__________________\n",
      "Epoch 1/100\n",
      "118/121 [============================>.] - ETA: 0s - loss: 0.2349 - acc: 0.9222\n",
      "Epoch 1: val_loss improved from inf to 0.18032, saving model to ../results/timeseries-baseline/LSTM-128-mort_icu-best_model.hdf5\n",
      "121/121 [==============================] - 1s 5ms/step - loss: 0.2340 - acc: 0.9226 - val_loss: 0.1803 - val_acc: 0.9414\n",
      "Epoch 2/100\n",
      " 55/121 [============>.................] - ETA: 0s - loss: 0.1690 - acc: 0.9457"
     ]
    },
    {
     "name": "stderr",
     "output_type": "stream",
     "text": [
      "/data/apps/miniforge3/envs/cse6250-project/lib/python3.9/site-packages/keras/src/engine/training.py:3079: UserWarning: You are saving your model as an HDF5 file via `model.save()`. This file format is considered legacy. We recommend using instead the native Keras format, e.g. `model.save('my_model.keras')`.\n",
      "  saving_api.save_model(\n"
     ]
    },
    {
     "name": "stdout",
     "output_type": "stream",
     "text": [
      "106/121 [=========================>....] - ETA: 0s - loss: 0.1709 - acc: 0.9456\n",
      "Epoch 2: val_loss improved from 0.18032 to 0.17258, saving model to ../results/timeseries-baseline/LSTM-128-mort_icu-best_model.hdf5\n",
      "121/121 [==============================] - 0s 3ms/step - loss: 0.1715 - acc: 0.9451 - val_loss: 0.1726 - val_acc: 0.9432\n",
      "Epoch 3/100\n",
      "118/121 [============================>.] - ETA: 0s - loss: 0.1525 - acc: 0.9498\n",
      "Epoch 3: val_loss did not improve from 0.17258\n",
      "121/121 [==============================] - 0s 3ms/step - loss: 0.1517 - acc: 0.9502 - val_loss: 0.1736 - val_acc: 0.9437\n",
      "Epoch 4/100\n",
      "115/121 [===========================>..] - ETA: 0s - loss: 0.1354 - acc: 0.9567\n",
      "Epoch 4: val_loss did not improve from 0.17258\n",
      "121/121 [==============================] - 0s 3ms/step - loss: 0.1360 - acc: 0.9565 - val_loss: 0.1739 - val_acc: 0.9405\n",
      "Epoch 5/100\n",
      "101/121 [========================>.....] - ETA: 0s - loss: 0.1160 - acc: 0.9624\n",
      "Epoch 5: val_loss did not improve from 0.17258\n",
      "121/121 [==============================] - 0s 3ms/step - loss: 0.1188 - acc: 0.9618 - val_loss: 0.1889 - val_acc: 0.9360\n",
      "138/138 [==============================] - 0s 920us/step\n",
      "0.88875786618403 0.509900183519775 0.9398547435315479 0.4301075268817204\n"
     ]
    },
    {
     "name": "stderr",
     "output_type": "stream",
     "text": [
      "2023-11-12 23:58:44.530700: I tensorflow/core/common_runtime/gpu/gpu_device.cc:1886] Created device /job:localhost/replica:0/task:0/device:GPU:0 with 13074 MB memory:  -> device: 0, name: Quadro RTX 5000, pci bus id: 0000:2b:00.0, compute capability: 7.5\n",
      "2023-11-12 23:58:44.542432: I tensorflow/core/common_runtime/gpu/gpu_device.cc:1886] Created device /job:localhost/replica:0/task:0/device:GPU:0 with 13074 MB memory:  -> device: 0, name: Quadro RTX 5000, pci bus id: 0000:2b:00.0, compute capability: 7.5\n"
     ]
    },
    {
     "name": "stdout",
     "output_type": "stream",
     "text": [
      "Problem type:  los_3\n",
      "__________________\n",
      "Epoch 1/100\n",
      "116/121 [===========================>..] - ETA: 0s - loss: 0.6570 - acc: 0.6367\n",
      "Epoch 1: val_loss improved from inf to 0.62259, saving model to ../results/timeseries-baseline/LSTM-128-los_3-best_model.hdf5\n",
      "121/121 [==============================] - 1s 5ms/step - loss: 0.6563 - acc: 0.6369 - val_loss: 0.6226 - val_acc: 0.6639\n",
      "Epoch 2/100\n",
      " 53/121 [============>.................] - ETA: 0s - loss: 0.6240 - acc: 0.6753"
     ]
    },
    {
     "name": "stderr",
     "output_type": "stream",
     "text": [
      "/data/apps/miniforge3/envs/cse6250-project/lib/python3.9/site-packages/keras/src/engine/training.py:3079: UserWarning: You are saving your model as an HDF5 file via `model.save()`. This file format is considered legacy. We recommend using instead the native Keras format, e.g. `model.save('my_model.keras')`.\n",
      "  saving_api.save_model(\n"
     ]
    },
    {
     "name": "stdout",
     "output_type": "stream",
     "text": [
      "108/121 [=========================>....] - ETA: 0s - loss: 0.6236 - acc: 0.6711\n",
      "Epoch 2: val_loss did not improve from 0.62259\n",
      "121/121 [==============================] - 0s 3ms/step - loss: 0.6210 - acc: 0.6737 - val_loss: 0.6265 - val_acc: 0.6608\n",
      "Epoch 3/100\n",
      "116/121 [===========================>..] - ETA: 0s - loss: 0.5992 - acc: 0.6924\n",
      "Epoch 3: val_loss improved from 0.62259 to 0.62235, saving model to ../results/timeseries-baseline/LSTM-128-los_3-best_model.hdf5\n",
      "121/121 [==============================] - 0s 3ms/step - loss: 0.5997 - acc: 0.6920 - val_loss: 0.6224 - val_acc: 0.6630\n",
      "Epoch 4/100\n",
      "115/121 [===========================>..] - ETA: 0s - loss: 0.5753 - acc: 0.7109\n",
      "Epoch 4: val_loss did not improve from 0.62235\n",
      "121/121 [==============================] - 0s 3ms/step - loss: 0.5749 - acc: 0.7115 - val_loss: 0.6244 - val_acc: 0.6599\n",
      "Epoch 5/100\n",
      "121/121 [==============================] - ETA: 0s - loss: 0.5427 - acc: 0.7378\n",
      "Epoch 5: val_loss did not improve from 0.62235\n",
      "121/121 [==============================] - 0s 3ms/step - loss: 0.5427 - acc: 0.7378 - val_loss: 0.6447 - val_acc: 0.6403\n",
      "Epoch 6/100\n",
      "115/121 [===========================>..] - ETA: 0s - loss: 0.5033 - acc: 0.7708\n",
      "Epoch 6: val_loss did not improve from 0.62235\n",
      "121/121 [==============================] - 0s 3ms/step - loss: 0.5043 - acc: 0.7697 - val_loss: 0.6780 - val_acc: 0.6390\n",
      "138/138 [==============================] - 0s 919us/step\n",
      "0.6760972664074466 0.6185990135306824 0.6484339536995006 0.5707952341368802\n"
     ]
    },
    {
     "name": "stderr",
     "output_type": "stream",
     "text": [
      "2023-11-12 23:58:49.513907: I tensorflow/core/common_runtime/gpu/gpu_device.cc:1886] Created device /job:localhost/replica:0/task:0/device:GPU:0 with 13074 MB memory:  -> device: 0, name: Quadro RTX 5000, pci bus id: 0000:2b:00.0, compute capability: 7.5\n",
      "2023-11-12 23:58:49.525989: I tensorflow/core/common_runtime/gpu/gpu_device.cc:1886] Created device /job:localhost/replica:0/task:0/device:GPU:0 with 13074 MB memory:  -> device: 0, name: Quadro RTX 5000, pci bus id: 0000:2b:00.0, compute capability: 7.5\n"
     ]
    },
    {
     "name": "stdout",
     "output_type": "stream",
     "text": [
      "Problem type:  los_7\n",
      "__________________\n",
      "Epoch 1/100\n",
      "118/121 [============================>.] - ETA: 0s - loss: 0.3102 - acc: 0.9019\n",
      "Epoch 1: val_loss improved from inf to 0.26642, saving model to ../results/timeseries-baseline/LSTM-128-los_7-best_model.hdf5\n",
      "121/121 [==============================] - 1s 5ms/step - loss: 0.3092 - acc: 0.9024 - val_loss: 0.2664 - val_acc: 0.9219\n",
      "Epoch 2/100\n",
      " 65/121 [===============>..............] - ETA: 0s - loss: 0.2509 - acc: 0.9242"
     ]
    },
    {
     "name": "stderr",
     "output_type": "stream",
     "text": [
      "/data/apps/miniforge3/envs/cse6250-project/lib/python3.9/site-packages/keras/src/engine/training.py:3079: UserWarning: You are saving your model as an HDF5 file via `model.save()`. This file format is considered legacy. We recommend using instead the native Keras format, e.g. `model.save('my_model.keras')`.\n",
      "  saving_api.save_model(\n"
     ]
    },
    {
     "name": "stdout",
     "output_type": "stream",
     "text": [
      "106/121 [=========================>....] - ETA: 0s - loss: 0.2521 - acc: 0.9238\n",
      "Epoch 2: val_loss improved from 0.26642 to 0.25719, saving model to ../results/timeseries-baseline/LSTM-128-los_7-best_model.hdf5\n",
      "121/121 [==============================] - 0s 3ms/step - loss: 0.2543 - acc: 0.9225 - val_loss: 0.2572 - val_acc: 0.9228\n",
      "Epoch 3/100\n",
      "121/121 [==============================] - ETA: 0s - loss: 0.2380 - acc: 0.9244\n",
      "Epoch 3: val_loss did not improve from 0.25719\n",
      "121/121 [==============================] - 0s 3ms/step - loss: 0.2380 - acc: 0.9244 - val_loss: 0.2573 - val_acc: 0.9223\n",
      "Epoch 4/100\n",
      "110/121 [==========================>...] - ETA: 0s - loss: 0.2221 - acc: 0.9266\n",
      "Epoch 4: val_loss did not improve from 0.25719\n",
      "121/121 [==============================] - 0s 3ms/step - loss: 0.2226 - acc: 0.9270 - val_loss: 0.2639 - val_acc: 0.9210\n",
      "Epoch 5/100\n",
      "102/121 [========================>.....] - ETA: 0s - loss: 0.2071 - acc: 0.9331\n",
      "Epoch 5: val_loss did not improve from 0.25719\n",
      "121/121 [==============================] - 0s 3ms/step - loss: 0.2072 - acc: 0.9328 - val_loss: 0.2725 - val_acc: 0.9164\n",
      "138/138 [==============================] - 0s 896us/step\n",
      "0.7301061173533084 0.20146568546427762 0.9182932364956877 0.0055248618784530384\n"
     ]
    },
    {
     "name": "stderr",
     "output_type": "stream",
     "text": [
      "2023-11-12 23:58:54.085563: I tensorflow/core/common_runtime/gpu/gpu_device.cc:1886] Created device /job:localhost/replica:0/task:0/device:GPU:0 with 13074 MB memory:  -> device: 0, name: Quadro RTX 5000, pci bus id: 0000:2b:00.0, compute capability: 7.5\n",
      "2023-11-12 23:58:54.096066: I tensorflow/core/common_runtime/gpu/gpu_device.cc:1886] Created device /job:localhost/replica:0/task:0/device:GPU:0 with 13074 MB memory:  -> device: 0, name: Quadro RTX 5000, pci bus id: 0000:2b:00.0, compute capability: 7.5\n"
     ]
    },
    {
     "name": "stdout",
     "output_type": "stream",
     "text": [
      "Iteration number:  10\n",
      "=============================\n",
      "Problem type:  mort_hosp\n",
      "__________________\n",
      "Epoch 1/100\n",
      "112/121 [==========================>...] - ETA: 0s - loss: 0.3070 - acc: 0.8894\n",
      "Epoch 1: val_loss improved from inf to 0.24998, saving model to ../results/timeseries-baseline/LSTM-128-mort_hosp-best_model.hdf5\n",
      "121/121 [==============================] - 1s 5ms/step - loss: 0.3031 - acc: 0.8909 - val_loss: 0.2500 - val_acc: 0.9114\n",
      "Epoch 2/100\n",
      " 58/121 [=============>................] - ETA: 0s - loss: 0.2343 - acc: 0.9208"
     ]
    },
    {
     "name": "stderr",
     "output_type": "stream",
     "text": [
      "/data/apps/miniforge3/envs/cse6250-project/lib/python3.9/site-packages/keras/src/engine/training.py:3079: UserWarning: You are saving your model as an HDF5 file via `model.save()`. This file format is considered legacy. We recommend using instead the native Keras format, e.g. `model.save('my_model.keras')`.\n",
      "  saving_api.save_model(\n"
     ]
    },
    {
     "name": "stdout",
     "output_type": "stream",
     "text": [
      "110/121 [==========================>...] - ETA: 0s - loss: 0.2340 - acc: 0.9200\n",
      "Epoch 2: val_loss improved from 0.24998 to 0.24025, saving model to ../results/timeseries-baseline/LSTM-128-mort_hosp-best_model.hdf5\n",
      "121/121 [==============================] - 0s 3ms/step - loss: 0.2360 - acc: 0.9187 - val_loss: 0.2403 - val_acc: 0.9155\n",
      "Epoch 3/100\n",
      "108/121 [=========================>....] - ETA: 0s - loss: 0.2096 - acc: 0.9279\n",
      "Epoch 3: val_loss did not improve from 0.24025\n",
      "121/121 [==============================] - 0s 3ms/step - loss: 0.2142 - acc: 0.9259 - val_loss: 0.2456 - val_acc: 0.9083\n",
      "Epoch 4/100\n",
      "115/121 [===========================>..] - ETA: 0s - loss: 0.1948 - acc: 0.9351\n",
      "Epoch 4: val_loss did not improve from 0.24025\n",
      "121/121 [==============================] - 0s 3ms/step - loss: 0.1939 - acc: 0.9353 - val_loss: 0.2504 - val_acc: 0.9114\n",
      "Epoch 5/100\n",
      "103/121 [========================>.....] - ETA: 0s - loss: 0.1657 - acc: 0.9448\n",
      "Epoch 5: val_loss did not improve from 0.24025\n",
      "121/121 [==============================] - 0s 3ms/step - loss: 0.1702 - acc: 0.9440 - val_loss: 0.2616 - val_acc: 0.9092\n",
      "138/138 [==============================] - 0s 898us/step\n",
      "0.8745307895733062 0.5602022954716375 0.9144348615524285 0.42965204236006055\n"
     ]
    },
    {
     "name": "stderr",
     "output_type": "stream",
     "text": [
      "2023-11-12 23:58:58.701369: I tensorflow/core/common_runtime/gpu/gpu_device.cc:1886] Created device /job:localhost/replica:0/task:0/device:GPU:0 with 13074 MB memory:  -> device: 0, name: Quadro RTX 5000, pci bus id: 0000:2b:00.0, compute capability: 7.5\n",
      "2023-11-12 23:58:58.714083: I tensorflow/core/common_runtime/gpu/gpu_device.cc:1886] Created device /job:localhost/replica:0/task:0/device:GPU:0 with 13074 MB memory:  -> device: 0, name: Quadro RTX 5000, pci bus id: 0000:2b:00.0, compute capability: 7.5\n"
     ]
    },
    {
     "name": "stdout",
     "output_type": "stream",
     "text": [
      "Problem type:  mort_icu\n",
      "__________________\n",
      "Epoch 1/100\n",
      "113/121 [===========================>..] - ETA: 0s - loss: 0.2454 - acc: 0.9165\n",
      "Epoch 1: val_loss improved from inf to 0.18181, saving model to ../results/timeseries-baseline/LSTM-128-mort_icu-best_model.hdf5\n",
      "121/121 [==============================] - 1s 5ms/step - loss: 0.2414 - acc: 0.9186 - val_loss: 0.1818 - val_acc: 0.9428\n",
      "Epoch 2/100\n",
      " 59/121 [=============>................] - ETA: 0s - loss: 0.1652 - acc: 0.9478"
     ]
    },
    {
     "name": "stderr",
     "output_type": "stream",
     "text": [
      "/data/apps/miniforge3/envs/cse6250-project/lib/python3.9/site-packages/keras/src/engine/training.py:3079: UserWarning: You are saving your model as an HDF5 file via `model.save()`. This file format is considered legacy. We recommend using instead the native Keras format, e.g. `model.save('my_model.keras')`.\n",
      "  saving_api.save_model(\n"
     ]
    },
    {
     "name": "stdout",
     "output_type": "stream",
     "text": [
      "110/121 [==========================>...] - ETA: 0s - loss: 0.1729 - acc: 0.9448\n",
      "Epoch 2: val_loss improved from 0.18181 to 0.17502, saving model to ../results/timeseries-baseline/LSTM-128-mort_icu-best_model.hdf5\n",
      "121/121 [==============================] - 0s 3ms/step - loss: 0.1731 - acc: 0.9446 - val_loss: 0.1750 - val_acc: 0.9423\n",
      "Epoch 3/100\n",
      "121/121 [==============================] - ETA: 0s - loss: 0.1540 - acc: 0.9520\n",
      "Epoch 3: val_loss did not improve from 0.17502\n",
      "121/121 [==============================] - 0s 3ms/step - loss: 0.1540 - acc: 0.9520 - val_loss: 0.1792 - val_acc: 0.9428\n",
      "Epoch 4/100\n",
      "115/121 [===========================>..] - ETA: 0s - loss: 0.1390 - acc: 0.9554\n",
      "Epoch 4: val_loss did not improve from 0.17502\n",
      "121/121 [==============================] - 0s 3ms/step - loss: 0.1386 - acc: 0.9556 - val_loss: 0.1842 - val_acc: 0.9355\n",
      "Epoch 5/100\n",
      "119/121 [============================>.] - ETA: 0s - loss: 0.1234 - acc: 0.9611\n",
      "Epoch 5: val_loss did not improve from 0.17502\n",
      "121/121 [==============================] - 0s 3ms/step - loss: 0.1234 - acc: 0.9613 - val_loss: 0.1820 - val_acc: 0.9360\n",
      "138/138 [==============================] - 0s 893us/step\n",
      "0.8882791639954236 0.49700903572189536 0.9384929641398093 0.4146868250539957\n"
     ]
    },
    {
     "name": "stderr",
     "output_type": "stream",
     "text": [
      "2023-11-12 23:59:03.257336: I tensorflow/core/common_runtime/gpu/gpu_device.cc:1886] Created device /job:localhost/replica:0/task:0/device:GPU:0 with 13074 MB memory:  -> device: 0, name: Quadro RTX 5000, pci bus id: 0000:2b:00.0, compute capability: 7.5\n",
      "2023-11-12 23:59:03.269648: I tensorflow/core/common_runtime/gpu/gpu_device.cc:1886] Created device /job:localhost/replica:0/task:0/device:GPU:0 with 13074 MB memory:  -> device: 0, name: Quadro RTX 5000, pci bus id: 0000:2b:00.0, compute capability: 7.5\n"
     ]
    },
    {
     "name": "stdout",
     "output_type": "stream",
     "text": [
      "Problem type:  los_3\n",
      "__________________\n",
      "Epoch 1/100\n",
      "114/121 [===========================>..] - ETA: 0s - loss: 0.6624 - acc: 0.6364\n",
      "Epoch 1: val_loss improved from inf to 0.63301, saving model to ../results/timeseries-baseline/LSTM-128-los_3-best_model.hdf5\n",
      "121/121 [==============================] - 1s 5ms/step - loss: 0.6619 - acc: 0.6375 - val_loss: 0.6330 - val_acc: 0.6726\n",
      "Epoch 2/100\n",
      " 56/121 [============>.................] - ETA: 0s - loss: 0.6298 - acc: 0.6694"
     ]
    },
    {
     "name": "stderr",
     "output_type": "stream",
     "text": [
      "/data/apps/miniforge3/envs/cse6250-project/lib/python3.9/site-packages/keras/src/engine/training.py:3079: UserWarning: You are saving your model as an HDF5 file via `model.save()`. This file format is considered legacy. We recommend using instead the native Keras format, e.g. `model.save('my_model.keras')`.\n",
      "  saving_api.save_model(\n"
     ]
    },
    {
     "name": "stdout",
     "output_type": "stream",
     "text": [
      "111/121 [==========================>...] - ETA: 0s - loss: 0.6255 - acc: 0.6722\n",
      "Epoch 2: val_loss improved from 0.63301 to 0.61992, saving model to ../results/timeseries-baseline/LSTM-128-los_3-best_model.hdf5\n",
      "121/121 [==============================] - 0s 3ms/step - loss: 0.6248 - acc: 0.6724 - val_loss: 0.6199 - val_acc: 0.6735\n",
      "Epoch 3/100\n",
      "107/121 [=========================>....] - ETA: 0s - loss: 0.6009 - acc: 0.6897\n",
      "Epoch 3: val_loss improved from 0.61992 to 0.61754, saving model to ../results/timeseries-baseline/LSTM-128-los_3-best_model.hdf5\n",
      "121/121 [==============================] - 0s 3ms/step - loss: 0.6006 - acc: 0.6909 - val_loss: 0.6175 - val_acc: 0.6653\n",
      "Epoch 4/100\n",
      "108/121 [=========================>....] - ETA: 0s - loss: 0.5738 - acc: 0.7184\n",
      "Epoch 4: val_loss did not improve from 0.61754\n",
      "121/121 [==============================] - 0s 3ms/step - loss: 0.5746 - acc: 0.7169 - val_loss: 0.6291 - val_acc: 0.6626\n",
      "Epoch 5/100\n",
      "106/121 [=========================>....] - ETA: 0s - loss: 0.5390 - acc: 0.7407\n",
      "Epoch 5: val_loss did not improve from 0.61754\n",
      "121/121 [==============================] - 0s 3ms/step - loss: 0.5404 - acc: 0.7404 - val_loss: 0.6394 - val_acc: 0.6717\n",
      "Epoch 6/100\n",
      "114/121 [===========================>..] - ETA: 0s - loss: 0.4989 - acc: 0.7722\n",
      "Epoch 6: val_loss did not improve from 0.61754\n",
      "121/121 [==============================] - 0s 3ms/step - loss: 0.4995 - acc: 0.7716 - val_loss: 0.6570 - val_acc: 0.6562\n",
      "138/138 [==============================] - 0s 865us/step\n",
      "0.682467618542645 0.6227529420552176 0.6586472991375397 0.5372307692307693\n"
     ]
    },
    {
     "name": "stderr",
     "output_type": "stream",
     "text": [
      "2023-11-12 23:59:08.177901: I tensorflow/core/common_runtime/gpu/gpu_device.cc:1886] Created device /job:localhost/replica:0/task:0/device:GPU:0 with 13074 MB memory:  -> device: 0, name: Quadro RTX 5000, pci bus id: 0000:2b:00.0, compute capability: 7.5\n",
      "2023-11-12 23:59:08.186308: I tensorflow/core/common_runtime/gpu/gpu_device.cc:1886] Created device /job:localhost/replica:0/task:0/device:GPU:0 with 13074 MB memory:  -> device: 0, name: Quadro RTX 5000, pci bus id: 0000:2b:00.0, compute capability: 7.5\n"
     ]
    },
    {
     "name": "stdout",
     "output_type": "stream",
     "text": [
      "Problem type:  los_7\n",
      "__________________\n",
      "Epoch 1/100\n",
      "103/121 [========================>.....] - ETA: 0s - loss: 0.3190 - acc: 0.8995\n",
      "Epoch 1: val_loss improved from inf to 0.27173, saving model to ../results/timeseries-baseline/LSTM-128-los_7-best_model.hdf5\n",
      "121/121 [==============================] - 1s 5ms/step - loss: 0.3071 - acc: 0.9047 - val_loss: 0.2717 - val_acc: 0.9223\n",
      "Epoch 2/100\n",
      " 61/121 [==============>...............] - ETA: 0s - loss: 0.2610 - acc: 0.9216"
     ]
    },
    {
     "name": "stderr",
     "output_type": "stream",
     "text": [
      "/data/apps/miniforge3/envs/cse6250-project/lib/python3.9/site-packages/keras/src/engine/training.py:3079: UserWarning: You are saving your model as an HDF5 file via `model.save()`. This file format is considered legacy. We recommend using instead the native Keras format, e.g. `model.save('my_model.keras')`.\n",
      "  saving_api.save_model(\n"
     ]
    },
    {
     "name": "stdout",
     "output_type": "stream",
     "text": [
      "119/121 [============================>.] - ETA: 0s - loss: 0.2571 - acc: 0.9221\n",
      "Epoch 2: val_loss improved from 0.27173 to 0.26263, saving model to ../results/timeseries-baseline/LSTM-128-los_7-best_model.hdf5\n",
      "121/121 [==============================] - 0s 3ms/step - loss: 0.2560 - acc: 0.9225 - val_loss: 0.2626 - val_acc: 0.9187\n",
      "Epoch 3/100\n",
      "108/121 [=========================>....] - ETA: 0s - loss: 0.2399 - acc: 0.9251\n",
      "Epoch 3: val_loss improved from 0.26263 to 0.26008, saving model to ../results/timeseries-baseline/LSTM-128-los_7-best_model.hdf5\n",
      "121/121 [==============================] - 0s 3ms/step - loss: 0.2392 - acc: 0.9251 - val_loss: 0.2601 - val_acc: 0.9210\n",
      "Epoch 4/100\n",
      "103/121 [========================>.....] - ETA: 0s - loss: 0.2252 - acc: 0.9270\n",
      "Epoch 4: val_loss did not improve from 0.26008\n",
      "121/121 [==============================] - 0s 3ms/step - loss: 0.2251 - acc: 0.9276 - val_loss: 0.2650 - val_acc: 0.9196\n",
      "Epoch 5/100\n",
      "110/121 [==========================>...] - ETA: 0s - loss: 0.2069 - acc: 0.9329\n",
      "Epoch 5: val_loss did not improve from 0.26008\n",
      "121/121 [==============================] - 0s 3ms/step - loss: 0.2080 - acc: 0.9326 - val_loss: 0.2736 - val_acc: 0.9164\n",
      "Epoch 6/100\n",
      "120/121 [============================>.] - ETA: 0s - loss: 0.1908 - acc: 0.9402\n",
      "Epoch 6: val_loss did not improve from 0.26008\n",
      "121/121 [==============================] - 0s 3ms/step - loss: 0.1908 - acc: 0.9402 - val_loss: 0.2814 - val_acc: 0.9137\n",
      "138/138 [==============================] - 0s 875us/step\n",
      "0.735283673186295 0.19798403806914566 0.9189741261915569 0.032520325203252036\n"
     ]
    },
    {
     "name": "stderr",
     "output_type": "stream",
     "text": [
      "2023-11-12 23:59:13.066663: I tensorflow/core/common_runtime/gpu/gpu_device.cc:1886] Created device /job:localhost/replica:0/task:0/device:GPU:0 with 13074 MB memory:  -> device: 0, name: Quadro RTX 5000, pci bus id: 0000:2b:00.0, compute capability: 7.5\n",
      "2023-11-12 23:59:13.076912: I tensorflow/core/common_runtime/gpu/gpu_device.cc:1886] Created device /job:localhost/replica:0/task:0/device:GPU:0 with 13074 MB memory:  -> device: 0, name: Quadro RTX 5000, pci bus id: 0000:2b:00.0, compute capability: 7.5\n"
     ]
    },
    {
     "name": "stdout",
     "output_type": "stream",
     "text": [
      "Hidden unit:  256\n",
      "Iteration number:  1\n",
      "=============================\n",
      "Problem type:  mort_hosp\n",
      "__________________\n",
      "Epoch 1/100\n",
      "117/121 [============================>.] - ETA: 0s - loss: 0.2898 - acc: 0.8950\n",
      "Epoch 1: val_loss improved from inf to 0.24535, saving model to ../results/timeseries-baseline/LSTM-256-mort_hosp-best_model.hdf5\n",
      "121/121 [==============================] - 2s 6ms/step - loss: 0.2889 - acc: 0.8962 - val_loss: 0.2453 - val_acc: 0.9137\n",
      "Epoch 2/100\n",
      " 50/121 [===========>..................] - ETA: 0s - loss: 0.2395 - acc: 0.9175"
     ]
    },
    {
     "name": "stderr",
     "output_type": "stream",
     "text": [
      "/data/apps/miniforge3/envs/cse6250-project/lib/python3.9/site-packages/keras/src/engine/training.py:3079: UserWarning: You are saving your model as an HDF5 file via `model.save()`. This file format is considered legacy. We recommend using instead the native Keras format, e.g. `model.save('my_model.keras')`.\n",
      "  saving_api.save_model(\n"
     ]
    },
    {
     "name": "stdout",
     "output_type": "stream",
     "text": [
      "121/121 [==============================] - ETA: 0s - loss: 0.2314 - acc: 0.9180\n",
      "Epoch 2: val_loss improved from 0.24535 to 0.23905, saving model to ../results/timeseries-baseline/LSTM-256-mort_hosp-best_model.hdf5\n",
      "121/121 [==============================] - 0s 4ms/step - loss: 0.2314 - acc: 0.9180 - val_loss: 0.2391 - val_acc: 0.9155\n",
      "Epoch 3/100\n",
      "109/121 [==========================>...] - ETA: 0s - loss: 0.2105 - acc: 0.9265\n",
      "Epoch 3: val_loss did not improve from 0.23905\n",
      "121/121 [==============================] - 0s 4ms/step - loss: 0.2092 - acc: 0.9267 - val_loss: 0.2492 - val_acc: 0.9087\n",
      "Epoch 4/100\n",
      "118/121 [============================>.] - ETA: 0s - loss: 0.1875 - acc: 0.9351\n",
      "Epoch 4: val_loss did not improve from 0.23905\n",
      "121/121 [==============================] - 0s 4ms/step - loss: 0.1876 - acc: 0.9354 - val_loss: 0.2641 - val_acc: 0.9028\n",
      "Epoch 5/100\n",
      "119/121 [============================>.] - ETA: 0s - loss: 0.1656 - acc: 0.9455\n",
      "Epoch 5: val_loss did not improve from 0.23905\n",
      "121/121 [==============================] - 0s 4ms/step - loss: 0.1660 - acc: 0.9452 - val_loss: 0.2525 - val_acc: 0.9142\n",
      "138/138 [==============================] - 0s 897us/step\n",
      "0.8778750393321684 0.5587613217336674 0.9144348615524285 0.41368584758942456\n"
     ]
    },
    {
     "name": "stderr",
     "output_type": "stream",
     "text": [
      "2023-11-12 23:59:18.173989: I tensorflow/core/common_runtime/gpu/gpu_device.cc:1886] Created device /job:localhost/replica:0/task:0/device:GPU:0 with 13074 MB memory:  -> device: 0, name: Quadro RTX 5000, pci bus id: 0000:2b:00.0, compute capability: 7.5\n",
      "2023-11-12 23:59:18.188146: I tensorflow/core/common_runtime/gpu/gpu_device.cc:1886] Created device /job:localhost/replica:0/task:0/device:GPU:0 with 13074 MB memory:  -> device: 0, name: Quadro RTX 5000, pci bus id: 0000:2b:00.0, compute capability: 7.5\n"
     ]
    },
    {
     "name": "stdout",
     "output_type": "stream",
     "text": [
      "Problem type:  mort_icu\n",
      "__________________\n",
      "Epoch 1/100\n",
      "118/121 [============================>.] - ETA: 0s - loss: 0.2271 - acc: 0.9235\n",
      "Epoch 1: val_loss improved from inf to 0.17750, saving model to ../results/timeseries-baseline/LSTM-256-mort_icu-best_model.hdf5\n",
      "121/121 [==============================] - 2s 6ms/step - loss: 0.2273 - acc: 0.9236 - val_loss: 0.1775 - val_acc: 0.9460\n",
      "Epoch 2/100\n",
      " 47/121 [==========>...................] - ETA: 0s - loss: 0.1668 - acc: 0.9481"
     ]
    },
    {
     "name": "stderr",
     "output_type": "stream",
     "text": [
      "/data/apps/miniforge3/envs/cse6250-project/lib/python3.9/site-packages/keras/src/engine/training.py:3079: UserWarning: You are saving your model as an HDF5 file via `model.save()`. This file format is considered legacy. We recommend using instead the native Keras format, e.g. `model.save('my_model.keras')`.\n",
      "  saving_api.save_model(\n"
     ]
    },
    {
     "name": "stdout",
     "output_type": "stream",
     "text": [
      "119/121 [============================>.] - ETA: 0s - loss: 0.1687 - acc: 0.9466\n",
      "Epoch 2: val_loss improved from 0.17750 to 0.16681, saving model to ../results/timeseries-baseline/LSTM-256-mort_icu-best_model.hdf5\n",
      "121/121 [==============================] - 0s 4ms/step - loss: 0.1694 - acc: 0.9463 - val_loss: 0.1668 - val_acc: 0.9428\n",
      "Epoch 3/100\n",
      "118/121 [============================>.] - ETA: 0s - loss: 0.1514 - acc: 0.9498\n",
      "Epoch 3: val_loss did not improve from 0.16681\n",
      "121/121 [==============================] - 0s 4ms/step - loss: 0.1510 - acc: 0.9500 - val_loss: 0.1849 - val_acc: 0.9396\n",
      "Epoch 4/100\n",
      "111/121 [==========================>...] - ETA: 0s - loss: 0.1349 - acc: 0.9549\n",
      "Epoch 4: val_loss did not improve from 0.16681\n",
      "121/121 [==============================] - 1s 4ms/step - loss: 0.1351 - acc: 0.9552 - val_loss: 0.1738 - val_acc: 0.9414\n",
      "Epoch 5/100\n",
      "111/121 [==========================>...] - ETA: 0s - loss: 0.1197 - acc: 0.9619\n",
      "Epoch 5: val_loss did not improve from 0.16681\n",
      "121/121 [==============================] - 0s 4ms/step - loss: 0.1194 - acc: 0.9620 - val_loss: 0.1858 - val_acc: 0.9382\n",
      "138/138 [==============================] - 0s 899us/step\n",
      "0.8873634194380091 0.5086819617518271 0.9423513390830686 0.4253393665158371\n"
     ]
    },
    {
     "name": "stderr",
     "output_type": "stream",
     "text": [
      "2023-11-12 23:59:23.449118: I tensorflow/core/common_runtime/gpu/gpu_device.cc:1886] Created device /job:localhost/replica:0/task:0/device:GPU:0 with 13074 MB memory:  -> device: 0, name: Quadro RTX 5000, pci bus id: 0000:2b:00.0, compute capability: 7.5\n",
      "2023-11-12 23:59:23.458167: I tensorflow/core/common_runtime/gpu/gpu_device.cc:1886] Created device /job:localhost/replica:0/task:0/device:GPU:0 with 13074 MB memory:  -> device: 0, name: Quadro RTX 5000, pci bus id: 0000:2b:00.0, compute capability: 7.5\n"
     ]
    },
    {
     "name": "stdout",
     "output_type": "stream",
     "text": [
      "Problem type:  los_3\n",
      "__________________\n",
      "Epoch 1/100\n",
      "115/121 [===========================>..] - ETA: 0s - loss: 0.6596 - acc: 0.6374\n",
      "Epoch 1: val_loss improved from inf to 0.62712, saving model to ../results/timeseries-baseline/LSTM-256-los_3-best_model.hdf5\n",
      "121/121 [==============================] - 2s 6ms/step - loss: 0.6585 - acc: 0.6381 - val_loss: 0.6271 - val_acc: 0.6639\n",
      "Epoch 2/100\n",
      " 47/121 [==========>...................] - ETA: 0s - loss: 0.6251 - acc: 0.6695"
     ]
    },
    {
     "name": "stderr",
     "output_type": "stream",
     "text": [
      "/data/apps/miniforge3/envs/cse6250-project/lib/python3.9/site-packages/keras/src/engine/training.py:3079: UserWarning: You are saving your model as an HDF5 file via `model.save()`. This file format is considered legacy. We recommend using instead the native Keras format, e.g. `model.save('my_model.keras')`.\n",
      "  saving_api.save_model(\n"
     ]
    },
    {
     "name": "stdout",
     "output_type": "stream",
     "text": [
      "115/121 [===========================>..] - ETA: 0s - loss: 0.6232 - acc: 0.6700\n",
      "Epoch 2: val_loss improved from 0.62712 to 0.62145, saving model to ../results/timeseries-baseline/LSTM-256-los_3-best_model.hdf5\n",
      "121/121 [==============================] - 1s 4ms/step - loss: 0.6235 - acc: 0.6700 - val_loss: 0.6214 - val_acc: 0.6649\n",
      "Epoch 3/100\n",
      "113/121 [===========================>..] - ETA: 0s - loss: 0.6005 - acc: 0.6883\n",
      "Epoch 3: val_loss improved from 0.62145 to 0.61587, saving model to ../results/timeseries-baseline/LSTM-256-los_3-best_model.hdf5\n",
      "121/121 [==============================] - 1s 4ms/step - loss: 0.5997 - acc: 0.6894 - val_loss: 0.6159 - val_acc: 0.6698\n",
      "Epoch 4/100\n",
      "110/121 [==========================>...] - ETA: 0s - loss: 0.5754 - acc: 0.7116\n",
      "Epoch 4: val_loss did not improve from 0.61587\n",
      "121/121 [==============================] - 0s 4ms/step - loss: 0.5775 - acc: 0.7101 - val_loss: 0.6168 - val_acc: 0.6803\n",
      "Epoch 5/100\n",
      "112/121 [==========================>...] - ETA: 0s - loss: 0.5389 - acc: 0.7410\n",
      "Epoch 5: val_loss did not improve from 0.61587\n",
      "121/121 [==============================] - 0s 4ms/step - loss: 0.5400 - acc: 0.7393 - val_loss: 0.6300 - val_acc: 0.6667\n",
      "Epoch 6/100\n",
      "119/121 [============================>.] - ETA: 0s - loss: 0.4934 - acc: 0.7748\n",
      "Epoch 6: val_loss did not improve from 0.61587\n",
      "121/121 [==============================] - 0s 4ms/step - loss: 0.4941 - acc: 0.7739 - val_loss: 0.6644 - val_acc: 0.6671\n",
      "138/138 [==============================] - 0s 881us/step\n",
      "0.6890032444579104 0.6339196897901807 0.657739446209714 0.5209656925031766\n"
     ]
    },
    {
     "name": "stderr",
     "output_type": "stream",
     "text": [
      "2023-11-12 23:59:29.262512: I tensorflow/core/common_runtime/gpu/gpu_device.cc:1886] Created device /job:localhost/replica:0/task:0/device:GPU:0 with 13074 MB memory:  -> device: 0, name: Quadro RTX 5000, pci bus id: 0000:2b:00.0, compute capability: 7.5\n",
      "2023-11-12 23:59:29.274401: I tensorflow/core/common_runtime/gpu/gpu_device.cc:1886] Created device /job:localhost/replica:0/task:0/device:GPU:0 with 13074 MB memory:  -> device: 0, name: Quadro RTX 5000, pci bus id: 0000:2b:00.0, compute capability: 7.5\n"
     ]
    },
    {
     "name": "stdout",
     "output_type": "stream",
     "text": [
      "Problem type:  los_7\n",
      "__________________\n",
      "Epoch 1/100\n",
      "121/121 [==============================] - ETA: 0s - loss: 0.2932 - acc: 0.9113\n",
      "Epoch 1: val_loss improved from inf to 0.25946, saving model to ../results/timeseries-baseline/LSTM-256-los_7-best_model.hdf5\n",
      "121/121 [==============================] - 1s 6ms/step - loss: 0.2932 - acc: 0.9113 - val_loss: 0.2595 - val_acc: 0.9233\n",
      "Epoch 2/100\n",
      " 50/121 [===========>..................] - ETA: 0s - loss: 0.2523 - acc: 0.9211"
     ]
    },
    {
     "name": "stderr",
     "output_type": "stream",
     "text": [
      "/data/apps/miniforge3/envs/cse6250-project/lib/python3.9/site-packages/keras/src/engine/training.py:3079: UserWarning: You are saving your model as an HDF5 file via `model.save()`. This file format is considered legacy. We recommend using instead the native Keras format, e.g. `model.save('my_model.keras')`.\n",
      "  saving_api.save_model(\n"
     ]
    },
    {
     "name": "stdout",
     "output_type": "stream",
     "text": [
      "109/121 [==========================>...] - ETA: 0s - loss: 0.2475 - acc: 0.9243\n",
      "Epoch 2: val_loss did not improve from 0.25946\n",
      "121/121 [==============================] - 0s 4ms/step - loss: 0.2516 - acc: 0.9226 - val_loss: 0.2654 - val_acc: 0.9219\n",
      "Epoch 3/100\n",
      "116/121 [===========================>..] - ETA: 0s - loss: 0.2398 - acc: 0.9251\n",
      "Epoch 3: val_loss did not improve from 0.25946\n",
      "121/121 [==============================] - 0s 4ms/step - loss: 0.2409 - acc: 0.9246 - val_loss: 0.2625 - val_acc: 0.9210\n",
      "Epoch 4/100\n",
      "114/121 [===========================>..] - ETA: 0s - loss: 0.2274 - acc: 0.9276\n",
      "Epoch 4: val_loss improved from 0.25946 to 0.25863, saving model to ../results/timeseries-baseline/LSTM-256-los_7-best_model.hdf5\n",
      "121/121 [==============================] - 1s 4ms/step - loss: 0.2283 - acc: 0.9275 - val_loss: 0.2586 - val_acc: 0.9214\n",
      "Epoch 5/100\n",
      "108/121 [=========================>....] - ETA: 0s - loss: 0.2100 - acc: 0.9329\n",
      "Epoch 5: val_loss did not improve from 0.25863\n",
      "121/121 [==============================] - 0s 4ms/step - loss: 0.2112 - acc: 0.9328 - val_loss: 0.2616 - val_acc: 0.9205\n",
      "Epoch 6/100\n",
      "111/121 [==========================>...] - ETA: 0s - loss: 0.1938 - acc: 0.9392\n",
      "Epoch 6: val_loss did not improve from 0.25863\n",
      "121/121 [==============================] - 0s 4ms/step - loss: 0.1941 - acc: 0.9394 - val_loss: 0.2953 - val_acc: 0.9096\n",
      "Epoch 7/100\n",
      "119/121 [============================>.] - ETA: 0s - loss: 0.1795 - acc: 0.9436\n",
      "Epoch 7: val_loss did not improve from 0.25863\n",
      "121/121 [==============================] - 0s 4ms/step - loss: 0.1791 - acc: 0.9438 - val_loss: 0.2806 - val_acc: 0.9114\n",
      "138/138 [==============================] - 0s 880us/step\n",
      "0.7144742682757664 0.1849790519927027 0.915796640944167 0.03636363636363636\n"
     ]
    },
    {
     "name": "stderr",
     "output_type": "stream",
     "text": [
      "2023-11-12 23:59:35.363000: I tensorflow/core/common_runtime/gpu/gpu_device.cc:1886] Created device /job:localhost/replica:0/task:0/device:GPU:0 with 13074 MB memory:  -> device: 0, name: Quadro RTX 5000, pci bus id: 0000:2b:00.0, compute capability: 7.5\n",
      "2023-11-12 23:59:35.372755: I tensorflow/core/common_runtime/gpu/gpu_device.cc:1886] Created device /job:localhost/replica:0/task:0/device:GPU:0 with 13074 MB memory:  -> device: 0, name: Quadro RTX 5000, pci bus id: 0000:2b:00.0, compute capability: 7.5\n"
     ]
    },
    {
     "name": "stdout",
     "output_type": "stream",
     "text": [
      "Iteration number:  2\n",
      "=============================\n",
      "Problem type:  mort_hosp\n",
      "__________________\n",
      "Epoch 1/100\n",
      "112/121 [==========================>...] - ETA: 0s - loss: 0.2899 - acc: 0.8973\n",
      "Epoch 1: val_loss improved from inf to 0.24479, saving model to ../results/timeseries-baseline/LSTM-256-mort_hosp-best_model.hdf5\n",
      "121/121 [==============================] - 2s 6ms/step - loss: 0.2874 - acc: 0.8980 - val_loss: 0.2448 - val_acc: 0.9137\n",
      "Epoch 2/100\n",
      " 47/121 [==========>...................] - ETA: 0s - loss: 0.2363 - acc: 0.9199"
     ]
    },
    {
     "name": "stderr",
     "output_type": "stream",
     "text": [
      "/data/apps/miniforge3/envs/cse6250-project/lib/python3.9/site-packages/keras/src/engine/training.py:3079: UserWarning: You are saving your model as an HDF5 file via `model.save()`. This file format is considered legacy. We recommend using instead the native Keras format, e.g. `model.save('my_model.keras')`.\n",
      "  saving_api.save_model(\n"
     ]
    },
    {
     "name": "stdout",
     "output_type": "stream",
     "text": [
      "117/121 [============================>.] - ETA: 0s - loss: 0.2305 - acc: 0.9195\n",
      "Epoch 2: val_loss improved from 0.24479 to 0.23936, saving model to ../results/timeseries-baseline/LSTM-256-mort_hosp-best_model.hdf5\n",
      "121/121 [==============================] - 0s 4ms/step - loss: 0.2301 - acc: 0.9199 - val_loss: 0.2394 - val_acc: 0.9146\n",
      "Epoch 3/100\n",
      "112/121 [==========================>...] - ETA: 0s - loss: 0.2088 - acc: 0.9264\n",
      "Epoch 3: val_loss did not improve from 0.23936\n",
      "121/121 [==============================] - 1s 4ms/step - loss: 0.2090 - acc: 0.9256 - val_loss: 0.2403 - val_acc: 0.9015\n",
      "Epoch 4/100\n",
      "113/121 [===========================>..] - ETA: 0s - loss: 0.1858 - acc: 0.9361\n",
      "Epoch 4: val_loss did not improve from 0.23936\n",
      "121/121 [==============================] - 0s 4ms/step - loss: 0.1864 - acc: 0.9356 - val_loss: 0.2491 - val_acc: 0.9042\n",
      "Epoch 5/100\n",
      "121/121 [==============================] - ETA: 0s - loss: 0.1665 - acc: 0.9437\n",
      "Epoch 5: val_loss did not improve from 0.23936\n",
      "121/121 [==============================] - 0s 4ms/step - loss: 0.1665 - acc: 0.9437 - val_loss: 0.2483 - val_acc: 0.9051\n",
      "138/138 [==============================] - 0s 866us/step\n",
      "0.87465670666949 0.5427374348758804 0.9112573763050386 0.45314685314685316\n"
     ]
    },
    {
     "name": "stderr",
     "output_type": "stream",
     "text": [
      "2023-11-12 23:59:40.517533: I tensorflow/core/common_runtime/gpu/gpu_device.cc:1886] Created device /job:localhost/replica:0/task:0/device:GPU:0 with 13074 MB memory:  -> device: 0, name: Quadro RTX 5000, pci bus id: 0000:2b:00.0, compute capability: 7.5\n",
      "2023-11-12 23:59:40.527662: I tensorflow/core/common_runtime/gpu/gpu_device.cc:1886] Created device /job:localhost/replica:0/task:0/device:GPU:0 with 13074 MB memory:  -> device: 0, name: Quadro RTX 5000, pci bus id: 0000:2b:00.0, compute capability: 7.5\n"
     ]
    },
    {
     "name": "stdout",
     "output_type": "stream",
     "text": [
      "Problem type:  mort_icu\n",
      "__________________\n",
      "Epoch 1/100\n",
      "115/121 [===========================>..] - ETA: 0s - loss: 0.2280 - acc: 0.9247\n",
      "Epoch 1: val_loss improved from inf to 0.18096, saving model to ../results/timeseries-baseline/LSTM-256-mort_icu-best_model.hdf5\n",
      "121/121 [==============================] - 1s 6ms/step - loss: 0.2257 - acc: 0.9257 - val_loss: 0.1810 - val_acc: 0.9410\n",
      "Epoch 2/100\n",
      " 47/121 [==========>...................] - ETA: 0s - loss: 0.1767 - acc: 0.9420"
     ]
    },
    {
     "name": "stderr",
     "output_type": "stream",
     "text": [
      "/data/apps/miniforge3/envs/cse6250-project/lib/python3.9/site-packages/keras/src/engine/training.py:3079: UserWarning: You are saving your model as an HDF5 file via `model.save()`. This file format is considered legacy. We recommend using instead the native Keras format, e.g. `model.save('my_model.keras')`.\n",
      "  saving_api.save_model(\n"
     ]
    },
    {
     "name": "stdout",
     "output_type": "stream",
     "text": [
      "115/121 [===========================>..] - ETA: 0s - loss: 0.1687 - acc: 0.9447\n",
      "Epoch 2: val_loss improved from 0.18096 to 0.17666, saving model to ../results/timeseries-baseline/LSTM-256-mort_icu-best_model.hdf5\n",
      "121/121 [==============================] - 1s 4ms/step - loss: 0.1684 - acc: 0.9447 - val_loss: 0.1767 - val_acc: 0.9405\n",
      "Epoch 3/100\n",
      "120/121 [============================>.] - ETA: 0s - loss: 0.1497 - acc: 0.9525\n",
      "Epoch 3: val_loss did not improve from 0.17666\n",
      "121/121 [==============================] - 0s 4ms/step - loss: 0.1496 - acc: 0.9525 - val_loss: 0.1770 - val_acc: 0.9410\n",
      "Epoch 4/100\n",
      "117/121 [============================>.] - ETA: 0s - loss: 0.1305 - acc: 0.9589\n",
      "Epoch 4: val_loss did not improve from 0.17666\n",
      "121/121 [==============================] - 0s 4ms/step - loss: 0.1311 - acc: 0.9588 - val_loss: 0.1834 - val_acc: 0.9342\n",
      "Epoch 5/100\n",
      "121/121 [==============================] - ETA: 0s - loss: 0.1156 - acc: 0.9644\n",
      "Epoch 5: val_loss did not improve from 0.17666\n",
      "121/121 [==============================] - 0s 4ms/step - loss: 0.1156 - acc: 0.9644 - val_loss: 0.1890 - val_acc: 0.9401\n",
      "138/138 [==============================] - 0s 859us/step\n",
      "0.8851677926390183 0.4949128994538376 0.9378120744439401 0.443089430894309\n"
     ]
    },
    {
     "name": "stderr",
     "output_type": "stream",
     "text": [
      "2023-11-12 23:59:45.639601: I tensorflow/core/common_runtime/gpu/gpu_device.cc:1886] Created device /job:localhost/replica:0/task:0/device:GPU:0 with 13074 MB memory:  -> device: 0, name: Quadro RTX 5000, pci bus id: 0000:2b:00.0, compute capability: 7.5\n",
      "2023-11-12 23:59:45.649621: I tensorflow/core/common_runtime/gpu/gpu_device.cc:1886] Created device /job:localhost/replica:0/task:0/device:GPU:0 with 13074 MB memory:  -> device: 0, name: Quadro RTX 5000, pci bus id: 0000:2b:00.0, compute capability: 7.5\n"
     ]
    },
    {
     "name": "stdout",
     "output_type": "stream",
     "text": [
      "Problem type:  los_3\n",
      "__________________\n",
      "Epoch 1/100\n",
      "117/121 [============================>.] - ETA: 0s - loss: 0.6551 - acc: 0.6407\n",
      "Epoch 1: val_loss improved from inf to 0.62733, saving model to ../results/timeseries-baseline/LSTM-256-los_3-best_model.hdf5\n",
      "121/121 [==============================] - 1s 6ms/step - loss: 0.6544 - acc: 0.6418 - val_loss: 0.6273 - val_acc: 0.6748\n",
      "Epoch 2/100\n",
      " 47/121 [==========>...................] - ETA: 0s - loss: 0.6178 - acc: 0.6710"
     ]
    },
    {
     "name": "stderr",
     "output_type": "stream",
     "text": [
      "/data/apps/miniforge3/envs/cse6250-project/lib/python3.9/site-packages/keras/src/engine/training.py:3079: UserWarning: You are saving your model as an HDF5 file via `model.save()`. This file format is considered legacy. We recommend using instead the native Keras format, e.g. `model.save('my_model.keras')`.\n",
      "  saving_api.save_model(\n"
     ]
    },
    {
     "name": "stdout",
     "output_type": "stream",
     "text": [
      "119/121 [============================>.] - ETA: 0s - loss: 0.6200 - acc: 0.6720\n",
      "Epoch 2: val_loss improved from 0.62733 to 0.61576, saving model to ../results/timeseries-baseline/LSTM-256-los_3-best_model.hdf5\n",
      "121/121 [==============================] - 0s 4ms/step - loss: 0.6203 - acc: 0.6719 - val_loss: 0.6158 - val_acc: 0.6717\n",
      "Epoch 3/100\n",
      "115/121 [===========================>..] - ETA: 0s - loss: 0.5992 - acc: 0.6929\n",
      "Epoch 3: val_loss improved from 0.61576 to 0.60983, saving model to ../results/timeseries-baseline/LSTM-256-los_3-best_model.hdf5\n",
      "121/121 [==============================] - 1s 4ms/step - loss: 0.6002 - acc: 0.6914 - val_loss: 0.6098 - val_acc: 0.6789\n",
      "Epoch 4/100\n",
      "116/121 [===========================>..] - ETA: 0s - loss: 0.5716 - acc: 0.7117\n",
      "Epoch 4: val_loss did not improve from 0.60983\n",
      "121/121 [==============================] - 0s 4ms/step - loss: 0.5723 - acc: 0.7110 - val_loss: 0.6295 - val_acc: 0.6553\n",
      "Epoch 5/100\n",
      "117/121 [============================>.] - ETA: 0s - loss: 0.5419 - acc: 0.7404\n",
      "Epoch 5: val_loss did not improve from 0.60983\n",
      "121/121 [==============================] - 0s 4ms/step - loss: 0.5417 - acc: 0.7400 - val_loss: 0.6499 - val_acc: 0.6576\n",
      "Epoch 6/100\n",
      "114/121 [===========================>..] - ETA: 0s - loss: 0.4994 - acc: 0.7691\n",
      "Epoch 6: val_loss did not improve from 0.60983\n",
      "121/121 [==============================] - 1s 4ms/step - loss: 0.4998 - acc: 0.7685 - val_loss: 0.6517 - val_acc: 0.6603\n",
      "138/138 [==============================] - 0s 858us/step\n",
      "0.6870545708562676 0.6311787478767796 0.6488878801634135 0.5209043047383091\n"
     ]
    },
    {
     "name": "stderr",
     "output_type": "stream",
     "text": [
      "2023-11-12 23:59:51.272487: I tensorflow/core/common_runtime/gpu/gpu_device.cc:1886] Created device /job:localhost/replica:0/task:0/device:GPU:0 with 13074 MB memory:  -> device: 0, name: Quadro RTX 5000, pci bus id: 0000:2b:00.0, compute capability: 7.5\n",
      "2023-11-12 23:59:51.282551: I tensorflow/core/common_runtime/gpu/gpu_device.cc:1886] Created device /job:localhost/replica:0/task:0/device:GPU:0 with 13074 MB memory:  -> device: 0, name: Quadro RTX 5000, pci bus id: 0000:2b:00.0, compute capability: 7.5\n"
     ]
    },
    {
     "name": "stdout",
     "output_type": "stream",
     "text": [
      "Problem type:  los_7\n",
      "__________________\n",
      "Epoch 1/100\n",
      "111/121 [==========================>...] - ETA: 0s - loss: 0.2962 - acc: 0.9084\n",
      "Epoch 1: val_loss improved from inf to 0.26295, saving model to ../results/timeseries-baseline/LSTM-256-los_7-best_model.hdf5\n",
      "121/121 [==============================] - 2s 6ms/step - loss: 0.2949 - acc: 0.9088 - val_loss: 0.2629 - val_acc: 0.9223\n",
      "Epoch 2/100\n",
      " 49/121 [===========>..................] - ETA: 0s - loss: 0.2485 - acc: 0.9249"
     ]
    },
    {
     "name": "stderr",
     "output_type": "stream",
     "text": [
      "/data/apps/miniforge3/envs/cse6250-project/lib/python3.9/site-packages/keras/src/engine/training.py:3079: UserWarning: You are saving your model as an HDF5 file via `model.save()`. This file format is considered legacy. We recommend using instead the native Keras format, e.g. `model.save('my_model.keras')`.\n",
      "  saving_api.save_model(\n"
     ]
    },
    {
     "name": "stdout",
     "output_type": "stream",
     "text": [
      "121/121 [==============================] - ETA: 0s - loss: 0.2519 - acc: 0.9225\n",
      "Epoch 2: val_loss improved from 0.26295 to 0.25812, saving model to ../results/timeseries-baseline/LSTM-256-los_7-best_model.hdf5\n",
      "121/121 [==============================] - 0s 4ms/step - loss: 0.2519 - acc: 0.9225 - val_loss: 0.2581 - val_acc: 0.9210\n",
      "Epoch 3/100\n",
      "121/121 [==============================] - ETA: 0s - loss: 0.2399 - acc: 0.9250\n",
      "Epoch 3: val_loss improved from 0.25812 to 0.25686, saving model to ../results/timeseries-baseline/LSTM-256-los_7-best_model.hdf5\n",
      "121/121 [==============================] - 0s 4ms/step - loss: 0.2399 - acc: 0.9250 - val_loss: 0.2569 - val_acc: 0.9223\n",
      "Epoch 4/100\n",
      "120/121 [============================>.] - ETA: 0s - loss: 0.2257 - acc: 0.9291\n",
      "Epoch 4: val_loss did not improve from 0.25686\n",
      "121/121 [==============================] - 0s 4ms/step - loss: 0.2262 - acc: 0.9290 - val_loss: 0.2607 - val_acc: 0.9219\n",
      "Epoch 5/100\n",
      "120/121 [============================>.] - ETA: 0s - loss: 0.2100 - acc: 0.9333\n",
      "Epoch 5: val_loss did not improve from 0.25686\n",
      "121/121 [==============================] - 0s 4ms/step - loss: 0.2104 - acc: 0.9332 - val_loss: 0.2736 - val_acc: 0.9146\n",
      "Epoch 6/100\n",
      "120/121 [============================>.] - ETA: 0s - loss: 0.1952 - acc: 0.9381\n",
      "Epoch 6: val_loss did not improve from 0.25686\n",
      "121/121 [==============================] - 0s 4ms/step - loss: 0.1950 - acc: 0.9381 - val_loss: 0.2754 - val_acc: 0.9155\n",
      "138/138 [==============================] - 0s 884us/step\n",
      "0.7123949230129005 0.20638664364259637 0.9176123467998184 0.0215633423180593\n"
     ]
    },
    {
     "name": "stderr",
     "output_type": "stream",
     "text": [
      "2023-11-12 23:59:56.951866: I tensorflow/core/common_runtime/gpu/gpu_device.cc:1886] Created device /job:localhost/replica:0/task:0/device:GPU:0 with 13074 MB memory:  -> device: 0, name: Quadro RTX 5000, pci bus id: 0000:2b:00.0, compute capability: 7.5\n",
      "2023-11-12 23:59:56.962786: I tensorflow/core/common_runtime/gpu/gpu_device.cc:1886] Created device /job:localhost/replica:0/task:0/device:GPU:0 with 13074 MB memory:  -> device: 0, name: Quadro RTX 5000, pci bus id: 0000:2b:00.0, compute capability: 7.5\n"
     ]
    },
    {
     "name": "stdout",
     "output_type": "stream",
     "text": [
      "Iteration number:  3\n",
      "=============================\n",
      "Problem type:  mort_hosp\n",
      "__________________\n",
      "Epoch 1/100\n",
      "114/121 [===========================>..] - ETA: 0s - loss: 0.2900 - acc: 0.8955\n",
      "Epoch 1: val_loss improved from inf to 0.24518, saving model to ../results/timeseries-baseline/LSTM-256-mort_hosp-best_model.hdf5\n",
      "121/121 [==============================] - 2s 6ms/step - loss: 0.2875 - acc: 0.8963 - val_loss: 0.2452 - val_acc: 0.9160\n",
      "Epoch 2/100\n",
      " 50/121 [===========>..................] - ETA: 0s - loss: 0.2308 - acc: 0.9180"
     ]
    },
    {
     "name": "stderr",
     "output_type": "stream",
     "text": [
      "/data/apps/miniforge3/envs/cse6250-project/lib/python3.9/site-packages/keras/src/engine/training.py:3079: UserWarning: You are saving your model as an HDF5 file via `model.save()`. This file format is considered legacy. We recommend using instead the native Keras format, e.g. `model.save('my_model.keras')`.\n",
      "  saving_api.save_model(\n"
     ]
    },
    {
     "name": "stdout",
     "output_type": "stream",
     "text": [
      "110/121 [==========================>...] - ETA: 0s - loss: 0.2311 - acc: 0.9188\n",
      "Epoch 2: val_loss improved from 0.24518 to 0.23455, saving model to ../results/timeseries-baseline/LSTM-256-mort_hosp-best_model.hdf5\n",
      "121/121 [==============================] - 0s 4ms/step - loss: 0.2307 - acc: 0.9187 - val_loss: 0.2346 - val_acc: 0.9160\n",
      "Epoch 3/100\n",
      "120/121 [============================>.] - ETA: 0s - loss: 0.2082 - acc: 0.9280\n",
      "Epoch 3: val_loss did not improve from 0.23455\n",
      "121/121 [==============================] - 0s 4ms/step - loss: 0.2081 - acc: 0.9281 - val_loss: 0.2410 - val_acc: 0.9169\n",
      "Epoch 4/100\n",
      "116/121 [===========================>..] - ETA: 0s - loss: 0.1888 - acc: 0.9356\n",
      "Epoch 4: val_loss did not improve from 0.23455\n",
      "121/121 [==============================] - 0s 4ms/step - loss: 0.1897 - acc: 0.9350 - val_loss: 0.2499 - val_acc: 0.9064\n",
      "Epoch 5/100\n",
      "118/121 [============================>.] - ETA: 0s - loss: 0.1673 - acc: 0.9447\n",
      "Epoch 5: val_loss did not improve from 0.23455\n",
      "121/121 [==============================] - 0s 3ms/step - loss: 0.1671 - acc: 0.9447 - val_loss: 0.2636 - val_acc: 0.9096\n",
      "138/138 [==============================] - 0s 922us/step\n",
      "0.8707023682704083 0.5480646856986385 0.911484339536995 0.4444444444444444\n"
     ]
    },
    {
     "name": "stderr",
     "output_type": "stream",
     "text": [
      "2023-11-13 00:00:02.251242: I tensorflow/core/common_runtime/gpu/gpu_device.cc:1886] Created device /job:localhost/replica:0/task:0/device:GPU:0 with 13074 MB memory:  -> device: 0, name: Quadro RTX 5000, pci bus id: 0000:2b:00.0, compute capability: 7.5\n",
      "2023-11-13 00:00:02.267993: I tensorflow/core/common_runtime/gpu/gpu_device.cc:1886] Created device /job:localhost/replica:0/task:0/device:GPU:0 with 13074 MB memory:  -> device: 0, name: Quadro RTX 5000, pci bus id: 0000:2b:00.0, compute capability: 7.5\n"
     ]
    },
    {
     "name": "stdout",
     "output_type": "stream",
     "text": [
      "Problem type:  mort_icu\n",
      "__________________\n",
      "Epoch 1/100\n",
      "120/121 [============================>.] - ETA: 0s - loss: 0.2290 - acc: 0.9261\n",
      "Epoch 1: val_loss improved from inf to 0.17867, saving model to ../results/timeseries-baseline/LSTM-256-mort_icu-best_model.hdf5\n",
      "121/121 [==============================] - 1s 6ms/step - loss: 0.2295 - acc: 0.9259 - val_loss: 0.1787 - val_acc: 0.9396\n",
      "Epoch 2/100\n",
      " 49/121 [===========>..................] - ETA: 0s - loss: 0.1709 - acc: 0.9448"
     ]
    },
    {
     "name": "stderr",
     "output_type": "stream",
     "text": [
      "/data/apps/miniforge3/envs/cse6250-project/lib/python3.9/site-packages/keras/src/engine/training.py:3079: UserWarning: You are saving your model as an HDF5 file via `model.save()`. This file format is considered legacy. We recommend using instead the native Keras format, e.g. `model.save('my_model.keras')`.\n",
      "  saving_api.save_model(\n"
     ]
    },
    {
     "name": "stdout",
     "output_type": "stream",
     "text": [
      "116/121 [===========================>..] - ETA: 0s - loss: 0.1706 - acc: 0.9441\n",
      "Epoch 2: val_loss improved from 0.17867 to 0.17694, saving model to ../results/timeseries-baseline/LSTM-256-mort_icu-best_model.hdf5\n",
      "121/121 [==============================] - 0s 4ms/step - loss: 0.1709 - acc: 0.9440 - val_loss: 0.1769 - val_acc: 0.9414\n",
      "Epoch 3/100\n",
      "115/121 [===========================>..] - ETA: 0s - loss: 0.1496 - acc: 0.9517\n",
      "Epoch 3: val_loss did not improve from 0.17694\n",
      "121/121 [==============================] - 0s 4ms/step - loss: 0.1513 - acc: 0.9510 - val_loss: 0.1799 - val_acc: 0.9378\n",
      "Epoch 4/100\n",
      "115/121 [===========================>..] - ETA: 0s - loss: 0.1335 - acc: 0.9569\n",
      "Epoch 4: val_loss improved from 0.17694 to 0.17546, saving model to ../results/timeseries-baseline/LSTM-256-mort_icu-best_model.hdf5\n",
      "121/121 [==============================] - 0s 4ms/step - loss: 0.1331 - acc: 0.9573 - val_loss: 0.1755 - val_acc: 0.9405\n",
      "Epoch 5/100\n",
      "119/121 [============================>.] - ETA: 0s - loss: 0.1199 - acc: 0.9623\n",
      "Epoch 5: val_loss did not improve from 0.17546\n",
      "121/121 [==============================] - 0s 4ms/step - loss: 0.1202 - acc: 0.9623 - val_loss: 0.1887 - val_acc: 0.9382\n",
      "Epoch 6/100\n",
      "117/121 [============================>.] - ETA: 0s - loss: 0.1021 - acc: 0.9688\n",
      "Epoch 6: val_loss did not improve from 0.17546\n",
      "121/121 [==============================] - 0s 4ms/step - loss: 0.1024 - acc: 0.9687 - val_loss: 0.2085 - val_acc: 0.9264\n",
      "Epoch 7/100\n",
      "118/121 [============================>.] - ETA: 0s - loss: 0.0884 - acc: 0.9742\n",
      "Epoch 7: val_loss did not improve from 0.17546\n",
      "121/121 [==============================] - 0s 4ms/step - loss: 0.0884 - acc: 0.9743 - val_loss: 0.2186 - val_acc: 0.9278\n",
      "138/138 [==============================] - 0s 864us/step\n",
      "0.8791950088449969 0.47179802220578404 0.9380390376758965 0.389261744966443\n"
     ]
    },
    {
     "name": "stderr",
     "output_type": "stream",
     "text": [
      "2023-11-13 00:00:08.479785: I tensorflow/core/common_runtime/gpu/gpu_device.cc:1886] Created device /job:localhost/replica:0/task:0/device:GPU:0 with 13074 MB memory:  -> device: 0, name: Quadro RTX 5000, pci bus id: 0000:2b:00.0, compute capability: 7.5\n",
      "2023-11-13 00:00:08.489654: I tensorflow/core/common_runtime/gpu/gpu_device.cc:1886] Created device /job:localhost/replica:0/task:0/device:GPU:0 with 13074 MB memory:  -> device: 0, name: Quadro RTX 5000, pci bus id: 0000:2b:00.0, compute capability: 7.5\n"
     ]
    },
    {
     "name": "stdout",
     "output_type": "stream",
     "text": [
      "Problem type:  los_3\n",
      "__________________\n",
      "Epoch 1/100\n",
      "111/121 [==========================>...] - ETA: 0s - loss: 0.6559 - acc: 0.6423\n",
      "Epoch 1: val_loss improved from inf to 0.62226, saving model to ../results/timeseries-baseline/LSTM-256-los_3-best_model.hdf5\n",
      "121/121 [==============================] - 1s 6ms/step - loss: 0.6548 - acc: 0.6434 - val_loss: 0.6223 - val_acc: 0.6757\n",
      "Epoch 2/100\n",
      " 46/121 [==========>...................] - ETA: 0s - loss: 0.6171 - acc: 0.6734"
     ]
    },
    {
     "name": "stderr",
     "output_type": "stream",
     "text": [
      "/data/apps/miniforge3/envs/cse6250-project/lib/python3.9/site-packages/keras/src/engine/training.py:3079: UserWarning: You are saving your model as an HDF5 file via `model.save()`. This file format is considered legacy. We recommend using instead the native Keras format, e.g. `model.save('my_model.keras')`.\n",
      "  saving_api.save_model(\n"
     ]
    },
    {
     "name": "stdout",
     "output_type": "stream",
     "text": [
      "108/121 [=========================>....] - ETA: 0s - loss: 0.6192 - acc: 0.6719\n",
      "Epoch 2: val_loss did not improve from 0.62226\n",
      "121/121 [==============================] - 0s 4ms/step - loss: 0.6203 - acc: 0.6707 - val_loss: 0.6229 - val_acc: 0.6708\n",
      "Epoch 3/100\n",
      "117/121 [============================>.] - ETA: 0s - loss: 0.5997 - acc: 0.6888\n",
      "Epoch 3: val_loss improved from 0.62226 to 0.61889, saving model to ../results/timeseries-baseline/LSTM-256-los_3-best_model.hdf5\n",
      "121/121 [==============================] - 1s 4ms/step - loss: 0.5999 - acc: 0.6888 - val_loss: 0.6189 - val_acc: 0.6626\n",
      "Epoch 4/100\n",
      "117/121 [============================>.] - ETA: 0s - loss: 0.5735 - acc: 0.7135\n",
      "Epoch 4: val_loss did not improve from 0.61889\n",
      "121/121 [==============================] - 0s 4ms/step - loss: 0.5734 - acc: 0.7132 - val_loss: 0.6270 - val_acc: 0.6662\n",
      "Epoch 5/100\n",
      "109/121 [==========================>...] - ETA: 0s - loss: 0.5347 - acc: 0.7424\n",
      "Epoch 5: val_loss did not improve from 0.61889\n",
      "121/121 [==============================] - 0s 4ms/step - loss: 0.5380 - acc: 0.7410 - val_loss: 0.6500 - val_acc: 0.6381\n",
      "Epoch 6/100\n",
      "113/121 [===========================>..] - ETA: 0s - loss: 0.4932 - acc: 0.7732\n",
      "Epoch 6: val_loss did not improve from 0.61889\n",
      "121/121 [==============================] - 0s 4ms/step - loss: 0.4949 - acc: 0.7717 - val_loss: 0.6842 - val_acc: 0.6458\n",
      "138/138 [==============================] - 0s 864us/step\n",
      "0.6893610395731287 0.6336332921905334 0.6538810712664548 0.5639119245067201\n"
     ]
    },
    {
     "name": "stderr",
     "output_type": "stream",
     "text": [
      "2023-11-13 00:00:14.144228: I tensorflow/core/common_runtime/gpu/gpu_device.cc:1886] Created device /job:localhost/replica:0/task:0/device:GPU:0 with 13074 MB memory:  -> device: 0, name: Quadro RTX 5000, pci bus id: 0000:2b:00.0, compute capability: 7.5\n",
      "2023-11-13 00:00:14.154044: I tensorflow/core/common_runtime/gpu/gpu_device.cc:1886] Created device /job:localhost/replica:0/task:0/device:GPU:0 with 13074 MB memory:  -> device: 0, name: Quadro RTX 5000, pci bus id: 0000:2b:00.0, compute capability: 7.5\n"
     ]
    },
    {
     "name": "stdout",
     "output_type": "stream",
     "text": [
      "Problem type:  los_7\n",
      "__________________\n",
      "Epoch 1/100\n",
      "108/121 [=========================>....] - ETA: 0s - loss: 0.3007 - acc: 0.9036\n",
      "Epoch 1: val_loss improved from inf to 0.26460, saving model to ../results/timeseries-baseline/LSTM-256-los_7-best_model.hdf5\n",
      "121/121 [==============================] - 1s 6ms/step - loss: 0.2966 - acc: 0.9059 - val_loss: 0.2646 - val_acc: 0.9233\n",
      "Epoch 2/100\n",
      " 48/121 [==========>...................] - ETA: 0s - loss: 0.2524 - acc: 0.9246"
     ]
    },
    {
     "name": "stderr",
     "output_type": "stream",
     "text": [
      "/data/apps/miniforge3/envs/cse6250-project/lib/python3.9/site-packages/keras/src/engine/training.py:3079: UserWarning: You are saving your model as an HDF5 file via `model.save()`. This file format is considered legacy. We recommend using instead the native Keras format, e.g. `model.save('my_model.keras')`.\n",
      "  saving_api.save_model(\n"
     ]
    },
    {
     "name": "stdout",
     "output_type": "stream",
     "text": [
      "118/121 [============================>.] - ETA: 0s - loss: 0.2527 - acc: 0.9228\n",
      "Epoch 2: val_loss improved from 0.26460 to 0.25893, saving model to ../results/timeseries-baseline/LSTM-256-los_7-best_model.hdf5\n",
      "121/121 [==============================] - 0s 4ms/step - loss: 0.2530 - acc: 0.9226 - val_loss: 0.2589 - val_acc: 0.9223\n",
      "Epoch 3/100\n",
      "118/121 [============================>.] - ETA: 0s - loss: 0.2401 - acc: 0.9254\n",
      "Epoch 3: val_loss did not improve from 0.25893\n",
      "121/121 [==============================] - 0s 4ms/step - loss: 0.2401 - acc: 0.9253 - val_loss: 0.2653 - val_acc: 0.9205\n",
      "Epoch 4/100\n",
      "118/121 [============================>.] - ETA: 0s - loss: 0.2270 - acc: 0.9288\n",
      "Epoch 4: val_loss did not improve from 0.25893\n",
      "121/121 [==============================] - 0s 4ms/step - loss: 0.2262 - acc: 0.9290 - val_loss: 0.2591 - val_acc: 0.9233\n",
      "Epoch 5/100\n",
      "106/121 [=========================>....] - ETA: 0s - loss: 0.2077 - acc: 0.9348\n",
      "Epoch 5: val_loss did not improve from 0.25893\n",
      "121/121 [==============================] - 0s 4ms/step - loss: 0.2091 - acc: 0.9342 - val_loss: 0.2716 - val_acc: 0.9173\n",
      "138/138 [==============================] - 0s 885us/step\n",
      "0.7394936884449993 0.2204809130128514 0.9194280526554698 0.022038567493112945\n"
     ]
    },
    {
     "name": "stderr",
     "output_type": "stream",
     "text": [
      "2023-11-13 00:00:19.500204: I tensorflow/core/common_runtime/gpu/gpu_device.cc:1886] Created device /job:localhost/replica:0/task:0/device:GPU:0 with 13074 MB memory:  -> device: 0, name: Quadro RTX 5000, pci bus id: 0000:2b:00.0, compute capability: 7.5\n",
      "2023-11-13 00:00:19.512064: I tensorflow/core/common_runtime/gpu/gpu_device.cc:1886] Created device /job:localhost/replica:0/task:0/device:GPU:0 with 13074 MB memory:  -> device: 0, name: Quadro RTX 5000, pci bus id: 0000:2b:00.0, compute capability: 7.5\n"
     ]
    },
    {
     "name": "stdout",
     "output_type": "stream",
     "text": [
      "Iteration number:  4\n",
      "=============================\n",
      "Problem type:  mort_hosp\n",
      "__________________\n",
      "Epoch 1/100\n",
      "117/121 [============================>.] - ETA: 0s - loss: 0.2890 - acc: 0.8986\n",
      "Epoch 1: val_loss improved from inf to 0.24565, saving model to ../results/timeseries-baseline/LSTM-256-mort_hosp-best_model.hdf5\n",
      "121/121 [==============================] - 1s 6ms/step - loss: 0.2892 - acc: 0.8982 - val_loss: 0.2457 - val_acc: 0.9119\n",
      "Epoch 2/100\n",
      " 48/121 [==========>...................] - ETA: 0s - loss: 0.2336 - acc: 0.9206"
     ]
    },
    {
     "name": "stderr",
     "output_type": "stream",
     "text": [
      "/data/apps/miniforge3/envs/cse6250-project/lib/python3.9/site-packages/keras/src/engine/training.py:3079: UserWarning: You are saving your model as an HDF5 file via `model.save()`. This file format is considered legacy. We recommend using instead the native Keras format, e.g. `model.save('my_model.keras')`.\n",
      "  saving_api.save_model(\n"
     ]
    },
    {
     "name": "stdout",
     "output_type": "stream",
     "text": [
      "120/121 [============================>.] - ETA: 0s - loss: 0.2333 - acc: 0.9200\n",
      "Epoch 2: val_loss improved from 0.24565 to 0.23786, saving model to ../results/timeseries-baseline/LSTM-256-mort_hosp-best_model.hdf5\n",
      "121/121 [==============================] - 0s 4ms/step - loss: 0.2329 - acc: 0.9201 - val_loss: 0.2379 - val_acc: 0.9146\n",
      "Epoch 3/100\n",
      "118/121 [============================>.] - ETA: 0s - loss: 0.2123 - acc: 0.9264\n",
      "Epoch 3: val_loss improved from 0.23786 to 0.23741, saving model to ../results/timeseries-baseline/LSTM-256-mort_hosp-best_model.hdf5\n",
      "121/121 [==============================] - 0s 4ms/step - loss: 0.2119 - acc: 0.9265 - val_loss: 0.2374 - val_acc: 0.9124\n",
      "Epoch 4/100\n",
      "115/121 [===========================>..] - ETA: 0s - loss: 0.1896 - acc: 0.9354\n",
      "Epoch 4: val_loss did not improve from 0.23741\n",
      "121/121 [==============================] - 0s 4ms/step - loss: 0.1905 - acc: 0.9351 - val_loss: 0.2490 - val_acc: 0.9128\n",
      "Epoch 5/100\n",
      "112/121 [==========================>...] - ETA: 0s - loss: 0.1694 - acc: 0.9406\n",
      "Epoch 5: val_loss did not improve from 0.23741\n",
      "121/121 [==============================] - 0s 4ms/step - loss: 0.1688 - acc: 0.9411 - val_loss: 0.2588 - val_acc: 0.9024\n",
      "Epoch 6/100\n",
      "112/121 [==========================>...] - ETA: 0s - loss: 0.1484 - acc: 0.9521\n",
      "Epoch 6: val_loss did not improve from 0.23741\n",
      "121/121 [==============================] - 0s 4ms/step - loss: 0.1475 - acc: 0.9520 - val_loss: 0.2680 - val_acc: 0.9060\n",
      "138/138 [==============================] - 0s 862us/step\n",
      "0.8816103090628356 0.5694053369904282 0.9130730821606899 0.45519203413940257\n"
     ]
    },
    {
     "name": "stderr",
     "output_type": "stream",
     "text": [
      "2023-11-13 00:00:25.301815: I tensorflow/core/common_runtime/gpu/gpu_device.cc:1886] Created device /job:localhost/replica:0/task:0/device:GPU:0 with 13074 MB memory:  -> device: 0, name: Quadro RTX 5000, pci bus id: 0000:2b:00.0, compute capability: 7.5\n",
      "2023-11-13 00:00:25.310576: I tensorflow/core/common_runtime/gpu/gpu_device.cc:1886] Created device /job:localhost/replica:0/task:0/device:GPU:0 with 13074 MB memory:  -> device: 0, name: Quadro RTX 5000, pci bus id: 0000:2b:00.0, compute capability: 7.5\n"
     ]
    },
    {
     "name": "stdout",
     "output_type": "stream",
     "text": [
      "Problem type:  mort_icu\n",
      "__________________\n",
      "Epoch 1/100\n",
      "113/121 [===========================>..] - ETA: 0s - loss: 0.2281 - acc: 0.9257\n",
      "Epoch 1: val_loss improved from inf to 0.18561, saving model to ../results/timeseries-baseline/LSTM-256-mort_icu-best_model.hdf5\n",
      "121/121 [==============================] - 1s 6ms/step - loss: 0.2268 - acc: 0.9263 - val_loss: 0.1856 - val_acc: 0.9414\n",
      "Epoch 2/100\n",
      " 46/121 [==========>...................] - ETA: 0s - loss: 0.1734 - acc: 0.9407"
     ]
    },
    {
     "name": "stderr",
     "output_type": "stream",
     "text": [
      "/data/apps/miniforge3/envs/cse6250-project/lib/python3.9/site-packages/keras/src/engine/training.py:3079: UserWarning: You are saving your model as an HDF5 file via `model.save()`. This file format is considered legacy. We recommend using instead the native Keras format, e.g. `model.save('my_model.keras')`.\n",
      "  saving_api.save_model(\n"
     ]
    },
    {
     "name": "stdout",
     "output_type": "stream",
     "text": [
      "107/121 [=========================>....] - ETA: 0s - loss: 0.1693 - acc: 0.9436\n",
      "Epoch 2: val_loss improved from 0.18561 to 0.17740, saving model to ../results/timeseries-baseline/LSTM-256-mort_icu-best_model.hdf5\n",
      "121/121 [==============================] - 0s 4ms/step - loss: 0.1699 - acc: 0.9445 - val_loss: 0.1774 - val_acc: 0.9378\n",
      "Epoch 3/100\n",
      "111/121 [==========================>...] - ETA: 0s - loss: 0.1528 - acc: 0.9495\n",
      "Epoch 3: val_loss did not improve from 0.17740\n",
      "121/121 [==============================] - 1s 4ms/step - loss: 0.1525 - acc: 0.9502 - val_loss: 0.1794 - val_acc: 0.9401\n",
      "Epoch 4/100\n",
      "115/121 [===========================>..] - ETA: 0s - loss: 0.1340 - acc: 0.9563\n",
      "Epoch 4: val_loss did not improve from 0.17740\n",
      "121/121 [==============================] - 0s 4ms/step - loss: 0.1336 - acc: 0.9562 - val_loss: 0.1828 - val_acc: 0.9378\n",
      "Epoch 5/100\n",
      "120/121 [============================>.] - ETA: 0s - loss: 0.1217 - acc: 0.9605\n",
      "Epoch 5: val_loss did not improve from 0.17740\n",
      "121/121 [==============================] - 0s 4ms/step - loss: 0.1213 - acc: 0.9607 - val_loss: 0.1925 - val_acc: 0.9410\n",
      "138/138 [==============================] - 0s 999us/step\n",
      "0.8902564624795462 0.5077079496302974 0.9387199273717658 0.4026548672566372\n"
     ]
    },
    {
     "name": "stderr",
     "output_type": "stream",
     "text": [
      "2023-11-13 00:00:30.672897: I tensorflow/core/common_runtime/gpu/gpu_device.cc:1886] Created device /job:localhost/replica:0/task:0/device:GPU:0 with 13074 MB memory:  -> device: 0, name: Quadro RTX 5000, pci bus id: 0000:2b:00.0, compute capability: 7.5\n",
      "2023-11-13 00:00:30.687527: I tensorflow/core/common_runtime/gpu/gpu_device.cc:1886] Created device /job:localhost/replica:0/task:0/device:GPU:0 with 13074 MB memory:  -> device: 0, name: Quadro RTX 5000, pci bus id: 0000:2b:00.0, compute capability: 7.5\n"
     ]
    },
    {
     "name": "stdout",
     "output_type": "stream",
     "text": [
      "Problem type:  los_3\n",
      "__________________\n",
      "Epoch 1/100\n",
      "118/121 [============================>.] - ETA: 0s - loss: 0.6583 - acc: 0.6314\n",
      "Epoch 1: val_loss improved from inf to 0.62898, saving model to ../results/timeseries-baseline/LSTM-256-los_3-best_model.hdf5\n",
      "121/121 [==============================] - 1s 6ms/step - loss: 0.6581 - acc: 0.6322 - val_loss: 0.6290 - val_acc: 0.6576\n",
      "Epoch 2/100\n",
      " 47/121 [==========>...................] - ETA: 0s - loss: 0.6268 - acc: 0.6662"
     ]
    },
    {
     "name": "stderr",
     "output_type": "stream",
     "text": [
      "/data/apps/miniforge3/envs/cse6250-project/lib/python3.9/site-packages/keras/src/engine/training.py:3079: UserWarning: You are saving your model as an HDF5 file via `model.save()`. This file format is considered legacy. We recommend using instead the native Keras format, e.g. `model.save('my_model.keras')`.\n",
      "  saving_api.save_model(\n"
     ]
    },
    {
     "name": "stdout",
     "output_type": "stream",
     "text": [
      "120/121 [============================>.] - ETA: 0s - loss: 0.6222 - acc: 0.6677\n",
      "Epoch 2: val_loss improved from 0.62898 to 0.61681, saving model to ../results/timeseries-baseline/LSTM-256-los_3-best_model.hdf5\n",
      "121/121 [==============================] - 0s 4ms/step - loss: 0.6219 - acc: 0.6682 - val_loss: 0.6168 - val_acc: 0.6708\n",
      "Epoch 3/100\n",
      "112/121 [==========================>...] - ETA: 0s - loss: 0.6014 - acc: 0.6888\n",
      "Epoch 3: val_loss improved from 0.61681 to 0.61260, saving model to ../results/timeseries-baseline/LSTM-256-los_3-best_model.hdf5\n",
      "121/121 [==============================] - 1s 4ms/step - loss: 0.6018 - acc: 0.6881 - val_loss: 0.6126 - val_acc: 0.6830\n",
      "Epoch 4/100\n",
      "118/121 [============================>.] - ETA: 0s - loss: 0.5720 - acc: 0.7114\n",
      "Epoch 4: val_loss did not improve from 0.61260\n",
      "121/121 [==============================] - 0s 4ms/step - loss: 0.5723 - acc: 0.7110 - val_loss: 0.6228 - val_acc: 0.6599\n",
      "Epoch 5/100\n",
      "115/121 [===========================>..] - ETA: 0s - loss: 0.5392 - acc: 0.7434\n",
      "Epoch 5: val_loss did not improve from 0.61260\n",
      "121/121 [==============================] - 0s 4ms/step - loss: 0.5394 - acc: 0.7433 - val_loss: 0.6407 - val_acc: 0.6644\n",
      "Epoch 6/100\n",
      "111/121 [==========================>...] - ETA: 0s - loss: 0.4962 - acc: 0.7710\n",
      "Epoch 6: val_loss did not improve from 0.61260\n",
      "121/121 [==============================] - 1s 4ms/step - loss: 0.4968 - acc: 0.7703 - val_loss: 0.6641 - val_acc: 0.6526\n",
      "138/138 [==============================] - 0s 867us/step\n",
      "0.6801178062246461 0.6221618086414927 0.6504766227871085 0.5569620253164557\n"
     ]
    },
    {
     "name": "stderr",
     "output_type": "stream",
     "text": [
      "2023-11-13 00:00:36.589325: I tensorflow/core/common_runtime/gpu/gpu_device.cc:1886] Created device /job:localhost/replica:0/task:0/device:GPU:0 with 13074 MB memory:  -> device: 0, name: Quadro RTX 5000, pci bus id: 0000:2b:00.0, compute capability: 7.5\n",
      "2023-11-13 00:00:36.599462: I tensorflow/core/common_runtime/gpu/gpu_device.cc:1886] Created device /job:localhost/replica:0/task:0/device:GPU:0 with 13074 MB memory:  -> device: 0, name: Quadro RTX 5000, pci bus id: 0000:2b:00.0, compute capability: 7.5\n"
     ]
    },
    {
     "name": "stdout",
     "output_type": "stream",
     "text": [
      "Problem type:  los_7\n",
      "__________________\n",
      "Epoch 1/100\n",
      "115/121 [===========================>..] - ETA: 0s - loss: 0.2967 - acc: 0.9076\n",
      "Epoch 1: val_loss improved from inf to 0.26287, saving model to ../results/timeseries-baseline/LSTM-256-los_7-best_model.hdf5\n",
      "121/121 [==============================] - 2s 6ms/step - loss: 0.2939 - acc: 0.9087 - val_loss: 0.2629 - val_acc: 0.9233\n",
      "Epoch 2/100\n",
      " 46/121 [==========>...................] - ETA: 0s - loss: 0.2602 - acc: 0.9215"
     ]
    },
    {
     "name": "stderr",
     "output_type": "stream",
     "text": [
      "/data/apps/miniforge3/envs/cse6250-project/lib/python3.9/site-packages/keras/src/engine/training.py:3079: UserWarning: You are saving your model as an HDF5 file via `model.save()`. This file format is considered legacy. We recommend using instead the native Keras format, e.g. `model.save('my_model.keras')`.\n",
      "  saving_api.save_model(\n"
     ]
    },
    {
     "name": "stdout",
     "output_type": "stream",
     "text": [
      "107/121 [=========================>....] - ETA: 0s - loss: 0.2531 - acc: 0.9230\n",
      "Epoch 2: val_loss improved from 0.26287 to 0.26194, saving model to ../results/timeseries-baseline/LSTM-256-los_7-best_model.hdf5\n",
      "121/121 [==============================] - 0s 4ms/step - loss: 0.2513 - acc: 0.9232 - val_loss: 0.2619 - val_acc: 0.9228\n",
      "Epoch 3/100\n",
      "113/121 [===========================>..] - ETA: 0s - loss: 0.2365 - acc: 0.9242\n",
      "Epoch 3: val_loss improved from 0.26194 to 0.26063, saving model to ../results/timeseries-baseline/LSTM-256-los_7-best_model.hdf5\n",
      "121/121 [==============================] - 1s 4ms/step - loss: 0.2368 - acc: 0.9241 - val_loss: 0.2606 - val_acc: 0.9210\n",
      "Epoch 4/100\n",
      "120/121 [============================>.] - ETA: 0s - loss: 0.2230 - acc: 0.9302\n",
      "Epoch 4: val_loss did not improve from 0.26063\n",
      "121/121 [==============================] - 0s 4ms/step - loss: 0.2229 - acc: 0.9303 - val_loss: 0.2640 - val_acc: 0.9223\n",
      "Epoch 5/100\n",
      "114/121 [===========================>..] - ETA: 0s - loss: 0.2060 - acc: 0.9337\n",
      "Epoch 5: val_loss did not improve from 0.26063\n",
      "121/121 [==============================] - 0s 4ms/step - loss: 0.2058 - acc: 0.9339 - val_loss: 0.2793 - val_acc: 0.9133\n",
      "Epoch 6/100\n",
      "119/121 [============================>.] - ETA: 0s - loss: 0.1942 - acc: 0.9376\n",
      "Epoch 6: val_loss did not improve from 0.26063\n",
      "121/121 [==============================] - 0s 4ms/step - loss: 0.1932 - acc: 0.9379 - val_loss: 0.2885 - val_acc: 0.9155\n",
      "138/138 [==============================] - 0s 917us/step\n",
      "0.7153696767928976 0.16530470556531163 0.9137539718565593 0.015544041450777204\n"
     ]
    },
    {
     "name": "stderr",
     "output_type": "stream",
     "text": [
      "2023-11-13 00:00:42.457771: I tensorflow/core/common_runtime/gpu/gpu_device.cc:1886] Created device /job:localhost/replica:0/task:0/device:GPU:0 with 13074 MB memory:  -> device: 0, name: Quadro RTX 5000, pci bus id: 0000:2b:00.0, compute capability: 7.5\n",
      "2023-11-13 00:00:42.469345: I tensorflow/core/common_runtime/gpu/gpu_device.cc:1886] Created device /job:localhost/replica:0/task:0/device:GPU:0 with 13074 MB memory:  -> device: 0, name: Quadro RTX 5000, pci bus id: 0000:2b:00.0, compute capability: 7.5\n"
     ]
    },
    {
     "name": "stdout",
     "output_type": "stream",
     "text": [
      "Iteration number:  5\n",
      "=============================\n",
      "Problem type:  mort_hosp\n",
      "__________________\n",
      "Epoch 1/100\n",
      "118/121 [============================>.] - ETA: 0s - loss: 0.2924 - acc: 0.8975\n",
      "Epoch 1: val_loss improved from inf to 0.24505, saving model to ../results/timeseries-baseline/LSTM-256-mort_hosp-best_model.hdf5\n",
      "121/121 [==============================] - 2s 6ms/step - loss: 0.2913 - acc: 0.8979 - val_loss: 0.2451 - val_acc: 0.9110\n",
      "Epoch 2/100\n",
      " 50/121 [===========>..................] - ETA: 0s - loss: 0.2241 - acc: 0.9194"
     ]
    },
    {
     "name": "stderr",
     "output_type": "stream",
     "text": [
      "/data/apps/miniforge3/envs/cse6250-project/lib/python3.9/site-packages/keras/src/engine/training.py:3079: UserWarning: You are saving your model as an HDF5 file via `model.save()`. This file format is considered legacy. We recommend using instead the native Keras format, e.g. `model.save('my_model.keras')`.\n",
      "  saving_api.save_model(\n"
     ]
    },
    {
     "name": "stdout",
     "output_type": "stream",
     "text": [
      "112/121 [==========================>...] - ETA: 0s - loss: 0.2328 - acc: 0.9171\n",
      "Epoch 2: val_loss did not improve from 0.24505\n",
      "121/121 [==============================] - 0s 4ms/step - loss: 0.2312 - acc: 0.9181 - val_loss: 0.2488 - val_acc: 0.9074\n",
      "Epoch 3/100\n",
      "121/121 [==============================] - ETA: 0s - loss: 0.2132 - acc: 0.9252\n",
      "Epoch 3: val_loss improved from 0.24505 to 0.24431, saving model to ../results/timeseries-baseline/LSTM-256-mort_hosp-best_model.hdf5\n",
      "121/121 [==============================] - 0s 4ms/step - loss: 0.2132 - acc: 0.9252 - val_loss: 0.2443 - val_acc: 0.9128\n",
      "Epoch 4/100\n",
      "118/121 [============================>.] - ETA: 0s - loss: 0.1896 - acc: 0.9331\n",
      "Epoch 4: val_loss did not improve from 0.24431\n",
      "121/121 [==============================] - 0s 4ms/step - loss: 0.1899 - acc: 0.9327 - val_loss: 0.2532 - val_acc: 0.9092\n",
      "Epoch 5/100\n",
      "121/121 [==============================] - ETA: 0s - loss: 0.1681 - acc: 0.9430\n",
      "Epoch 5: val_loss did not improve from 0.24431\n",
      "121/121 [==============================] - 0s 4ms/step - loss: 0.1681 - acc: 0.9430 - val_loss: 0.2704 - val_acc: 0.9015\n",
      "Epoch 6/100\n",
      "107/121 [=========================>....] - ETA: 0s - loss: 0.1489 - acc: 0.9502\n",
      "Epoch 6: val_loss did not improve from 0.24431\n",
      "121/121 [==============================] - 0s 4ms/step - loss: 0.1492 - acc: 0.9502 - val_loss: 0.2668 - val_acc: 0.9051\n",
      "138/138 [==============================] - 0s 900us/step\n",
      "0.8787090708509775 0.5528865848051571 0.9123921924648207 0.438953488372093\n"
     ]
    },
    {
     "name": "stderr",
     "output_type": "stream",
     "text": [
      "2023-11-13 00:00:48.277736: I tensorflow/core/common_runtime/gpu/gpu_device.cc:1886] Created device /job:localhost/replica:0/task:0/device:GPU:0 with 13074 MB memory:  -> device: 0, name: Quadro RTX 5000, pci bus id: 0000:2b:00.0, compute capability: 7.5\n",
      "2023-11-13 00:00:48.289775: I tensorflow/core/common_runtime/gpu/gpu_device.cc:1886] Created device /job:localhost/replica:0/task:0/device:GPU:0 with 13074 MB memory:  -> device: 0, name: Quadro RTX 5000, pci bus id: 0000:2b:00.0, compute capability: 7.5\n"
     ]
    },
    {
     "name": "stdout",
     "output_type": "stream",
     "text": [
      "Problem type:  mort_icu\n",
      "__________________\n",
      "Epoch 1/100\n",
      "114/121 [===========================>..] - ETA: 0s - loss: 0.2294 - acc: 0.9239\n",
      "Epoch 1: val_loss improved from inf to 0.18569, saving model to ../results/timeseries-baseline/LSTM-256-mort_icu-best_model.hdf5\n",
      "121/121 [==============================] - 2s 6ms/step - loss: 0.2279 - acc: 0.9249 - val_loss: 0.1857 - val_acc: 0.9432\n",
      "Epoch 2/100\n",
      " 39/121 [========>.....................] - ETA: 0s - loss: 0.1688 - acc: 0.9489"
     ]
    },
    {
     "name": "stderr",
     "output_type": "stream",
     "text": [
      "/data/apps/miniforge3/envs/cse6250-project/lib/python3.9/site-packages/keras/src/engine/training.py:3079: UserWarning: You are saving your model as an HDF5 file via `model.save()`. This file format is considered legacy. We recommend using instead the native Keras format, e.g. `model.save('my_model.keras')`.\n",
      "  saving_api.save_model(\n"
     ]
    },
    {
     "name": "stdout",
     "output_type": "stream",
     "text": [
      "121/121 [==============================] - ETA: 0s - loss: 0.1694 - acc: 0.9446\n",
      "Epoch 2: val_loss improved from 0.18569 to 0.17056, saving model to ../results/timeseries-baseline/LSTM-256-mort_icu-best_model.hdf5\n",
      "121/121 [==============================] - 1s 5ms/step - loss: 0.1694 - acc: 0.9446 - val_loss: 0.1706 - val_acc: 0.9455\n",
      "Epoch 3/100\n",
      "114/121 [===========================>..] - ETA: 0s - loss: 0.1497 - acc: 0.9513\n",
      "Epoch 3: val_loss improved from 0.17056 to 0.16992, saving model to ../results/timeseries-baseline/LSTM-256-mort_icu-best_model.hdf5\n",
      "121/121 [==============================] - 1s 4ms/step - loss: 0.1485 - acc: 0.9516 - val_loss: 0.1699 - val_acc: 0.9450\n",
      "Epoch 4/100\n",
      "119/121 [============================>.] - ETA: 0s - loss: 0.1342 - acc: 0.9569\n",
      "Epoch 4: val_loss did not improve from 0.16992\n",
      "121/121 [==============================] - 0s 4ms/step - loss: 0.1337 - acc: 0.9571 - val_loss: 0.1735 - val_acc: 0.9450\n",
      "Epoch 5/100\n",
      "116/121 [===========================>..] - ETA: 0s - loss: 0.1173 - acc: 0.9640\n",
      "Epoch 5: val_loss did not improve from 0.16992\n",
      "121/121 [==============================] - 0s 4ms/step - loss: 0.1175 - acc: 0.9638 - val_loss: 0.1971 - val_acc: 0.9319\n",
      "Epoch 6/100\n",
      "116/121 [===========================>..] - ETA: 0s - loss: 0.1036 - acc: 0.9681\n",
      "Epoch 6: val_loss did not improve from 0.16992\n",
      "121/121 [==============================] - 0s 4ms/step - loss: 0.1022 - acc: 0.9686 - val_loss: 0.1898 - val_acc: 0.9342\n",
      "138/138 [==============================] - 0s 933us/step\n",
      "0.8744573615601756 0.4998856355998696 0.9434861552428506 0.4527472527472527\n"
     ]
    },
    {
     "name": "stderr",
     "output_type": "stream",
     "text": [
      "2023-11-13 00:00:54.317859: I tensorflow/core/common_runtime/gpu/gpu_device.cc:1886] Created device /job:localhost/replica:0/task:0/device:GPU:0 with 13074 MB memory:  -> device: 0, name: Quadro RTX 5000, pci bus id: 0000:2b:00.0, compute capability: 7.5\n",
      "2023-11-13 00:00:54.330055: I tensorflow/core/common_runtime/gpu/gpu_device.cc:1886] Created device /job:localhost/replica:0/task:0/device:GPU:0 with 13074 MB memory:  -> device: 0, name: Quadro RTX 5000, pci bus id: 0000:2b:00.0, compute capability: 7.5\n"
     ]
    },
    {
     "name": "stdout",
     "output_type": "stream",
     "text": [
      "Problem type:  los_3\n",
      "__________________\n",
      "Epoch 1/100\n",
      "112/121 [==========================>...] - ETA: 0s - loss: 0.6564 - acc: 0.6348\n",
      "Epoch 1: val_loss improved from inf to 0.62340, saving model to ../results/timeseries-baseline/LSTM-256-los_3-best_model.hdf5\n",
      "121/121 [==============================] - 2s 6ms/step - loss: 0.6557 - acc: 0.6360 - val_loss: 0.6234 - val_acc: 0.6789\n",
      "Epoch 2/100\n",
      " 44/121 [=========>....................] - ETA: 0s - loss: 0.6202 - acc: 0.6765"
     ]
    },
    {
     "name": "stderr",
     "output_type": "stream",
     "text": [
      "/data/apps/miniforge3/envs/cse6250-project/lib/python3.9/site-packages/keras/src/engine/training.py:3079: UserWarning: You are saving your model as an HDF5 file via `model.save()`. This file format is considered legacy. We recommend using instead the native Keras format, e.g. `model.save('my_model.keras')`.\n",
      "  saving_api.save_model(\n"
     ]
    },
    {
     "name": "stdout",
     "output_type": "stream",
     "text": [
      "114/121 [===========================>..] - ETA: 0s - loss: 0.6210 - acc: 0.6748\n",
      "Epoch 2: val_loss improved from 0.62340 to 0.61798, saving model to ../results/timeseries-baseline/LSTM-256-los_3-best_model.hdf5\n",
      "121/121 [==============================] - 1s 4ms/step - loss: 0.6212 - acc: 0.6741 - val_loss: 0.6180 - val_acc: 0.6644\n",
      "Epoch 3/100\n",
      "119/121 [============================>.] - ETA: 0s - loss: 0.5998 - acc: 0.6895\n",
      "Epoch 3: val_loss did not improve from 0.61798\n",
      "121/121 [==============================] - 0s 4ms/step - loss: 0.5991 - acc: 0.6903 - val_loss: 0.6221 - val_acc: 0.6671\n",
      "Epoch 4/100\n",
      "120/121 [============================>.] - ETA: 0s - loss: 0.5723 - acc: 0.7123\n",
      "Epoch 4: val_loss did not improve from 0.61798\n",
      "121/121 [==============================] - 0s 4ms/step - loss: 0.5725 - acc: 0.7121 - val_loss: 0.6303 - val_acc: 0.6603\n",
      "Epoch 5/100\n",
      "116/121 [===========================>..] - ETA: 0s - loss: 0.5406 - acc: 0.7383\n",
      "Epoch 5: val_loss did not improve from 0.61798\n",
      "121/121 [==============================] - 0s 4ms/step - loss: 0.5413 - acc: 0.7372 - val_loss: 0.6500 - val_acc: 0.6612\n",
      "138/138 [==============================] - 0s 981us/step\n",
      "0.6930805938494167 0.6352572280494841 0.6520653654108034 0.5526699737379632\n"
     ]
    },
    {
     "name": "stderr",
     "output_type": "stream",
     "text": [
      "2023-11-13 00:00:59.951142: I tensorflow/core/common_runtime/gpu/gpu_device.cc:1886] Created device /job:localhost/replica:0/task:0/device:GPU:0 with 13074 MB memory:  -> device: 0, name: Quadro RTX 5000, pci bus id: 0000:2b:00.0, compute capability: 7.5\n",
      "2023-11-13 00:00:59.963443: I tensorflow/core/common_runtime/gpu/gpu_device.cc:1886] Created device /job:localhost/replica:0/task:0/device:GPU:0 with 13074 MB memory:  -> device: 0, name: Quadro RTX 5000, pci bus id: 0000:2b:00.0, compute capability: 7.5\n"
     ]
    },
    {
     "name": "stdout",
     "output_type": "stream",
     "text": [
      "Problem type:  los_7\n",
      "__________________\n",
      "Epoch 1/100\n",
      "114/121 [===========================>..] - ETA: 0s - loss: 0.2973 - acc: 0.9095\n",
      "Epoch 1: val_loss improved from inf to 0.26056, saving model to ../results/timeseries-baseline/LSTM-256-los_7-best_model.hdf5\n",
      "121/121 [==============================] - 2s 6ms/step - loss: 0.2961 - acc: 0.9099 - val_loss: 0.2606 - val_acc: 0.9223\n",
      "Epoch 2/100\n",
      " 46/121 [==========>...................] - ETA: 0s - loss: 0.2483 - acc: 0.9237"
     ]
    },
    {
     "name": "stderr",
     "output_type": "stream",
     "text": [
      "/data/apps/miniforge3/envs/cse6250-project/lib/python3.9/site-packages/keras/src/engine/training.py:3079: UserWarning: You are saving your model as an HDF5 file via `model.save()`. This file format is considered legacy. We recommend using instead the native Keras format, e.g. `model.save('my_model.keras')`.\n",
      "  saving_api.save_model(\n"
     ]
    },
    {
     "name": "stdout",
     "output_type": "stream",
     "text": [
      "117/121 [============================>.] - ETA: 0s - loss: 0.2532 - acc: 0.9228\n",
      "Epoch 2: val_loss improved from 0.26056 to 0.25811, saving model to ../results/timeseries-baseline/LSTM-256-los_7-best_model.hdf5\n",
      "121/121 [==============================] - 1s 4ms/step - loss: 0.2526 - acc: 0.9231 - val_loss: 0.2581 - val_acc: 0.9214\n",
      "Epoch 3/100\n",
      "108/121 [=========================>....] - ETA: 0s - loss: 0.2388 - acc: 0.9248\n",
      "Epoch 3: val_loss improved from 0.25811 to 0.25751, saving model to ../results/timeseries-baseline/LSTM-256-los_7-best_model.hdf5\n",
      "121/121 [==============================] - 0s 4ms/step - loss: 0.2402 - acc: 0.9245 - val_loss: 0.2575 - val_acc: 0.9205\n",
      "Epoch 4/100\n",
      "120/121 [============================>.] - ETA: 0s - loss: 0.2271 - acc: 0.9282\n",
      "Epoch 4: val_loss did not improve from 0.25751\n",
      "121/121 [==============================] - 0s 4ms/step - loss: 0.2269 - acc: 0.9284 - val_loss: 0.2599 - val_acc: 0.9214\n",
      "Epoch 5/100\n",
      "116/121 [===========================>..] - ETA: 0s - loss: 0.2111 - acc: 0.9327\n",
      "Epoch 5: val_loss did not improve from 0.25751\n",
      "121/121 [==============================] - 0s 4ms/step - loss: 0.2118 - acc: 0.9327 - val_loss: 0.2603 - val_acc: 0.9183\n",
      "Epoch 6/100\n",
      "112/121 [==========================>...] - ETA: 0s - loss: 0.1994 - acc: 0.9382\n",
      "Epoch 6: val_loss did not improve from 0.25751\n",
      "121/121 [==============================] - 1s 4ms/step - loss: 0.1983 - acc: 0.9390 - val_loss: 0.2757 - val_acc: 0.9146\n",
      "138/138 [==============================] - 0s 932us/step\n",
      "0.7303204327923428 0.20337421891632274 0.9171584203359056 0.05684754521963824\n"
     ]
    },
    {
     "name": "stderr",
     "output_type": "stream",
     "text": [
      "2023-11-13 00:01:06.048278: I tensorflow/core/common_runtime/gpu/gpu_device.cc:1886] Created device /job:localhost/replica:0/task:0/device:GPU:0 with 13074 MB memory:  -> device: 0, name: Quadro RTX 5000, pci bus id: 0000:2b:00.0, compute capability: 7.5\n",
      "2023-11-13 00:01:06.059134: I tensorflow/core/common_runtime/gpu/gpu_device.cc:1886] Created device /job:localhost/replica:0/task:0/device:GPU:0 with 13074 MB memory:  -> device: 0, name: Quadro RTX 5000, pci bus id: 0000:2b:00.0, compute capability: 7.5\n"
     ]
    },
    {
     "name": "stdout",
     "output_type": "stream",
     "text": [
      "Iteration number:  6\n",
      "=============================\n",
      "Problem type:  mort_hosp\n",
      "__________________\n",
      "Epoch 1/100\n",
      "111/121 [==========================>...] - ETA: 0s - loss: 0.2892 - acc: 0.8978\n",
      "Epoch 1: val_loss improved from inf to 0.24547, saving model to ../results/timeseries-baseline/LSTM-256-mort_hosp-best_model.hdf5\n",
      "121/121 [==============================] - 2s 6ms/step - loss: 0.2874 - acc: 0.8980 - val_loss: 0.2455 - val_acc: 0.9119\n",
      "Epoch 2/100\n",
      " 40/121 [========>.....................] - ETA: 0s - loss: 0.2361 - acc: 0.9221"
     ]
    },
    {
     "name": "stderr",
     "output_type": "stream",
     "text": [
      "/data/apps/miniforge3/envs/cse6250-project/lib/python3.9/site-packages/keras/src/engine/training.py:3079: UserWarning: You are saving your model as an HDF5 file via `model.save()`. This file format is considered legacy. We recommend using instead the native Keras format, e.g. `model.save('my_model.keras')`.\n",
      "  saving_api.save_model(\n"
     ]
    },
    {
     "name": "stdout",
     "output_type": "stream",
     "text": [
      "109/121 [==========================>...] - ETA: 0s - loss: 0.2280 - acc: 0.9226\n",
      "Epoch 2: val_loss improved from 0.24547 to 0.24402, saving model to ../results/timeseries-baseline/LSTM-256-mort_hosp-best_model.hdf5\n",
      "121/121 [==============================] - 1s 4ms/step - loss: 0.2305 - acc: 0.9213 - val_loss: 0.2440 - val_acc: 0.9146\n",
      "Epoch 3/100\n",
      "110/121 [==========================>...] - ETA: 0s - loss: 0.2069 - acc: 0.9290\n",
      "Epoch 3: val_loss did not improve from 0.24402\n",
      "121/121 [==============================] - 1s 4ms/step - loss: 0.2070 - acc: 0.9286 - val_loss: 0.2456 - val_acc: 0.9119\n",
      "Epoch 4/100\n",
      "111/121 [==========================>...] - ETA: 0s - loss: 0.1863 - acc: 0.9367\n",
      "Epoch 4: val_loss did not improve from 0.24402\n",
      "121/121 [==============================] - 1s 4ms/step - loss: 0.1869 - acc: 0.9359 - val_loss: 0.2457 - val_acc: 0.9078\n",
      "Epoch 5/100\n",
      "113/121 [===========================>..] - ETA: 0s - loss: 0.1652 - acc: 0.9475\n",
      "Epoch 5: val_loss did not improve from 0.24402\n",
      "121/121 [==============================] - 0s 4ms/step - loss: 0.1645 - acc: 0.9474 - val_loss: 0.2671 - val_acc: 0.8992\n",
      "138/138 [==============================] - 0s 912us/step\n",
      "0.874000583822063 0.5382101149205838 0.9105764866091693 0.4171597633136095\n"
     ]
    },
    {
     "name": "stderr",
     "output_type": "stream",
     "text": [
      "2023-11-13 00:01:11.705919: I tensorflow/core/common_runtime/gpu/gpu_device.cc:1886] Created device /job:localhost/replica:0/task:0/device:GPU:0 with 13074 MB memory:  -> device: 0, name: Quadro RTX 5000, pci bus id: 0000:2b:00.0, compute capability: 7.5\n",
      "2023-11-13 00:01:11.716408: I tensorflow/core/common_runtime/gpu/gpu_device.cc:1886] Created device /job:localhost/replica:0/task:0/device:GPU:0 with 13074 MB memory:  -> device: 0, name: Quadro RTX 5000, pci bus id: 0000:2b:00.0, compute capability: 7.5\n"
     ]
    },
    {
     "name": "stdout",
     "output_type": "stream",
     "text": [
      "Problem type:  mort_icu\n",
      "__________________\n",
      "Epoch 1/100\n",
      "113/121 [===========================>..] - ETA: 0s - loss: 0.2310 - acc: 0.9206\n",
      "Epoch 1: val_loss improved from inf to 0.18909, saving model to ../results/timeseries-baseline/LSTM-256-mort_icu-best_model.hdf5\n",
      "121/121 [==============================] - 2s 6ms/step - loss: 0.2286 - acc: 0.9212 - val_loss: 0.1891 - val_acc: 0.9410\n",
      "Epoch 2/100\n",
      " 46/121 [==========>...................] - ETA: 0s - loss: 0.1722 - acc: 0.9465"
     ]
    },
    {
     "name": "stderr",
     "output_type": "stream",
     "text": [
      "/data/apps/miniforge3/envs/cse6250-project/lib/python3.9/site-packages/keras/src/engine/training.py:3079: UserWarning: You are saving your model as an HDF5 file via `model.save()`. This file format is considered legacy. We recommend using instead the native Keras format, e.g. `model.save('my_model.keras')`.\n",
      "  saving_api.save_model(\n"
     ]
    },
    {
     "name": "stdout",
     "output_type": "stream",
     "text": [
      "119/121 [============================>.] - ETA: 0s - loss: 0.1677 - acc: 0.9456\n",
      "Epoch 2: val_loss improved from 0.18909 to 0.18177, saving model to ../results/timeseries-baseline/LSTM-256-mort_icu-best_model.hdf5\n",
      "121/121 [==============================] - 0s 4ms/step - loss: 0.1676 - acc: 0.9456 - val_loss: 0.1818 - val_acc: 0.9369\n",
      "Epoch 3/100\n",
      "117/121 [============================>.] - ETA: 0s - loss: 0.1511 - acc: 0.9509\n",
      "Epoch 3: val_loss did not improve from 0.18177\n",
      "121/121 [==============================] - 0s 4ms/step - loss: 0.1511 - acc: 0.9506 - val_loss: 0.1824 - val_acc: 0.9401\n",
      "Epoch 4/100\n",
      "117/121 [============================>.] - ETA: 0s - loss: 0.1337 - acc: 0.9567\n",
      "Epoch 4: val_loss improved from 0.18177 to 0.18083, saving model to ../results/timeseries-baseline/LSTM-256-mort_icu-best_model.hdf5\n",
      "121/121 [==============================] - 0s 4ms/step - loss: 0.1338 - acc: 0.9564 - val_loss: 0.1808 - val_acc: 0.9405\n",
      "Epoch 5/100\n",
      "114/121 [===========================>..] - ETA: 0s - loss: 0.1192 - acc: 0.9619\n",
      "Epoch 5: val_loss did not improve from 0.18083\n",
      "121/121 [==============================] - 0s 4ms/step - loss: 0.1206 - acc: 0.9613 - val_loss: 0.1883 - val_acc: 0.9360\n",
      "Epoch 6/100\n",
      "115/121 [===========================>..] - ETA: 0s - loss: 0.1043 - acc: 0.9664\n",
      "Epoch 6: val_loss did not improve from 0.18083\n",
      "121/121 [==============================] - 0s 4ms/step - loss: 0.1059 - acc: 0.9660 - val_loss: 0.1884 - val_acc: 0.9364\n",
      "Epoch 7/100\n",
      "114/121 [===========================>..] - ETA: 0s - loss: 0.0893 - acc: 0.9731\n",
      "Epoch 7: val_loss did not improve from 0.18083\n",
      "121/121 [==============================] - 0s 4ms/step - loss: 0.0898 - acc: 0.9730 - val_loss: 0.2196 - val_acc: 0.9342\n",
      "138/138 [==============================] - 0s 850us/step\n",
      "0.8684922925475983 0.5058419466796785 0.9421243758511121 0.4370860927152318\n"
     ]
    },
    {
     "name": "stderr",
     "output_type": "stream",
     "text": [
      "2023-11-13 00:01:18.299720: I tensorflow/core/common_runtime/gpu/gpu_device.cc:1886] Created device /job:localhost/replica:0/task:0/device:GPU:0 with 13074 MB memory:  -> device: 0, name: Quadro RTX 5000, pci bus id: 0000:2b:00.0, compute capability: 7.5\n",
      "2023-11-13 00:01:18.314424: I tensorflow/core/common_runtime/gpu/gpu_device.cc:1886] Created device /job:localhost/replica:0/task:0/device:GPU:0 with 13074 MB memory:  -> device: 0, name: Quadro RTX 5000, pci bus id: 0000:2b:00.0, compute capability: 7.5\n"
     ]
    },
    {
     "name": "stdout",
     "output_type": "stream",
     "text": [
      "Problem type:  los_3\n",
      "__________________\n",
      "Epoch 1/100\n",
      "120/121 [============================>.] - ETA: 0s - loss: 0.6545 - acc: 0.6367\n",
      "Epoch 1: val_loss improved from inf to 0.62537, saving model to ../results/timeseries-baseline/LSTM-256-los_3-best_model.hdf5\n",
      "121/121 [==============================] - 2s 6ms/step - loss: 0.6544 - acc: 0.6369 - val_loss: 0.6254 - val_acc: 0.6717\n",
      "Epoch 2/100\n",
      " 43/121 [=========>....................] - ETA: 0s - loss: 0.6223 - acc: 0.6771"
     ]
    },
    {
     "name": "stderr",
     "output_type": "stream",
     "text": [
      "/data/apps/miniforge3/envs/cse6250-project/lib/python3.9/site-packages/keras/src/engine/training.py:3079: UserWarning: You are saving your model as an HDF5 file via `model.save()`. This file format is considered legacy. We recommend using instead the native Keras format, e.g. `model.save('my_model.keras')`.\n",
      "  saving_api.save_model(\n"
     ]
    },
    {
     "name": "stdout",
     "output_type": "stream",
     "text": [
      "115/121 [===========================>..] - ETA: 0s - loss: 0.6204 - acc: 0.6730\n",
      "Epoch 2: val_loss improved from 0.62537 to 0.62157, saving model to ../results/timeseries-baseline/LSTM-256-los_3-best_model.hdf5\n",
      "121/121 [==============================] - 1s 4ms/step - loss: 0.6206 - acc: 0.6735 - val_loss: 0.6216 - val_acc: 0.6671\n",
      "Epoch 3/100\n",
      "112/121 [==========================>...] - ETA: 0s - loss: 0.5981 - acc: 0.6927\n",
      "Epoch 3: val_loss did not improve from 0.62157\n",
      "121/121 [==============================] - 1s 4ms/step - loss: 0.5991 - acc: 0.6913 - val_loss: 0.6237 - val_acc: 0.6635\n",
      "Epoch 4/100\n",
      "117/121 [============================>.] - ETA: 0s - loss: 0.5700 - acc: 0.7169\n",
      "Epoch 4: val_loss did not improve from 0.62157\n",
      "121/121 [==============================] - 0s 4ms/step - loss: 0.5691 - acc: 0.7180 - val_loss: 0.6259 - val_acc: 0.6767\n",
      "Epoch 5/100\n",
      "109/121 [==========================>...] - ETA: 0s - loss: 0.5304 - acc: 0.7495\n",
      "Epoch 5: val_loss did not improve from 0.62157\n",
      "121/121 [==============================] - 1s 4ms/step - loss: 0.5323 - acc: 0.7474 - val_loss: 0.6464 - val_acc: 0.6526\n",
      "138/138 [==============================] - 0s 959us/step\n",
      "0.6845059250281944 0.6300364418268913 0.6527462551066727 0.5435560859188544\n"
     ]
    },
    {
     "name": "stderr",
     "output_type": "stream",
     "text": [
      "2023-11-13 00:01:24.082151: I tensorflow/core/common_runtime/gpu/gpu_device.cc:1886] Created device /job:localhost/replica:0/task:0/device:GPU:0 with 13074 MB memory:  -> device: 0, name: Quadro RTX 5000, pci bus id: 0000:2b:00.0, compute capability: 7.5\n",
      "2023-11-13 00:01:24.094022: I tensorflow/core/common_runtime/gpu/gpu_device.cc:1886] Created device /job:localhost/replica:0/task:0/device:GPU:0 with 13074 MB memory:  -> device: 0, name: Quadro RTX 5000, pci bus id: 0000:2b:00.0, compute capability: 7.5\n"
     ]
    },
    {
     "name": "stdout",
     "output_type": "stream",
     "text": [
      "Problem type:  los_7\n",
      "__________________\n",
      "Epoch 1/100\n",
      "115/121 [===========================>..] - ETA: 0s - loss: 0.2965 - acc: 0.9089\n",
      "Epoch 1: val_loss improved from inf to 0.26466, saving model to ../results/timeseries-baseline/LSTM-256-los_7-best_model.hdf5\n",
      "121/121 [==============================] - 2s 6ms/step - loss: 0.2948 - acc: 0.9096 - val_loss: 0.2647 - val_acc: 0.9228\n",
      "Epoch 2/100\n",
      " 44/121 [=========>....................] - ETA: 0s - loss: 0.2594 - acc: 0.9189"
     ]
    },
    {
     "name": "stderr",
     "output_type": "stream",
     "text": [
      "/data/apps/miniforge3/envs/cse6250-project/lib/python3.9/site-packages/keras/src/engine/training.py:3079: UserWarning: You are saving your model as an HDF5 file via `model.save()`. This file format is considered legacy. We recommend using instead the native Keras format, e.g. `model.save('my_model.keras')`.\n",
      "  saving_api.save_model(\n"
     ]
    },
    {
     "name": "stdout",
     "output_type": "stream",
     "text": [
      "111/121 [==========================>...] - ETA: 0s - loss: 0.2528 - acc: 0.9224\n",
      "Epoch 2: val_loss improved from 0.26466 to 0.26407, saving model to ../results/timeseries-baseline/LSTM-256-los_7-best_model.hdf5\n",
      "121/121 [==============================] - 1s 4ms/step - loss: 0.2505 - acc: 0.9237 - val_loss: 0.2641 - val_acc: 0.9233\n",
      "Epoch 3/100\n",
      "119/121 [============================>.] - ETA: 0s - loss: 0.2375 - acc: 0.9242\n",
      "Epoch 3: val_loss improved from 0.26407 to 0.26209, saving model to ../results/timeseries-baseline/LSTM-256-los_7-best_model.hdf5\n",
      "121/121 [==============================] - 0s 4ms/step - loss: 0.2376 - acc: 0.9240 - val_loss: 0.2621 - val_acc: 0.9219\n",
      "Epoch 4/100\n",
      "116/121 [===========================>..] - ETA: 0s - loss: 0.2248 - acc: 0.9277\n",
      "Epoch 4: val_loss did not improve from 0.26209\n",
      "121/121 [==============================] - 0s 4ms/step - loss: 0.2241 - acc: 0.9281 - val_loss: 0.2625 - val_acc: 0.9223\n",
      "Epoch 5/100\n",
      "113/121 [===========================>..] - ETA: 0s - loss: 0.2076 - acc: 0.9334\n",
      "Epoch 5: val_loss did not improve from 0.26209\n",
      "121/121 [==============================] - 0s 4ms/step - loss: 0.2058 - acc: 0.9338 - val_loss: 0.2744 - val_acc: 0.9164\n",
      "Epoch 6/100\n",
      "121/121 [==============================] - ETA: 0s - loss: 0.1907 - acc: 0.9395\n",
      "Epoch 6: val_loss did not improve from 0.26209\n",
      "121/121 [==============================] - 1s 4ms/step - loss: 0.1907 - acc: 0.9395 - val_loss: 0.2828 - val_acc: 0.9064\n",
      "138/138 [==============================] - 0s 965us/step\n",
      "0.7279338327091136 0.17127528413669746 0.9126191556967771 0.020356234096692113\n"
     ]
    },
    {
     "name": "stderr",
     "output_type": "stream",
     "text": [
      "2023-11-13 00:01:30.289995: I tensorflow/core/common_runtime/gpu/gpu_device.cc:1886] Created device /job:localhost/replica:0/task:0/device:GPU:0 with 13074 MB memory:  -> device: 0, name: Quadro RTX 5000, pci bus id: 0000:2b:00.0, compute capability: 7.5\n",
      "2023-11-13 00:01:30.301383: I tensorflow/core/common_runtime/gpu/gpu_device.cc:1886] Created device /job:localhost/replica:0/task:0/device:GPU:0 with 13074 MB memory:  -> device: 0, name: Quadro RTX 5000, pci bus id: 0000:2b:00.0, compute capability: 7.5\n"
     ]
    },
    {
     "name": "stdout",
     "output_type": "stream",
     "text": [
      "Iteration number:  7\n",
      "=============================\n",
      "Problem type:  mort_hosp\n",
      "__________________\n",
      "Epoch 1/100\n",
      "112/121 [==========================>...] - ETA: 0s - loss: 0.2907 - acc: 0.8976\n",
      "Epoch 1: val_loss improved from inf to 0.24052, saving model to ../results/timeseries-baseline/LSTM-256-mort_hosp-best_model.hdf5\n",
      "121/121 [==============================] - 2s 6ms/step - loss: 0.2889 - acc: 0.8977 - val_loss: 0.2405 - val_acc: 0.9155\n",
      "Epoch 2/100\n",
      " 44/121 [=========>....................] - ETA: 0s - loss: 0.2401 - acc: 0.9126"
     ]
    },
    {
     "name": "stderr",
     "output_type": "stream",
     "text": [
      "/data/apps/miniforge3/envs/cse6250-project/lib/python3.9/site-packages/keras/src/engine/training.py:3079: UserWarning: You are saving your model as an HDF5 file via `model.save()`. This file format is considered legacy. We recommend using instead the native Keras format, e.g. `model.save('my_model.keras')`.\n",
      "  saving_api.save_model(\n"
     ]
    },
    {
     "name": "stdout",
     "output_type": "stream",
     "text": [
      "118/121 [============================>.] - ETA: 0s - loss: 0.2314 - acc: 0.9170\n",
      "Epoch 2: val_loss improved from 0.24052 to 0.23964, saving model to ../results/timeseries-baseline/LSTM-256-mort_hosp-best_model.hdf5\n",
      "121/121 [==============================] - 0s 4ms/step - loss: 0.2318 - acc: 0.9172 - val_loss: 0.2396 - val_acc: 0.9142\n",
      "Epoch 3/100\n",
      "116/121 [===========================>..] - ETA: 0s - loss: 0.2066 - acc: 0.9283\n",
      "Epoch 3: val_loss did not improve from 0.23964\n",
      "121/121 [==============================] - 0s 4ms/step - loss: 0.2079 - acc: 0.9276 - val_loss: 0.2419 - val_acc: 0.9087\n",
      "Epoch 4/100\n",
      "112/121 [==========================>...] - ETA: 0s - loss: 0.1869 - acc: 0.9363\n",
      "Epoch 4: val_loss did not improve from 0.23964\n",
      "121/121 [==============================] - 1s 4ms/step - loss: 0.1876 - acc: 0.9362 - val_loss: 0.2497 - val_acc: 0.9133\n",
      "Epoch 5/100\n",
      "115/121 [===========================>..] - ETA: 0s - loss: 0.1641 - acc: 0.9450\n",
      "Epoch 5: val_loss did not improve from 0.23964\n",
      "121/121 [==============================] - 0s 4ms/step - loss: 0.1639 - acc: 0.9452 - val_loss: 0.2595 - val_acc: 0.8996\n",
      "138/138 [==============================] - 0s 1ms/step\n",
      "0.8805276928251086 0.5626816520349556 0.915796640944167 0.4421052631578948\n"
     ]
    },
    {
     "name": "stderr",
     "output_type": "stream",
     "text": [
      "2023-11-13 00:01:36.017969: I tensorflow/core/common_runtime/gpu/gpu_device.cc:1886] Created device /job:localhost/replica:0/task:0/device:GPU:0 with 13074 MB memory:  -> device: 0, name: Quadro RTX 5000, pci bus id: 0000:2b:00.0, compute capability: 7.5\n",
      "2023-11-13 00:01:36.031304: I tensorflow/core/common_runtime/gpu/gpu_device.cc:1886] Created device /job:localhost/replica:0/task:0/device:GPU:0 with 13074 MB memory:  -> device: 0, name: Quadro RTX 5000, pci bus id: 0000:2b:00.0, compute capability: 7.5\n"
     ]
    },
    {
     "name": "stdout",
     "output_type": "stream",
     "text": [
      "Problem type:  mort_icu\n",
      "__________________\n",
      "Epoch 1/100\n",
      "110/121 [==========================>...] - ETA: 0s - loss: 0.2301 - acc: 0.9233\n",
      "Epoch 1: val_loss improved from inf to 0.17866, saving model to ../results/timeseries-baseline/LSTM-256-mort_icu-best_model.hdf5\n",
      "121/121 [==============================] - 2s 6ms/step - loss: 0.2259 - acc: 0.9247 - val_loss: 0.1787 - val_acc: 0.9419\n",
      "Epoch 2/100\n",
      " 41/121 [=========>....................] - ETA: 0s - loss: 0.1650 - acc: 0.9484"
     ]
    },
    {
     "name": "stderr",
     "output_type": "stream",
     "text": [
      "/data/apps/miniforge3/envs/cse6250-project/lib/python3.9/site-packages/keras/src/engine/training.py:3079: UserWarning: You are saving your model as an HDF5 file via `model.save()`. This file format is considered legacy. We recommend using instead the native Keras format, e.g. `model.save('my_model.keras')`.\n",
      "  saving_api.save_model(\n"
     ]
    },
    {
     "name": "stdout",
     "output_type": "stream",
     "text": [
      "112/121 [==========================>...] - ETA: 0s - loss: 0.1692 - acc: 0.9453\n",
      "Epoch 2: val_loss improved from 0.17866 to 0.17842, saving model to ../results/timeseries-baseline/LSTM-256-mort_icu-best_model.hdf5\n",
      "121/121 [==============================] - 1s 4ms/step - loss: 0.1692 - acc: 0.9454 - val_loss: 0.1784 - val_acc: 0.9391\n",
      "Epoch 3/100\n",
      "110/121 [==========================>...] - ETA: 0s - loss: 0.1482 - acc: 0.9521\n",
      "Epoch 3: val_loss improved from 0.17842 to 0.17765, saving model to ../results/timeseries-baseline/LSTM-256-mort_icu-best_model.hdf5\n",
      "121/121 [==============================] - 1s 4ms/step - loss: 0.1491 - acc: 0.9514 - val_loss: 0.1777 - val_acc: 0.9382\n",
      "Epoch 4/100\n",
      "112/121 [==========================>...] - ETA: 0s - loss: 0.1348 - acc: 0.9553\n",
      "Epoch 4: val_loss did not improve from 0.17765\n",
      "121/121 [==============================] - 0s 4ms/step - loss: 0.1351 - acc: 0.9556 - val_loss: 0.1812 - val_acc: 0.9391\n",
      "Epoch 5/100\n",
      "115/121 [===========================>..] - ETA: 0s - loss: 0.1189 - acc: 0.9627\n",
      "Epoch 5: val_loss did not improve from 0.17765\n",
      "121/121 [==============================] - 0s 4ms/step - loss: 0.1186 - acc: 0.9625 - val_loss: 0.1942 - val_acc: 0.9342\n",
      "Epoch 6/100\n",
      "112/121 [==========================>...] - ETA: 0s - loss: 0.1052 - acc: 0.9671\n",
      "Epoch 6: val_loss did not improve from 0.17765\n",
      "121/121 [==============================] - 1s 4ms/step - loss: 0.1050 - acc: 0.9671 - val_loss: 0.2126 - val_acc: 0.9269\n",
      "138/138 [==============================] - 0s 889us/step\n",
      "0.8782067453420078 0.4954767978409699 0.9389468906037222 0.44763860369609865\n"
     ]
    },
    {
     "name": "stderr",
     "output_type": "stream",
     "text": [
      "2023-11-13 00:01:42.256110: I tensorflow/core/common_runtime/gpu/gpu_device.cc:1886] Created device /job:localhost/replica:0/task:0/device:GPU:0 with 13074 MB memory:  -> device: 0, name: Quadro RTX 5000, pci bus id: 0000:2b:00.0, compute capability: 7.5\n",
      "2023-11-13 00:01:42.267360: I tensorflow/core/common_runtime/gpu/gpu_device.cc:1886] Created device /job:localhost/replica:0/task:0/device:GPU:0 with 13074 MB memory:  -> device: 0, name: Quadro RTX 5000, pci bus id: 0000:2b:00.0, compute capability: 7.5\n"
     ]
    },
    {
     "name": "stdout",
     "output_type": "stream",
     "text": [
      "Problem type:  los_3\n",
      "__________________\n",
      "Epoch 1/100\n",
      "115/121 [===========================>..] - ETA: 0s - loss: 0.6562 - acc: 0.6374\n",
      "Epoch 1: val_loss improved from inf to 0.62101, saving model to ../results/timeseries-baseline/LSTM-256-los_3-best_model.hdf5\n",
      "121/121 [==============================] - 2s 6ms/step - loss: 0.6547 - acc: 0.6390 - val_loss: 0.6210 - val_acc: 0.6767\n",
      "Epoch 2/100\n",
      " 46/121 [==========>...................] - ETA: 0s - loss: 0.6164 - acc: 0.6776"
     ]
    },
    {
     "name": "stderr",
     "output_type": "stream",
     "text": [
      "/data/apps/miniforge3/envs/cse6250-project/lib/python3.9/site-packages/keras/src/engine/training.py:3079: UserWarning: You are saving your model as an HDF5 file via `model.save()`. This file format is considered legacy. We recommend using instead the native Keras format, e.g. `model.save('my_model.keras')`.\n",
      "  saving_api.save_model(\n"
     ]
    },
    {
     "name": "stdout",
     "output_type": "stream",
     "text": [
      "119/121 [============================>.] - ETA: 0s - loss: 0.6214 - acc: 0.6709\n",
      "Epoch 2: val_loss improved from 0.62101 to 0.61547, saving model to ../results/timeseries-baseline/LSTM-256-los_3-best_model.hdf5\n",
      "121/121 [==============================] - 0s 4ms/step - loss: 0.6217 - acc: 0.6705 - val_loss: 0.6155 - val_acc: 0.6708\n",
      "Epoch 3/100\n",
      "108/121 [=========================>....] - ETA: 0s - loss: 0.5988 - acc: 0.6895\n",
      "Epoch 3: val_loss did not improve from 0.61547\n",
      "121/121 [==============================] - 0s 4ms/step - loss: 0.5989 - acc: 0.6898 - val_loss: 0.6212 - val_acc: 0.6649\n",
      "Epoch 4/100\n",
      "119/121 [============================>.] - ETA: 0s - loss: 0.5743 - acc: 0.7120\n",
      "Epoch 4: val_loss did not improve from 0.61547\n",
      "121/121 [==============================] - 0s 4ms/step - loss: 0.5744 - acc: 0.7122 - val_loss: 0.6358 - val_acc: 0.6540\n",
      "Epoch 5/100\n",
      "109/121 [==========================>...] - ETA: 0s - loss: 0.5357 - acc: 0.7405\n",
      "Epoch 5: val_loss did not improve from 0.61547\n",
      "121/121 [==============================] - 0s 4ms/step - loss: 0.5360 - acc: 0.7405 - val_loss: 0.6570 - val_acc: 0.6517\n",
      "138/138 [==============================] - 0s 990us/step\n",
      "0.6963585062869262 0.6370537142747832 0.6581933726736269 0.5657439446366782\n"
     ]
    },
    {
     "name": "stderr",
     "output_type": "stream",
     "text": [
      "2023-11-13 00:01:47.800730: I tensorflow/core/common_runtime/gpu/gpu_device.cc:1886] Created device /job:localhost/replica:0/task:0/device:GPU:0 with 13074 MB memory:  -> device: 0, name: Quadro RTX 5000, pci bus id: 0000:2b:00.0, compute capability: 7.5\n",
      "2023-11-13 00:01:47.813768: I tensorflow/core/common_runtime/gpu/gpu_device.cc:1886] Created device /job:localhost/replica:0/task:0/device:GPU:0 with 13074 MB memory:  -> device: 0, name: Quadro RTX 5000, pci bus id: 0000:2b:00.0, compute capability: 7.5\n"
     ]
    },
    {
     "name": "stdout",
     "output_type": "stream",
     "text": [
      "Problem type:  los_7\n",
      "__________________\n",
      "Epoch 1/100\n",
      "108/121 [=========================>....] - ETA: 0s - loss: 0.3029 - acc: 0.9051\n",
      "Epoch 1: val_loss improved from inf to 0.26497, saving model to ../results/timeseries-baseline/LSTM-256-los_7-best_model.hdf5\n",
      "121/121 [==============================] - 2s 6ms/step - loss: 0.2981 - acc: 0.9073 - val_loss: 0.2650 - val_acc: 0.9223\n",
      "Epoch 2/100\n",
      " 47/121 [==========>...................] - ETA: 0s - loss: 0.2585 - acc: 0.9199"
     ]
    },
    {
     "name": "stderr",
     "output_type": "stream",
     "text": [
      "/data/apps/miniforge3/envs/cse6250-project/lib/python3.9/site-packages/keras/src/engine/training.py:3079: UserWarning: You are saving your model as an HDF5 file via `model.save()`. This file format is considered legacy. We recommend using instead the native Keras format, e.g. `model.save('my_model.keras')`.\n",
      "  saving_api.save_model(\n"
     ]
    },
    {
     "name": "stdout",
     "output_type": "stream",
     "text": [
      "110/121 [==========================>...] - ETA: 0s - loss: 0.2527 - acc: 0.9224\n",
      "Epoch 2: val_loss improved from 0.26497 to 0.25839, saving model to ../results/timeseries-baseline/LSTM-256-los_7-best_model.hdf5\n",
      "121/121 [==============================] - 0s 4ms/step - loss: 0.2528 - acc: 0.9226 - val_loss: 0.2584 - val_acc: 0.9233\n",
      "Epoch 3/100\n",
      "117/121 [============================>.] - ETA: 0s - loss: 0.2412 - acc: 0.9230\n",
      "Epoch 3: val_loss did not improve from 0.25839\n",
      "121/121 [==============================] - 0s 4ms/step - loss: 0.2396 - acc: 0.9239 - val_loss: 0.2617 - val_acc: 0.9228\n",
      "Epoch 4/100\n",
      "113/121 [===========================>..] - ETA: 0s - loss: 0.2263 - acc: 0.9277\n",
      "Epoch 4: val_loss improved from 0.25839 to 0.25667, saving model to ../results/timeseries-baseline/LSTM-256-los_7-best_model.hdf5\n",
      "121/121 [==============================] - 1s 4ms/step - loss: 0.2267 - acc: 0.9272 - val_loss: 0.2567 - val_acc: 0.9192\n",
      "Epoch 5/100\n",
      "111/121 [==========================>...] - ETA: 0s - loss: 0.2119 - acc: 0.9331\n",
      "Epoch 5: val_loss did not improve from 0.25667\n",
      "121/121 [==============================] - 0s 4ms/step - loss: 0.2120 - acc: 0.9331 - val_loss: 0.2786 - val_acc: 0.9083\n",
      "Epoch 6/100\n",
      "115/121 [===========================>..] - ETA: 0s - loss: 0.1986 - acc: 0.9367\n",
      "Epoch 6: val_loss did not improve from 0.25667\n",
      "121/121 [==============================] - 0s 4ms/step - loss: 0.1989 - acc: 0.9369 - val_loss: 0.2637 - val_acc: 0.9178\n",
      "Epoch 7/100\n",
      "111/121 [==========================>...] - ETA: 0s - loss: 0.1803 - acc: 0.9435\n",
      "Epoch 7: val_loss did not improve from 0.25667\n",
      "121/121 [==============================] - 0s 4ms/step - loss: 0.1816 - acc: 0.9428 - val_loss: 0.2859 - val_acc: 0.9096\n",
      "138/138 [==============================] - 0s 889us/step\n",
      "0.7183950617283951 0.18531263241232293 0.9151157512482978 0.07425742574257425\n"
     ]
    },
    {
     "name": "stderr",
     "output_type": "stream",
     "text": [
      "2023-11-13 00:01:54.291260: I tensorflow/core/common_runtime/gpu/gpu_device.cc:1886] Created device /job:localhost/replica:0/task:0/device:GPU:0 with 13074 MB memory:  -> device: 0, name: Quadro RTX 5000, pci bus id: 0000:2b:00.0, compute capability: 7.5\n",
      "2023-11-13 00:01:54.301864: I tensorflow/core/common_runtime/gpu/gpu_device.cc:1886] Created device /job:localhost/replica:0/task:0/device:GPU:0 with 13074 MB memory:  -> device: 0, name: Quadro RTX 5000, pci bus id: 0000:2b:00.0, compute capability: 7.5\n"
     ]
    },
    {
     "name": "stdout",
     "output_type": "stream",
     "text": [
      "Iteration number:  8\n",
      "=============================\n",
      "Problem type:  mort_hosp\n",
      "__________________\n",
      "Epoch 1/100\n",
      "121/121 [==============================] - ETA: 0s - loss: 0.2890 - acc: 0.8950\n",
      "Epoch 1: val_loss improved from inf to 0.24457, saving model to ../results/timeseries-baseline/LSTM-256-mort_hosp-best_model.hdf5\n",
      "121/121 [==============================] - 1s 6ms/step - loss: 0.2890 - acc: 0.8950 - val_loss: 0.2446 - val_acc: 0.9114\n",
      "Epoch 2/100\n",
      " 46/121 [==========>...................] - ETA: 0s - loss: 0.2427 - acc: 0.9134"
     ]
    },
    {
     "name": "stderr",
     "output_type": "stream",
     "text": [
      "/data/apps/miniforge3/envs/cse6250-project/lib/python3.9/site-packages/keras/src/engine/training.py:3079: UserWarning: You are saving your model as an HDF5 file via `model.save()`. This file format is considered legacy. We recommend using instead the native Keras format, e.g. `model.save('my_model.keras')`.\n",
      "  saving_api.save_model(\n"
     ]
    },
    {
     "name": "stdout",
     "output_type": "stream",
     "text": [
      "119/121 [============================>.] - ETA: 0s - loss: 0.2326 - acc: 0.9183\n",
      "Epoch 2: val_loss improved from 0.24457 to 0.24427, saving model to ../results/timeseries-baseline/LSTM-256-mort_hosp-best_model.hdf5\n",
      "121/121 [==============================] - 0s 4ms/step - loss: 0.2322 - acc: 0.9182 - val_loss: 0.2443 - val_acc: 0.9155\n",
      "Epoch 3/100\n",
      "111/121 [==========================>...] - ETA: 0s - loss: 0.2078 - acc: 0.9276\n",
      "Epoch 3: val_loss did not improve from 0.24427\n",
      "121/121 [==============================] - 0s 4ms/step - loss: 0.2079 - acc: 0.9276 - val_loss: 0.2462 - val_acc: 0.9092\n",
      "Epoch 4/100\n",
      "113/121 [===========================>..] - ETA: 0s - loss: 0.1930 - acc: 0.9343\n",
      "Epoch 4: val_loss did not improve from 0.24427\n",
      "121/121 [==============================] - 0s 4ms/step - loss: 0.1919 - acc: 0.9345 - val_loss: 0.2509 - val_acc: 0.9055\n",
      "Epoch 5/100\n",
      "117/121 [============================>.] - ETA: 0s - loss: 0.1637 - acc: 0.9442\n",
      "Epoch 5: val_loss did not improve from 0.24427\n",
      "121/121 [==============================] - 0s 4ms/step - loss: 0.1645 - acc: 0.9439 - val_loss: 0.2474 - val_acc: 0.9146\n",
      "138/138 [==============================] - 0s 935us/step\n",
      "0.8653201570795466 0.528268919254956 0.9110304130730822 0.4042553191489362\n"
     ]
    },
    {
     "name": "stderr",
     "output_type": "stream",
     "text": [
      "2023-11-13 00:01:59.805075: I tensorflow/core/common_runtime/gpu/gpu_device.cc:1886] Created device /job:localhost/replica:0/task:0/device:GPU:0 with 13074 MB memory:  -> device: 0, name: Quadro RTX 5000, pci bus id: 0000:2b:00.0, compute capability: 7.5\n",
      "2023-11-13 00:01:59.815056: I tensorflow/core/common_runtime/gpu/gpu_device.cc:1886] Created device /job:localhost/replica:0/task:0/device:GPU:0 with 13074 MB memory:  -> device: 0, name: Quadro RTX 5000, pci bus id: 0000:2b:00.0, compute capability: 7.5\n"
     ]
    },
    {
     "name": "stdout",
     "output_type": "stream",
     "text": [
      "Problem type:  mort_icu\n",
      "__________________\n",
      "Epoch 1/100\n",
      "116/121 [===========================>..] - ETA: 0s - loss: 0.2248 - acc: 0.9262\n",
      "Epoch 1: val_loss improved from inf to 0.17994, saving model to ../results/timeseries-baseline/LSTM-256-mort_icu-best_model.hdf5\n",
      "121/121 [==============================] - 2s 6ms/step - loss: 0.2234 - acc: 0.9263 - val_loss: 0.1799 - val_acc: 0.9419\n",
      "Epoch 2/100\n",
      " 47/121 [==========>...................] - ETA: 0s - loss: 0.1604 - acc: 0.9490"
     ]
    },
    {
     "name": "stderr",
     "output_type": "stream",
     "text": [
      "/data/apps/miniforge3/envs/cse6250-project/lib/python3.9/site-packages/keras/src/engine/training.py:3079: UserWarning: You are saving your model as an HDF5 file via `model.save()`. This file format is considered legacy. We recommend using instead the native Keras format, e.g. `model.save('my_model.keras')`.\n",
      "  saving_api.save_model(\n"
     ]
    },
    {
     "name": "stdout",
     "output_type": "stream",
     "text": [
      "108/121 [=========================>....] - ETA: 0s - loss: 0.1677 - acc: 0.9456\n",
      "Epoch 2: val_loss did not improve from 0.17994\n",
      "121/121 [==============================] - 0s 4ms/step - loss: 0.1695 - acc: 0.9449 - val_loss: 0.1803 - val_acc: 0.9405\n",
      "Epoch 3/100\n",
      "108/121 [=========================>....] - ETA: 0s - loss: 0.1515 - acc: 0.9507\n",
      "Epoch 3: val_loss improved from 0.17994 to 0.17252, saving model to ../results/timeseries-baseline/LSTM-256-mort_icu-best_model.hdf5\n",
      "121/121 [==============================] - 0s 4ms/step - loss: 0.1523 - acc: 0.9503 - val_loss: 0.1725 - val_acc: 0.9414\n",
      "Epoch 4/100\n",
      "107/121 [=========================>....] - ETA: 0s - loss: 0.1321 - acc: 0.9579\n",
      "Epoch 4: val_loss did not improve from 0.17252\n",
      "121/121 [==============================] - 0s 4ms/step - loss: 0.1342 - acc: 0.9571 - val_loss: 0.1821 - val_acc: 0.9414\n",
      "Epoch 5/100\n",
      "109/121 [==========================>...] - ETA: 0s - loss: 0.1175 - acc: 0.9624\n",
      "Epoch 5: val_loss did not improve from 0.17252\n",
      "121/121 [==============================] - 0s 4ms/step - loss: 0.1189 - acc: 0.9616 - val_loss: 0.1921 - val_acc: 0.9337\n",
      "Epoch 6/100\n",
      "108/121 [=========================>....] - ETA: 0s - loss: 0.1076 - acc: 0.9658\n",
      "Epoch 6: val_loss did not improve from 0.17252\n",
      "121/121 [==============================] - 0s 4ms/step - loss: 0.1086 - acc: 0.9651 - val_loss: 0.1985 - val_acc: 0.9323\n",
      "138/138 [==============================] - 0s 917us/step\n",
      "0.8784613331296631 0.4982487167728841 0.9398547435315479 0.42516268980477223\n"
     ]
    },
    {
     "name": "stderr",
     "output_type": "stream",
     "text": [
      "2023-11-13 00:02:05.786771: I tensorflow/core/common_runtime/gpu/gpu_device.cc:1886] Created device /job:localhost/replica:0/task:0/device:GPU:0 with 13074 MB memory:  -> device: 0, name: Quadro RTX 5000, pci bus id: 0000:2b:00.0, compute capability: 7.5\n",
      "2023-11-13 00:02:05.796320: I tensorflow/core/common_runtime/gpu/gpu_device.cc:1886] Created device /job:localhost/replica:0/task:0/device:GPU:0 with 13074 MB memory:  -> device: 0, name: Quadro RTX 5000, pci bus id: 0000:2b:00.0, compute capability: 7.5\n"
     ]
    },
    {
     "name": "stdout",
     "output_type": "stream",
     "text": [
      "Problem type:  los_3\n",
      "__________________\n",
      "Epoch 1/100\n",
      "109/121 [==========================>...] - ETA: 0s - loss: 0.6557 - acc: 0.6358\n",
      "Epoch 1: val_loss improved from inf to 0.62045, saving model to ../results/timeseries-baseline/LSTM-256-los_3-best_model.hdf5\n",
      "121/121 [==============================] - 1s 6ms/step - loss: 0.6538 - acc: 0.6374 - val_loss: 0.6204 - val_acc: 0.6812\n",
      "Epoch 2/100\n",
      " 46/121 [==========>...................] - ETA: 0s - loss: 0.6206 - acc: 0.6720"
     ]
    },
    {
     "name": "stderr",
     "output_type": "stream",
     "text": [
      "/data/apps/miniforge3/envs/cse6250-project/lib/python3.9/site-packages/keras/src/engine/training.py:3079: UserWarning: You are saving your model as an HDF5 file via `model.save()`. This file format is considered legacy. We recommend using instead the native Keras format, e.g. `model.save('my_model.keras')`.\n",
      "  saving_api.save_model(\n"
     ]
    },
    {
     "name": "stdout",
     "output_type": "stream",
     "text": [
      "108/121 [=========================>....] - ETA: 0s - loss: 0.6205 - acc: 0.6688\n",
      "Epoch 2: val_loss improved from 0.62045 to 0.61600, saving model to ../results/timeseries-baseline/LSTM-256-los_3-best_model.hdf5\n",
      "121/121 [==============================] - 0s 4ms/step - loss: 0.6203 - acc: 0.6693 - val_loss: 0.6160 - val_acc: 0.6662\n",
      "Epoch 3/100\n",
      "120/121 [============================>.] - ETA: 0s - loss: 0.5987 - acc: 0.6902\n",
      "Epoch 3: val_loss did not improve from 0.61600\n",
      "121/121 [==============================] - 0s 4ms/step - loss: 0.5990 - acc: 0.6899 - val_loss: 0.6192 - val_acc: 0.6599\n",
      "Epoch 4/100\n",
      "121/121 [==============================] - ETA: 0s - loss: 0.5713 - acc: 0.7136\n",
      "Epoch 4: val_loss did not improve from 0.61600\n",
      "121/121 [==============================] - 0s 4ms/step - loss: 0.5713 - acc: 0.7136 - val_loss: 0.6307 - val_acc: 0.6535\n",
      "Epoch 5/100\n",
      "109/121 [==========================>...] - ETA: 0s - loss: 0.5347 - acc: 0.7454\n",
      "Epoch 5: val_loss did not improve from 0.61600\n",
      "121/121 [==============================] - 0s 4ms/step - loss: 0.5366 - acc: 0.7422 - val_loss: 0.6459 - val_acc: 0.6512\n",
      "138/138 [==============================] - 0s 896us/step\n",
      "0.6908932148327694 0.6336147008217459 0.6584203359055832 0.5503435912757695\n"
     ]
    },
    {
     "name": "stderr",
     "output_type": "stream",
     "text": [
      "2023-11-13 00:02:11.255592: I tensorflow/core/common_runtime/gpu/gpu_device.cc:1886] Created device /job:localhost/replica:0/task:0/device:GPU:0 with 13074 MB memory:  -> device: 0, name: Quadro RTX 5000, pci bus id: 0000:2b:00.0, compute capability: 7.5\n",
      "2023-11-13 00:02:11.266004: I tensorflow/core/common_runtime/gpu/gpu_device.cc:1886] Created device /job:localhost/replica:0/task:0/device:GPU:0 with 13074 MB memory:  -> device: 0, name: Quadro RTX 5000, pci bus id: 0000:2b:00.0, compute capability: 7.5\n"
     ]
    },
    {
     "name": "stdout",
     "output_type": "stream",
     "text": [
      "Problem type:  los_7\n",
      "__________________\n",
      "Epoch 1/100\n",
      "110/121 [==========================>...] - ETA: 0s - loss: 0.2939 - acc: 0.9100\n",
      "Epoch 1: val_loss improved from inf to 0.26659, saving model to ../results/timeseries-baseline/LSTM-256-los_7-best_model.hdf5\n",
      "121/121 [==============================] - 2s 6ms/step - loss: 0.2950 - acc: 0.9093 - val_loss: 0.2666 - val_acc: 0.9223\n",
      "Epoch 2/100\n",
      " 51/121 [===========>..................] - ETA: 0s - loss: 0.2565 - acc: 0.9205"
     ]
    },
    {
     "name": "stderr",
     "output_type": "stream",
     "text": [
      "/data/apps/miniforge3/envs/cse6250-project/lib/python3.9/site-packages/keras/src/engine/training.py:3079: UserWarning: You are saving your model as an HDF5 file via `model.save()`. This file format is considered legacy. We recommend using instead the native Keras format, e.g. `model.save('my_model.keras')`.\n",
      "  saving_api.save_model(\n"
     ]
    },
    {
     "name": "stdout",
     "output_type": "stream",
     "text": [
      "112/121 [==========================>...] - ETA: 0s - loss: 0.2504 - acc: 0.9226\n",
      "Epoch 2: val_loss improved from 0.26659 to 0.26117, saving model to ../results/timeseries-baseline/LSTM-256-los_7-best_model.hdf5\n",
      "121/121 [==============================] - 0s 4ms/step - loss: 0.2508 - acc: 0.9228 - val_loss: 0.2612 - val_acc: 0.9228\n",
      "Epoch 3/100\n",
      "113/121 [===========================>..] - ETA: 0s - loss: 0.2359 - acc: 0.9251\n",
      "Epoch 3: val_loss improved from 0.26117 to 0.25892, saving model to ../results/timeseries-baseline/LSTM-256-los_7-best_model.hdf5\n",
      "121/121 [==============================] - 0s 4ms/step - loss: 0.2364 - acc: 0.9246 - val_loss: 0.2589 - val_acc: 0.9219\n",
      "Epoch 4/100\n",
      "116/121 [===========================>..] - ETA: 0s - loss: 0.2207 - acc: 0.9284\n",
      "Epoch 4: val_loss did not improve from 0.25892\n",
      "121/121 [==============================] - 0s 4ms/step - loss: 0.2209 - acc: 0.9285 - val_loss: 0.2706 - val_acc: 0.9205\n",
      "Epoch 5/100\n",
      "115/121 [===========================>..] - ETA: 0s - loss: 0.2026 - acc: 0.9347\n",
      "Epoch 5: val_loss did not improve from 0.25892\n",
      "121/121 [==============================] - 0s 3ms/step - loss: 0.2030 - acc: 0.9346 - val_loss: 0.2806 - val_acc: 0.9137\n",
      "Epoch 6/100\n",
      "115/121 [===========================>..] - ETA: 0s - loss: 0.1822 - acc: 0.9426\n",
      "Epoch 6: val_loss did not improve from 0.25892\n",
      "121/121 [==============================] - 0s 4ms/step - loss: 0.1839 - acc: 0.9421 - val_loss: 0.2893 - val_acc: 0.9128\n",
      "138/138 [==============================] - 0s 874us/step\n",
      "0.7255666527951172 0.1919360830391666 0.914661824784385 0.0358974358974359\n"
     ]
    },
    {
     "name": "stderr",
     "output_type": "stream",
     "text": [
      "2023-11-13 00:02:17.227020: I tensorflow/core/common_runtime/gpu/gpu_device.cc:1886] Created device /job:localhost/replica:0/task:0/device:GPU:0 with 13074 MB memory:  -> device: 0, name: Quadro RTX 5000, pci bus id: 0000:2b:00.0, compute capability: 7.5\n",
      "2023-11-13 00:02:17.237323: I tensorflow/core/common_runtime/gpu/gpu_device.cc:1886] Created device /job:localhost/replica:0/task:0/device:GPU:0 with 13074 MB memory:  -> device: 0, name: Quadro RTX 5000, pci bus id: 0000:2b:00.0, compute capability: 7.5\n"
     ]
    },
    {
     "name": "stdout",
     "output_type": "stream",
     "text": [
      "Iteration number:  9\n",
      "=============================\n",
      "Problem type:  mort_hosp\n",
      "__________________\n",
      "Epoch 1/100\n",
      "119/121 [============================>.] - ETA: 0s - loss: 0.2884 - acc: 0.8986\n",
      "Epoch 1: val_loss improved from inf to 0.24646, saving model to ../results/timeseries-baseline/LSTM-256-mort_hosp-best_model.hdf5\n",
      "121/121 [==============================] - 2s 6ms/step - loss: 0.2879 - acc: 0.8991 - val_loss: 0.2465 - val_acc: 0.9169\n",
      "Epoch 2/100\n",
      " 50/121 [===========>..................] - ETA: 0s - loss: 0.2407 - acc: 0.9175"
     ]
    },
    {
     "name": "stderr",
     "output_type": "stream",
     "text": [
      "/data/apps/miniforge3/envs/cse6250-project/lib/python3.9/site-packages/keras/src/engine/training.py:3079: UserWarning: You are saving your model as an HDF5 file via `model.save()`. This file format is considered legacy. We recommend using instead the native Keras format, e.g. `model.save('my_model.keras')`.\n",
      "  saving_api.save_model(\n"
     ]
    },
    {
     "name": "stdout",
     "output_type": "stream",
     "text": [
      "109/121 [==========================>...] - ETA: 0s - loss: 0.2326 - acc: 0.9199\n",
      "Epoch 2: val_loss improved from 0.24646 to 0.24169, saving model to ../results/timeseries-baseline/LSTM-256-mort_hosp-best_model.hdf5\n",
      "121/121 [==============================] - 0s 4ms/step - loss: 0.2314 - acc: 0.9196 - val_loss: 0.2417 - val_acc: 0.9124\n",
      "Epoch 3/100\n",
      "110/121 [==========================>...] - ETA: 0s - loss: 0.2095 - acc: 0.9273\n",
      "Epoch 3: val_loss improved from 0.24169 to 0.23717, saving model to ../results/timeseries-baseline/LSTM-256-mort_hosp-best_model.hdf5\n",
      "121/121 [==============================] - 1s 4ms/step - loss: 0.2109 - acc: 0.9274 - val_loss: 0.2372 - val_acc: 0.9133\n",
      "Epoch 4/100\n",
      "119/121 [============================>.] - ETA: 0s - loss: 0.1908 - acc: 0.9355\n",
      "Epoch 4: val_loss did not improve from 0.23717\n",
      "121/121 [==============================] - 0s 4ms/step - loss: 0.1910 - acc: 0.9353 - val_loss: 0.2477 - val_acc: 0.9119\n",
      "Epoch 5/100\n",
      "112/121 [==========================>...] - ETA: 0s - loss: 0.1672 - acc: 0.9447\n",
      "Epoch 5: val_loss did not improve from 0.23717\n",
      "121/121 [==============================] - 0s 4ms/step - loss: 0.1691 - acc: 0.9442 - val_loss: 0.2486 - val_acc: 0.9064\n",
      "Epoch 6/100\n",
      "112/121 [==========================>...] - ETA: 0s - loss: 0.1470 - acc: 0.9516\n",
      "Epoch 6: val_loss did not improve from 0.23717\n",
      "121/121 [==============================] - 0s 4ms/step - loss: 0.1494 - acc: 0.9507 - val_loss: 0.2634 - val_acc: 0.9046\n",
      "138/138 [==============================] - 0s 881us/step\n",
      "0.8728730165349456 0.5412329462509037 0.9119382660009079 0.4208955223880597\n"
     ]
    },
    {
     "name": "stderr",
     "output_type": "stream",
     "text": [
      "2023-11-13 00:02:23.464769: I tensorflow/core/common_runtime/gpu/gpu_device.cc:1886] Created device /job:localhost/replica:0/task:0/device:GPU:0 with 13074 MB memory:  -> device: 0, name: Quadro RTX 5000, pci bus id: 0000:2b:00.0, compute capability: 7.5\n",
      "2023-11-13 00:02:23.474752: I tensorflow/core/common_runtime/gpu/gpu_device.cc:1886] Created device /job:localhost/replica:0/task:0/device:GPU:0 with 13074 MB memory:  -> device: 0, name: Quadro RTX 5000, pci bus id: 0000:2b:00.0, compute capability: 7.5\n"
     ]
    },
    {
     "name": "stdout",
     "output_type": "stream",
     "text": [
      "Problem type:  mort_icu\n",
      "__________________\n",
      "Epoch 1/100\n",
      "113/121 [===========================>..] - ETA: 0s - loss: 0.2263 - acc: 0.9268\n",
      "Epoch 1: val_loss improved from inf to 0.17658, saving model to ../results/timeseries-baseline/LSTM-256-mort_icu-best_model.hdf5\n",
      "121/121 [==============================] - 2s 6ms/step - loss: 0.2250 - acc: 0.9269 - val_loss: 0.1766 - val_acc: 0.9441\n",
      "Epoch 2/100\n",
      " 45/121 [==========>...................] - ETA: 0s - loss: 0.1662 - acc: 0.9458"
     ]
    },
    {
     "name": "stderr",
     "output_type": "stream",
     "text": [
      "/data/apps/miniforge3/envs/cse6250-project/lib/python3.9/site-packages/keras/src/engine/training.py:3079: UserWarning: You are saving your model as an HDF5 file via `model.save()`. This file format is considered legacy. We recommend using instead the native Keras format, e.g. `model.save('my_model.keras')`.\n",
      "  saving_api.save_model(\n"
     ]
    },
    {
     "name": "stdout",
     "output_type": "stream",
     "text": [
      "115/121 [===========================>..] - ETA: 0s - loss: 0.1690 - acc: 0.9444\n",
      "Epoch 2: val_loss improved from 0.17658 to 0.16741, saving model to ../results/timeseries-baseline/LSTM-256-mort_icu-best_model.hdf5\n",
      "121/121 [==============================] - 1s 4ms/step - loss: 0.1690 - acc: 0.9445 - val_loss: 0.1674 - val_acc: 0.9446\n",
      "Epoch 3/100\n",
      "112/121 [==========================>...] - ETA: 0s - loss: 0.1500 - acc: 0.9505\n",
      "Epoch 3: val_loss did not improve from 0.16741\n",
      "121/121 [==============================] - 1s 4ms/step - loss: 0.1507 - acc: 0.9509 - val_loss: 0.1703 - val_acc: 0.9405\n",
      "Epoch 4/100\n",
      "117/121 [============================>.] - ETA: 0s - loss: 0.1352 - acc: 0.9565\n",
      "Epoch 4: val_loss did not improve from 0.16741\n",
      "121/121 [==============================] - 0s 4ms/step - loss: 0.1349 - acc: 0.9568 - val_loss: 0.1718 - val_acc: 0.9391\n",
      "Epoch 5/100\n",
      "107/121 [=========================>....] - ETA: 0s - loss: 0.1190 - acc: 0.9623\n",
      "Epoch 5: val_loss did not improve from 0.16741\n",
      "121/121 [==============================] - 0s 4ms/step - loss: 0.1204 - acc: 0.9613 - val_loss: 0.1847 - val_acc: 0.9351\n",
      "138/138 [==============================] - 0s 870us/step\n",
      "0.8840283194197249 0.5199820503145697 0.9434861552428506 0.4195804195804196\n"
     ]
    },
    {
     "name": "stderr",
     "output_type": "stream",
     "text": [
      "2023-11-13 00:02:29.199927: I tensorflow/core/common_runtime/gpu/gpu_device.cc:1886] Created device /job:localhost/replica:0/task:0/device:GPU:0 with 13074 MB memory:  -> device: 0, name: Quadro RTX 5000, pci bus id: 0000:2b:00.0, compute capability: 7.5\n",
      "2023-11-13 00:02:29.210071: I tensorflow/core/common_runtime/gpu/gpu_device.cc:1886] Created device /job:localhost/replica:0/task:0/device:GPU:0 with 13074 MB memory:  -> device: 0, name: Quadro RTX 5000, pci bus id: 0000:2b:00.0, compute capability: 7.5\n"
     ]
    },
    {
     "name": "stdout",
     "output_type": "stream",
     "text": [
      "Problem type:  los_3\n",
      "__________________\n",
      "Epoch 1/100\n",
      "112/121 [==========================>...] - ETA: 0s - loss: 0.6577 - acc: 0.6366\n",
      "Epoch 1: val_loss improved from inf to 0.62537, saving model to ../results/timeseries-baseline/LSTM-256-los_3-best_model.hdf5\n",
      "121/121 [==============================] - 2s 6ms/step - loss: 0.6558 - acc: 0.6385 - val_loss: 0.6254 - val_acc: 0.6717\n",
      "Epoch 2/100\n",
      " 49/121 [===========>..................] - ETA: 0s - loss: 0.6229 - acc: 0.6720"
     ]
    },
    {
     "name": "stderr",
     "output_type": "stream",
     "text": [
      "/data/apps/miniforge3/envs/cse6250-project/lib/python3.9/site-packages/keras/src/engine/training.py:3079: UserWarning: You are saving your model as an HDF5 file via `model.save()`. This file format is considered legacy. We recommend using instead the native Keras format, e.g. `model.save('my_model.keras')`.\n",
      "  saving_api.save_model(\n"
     ]
    },
    {
     "name": "stdout",
     "output_type": "stream",
     "text": [
      "121/121 [==============================] - ETA: 0s - loss: 0.6211 - acc: 0.6711\n",
      "Epoch 2: val_loss did not improve from 0.62537\n",
      "121/121 [==============================] - 0s 4ms/step - loss: 0.6211 - acc: 0.6711 - val_loss: 0.6259 - val_acc: 0.6603\n",
      "Epoch 3/100\n",
      "117/121 [============================>.] - ETA: 0s - loss: 0.5983 - acc: 0.6922\n",
      "Epoch 3: val_loss improved from 0.62537 to 0.62444, saving model to ../results/timeseries-baseline/LSTM-256-los_3-best_model.hdf5\n",
      "121/121 [==============================] - 0s 4ms/step - loss: 0.5981 - acc: 0.6921 - val_loss: 0.6244 - val_acc: 0.6621\n",
      "Epoch 4/100\n",
      "114/121 [===========================>..] - ETA: 0s - loss: 0.5716 - acc: 0.7125\n",
      "Epoch 4: val_loss did not improve from 0.62444\n",
      "121/121 [==============================] - 0s 4ms/step - loss: 0.5721 - acc: 0.7127 - val_loss: 0.6270 - val_acc: 0.6703\n",
      "Epoch 5/100\n",
      "115/121 [===========================>..] - ETA: 0s - loss: 0.5363 - acc: 0.7416\n",
      "Epoch 5: val_loss did not improve from 0.62444\n",
      "121/121 [==============================] - 0s 4ms/step - loss: 0.5377 - acc: 0.7405 - val_loss: 0.6558 - val_acc: 0.6530\n",
      "Epoch 6/100\n",
      "120/121 [============================>.] - ETA: 0s - loss: 0.4919 - acc: 0.7704\n",
      "Epoch 6: val_loss did not improve from 0.62444\n",
      "121/121 [==============================] - 0s 4ms/step - loss: 0.4922 - acc: 0.7705 - val_loss: 0.6822 - val_acc: 0.6530\n",
      "138/138 [==============================] - 0s 868us/step\n",
      "0.6850729687421098 0.6328780982680786 0.6532001815705856 0.5233936369307548\n"
     ]
    },
    {
     "name": "stderr",
     "output_type": "stream",
     "text": [
      "2023-11-13 00:02:35.414613: I tensorflow/core/common_runtime/gpu/gpu_device.cc:1886] Created device /job:localhost/replica:0/task:0/device:GPU:0 with 13074 MB memory:  -> device: 0, name: Quadro RTX 5000, pci bus id: 0000:2b:00.0, compute capability: 7.5\n",
      "2023-11-13 00:02:35.423701: I tensorflow/core/common_runtime/gpu/gpu_device.cc:1886] Created device /job:localhost/replica:0/task:0/device:GPU:0 with 13074 MB memory:  -> device: 0, name: Quadro RTX 5000, pci bus id: 0000:2b:00.0, compute capability: 7.5\n"
     ]
    },
    {
     "name": "stdout",
     "output_type": "stream",
     "text": [
      "Problem type:  los_7\n",
      "__________________\n",
      "Epoch 1/100\n",
      "118/121 [============================>.] - ETA: 0s - loss: 0.2945 - acc: 0.9095\n",
      "Epoch 1: val_loss improved from inf to 0.26209, saving model to ../results/timeseries-baseline/LSTM-256-los_7-best_model.hdf5\n",
      "121/121 [==============================] - 2s 6ms/step - loss: 0.2943 - acc: 0.9095 - val_loss: 0.2621 - val_acc: 0.9223\n",
      "Epoch 2/100\n",
      " 46/121 [==========>...................] - ETA: 0s - loss: 0.2691 - acc: 0.9169"
     ]
    },
    {
     "name": "stderr",
     "output_type": "stream",
     "text": [
      "/data/apps/miniforge3/envs/cse6250-project/lib/python3.9/site-packages/keras/src/engine/training.py:3079: UserWarning: You are saving your model as an HDF5 file via `model.save()`. This file format is considered legacy. We recommend using instead the native Keras format, e.g. `model.save('my_model.keras')`.\n",
      "  saving_api.save_model(\n"
     ]
    },
    {
     "name": "stdout",
     "output_type": "stream",
     "text": [
      "106/121 [=========================>....] - ETA: 0s - loss: 0.2527 - acc: 0.9232\n",
      "Epoch 2: val_loss improved from 0.26209 to 0.25473, saving model to ../results/timeseries-baseline/LSTM-256-los_7-best_model.hdf5\n",
      "121/121 [==============================] - 0s 4ms/step - loss: 0.2538 - acc: 0.9225 - val_loss: 0.2547 - val_acc: 0.9242\n",
      "Epoch 3/100\n",
      "120/121 [============================>.] - ETA: 0s - loss: 0.2392 - acc: 0.9251\n",
      "Epoch 3: val_loss improved from 0.25473 to 0.25440, saving model to ../results/timeseries-baseline/LSTM-256-los_7-best_model.hdf5\n",
      "121/121 [==============================] - 0s 4ms/step - loss: 0.2394 - acc: 0.9248 - val_loss: 0.2544 - val_acc: 0.9242\n",
      "Epoch 4/100\n",
      "112/121 [==========================>...] - ETA: 0s - loss: 0.2285 - acc: 0.9270\n",
      "Epoch 4: val_loss improved from 0.25440 to 0.25343, saving model to ../results/timeseries-baseline/LSTM-256-los_7-best_model.hdf5\n",
      "121/121 [==============================] - 0s 4ms/step - loss: 0.2283 - acc: 0.9274 - val_loss: 0.2534 - val_acc: 0.9205\n",
      "Epoch 5/100\n",
      "119/121 [============================>.] - ETA: 0s - loss: 0.2141 - acc: 0.9328\n",
      "Epoch 5: val_loss did not improve from 0.25343\n",
      "121/121 [==============================] - 0s 4ms/step - loss: 0.2136 - acc: 0.9331 - val_loss: 0.2649 - val_acc: 0.9205\n",
      "Epoch 6/100\n",
      "113/121 [===========================>..] - ETA: 0s - loss: 0.1967 - acc: 0.9392\n",
      "Epoch 6: val_loss did not improve from 0.25343\n",
      "121/121 [==============================] - 1s 4ms/step - loss: 0.1976 - acc: 0.9388 - val_loss: 0.2753 - val_acc: 0.9092\n",
      "Epoch 7/100\n",
      "113/121 [===========================>..] - ETA: 0s - loss: 0.1792 - acc: 0.9446\n",
      "Epoch 7: val_loss did not improve from 0.25343\n",
      "121/121 [==============================] - 1s 4ms/step - loss: 0.1817 - acc: 0.9440 - val_loss: 0.2950 - val_acc: 0.9124\n",
      "138/138 [==============================] - 0s 952us/step\n",
      "0.7325579137189624 0.20014259801407033 0.9182932364956877 0.06735751295336788\n"
     ]
    },
    {
     "name": "stderr",
     "output_type": "stream",
     "text": [
      "2023-11-13 00:02:42.086668: I tensorflow/core/common_runtime/gpu/gpu_device.cc:1886] Created device /job:localhost/replica:0/task:0/device:GPU:0 with 13074 MB memory:  -> device: 0, name: Quadro RTX 5000, pci bus id: 0000:2b:00.0, compute capability: 7.5\n",
      "2023-11-13 00:02:42.100469: I tensorflow/core/common_runtime/gpu/gpu_device.cc:1886] Created device /job:localhost/replica:0/task:0/device:GPU:0 with 13074 MB memory:  -> device: 0, name: Quadro RTX 5000, pci bus id: 0000:2b:00.0, compute capability: 7.5\n"
     ]
    },
    {
     "name": "stdout",
     "output_type": "stream",
     "text": [
      "Iteration number:  10\n",
      "=============================\n",
      "Problem type:  mort_hosp\n",
      "__________________\n",
      "Epoch 1/100\n",
      "113/121 [===========================>..] - ETA: 0s - loss: 0.2944 - acc: 0.8957\n",
      "Epoch 1: val_loss improved from inf to 0.25132, saving model to ../results/timeseries-baseline/LSTM-256-mort_hosp-best_model.hdf5\n",
      "121/121 [==============================] - 2s 6ms/step - loss: 0.2911 - acc: 0.8963 - val_loss: 0.2513 - val_acc: 0.9101\n",
      "Epoch 2/100\n",
      " 42/121 [=========>....................] - ETA: 0s - loss: 0.2313 - acc: 0.9208"
     ]
    },
    {
     "name": "stderr",
     "output_type": "stream",
     "text": [
      "/data/apps/miniforge3/envs/cse6250-project/lib/python3.9/site-packages/keras/src/engine/training.py:3079: UserWarning: You are saving your model as an HDF5 file via `model.save()`. This file format is considered legacy. We recommend using instead the native Keras format, e.g. `model.save('my_model.keras')`.\n",
      "  saving_api.save_model(\n"
     ]
    },
    {
     "name": "stdout",
     "output_type": "stream",
     "text": [
      "120/121 [============================>.] - ETA: 0s - loss: 0.2340 - acc: 0.9187\n",
      "Epoch 2: val_loss improved from 0.25132 to 0.24979, saving model to ../results/timeseries-baseline/LSTM-256-mort_hosp-best_model.hdf5\n",
      "121/121 [==============================] - 1s 4ms/step - loss: 0.2340 - acc: 0.9187 - val_loss: 0.2498 - val_acc: 0.9042\n",
      "Epoch 3/100\n",
      "116/121 [===========================>..] - ETA: 0s - loss: 0.2107 - acc: 0.9259\n",
      "Epoch 3: val_loss improved from 0.24979 to 0.24770, saving model to ../results/timeseries-baseline/LSTM-256-mort_hosp-best_model.hdf5\n",
      "121/121 [==============================] - 1s 4ms/step - loss: 0.2105 - acc: 0.9263 - val_loss: 0.2477 - val_acc: 0.9051\n",
      "Epoch 4/100\n",
      "112/121 [==========================>...] - ETA: 0s - loss: 0.1884 - acc: 0.9374\n",
      "Epoch 4: val_loss did not improve from 0.24770\n",
      "121/121 [==============================] - 1s 4ms/step - loss: 0.1901 - acc: 0.9361 - val_loss: 0.2479 - val_acc: 0.9128\n",
      "Epoch 5/100\n",
      "120/121 [============================>.] - ETA: 0s - loss: 0.1705 - acc: 0.9430\n",
      "Epoch 5: val_loss did not improve from 0.24770\n",
      "121/121 [==============================] - 0s 4ms/step - loss: 0.1707 - acc: 0.9431 - val_loss: 0.2615 - val_acc: 0.9105\n",
      "Epoch 6/100\n",
      "116/121 [===========================>..] - ETA: 0s - loss: 0.1482 - acc: 0.9497\n",
      "Epoch 6: val_loss did not improve from 0.24770\n",
      "121/121 [==============================] - 0s 4ms/step - loss: 0.1475 - acc: 0.9497 - val_loss: 0.2890 - val_acc: 0.9028\n",
      "138/138 [==============================] - 0s 868us/step\n",
      "0.8780364298468469 0.5632925630528587 0.9155696777122107 0.4760563380281689\n"
     ]
    },
    {
     "name": "stderr",
     "output_type": "stream",
     "text": [
      "2023-11-13 00:02:48.430832: I tensorflow/core/common_runtime/gpu/gpu_device.cc:1886] Created device /job:localhost/replica:0/task:0/device:GPU:0 with 13074 MB memory:  -> device: 0, name: Quadro RTX 5000, pci bus id: 0000:2b:00.0, compute capability: 7.5\n",
      "2023-11-13 00:02:48.440531: I tensorflow/core/common_runtime/gpu/gpu_device.cc:1886] Created device /job:localhost/replica:0/task:0/device:GPU:0 with 13074 MB memory:  -> device: 0, name: Quadro RTX 5000, pci bus id: 0000:2b:00.0, compute capability: 7.5\n"
     ]
    },
    {
     "name": "stdout",
     "output_type": "stream",
     "text": [
      "Problem type:  mort_icu\n",
      "__________________\n",
      "Epoch 1/100\n",
      "113/121 [===========================>..] - ETA: 0s - loss: 0.2324 - acc: 0.9221\n",
      "Epoch 1: val_loss improved from inf to 0.18074, saving model to ../results/timeseries-baseline/LSTM-256-mort_icu-best_model.hdf5\n",
      "121/121 [==============================] - 2s 6ms/step - loss: 0.2292 - acc: 0.9234 - val_loss: 0.1807 - val_acc: 0.9428\n",
      "Epoch 2/100\n",
      " 48/121 [==========>...................] - ETA: 0s - loss: 0.1653 - acc: 0.9486"
     ]
    },
    {
     "name": "stderr",
     "output_type": "stream",
     "text": [
      "/data/apps/miniforge3/envs/cse6250-project/lib/python3.9/site-packages/keras/src/engine/training.py:3079: UserWarning: You are saving your model as an HDF5 file via `model.save()`. This file format is considered legacy. We recommend using instead the native Keras format, e.g. `model.save('my_model.keras')`.\n",
      "  saving_api.save_model(\n"
     ]
    },
    {
     "name": "stdout",
     "output_type": "stream",
     "text": [
      "114/121 [===========================>..] - ETA: 0s - loss: 0.1691 - acc: 0.9450\n",
      "Epoch 2: val_loss did not improve from 0.18074\n",
      "121/121 [==============================] - 0s 4ms/step - loss: 0.1696 - acc: 0.9447 - val_loss: 0.1810 - val_acc: 0.9428\n",
      "Epoch 3/100\n",
      "115/121 [===========================>..] - ETA: 0s - loss: 0.1519 - acc: 0.9510\n",
      "Epoch 3: val_loss improved from 0.18074 to 0.17589, saving model to ../results/timeseries-baseline/LSTM-256-mort_icu-best_model.hdf5\n",
      "121/121 [==============================] - 1s 4ms/step - loss: 0.1509 - acc: 0.9512 - val_loss: 0.1759 - val_acc: 0.9391\n",
      "Epoch 4/100\n",
      "111/121 [==========================>...] - ETA: 0s - loss: 0.1310 - acc: 0.9582\n",
      "Epoch 4: val_loss did not improve from 0.17589\n",
      "121/121 [==============================] - 0s 4ms/step - loss: 0.1327 - acc: 0.9576 - val_loss: 0.1784 - val_acc: 0.9378\n",
      "Epoch 5/100\n",
      "120/121 [============================>.] - ETA: 0s - loss: 0.1192 - acc: 0.9618\n",
      "Epoch 5: val_loss did not improve from 0.17589\n",
      "121/121 [==============================] - 0s 4ms/step - loss: 0.1191 - acc: 0.9618 - val_loss: 0.1993 - val_acc: 0.9323\n",
      "Epoch 6/100\n",
      "109/121 [==========================>...] - ETA: 0s - loss: 0.1043 - acc: 0.9675\n",
      "Epoch 6: val_loss did not improve from 0.17589\n",
      "121/121 [==============================] - 0s 4ms/step - loss: 0.1046 - acc: 0.9677 - val_loss: 0.1879 - val_acc: 0.9373\n",
      "138/138 [==============================] - 0s 913us/step\n",
      "0.8894911561602916 0.5007186626408408 0.9371311847480708 0.42886597938144333\n"
     ]
    },
    {
     "name": "stderr",
     "output_type": "stream",
     "text": [
      "2023-11-13 00:02:54.745641: I tensorflow/core/common_runtime/gpu/gpu_device.cc:1886] Created device /job:localhost/replica:0/task:0/device:GPU:0 with 13074 MB memory:  -> device: 0, name: Quadro RTX 5000, pci bus id: 0000:2b:00.0, compute capability: 7.5\n",
      "2023-11-13 00:02:54.755783: I tensorflow/core/common_runtime/gpu/gpu_device.cc:1886] Created device /job:localhost/replica:0/task:0/device:GPU:0 with 13074 MB memory:  -> device: 0, name: Quadro RTX 5000, pci bus id: 0000:2b:00.0, compute capability: 7.5\n"
     ]
    },
    {
     "name": "stdout",
     "output_type": "stream",
     "text": [
      "Problem type:  los_3\n",
      "__________________\n",
      "Epoch 1/100\n",
      "107/121 [=========================>....] - ETA: 0s - loss: 0.6586 - acc: 0.6364\n",
      "Epoch 1: val_loss improved from inf to 0.62647, saving model to ../results/timeseries-baseline/LSTM-256-los_3-best_model.hdf5\n",
      "121/121 [==============================] - 2s 6ms/step - loss: 0.6579 - acc: 0.6361 - val_loss: 0.6265 - val_acc: 0.6785\n",
      "Epoch 2/100\n",
      " 48/121 [==========>...................] - ETA: 0s - loss: 0.6212 - acc: 0.6758"
     ]
    },
    {
     "name": "stderr",
     "output_type": "stream",
     "text": [
      "/data/apps/miniforge3/envs/cse6250-project/lib/python3.9/site-packages/keras/src/engine/training.py:3079: UserWarning: You are saving your model as an HDF5 file via `model.save()`. This file format is considered legacy. We recommend using instead the native Keras format, e.g. `model.save('my_model.keras')`.\n",
      "  saving_api.save_model(\n"
     ]
    },
    {
     "name": "stdout",
     "output_type": "stream",
     "text": [
      "110/121 [==========================>...] - ETA: 0s - loss: 0.6224 - acc: 0.6699\n",
      "Epoch 2: val_loss improved from 0.62647 to 0.61873, saving model to ../results/timeseries-baseline/LSTM-256-los_3-best_model.hdf5\n",
      "121/121 [==============================] - 0s 4ms/step - loss: 0.6222 - acc: 0.6692 - val_loss: 0.6187 - val_acc: 0.6667\n",
      "Epoch 3/100\n",
      "107/121 [=========================>....] - ETA: 0s - loss: 0.6003 - acc: 0.6879\n",
      "Epoch 3: val_loss improved from 0.61873 to 0.61606, saving model to ../results/timeseries-baseline/LSTM-256-los_3-best_model.hdf5\n",
      "121/121 [==============================] - 0s 4ms/step - loss: 0.6006 - acc: 0.6881 - val_loss: 0.6161 - val_acc: 0.6671\n",
      "Epoch 4/100\n",
      "113/121 [===========================>..] - ETA: 0s - loss: 0.5744 - acc: 0.7117\n",
      "Epoch 4: val_loss did not improve from 0.61606\n",
      "121/121 [==============================] - 0s 4ms/step - loss: 0.5755 - acc: 0.7114 - val_loss: 0.6188 - val_acc: 0.6698\n",
      "Epoch 5/100\n",
      "120/121 [============================>.] - ETA: 0s - loss: 0.5399 - acc: 0.7389\n",
      "Epoch 5: val_loss did not improve from 0.61606\n",
      "121/121 [==============================] - 0s 4ms/step - loss: 0.5398 - acc: 0.7391 - val_loss: 0.6356 - val_acc: 0.6644\n",
      "Epoch 6/100\n",
      "116/121 [===========================>..] - ETA: 0s - loss: 0.4927 - acc: 0.7743\n",
      "Epoch 6: val_loss did not improve from 0.61606\n",
      "121/121 [==============================] - 0s 4ms/step - loss: 0.4921 - acc: 0.7740 - val_loss: 0.6718 - val_acc: 0.6562\n",
      "138/138 [==============================] - 0s 900us/step\n",
      "0.6852149926778771 0.6201086572313044 0.6525192918747162 0.5631954350927247\n"
     ]
    },
    {
     "name": "stderr",
     "output_type": "stream",
     "text": [
      "2023-11-13 00:03:00.975751: I tensorflow/core/common_runtime/gpu/gpu_device.cc:1886] Created device /job:localhost/replica:0/task:0/device:GPU:0 with 13074 MB memory:  -> device: 0, name: Quadro RTX 5000, pci bus id: 0000:2b:00.0, compute capability: 7.5\n",
      "2023-11-13 00:03:00.992041: I tensorflow/core/common_runtime/gpu/gpu_device.cc:1886] Created device /job:localhost/replica:0/task:0/device:GPU:0 with 13074 MB memory:  -> device: 0, name: Quadro RTX 5000, pci bus id: 0000:2b:00.0, compute capability: 7.5\n"
     ]
    },
    {
     "name": "stdout",
     "output_type": "stream",
     "text": [
      "Problem type:  los_7\n",
      "__________________\n",
      "Epoch 1/100\n",
      "115/121 [===========================>..] - ETA: 0s - loss: 0.2997 - acc: 0.9068\n",
      "Epoch 1: val_loss improved from inf to 0.26204, saving model to ../results/timeseries-baseline/LSTM-256-los_7-best_model.hdf5\n",
      "121/121 [==============================] - 2s 6ms/step - loss: 0.2968 - acc: 0.9081 - val_loss: 0.2620 - val_acc: 0.9228\n",
      "Epoch 2/100\n",
      " 47/121 [==========>...................] - ETA: 0s - loss: 0.2586 - acc: 0.9204"
     ]
    },
    {
     "name": "stderr",
     "output_type": "stream",
     "text": [
      "/data/apps/miniforge3/envs/cse6250-project/lib/python3.9/site-packages/keras/src/engine/training.py:3079: UserWarning: You are saving your model as an HDF5 file via `model.save()`. This file format is considered legacy. We recommend using instead the native Keras format, e.g. `model.save('my_model.keras')`.\n",
      "  saving_api.save_model(\n"
     ]
    },
    {
     "name": "stdout",
     "output_type": "stream",
     "text": [
      "109/121 [==========================>...] - ETA: 0s - loss: 0.2548 - acc: 0.9215\n",
      "Epoch 2: val_loss did not improve from 0.26204\n",
      "121/121 [==============================] - 0s 4ms/step - loss: 0.2518 - acc: 0.9222 - val_loss: 0.2692 - val_acc: 0.9205\n",
      "Epoch 3/100\n",
      "118/121 [============================>.] - ETA: 0s - loss: 0.2394 - acc: 0.9245\n",
      "Epoch 3: val_loss improved from 0.26204 to 0.25995, saving model to ../results/timeseries-baseline/LSTM-256-los_7-best_model.hdf5\n",
      "121/121 [==============================] - 0s 4ms/step - loss: 0.2390 - acc: 0.9245 - val_loss: 0.2599 - val_acc: 0.9196\n",
      "Epoch 4/100\n",
      "112/121 [==========================>...] - ETA: 0s - loss: 0.2257 - acc: 0.9289\n",
      "Epoch 4: val_loss did not improve from 0.25995\n",
      "121/121 [==============================] - 0s 4ms/step - loss: 0.2266 - acc: 0.9283 - val_loss: 0.2641 - val_acc: 0.9183\n",
      "Epoch 5/100\n",
      "109/121 [==========================>...] - ETA: 0s - loss: 0.2140 - acc: 0.9316\n",
      "Epoch 5: val_loss did not improve from 0.25995\n",
      "121/121 [==============================] - 0s 4ms/step - loss: 0.2120 - acc: 0.9329 - val_loss: 0.2627 - val_acc: 0.9201\n",
      "Epoch 6/100\n",
      "114/121 [===========================>..] - ETA: 0s - loss: 0.1970 - acc: 0.9373\n",
      "Epoch 6: val_loss did not improve from 0.25995\n",
      "121/121 [==============================] - 0s 4ms/step - loss: 0.1977 - acc: 0.9369 - val_loss: 0.2641 - val_acc: 0.9169\n",
      "138/138 [==============================] - 0s 864us/step\n",
      "0.7314870301012624 0.186588504287706 0.9167044938719927 0.03674540682414698\n"
     ]
    },
    {
     "name": "stderr",
     "output_type": "stream",
     "text": [
      "2023-11-13 00:03:07.166941: I tensorflow/core/common_runtime/gpu/gpu_device.cc:1886] Created device /job:localhost/replica:0/task:0/device:GPU:0 with 13074 MB memory:  -> device: 0, name: Quadro RTX 5000, pci bus id: 0000:2b:00.0, compute capability: 7.5\n",
      "2023-11-13 00:03:07.175717: I tensorflow/core/common_runtime/gpu/gpu_device.cc:1886] Created device /job:localhost/replica:0/task:0/device:GPU:0 with 13074 MB memory:  -> device: 0, name: Quadro RTX 5000, pci bus id: 0000:2b:00.0, compute capability: 7.5\n"
     ]
    },
    {
     "name": "stdout",
     "output_type": "stream",
     "text": [
      "Layer:  GRU\n",
      "Hidden unit:  128\n",
      "Iteration number:  1\n",
      "=============================\n",
      "Problem type:  mort_hosp\n",
      "__________________\n",
      "Epoch 1/100\n",
      "115/121 [===========================>..] - ETA: 0s - loss: 0.3194 - acc: 0.8821\n",
      "Epoch 1: val_loss improved from inf to 0.24607, saving model to ../results/timeseries-baseline/GRU-128-mort_hosp-best_model.hdf5\n",
      "121/121 [==============================] - 1s 5ms/step - loss: 0.3162 - acc: 0.8835 - val_loss: 0.2461 - val_acc: 0.9146\n",
      "Epoch 2/100\n",
      " 62/121 [==============>...............] - ETA: 0s - loss: 0.2571 - acc: 0.9099"
     ]
    },
    {
     "name": "stderr",
     "output_type": "stream",
     "text": [
      "/data/apps/miniforge3/envs/cse6250-project/lib/python3.9/site-packages/keras/src/engine/training.py:3079: UserWarning: You are saving your model as an HDF5 file via `model.save()`. This file format is considered legacy. We recommend using instead the native Keras format, e.g. `model.save('my_model.keras')`.\n",
      "  saving_api.save_model(\n"
     ]
    },
    {
     "name": "stdout",
     "output_type": "stream",
     "text": [
      "113/121 [===========================>..] - ETA: 0s - loss: 0.2488 - acc: 0.9138\n",
      "Epoch 2: val_loss improved from 0.24607 to 0.23683, saving model to ../results/timeseries-baseline/GRU-128-mort_hosp-best_model.hdf5\n",
      "121/121 [==============================] - 0s 3ms/step - loss: 0.2493 - acc: 0.9133 - val_loss: 0.2368 - val_acc: 0.9151\n",
      "Epoch 3/100\n",
      "116/121 [===========================>..] - ETA: 0s - loss: 0.2353 - acc: 0.9157\n",
      "Epoch 3: val_loss improved from 0.23683 to 0.23083, saving model to ../results/timeseries-baseline/GRU-128-mort_hosp-best_model.hdf5\n",
      "121/121 [==============================] - 0s 3ms/step - loss: 0.2339 - acc: 0.9163 - val_loss: 0.2308 - val_acc: 0.9155\n",
      "Epoch 4/100\n",
      "110/121 [==========================>...] - ETA: 0s - loss: 0.2216 - acc: 0.9208\n",
      "Epoch 4: val_loss did not improve from 0.23083\n",
      "121/121 [==============================] - 0s 3ms/step - loss: 0.2230 - acc: 0.9206 - val_loss: 0.2320 - val_acc: 0.9133\n",
      "Epoch 5/100\n",
      "106/121 [=========================>....] - ETA: 0s - loss: 0.2153 - acc: 0.9248\n",
      "Epoch 5: val_loss did not improve from 0.23083\n",
      "121/121 [==============================] - 0s 3ms/step - loss: 0.2139 - acc: 0.9250 - val_loss: 0.2330 - val_acc: 0.9128\n",
      "Epoch 6/100\n",
      "120/121 [============================>.] - ETA: 0s - loss: 0.2031 - acc: 0.9278\n",
      "Epoch 6: val_loss did not improve from 0.23083\n",
      "121/121 [==============================] - 0s 3ms/step - loss: 0.2042 - acc: 0.9272 - val_loss: 0.2346 - val_acc: 0.9151\n",
      "138/138 [==============================] - 0s 907us/step\n",
      "0.8784242003452023 0.5590139000176311 0.9130730821606899 0.4309063893016345\n"
     ]
    },
    {
     "name": "stderr",
     "output_type": "stream",
     "text": [
      "2023-11-13 00:03:12.627329: I tensorflow/core/common_runtime/gpu/gpu_device.cc:1886] Created device /job:localhost/replica:0/task:0/device:GPU:0 with 13074 MB memory:  -> device: 0, name: Quadro RTX 5000, pci bus id: 0000:2b:00.0, compute capability: 7.5\n",
      "2023-11-13 00:03:12.638595: I tensorflow/core/common_runtime/gpu/gpu_device.cc:1886] Created device /job:localhost/replica:0/task:0/device:GPU:0 with 13074 MB memory:  -> device: 0, name: Quadro RTX 5000, pci bus id: 0000:2b:00.0, compute capability: 7.5\n"
     ]
    },
    {
     "name": "stdout",
     "output_type": "stream",
     "text": [
      "Problem type:  mort_icu\n",
      "__________________\n",
      "Epoch 1/100\n",
      "105/121 [=========================>....] - ETA: 0s - loss: 0.2706 - acc: 0.9034\n",
      "Epoch 1: val_loss improved from inf to 0.18964, saving model to ../results/timeseries-baseline/GRU-128-mort_icu-best_model.hdf5\n",
      "121/121 [==============================] - 1s 5ms/step - loss: 0.2620 - acc: 0.9073 - val_loss: 0.1896 - val_acc: 0.9382\n",
      "Epoch 2/100\n",
      " 69/121 [================>.............] - ETA: 0s - loss: 0.1851 - acc: 0.9409"
     ]
    },
    {
     "name": "stderr",
     "output_type": "stream",
     "text": [
      "/data/apps/miniforge3/envs/cse6250-project/lib/python3.9/site-packages/keras/src/engine/training.py:3079: UserWarning: You are saving your model as an HDF5 file via `model.save()`. This file format is considered legacy. We recommend using instead the native Keras format, e.g. `model.save('my_model.keras')`.\n",
      "  saving_api.save_model(\n"
     ]
    },
    {
     "name": "stdout",
     "output_type": "stream",
     "text": [
      "113/121 [===========================>..] - ETA: 0s - loss: 0.1855 - acc: 0.9400\n",
      "Epoch 2: val_loss improved from 0.18964 to 0.17550, saving model to ../results/timeseries-baseline/GRU-128-mort_icu-best_model.hdf5\n",
      "121/121 [==============================] - 0s 3ms/step - loss: 0.1841 - acc: 0.9405 - val_loss: 0.1755 - val_acc: 0.9432\n",
      "Epoch 3/100\n",
      "109/121 [==========================>...] - ETA: 0s - loss: 0.1716 - acc: 0.9420\n",
      "Epoch 3: val_loss improved from 0.17550 to 0.17119, saving model to ../results/timeseries-baseline/GRU-128-mort_icu-best_model.hdf5\n",
      "121/121 [==============================] - 0s 3ms/step - loss: 0.1715 - acc: 0.9421 - val_loss: 0.1712 - val_acc: 0.9460\n",
      "Epoch 4/100\n",
      "107/121 [=========================>....] - ETA: 0s - loss: 0.1610 - acc: 0.9460\n",
      "Epoch 4: val_loss improved from 0.17119 to 0.16805, saving model to ../results/timeseries-baseline/GRU-128-mort_icu-best_model.hdf5\n",
      "121/121 [==============================] - 0s 3ms/step - loss: 0.1608 - acc: 0.9465 - val_loss: 0.1680 - val_acc: 0.9450\n",
      "Epoch 5/100\n",
      "108/121 [=========================>....] - ETA: 0s - loss: 0.1520 - acc: 0.9486\n",
      "Epoch 5: val_loss improved from 0.16805 to 0.16505, saving model to ../results/timeseries-baseline/GRU-128-mort_icu-best_model.hdf5\n",
      "121/121 [==============================] - 0s 3ms/step - loss: 0.1533 - acc: 0.9482 - val_loss: 0.1650 - val_acc: 0.9432\n",
      "Epoch 6/100\n",
      "110/121 [==========================>...] - ETA: 0s - loss: 0.1448 - acc: 0.9501\n",
      "Epoch 6: val_loss did not improve from 0.16505\n",
      "121/121 [==============================] - 0s 3ms/step - loss: 0.1449 - acc: 0.9502 - val_loss: 0.1680 - val_acc: 0.9432\n",
      "Epoch 7/100\n",
      "118/121 [============================>.] - ETA: 0s - loss: 0.1368 - acc: 0.9537\n",
      "Epoch 7: val_loss improved from 0.16505 to 0.16381, saving model to ../results/timeseries-baseline/GRU-128-mort_icu-best_model.hdf5\n",
      "121/121 [==============================] - 0s 3ms/step - loss: 0.1359 - acc: 0.9540 - val_loss: 0.1638 - val_acc: 0.9432\n",
      "Epoch 8/100\n",
      "114/121 [===========================>..] - ETA: 0s - loss: 0.1260 - acc: 0.9570\n",
      "Epoch 8: val_loss did not improve from 0.16381\n",
      "121/121 [==============================] - 0s 3ms/step - loss: 0.1263 - acc: 0.9574 - val_loss: 0.1719 - val_acc: 0.9391\n",
      "Epoch 9/100\n",
      "107/121 [=========================>....] - ETA: 0s - loss: 0.1150 - acc: 0.9612\n",
      "Epoch 9: val_loss did not improve from 0.16381\n",
      "121/121 [==============================] - 0s 3ms/step - loss: 0.1171 - acc: 0.9605 - val_loss: 0.1758 - val_acc: 0.9382\n",
      "Epoch 10/100\n",
      "118/121 [============================>.] - ETA: 0s - loss: 0.1068 - acc: 0.9661\n",
      "Epoch 10: val_loss did not improve from 0.16381\n",
      "121/121 [==============================] - 0s 3ms/step - loss: 0.1068 - acc: 0.9661 - val_loss: 0.1940 - val_acc: 0.9296\n",
      "138/138 [==============================] - 0s 854us/step\n",
      "0.8847928542608353 0.5090996697325324 0.9403086699954607 0.4554865424430642\n"
     ]
    },
    {
     "name": "stderr",
     "output_type": "stream",
     "text": [
      "2023-11-13 00:03:19.667998: I tensorflow/core/common_runtime/gpu/gpu_device.cc:1886] Created device /job:localhost/replica:0/task:0/device:GPU:0 with 13074 MB memory:  -> device: 0, name: Quadro RTX 5000, pci bus id: 0000:2b:00.0, compute capability: 7.5\n",
      "2023-11-13 00:03:19.678373: I tensorflow/core/common_runtime/gpu/gpu_device.cc:1886] Created device /job:localhost/replica:0/task:0/device:GPU:0 with 13074 MB memory:  -> device: 0, name: Quadro RTX 5000, pci bus id: 0000:2b:00.0, compute capability: 7.5\n"
     ]
    },
    {
     "name": "stdout",
     "output_type": "stream",
     "text": [
      "Problem type:  los_3\n",
      "__________________\n",
      "Epoch 1/100\n",
      "121/121 [==============================] - ETA: 0s - loss: 0.6615 - acc: 0.6385\n",
      "Epoch 1: val_loss improved from inf to 0.63571, saving model to ../results/timeseries-baseline/GRU-128-los_3-best_model.hdf5\n",
      "121/121 [==============================] - 1s 5ms/step - loss: 0.6615 - acc: 0.6385 - val_loss: 0.6357 - val_acc: 0.6653\n",
      "Epoch 2/100\n",
      " 58/121 [=============>................] - ETA: 0s - loss: 0.6398 - acc: 0.6549"
     ]
    },
    {
     "name": "stderr",
     "output_type": "stream",
     "text": [
      "/data/apps/miniforge3/envs/cse6250-project/lib/python3.9/site-packages/keras/src/engine/training.py:3079: UserWarning: You are saving your model as an HDF5 file via `model.save()`. This file format is considered legacy. We recommend using instead the native Keras format, e.g. `model.save('my_model.keras')`.\n",
      "  saving_api.save_model(\n"
     ]
    },
    {
     "name": "stdout",
     "output_type": "stream",
     "text": [
      "103/121 [========================>.....] - ETA: 0s - loss: 0.6389 - acc: 0.6583\n",
      "Epoch 2: val_loss improved from 0.63571 to 0.63028, saving model to ../results/timeseries-baseline/GRU-128-los_3-best_model.hdf5\n",
      "121/121 [==============================] - 0s 3ms/step - loss: 0.6397 - acc: 0.6563 - val_loss: 0.6303 - val_acc: 0.6748\n",
      "Epoch 3/100\n",
      "109/121 [==========================>...] - ETA: 0s - loss: 0.6291 - acc: 0.6656\n",
      "Epoch 3: val_loss improved from 0.63028 to 0.61826, saving model to ../results/timeseries-baseline/GRU-128-los_3-best_model.hdf5\n",
      "121/121 [==============================] - 0s 3ms/step - loss: 0.6276 - acc: 0.6669 - val_loss: 0.6183 - val_acc: 0.6744\n",
      "Epoch 4/100\n",
      "116/121 [===========================>..] - ETA: 0s - loss: 0.6157 - acc: 0.6777\n",
      "Epoch 4: val_loss improved from 0.61826 to 0.61476, saving model to ../results/timeseries-baseline/GRU-128-los_3-best_model.hdf5\n",
      "121/121 [==============================] - 0s 3ms/step - loss: 0.6155 - acc: 0.6767 - val_loss: 0.6148 - val_acc: 0.6703\n",
      "Epoch 5/100\n",
      "104/121 [========================>.....] - ETA: 0s - loss: 0.6071 - acc: 0.6822\n",
      "Epoch 5: val_loss improved from 0.61476 to 0.61027, saving model to ../results/timeseries-baseline/GRU-128-los_3-best_model.hdf5\n",
      "121/121 [==============================] - 0s 3ms/step - loss: 0.6052 - acc: 0.6857 - val_loss: 0.6103 - val_acc: 0.6785\n",
      "Epoch 6/100\n",
      "103/121 [========================>.....] - ETA: 0s - loss: 0.5920 - acc: 0.6961\n",
      "Epoch 6: val_loss did not improve from 0.61027\n",
      "121/121 [==============================] - 0s 3ms/step - loss: 0.5922 - acc: 0.6961 - val_loss: 0.6174 - val_acc: 0.6667\n",
      "Epoch 7/100\n",
      "109/121 [==========================>...] - ETA: 0s - loss: 0.5792 - acc: 0.7069\n",
      "Epoch 7: val_loss did not improve from 0.61027\n",
      "121/121 [==============================] - 0s 3ms/step - loss: 0.5796 - acc: 0.7074 - val_loss: 0.6138 - val_acc: 0.6626\n",
      "Epoch 8/100\n",
      "117/121 [============================>.] - ETA: 0s - loss: 0.5613 - acc: 0.7243\n",
      "Epoch 8: val_loss did not improve from 0.61027\n",
      "121/121 [==============================] - 0s 3ms/step - loss: 0.5625 - acc: 0.7223 - val_loss: 0.6244 - val_acc: 0.6580\n",
      "138/138 [==============================] - 0s 935us/step\n",
      "0.6976903751956774 0.6398050991715087 0.6591012256014526 0.5592723004694836\n"
     ]
    },
    {
     "name": "stderr",
     "output_type": "stream",
     "text": [
      "2023-11-13 00:03:25.821608: I tensorflow/core/common_runtime/gpu/gpu_device.cc:1886] Created device /job:localhost/replica:0/task:0/device:GPU:0 with 13074 MB memory:  -> device: 0, name: Quadro RTX 5000, pci bus id: 0000:2b:00.0, compute capability: 7.5\n",
      "2023-11-13 00:03:25.832720: I tensorflow/core/common_runtime/gpu/gpu_device.cc:1886] Created device /job:localhost/replica:0/task:0/device:GPU:0 with 13074 MB memory:  -> device: 0, name: Quadro RTX 5000, pci bus id: 0000:2b:00.0, compute capability: 7.5\n"
     ]
    },
    {
     "name": "stdout",
     "output_type": "stream",
     "text": [
      "Problem type:  los_7\n",
      "__________________\n",
      "Epoch 1/100\n",
      "120/121 [============================>.] - ETA: 0s - loss: 0.3384 - acc: 0.8870\n",
      "Epoch 1: val_loss improved from inf to 0.27605, saving model to ../results/timeseries-baseline/GRU-128-los_7-best_model.hdf5\n",
      "121/121 [==============================] - 1s 5ms/step - loss: 0.3378 - acc: 0.8873 - val_loss: 0.2761 - val_acc: 0.9187\n",
      "Epoch 2/100\n",
      " 65/121 [===============>..............] - ETA: 0s - loss: 0.2606 - acc: 0.9224"
     ]
    },
    {
     "name": "stderr",
     "output_type": "stream",
     "text": [
      "/data/apps/miniforge3/envs/cse6250-project/lib/python3.9/site-packages/keras/src/engine/training.py:3079: UserWarning: You are saving your model as an HDF5 file via `model.save()`. This file format is considered legacy. We recommend using instead the native Keras format, e.g. `model.save('my_model.keras')`.\n",
      "  saving_api.save_model(\n"
     ]
    },
    {
     "name": "stdout",
     "output_type": "stream",
     "text": [
      "107/121 [=========================>....] - ETA: 0s - loss: 0.2628 - acc: 0.9206\n",
      "Epoch 2: val_loss improved from 0.27605 to 0.26725, saving model to ../results/timeseries-baseline/GRU-128-los_7-best_model.hdf5\n",
      "121/121 [==============================] - 0s 3ms/step - loss: 0.2620 - acc: 0.9207 - val_loss: 0.2672 - val_acc: 0.9214\n",
      "Epoch 3/100\n",
      "121/121 [==============================] - ETA: 0s - loss: 0.2518 - acc: 0.9218\n",
      "Epoch 3: val_loss improved from 0.26725 to 0.26042, saving model to ../results/timeseries-baseline/GRU-128-los_7-best_model.hdf5\n",
      "121/121 [==============================] - 0s 3ms/step - loss: 0.2518 - acc: 0.9218 - val_loss: 0.2604 - val_acc: 0.9223\n",
      "Epoch 4/100\n",
      "109/121 [==========================>...] - ETA: 0s - loss: 0.2449 - acc: 0.9212\n",
      "Epoch 4: val_loss improved from 0.26042 to 0.25736, saving model to ../results/timeseries-baseline/GRU-128-los_7-best_model.hdf5\n",
      "121/121 [==============================] - 0s 3ms/step - loss: 0.2445 - acc: 0.9218 - val_loss: 0.2574 - val_acc: 0.9219\n",
      "Epoch 5/100\n",
      "108/121 [=========================>....] - ETA: 0s - loss: 0.2382 - acc: 0.9233\n",
      "Epoch 5: val_loss did not improve from 0.25736\n",
      "121/121 [==============================] - 0s 3ms/step - loss: 0.2378 - acc: 0.9235 - val_loss: 0.2585 - val_acc: 0.9214\n",
      "Epoch 6/100\n",
      "105/121 [=========================>....] - ETA: 0s - loss: 0.2345 - acc: 0.9227\n",
      "Epoch 6: val_loss improved from 0.25736 to 0.25674, saving model to ../results/timeseries-baseline/GRU-128-los_7-best_model.hdf5\n",
      "121/121 [==============================] - 0s 3ms/step - loss: 0.2320 - acc: 0.9241 - val_loss: 0.2567 - val_acc: 0.9205\n",
      "Epoch 7/100\n",
      "113/121 [===========================>..] - ETA: 0s - loss: 0.2232 - acc: 0.9267\n",
      "Epoch 7: val_loss did not improve from 0.25674\n",
      "121/121 [==============================] - 0s 3ms/step - loss: 0.2242 - acc: 0.9262 - val_loss: 0.2618 - val_acc: 0.9201\n",
      "Epoch 8/100\n",
      "111/121 [==========================>...] - ETA: 0s - loss: 0.2144 - acc: 0.9283\n",
      "Epoch 8: val_loss did not improve from 0.25674\n",
      "121/121 [==============================] - 0s 3ms/step - loss: 0.2142 - acc: 0.9285 - val_loss: 0.2699 - val_acc: 0.9210\n",
      "Epoch 9/100\n",
      "118/121 [============================>.] - ETA: 0s - loss: 0.2052 - acc: 0.9320\n",
      "Epoch 9: val_loss did not improve from 0.25674\n",
      "121/121 [==============================] - 0s 3ms/step - loss: 0.2047 - acc: 0.9320 - val_loss: 0.2720 - val_acc: 0.9183\n",
      "138/138 [==============================] - 0s 941us/step\n",
      "0.7411395477874878 0.20809252036190756 0.9176123467998184 0.05221932114882507\n"
     ]
    },
    {
     "name": "stderr",
     "output_type": "stream",
     "text": [
      "2023-11-13 00:03:32.637156: I tensorflow/core/common_runtime/gpu/gpu_device.cc:1886] Created device /job:localhost/replica:0/task:0/device:GPU:0 with 13074 MB memory:  -> device: 0, name: Quadro RTX 5000, pci bus id: 0000:2b:00.0, compute capability: 7.5\n",
      "2023-11-13 00:03:32.648986: I tensorflow/core/common_runtime/gpu/gpu_device.cc:1886] Created device /job:localhost/replica:0/task:0/device:GPU:0 with 13074 MB memory:  -> device: 0, name: Quadro RTX 5000, pci bus id: 0000:2b:00.0, compute capability: 7.5\n"
     ]
    },
    {
     "name": "stdout",
     "output_type": "stream",
     "text": [
      "Iteration number:  2\n",
      "=============================\n",
      "Problem type:  mort_hosp\n",
      "__________________\n",
      "Epoch 1/100\n",
      "102/121 [========================>.....] - ETA: 0s - loss: 0.3302 - acc: 0.8775\n",
      "Epoch 1: val_loss improved from inf to 0.25469, saving model to ../results/timeseries-baseline/GRU-128-mort_hosp-best_model.hdf5\n",
      "121/121 [==============================] - 1s 5ms/step - loss: 0.3207 - acc: 0.8820 - val_loss: 0.2547 - val_acc: 0.9173\n",
      "Epoch 2/100\n",
      " 59/121 [=============>................] - ETA: 0s - loss: 0.2501 - acc: 0.9113"
     ]
    },
    {
     "name": "stderr",
     "output_type": "stream",
     "text": [
      "/data/apps/miniforge3/envs/cse6250-project/lib/python3.9/site-packages/keras/src/engine/training.py:3079: UserWarning: You are saving your model as an HDF5 file via `model.save()`. This file format is considered legacy. We recommend using instead the native Keras format, e.g. `model.save('my_model.keras')`.\n",
      "  saving_api.save_model(\n"
     ]
    },
    {
     "name": "stdout",
     "output_type": "stream",
     "text": [
      "121/121 [==============================] - ETA: 0s - loss: 0.2487 - acc: 0.9117\n",
      "Epoch 2: val_loss improved from 0.25469 to 0.24143, saving model to ../results/timeseries-baseline/GRU-128-mort_hosp-best_model.hdf5\n",
      "121/121 [==============================] - 0s 3ms/step - loss: 0.2487 - acc: 0.9117 - val_loss: 0.2414 - val_acc: 0.9146\n",
      "Epoch 3/100\n",
      "111/121 [==========================>...] - ETA: 0s - loss: 0.2351 - acc: 0.9161\n",
      "Epoch 3: val_loss improved from 0.24143 to 0.23432, saving model to ../results/timeseries-baseline/GRU-128-mort_hosp-best_model.hdf5\n",
      "121/121 [==============================] - 0s 3ms/step - loss: 0.2345 - acc: 0.9168 - val_loss: 0.2343 - val_acc: 0.9155\n",
      "Epoch 4/100\n",
      "106/121 [=========================>....] - ETA: 0s - loss: 0.2238 - acc: 0.9194\n",
      "Epoch 4: val_loss improved from 0.23432 to 0.23325, saving model to ../results/timeseries-baseline/GRU-128-mort_hosp-best_model.hdf5\n",
      "121/121 [==============================] - 0s 3ms/step - loss: 0.2240 - acc: 0.9199 - val_loss: 0.2332 - val_acc: 0.9155\n",
      "Epoch 5/100\n",
      "118/121 [============================>.] - ETA: 0s - loss: 0.2147 - acc: 0.9223\n",
      "Epoch 5: val_loss did not improve from 0.23325\n",
      "121/121 [==============================] - 0s 3ms/step - loss: 0.2151 - acc: 0.9220 - val_loss: 0.2377 - val_acc: 0.9128\n",
      "Epoch 6/100\n",
      "106/121 [=========================>....] - ETA: 0s - loss: 0.2032 - acc: 0.9272\n",
      "Epoch 6: val_loss did not improve from 0.23325\n",
      "121/121 [==============================] - 0s 3ms/step - loss: 0.2041 - acc: 0.9266 - val_loss: 0.2401 - val_acc: 0.9114\n",
      "Epoch 7/100\n",
      "120/121 [============================>.] - ETA: 0s - loss: 0.1952 - acc: 0.9281\n",
      "Epoch 7: val_loss did not improve from 0.23325\n",
      "121/121 [==============================] - 0s 3ms/step - loss: 0.1953 - acc: 0.9281 - val_loss: 0.2528 - val_acc: 0.9051\n",
      "138/138 [==============================] - 0s 980us/step\n",
      "0.8819287574609264 0.5675700312543296 0.9133000453926464 0.4447674418604651\n"
     ]
    },
    {
     "name": "stderr",
     "output_type": "stream",
     "text": [
      "2023-11-13 00:03:38.682642: I tensorflow/core/common_runtime/gpu/gpu_device.cc:1886] Created device /job:localhost/replica:0/task:0/device:GPU:0 with 13074 MB memory:  -> device: 0, name: Quadro RTX 5000, pci bus id: 0000:2b:00.0, compute capability: 7.5\n",
      "2023-11-13 00:03:38.696051: I tensorflow/core/common_runtime/gpu/gpu_device.cc:1886] Created device /job:localhost/replica:0/task:0/device:GPU:0 with 13074 MB memory:  -> device: 0, name: Quadro RTX 5000, pci bus id: 0000:2b:00.0, compute capability: 7.5\n"
     ]
    },
    {
     "name": "stdout",
     "output_type": "stream",
     "text": [
      "Problem type:  mort_icu\n",
      "__________________\n",
      "Epoch 1/100\n",
      "120/121 [============================>.] - ETA: 0s - loss: 0.2645 - acc: 0.9085\n",
      "Epoch 1: val_loss improved from inf to 0.18681, saving model to ../results/timeseries-baseline/GRU-128-mort_icu-best_model.hdf5\n",
      "121/121 [==============================] - 1s 5ms/step - loss: 0.2632 - acc: 0.9090 - val_loss: 0.1868 - val_acc: 0.9401\n",
      "Epoch 2/100\n",
      " 60/121 [=============>................] - ETA: 0s - loss: 0.1866 - acc: 0.9431"
     ]
    },
    {
     "name": "stderr",
     "output_type": "stream",
     "text": [
      "/data/apps/miniforge3/envs/cse6250-project/lib/python3.9/site-packages/keras/src/engine/training.py:3079: UserWarning: You are saving your model as an HDF5 file via `model.save()`. This file format is considered legacy. We recommend using instead the native Keras format, e.g. `model.save('my_model.keras')`.\n",
      "  saving_api.save_model(\n"
     ]
    },
    {
     "name": "stdout",
     "output_type": "stream",
     "text": [
      "119/121 [============================>.] - ETA: 0s - loss: 0.1837 - acc: 0.9413\n",
      "Epoch 2: val_loss improved from 0.18681 to 0.17271, saving model to ../results/timeseries-baseline/GRU-128-mort_icu-best_model.hdf5\n",
      "121/121 [==============================] - 0s 3ms/step - loss: 0.1838 - acc: 0.9410 - val_loss: 0.1727 - val_acc: 0.9464\n",
      "Epoch 3/100\n",
      "107/121 [=========================>....] - ETA: 0s - loss: 0.1676 - acc: 0.9441\n",
      "Epoch 3: val_loss did not improve from 0.17271\n",
      "121/121 [==============================] - 0s 3ms/step - loss: 0.1698 - acc: 0.9430 - val_loss: 0.1734 - val_acc: 0.9423\n",
      "Epoch 4/100\n",
      "109/121 [==========================>...] - ETA: 0s - loss: 0.1620 - acc: 0.9462\n",
      "Epoch 4: val_loss improved from 0.17271 to 0.16610, saving model to ../results/timeseries-baseline/GRU-128-mort_icu-best_model.hdf5\n",
      "121/121 [==============================] - 0s 3ms/step - loss: 0.1615 - acc: 0.9460 - val_loss: 0.1661 - val_acc: 0.9437\n",
      "Epoch 5/100\n",
      "104/121 [========================>.....] - ETA: 0s - loss: 0.1533 - acc: 0.9480\n",
      "Epoch 5: val_loss improved from 0.16610 to 0.16046, saving model to ../results/timeseries-baseline/GRU-128-mort_icu-best_model.hdf5\n",
      "121/121 [==============================] - 0s 3ms/step - loss: 0.1538 - acc: 0.9480 - val_loss: 0.1605 - val_acc: 0.9441\n",
      "Epoch 6/100\n",
      "107/121 [=========================>....] - ETA: 0s - loss: 0.1425 - acc: 0.9511\n",
      "Epoch 6: val_loss did not improve from 0.16046\n",
      "121/121 [==============================] - 0s 3ms/step - loss: 0.1440 - acc: 0.9508 - val_loss: 0.1695 - val_acc: 0.9432\n",
      "Epoch 7/100\n",
      "117/121 [============================>.] - ETA: 0s - loss: 0.1371 - acc: 0.9540\n",
      "Epoch 7: val_loss did not improve from 0.16046\n",
      "121/121 [==============================] - 0s 3ms/step - loss: 0.1359 - acc: 0.9544 - val_loss: 0.1702 - val_acc: 0.9423\n",
      "Epoch 8/100\n",
      "105/121 [=========================>....] - ETA: 0s - loss: 0.1244 - acc: 0.9576\n",
      "Epoch 8: val_loss did not improve from 0.16046\n",
      "121/121 [==============================] - 0s 3ms/step - loss: 0.1248 - acc: 0.9582 - val_loss: 0.1701 - val_acc: 0.9391\n",
      "138/138 [==============================] - 0s 935us/step\n",
      "0.8906962050218596 0.5204018798216697 0.939400817067635 0.420824295010846\n"
     ]
    },
    {
     "name": "stderr",
     "output_type": "stream",
     "text": [
      "2023-11-13 00:03:45.243228: I tensorflow/core/common_runtime/gpu/gpu_device.cc:1886] Created device /job:localhost/replica:0/task:0/device:GPU:0 with 13074 MB memory:  -> device: 0, name: Quadro RTX 5000, pci bus id: 0000:2b:00.0, compute capability: 7.5\n",
      "2023-11-13 00:03:45.254456: I tensorflow/core/common_runtime/gpu/gpu_device.cc:1886] Created device /job:localhost/replica:0/task:0/device:GPU:0 with 13074 MB memory:  -> device: 0, name: Quadro RTX 5000, pci bus id: 0000:2b:00.0, compute capability: 7.5\n"
     ]
    },
    {
     "name": "stdout",
     "output_type": "stream",
     "text": [
      "Problem type:  los_3\n",
      "__________________\n",
      "Epoch 1/100\n",
      "119/121 [============================>.] - ETA: 0s - loss: 0.6638 - acc: 0.6356\n",
      "Epoch 1: val_loss improved from inf to 0.63814, saving model to ../results/timeseries-baseline/GRU-128-los_3-best_model.hdf5\n",
      "121/121 [==============================] - 1s 5ms/step - loss: 0.6629 - acc: 0.6364 - val_loss: 0.6381 - val_acc: 0.6635\n",
      "Epoch 2/100\n",
      " 61/121 [==============>...............] - ETA: 0s - loss: 0.6383 - acc: 0.6578"
     ]
    },
    {
     "name": "stderr",
     "output_type": "stream",
     "text": [
      "/data/apps/miniforge3/envs/cse6250-project/lib/python3.9/site-packages/keras/src/engine/training.py:3079: UserWarning: You are saving your model as an HDF5 file via `model.save()`. This file format is considered legacy. We recommend using instead the native Keras format, e.g. `model.save('my_model.keras')`.\n",
      "  saving_api.save_model(\n"
     ]
    },
    {
     "name": "stdout",
     "output_type": "stream",
     "text": [
      "117/121 [============================>.] - ETA: 0s - loss: 0.6378 - acc: 0.6585\n",
      "Epoch 2: val_loss improved from 0.63814 to 0.62689, saving model to ../results/timeseries-baseline/GRU-128-los_3-best_model.hdf5\n",
      "121/121 [==============================] - 0s 3ms/step - loss: 0.6381 - acc: 0.6578 - val_loss: 0.6269 - val_acc: 0.6767\n",
      "Epoch 3/100\n",
      "121/121 [==============================] - ETA: 0s - loss: 0.6262 - acc: 0.6636\n",
      "Epoch 3: val_loss improved from 0.62689 to 0.62042, saving model to ../results/timeseries-baseline/GRU-128-los_3-best_model.hdf5\n",
      "121/121 [==============================] - 0s 3ms/step - loss: 0.6262 - acc: 0.6636 - val_loss: 0.6204 - val_acc: 0.6826\n",
      "Epoch 4/100\n",
      "121/121 [==============================] - ETA: 0s - loss: 0.6154 - acc: 0.6748\n",
      "Epoch 4: val_loss improved from 0.62042 to 0.61562, saving model to ../results/timeseries-baseline/GRU-128-los_3-best_model.hdf5\n",
      "121/121 [==============================] - 0s 3ms/step - loss: 0.6154 - acc: 0.6748 - val_loss: 0.6156 - val_acc: 0.6698\n",
      "Epoch 5/100\n",
      "108/121 [=========================>....] - ETA: 0s - loss: 0.6047 - acc: 0.6863\n",
      "Epoch 5: val_loss improved from 0.61562 to 0.61092, saving model to ../results/timeseries-baseline/GRU-128-los_3-best_model.hdf5\n",
      "121/121 [==============================] - 0s 3ms/step - loss: 0.6050 - acc: 0.6859 - val_loss: 0.6109 - val_acc: 0.6744\n",
      "Epoch 6/100\n",
      "106/121 [=========================>....] - ETA: 0s - loss: 0.5930 - acc: 0.6944\n",
      "Epoch 6: val_loss did not improve from 0.61092\n",
      "121/121 [==============================] - 0s 3ms/step - loss: 0.5930 - acc: 0.6945 - val_loss: 0.6197 - val_acc: 0.6639\n",
      "Epoch 7/100\n",
      "105/121 [=========================>....] - ETA: 0s - loss: 0.5763 - acc: 0.7094\n",
      "Epoch 7: val_loss did not improve from 0.61092\n",
      "121/121 [==============================] - 0s 3ms/step - loss: 0.5781 - acc: 0.7070 - val_loss: 0.6210 - val_acc: 0.6644\n",
      "Epoch 8/100\n",
      "119/121 [============================>.] - ETA: 0s - loss: 0.5630 - acc: 0.7193\n",
      "Epoch 8: val_loss did not improve from 0.61092\n",
      "121/121 [==============================] - 0s 3ms/step - loss: 0.5628 - acc: 0.7194 - val_loss: 0.6232 - val_acc: 0.6599\n",
      "138/138 [==============================] - 0s 910us/step\n",
      "0.7008328914810888 0.6445461648044769 0.6659101225601453 0.5495716034271726\n"
     ]
    },
    {
     "name": "stderr",
     "output_type": "stream",
     "text": [
      "2023-11-13 00:03:51.592167: I tensorflow/core/common_runtime/gpu/gpu_device.cc:1886] Created device /job:localhost/replica:0/task:0/device:GPU:0 with 13074 MB memory:  -> device: 0, name: Quadro RTX 5000, pci bus id: 0000:2b:00.0, compute capability: 7.5\n",
      "2023-11-13 00:03:51.602134: I tensorflow/core/common_runtime/gpu/gpu_device.cc:1886] Created device /job:localhost/replica:0/task:0/device:GPU:0 with 13074 MB memory:  -> device: 0, name: Quadro RTX 5000, pci bus id: 0000:2b:00.0, compute capability: 7.5\n"
     ]
    },
    {
     "name": "stdout",
     "output_type": "stream",
     "text": [
      "Problem type:  los_7\n",
      "__________________\n",
      "Epoch 1/100\n",
      "114/121 [===========================>..] - ETA: 0s - loss: 0.3332 - acc: 0.8917\n",
      "Epoch 1: val_loss improved from inf to 0.27009, saving model to ../results/timeseries-baseline/GRU-128-los_7-best_model.hdf5\n",
      "121/121 [==============================] - 1s 5ms/step - loss: 0.3285 - acc: 0.8936 - val_loss: 0.2701 - val_acc: 0.9214\n",
      "Epoch 2/100\n",
      " 61/121 [==============>...............] - ETA: 0s - loss: 0.2667 - acc: 0.9175"
     ]
    },
    {
     "name": "stderr",
     "output_type": "stream",
     "text": [
      "/data/apps/miniforge3/envs/cse6250-project/lib/python3.9/site-packages/keras/src/engine/training.py:3079: UserWarning: You are saving your model as an HDF5 file via `model.save()`. This file format is considered legacy. We recommend using instead the native Keras format, e.g. `model.save('my_model.keras')`.\n",
      "  saving_api.save_model(\n"
     ]
    },
    {
     "name": "stdout",
     "output_type": "stream",
     "text": [
      "113/121 [===========================>..] - ETA: 0s - loss: 0.2602 - acc: 0.9218\n",
      "Epoch 2: val_loss improved from 0.27009 to 0.25988, saving model to ../results/timeseries-baseline/GRU-128-los_7-best_model.hdf5\n",
      "121/121 [==============================] - 0s 3ms/step - loss: 0.2611 - acc: 0.9210 - val_loss: 0.2599 - val_acc: 0.9237\n",
      "Epoch 3/100\n",
      "106/121 [=========================>....] - ETA: 0s - loss: 0.2520 - acc: 0.9203\n",
      "Epoch 3: val_loss did not improve from 0.25988\n",
      "121/121 [==============================] - 0s 3ms/step - loss: 0.2496 - acc: 0.9217 - val_loss: 0.2607 - val_acc: 0.9237\n",
      "Epoch 4/100\n",
      "112/121 [==========================>...] - ETA: 0s - loss: 0.2444 - acc: 0.9223\n",
      "Epoch 4: val_loss improved from 0.25988 to 0.25616, saving model to ../results/timeseries-baseline/GRU-128-los_7-best_model.hdf5\n",
      "121/121 [==============================] - 0s 3ms/step - loss: 0.2437 - acc: 0.9225 - val_loss: 0.2562 - val_acc: 0.9228\n",
      "Epoch 5/100\n",
      "108/121 [=========================>....] - ETA: 0s - loss: 0.2395 - acc: 0.9220\n",
      "Epoch 5: val_loss did not improve from 0.25616\n",
      "121/121 [==============================] - 0s 3ms/step - loss: 0.2369 - acc: 0.9232 - val_loss: 0.2631 - val_acc: 0.9233\n",
      "Epoch 6/100\n",
      "110/121 [==========================>...] - ETA: 0s - loss: 0.2349 - acc: 0.9228\n",
      "Epoch 6: val_loss did not improve from 0.25616\n",
      "121/121 [==============================] - 0s 3ms/step - loss: 0.2314 - acc: 0.9239 - val_loss: 0.2576 - val_acc: 0.9242\n",
      "Epoch 7/100\n",
      "121/121 [==============================] - ETA: 0s - loss: 0.2249 - acc: 0.9256\n",
      "Epoch 7: val_loss did not improve from 0.25616\n",
      "121/121 [==============================] - 0s 3ms/step - loss: 0.2249 - acc: 0.9256 - val_loss: 0.2653 - val_acc: 0.9233\n",
      "138/138 [==============================] - 0s 900us/step\n",
      "0.7414703842419198 0.21187767672441296 0.9192010894235134 0.04301075268817204\n"
     ]
    },
    {
     "name": "stderr",
     "output_type": "stream",
     "text": [
      "2023-11-13 00:03:57.573304: I tensorflow/core/common_runtime/gpu/gpu_device.cc:1886] Created device /job:localhost/replica:0/task:0/device:GPU:0 with 13074 MB memory:  -> device: 0, name: Quadro RTX 5000, pci bus id: 0000:2b:00.0, compute capability: 7.5\n",
      "2023-11-13 00:03:57.585068: I tensorflow/core/common_runtime/gpu/gpu_device.cc:1886] Created device /job:localhost/replica:0/task:0/device:GPU:0 with 13074 MB memory:  -> device: 0, name: Quadro RTX 5000, pci bus id: 0000:2b:00.0, compute capability: 7.5\n"
     ]
    },
    {
     "name": "stdout",
     "output_type": "stream",
     "text": [
      "Iteration number:  3\n",
      "=============================\n",
      "Problem type:  mort_hosp\n",
      "__________________\n",
      "Epoch 1/100\n",
      "111/121 [==========================>...] - ETA: 0s - loss: 0.3223 - acc: 0.8813\n",
      "Epoch 1: val_loss improved from inf to 0.24875, saving model to ../results/timeseries-baseline/GRU-128-mort_hosp-best_model.hdf5\n",
      "121/121 [==============================] - 1s 5ms/step - loss: 0.3207 - acc: 0.8821 - val_loss: 0.2488 - val_acc: 0.9160\n",
      "Epoch 2/100\n",
      " 61/121 [==============>...............] - ETA: 0s - loss: 0.2509 - acc: 0.9098"
     ]
    },
    {
     "name": "stderr",
     "output_type": "stream",
     "text": [
      "/data/apps/miniforge3/envs/cse6250-project/lib/python3.9/site-packages/keras/src/engine/training.py:3079: UserWarning: You are saving your model as an HDF5 file via `model.save()`. This file format is considered legacy. We recommend using instead the native Keras format, e.g. `model.save('my_model.keras')`.\n",
      "  saving_api.save_model(\n"
     ]
    },
    {
     "name": "stdout",
     "output_type": "stream",
     "text": [
      "105/121 [=========================>....] - ETA: 0s - loss: 0.2519 - acc: 0.9099\n",
      "Epoch 2: val_loss improved from 0.24875 to 0.23815, saving model to ../results/timeseries-baseline/GRU-128-mort_hosp-best_model.hdf5\n",
      "121/121 [==============================] - 0s 3ms/step - loss: 0.2484 - acc: 0.9113 - val_loss: 0.2381 - val_acc: 0.9164\n",
      "Epoch 3/100\n",
      "107/121 [=========================>....] - ETA: 0s - loss: 0.2344 - acc: 0.9165\n",
      "Epoch 3: val_loss improved from 0.23815 to 0.23659, saving model to ../results/timeseries-baseline/GRU-128-mort_hosp-best_model.hdf5\n",
      "121/121 [==============================] - 0s 3ms/step - loss: 0.2347 - acc: 0.9162 - val_loss: 0.2366 - val_acc: 0.9142\n",
      "Epoch 4/100\n",
      "109/121 [==========================>...] - ETA: 0s - loss: 0.2215 - acc: 0.9203\n",
      "Epoch 4: val_loss improved from 0.23659 to 0.23366, saving model to ../results/timeseries-baseline/GRU-128-mort_hosp-best_model.hdf5\n",
      "121/121 [==============================] - 0s 3ms/step - loss: 0.2231 - acc: 0.9203 - val_loss: 0.2337 - val_acc: 0.9119\n",
      "Epoch 5/100\n",
      "105/121 [=========================>....] - ETA: 0s - loss: 0.2170 - acc: 0.9215\n",
      "Epoch 5: val_loss did not improve from 0.23366\n",
      "121/121 [==============================] - 0s 3ms/step - loss: 0.2142 - acc: 0.9225 - val_loss: 0.2427 - val_acc: 0.9074\n",
      "Epoch 6/100\n",
      "109/121 [==========================>...] - ETA: 0s - loss: 0.2037 - acc: 0.9270\n",
      "Epoch 6: val_loss did not improve from 0.23366\n",
      "121/121 [==============================] - 0s 3ms/step - loss: 0.2055 - acc: 0.9257 - val_loss: 0.2378 - val_acc: 0.9096\n",
      "Epoch 7/100\n",
      "116/121 [===========================>..] - ETA: 0s - loss: 0.1938 - acc: 0.9306\n",
      "Epoch 7: val_loss did not improve from 0.23366\n",
      "121/121 [==============================] - 0s 3ms/step - loss: 0.1942 - acc: 0.9307 - val_loss: 0.2349 - val_acc: 0.9114\n",
      "138/138 [==============================] - 0s 906us/step\n",
      "0.881817192205813 0.5804382234069483 0.9164775306400363 0.4666666666666666\n"
     ]
    },
    {
     "name": "stderr",
     "output_type": "stream",
     "text": [
      "2023-11-13 00:04:03.561774: I tensorflow/core/common_runtime/gpu/gpu_device.cc:1886] Created device /job:localhost/replica:0/task:0/device:GPU:0 with 13074 MB memory:  -> device: 0, name: Quadro RTX 5000, pci bus id: 0000:2b:00.0, compute capability: 7.5\n",
      "2023-11-13 00:04:03.572705: I tensorflow/core/common_runtime/gpu/gpu_device.cc:1886] Created device /job:localhost/replica:0/task:0/device:GPU:0 with 13074 MB memory:  -> device: 0, name: Quadro RTX 5000, pci bus id: 0000:2b:00.0, compute capability: 7.5\n"
     ]
    },
    {
     "name": "stdout",
     "output_type": "stream",
     "text": [
      "Problem type:  mort_icu\n",
      "__________________\n",
      "Epoch 1/100\n",
      "116/121 [===========================>..] - ETA: 0s - loss: 0.2696 - acc: 0.9081\n",
      "Epoch 1: val_loss improved from inf to 0.18955, saving model to ../results/timeseries-baseline/GRU-128-mort_icu-best_model.hdf5\n",
      "121/121 [==============================] - 1s 5ms/step - loss: 0.2663 - acc: 0.9096 - val_loss: 0.1896 - val_acc: 0.9387\n",
      "Epoch 2/100\n",
      " 62/121 [==============>...............] - ETA: 0s - loss: 0.1792 - acc: 0.9415"
     ]
    },
    {
     "name": "stderr",
     "output_type": "stream",
     "text": [
      "/data/apps/miniforge3/envs/cse6250-project/lib/python3.9/site-packages/keras/src/engine/training.py:3079: UserWarning: You are saving your model as an HDF5 file via `model.save()`. This file format is considered legacy. We recommend using instead the native Keras format, e.g. `model.save('my_model.keras')`.\n",
      "  saving_api.save_model(\n"
     ]
    },
    {
     "name": "stdout",
     "output_type": "stream",
     "text": [
      "102/121 [========================>.....] - ETA: 0s - loss: 0.1836 - acc: 0.9416\n",
      "Epoch 2: val_loss improved from 0.18955 to 0.17383, saving model to ../results/timeseries-baseline/GRU-128-mort_icu-best_model.hdf5\n",
      "121/121 [==============================] - 0s 3ms/step - loss: 0.1829 - acc: 0.9415 - val_loss: 0.1738 - val_acc: 0.9437\n",
      "Epoch 3/100\n",
      "114/121 [===========================>..] - ETA: 0s - loss: 0.1725 - acc: 0.9433\n",
      "Epoch 3: val_loss improved from 0.17383 to 0.16903, saving model to ../results/timeseries-baseline/GRU-128-mort_icu-best_model.hdf5\n",
      "121/121 [==============================] - 0s 3ms/step - loss: 0.1705 - acc: 0.9440 - val_loss: 0.1690 - val_acc: 0.9423\n",
      "Epoch 4/100\n",
      "119/121 [============================>.] - ETA: 0s - loss: 0.1598 - acc: 0.9460\n",
      "Epoch 4: val_loss improved from 0.16903 to 0.16736, saving model to ../results/timeseries-baseline/GRU-128-mort_icu-best_model.hdf5\n",
      "121/121 [==============================] - 0s 3ms/step - loss: 0.1598 - acc: 0.9458 - val_loss: 0.1674 - val_acc: 0.9423\n",
      "Epoch 5/100\n",
      "107/121 [=========================>....] - ETA: 0s - loss: 0.1544 - acc: 0.9468\n",
      "Epoch 5: val_loss did not improve from 0.16736\n",
      "121/121 [==============================] - 0s 3ms/step - loss: 0.1515 - acc: 0.9480 - val_loss: 0.1687 - val_acc: 0.9414\n",
      "Epoch 6/100\n",
      "109/121 [==========================>...] - ETA: 0s - loss: 0.1418 - acc: 0.9505\n",
      "Epoch 6: val_loss improved from 0.16736 to 0.16488, saving model to ../results/timeseries-baseline/GRU-128-mort_icu-best_model.hdf5\n",
      "121/121 [==============================] - 0s 3ms/step - loss: 0.1429 - acc: 0.9503 - val_loss: 0.1649 - val_acc: 0.9428\n",
      "Epoch 7/100\n",
      "119/121 [============================>.] - ETA: 0s - loss: 0.1328 - acc: 0.9549\n",
      "Epoch 7: val_loss did not improve from 0.16488\n",
      "121/121 [==============================] - 0s 3ms/step - loss: 0.1333 - acc: 0.9548 - val_loss: 0.1714 - val_acc: 0.9414\n",
      "Epoch 8/100\n",
      "103/121 [========================>.....] - ETA: 0s - loss: 0.1223 - acc: 0.9592\n",
      "Epoch 8: val_loss did not improve from 0.16488\n",
      "121/121 [==============================] - 0s 3ms/step - loss: 0.1225 - acc: 0.9587 - val_loss: 0.1725 - val_acc: 0.9401\n",
      "Epoch 9/100\n",
      "106/121 [=========================>....] - ETA: 0s - loss: 0.1136 - acc: 0.9623\n",
      "Epoch 9: val_loss did not improve from 0.16488\n",
      "121/121 [==============================] - 0s 3ms/step - loss: 0.1141 - acc: 0.9624 - val_loss: 0.1750 - val_acc: 0.9423\n",
      "138/138 [==============================] - 0s 914us/step\n",
      "0.887222238937582 0.5248813320608298 0.9400817067635043 0.4430379746835443\n"
     ]
    },
    {
     "name": "stderr",
     "output_type": "stream",
     "text": [
      "2023-11-13 00:04:10.317665: I tensorflow/core/common_runtime/gpu/gpu_device.cc:1886] Created device /job:localhost/replica:0/task:0/device:GPU:0 with 13074 MB memory:  -> device: 0, name: Quadro RTX 5000, pci bus id: 0000:2b:00.0, compute capability: 7.5\n",
      "2023-11-13 00:04:10.329809: I tensorflow/core/common_runtime/gpu/gpu_device.cc:1886] Created device /job:localhost/replica:0/task:0/device:GPU:0 with 13074 MB memory:  -> device: 0, name: Quadro RTX 5000, pci bus id: 0000:2b:00.0, compute capability: 7.5\n"
     ]
    },
    {
     "name": "stdout",
     "output_type": "stream",
     "text": [
      "Problem type:  los_3\n",
      "__________________\n",
      "Epoch 1/100\n",
      "121/121 [==============================] - ETA: 0s - loss: 0.6601 - acc: 0.6326\n",
      "Epoch 1: val_loss improved from inf to 0.63287, saving model to ../results/timeseries-baseline/GRU-128-los_3-best_model.hdf5\n",
      "121/121 [==============================] - 1s 5ms/step - loss: 0.6601 - acc: 0.6326 - val_loss: 0.6329 - val_acc: 0.6757\n",
      "Epoch 2/100\n",
      " 58/121 [=============>................] - ETA: 0s - loss: 0.6398 - acc: 0.6529"
     ]
    },
    {
     "name": "stderr",
     "output_type": "stream",
     "text": [
      "/data/apps/miniforge3/envs/cse6250-project/lib/python3.9/site-packages/keras/src/engine/training.py:3079: UserWarning: You are saving your model as an HDF5 file via `model.save()`. This file format is considered legacy. We recommend using instead the native Keras format, e.g. `model.save('my_model.keras')`.\n",
      "  saving_api.save_model(\n"
     ]
    },
    {
     "name": "stdout",
     "output_type": "stream",
     "text": [
      "111/121 [==========================>...] - ETA: 0s - loss: 0.6367 - acc: 0.6592\n",
      "Epoch 2: val_loss improved from 0.63287 to 0.62231, saving model to ../results/timeseries-baseline/GRU-128-los_3-best_model.hdf5\n",
      "121/121 [==============================] - 0s 3ms/step - loss: 0.6369 - acc: 0.6579 - val_loss: 0.6223 - val_acc: 0.6812\n",
      "Epoch 3/100\n",
      "120/121 [============================>.] - ETA: 0s - loss: 0.6264 - acc: 0.6635\n",
      "Epoch 3: val_loss improved from 0.62231 to 0.62032, saving model to ../results/timeseries-baseline/GRU-128-los_3-best_model.hdf5\n",
      "121/121 [==============================] - 0s 3ms/step - loss: 0.6266 - acc: 0.6633 - val_loss: 0.6203 - val_acc: 0.6698\n",
      "Epoch 4/100\n",
      "105/121 [=========================>....] - ETA: 0s - loss: 0.6166 - acc: 0.6763\n",
      "Epoch 4: val_loss improved from 0.62032 to 0.61798, saving model to ../results/timeseries-baseline/GRU-128-los_3-best_model.hdf5\n",
      "121/121 [==============================] - 0s 3ms/step - loss: 0.6157 - acc: 0.6764 - val_loss: 0.6180 - val_acc: 0.6762\n",
      "Epoch 5/100\n",
      "119/121 [============================>.] - ETA: 0s - loss: 0.6062 - acc: 0.6803\n",
      "Epoch 5: val_loss improved from 0.61798 to 0.61196, saving model to ../results/timeseries-baseline/GRU-128-los_3-best_model.hdf5\n",
      "121/121 [==============================] - 0s 3ms/step - loss: 0.6057 - acc: 0.6807 - val_loss: 0.6120 - val_acc: 0.6780\n",
      "Epoch 6/100\n",
      "120/121 [============================>.] - ETA: 0s - loss: 0.5946 - acc: 0.6949\n",
      "Epoch 6: val_loss did not improve from 0.61196\n",
      "121/121 [==============================] - 0s 3ms/step - loss: 0.5944 - acc: 0.6952 - val_loss: 0.6189 - val_acc: 0.6617\n",
      "Epoch 7/100\n",
      "107/121 [=========================>....] - ETA: 0s - loss: 0.5817 - acc: 0.7058\n",
      "Epoch 7: val_loss improved from 0.61196 to 0.61182, saving model to ../results/timeseries-baseline/GRU-128-los_3-best_model.hdf5\n",
      "121/121 [==============================] - 0s 3ms/step - loss: 0.5815 - acc: 0.7082 - val_loss: 0.6118 - val_acc: 0.6835\n",
      "Epoch 8/100\n",
      "103/121 [========================>.....] - ETA: 0s - loss: 0.5657 - acc: 0.7163\n",
      "Epoch 8: val_loss did not improve from 0.61182\n",
      "121/121 [==============================] - 0s 3ms/step - loss: 0.5668 - acc: 0.7160 - val_loss: 0.6231 - val_acc: 0.6585\n",
      "Epoch 9/100\n",
      "121/121 [==============================] - ETA: 0s - loss: 0.5495 - acc: 0.7309\n",
      "Epoch 9: val_loss did not improve from 0.61182\n",
      "121/121 [==============================] - 0s 3ms/step - loss: 0.5495 - acc: 0.7309 - val_loss: 0.6296 - val_acc: 0.6685\n",
      "Epoch 10/100\n",
      "104/121 [========================>.....] - ETA: 0s - loss: 0.5254 - acc: 0.7456\n",
      "Epoch 10: val_loss did not improve from 0.61182\n",
      "121/121 [==============================] - 0s 3ms/step - loss: 0.5265 - acc: 0.7460 - val_loss: 0.6498 - val_acc: 0.6503\n",
      "138/138 [==============================] - 0s 940us/step\n",
      "0.6927449965493444 0.6359170651469095 0.6563776668179755 0.5520710059171599\n"
     ]
    },
    {
     "name": "stderr",
     "output_type": "stream",
     "text": [
      "2023-11-13 00:04:17.544924: I tensorflow/core/common_runtime/gpu/gpu_device.cc:1886] Created device /job:localhost/replica:0/task:0/device:GPU:0 with 13074 MB memory:  -> device: 0, name: Quadro RTX 5000, pci bus id: 0000:2b:00.0, compute capability: 7.5\n",
      "2023-11-13 00:04:17.557523: I tensorflow/core/common_runtime/gpu/gpu_device.cc:1886] Created device /job:localhost/replica:0/task:0/device:GPU:0 with 13074 MB memory:  -> device: 0, name: Quadro RTX 5000, pci bus id: 0000:2b:00.0, compute capability: 7.5\n"
     ]
    },
    {
     "name": "stdout",
     "output_type": "stream",
     "text": [
      "Problem type:  los_7\n",
      "__________________\n",
      "Epoch 1/100\n",
      "119/121 [============================>.] - ETA: 0s - loss: 0.3338 - acc: 0.8854\n",
      "Epoch 1: val_loss improved from inf to 0.27524, saving model to ../results/timeseries-baseline/GRU-128-los_7-best_model.hdf5\n",
      "121/121 [==============================] - 1s 5ms/step - loss: 0.3326 - acc: 0.8860 - val_loss: 0.2752 - val_acc: 0.9192\n",
      "Epoch 2/100\n",
      " 61/121 [==============>...............] - ETA: 0s - loss: 0.2653 - acc: 0.9183"
     ]
    },
    {
     "name": "stderr",
     "output_type": "stream",
     "text": [
      "/data/apps/miniforge3/envs/cse6250-project/lib/python3.9/site-packages/keras/src/engine/training.py:3079: UserWarning: You are saving your model as an HDF5 file via `model.save()`. This file format is considered legacy. We recommend using instead the native Keras format, e.g. `model.save('my_model.keras')`.\n",
      "  saving_api.save_model(\n"
     ]
    },
    {
     "name": "stdout",
     "output_type": "stream",
     "text": [
      "119/121 [============================>.] - ETA: 0s - loss: 0.2616 - acc: 0.9213\n",
      "Epoch 2: val_loss improved from 0.27524 to 0.26741, saving model to ../results/timeseries-baseline/GRU-128-los_7-best_model.hdf5\n",
      "121/121 [==============================] - 0s 3ms/step - loss: 0.2619 - acc: 0.9210 - val_loss: 0.2674 - val_acc: 0.9219\n",
      "Epoch 3/100\n",
      "109/121 [==========================>...] - ETA: 0s - loss: 0.2492 - acc: 0.9238\n",
      "Epoch 3: val_loss improved from 0.26741 to 0.26185, saving model to ../results/timeseries-baseline/GRU-128-los_7-best_model.hdf5\n",
      "121/121 [==============================] - 0s 3ms/step - loss: 0.2519 - acc: 0.9223 - val_loss: 0.2619 - val_acc: 0.9219\n",
      "Epoch 4/100\n",
      "104/121 [========================>.....] - ETA: 0s - loss: 0.2507 - acc: 0.9199\n",
      "Epoch 4: val_loss improved from 0.26185 to 0.26023, saving model to ../results/timeseries-baseline/GRU-128-los_7-best_model.hdf5\n",
      "121/121 [==============================] - 0s 3ms/step - loss: 0.2456 - acc: 0.9224 - val_loss: 0.2602 - val_acc: 0.9219\n",
      "Epoch 5/100\n",
      "120/121 [============================>.] - ETA: 0s - loss: 0.2388 - acc: 0.9225\n",
      "Epoch 5: val_loss improved from 0.26023 to 0.25839, saving model to ../results/timeseries-baseline/GRU-128-los_7-best_model.hdf5\n",
      "121/121 [==============================] - 0s 3ms/step - loss: 0.2384 - acc: 0.9227 - val_loss: 0.2584 - val_acc: 0.9223\n",
      "Epoch 6/100\n",
      "109/121 [==========================>...] - ETA: 0s - loss: 0.2329 - acc: 0.9230\n",
      "Epoch 6: val_loss improved from 0.25839 to 0.25590, saving model to ../results/timeseries-baseline/GRU-128-los_7-best_model.hdf5\n",
      "121/121 [==============================] - 0s 3ms/step - loss: 0.2314 - acc: 0.9237 - val_loss: 0.2559 - val_acc: 0.9233\n",
      "Epoch 7/100\n",
      "107/121 [=========================>....] - ETA: 0s - loss: 0.2213 - acc: 0.9265\n",
      "Epoch 7: val_loss did not improve from 0.25590\n",
      "121/121 [==============================] - 0s 3ms/step - loss: 0.2229 - acc: 0.9260 - val_loss: 0.2658 - val_acc: 0.9205\n",
      "Epoch 8/100\n",
      "104/121 [========================>.....] - ETA: 0s - loss: 0.2151 - acc: 0.9287\n",
      "Epoch 8: val_loss did not improve from 0.25590\n",
      "121/121 [==============================] - 0s 3ms/step - loss: 0.2146 - acc: 0.9281 - val_loss: 0.2701 - val_acc: 0.9146\n",
      "Epoch 9/100\n",
      "115/121 [===========================>..] - ETA: 0s - loss: 0.2049 - acc: 0.9323\n",
      "Epoch 9: val_loss did not improve from 0.25590\n",
      "121/121 [==============================] - 0s 3ms/step - loss: 0.2051 - acc: 0.9319 - val_loss: 0.2771 - val_acc: 0.9169\n",
      "138/138 [==============================] - 0s 943us/step\n",
      "0.7298044111527257 0.2105357396567056 0.9185201997276441 0.0723514211886305\n"
     ]
    },
    {
     "name": "stderr",
     "output_type": "stream",
     "text": [
      "2023-11-13 00:04:24.433587: I tensorflow/core/common_runtime/gpu/gpu_device.cc:1886] Created device /job:localhost/replica:0/task:0/device:GPU:0 with 13074 MB memory:  -> device: 0, name: Quadro RTX 5000, pci bus id: 0000:2b:00.0, compute capability: 7.5\n",
      "2023-11-13 00:04:24.445946: I tensorflow/core/common_runtime/gpu/gpu_device.cc:1886] Created device /job:localhost/replica:0/task:0/device:GPU:0 with 13074 MB memory:  -> device: 0, name: Quadro RTX 5000, pci bus id: 0000:2b:00.0, compute capability: 7.5\n"
     ]
    },
    {
     "name": "stdout",
     "output_type": "stream",
     "text": [
      "Iteration number:  4\n",
      "=============================\n",
      "Problem type:  mort_hosp\n",
      "__________________\n",
      "Epoch 1/100\n",
      "117/121 [============================>.] - ETA: 0s - loss: 0.3263 - acc: 0.8758\n",
      "Epoch 1: val_loss improved from inf to 0.25193, saving model to ../results/timeseries-baseline/GRU-128-mort_hosp-best_model.hdf5\n",
      "121/121 [==============================] - 1s 5ms/step - loss: 0.3246 - acc: 0.8771 - val_loss: 0.2519 - val_acc: 0.9146\n",
      "Epoch 2/100\n",
      " 62/121 [==============>...............] - ETA: 0s - loss: 0.2596 - acc: 0.9098"
     ]
    },
    {
     "name": "stderr",
     "output_type": "stream",
     "text": [
      "/data/apps/miniforge3/envs/cse6250-project/lib/python3.9/site-packages/keras/src/engine/training.py:3079: UserWarning: You are saving your model as an HDF5 file via `model.save()`. This file format is considered legacy. We recommend using instead the native Keras format, e.g. `model.save('my_model.keras')`.\n",
      "  saving_api.save_model(\n"
     ]
    },
    {
     "name": "stdout",
     "output_type": "stream",
     "text": [
      "121/121 [==============================] - ETA: 0s - loss: 0.2511 - acc: 0.9128\n",
      "Epoch 2: val_loss improved from 0.25193 to 0.24582, saving model to ../results/timeseries-baseline/GRU-128-mort_hosp-best_model.hdf5\n",
      "121/121 [==============================] - 0s 3ms/step - loss: 0.2511 - acc: 0.9128 - val_loss: 0.2458 - val_acc: 0.9101\n",
      "Epoch 3/100\n",
      "121/121 [==============================] - ETA: 0s - loss: 0.2333 - acc: 0.9179\n",
      "Epoch 3: val_loss improved from 0.24582 to 0.23406, saving model to ../results/timeseries-baseline/GRU-128-mort_hosp-best_model.hdf5\n",
      "121/121 [==============================] - 0s 3ms/step - loss: 0.2333 - acc: 0.9179 - val_loss: 0.2341 - val_acc: 0.9133\n",
      "Epoch 4/100\n",
      "105/121 [=========================>....] - ETA: 0s - loss: 0.2201 - acc: 0.9225\n",
      "Epoch 4: val_loss improved from 0.23406 to 0.23351, saving model to ../results/timeseries-baseline/GRU-128-mort_hosp-best_model.hdf5\n",
      "121/121 [==============================] - 0s 3ms/step - loss: 0.2234 - acc: 0.9208 - val_loss: 0.2335 - val_acc: 0.9137\n",
      "Epoch 5/100\n",
      "114/121 [===========================>..] - ETA: 0s - loss: 0.2119 - acc: 0.9238\n",
      "Epoch 5: val_loss did not improve from 0.23351\n",
      "121/121 [==============================] - 0s 3ms/step - loss: 0.2136 - acc: 0.9224 - val_loss: 0.2446 - val_acc: 0.9060\n",
      "Epoch 6/100\n",
      "108/121 [=========================>....] - ETA: 0s - loss: 0.2061 - acc: 0.9263\n",
      "Epoch 6: val_loss did not improve from 0.23351\n",
      "121/121 [==============================] - 0s 3ms/step - loss: 0.2038 - acc: 0.9270 - val_loss: 0.2356 - val_acc: 0.9110\n",
      "Epoch 7/100\n",
      "119/121 [============================>.] - ETA: 0s - loss: 0.1940 - acc: 0.9307\n",
      "Epoch 7: val_loss did not improve from 0.23351\n",
      "121/121 [==============================] - 0s 3ms/step - loss: 0.1945 - acc: 0.9304 - val_loss: 0.2347 - val_acc: 0.9105\n",
      "138/138 [==============================] - 0s 908us/step\n",
      "0.8785601366511901 0.560698985824274 0.9142078983204721 0.43582089552238806\n"
     ]
    },
    {
     "name": "stderr",
     "output_type": "stream",
     "text": [
      "2023-11-13 00:04:30.521386: I tensorflow/core/common_runtime/gpu/gpu_device.cc:1886] Created device /job:localhost/replica:0/task:0/device:GPU:0 with 13074 MB memory:  -> device: 0, name: Quadro RTX 5000, pci bus id: 0000:2b:00.0, compute capability: 7.5\n",
      "2023-11-13 00:04:30.532268: I tensorflow/core/common_runtime/gpu/gpu_device.cc:1886] Created device /job:localhost/replica:0/task:0/device:GPU:0 with 13074 MB memory:  -> device: 0, name: Quadro RTX 5000, pci bus id: 0000:2b:00.0, compute capability: 7.5\n"
     ]
    },
    {
     "name": "stdout",
     "output_type": "stream",
     "text": [
      "Problem type:  mort_icu\n",
      "__________________\n",
      "Epoch 1/100\n",
      "118/121 [============================>.] - ETA: 0s - loss: 0.2689 - acc: 0.9062\n",
      "Epoch 1: val_loss improved from inf to 0.18589, saving model to ../results/timeseries-baseline/GRU-128-mort_icu-best_model.hdf5\n",
      "121/121 [==============================] - 1s 5ms/step - loss: 0.2672 - acc: 0.9064 - val_loss: 0.1859 - val_acc: 0.9410\n",
      "Epoch 2/100\n",
      " 65/121 [===============>..............] - ETA: 0s - loss: 0.1854 - acc: 0.9424"
     ]
    },
    {
     "name": "stderr",
     "output_type": "stream",
     "text": [
      "/data/apps/miniforge3/envs/cse6250-project/lib/python3.9/site-packages/keras/src/engine/training.py:3079: UserWarning: You are saving your model as an HDF5 file via `model.save()`. This file format is considered legacy. We recommend using instead the native Keras format, e.g. `model.save('my_model.keras')`.\n",
      "  saving_api.save_model(\n"
     ]
    },
    {
     "name": "stdout",
     "output_type": "stream",
     "text": [
      "105/121 [=========================>....] - ETA: 0s - loss: 0.1833 - acc: 0.9417\n",
      "Epoch 2: val_loss improved from 0.18589 to 0.17730, saving model to ../results/timeseries-baseline/GRU-128-mort_icu-best_model.hdf5\n",
      "121/121 [==============================] - 0s 3ms/step - loss: 0.1817 - acc: 0.9421 - val_loss: 0.1773 - val_acc: 0.9419\n",
      "Epoch 3/100\n",
      "107/121 [=========================>....] - ETA: 0s - loss: 0.1692 - acc: 0.9441\n",
      "Epoch 3: val_loss improved from 0.17730 to 0.16960, saving model to ../results/timeseries-baseline/GRU-128-mort_icu-best_model.hdf5\n",
      "121/121 [==============================] - 0s 3ms/step - loss: 0.1692 - acc: 0.9435 - val_loss: 0.1696 - val_acc: 0.9423\n",
      "Epoch 4/100\n",
      "107/121 [=========================>....] - ETA: 0s - loss: 0.1583 - acc: 0.9463\n",
      "Epoch 4: val_loss improved from 0.16960 to 0.16779, saving model to ../results/timeseries-baseline/GRU-128-mort_icu-best_model.hdf5\n",
      "121/121 [==============================] - 0s 3ms/step - loss: 0.1600 - acc: 0.9456 - val_loss: 0.1678 - val_acc: 0.9401\n",
      "Epoch 5/100\n",
      "113/121 [===========================>..] - ETA: 0s - loss: 0.1531 - acc: 0.9475\n",
      "Epoch 5: val_loss improved from 0.16779 to 0.16706, saving model to ../results/timeseries-baseline/GRU-128-mort_icu-best_model.hdf5\n",
      "121/121 [==============================] - 0s 3ms/step - loss: 0.1505 - acc: 0.9487 - val_loss: 0.1671 - val_acc: 0.9410\n",
      "Epoch 6/100\n",
      "104/121 [========================>.....] - ETA: 0s - loss: 0.1430 - acc: 0.9517\n",
      "Epoch 6: val_loss did not improve from 0.16706\n",
      "121/121 [==============================] - 0s 3ms/step - loss: 0.1422 - acc: 0.9517 - val_loss: 0.1714 - val_acc: 0.9391\n",
      "Epoch 7/100\n",
      "120/121 [============================>.] - ETA: 0s - loss: 0.1337 - acc: 0.9555\n",
      "Epoch 7: val_loss did not improve from 0.16706\n",
      "121/121 [==============================] - 0s 3ms/step - loss: 0.1339 - acc: 0.9554 - val_loss: 0.1754 - val_acc: 0.9369\n",
      "Epoch 8/100\n",
      "109/121 [==========================>...] - ETA: 0s - loss: 0.1271 - acc: 0.9572\n",
      "Epoch 8: val_loss did not improve from 0.16706\n",
      "121/121 [==============================] - 0s 3ms/step - loss: 0.1263 - acc: 0.9574 - val_loss: 0.1780 - val_acc: 0.9387\n",
      "138/138 [==============================] - 0s 939us/step\n",
      "0.8860457347673569 0.5122668370046447 0.9416704493871992 0.4250559284116331\n"
     ]
    },
    {
     "name": "stderr",
     "output_type": "stream",
     "text": [
      "2023-11-13 00:04:36.889769: I tensorflow/core/common_runtime/gpu/gpu_device.cc:1886] Created device /job:localhost/replica:0/task:0/device:GPU:0 with 13074 MB memory:  -> device: 0, name: Quadro RTX 5000, pci bus id: 0000:2b:00.0, compute capability: 7.5\n",
      "2023-11-13 00:04:36.899455: I tensorflow/core/common_runtime/gpu/gpu_device.cc:1886] Created device /job:localhost/replica:0/task:0/device:GPU:0 with 13074 MB memory:  -> device: 0, name: Quadro RTX 5000, pci bus id: 0000:2b:00.0, compute capability: 7.5\n"
     ]
    },
    {
     "name": "stdout",
     "output_type": "stream",
     "text": [
      "Problem type:  los_3\n",
      "__________________\n",
      "Epoch 1/100\n",
      "115/121 [===========================>..] - ETA: 0s - loss: 0.6599 - acc: 0.6355\n",
      "Epoch 1: val_loss improved from inf to 0.63393, saving model to ../results/timeseries-baseline/GRU-128-los_3-best_model.hdf5\n",
      "121/121 [==============================] - 1s 5ms/step - loss: 0.6598 - acc: 0.6360 - val_loss: 0.6339 - val_acc: 0.6744\n",
      "Epoch 2/100\n",
      " 62/121 [==============>...............] - ETA: 0s - loss: 0.6363 - acc: 0.6568"
     ]
    },
    {
     "name": "stderr",
     "output_type": "stream",
     "text": [
      "/data/apps/miniforge3/envs/cse6250-project/lib/python3.9/site-packages/keras/src/engine/training.py:3079: UserWarning: You are saving your model as an HDF5 file via `model.save()`. This file format is considered legacy. We recommend using instead the native Keras format, e.g. `model.save('my_model.keras')`.\n",
      "  saving_api.save_model(\n"
     ]
    },
    {
     "name": "stdout",
     "output_type": "stream",
     "text": [
      "117/121 [============================>.] - ETA: 0s - loss: 0.6375 - acc: 0.6585\n",
      "Epoch 2: val_loss improved from 0.63393 to 0.62472, saving model to ../results/timeseries-baseline/GRU-128-los_3-best_model.hdf5\n",
      "121/121 [==============================] - 0s 3ms/step - loss: 0.6374 - acc: 0.6582 - val_loss: 0.6247 - val_acc: 0.6812\n",
      "Epoch 3/100\n",
      "118/121 [============================>.] - ETA: 0s - loss: 0.6264 - acc: 0.6664\n",
      "Epoch 3: val_loss improved from 0.62472 to 0.62116, saving model to ../results/timeseries-baseline/GRU-128-los_3-best_model.hdf5\n",
      "121/121 [==============================] - 0s 3ms/step - loss: 0.6256 - acc: 0.6668 - val_loss: 0.6212 - val_acc: 0.6776\n",
      "Epoch 4/100\n",
      "101/121 [========================>.....] - ETA: 0s - loss: 0.6165 - acc: 0.6726\n",
      "Epoch 4: val_loss improved from 0.62116 to 0.61437, saving model to ../results/timeseries-baseline/GRU-128-los_3-best_model.hdf5\n",
      "121/121 [==============================] - 0s 3ms/step - loss: 0.6145 - acc: 0.6750 - val_loss: 0.6144 - val_acc: 0.6757\n",
      "Epoch 5/100\n",
      "118/121 [============================>.] - ETA: 0s - loss: 0.6044 - acc: 0.6847\n",
      "Epoch 5: val_loss did not improve from 0.61437\n",
      "121/121 [==============================] - 0s 3ms/step - loss: 0.6045 - acc: 0.6846 - val_loss: 0.6174 - val_acc: 0.6685\n",
      "Epoch 6/100\n",
      "110/121 [==========================>...] - ETA: 0s - loss: 0.5934 - acc: 0.6976\n",
      "Epoch 6: val_loss improved from 0.61437 to 0.61247, saving model to ../results/timeseries-baseline/GRU-128-los_3-best_model.hdf5\n",
      "121/121 [==============================] - 0s 3ms/step - loss: 0.5939 - acc: 0.6965 - val_loss: 0.6125 - val_acc: 0.6753\n",
      "Epoch 7/100\n",
      "111/121 [==========================>...] - ETA: 0s - loss: 0.5793 - acc: 0.7094\n",
      "Epoch 7: val_loss did not improve from 0.61247\n",
      "121/121 [==============================] - 0s 3ms/step - loss: 0.5802 - acc: 0.7079 - val_loss: 0.6235 - val_acc: 0.6671\n",
      "Epoch 8/100\n",
      "114/121 [===========================>..] - ETA: 0s - loss: 0.5635 - acc: 0.7201\n",
      "Epoch 8: val_loss did not improve from 0.61247\n",
      "121/121 [==============================] - 0s 3ms/step - loss: 0.5650 - acc: 0.7187 - val_loss: 0.6270 - val_acc: 0.6644\n",
      "Epoch 9/100\n",
      "103/121 [========================>.....] - ETA: 0s - loss: 0.5411 - acc: 0.7373\n",
      "Epoch 9: val_loss did not improve from 0.61247\n",
      "121/121 [==============================] - 0s 3ms/step - loss: 0.5418 - acc: 0.7356 - val_loss: 0.6415 - val_acc: 0.6544\n",
      "138/138 [==============================] - 0s 921us/step\n",
      "0.6962395217896278 0.6378164976537424 0.6604630049931911 0.5612903225806452\n"
     ]
    },
    {
     "name": "stderr",
     "output_type": "stream",
     "text": [
      "2023-11-13 00:04:43.865778: I tensorflow/core/common_runtime/gpu/gpu_device.cc:1886] Created device /job:localhost/replica:0/task:0/device:GPU:0 with 13074 MB memory:  -> device: 0, name: Quadro RTX 5000, pci bus id: 0000:2b:00.0, compute capability: 7.5\n",
      "2023-11-13 00:04:43.880828: I tensorflow/core/common_runtime/gpu/gpu_device.cc:1886] Created device /job:localhost/replica:0/task:0/device:GPU:0 with 13074 MB memory:  -> device: 0, name: Quadro RTX 5000, pci bus id: 0000:2b:00.0, compute capability: 7.5\n"
     ]
    },
    {
     "name": "stdout",
     "output_type": "stream",
     "text": [
      "Problem type:  los_7\n",
      "__________________\n",
      "Epoch 1/100\n",
      "102/121 [========================>.....] - ETA: 0s - loss: 0.3435 - acc: 0.8835\n",
      "Epoch 1: val_loss improved from inf to 0.27266, saving model to ../results/timeseries-baseline/GRU-128-los_7-best_model.hdf5\n",
      "121/121 [==============================] - 1s 5ms/step - loss: 0.3315 - acc: 0.8898 - val_loss: 0.2727 - val_acc: 0.9228\n",
      "Epoch 2/100\n",
      " 64/121 [==============>...............] - ETA: 0s - loss: 0.2667 - acc: 0.9194"
     ]
    },
    {
     "name": "stderr",
     "output_type": "stream",
     "text": [
      "/data/apps/miniforge3/envs/cse6250-project/lib/python3.9/site-packages/keras/src/engine/training.py:3079: UserWarning: You are saving your model as an HDF5 file via `model.save()`. This file format is considered legacy. We recommend using instead the native Keras format, e.g. `model.save('my_model.keras')`.\n",
      "  saving_api.save_model(\n"
     ]
    },
    {
     "name": "stdout",
     "output_type": "stream",
     "text": [
      "104/121 [========================>.....] - ETA: 0s - loss: 0.2623 - acc: 0.9217\n",
      "Epoch 2: val_loss improved from 0.27266 to 0.26251, saving model to ../results/timeseries-baseline/GRU-128-los_7-best_model.hdf5\n",
      "121/121 [==============================] - 0s 3ms/step - loss: 0.2630 - acc: 0.9213 - val_loss: 0.2625 - val_acc: 0.9201\n",
      "Epoch 3/100\n",
      "111/121 [==========================>...] - ETA: 0s - loss: 0.2529 - acc: 0.9215\n",
      "Epoch 3: val_loss improved from 0.26251 to 0.25817, saving model to ../results/timeseries-baseline/GRU-128-los_7-best_model.hdf5\n",
      "121/121 [==============================] - 0s 3ms/step - loss: 0.2515 - acc: 0.9219 - val_loss: 0.2582 - val_acc: 0.9219\n",
      "Epoch 4/100\n",
      "109/121 [==========================>...] - ETA: 0s - loss: 0.2448 - acc: 0.9219\n",
      "Epoch 4: val_loss improved from 0.25817 to 0.25623, saving model to ../results/timeseries-baseline/GRU-128-los_7-best_model.hdf5\n",
      "121/121 [==============================] - 0s 3ms/step - loss: 0.2447 - acc: 0.9218 - val_loss: 0.2562 - val_acc: 0.9223\n",
      "Epoch 5/100\n",
      "109/121 [==========================>...] - ETA: 0s - loss: 0.2357 - acc: 0.9236\n",
      "Epoch 5: val_loss did not improve from 0.25623\n",
      "121/121 [==============================] - 0s 3ms/step - loss: 0.2376 - acc: 0.9226 - val_loss: 0.2604 - val_acc: 0.9219\n",
      "Epoch 6/100\n",
      "118/121 [============================>.] - ETA: 0s - loss: 0.2294 - acc: 0.9251\n",
      "Epoch 6: val_loss did not improve from 0.25623\n",
      "121/121 [==============================] - 0s 3ms/step - loss: 0.2304 - acc: 0.9245 - val_loss: 0.2575 - val_acc: 0.9228\n",
      "Epoch 7/100\n",
      "121/121 [==============================] - ETA: 0s - loss: 0.2227 - acc: 0.9260\n",
      "Epoch 7: val_loss did not improve from 0.25623\n",
      "121/121 [==============================] - 0s 3ms/step - loss: 0.2227 - acc: 0.9260 - val_loss: 0.2692 - val_acc: 0.9178\n",
      "138/138 [==============================] - 0s 938us/step\n",
      "0.7438035788597586 0.2179582062380352 0.9192010894235134 0.04301075268817204\n"
     ]
    },
    {
     "name": "stderr",
     "output_type": "stream",
     "text": [
      "2023-11-13 00:04:49.932659: I tensorflow/core/common_runtime/gpu/gpu_device.cc:1886] Created device /job:localhost/replica:0/task:0/device:GPU:0 with 13074 MB memory:  -> device: 0, name: Quadro RTX 5000, pci bus id: 0000:2b:00.0, compute capability: 7.5\n",
      "2023-11-13 00:04:49.945342: I tensorflow/core/common_runtime/gpu/gpu_device.cc:1886] Created device /job:localhost/replica:0/task:0/device:GPU:0 with 13074 MB memory:  -> device: 0, name: Quadro RTX 5000, pci bus id: 0000:2b:00.0, compute capability: 7.5\n"
     ]
    },
    {
     "name": "stdout",
     "output_type": "stream",
     "text": [
      "Iteration number:  5\n",
      "=============================\n",
      "Problem type:  mort_hosp\n",
      "__________________\n",
      "Epoch 1/100\n",
      "101/121 [========================>.....] - ETA: 0s - loss: 0.3280 - acc: 0.8789\n",
      "Epoch 1: val_loss improved from inf to 0.25612, saving model to ../results/timeseries-baseline/GRU-128-mort_hosp-best_model.hdf5\n",
      "121/121 [==============================] - 1s 5ms/step - loss: 0.3132 - acc: 0.8858 - val_loss: 0.2561 - val_acc: 0.9133\n",
      "Epoch 2/100\n",
      " 68/121 [===============>..............] - ETA: 0s - loss: 0.2494 - acc: 0.9157"
     ]
    },
    {
     "name": "stderr",
     "output_type": "stream",
     "text": [
      "/data/apps/miniforge3/envs/cse6250-project/lib/python3.9/site-packages/keras/src/engine/training.py:3079: UserWarning: You are saving your model as an HDF5 file via `model.save()`. This file format is considered legacy. We recommend using instead the native Keras format, e.g. `model.save('my_model.keras')`.\n",
      "  saving_api.save_model(\n"
     ]
    },
    {
     "name": "stdout",
     "output_type": "stream",
     "text": [
      "112/121 [==========================>...] - ETA: 0s - loss: 0.2491 - acc: 0.9148\n",
      "Epoch 2: val_loss improved from 0.25612 to 0.23844, saving model to ../results/timeseries-baseline/GRU-128-mort_hosp-best_model.hdf5\n",
      "121/121 [==============================] - 0s 3ms/step - loss: 0.2497 - acc: 0.9137 - val_loss: 0.2384 - val_acc: 0.9128\n",
      "Epoch 3/100\n",
      "110/121 [==========================>...] - ETA: 0s - loss: 0.2347 - acc: 0.9158\n",
      "Epoch 3: val_loss did not improve from 0.23844\n",
      "121/121 [==============================] - 0s 3ms/step - loss: 0.2326 - acc: 0.9168 - val_loss: 0.2388 - val_acc: 0.9151\n",
      "Epoch 4/100\n",
      "104/121 [========================>.....] - ETA: 0s - loss: 0.2239 - acc: 0.9209\n",
      "Epoch 4: val_loss improved from 0.23844 to 0.23767, saving model to ../results/timeseries-baseline/GRU-128-mort_hosp-best_model.hdf5\n",
      "121/121 [==============================] - 0s 3ms/step - loss: 0.2237 - acc: 0.9204 - val_loss: 0.2377 - val_acc: 0.9110\n",
      "Epoch 5/100\n",
      "105/121 [=========================>....] - ETA: 0s - loss: 0.2128 - acc: 0.9247\n",
      "Epoch 5: val_loss did not improve from 0.23767\n",
      "121/121 [==============================] - 0s 3ms/step - loss: 0.2145 - acc: 0.9229 - val_loss: 0.2390 - val_acc: 0.9114\n",
      "Epoch 6/100\n",
      "106/121 [=========================>....] - ETA: 0s - loss: 0.2004 - acc: 0.9280\n",
      "Epoch 6: val_loss did not improve from 0.23767\n",
      "121/121 [==============================] - 0s 3ms/step - loss: 0.2046 - acc: 0.9263 - val_loss: 0.2406 - val_acc: 0.9114\n",
      "Epoch 7/100\n",
      "103/121 [========================>.....] - ETA: 0s - loss: 0.1963 - acc: 0.9307\n",
      "Epoch 7: val_loss did not improve from 0.23767\n",
      "121/121 [==============================] - 0s 3ms/step - loss: 0.1934 - acc: 0.9319 - val_loss: 0.2444 - val_acc: 0.9110\n",
      "138/138 [==============================] - 0s 1ms/step\n",
      "0.8801090523289788 0.5615155372829465 0.9121652292328642 0.43668122270742366\n"
     ]
    },
    {
     "name": "stderr",
     "output_type": "stream",
     "text": [
      "2023-11-13 00:04:56.029499: I tensorflow/core/common_runtime/gpu/gpu_device.cc:1886] Created device /job:localhost/replica:0/task:0/device:GPU:0 with 13074 MB memory:  -> device: 0, name: Quadro RTX 5000, pci bus id: 0000:2b:00.0, compute capability: 7.5\n",
      "2023-11-13 00:04:56.041025: I tensorflow/core/common_runtime/gpu/gpu_device.cc:1886] Created device /job:localhost/replica:0/task:0/device:GPU:0 with 13074 MB memory:  -> device: 0, name: Quadro RTX 5000, pci bus id: 0000:2b:00.0, compute capability: 7.5\n"
     ]
    },
    {
     "name": "stdout",
     "output_type": "stream",
     "text": [
      "Problem type:  mort_icu\n",
      "__________________\n",
      "Epoch 1/100\n",
      "114/121 [===========================>..] - ETA: 0s - loss: 0.2687 - acc: 0.9083\n",
      "Epoch 1: val_loss improved from inf to 0.18524, saving model to ../results/timeseries-baseline/GRU-128-mort_icu-best_model.hdf5\n",
      "121/121 [==============================] - 1s 5ms/step - loss: 0.2655 - acc: 0.9092 - val_loss: 0.1852 - val_acc: 0.9391\n",
      "Epoch 2/100\n",
      " 63/121 [==============>...............] - ETA: 0s - loss: 0.1884 - acc: 0.9400"
     ]
    },
    {
     "name": "stderr",
     "output_type": "stream",
     "text": [
      "/data/apps/miniforge3/envs/cse6250-project/lib/python3.9/site-packages/keras/src/engine/training.py:3079: UserWarning: You are saving your model as an HDF5 file via `model.save()`. This file format is considered legacy. We recommend using instead the native Keras format, e.g. `model.save('my_model.keras')`.\n",
      "  saving_api.save_model(\n"
     ]
    },
    {
     "name": "stdout",
     "output_type": "stream",
     "text": [
      "103/121 [========================>.....] - ETA: 0s - loss: 0.1795 - acc: 0.9410\n",
      "Epoch 2: val_loss improved from 0.18524 to 0.17554, saving model to ../results/timeseries-baseline/GRU-128-mort_icu-best_model.hdf5\n",
      "121/121 [==============================] - 0s 3ms/step - loss: 0.1821 - acc: 0.9406 - val_loss: 0.1755 - val_acc: 0.9450\n",
      "Epoch 3/100\n",
      "111/121 [==========================>...] - ETA: 0s - loss: 0.1679 - acc: 0.9436\n",
      "Epoch 3: val_loss improved from 0.17554 to 0.17063, saving model to ../results/timeseries-baseline/GRU-128-mort_icu-best_model.hdf5\n",
      "121/121 [==============================] - 0s 3ms/step - loss: 0.1685 - acc: 0.9438 - val_loss: 0.1706 - val_acc: 0.9455\n",
      "Epoch 4/100\n",
      "106/121 [=========================>....] - ETA: 0s - loss: 0.1556 - acc: 0.9467\n",
      "Epoch 4: val_loss improved from 0.17063 to 0.17042, saving model to ../results/timeseries-baseline/GRU-128-mort_icu-best_model.hdf5\n",
      "121/121 [==============================] - 0s 3ms/step - loss: 0.1575 - acc: 0.9462 - val_loss: 0.1704 - val_acc: 0.9460\n",
      "Epoch 5/100\n",
      "106/121 [=========================>....] - ETA: 0s - loss: 0.1507 - acc: 0.9479\n",
      "Epoch 5: val_loss improved from 0.17042 to 0.16508, saving model to ../results/timeseries-baseline/GRU-128-mort_icu-best_model.hdf5\n",
      "121/121 [==============================] - 0s 3ms/step - loss: 0.1508 - acc: 0.9478 - val_loss: 0.1651 - val_acc: 0.9441\n",
      "Epoch 6/100\n",
      "113/121 [===========================>..] - ETA: 0s - loss: 0.1441 - acc: 0.9511\n",
      "Epoch 6: val_loss did not improve from 0.16508\n",
      "121/121 [==============================] - 0s 3ms/step - loss: 0.1434 - acc: 0.9510 - val_loss: 0.1685 - val_acc: 0.9405\n",
      "Epoch 7/100\n",
      "117/121 [============================>.] - ETA: 0s - loss: 0.1342 - acc: 0.9542\n",
      "Epoch 7: val_loss did not improve from 0.16508\n",
      "121/121 [==============================] - 0s 3ms/step - loss: 0.1336 - acc: 0.9541 - val_loss: 0.1664 - val_acc: 0.9441\n",
      "Epoch 8/100\n",
      "115/121 [===========================>..] - ETA: 0s - loss: 0.1241 - acc: 0.9563\n",
      "Epoch 8: val_loss did not improve from 0.16508\n",
      "121/121 [==============================] - 0s 3ms/step - loss: 0.1261 - acc: 0.9558 - val_loss: 0.1840 - val_acc: 0.9355\n",
      "138/138 [==============================] - 0s 1ms/step\n",
      "0.8883972001515184 0.5145399588959805 0.9400817067635043 0.415929203539823\n"
     ]
    },
    {
     "name": "stderr",
     "output_type": "stream",
     "text": [
      "2023-11-13 00:05:02.471010: I tensorflow/core/common_runtime/gpu/gpu_device.cc:1886] Created device /job:localhost/replica:0/task:0/device:GPU:0 with 13074 MB memory:  -> device: 0, name: Quadro RTX 5000, pci bus id: 0000:2b:00.0, compute capability: 7.5\n",
      "2023-11-13 00:05:02.480499: I tensorflow/core/common_runtime/gpu/gpu_device.cc:1886] Created device /job:localhost/replica:0/task:0/device:GPU:0 with 13074 MB memory:  -> device: 0, name: Quadro RTX 5000, pci bus id: 0000:2b:00.0, compute capability: 7.5\n"
     ]
    },
    {
     "name": "stdout",
     "output_type": "stream",
     "text": [
      "Problem type:  los_3\n",
      "__________________\n",
      "Epoch 1/100\n",
      "103/121 [========================>.....] - ETA: 0s - loss: 0.6656 - acc: 0.6361\n",
      "Epoch 1: val_loss improved from inf to 0.63966, saving model to ../results/timeseries-baseline/GRU-128-los_3-best_model.hdf5\n",
      "121/121 [==============================] - 1s 5ms/step - loss: 0.6635 - acc: 0.6363 - val_loss: 0.6397 - val_acc: 0.6694\n",
      "Epoch 2/100\n",
      " 58/121 [=============>................] - ETA: 0s - loss: 0.6326 - acc: 0.6693"
     ]
    },
    {
     "name": "stderr",
     "output_type": "stream",
     "text": [
      "/data/apps/miniforge3/envs/cse6250-project/lib/python3.9/site-packages/keras/src/engine/training.py:3079: UserWarning: You are saving your model as an HDF5 file via `model.save()`. This file format is considered legacy. We recommend using instead the native Keras format, e.g. `model.save('my_model.keras')`.\n",
      "  saving_api.save_model(\n"
     ]
    },
    {
     "name": "stdout",
     "output_type": "stream",
     "text": [
      "116/121 [===========================>..] - ETA: 0s - loss: 0.6391 - acc: 0.6610\n",
      "Epoch 2: val_loss improved from 0.63966 to 0.62776, saving model to ../results/timeseries-baseline/GRU-128-los_3-best_model.hdf5\n",
      "121/121 [==============================] - 0s 3ms/step - loss: 0.6379 - acc: 0.6621 - val_loss: 0.6278 - val_acc: 0.6730\n",
      "Epoch 3/100\n",
      "107/121 [=========================>....] - ETA: 0s - loss: 0.6264 - acc: 0.6662\n",
      "Epoch 3: val_loss did not improve from 0.62776\n",
      "121/121 [==============================] - 0s 3ms/step - loss: 0.6274 - acc: 0.6653 - val_loss: 0.6290 - val_acc: 0.6599\n",
      "Epoch 4/100\n",
      "119/121 [============================>.] - ETA: 0s - loss: 0.6155 - acc: 0.6765\n",
      "Epoch 4: val_loss improved from 0.62776 to 0.61834, saving model to ../results/timeseries-baseline/GRU-128-los_3-best_model.hdf5\n",
      "121/121 [==============================] - 0s 3ms/step - loss: 0.6155 - acc: 0.6759 - val_loss: 0.6183 - val_acc: 0.6649\n",
      "Epoch 5/100\n",
      "120/121 [============================>.] - ETA: 0s - loss: 0.6040 - acc: 0.6812\n",
      "Epoch 5: val_loss improved from 0.61834 to 0.61771, saving model to ../results/timeseries-baseline/GRU-128-los_3-best_model.hdf5\n",
      "121/121 [==============================] - 0s 3ms/step - loss: 0.6041 - acc: 0.6808 - val_loss: 0.6177 - val_acc: 0.6653\n",
      "Epoch 6/100\n",
      "108/121 [=========================>....] - ETA: 0s - loss: 0.5901 - acc: 0.6982\n",
      "Epoch 6: val_loss improved from 0.61771 to 0.61407, saving model to ../results/timeseries-baseline/GRU-128-los_3-best_model.hdf5\n",
      "121/121 [==============================] - 0s 3ms/step - loss: 0.5913 - acc: 0.6986 - val_loss: 0.6141 - val_acc: 0.6689\n",
      "Epoch 7/100\n",
      "112/121 [==========================>...] - ETA: 0s - loss: 0.5781 - acc: 0.7065\n",
      "Epoch 7: val_loss did not improve from 0.61407\n",
      "121/121 [==============================] - 0s 3ms/step - loss: 0.5783 - acc: 0.7063 - val_loss: 0.6185 - val_acc: 0.6730\n",
      "Epoch 8/100\n",
      "106/121 [=========================>....] - ETA: 0s - loss: 0.5600 - acc: 0.7260\n",
      "Epoch 8: val_loss did not improve from 0.61407\n",
      "121/121 [==============================] - 0s 3ms/step - loss: 0.5631 - acc: 0.7234 - val_loss: 0.6213 - val_acc: 0.6712\n",
      "Epoch 9/100\n",
      "107/121 [=========================>....] - ETA: 0s - loss: 0.5408 - acc: 0.7353\n",
      "Epoch 9: val_loss did not improve from 0.61407\n",
      "121/121 [==============================] - 0s 3ms/step - loss: 0.5419 - acc: 0.7348 - val_loss: 0.6289 - val_acc: 0.6689\n",
      "138/138 [==============================] - 0s 923us/step\n",
      "0.6878473800265952 0.629468795837858 0.6486609169314571 0.5661434977578474\n"
     ]
    },
    {
     "name": "stderr",
     "output_type": "stream",
     "text": [
      "2023-11-13 00:05:09.452534: I tensorflow/core/common_runtime/gpu/gpu_device.cc:1886] Created device /job:localhost/replica:0/task:0/device:GPU:0 with 13074 MB memory:  -> device: 0, name: Quadro RTX 5000, pci bus id: 0000:2b:00.0, compute capability: 7.5\n",
      "2023-11-13 00:05:09.464585: I tensorflow/core/common_runtime/gpu/gpu_device.cc:1886] Created device /job:localhost/replica:0/task:0/device:GPU:0 with 13074 MB memory:  -> device: 0, name: Quadro RTX 5000, pci bus id: 0000:2b:00.0, compute capability: 7.5\n"
     ]
    },
    {
     "name": "stdout",
     "output_type": "stream",
     "text": [
      "Problem type:  los_7\n",
      "__________________\n",
      "Epoch 1/100\n",
      "119/121 [============================>.] - ETA: 0s - loss: 0.3373 - acc: 0.8841\n",
      "Epoch 1: val_loss improved from inf to 0.26887, saving model to ../results/timeseries-baseline/GRU-128-los_7-best_model.hdf5\n",
      "121/121 [==============================] - 1s 5ms/step - loss: 0.3358 - acc: 0.8851 - val_loss: 0.2689 - val_acc: 0.9233\n",
      "Epoch 2/100\n",
      " 66/121 [===============>..............] - ETA: 0s - loss: 0.2585 - acc: 0.9219"
     ]
    },
    {
     "name": "stderr",
     "output_type": "stream",
     "text": [
      "/data/apps/miniforge3/envs/cse6250-project/lib/python3.9/site-packages/keras/src/engine/training.py:3079: UserWarning: You are saving your model as an HDF5 file via `model.save()`. This file format is considered legacy. We recommend using instead the native Keras format, e.g. `model.save('my_model.keras')`.\n",
      "  saving_api.save_model(\n"
     ]
    },
    {
     "name": "stdout",
     "output_type": "stream",
     "text": [
      "109/121 [==========================>...] - ETA: 0s - loss: 0.2585 - acc: 0.9223\n",
      "Epoch 2: val_loss improved from 0.26887 to 0.26313, saving model to ../results/timeseries-baseline/GRU-128-los_7-best_model.hdf5\n",
      "121/121 [==============================] - 0s 3ms/step - loss: 0.2595 - acc: 0.9216 - val_loss: 0.2631 - val_acc: 0.9223\n",
      "Epoch 3/100\n",
      "110/121 [==========================>...] - ETA: 0s - loss: 0.2513 - acc: 0.9225\n",
      "Epoch 3: val_loss improved from 0.26313 to 0.25972, saving model to ../results/timeseries-baseline/GRU-128-los_7-best_model.hdf5\n",
      "121/121 [==============================] - 0s 3ms/step - loss: 0.2510 - acc: 0.9220 - val_loss: 0.2597 - val_acc: 0.9219\n",
      "Epoch 4/100\n",
      "115/121 [===========================>..] - ETA: 0s - loss: 0.2445 - acc: 0.9221\n",
      "Epoch 4: val_loss improved from 0.25972 to 0.25747, saving model to ../results/timeseries-baseline/GRU-128-los_7-best_model.hdf5\n",
      "121/121 [==============================] - 0s 3ms/step - loss: 0.2431 - acc: 0.9226 - val_loss: 0.2575 - val_acc: 0.9237\n",
      "Epoch 5/100\n",
      "113/121 [===========================>..] - ETA: 0s - loss: 0.2359 - acc: 0.9244\n",
      "Epoch 5: val_loss improved from 0.25747 to 0.25586, saving model to ../results/timeseries-baseline/GRU-128-los_7-best_model.hdf5\n",
      "121/121 [==============================] - 0s 3ms/step - loss: 0.2373 - acc: 0.9237 - val_loss: 0.2559 - val_acc: 0.9219\n",
      "Epoch 6/100\n",
      "118/121 [============================>.] - ETA: 0s - loss: 0.2316 - acc: 0.9232\n",
      "Epoch 6: val_loss did not improve from 0.25586\n",
      "121/121 [==============================] - 0s 3ms/step - loss: 0.2318 - acc: 0.9233 - val_loss: 0.2590 - val_acc: 0.9210\n",
      "Epoch 7/100\n",
      "106/121 [=========================>....] - ETA: 0s - loss: 0.2195 - acc: 0.9268\n",
      "Epoch 7: val_loss did not improve from 0.25586\n",
      "121/121 [==============================] - 0s 3ms/step - loss: 0.2229 - acc: 0.9260 - val_loss: 0.2575 - val_acc: 0.9223\n",
      "Epoch 8/100\n",
      "107/121 [=========================>....] - ETA: 0s - loss: 0.2151 - acc: 0.9278\n",
      "Epoch 8: val_loss did not improve from 0.25586\n",
      "121/121 [==============================] - 0s 3ms/step - loss: 0.2161 - acc: 0.9278 - val_loss: 0.2669 - val_acc: 0.9142\n",
      "138/138 [==============================] - 0s 905us/step\n",
      "0.7507178526841447 0.22368930501188894 0.9178393100317749 0.05235602094240837\n"
     ]
    },
    {
     "name": "stderr",
     "output_type": "stream",
     "text": [
      "2023-11-13 00:05:15.929278: I tensorflow/core/common_runtime/gpu/gpu_device.cc:1886] Created device /job:localhost/replica:0/task:0/device:GPU:0 with 13074 MB memory:  -> device: 0, name: Quadro RTX 5000, pci bus id: 0000:2b:00.0, compute capability: 7.5\n",
      "2023-11-13 00:05:15.938247: I tensorflow/core/common_runtime/gpu/gpu_device.cc:1886] Created device /job:localhost/replica:0/task:0/device:GPU:0 with 13074 MB memory:  -> device: 0, name: Quadro RTX 5000, pci bus id: 0000:2b:00.0, compute capability: 7.5\n"
     ]
    },
    {
     "name": "stdout",
     "output_type": "stream",
     "text": [
      "Iteration number:  6\n",
      "=============================\n",
      "Problem type:  mort_hosp\n",
      "__________________\n",
      "Epoch 1/100\n",
      "114/121 [===========================>..] - ETA: 0s - loss: 0.3261 - acc: 0.8792\n",
      "Epoch 1: val_loss improved from inf to 0.25024, saving model to ../results/timeseries-baseline/GRU-128-mort_hosp-best_model.hdf5\n",
      "121/121 [==============================] - 1s 5ms/step - loss: 0.3227 - acc: 0.8807 - val_loss: 0.2502 - val_acc: 0.9114\n",
      "Epoch 2/100\n",
      " 67/121 [===============>..............] - ETA: 0s - loss: 0.2511 - acc: 0.9116"
     ]
    },
    {
     "name": "stderr",
     "output_type": "stream",
     "text": [
      "/data/apps/miniforge3/envs/cse6250-project/lib/python3.9/site-packages/keras/src/engine/training.py:3079: UserWarning: You are saving your model as an HDF5 file via `model.save()`. This file format is considered legacy. We recommend using instead the native Keras format, e.g. `model.save('my_model.keras')`.\n",
      "  saving_api.save_model(\n"
     ]
    },
    {
     "name": "stdout",
     "output_type": "stream",
     "text": [
      "107/121 [=========================>....] - ETA: 0s - loss: 0.2480 - acc: 0.9133\n",
      "Epoch 2: val_loss improved from 0.25024 to 0.24194, saving model to ../results/timeseries-baseline/GRU-128-mort_hosp-best_model.hdf5\n",
      "121/121 [==============================] - 0s 3ms/step - loss: 0.2499 - acc: 0.9122 - val_loss: 0.2419 - val_acc: 0.9183\n",
      "Epoch 3/100\n",
      "109/121 [==========================>...] - ETA: 0s - loss: 0.2331 - acc: 0.9169\n",
      "Epoch 3: val_loss improved from 0.24194 to 0.23367, saving model to ../results/timeseries-baseline/GRU-128-mort_hosp-best_model.hdf5\n",
      "121/121 [==============================] - 0s 3ms/step - loss: 0.2338 - acc: 0.9167 - val_loss: 0.2337 - val_acc: 0.9169\n",
      "Epoch 4/100\n",
      "115/121 [===========================>..] - ETA: 0s - loss: 0.2245 - acc: 0.9198\n",
      "Epoch 4: val_loss did not improve from 0.23367\n",
      "121/121 [==============================] - 0s 3ms/step - loss: 0.2243 - acc: 0.9201 - val_loss: 0.2413 - val_acc: 0.9083\n",
      "Epoch 5/100\n",
      "108/121 [=========================>....] - ETA: 0s - loss: 0.2156 - acc: 0.9230\n",
      "Epoch 5: val_loss did not improve from 0.23367\n",
      "121/121 [==============================] - 0s 3ms/step - loss: 0.2129 - acc: 0.9239 - val_loss: 0.2371 - val_acc: 0.9137\n",
      "Epoch 6/100\n",
      "115/121 [===========================>..] - ETA: 0s - loss: 0.2035 - acc: 0.9272\n",
      "Epoch 6: val_loss did not improve from 0.23367\n",
      "121/121 [==============================] - 0s 3ms/step - loss: 0.2041 - acc: 0.9268 - val_loss: 0.2360 - val_acc: 0.9142\n",
      "138/138 [==============================] - 0s 875us/step\n",
      "0.880160502325269 0.561699667363682 0.9130730821606899 0.40620155038759687\n"
     ]
    },
    {
     "name": "stderr",
     "output_type": "stream",
     "text": [
      "2023-11-13 00:05:21.519297: I tensorflow/core/common_runtime/gpu/gpu_device.cc:1886] Created device /job:localhost/replica:0/task:0/device:GPU:0 with 13074 MB memory:  -> device: 0, name: Quadro RTX 5000, pci bus id: 0000:2b:00.0, compute capability: 7.5\n",
      "2023-11-13 00:05:21.531109: I tensorflow/core/common_runtime/gpu/gpu_device.cc:1886] Created device /job:localhost/replica:0/task:0/device:GPU:0 with 13074 MB memory:  -> device: 0, name: Quadro RTX 5000, pci bus id: 0000:2b:00.0, compute capability: 7.5\n"
     ]
    },
    {
     "name": "stdout",
     "output_type": "stream",
     "text": [
      "Problem type:  mort_icu\n",
      "__________________\n",
      "Epoch 1/100\n",
      "119/121 [============================>.] - ETA: 0s - loss: 0.2658 - acc: 0.9091\n",
      "Epoch 1: val_loss improved from inf to 0.18639, saving model to ../results/timeseries-baseline/GRU-128-mort_icu-best_model.hdf5\n",
      "121/121 [==============================] - 1s 5ms/step - loss: 0.2648 - acc: 0.9093 - val_loss: 0.1864 - val_acc: 0.9360\n",
      "Epoch 2/100\n",
      " 60/121 [=============>................] - ETA: 0s - loss: 0.1756 - acc: 0.9451"
     ]
    },
    {
     "name": "stderr",
     "output_type": "stream",
     "text": [
      "/data/apps/miniforge3/envs/cse6250-project/lib/python3.9/site-packages/keras/src/engine/training.py:3079: UserWarning: You are saving your model as an HDF5 file via `model.save()`. This file format is considered legacy. We recommend using instead the native Keras format, e.g. `model.save('my_model.keras')`.\n",
      "  saving_api.save_model(\n"
     ]
    },
    {
     "name": "stdout",
     "output_type": "stream",
     "text": [
      "103/121 [========================>.....] - ETA: 0s - loss: 0.1836 - acc: 0.9416\n",
      "Epoch 2: val_loss improved from 0.18639 to 0.17645, saving model to ../results/timeseries-baseline/GRU-128-mort_icu-best_model.hdf5\n",
      "121/121 [==============================] - 0s 3ms/step - loss: 0.1836 - acc: 0.9414 - val_loss: 0.1764 - val_acc: 0.9423\n",
      "Epoch 3/100\n",
      "112/121 [==========================>...] - ETA: 0s - loss: 0.1713 - acc: 0.9420\n",
      "Epoch 3: val_loss improved from 0.17645 to 0.17040, saving model to ../results/timeseries-baseline/GRU-128-mort_icu-best_model.hdf5\n",
      "121/121 [==============================] - 0s 3ms/step - loss: 0.1699 - acc: 0.9427 - val_loss: 0.1704 - val_acc: 0.9450\n",
      "Epoch 4/100\n",
      "108/121 [=========================>....] - ETA: 0s - loss: 0.1596 - acc: 0.9465\n",
      "Epoch 4: val_loss improved from 0.17040 to 0.16611, saving model to ../results/timeseries-baseline/GRU-128-mort_icu-best_model.hdf5\n",
      "121/121 [==============================] - 0s 3ms/step - loss: 0.1599 - acc: 0.9465 - val_loss: 0.1661 - val_acc: 0.9446\n",
      "Epoch 5/100\n",
      "115/121 [===========================>..] - ETA: 0s - loss: 0.1512 - acc: 0.9501\n",
      "Epoch 5: val_loss did not improve from 0.16611\n",
      "121/121 [==============================] - 0s 3ms/step - loss: 0.1519 - acc: 0.9496 - val_loss: 0.1717 - val_acc: 0.9441\n",
      "Epoch 6/100\n",
      "112/121 [==========================>...] - ETA: 0s - loss: 0.1426 - acc: 0.9509\n",
      "Epoch 6: val_loss did not improve from 0.16611\n",
      "121/121 [==============================] - 0s 3ms/step - loss: 0.1442 - acc: 0.9497 - val_loss: 0.1673 - val_acc: 0.9405\n",
      "Epoch 7/100\n",
      "104/121 [========================>.....] - ETA: 0s - loss: 0.1343 - acc: 0.9546\n",
      "Epoch 7: val_loss did not improve from 0.16611\n",
      "121/121 [==============================] - 0s 3ms/step - loss: 0.1340 - acc: 0.9547 - val_loss: 0.1676 - val_acc: 0.9423\n",
      "138/138 [==============================] - 0s 880us/step\n",
      "0.8956629813155708 0.5211976662168298 0.9418974126191557 0.43362831858407086\n"
     ]
    },
    {
     "name": "stderr",
     "output_type": "stream",
     "text": [
      "2023-11-13 00:05:27.630297: I tensorflow/core/common_runtime/gpu/gpu_device.cc:1886] Created device /job:localhost/replica:0/task:0/device:GPU:0 with 13074 MB memory:  -> device: 0, name: Quadro RTX 5000, pci bus id: 0000:2b:00.0, compute capability: 7.5\n",
      "2023-11-13 00:05:27.640061: I tensorflow/core/common_runtime/gpu/gpu_device.cc:1886] Created device /job:localhost/replica:0/task:0/device:GPU:0 with 13074 MB memory:  -> device: 0, name: Quadro RTX 5000, pci bus id: 0000:2b:00.0, compute capability: 7.5\n"
     ]
    },
    {
     "name": "stdout",
     "output_type": "stream",
     "text": [
      "Problem type:  los_3\n",
      "__________________\n",
      "Epoch 1/100\n",
      "102/121 [========================>.....] - ETA: 0s - loss: 0.6650 - acc: 0.6371\n",
      "Epoch 1: val_loss improved from inf to 0.63980, saving model to ../results/timeseries-baseline/GRU-128-los_3-best_model.hdf5\n",
      "121/121 [==============================] - 1s 5ms/step - loss: 0.6625 - acc: 0.6396 - val_loss: 0.6398 - val_acc: 0.6621\n",
      "Epoch 2/100\n",
      " 62/121 [==============>...............] - ETA: 0s - loss: 0.6386 - acc: 0.6600"
     ]
    },
    {
     "name": "stderr",
     "output_type": "stream",
     "text": [
      "/data/apps/miniforge3/envs/cse6250-project/lib/python3.9/site-packages/keras/src/engine/training.py:3079: UserWarning: You are saving your model as an HDF5 file via `model.save()`. This file format is considered legacy. We recommend using instead the native Keras format, e.g. `model.save('my_model.keras')`.\n",
      "  saving_api.save_model(\n"
     ]
    },
    {
     "name": "stdout",
     "output_type": "stream",
     "text": [
      "111/121 [==========================>...] - ETA: 0s - loss: 0.6397 - acc: 0.6579\n",
      "Epoch 2: val_loss improved from 0.63980 to 0.62486, saving model to ../results/timeseries-baseline/GRU-128-los_3-best_model.hdf5\n",
      "121/121 [==============================] - 0s 3ms/step - loss: 0.6389 - acc: 0.6591 - val_loss: 0.6249 - val_acc: 0.6721\n",
      "Epoch 3/100\n",
      "104/121 [========================>.....] - ETA: 0s - loss: 0.6270 - acc: 0.6674\n",
      "Epoch 3: val_loss improved from 0.62486 to 0.62001, saving model to ../results/timeseries-baseline/GRU-128-los_3-best_model.hdf5\n",
      "121/121 [==============================] - 0s 3ms/step - loss: 0.6255 - acc: 0.6692 - val_loss: 0.6200 - val_acc: 0.6667\n",
      "Epoch 4/100\n",
      "115/121 [===========================>..] - ETA: 0s - loss: 0.6159 - acc: 0.6743\n",
      "Epoch 4: val_loss improved from 0.62001 to 0.61833, saving model to ../results/timeseries-baseline/GRU-128-los_3-best_model.hdf5\n",
      "121/121 [==============================] - 0s 3ms/step - loss: 0.6153 - acc: 0.6752 - val_loss: 0.6183 - val_acc: 0.6662\n",
      "Epoch 5/100\n",
      "112/121 [==========================>...] - ETA: 0s - loss: 0.6054 - acc: 0.6862\n",
      "Epoch 5: val_loss improved from 0.61833 to 0.61026, saving model to ../results/timeseries-baseline/GRU-128-los_3-best_model.hdf5\n",
      "121/121 [==============================] - 0s 3ms/step - loss: 0.6046 - acc: 0.6864 - val_loss: 0.6103 - val_acc: 0.6798\n",
      "Epoch 6/100\n",
      "111/121 [==========================>...] - ETA: 0s - loss: 0.5936 - acc: 0.6946\n",
      "Epoch 6: val_loss did not improve from 0.61026\n",
      "121/121 [==============================] - 0s 3ms/step - loss: 0.5935 - acc: 0.6947 - val_loss: 0.6194 - val_acc: 0.6621\n",
      "Epoch 7/100\n",
      "120/121 [============================>.] - ETA: 0s - loss: 0.5819 - acc: 0.7059\n",
      "Epoch 7: val_loss did not improve from 0.61026\n",
      "121/121 [==============================] - 0s 3ms/step - loss: 0.5821 - acc: 0.7054 - val_loss: 0.6196 - val_acc: 0.6612\n",
      "Epoch 8/100\n",
      "114/121 [===========================>..] - ETA: 0s - loss: 0.5660 - acc: 0.7143\n",
      "Epoch 8: val_loss did not improve from 0.61026\n",
      "121/121 [==============================] - 0s 3ms/step - loss: 0.5659 - acc: 0.7141 - val_loss: 0.6276 - val_acc: 0.6694\n",
      "138/138 [==============================] - 0s 885us/step\n",
      "0.6947237581847867 0.6324158533607425 0.6593281888334089 0.5658085044836564\n"
     ]
    },
    {
     "name": "stderr",
     "output_type": "stream",
     "text": [
      "2023-11-13 00:05:34.164647: I tensorflow/core/common_runtime/gpu/gpu_device.cc:1886] Created device /job:localhost/replica:0/task:0/device:GPU:0 with 13074 MB memory:  -> device: 0, name: Quadro RTX 5000, pci bus id: 0000:2b:00.0, compute capability: 7.5\n",
      "2023-11-13 00:05:34.173878: I tensorflow/core/common_runtime/gpu/gpu_device.cc:1886] Created device /job:localhost/replica:0/task:0/device:GPU:0 with 13074 MB memory:  -> device: 0, name: Quadro RTX 5000, pci bus id: 0000:2b:00.0, compute capability: 7.5\n"
     ]
    },
    {
     "name": "stdout",
     "output_type": "stream",
     "text": [
      "Problem type:  los_7\n",
      "__________________\n",
      "Epoch 1/100\n",
      "120/121 [============================>.] - ETA: 0s - loss: 0.3336 - acc: 0.8866\n",
      "Epoch 1: val_loss improved from inf to 0.26823, saving model to ../results/timeseries-baseline/GRU-128-los_7-best_model.hdf5\n",
      "121/121 [==============================] - 1s 5ms/step - loss: 0.3336 - acc: 0.8867 - val_loss: 0.2682 - val_acc: 0.9219\n",
      "Epoch 2/100\n",
      " 66/121 [===============>..............] - ETA: 0s - loss: 0.2669 - acc: 0.9200"
     ]
    },
    {
     "name": "stderr",
     "output_type": "stream",
     "text": [
      "/data/apps/miniforge3/envs/cse6250-project/lib/python3.9/site-packages/keras/src/engine/training.py:3079: UserWarning: You are saving your model as an HDF5 file via `model.save()`. This file format is considered legacy. We recommend using instead the native Keras format, e.g. `model.save('my_model.keras')`.\n",
      "  saving_api.save_model(\n"
     ]
    },
    {
     "name": "stdout",
     "output_type": "stream",
     "text": [
      "101/121 [========================>.....] - ETA: 0s - loss: 0.2607 - acc: 0.9220\n",
      "Epoch 2: val_loss improved from 0.26823 to 0.26423, saving model to ../results/timeseries-baseline/GRU-128-los_7-best_model.hdf5\n",
      "121/121 [==============================] - 0s 3ms/step - loss: 0.2618 - acc: 0.9214 - val_loss: 0.2642 - val_acc: 0.9205\n",
      "Epoch 3/100\n",
      "113/121 [===========================>..] - ETA: 0s - loss: 0.2510 - acc: 0.9226\n",
      "Epoch 3: val_loss improved from 0.26423 to 0.25915, saving model to ../results/timeseries-baseline/GRU-128-los_7-best_model.hdf5\n",
      "121/121 [==============================] - 0s 3ms/step - loss: 0.2515 - acc: 0.9223 - val_loss: 0.2592 - val_acc: 0.9210\n",
      "Epoch 4/100\n",
      "105/121 [=========================>....] - ETA: 0s - loss: 0.2461 - acc: 0.9211\n",
      "Epoch 4: val_loss improved from 0.25915 to 0.25890, saving model to ../results/timeseries-baseline/GRU-128-los_7-best_model.hdf5\n",
      "121/121 [==============================] - 0s 3ms/step - loss: 0.2445 - acc: 0.9217 - val_loss: 0.2589 - val_acc: 0.9205\n",
      "Epoch 5/100\n",
      "113/121 [===========================>..] - ETA: 0s - loss: 0.2358 - acc: 0.9240\n",
      "Epoch 5: val_loss improved from 0.25890 to 0.25655, saving model to ../results/timeseries-baseline/GRU-128-los_7-best_model.hdf5\n",
      "121/121 [==============================] - 0s 3ms/step - loss: 0.2372 - acc: 0.9235 - val_loss: 0.2566 - val_acc: 0.9210\n",
      "Epoch 6/100\n",
      "109/121 [==========================>...] - ETA: 0s - loss: 0.2280 - acc: 0.9249\n",
      "Epoch 6: val_loss did not improve from 0.25655\n",
      "121/121 [==============================] - 0s 3ms/step - loss: 0.2308 - acc: 0.9241 - val_loss: 0.2592 - val_acc: 0.9183\n",
      "Epoch 7/100\n",
      "113/121 [===========================>..] - ETA: 0s - loss: 0.2265 - acc: 0.9268\n",
      "Epoch 7: val_loss did not improve from 0.25655\n",
      "121/121 [==============================] - 0s 3ms/step - loss: 0.2248 - acc: 0.9268 - val_loss: 0.2653 - val_acc: 0.9192\n",
      "Epoch 8/100\n",
      "107/121 [=========================>....] - ETA: 0s - loss: 0.2165 - acc: 0.9305\n",
      "Epoch 8: val_loss did not improve from 0.25655\n",
      "121/121 [==============================] - 0s 3ms/step - loss: 0.2171 - acc: 0.9300 - val_loss: 0.2622 - val_acc: 0.9183\n",
      "138/138 [==============================] - 0s 851us/step\n",
      "0.736494659453461 0.21596583516724682 0.9189741261915569 0.06788511749347259\n"
     ]
    },
    {
     "name": "stderr",
     "output_type": "stream",
     "text": [
      "2023-11-13 00:05:40.585113: I tensorflow/core/common_runtime/gpu/gpu_device.cc:1886] Created device /job:localhost/replica:0/task:0/device:GPU:0 with 13074 MB memory:  -> device: 0, name: Quadro RTX 5000, pci bus id: 0000:2b:00.0, compute capability: 7.5\n",
      "2023-11-13 00:05:40.593793: I tensorflow/core/common_runtime/gpu/gpu_device.cc:1886] Created device /job:localhost/replica:0/task:0/device:GPU:0 with 13074 MB memory:  -> device: 0, name: Quadro RTX 5000, pci bus id: 0000:2b:00.0, compute capability: 7.5\n"
     ]
    },
    {
     "name": "stdout",
     "output_type": "stream",
     "text": [
      "Iteration number:  7\n",
      "=============================\n",
      "Problem type:  mort_hosp\n",
      "__________________\n",
      "Epoch 1/100\n",
      "105/121 [=========================>....] - ETA: 0s - loss: 0.3284 - acc: 0.8773\n",
      "Epoch 1: val_loss improved from inf to 0.25362, saving model to ../results/timeseries-baseline/GRU-128-mort_hosp-best_model.hdf5\n",
      "121/121 [==============================] - 1s 5ms/step - loss: 0.3199 - acc: 0.8813 - val_loss: 0.2536 - val_acc: 0.9142\n",
      "Epoch 2/100\n",
      " 66/121 [===============>..............] - ETA: 0s - loss: 0.2489 - acc: 0.9132"
     ]
    },
    {
     "name": "stderr",
     "output_type": "stream",
     "text": [
      "/data/apps/miniforge3/envs/cse6250-project/lib/python3.9/site-packages/keras/src/engine/training.py:3079: UserWarning: You are saving your model as an HDF5 file via `model.save()`. This file format is considered legacy. We recommend using instead the native Keras format, e.g. `model.save('my_model.keras')`.\n",
      "  saving_api.save_model(\n"
     ]
    },
    {
     "name": "stdout",
     "output_type": "stream",
     "text": [
      "110/121 [==========================>...] - ETA: 0s - loss: 0.2469 - acc: 0.9138\n",
      "Epoch 2: val_loss improved from 0.25362 to 0.24772, saving model to ../results/timeseries-baseline/GRU-128-mort_hosp-best_model.hdf5\n",
      "121/121 [==============================] - 0s 3ms/step - loss: 0.2486 - acc: 0.9134 - val_loss: 0.2477 - val_acc: 0.9114\n",
      "Epoch 3/100\n",
      "108/121 [=========================>....] - ETA: 0s - loss: 0.2295 - acc: 0.9181\n",
      "Epoch 3: val_loss improved from 0.24772 to 0.24081, saving model to ../results/timeseries-baseline/GRU-128-mort_hosp-best_model.hdf5\n",
      "121/121 [==============================] - 0s 3ms/step - loss: 0.2332 - acc: 0.9181 - val_loss: 0.2408 - val_acc: 0.9128\n",
      "Epoch 4/100\n",
      "102/121 [========================>.....] - ETA: 0s - loss: 0.2234 - acc: 0.9210\n",
      "Epoch 4: val_loss improved from 0.24081 to 0.23436, saving model to ../results/timeseries-baseline/GRU-128-mort_hosp-best_model.hdf5\n",
      "121/121 [==============================] - 0s 3ms/step - loss: 0.2248 - acc: 0.9199 - val_loss: 0.2344 - val_acc: 0.9105\n",
      "Epoch 5/100\n",
      "108/121 [=========================>....] - ETA: 0s - loss: 0.2139 - acc: 0.9225\n",
      "Epoch 5: val_loss did not improve from 0.23436\n",
      "121/121 [==============================] - 0s 3ms/step - loss: 0.2129 - acc: 0.9228 - val_loss: 0.2373 - val_acc: 0.9101\n",
      "Epoch 6/100\n",
      "119/121 [============================>.] - ETA: 0s - loss: 0.2048 - acc: 0.9270\n",
      "Epoch 6: val_loss did not improve from 0.23436\n",
      "121/121 [==============================] - 0s 3ms/step - loss: 0.2043 - acc: 0.9270 - val_loss: 0.2375 - val_acc: 0.9101\n",
      "Epoch 7/100\n",
      "118/121 [============================>.] - ETA: 0s - loss: 0.1933 - acc: 0.9327\n",
      "Epoch 7: val_loss did not improve from 0.23436\n",
      "121/121 [==============================] - 0s 3ms/step - loss: 0.1933 - acc: 0.9328 - val_loss: 0.2374 - val_acc: 0.9124\n",
      "138/138 [==============================] - 0s 933us/step\n",
      "0.8768698688783305 0.549328325057395 0.9105764866091693 0.40840840840840836\n"
     ]
    },
    {
     "name": "stderr",
     "output_type": "stream",
     "text": [
      "2023-11-13 00:05:46.842709: I tensorflow/core/common_runtime/gpu/gpu_device.cc:1886] Created device /job:localhost/replica:0/task:0/device:GPU:0 with 13074 MB memory:  -> device: 0, name: Quadro RTX 5000, pci bus id: 0000:2b:00.0, compute capability: 7.5\n",
      "2023-11-13 00:05:46.852926: I tensorflow/core/common_runtime/gpu/gpu_device.cc:1886] Created device /job:localhost/replica:0/task:0/device:GPU:0 with 13074 MB memory:  -> device: 0, name: Quadro RTX 5000, pci bus id: 0000:2b:00.0, compute capability: 7.5\n"
     ]
    },
    {
     "name": "stdout",
     "output_type": "stream",
     "text": [
      "Problem type:  mort_icu\n",
      "__________________\n",
      "Epoch 1/100\n",
      "116/121 [===========================>..] - ETA: 0s - loss: 0.2671 - acc: 0.9048\n",
      "Epoch 1: val_loss improved from inf to 0.18303, saving model to ../results/timeseries-baseline/GRU-128-mort_icu-best_model.hdf5\n",
      "121/121 [==============================] - 1s 5ms/step - loss: 0.2639 - acc: 0.9063 - val_loss: 0.1830 - val_acc: 0.9391\n",
      "Epoch 2/100\n",
      " 65/121 [===============>..............] - ETA: 0s - loss: 0.1891 - acc: 0.9401"
     ]
    },
    {
     "name": "stderr",
     "output_type": "stream",
     "text": [
      "/data/apps/miniforge3/envs/cse6250-project/lib/python3.9/site-packages/keras/src/engine/training.py:3079: UserWarning: You are saving your model as an HDF5 file via `model.save()`. This file format is considered legacy. We recommend using instead the native Keras format, e.g. `model.save('my_model.keras')`.\n",
      "  saving_api.save_model(\n"
     ]
    },
    {
     "name": "stdout",
     "output_type": "stream",
     "text": [
      "118/121 [============================>.] - ETA: 0s - loss: 0.1854 - acc: 0.9413\n",
      "Epoch 2: val_loss improved from 0.18303 to 0.17688, saving model to ../results/timeseries-baseline/GRU-128-mort_icu-best_model.hdf5\n",
      "121/121 [==============================] - 0s 3ms/step - loss: 0.1855 - acc: 0.9410 - val_loss: 0.1769 - val_acc: 0.9414\n",
      "Epoch 3/100\n",
      "113/121 [===========================>..] - ETA: 0s - loss: 0.1723 - acc: 0.9441\n",
      "Epoch 3: val_loss improved from 0.17688 to 0.17028, saving model to ../results/timeseries-baseline/GRU-128-mort_icu-best_model.hdf5\n",
      "121/121 [==============================] - 0s 3ms/step - loss: 0.1708 - acc: 0.9448 - val_loss: 0.1703 - val_acc: 0.9446\n",
      "Epoch 4/100\n",
      "115/121 [===========================>..] - ETA: 0s - loss: 0.1619 - acc: 0.9475\n",
      "Epoch 4: val_loss improved from 0.17028 to 0.17028, saving model to ../results/timeseries-baseline/GRU-128-mort_icu-best_model.hdf5\n",
      "121/121 [==============================] - 0s 3ms/step - loss: 0.1624 - acc: 0.9470 - val_loss: 0.1703 - val_acc: 0.9446\n",
      "Epoch 5/100\n",
      "118/121 [============================>.] - ETA: 0s - loss: 0.1522 - acc: 0.9490\n",
      "Epoch 5: val_loss did not improve from 0.17028\n",
      "121/121 [==============================] - 0s 3ms/step - loss: 0.1519 - acc: 0.9491 - val_loss: 0.1710 - val_acc: 0.9423\n",
      "Epoch 6/100\n",
      "116/121 [===========================>..] - ETA: 0s - loss: 0.1446 - acc: 0.9505\n",
      "Epoch 6: val_loss did not improve from 0.17028\n",
      "121/121 [==============================] - 0s 3ms/step - loss: 0.1438 - acc: 0.9506 - val_loss: 0.1726 - val_acc: 0.9464\n",
      "Epoch 7/100\n",
      " 99/121 [=======================>......] - ETA: 0s - loss: 0.1305 - acc: 0.9556\n",
      "Epoch 7: val_loss improved from 0.17028 to 0.16870, saving model to ../results/timeseries-baseline/GRU-128-mort_icu-best_model.hdf5\n",
      "121/121 [==============================] - 0s 3ms/step - loss: 0.1348 - acc: 0.9540 - val_loss: 0.1687 - val_acc: 0.9387\n",
      "Epoch 8/100\n",
      "114/121 [===========================>..] - ETA: 0s - loss: 0.1244 - acc: 0.9576\n",
      "Epoch 8: val_loss did not improve from 0.16870\n",
      "121/121 [==============================] - 0s 3ms/step - loss: 0.1254 - acc: 0.9573 - val_loss: 0.1706 - val_acc: 0.9423\n",
      "Epoch 9/100\n",
      "112/121 [==========================>...] - ETA: 0s - loss: 0.1140 - acc: 0.9628\n",
      "Epoch 9: val_loss did not improve from 0.16870\n",
      "121/121 [==============================] - 0s 3ms/step - loss: 0.1144 - acc: 0.9626 - val_loss: 0.1811 - val_acc: 0.9414\n",
      "Epoch 10/100\n",
      "119/121 [============================>.] - ETA: 0s - loss: 0.1060 - acc: 0.9656\n",
      "Epoch 10: val_loss did not improve from 0.16870\n",
      "121/121 [==============================] - 0s 3ms/step - loss: 0.1061 - acc: 0.9656 - val_loss: 0.1816 - val_acc: 0.9396\n",
      "138/138 [==============================] - 0s 884us/step\n",
      "0.8895575032807107 0.5079011949948815 0.935088515660463 0.4257028112449799\n"
     ]
    },
    {
     "name": "stderr",
     "output_type": "stream",
     "text": [
      "2023-11-13 00:05:54.460452: I tensorflow/core/common_runtime/gpu/gpu_device.cc:1886] Created device /job:localhost/replica:0/task:0/device:GPU:0 with 13074 MB memory:  -> device: 0, name: Quadro RTX 5000, pci bus id: 0000:2b:00.0, compute capability: 7.5\n",
      "2023-11-13 00:05:54.470396: I tensorflow/core/common_runtime/gpu/gpu_device.cc:1886] Created device /job:localhost/replica:0/task:0/device:GPU:0 with 13074 MB memory:  -> device: 0, name: Quadro RTX 5000, pci bus id: 0000:2b:00.0, compute capability: 7.5\n"
     ]
    },
    {
     "name": "stdout",
     "output_type": "stream",
     "text": [
      "Problem type:  los_3\n",
      "__________________\n",
      "Epoch 1/100\n",
      " 99/121 [=======================>......] - ETA: 0s - loss: 0.6646 - acc: 0.6325\n",
      "Epoch 1: val_loss improved from inf to 0.63644, saving model to ../results/timeseries-baseline/GRU-128-los_3-best_model.hdf5\n",
      "121/121 [==============================] - 1s 5ms/step - loss: 0.6627 - acc: 0.6355 - val_loss: 0.6364 - val_acc: 0.6576\n",
      "Epoch 2/100\n",
      " 70/121 [================>.............] - ETA: 0s - loss: 0.6373 - acc: 0.6592"
     ]
    },
    {
     "name": "stderr",
     "output_type": "stream",
     "text": [
      "/data/apps/miniforge3/envs/cse6250-project/lib/python3.9/site-packages/keras/src/engine/training.py:3079: UserWarning: You are saving your model as an HDF5 file via `model.save()`. This file format is considered legacy. We recommend using instead the native Keras format, e.g. `model.save('my_model.keras')`.\n",
      "  saving_api.save_model(\n"
     ]
    },
    {
     "name": "stdout",
     "output_type": "stream",
     "text": [
      "114/121 [===========================>..] - ETA: 0s - loss: 0.6373 - acc: 0.6602\n",
      "Epoch 2: val_loss did not improve from 0.63644\n",
      "121/121 [==============================] - 0s 3ms/step - loss: 0.6383 - acc: 0.6584 - val_loss: 0.6374 - val_acc: 0.6667\n",
      "Epoch 3/100\n",
      "107/121 [=========================>....] - ETA: 0s - loss: 0.6239 - acc: 0.6696\n",
      "Epoch 3: val_loss improved from 0.63644 to 0.61907, saving model to ../results/timeseries-baseline/GRU-128-los_3-best_model.hdf5\n",
      "121/121 [==============================] - 0s 3ms/step - loss: 0.6253 - acc: 0.6680 - val_loss: 0.6191 - val_acc: 0.6698\n",
      "Epoch 4/100\n",
      "120/121 [============================>.] - ETA: 0s - loss: 0.6133 - acc: 0.6771\n",
      "Epoch 4: val_loss improved from 0.61907 to 0.61576, saving model to ../results/timeseries-baseline/GRU-128-los_3-best_model.hdf5\n",
      "121/121 [==============================] - 0s 3ms/step - loss: 0.6137 - acc: 0.6768 - val_loss: 0.6158 - val_acc: 0.6608\n",
      "Epoch 5/100\n",
      "105/121 [=========================>....] - ETA: 0s - loss: 0.6009 - acc: 0.6853\n",
      "Epoch 5: val_loss did not improve from 0.61576\n",
      "121/121 [==============================] - 0s 3ms/step - loss: 0.6023 - acc: 0.6849 - val_loss: 0.6165 - val_acc: 0.6717\n",
      "Epoch 6/100\n",
      "118/121 [============================>.] - ETA: 0s - loss: 0.5936 - acc: 0.6943\n",
      "Epoch 6: val_loss improved from 0.61576 to 0.61451, saving model to ../results/timeseries-baseline/GRU-128-los_3-best_model.hdf5\n",
      "121/121 [==============================] - 0s 3ms/step - loss: 0.5932 - acc: 0.6948 - val_loss: 0.6145 - val_acc: 0.6689\n",
      "Epoch 7/100\n",
      "117/121 [============================>.] - ETA: 0s - loss: 0.5788 - acc: 0.7061\n",
      "Epoch 7: val_loss did not improve from 0.61451\n",
      "121/121 [==============================] - 0s 3ms/step - loss: 0.5791 - acc: 0.7058 - val_loss: 0.6255 - val_acc: 0.6639\n",
      "Epoch 8/100\n",
      "109/121 [==========================>...] - ETA: 0s - loss: 0.5623 - acc: 0.7188\n",
      "Epoch 8: val_loss did not improve from 0.61451\n",
      "121/121 [==============================] - 0s 3ms/step - loss: 0.5644 - acc: 0.7165 - val_loss: 0.6288 - val_acc: 0.6662\n",
      "Epoch 9/100\n",
      "120/121 [============================>.] - ETA: 0s - loss: 0.5449 - acc: 0.7342\n",
      "Epoch 9: val_loss did not improve from 0.61451\n",
      "121/121 [==============================] - 0s 3ms/step - loss: 0.5452 - acc: 0.7343 - val_loss: 0.6459 - val_acc: 0.6508\n",
      "138/138 [==============================] - 0s 848us/step\n",
      "0.6997180561867731 0.6384535597345257 0.6613708579210168 0.5702764976958526\n"
     ]
    },
    {
     "name": "stderr",
     "output_type": "stream",
     "text": [
      "2023-11-13 00:06:01.430993: I tensorflow/core/common_runtime/gpu/gpu_device.cc:1886] Created device /job:localhost/replica:0/task:0/device:GPU:0 with 13074 MB memory:  -> device: 0, name: Quadro RTX 5000, pci bus id: 0000:2b:00.0, compute capability: 7.5\n",
      "2023-11-13 00:06:01.441677: I tensorflow/core/common_runtime/gpu/gpu_device.cc:1886] Created device /job:localhost/replica:0/task:0/device:GPU:0 with 13074 MB memory:  -> device: 0, name: Quadro RTX 5000, pci bus id: 0000:2b:00.0, compute capability: 7.5\n"
     ]
    },
    {
     "name": "stdout",
     "output_type": "stream",
     "text": [
      "Problem type:  los_7\n",
      "__________________\n",
      "Epoch 1/100\n",
      "114/121 [===========================>..] - ETA: 0s - loss: 0.3366 - acc: 0.8889\n",
      "Epoch 1: val_loss improved from inf to 0.26821, saving model to ../results/timeseries-baseline/GRU-128-los_7-best_model.hdf5\n",
      "121/121 [==============================] - 1s 5ms/step - loss: 0.3330 - acc: 0.8907 - val_loss: 0.2682 - val_acc: 0.9173\n",
      "Epoch 2/100\n",
      " 56/121 [============>.................] - ETA: 0s - loss: 0.2550 - acc: 0.9268"
     ]
    },
    {
     "name": "stderr",
     "output_type": "stream",
     "text": [
      "/data/apps/miniforge3/envs/cse6250-project/lib/python3.9/site-packages/keras/src/engine/training.py:3079: UserWarning: You are saving your model as an HDF5 file via `model.save()`. This file format is considered legacy. We recommend using instead the native Keras format, e.g. `model.save('my_model.keras')`.\n",
      "  saving_api.save_model(\n"
     ]
    },
    {
     "name": "stdout",
     "output_type": "stream",
     "text": [
      "100/121 [=======================>......] - ETA: 0s - loss: 0.2594 - acc: 0.9225\n",
      "Epoch 2: val_loss improved from 0.26821 to 0.26518, saving model to ../results/timeseries-baseline/GRU-128-los_7-best_model.hdf5\n",
      "121/121 [==============================] - 0s 3ms/step - loss: 0.2611 - acc: 0.9214 - val_loss: 0.2652 - val_acc: 0.9201\n",
      "Epoch 3/100\n",
      "119/121 [============================>.] - ETA: 0s - loss: 0.2519 - acc: 0.9213\n",
      "Epoch 3: val_loss improved from 0.26518 to 0.25835, saving model to ../results/timeseries-baseline/GRU-128-los_7-best_model.hdf5\n",
      "121/121 [==============================] - 0s 3ms/step - loss: 0.2516 - acc: 0.9215 - val_loss: 0.2583 - val_acc: 0.9219\n",
      "Epoch 4/100\n",
      "116/121 [===========================>..] - ETA: 0s - loss: 0.2450 - acc: 0.9228\n",
      "Epoch 4: val_loss did not improve from 0.25835\n",
      "121/121 [==============================] - 0s 3ms/step - loss: 0.2444 - acc: 0.9231 - val_loss: 0.2604 - val_acc: 0.9214\n",
      "Epoch 5/100\n",
      "119/121 [============================>.] - ETA: 0s - loss: 0.2372 - acc: 0.9237\n",
      "Epoch 5: val_loss did not improve from 0.25835\n",
      "121/121 [==============================] - 0s 3ms/step - loss: 0.2380 - acc: 0.9234 - val_loss: 0.2584 - val_acc: 0.9219\n",
      "Epoch 6/100\n",
      "110/121 [==========================>...] - ETA: 0s - loss: 0.2315 - acc: 0.9249\n",
      "Epoch 6: val_loss improved from 0.25835 to 0.25663, saving model to ../results/timeseries-baseline/GRU-128-los_7-best_model.hdf5\n",
      "121/121 [==============================] - 0s 3ms/step - loss: 0.2315 - acc: 0.9248 - val_loss: 0.2566 - val_acc: 0.9219\n",
      "Epoch 7/100\n",
      "104/121 [========================>.....] - ETA: 0s - loss: 0.2233 - acc: 0.9271\n",
      "Epoch 7: val_loss did not improve from 0.25663\n",
      "121/121 [==============================] - 0s 3ms/step - loss: 0.2238 - acc: 0.9271 - val_loss: 0.2584 - val_acc: 0.9192\n",
      "Epoch 8/100\n",
      "107/121 [=========================>....] - ETA: 0s - loss: 0.2137 - acc: 0.9293\n",
      "Epoch 8: val_loss did not improve from 0.25663\n",
      "121/121 [==============================] - 0s 3ms/step - loss: 0.2128 - acc: 0.9292 - val_loss: 0.2713 - val_acc: 0.9196\n",
      "Epoch 9/100\n",
      "111/121 [==========================>...] - ETA: 0s - loss: 0.2002 - acc: 0.9335\n",
      "Epoch 9: val_loss did not improve from 0.25663\n",
      "121/121 [==============================] - 0s 3ms/step - loss: 0.2023 - acc: 0.9326 - val_loss: 0.2877 - val_acc: 0.9124\n",
      "138/138 [==============================] - 0s 906us/step\n",
      "0.738023997780552 0.19811759322450503 0.9162505674080799 0.031496062992125984\n"
     ]
    },
    {
     "name": "stderr",
     "output_type": "stream",
     "text": [
      "2023-11-13 00:06:08.454609: I tensorflow/core/common_runtime/gpu/gpu_device.cc:1886] Created device /job:localhost/replica:0/task:0/device:GPU:0 with 13074 MB memory:  -> device: 0, name: Quadro RTX 5000, pci bus id: 0000:2b:00.0, compute capability: 7.5\n",
      "2023-11-13 00:06:08.465888: I tensorflow/core/common_runtime/gpu/gpu_device.cc:1886] Created device /job:localhost/replica:0/task:0/device:GPU:0 with 13074 MB memory:  -> device: 0, name: Quadro RTX 5000, pci bus id: 0000:2b:00.0, compute capability: 7.5\n"
     ]
    },
    {
     "name": "stdout",
     "output_type": "stream",
     "text": [
      "Iteration number:  8\n",
      "=============================\n",
      "Problem type:  mort_hosp\n",
      "__________________\n",
      "Epoch 1/100\n",
      "105/121 [=========================>....] - ETA: 0s - loss: 0.3235 - acc: 0.8794\n",
      "Epoch 1: val_loss improved from inf to 0.25348, saving model to ../results/timeseries-baseline/GRU-128-mort_hosp-best_model.hdf5\n",
      "121/121 [==============================] - 1s 5ms/step - loss: 0.3155 - acc: 0.8824 - val_loss: 0.2535 - val_acc: 0.9114\n",
      "Epoch 2/100\n",
      " 63/121 [==============>...............] - ETA: 0s - loss: 0.2525 - acc: 0.9122"
     ]
    },
    {
     "name": "stderr",
     "output_type": "stream",
     "text": [
      "/data/apps/miniforge3/envs/cse6250-project/lib/python3.9/site-packages/keras/src/engine/training.py:3079: UserWarning: You are saving your model as an HDF5 file via `model.save()`. This file format is considered legacy. We recommend using instead the native Keras format, e.g. `model.save('my_model.keras')`.\n",
      "  saving_api.save_model(\n"
     ]
    },
    {
     "name": "stdout",
     "output_type": "stream",
     "text": [
      "121/121 [==============================] - ETA: 0s - loss: 0.2493 - acc: 0.9129\n",
      "Epoch 2: val_loss improved from 0.25348 to 0.24259, saving model to ../results/timeseries-baseline/GRU-128-mort_hosp-best_model.hdf5\n",
      "121/121 [==============================] - 0s 3ms/step - loss: 0.2493 - acc: 0.9129 - val_loss: 0.2426 - val_acc: 0.9137\n",
      "Epoch 3/100\n",
      "113/121 [===========================>..] - ETA: 0s - loss: 0.2317 - acc: 0.9179\n",
      "Epoch 3: val_loss improved from 0.24259 to 0.23620, saving model to ../results/timeseries-baseline/GRU-128-mort_hosp-best_model.hdf5\n",
      "121/121 [==============================] - 0s 3ms/step - loss: 0.2323 - acc: 0.9180 - val_loss: 0.2362 - val_acc: 0.9151\n",
      "Epoch 4/100\n",
      "119/121 [============================>.] - ETA: 0s - loss: 0.2229 - acc: 0.9199\n",
      "Epoch 4: val_loss improved from 0.23620 to 0.23224, saving model to ../results/timeseries-baseline/GRU-128-mort_hosp-best_model.hdf5\n",
      "121/121 [==============================] - 0s 3ms/step - loss: 0.2235 - acc: 0.9197 - val_loss: 0.2322 - val_acc: 0.9169\n",
      "Epoch 5/100\n",
      "111/121 [==========================>...] - ETA: 0s - loss: 0.2085 - acc: 0.9252\n",
      "Epoch 5: val_loss did not improve from 0.23224\n",
      "121/121 [==============================] - 0s 3ms/step - loss: 0.2100 - acc: 0.9244 - val_loss: 0.2498 - val_acc: 0.9055\n",
      "Epoch 6/100\n",
      "118/121 [============================>.] - ETA: 0s - loss: 0.2025 - acc: 0.9278\n",
      "Epoch 6: val_loss did not improve from 0.23224\n",
      "121/121 [==============================] - 0s 3ms/step - loss: 0.2024 - acc: 0.9279 - val_loss: 0.2379 - val_acc: 0.9133\n",
      "Epoch 7/100\n",
      "121/121 [==============================] - ETA: 0s - loss: 0.1903 - acc: 0.9324\n",
      "Epoch 7: val_loss did not improve from 0.23224\n",
      "121/121 [==============================] - 0s 3ms/step - loss: 0.1903 - acc: 0.9324 - val_loss: 0.2443 - val_acc: 0.9114\n",
      "138/138 [==============================] - 0s 975us/step\n",
      "0.8819282158820181 0.5605928426347181 0.9119382660009079 0.3860759493670886\n"
     ]
    },
    {
     "name": "stderr",
     "output_type": "stream",
     "text": [
      "2023-11-13 00:06:14.889601: I tensorflow/core/common_runtime/gpu/gpu_device.cc:1886] Created device /job:localhost/replica:0/task:0/device:GPU:0 with 13074 MB memory:  -> device: 0, name: Quadro RTX 5000, pci bus id: 0000:2b:00.0, compute capability: 7.5\n",
      "2023-11-13 00:06:14.899955: I tensorflow/core/common_runtime/gpu/gpu_device.cc:1886] Created device /job:localhost/replica:0/task:0/device:GPU:0 with 13074 MB memory:  -> device: 0, name: Quadro RTX 5000, pci bus id: 0000:2b:00.0, compute capability: 7.5\n"
     ]
    },
    {
     "name": "stdout",
     "output_type": "stream",
     "text": [
      "Problem type:  mort_icu\n",
      "__________________\n",
      "Epoch 1/100\n",
      "107/121 [=========================>....] - ETA: 0s - loss: 0.2735 - acc: 0.9019\n",
      "Epoch 1: val_loss improved from inf to 0.18740, saving model to ../results/timeseries-baseline/GRU-128-mort_icu-best_model.hdf5\n",
      "121/121 [==============================] - 1s 5ms/step - loss: 0.2626 - acc: 0.9065 - val_loss: 0.1874 - val_acc: 0.9423\n",
      "Epoch 2/100\n",
      " 65/121 [===============>..............] - ETA: 0s - loss: 0.1813 - acc: 0.9411"
     ]
    },
    {
     "name": "stderr",
     "output_type": "stream",
     "text": [
      "/data/apps/miniforge3/envs/cse6250-project/lib/python3.9/site-packages/keras/src/engine/training.py:3079: UserWarning: You are saving your model as an HDF5 file via `model.save()`. This file format is considered legacy. We recommend using instead the native Keras format, e.g. `model.save('my_model.keras')`.\n",
      "  saving_api.save_model(\n"
     ]
    },
    {
     "name": "stdout",
     "output_type": "stream",
     "text": [
      "112/121 [==========================>...] - ETA: 0s - loss: 0.1826 - acc: 0.9407\n",
      "Epoch 2: val_loss improved from 0.18740 to 0.17153, saving model to ../results/timeseries-baseline/GRU-128-mort_icu-best_model.hdf5\n",
      "121/121 [==============================] - 0s 3ms/step - loss: 0.1829 - acc: 0.9408 - val_loss: 0.1715 - val_acc: 0.9437\n",
      "Epoch 3/100\n",
      "114/121 [===========================>..] - ETA: 0s - loss: 0.1686 - acc: 0.9434\n",
      "Epoch 3: val_loss improved from 0.17153 to 0.17004, saving model to ../results/timeseries-baseline/GRU-128-mort_icu-best_model.hdf5\n",
      "121/121 [==============================] - 0s 3ms/step - loss: 0.1688 - acc: 0.9440 - val_loss: 0.1700 - val_acc: 0.9428\n",
      "Epoch 4/100\n",
      "116/121 [===========================>..] - ETA: 0s - loss: 0.1589 - acc: 0.9476\n",
      "Epoch 4: val_loss improved from 0.17004 to 0.16441, saving model to ../results/timeseries-baseline/GRU-128-mort_icu-best_model.hdf5\n",
      "121/121 [==============================] - 0s 3ms/step - loss: 0.1592 - acc: 0.9474 - val_loss: 0.1644 - val_acc: 0.9450\n",
      "Epoch 5/100\n",
      "119/121 [============================>.] - ETA: 0s - loss: 0.1503 - acc: 0.9481\n",
      "Epoch 5: val_loss did not improve from 0.16441\n",
      "121/121 [==============================] - 0s 3ms/step - loss: 0.1504 - acc: 0.9480 - val_loss: 0.1668 - val_acc: 0.9428\n",
      "Epoch 6/100\n",
      "107/121 [=========================>....] - ETA: 0s - loss: 0.1436 - acc: 0.9528\n",
      "Epoch 6: val_loss did not improve from 0.16441\n",
      "121/121 [==============================] - 0s 3ms/step - loss: 0.1430 - acc: 0.9523 - val_loss: 0.1676 - val_acc: 0.9455\n",
      "Epoch 7/100\n",
      "111/121 [==========================>...] - ETA: 0s - loss: 0.1344 - acc: 0.9543\n",
      "Epoch 7: val_loss did not improve from 0.16441\n",
      "121/121 [==============================] - 0s 3ms/step - loss: 0.1349 - acc: 0.9543 - val_loss: 0.1671 - val_acc: 0.9446\n",
      "138/138 [==============================] - 0s 911us/step\n",
      "0.8890344410988008 0.5192941544976858 0.9400817067635043 0.41850220264317184\n"
     ]
    },
    {
     "name": "stderr",
     "output_type": "stream",
     "text": [
      "2023-11-13 00:06:21.162511: I tensorflow/core/common_runtime/gpu/gpu_device.cc:1886] Created device /job:localhost/replica:0/task:0/device:GPU:0 with 13074 MB memory:  -> device: 0, name: Quadro RTX 5000, pci bus id: 0000:2b:00.0, compute capability: 7.5\n",
      "2023-11-13 00:06:21.174750: I tensorflow/core/common_runtime/gpu/gpu_device.cc:1886] Created device /job:localhost/replica:0/task:0/device:GPU:0 with 13074 MB memory:  -> device: 0, name: Quadro RTX 5000, pci bus id: 0000:2b:00.0, compute capability: 7.5\n"
     ]
    },
    {
     "name": "stdout",
     "output_type": "stream",
     "text": [
      "Problem type:  los_3\n",
      "__________________\n",
      "Epoch 1/100\n",
      "110/121 [==========================>...] - ETA: 0s - loss: 0.6674 - acc: 0.6295\n",
      "Epoch 1: val_loss improved from inf to 0.63575, saving model to ../results/timeseries-baseline/GRU-128-los_3-best_model.hdf5\n",
      "121/121 [==============================] - 1s 5ms/step - loss: 0.6656 - acc: 0.6318 - val_loss: 0.6358 - val_acc: 0.6676\n",
      "Epoch 2/100\n",
      " 64/121 [==============>...............] - ETA: 0s - loss: 0.6389 - acc: 0.6573"
     ]
    },
    {
     "name": "stderr",
     "output_type": "stream",
     "text": [
      "/data/apps/miniforge3/envs/cse6250-project/lib/python3.9/site-packages/keras/src/engine/training.py:3079: UserWarning: You are saving your model as an HDF5 file via `model.save()`. This file format is considered legacy. We recommend using instead the native Keras format, e.g. `model.save('my_model.keras')`.\n",
      "  saving_api.save_model(\n"
     ]
    },
    {
     "name": "stdout",
     "output_type": "stream",
     "text": [
      "116/121 [===========================>..] - ETA: 0s - loss: 0.6394 - acc: 0.6538\n",
      "Epoch 2: val_loss improved from 0.63575 to 0.63386, saving model to ../results/timeseries-baseline/GRU-128-los_3-best_model.hdf5\n",
      "121/121 [==============================] - 0s 3ms/step - loss: 0.6393 - acc: 0.6536 - val_loss: 0.6339 - val_acc: 0.6676\n",
      "Epoch 3/100\n",
      "114/121 [===========================>..] - ETA: 0s - loss: 0.6273 - acc: 0.6660\n",
      "Epoch 3: val_loss improved from 0.63386 to 0.62397, saving model to ../results/timeseries-baseline/GRU-128-los_3-best_model.hdf5\n",
      "121/121 [==============================] - 0s 3ms/step - loss: 0.6279 - acc: 0.6657 - val_loss: 0.6240 - val_acc: 0.6748\n",
      "Epoch 4/100\n",
      "121/121 [==============================] - ETA: 0s - loss: 0.6168 - acc: 0.6732\n",
      "Epoch 4: val_loss improved from 0.62397 to 0.61745, saving model to ../results/timeseries-baseline/GRU-128-los_3-best_model.hdf5\n",
      "121/121 [==============================] - 0s 3ms/step - loss: 0.6168 - acc: 0.6732 - val_loss: 0.6174 - val_acc: 0.6721\n",
      "Epoch 5/100\n",
      "111/121 [==========================>...] - ETA: 0s - loss: 0.6061 - acc: 0.6850\n",
      "Epoch 5: val_loss improved from 0.61745 to 0.61427, saving model to ../results/timeseries-baseline/GRU-128-los_3-best_model.hdf5\n",
      "121/121 [==============================] - 0s 3ms/step - loss: 0.6053 - acc: 0.6858 - val_loss: 0.6143 - val_acc: 0.6703\n",
      "Epoch 6/100\n",
      "111/121 [==========================>...] - ETA: 0s - loss: 0.5960 - acc: 0.6906\n",
      "Epoch 6: val_loss improved from 0.61427 to 0.61254, saving model to ../results/timeseries-baseline/GRU-128-los_3-best_model.hdf5\n",
      "121/121 [==============================] - 0s 3ms/step - loss: 0.5960 - acc: 0.6908 - val_loss: 0.6125 - val_acc: 0.6771\n",
      "Epoch 7/100\n",
      "112/121 [==========================>...] - ETA: 0s - loss: 0.5813 - acc: 0.7041\n",
      "Epoch 7: val_loss did not improve from 0.61254\n",
      "121/121 [==============================] - 0s 3ms/step - loss: 0.5828 - acc: 0.7030 - val_loss: 0.6182 - val_acc: 0.6676\n",
      "Epoch 8/100\n",
      "118/121 [============================>.] - ETA: 0s - loss: 0.5686 - acc: 0.7173\n",
      "Epoch 8: val_loss did not improve from 0.61254\n",
      "121/121 [==============================] - 0s 3ms/step - loss: 0.5688 - acc: 0.7165 - val_loss: 0.6284 - val_acc: 0.6571\n",
      "Epoch 9/100\n",
      "105/121 [=========================>....] - ETA: 0s - loss: 0.5500 - acc: 0.7321\n",
      "Epoch 9: val_loss did not improve from 0.61254\n",
      "121/121 [==============================] - 0s 3ms/step - loss: 0.5498 - acc: 0.7319 - val_loss: 0.6386 - val_acc: 0.6571\n",
      "138/138 [==============================] - 0s 919us/step\n",
      "0.6986409887390799 0.6397925243165398 0.6552428506581933 0.5528407418310273\n"
     ]
    },
    {
     "name": "stderr",
     "output_type": "stream",
     "text": [
      "2023-11-13 00:06:28.060578: I tensorflow/core/common_runtime/gpu/gpu_device.cc:1886] Created device /job:localhost/replica:0/task:0/device:GPU:0 with 13074 MB memory:  -> device: 0, name: Quadro RTX 5000, pci bus id: 0000:2b:00.0, compute capability: 7.5\n",
      "2023-11-13 00:06:28.069594: I tensorflow/core/common_runtime/gpu/gpu_device.cc:1886] Created device /job:localhost/replica:0/task:0/device:GPU:0 with 13074 MB memory:  -> device: 0, name: Quadro RTX 5000, pci bus id: 0000:2b:00.0, compute capability: 7.5\n"
     ]
    },
    {
     "name": "stdout",
     "output_type": "stream",
     "text": [
      "Problem type:  los_7\n",
      "__________________\n",
      "Epoch 1/100\n",
      "120/121 [============================>.] - ETA: 0s - loss: 0.3327 - acc: 0.8883\n",
      "Epoch 1: val_loss improved from inf to 0.27540, saving model to ../results/timeseries-baseline/GRU-128-los_7-best_model.hdf5\n",
      "121/121 [==============================] - 1s 5ms/step - loss: 0.3328 - acc: 0.8884 - val_loss: 0.2754 - val_acc: 0.9196\n",
      "Epoch 2/100\n",
      " 68/121 [===============>..............] - ETA: 0s - loss: 0.2621 - acc: 0.9238"
     ]
    },
    {
     "name": "stderr",
     "output_type": "stream",
     "text": [
      "/data/apps/miniforge3/envs/cse6250-project/lib/python3.9/site-packages/keras/src/engine/training.py:3079: UserWarning: You are saving your model as an HDF5 file via `model.save()`. This file format is considered legacy. We recommend using instead the native Keras format, e.g. `model.save('my_model.keras')`.\n",
      "  saving_api.save_model(\n"
     ]
    },
    {
     "name": "stdout",
     "output_type": "stream",
     "text": [
      "105/121 [=========================>....] - ETA: 0s - loss: 0.2644 - acc: 0.9217\n",
      "Epoch 2: val_loss improved from 0.27540 to 0.26557, saving model to ../results/timeseries-baseline/GRU-128-los_7-best_model.hdf5\n",
      "121/121 [==============================] - 0s 3ms/step - loss: 0.2631 - acc: 0.9219 - val_loss: 0.2656 - val_acc: 0.9219\n",
      "Epoch 3/100\n",
      "121/121 [==============================] - ETA: 0s - loss: 0.2528 - acc: 0.9220\n",
      "Epoch 3: val_loss improved from 0.26557 to 0.25772, saving model to ../results/timeseries-baseline/GRU-128-los_7-best_model.hdf5\n",
      "121/121 [==============================] - 0s 3ms/step - loss: 0.2528 - acc: 0.9220 - val_loss: 0.2577 - val_acc: 0.9233\n",
      "Epoch 4/100\n",
      "117/121 [============================>.] - ETA: 0s - loss: 0.2457 - acc: 0.9219\n",
      "Epoch 4: val_loss improved from 0.25772 to 0.25531, saving model to ../results/timeseries-baseline/GRU-128-los_7-best_model.hdf5\n",
      "121/121 [==============================] - 0s 3ms/step - loss: 0.2448 - acc: 0.9221 - val_loss: 0.2553 - val_acc: 0.9228\n",
      "Epoch 5/100\n",
      "110/121 [==========================>...] - ETA: 0s - loss: 0.2374 - acc: 0.9230\n",
      "Epoch 5: val_loss did not improve from 0.25531\n",
      "121/121 [==============================] - 0s 3ms/step - loss: 0.2382 - acc: 0.9230 - val_loss: 0.2555 - val_acc: 0.9219\n",
      "Epoch 6/100\n",
      "115/121 [===========================>..] - ETA: 0s - loss: 0.2322 - acc: 0.9242\n",
      "Epoch 6: val_loss did not improve from 0.25531\n",
      "121/121 [==============================] - 0s 3ms/step - loss: 0.2329 - acc: 0.9232 - val_loss: 0.2570 - val_acc: 0.9210\n",
      "Epoch 7/100\n",
      "111/121 [==========================>...] - ETA: 0s - loss: 0.2230 - acc: 0.9263\n",
      "Epoch 7: val_loss improved from 0.25531 to 0.25521, saving model to ../results/timeseries-baseline/GRU-128-los_7-best_model.hdf5\n",
      "121/121 [==============================] - 0s 3ms/step - loss: 0.2252 - acc: 0.9258 - val_loss: 0.2552 - val_acc: 0.9210\n",
      "Epoch 8/100\n",
      "109/121 [==========================>...] - ETA: 0s - loss: 0.2194 - acc: 0.9266\n",
      "Epoch 8: val_loss did not improve from 0.25521\n",
      "121/121 [==============================] - 0s 3ms/step - loss: 0.2176 - acc: 0.9274 - val_loss: 0.2598 - val_acc: 0.9155\n",
      "Epoch 9/100\n",
      "109/121 [==========================>...] - ETA: 0s - loss: 0.2073 - acc: 0.9309\n",
      "Epoch 9: val_loss did not improve from 0.25521\n",
      "121/121 [==============================] - 0s 3ms/step - loss: 0.2062 - acc: 0.9316 - val_loss: 0.2634 - val_acc: 0.9164\n",
      "Epoch 10/100\n",
      "112/121 [==========================>...] - ETA: 0s - loss: 0.1936 - acc: 0.9355\n",
      "Epoch 10: val_loss did not improve from 0.25521\n",
      "121/121 [==============================] - 0s 3ms/step - loss: 0.1944 - acc: 0.9350 - val_loss: 0.2694 - val_acc: 0.9128\n",
      "138/138 [==============================] - 0s 902us/step\n",
      "0.7145793452628658 0.19124221232887537 0.9169314571039492 0.03684210526315789\n"
     ]
    },
    {
     "name": "stderr",
     "output_type": "stream",
     "text": [
      "2023-11-13 00:06:35.389090: I tensorflow/core/common_runtime/gpu/gpu_device.cc:1886] Created device /job:localhost/replica:0/task:0/device:GPU:0 with 13074 MB memory:  -> device: 0, name: Quadro RTX 5000, pci bus id: 0000:2b:00.0, compute capability: 7.5\n",
      "2023-11-13 00:06:35.400333: I tensorflow/core/common_runtime/gpu/gpu_device.cc:1886] Created device /job:localhost/replica:0/task:0/device:GPU:0 with 13074 MB memory:  -> device: 0, name: Quadro RTX 5000, pci bus id: 0000:2b:00.0, compute capability: 7.5\n"
     ]
    },
    {
     "name": "stdout",
     "output_type": "stream",
     "text": [
      "Iteration number:  9\n",
      "=============================\n",
      "Problem type:  mort_hosp\n",
      "__________________\n",
      "Epoch 1/100\n",
      "110/121 [==========================>...] - ETA: 0s - loss: 0.3220 - acc: 0.8856\n",
      "Epoch 1: val_loss improved from inf to 0.25263, saving model to ../results/timeseries-baseline/GRU-128-mort_hosp-best_model.hdf5\n",
      "121/121 [==============================] - 1s 5ms/step - loss: 0.3177 - acc: 0.8871 - val_loss: 0.2526 - val_acc: 0.9087\n",
      "Epoch 2/100\n",
      " 64/121 [==============>...............] - ETA: 0s - loss: 0.2475 - acc: 0.9126"
     ]
    },
    {
     "name": "stderr",
     "output_type": "stream",
     "text": [
      "/data/apps/miniforge3/envs/cse6250-project/lib/python3.9/site-packages/keras/src/engine/training.py:3079: UserWarning: You are saving your model as an HDF5 file via `model.save()`. This file format is considered legacy. We recommend using instead the native Keras format, e.g. `model.save('my_model.keras')`.\n",
      "  saving_api.save_model(\n"
     ]
    },
    {
     "name": "stdout",
     "output_type": "stream",
     "text": [
      "119/121 [============================>.] - ETA: 0s - loss: 0.2507 - acc: 0.9129\n",
      "Epoch 2: val_loss improved from 0.25263 to 0.24309, saving model to ../results/timeseries-baseline/GRU-128-mort_hosp-best_model.hdf5\n",
      "121/121 [==============================] - 0s 3ms/step - loss: 0.2502 - acc: 0.9131 - val_loss: 0.2431 - val_acc: 0.9128\n",
      "Epoch 3/100\n",
      "102/121 [========================>.....] - ETA: 0s - loss: 0.2338 - acc: 0.9178\n",
      "Epoch 3: val_loss improved from 0.24309 to 0.24283, saving model to ../results/timeseries-baseline/GRU-128-mort_hosp-best_model.hdf5\n",
      "121/121 [==============================] - 0s 3ms/step - loss: 0.2351 - acc: 0.9175 - val_loss: 0.2428 - val_acc: 0.9110\n",
      "Epoch 4/100\n",
      "101/121 [========================>.....] - ETA: 0s - loss: 0.2223 - acc: 0.9221\n",
      "Epoch 4: val_loss improved from 0.24283 to 0.23792, saving model to ../results/timeseries-baseline/GRU-128-mort_hosp-best_model.hdf5\n",
      "121/121 [==============================] - 0s 3ms/step - loss: 0.2241 - acc: 0.9208 - val_loss: 0.2379 - val_acc: 0.9105\n",
      "Epoch 5/100\n",
      "120/121 [============================>.] - ETA: 0s - loss: 0.2127 - acc: 0.9229\n",
      "Epoch 5: val_loss improved from 0.23792 to 0.23239, saving model to ../results/timeseries-baseline/GRU-128-mort_hosp-best_model.hdf5\n",
      "121/121 [==============================] - 0s 3ms/step - loss: 0.2130 - acc: 0.9228 - val_loss: 0.2324 - val_acc: 0.9146\n",
      "Epoch 6/100\n",
      "107/121 [=========================>....] - ETA: 0s - loss: 0.2056 - acc: 0.9263\n",
      "Epoch 6: val_loss did not improve from 0.23239\n",
      "121/121 [==============================] - 0s 3ms/step - loss: 0.2048 - acc: 0.9260 - val_loss: 0.2384 - val_acc: 0.9155\n",
      "Epoch 7/100\n",
      "114/121 [===========================>..] - ETA: 0s - loss: 0.1940 - acc: 0.9290\n",
      "Epoch 7: val_loss did not improve from 0.23239\n",
      "121/121 [==============================] - 0s 3ms/step - loss: 0.1936 - acc: 0.9289 - val_loss: 0.2346 - val_acc: 0.9092\n",
      "Epoch 8/100\n",
      "120/121 [============================>.] - ETA: 0s - loss: 0.1817 - acc: 0.9359\n",
      "Epoch 8: val_loss did not improve from 0.23239\n",
      "121/121 [==============================] - 0s 3ms/step - loss: 0.1817 - acc: 0.9358 - val_loss: 0.2391 - val_acc: 0.9169\n",
      "138/138 [==============================] - 0s 1ms/step\n",
      "0.8808255612246831 0.5731889606142259 0.9130730821606899 0.4536376604850214\n"
     ]
    },
    {
     "name": "stderr",
     "output_type": "stream",
     "text": [
      "2023-11-13 00:06:42.247025: I tensorflow/core/common_runtime/gpu/gpu_device.cc:1886] Created device /job:localhost/replica:0/task:0/device:GPU:0 with 13074 MB memory:  -> device: 0, name: Quadro RTX 5000, pci bus id: 0000:2b:00.0, compute capability: 7.5\n",
      "2023-11-13 00:06:42.256952: I tensorflow/core/common_runtime/gpu/gpu_device.cc:1886] Created device /job:localhost/replica:0/task:0/device:GPU:0 with 13074 MB memory:  -> device: 0, name: Quadro RTX 5000, pci bus id: 0000:2b:00.0, compute capability: 7.5\n"
     ]
    },
    {
     "name": "stdout",
     "output_type": "stream",
     "text": [
      "Problem type:  mort_icu\n",
      "__________________\n",
      "Epoch 1/100\n",
      "116/121 [===========================>..] - ETA: 0s - loss: 0.2726 - acc: 0.9032\n",
      "Epoch 1: val_loss improved from inf to 0.18984, saving model to ../results/timeseries-baseline/GRU-128-mort_icu-best_model.hdf5\n",
      "121/121 [==============================] - 1s 5ms/step - loss: 0.2684 - acc: 0.9050 - val_loss: 0.1898 - val_acc: 0.9410\n",
      "Epoch 2/100\n",
      " 46/121 [==========>...................] - ETA: 0s - loss: 0.1794 - acc: 0.9448"
     ]
    },
    {
     "name": "stderr",
     "output_type": "stream",
     "text": [
      "/data/apps/miniforge3/envs/cse6250-project/lib/python3.9/site-packages/keras/src/engine/training.py:3079: UserWarning: You are saving your model as an HDF5 file via `model.save()`. This file format is considered legacy. We recommend using instead the native Keras format, e.g. `model.save('my_model.keras')`.\n",
      "  saving_api.save_model(\n"
     ]
    },
    {
     "name": "stdout",
     "output_type": "stream",
     "text": [
      "116/121 [===========================>..] - ETA: 0s - loss: 0.1840 - acc: 0.9407\n",
      "Epoch 2: val_loss improved from 0.18984 to 0.17804, saving model to ../results/timeseries-baseline/GRU-128-mort_icu-best_model.hdf5\n",
      "121/121 [==============================] - 0s 4ms/step - loss: 0.1839 - acc: 0.9406 - val_loss: 0.1780 - val_acc: 0.9410\n",
      "Epoch 3/100\n",
      "106/121 [=========================>....] - ETA: 0s - loss: 0.1726 - acc: 0.9431\n",
      "Epoch 3: val_loss improved from 0.17804 to 0.17080, saving model to ../results/timeseries-baseline/GRU-128-mort_icu-best_model.hdf5\n",
      "121/121 [==============================] - 0s 3ms/step - loss: 0.1701 - acc: 0.9438 - val_loss: 0.1708 - val_acc: 0.9437\n",
      "Epoch 4/100\n",
      "104/121 [========================>.....] - ETA: 0s - loss: 0.1605 - acc: 0.9459\n",
      "Epoch 4: val_loss improved from 0.17080 to 0.16737, saving model to ../results/timeseries-baseline/GRU-128-mort_icu-best_model.hdf5\n",
      "121/121 [==============================] - 0s 3ms/step - loss: 0.1611 - acc: 0.9457 - val_loss: 0.1674 - val_acc: 0.9410\n",
      "Epoch 5/100\n",
      "105/121 [=========================>....] - ETA: 0s - loss: 0.1487 - acc: 0.9503\n",
      "Epoch 5: val_loss improved from 0.16737 to 0.16551, saving model to ../results/timeseries-baseline/GRU-128-mort_icu-best_model.hdf5\n",
      "121/121 [==============================] - 0s 3ms/step - loss: 0.1502 - acc: 0.9498 - val_loss: 0.1655 - val_acc: 0.9405\n",
      "Epoch 6/100\n",
      "103/121 [========================>.....] - ETA: 0s - loss: 0.1413 - acc: 0.9521\n",
      "Epoch 6: val_loss did not improve from 0.16551\n",
      "121/121 [==============================] - 0s 3ms/step - loss: 0.1423 - acc: 0.9522 - val_loss: 0.1691 - val_acc: 0.9432\n",
      "Epoch 7/100\n",
      "117/121 [============================>.] - ETA: 0s - loss: 0.1334 - acc: 0.9548\n",
      "Epoch 7: val_loss did not improve from 0.16551\n",
      "121/121 [==============================] - 0s 3ms/step - loss: 0.1338 - acc: 0.9545 - val_loss: 0.1761 - val_acc: 0.9410\n",
      "Epoch 8/100\n",
      "104/121 [========================>.....] - ETA: 0s - loss: 0.1207 - acc: 0.9600\n",
      "Epoch 8: val_loss did not improve from 0.16551\n",
      "121/121 [==============================] - 0s 3ms/step - loss: 0.1229 - acc: 0.9596 - val_loss: 0.1745 - val_acc: 0.9382\n",
      "138/138 [==============================] - 0s 923us/step\n",
      "0.8882189887001596 0.522570742715136 0.9387199273717658 0.43983402489626555\n"
     ]
    },
    {
     "name": "stderr",
     "output_type": "stream",
     "text": [
      "2023-11-13 00:06:49.032613: I tensorflow/core/common_runtime/gpu/gpu_device.cc:1886] Created device /job:localhost/replica:0/task:0/device:GPU:0 with 13074 MB memory:  -> device: 0, name: Quadro RTX 5000, pci bus id: 0000:2b:00.0, compute capability: 7.5\n",
      "2023-11-13 00:06:49.042565: I tensorflow/core/common_runtime/gpu/gpu_device.cc:1886] Created device /job:localhost/replica:0/task:0/device:GPU:0 with 13074 MB memory:  -> device: 0, name: Quadro RTX 5000, pci bus id: 0000:2b:00.0, compute capability: 7.5\n"
     ]
    },
    {
     "name": "stdout",
     "output_type": "stream",
     "text": [
      "Problem type:  los_3\n",
      "__________________\n",
      "Epoch 1/100\n",
      "115/121 [===========================>..] - ETA: 0s - loss: 0.6618 - acc: 0.6339\n",
      "Epoch 1: val_loss improved from inf to 0.62965, saving model to ../results/timeseries-baseline/GRU-128-los_3-best_model.hdf5\n",
      "121/121 [==============================] - 1s 5ms/step - loss: 0.6610 - acc: 0.6353 - val_loss: 0.6296 - val_acc: 0.6735\n",
      "Epoch 2/100\n",
      " 64/121 [==============>...............] - ETA: 0s - loss: 0.6340 - acc: 0.6606"
     ]
    },
    {
     "name": "stderr",
     "output_type": "stream",
     "text": [
      "/data/apps/miniforge3/envs/cse6250-project/lib/python3.9/site-packages/keras/src/engine/training.py:3079: UserWarning: You are saving your model as an HDF5 file via `model.save()`. This file format is considered legacy. We recommend using instead the native Keras format, e.g. `model.save('my_model.keras')`.\n",
      "  saving_api.save_model(\n"
     ]
    },
    {
     "name": "stdout",
     "output_type": "stream",
     "text": [
      "105/121 [=========================>....] - ETA: 0s - loss: 0.6361 - acc: 0.6560\n",
      "Epoch 2: val_loss improved from 0.62965 to 0.62886, saving model to ../results/timeseries-baseline/GRU-128-los_3-best_model.hdf5\n",
      "121/121 [==============================] - 0s 3ms/step - loss: 0.6376 - acc: 0.6544 - val_loss: 0.6289 - val_acc: 0.6703\n",
      "Epoch 3/100\n",
      "107/121 [=========================>....] - ETA: 0s - loss: 0.6230 - acc: 0.6672\n",
      "Epoch 3: val_loss improved from 0.62886 to 0.62526, saving model to ../results/timeseries-baseline/GRU-128-los_3-best_model.hdf5\n",
      "121/121 [==============================] - 0s 3ms/step - loss: 0.6240 - acc: 0.6666 - val_loss: 0.6253 - val_acc: 0.6599\n",
      "Epoch 4/100\n",
      "111/121 [==========================>...] - ETA: 0s - loss: 0.6135 - acc: 0.6816\n",
      "Epoch 4: val_loss improved from 0.62526 to 0.61604, saving model to ../results/timeseries-baseline/GRU-128-los_3-best_model.hdf5\n",
      "121/121 [==============================] - 0s 3ms/step - loss: 0.6139 - acc: 0.6799 - val_loss: 0.6160 - val_acc: 0.6780\n",
      "Epoch 5/100\n",
      "114/121 [===========================>..] - ETA: 0s - loss: 0.6042 - acc: 0.6838\n",
      "Epoch 5: val_loss improved from 0.61604 to 0.61406, saving model to ../results/timeseries-baseline/GRU-128-los_3-best_model.hdf5\n",
      "121/121 [==============================] - 0s 3ms/step - loss: 0.6039 - acc: 0.6833 - val_loss: 0.6141 - val_acc: 0.6680\n",
      "Epoch 6/100\n",
      "113/121 [===========================>..] - ETA: 0s - loss: 0.5911 - acc: 0.6947\n",
      "Epoch 6: val_loss did not improve from 0.61406\n",
      "121/121 [==============================] - 0s 3ms/step - loss: 0.5926 - acc: 0.6925 - val_loss: 0.6152 - val_acc: 0.6698\n",
      "Epoch 7/100\n",
      "116/121 [===========================>..] - ETA: 0s - loss: 0.5784 - acc: 0.7055\n",
      "Epoch 7: val_loss did not improve from 0.61406\n",
      "121/121 [==============================] - 0s 3ms/step - loss: 0.5790 - acc: 0.7052 - val_loss: 0.6179 - val_acc: 0.6708\n",
      "Epoch 8/100\n",
      "108/121 [=========================>....] - ETA: 0s - loss: 0.5617 - acc: 0.7228\n",
      "Epoch 8: val_loss did not improve from 0.61406\n",
      "121/121 [==============================] - 0s 3ms/step - loss: 0.5630 - acc: 0.7215 - val_loss: 0.6203 - val_acc: 0.6708\n",
      "138/138 [==============================] - 0s 858us/step\n",
      "0.6965724890168156 0.6349938827426129 0.6566046300499319 0.5519692034350016\n"
     ]
    },
    {
     "name": "stderr",
     "output_type": "stream",
     "text": [
      "2023-11-13 00:06:55.713811: I tensorflow/core/common_runtime/gpu/gpu_device.cc:1886] Created device /job:localhost/replica:0/task:0/device:GPU:0 with 13074 MB memory:  -> device: 0, name: Quadro RTX 5000, pci bus id: 0000:2b:00.0, compute capability: 7.5\n",
      "2023-11-13 00:06:55.724208: I tensorflow/core/common_runtime/gpu/gpu_device.cc:1886] Created device /job:localhost/replica:0/task:0/device:GPU:0 with 13074 MB memory:  -> device: 0, name: Quadro RTX 5000, pci bus id: 0000:2b:00.0, compute capability: 7.5\n"
     ]
    },
    {
     "name": "stdout",
     "output_type": "stream",
     "text": [
      "Problem type:  los_7\n",
      "__________________\n",
      "Epoch 1/100\n",
      "102/121 [========================>.....] - ETA: 0s - loss: 0.3410 - acc: 0.8841\n",
      "Epoch 1: val_loss improved from inf to 0.27430, saving model to ../results/timeseries-baseline/GRU-128-los_7-best_model.hdf5\n",
      "121/121 [==============================] - 1s 5ms/step - loss: 0.3300 - acc: 0.8902 - val_loss: 0.2743 - val_acc: 0.9205\n",
      "Epoch 2/100\n",
      " 62/121 [==============>...............] - ETA: 0s - loss: 0.2734 - acc: 0.9166"
     ]
    },
    {
     "name": "stderr",
     "output_type": "stream",
     "text": [
      "/data/apps/miniforge3/envs/cse6250-project/lib/python3.9/site-packages/keras/src/engine/training.py:3079: UserWarning: You are saving your model as an HDF5 file via `model.save()`. This file format is considered legacy. We recommend using instead the native Keras format, e.g. `model.save('my_model.keras')`.\n",
      "  saving_api.save_model(\n"
     ]
    },
    {
     "name": "stdout",
     "output_type": "stream",
     "text": [
      "101/121 [========================>.....] - ETA: 0s - loss: 0.2667 - acc: 0.9204\n",
      "Epoch 2: val_loss improved from 0.27430 to 0.26400, saving model to ../results/timeseries-baseline/GRU-128-los_7-best_model.hdf5\n",
      "121/121 [==============================] - 0s 3ms/step - loss: 0.2631 - acc: 0.9216 - val_loss: 0.2640 - val_acc: 0.9223\n",
      "Epoch 3/100\n",
      "107/121 [=========================>....] - ETA: 0s - loss: 0.2496 - acc: 0.9230\n",
      "Epoch 3: val_loss improved from 0.26400 to 0.26215, saving model to ../results/timeseries-baseline/GRU-128-los_7-best_model.hdf5\n",
      "121/121 [==============================] - 0s 3ms/step - loss: 0.2513 - acc: 0.9223 - val_loss: 0.2621 - val_acc: 0.9228\n",
      "Epoch 4/100\n",
      "105/121 [=========================>....] - ETA: 0s - loss: 0.2437 - acc: 0.9232\n",
      "Epoch 4: val_loss improved from 0.26215 to 0.26146, saving model to ../results/timeseries-baseline/GRU-128-los_7-best_model.hdf5\n",
      "121/121 [==============================] - 0s 3ms/step - loss: 0.2441 - acc: 0.9230 - val_loss: 0.2615 - val_acc: 0.9228\n",
      "Epoch 5/100\n",
      "110/121 [==========================>...] - ETA: 0s - loss: 0.2400 - acc: 0.9232\n",
      "Epoch 5: val_loss improved from 0.26146 to 0.25929, saving model to ../results/timeseries-baseline/GRU-128-los_7-best_model.hdf5\n",
      "121/121 [==============================] - 0s 3ms/step - loss: 0.2377 - acc: 0.9243 - val_loss: 0.2593 - val_acc: 0.9219\n",
      "Epoch 6/100\n",
      "107/121 [=========================>....] - ETA: 0s - loss: 0.2323 - acc: 0.9242\n",
      "Epoch 6: val_loss improved from 0.25929 to 0.25917, saving model to ../results/timeseries-baseline/GRU-128-los_7-best_model.hdf5\n",
      "121/121 [==============================] - 0s 3ms/step - loss: 0.2321 - acc: 0.9248 - val_loss: 0.2592 - val_acc: 0.9223\n",
      "Epoch 7/100\n",
      "107/121 [=========================>....] - ETA: 0s - loss: 0.2234 - acc: 0.9265\n",
      "Epoch 7: val_loss did not improve from 0.25917\n",
      "121/121 [==============================] - 0s 3ms/step - loss: 0.2244 - acc: 0.9257 - val_loss: 0.2646 - val_acc: 0.9192\n",
      "Epoch 8/100\n",
      " 99/121 [=======================>......] - ETA: 0s - loss: 0.2151 - acc: 0.9279\n",
      "Epoch 8: val_loss did not improve from 0.25917\n",
      "121/121 [==============================] - 0s 3ms/step - loss: 0.2159 - acc: 0.9282 - val_loss: 0.2652 - val_acc: 0.9192\n",
      "Epoch 9/100\n",
      "107/121 [=========================>....] - ETA: 0s - loss: 0.2043 - acc: 0.9314\n",
      "Epoch 9: val_loss did not improve from 0.25917\n",
      "121/121 [==============================] - 0s 3ms/step - loss: 0.2052 - acc: 0.9310 - val_loss: 0.2717 - val_acc: 0.9196\n",
      "138/138 [==============================] - 0s 951us/step\n",
      "0.7361825495907894 0.20457581107852507 0.9180662732637312 0.03733333333333333\n"
     ]
    },
    {
     "name": "stderr",
     "output_type": "stream",
     "text": [
      "2023-11-13 00:07:02.849744: I tensorflow/core/common_runtime/gpu/gpu_device.cc:1886] Created device /job:localhost/replica:0/task:0/device:GPU:0 with 13074 MB memory:  -> device: 0, name: Quadro RTX 5000, pci bus id: 0000:2b:00.0, compute capability: 7.5\n",
      "2023-11-13 00:07:02.861572: I tensorflow/core/common_runtime/gpu/gpu_device.cc:1886] Created device /job:localhost/replica:0/task:0/device:GPU:0 with 13074 MB memory:  -> device: 0, name: Quadro RTX 5000, pci bus id: 0000:2b:00.0, compute capability: 7.5\n"
     ]
    },
    {
     "name": "stdout",
     "output_type": "stream",
     "text": [
      "Iteration number:  10\n",
      "=============================\n",
      "Problem type:  mort_hosp\n",
      "__________________\n",
      "Epoch 1/100\n",
      "121/121 [==============================] - ETA: 0s - loss: 0.3180 - acc: 0.8818\n",
      "Epoch 1: val_loss improved from inf to 0.25063, saving model to ../results/timeseries-baseline/GRU-128-mort_hosp-best_model.hdf5\n",
      "121/121 [==============================] - 1s 5ms/step - loss: 0.3180 - acc: 0.8818 - val_loss: 0.2506 - val_acc: 0.9151\n",
      "Epoch 2/100\n",
      " 64/121 [==============>...............] - ETA: 0s - loss: 0.2482 - acc: 0.9135"
     ]
    },
    {
     "name": "stderr",
     "output_type": "stream",
     "text": [
      "/data/apps/miniforge3/envs/cse6250-project/lib/python3.9/site-packages/keras/src/engine/training.py:3079: UserWarning: You are saving your model as an HDF5 file via `model.save()`. This file format is considered legacy. We recommend using instead the native Keras format, e.g. `model.save('my_model.keras')`.\n",
      "  saving_api.save_model(\n"
     ]
    },
    {
     "name": "stdout",
     "output_type": "stream",
     "text": [
      "115/121 [===========================>..] - ETA: 0s - loss: 0.2495 - acc: 0.9121\n",
      "Epoch 2: val_loss improved from 0.25063 to 0.24110, saving model to ../results/timeseries-baseline/GRU-128-mort_hosp-best_model.hdf5\n",
      "121/121 [==============================] - 0s 3ms/step - loss: 0.2475 - acc: 0.9132 - val_loss: 0.2411 - val_acc: 0.9160\n",
      "Epoch 3/100\n",
      "112/121 [==========================>...] - ETA: 0s - loss: 0.2302 - acc: 0.9188\n",
      "Epoch 3: val_loss improved from 0.24110 to 0.23216, saving model to ../results/timeseries-baseline/GRU-128-mort_hosp-best_model.hdf5\n",
      "121/121 [==============================] - 0s 3ms/step - loss: 0.2312 - acc: 0.9181 - val_loss: 0.2322 - val_acc: 0.9137\n",
      "Epoch 4/100\n",
      "104/121 [========================>.....] - ETA: 0s - loss: 0.2218 - acc: 0.9205\n",
      "Epoch 4: val_loss did not improve from 0.23216\n",
      "121/121 [==============================] - 0s 3ms/step - loss: 0.2198 - acc: 0.9217 - val_loss: 0.2350 - val_acc: 0.9146\n",
      "Epoch 5/100\n",
      "105/121 [=========================>....] - ETA: 0s - loss: 0.2116 - acc: 0.9243\n",
      "Epoch 5: val_loss did not improve from 0.23216\n",
      "121/121 [==============================] - 0s 3ms/step - loss: 0.2117 - acc: 0.9240 - val_loss: 0.2337 - val_acc: 0.9137\n",
      "Epoch 6/100\n",
      "114/121 [===========================>..] - ETA: 0s - loss: 0.2003 - acc: 0.9289\n",
      "Epoch 6: val_loss did not improve from 0.23216\n",
      "121/121 [==============================] - 0s 3ms/step - loss: 0.1996 - acc: 0.9291 - val_loss: 0.2420 - val_acc: 0.9169\n",
      "138/138 [==============================] - 0s 855us/step\n",
      "0.8815442364360209 0.5618548155652119 0.9148887880163413 0.44113263785394935\n"
     ]
    },
    {
     "name": "stderr",
     "output_type": "stream",
     "text": [
      "2023-11-13 00:07:08.936064: I tensorflow/core/common_runtime/gpu/gpu_device.cc:1886] Created device /job:localhost/replica:0/task:0/device:GPU:0 with 13074 MB memory:  -> device: 0, name: Quadro RTX 5000, pci bus id: 0000:2b:00.0, compute capability: 7.5\n",
      "2023-11-13 00:07:08.946155: I tensorflow/core/common_runtime/gpu/gpu_device.cc:1886] Created device /job:localhost/replica:0/task:0/device:GPU:0 with 13074 MB memory:  -> device: 0, name: Quadro RTX 5000, pci bus id: 0000:2b:00.0, compute capability: 7.5\n"
     ]
    },
    {
     "name": "stdout",
     "output_type": "stream",
     "text": [
      "Problem type:  mort_icu\n",
      "__________________\n",
      "Epoch 1/100\n",
      "121/121 [==============================] - ETA: 0s - loss: 0.2632 - acc: 0.9114\n",
      "Epoch 1: val_loss improved from inf to 0.18866, saving model to ../results/timeseries-baseline/GRU-128-mort_icu-best_model.hdf5\n",
      "121/121 [==============================] - 1s 5ms/step - loss: 0.2632 - acc: 0.9114 - val_loss: 0.1887 - val_acc: 0.9432\n",
      "Epoch 2/100\n",
      " 58/121 [=============>................] - ETA: 0s - loss: 0.1809 - acc: 0.9417"
     ]
    },
    {
     "name": "stderr",
     "output_type": "stream",
     "text": [
      "/data/apps/miniforge3/envs/cse6250-project/lib/python3.9/site-packages/keras/src/engine/training.py:3079: UserWarning: You are saving your model as an HDF5 file via `model.save()`. This file format is considered legacy. We recommend using instead the native Keras format, e.g. `model.save('my_model.keras')`.\n",
      "  saving_api.save_model(\n"
     ]
    },
    {
     "name": "stdout",
     "output_type": "stream",
     "text": [
      "113/121 [===========================>..] - ETA: 0s - loss: 0.1840 - acc: 0.9412\n",
      "Epoch 2: val_loss improved from 0.18866 to 0.17184, saving model to ../results/timeseries-baseline/GRU-128-mort_icu-best_model.hdf5\n",
      "121/121 [==============================] - 0s 3ms/step - loss: 0.1854 - acc: 0.9409 - val_loss: 0.1718 - val_acc: 0.9450\n",
      "Epoch 3/100\n",
      "120/121 [============================>.] - ETA: 0s - loss: 0.1718 - acc: 0.9441\n",
      "Epoch 3: val_loss improved from 0.17184 to 0.17028, saving model to ../results/timeseries-baseline/GRU-128-mort_icu-best_model.hdf5\n",
      "121/121 [==============================] - 0s 3ms/step - loss: 0.1715 - acc: 0.9443 - val_loss: 0.1703 - val_acc: 0.9428\n",
      "Epoch 4/100\n",
      "114/121 [===========================>..] - ETA: 0s - loss: 0.1607 - acc: 0.9460\n",
      "Epoch 4: val_loss did not improve from 0.17028\n",
      "121/121 [==============================] - 0s 3ms/step - loss: 0.1605 - acc: 0.9462 - val_loss: 0.1711 - val_acc: 0.9428\n",
      "Epoch 5/100\n",
      "100/121 [=======================>......] - ETA: 0s - loss: 0.1523 - acc: 0.9477\n",
      "Epoch 5: val_loss improved from 0.17028 to 0.16413, saving model to ../results/timeseries-baseline/GRU-128-mort_icu-best_model.hdf5\n",
      "121/121 [==============================] - 0s 2ms/step - loss: 0.1515 - acc: 0.9487 - val_loss: 0.1641 - val_acc: 0.9437\n",
      "Epoch 6/100\n",
      " 99/121 [=======================>......] - ETA: 0s - loss: 0.1431 - acc: 0.9512\n",
      "Epoch 6: val_loss did not improve from 0.16413\n",
      "121/121 [==============================] - 0s 2ms/step - loss: 0.1434 - acc: 0.9512 - val_loss: 0.1662 - val_acc: 0.9428\n",
      "Epoch 7/100\n",
      "114/121 [===========================>..] - ETA: 0s - loss: 0.1340 - acc: 0.9550\n",
      "Epoch 7: val_loss did not improve from 0.16413\n",
      "121/121 [==============================] - 0s 3ms/step - loss: 0.1350 - acc: 0.9551 - val_loss: 0.1697 - val_acc: 0.9423\n",
      "Epoch 8/100\n",
      "118/121 [============================>.] - ETA: 0s - loss: 0.1249 - acc: 0.9588\n",
      "Epoch 8: val_loss did not improve from 0.16413\n",
      "121/121 [==============================] - 0s 3ms/step - loss: 0.1246 - acc: 0.9588 - val_loss: 0.1695 - val_acc: 0.9414\n",
      "138/138 [==============================] - 0s 856us/step\n",
      "0.8898591512351752 0.5224565418323972 0.9403086699954607 0.42950108459869846\n"
     ]
    },
    {
     "name": "stderr",
     "output_type": "stream",
     "text": [
      "2023-11-13 00:07:15.522602: I tensorflow/core/common_runtime/gpu/gpu_device.cc:1886] Created device /job:localhost/replica:0/task:0/device:GPU:0 with 13074 MB memory:  -> device: 0, name: Quadro RTX 5000, pci bus id: 0000:2b:00.0, compute capability: 7.5\n",
      "2023-11-13 00:07:15.531633: I tensorflow/core/common_runtime/gpu/gpu_device.cc:1886] Created device /job:localhost/replica:0/task:0/device:GPU:0 with 13074 MB memory:  -> device: 0, name: Quadro RTX 5000, pci bus id: 0000:2b:00.0, compute capability: 7.5\n"
     ]
    },
    {
     "name": "stdout",
     "output_type": "stream",
     "text": [
      "Problem type:  los_3\n",
      "__________________\n",
      "Epoch 1/100\n",
      "107/121 [=========================>....] - ETA: 0s - loss: 0.6671 - acc: 0.6265\n",
      "Epoch 1: val_loss improved from inf to 0.64000, saving model to ../results/timeseries-baseline/GRU-128-los_3-best_model.hdf5\n",
      "121/121 [==============================] - 1s 5ms/step - loss: 0.6661 - acc: 0.6276 - val_loss: 0.6400 - val_acc: 0.6726\n",
      "Epoch 2/100\n",
      " 66/121 [===============>..............] - ETA: 0s - loss: 0.6402 - acc: 0.6528"
     ]
    },
    {
     "name": "stderr",
     "output_type": "stream",
     "text": [
      "/data/apps/miniforge3/envs/cse6250-project/lib/python3.9/site-packages/keras/src/engine/training.py:3079: UserWarning: You are saving your model as an HDF5 file via `model.save()`. This file format is considered legacy. We recommend using instead the native Keras format, e.g. `model.save('my_model.keras')`.\n",
      "  saving_api.save_model(\n"
     ]
    },
    {
     "name": "stdout",
     "output_type": "stream",
     "text": [
      "101/121 [========================>.....] - ETA: 0s - loss: 0.6416 - acc: 0.6542\n",
      "Epoch 2: val_loss improved from 0.64000 to 0.62658, saving model to ../results/timeseries-baseline/GRU-128-los_3-best_model.hdf5\n",
      "121/121 [==============================] - 0s 3ms/step - loss: 0.6415 - acc: 0.6543 - val_loss: 0.6266 - val_acc: 0.6785\n",
      "Epoch 3/100\n",
      "121/121 [==============================] - ETA: 0s - loss: 0.6269 - acc: 0.6663\n",
      "Epoch 3: val_loss improved from 0.62658 to 0.61679, saving model to ../results/timeseries-baseline/GRU-128-los_3-best_model.hdf5\n",
      "121/121 [==============================] - 0s 3ms/step - loss: 0.6269 - acc: 0.6663 - val_loss: 0.6168 - val_acc: 0.6794\n",
      "Epoch 4/100\n",
      "114/121 [===========================>..] - ETA: 0s - loss: 0.6162 - acc: 0.6760\n",
      "Epoch 4: val_loss improved from 0.61679 to 0.61310, saving model to ../results/timeseries-baseline/GRU-128-los_3-best_model.hdf5\n",
      "121/121 [==============================] - 0s 3ms/step - loss: 0.6161 - acc: 0.6755 - val_loss: 0.6131 - val_acc: 0.6794\n",
      "Epoch 5/100\n",
      "110/121 [==========================>...] - ETA: 0s - loss: 0.6036 - acc: 0.6867\n",
      "Epoch 5: val_loss improved from 0.61310 to 0.61197, saving model to ../results/timeseries-baseline/GRU-128-los_3-best_model.hdf5\n",
      "121/121 [==============================] - 0s 3ms/step - loss: 0.6042 - acc: 0.6859 - val_loss: 0.6120 - val_acc: 0.6739\n",
      "Epoch 6/100\n",
      "113/121 [===========================>..] - ETA: 0s - loss: 0.5915 - acc: 0.6957\n",
      "Epoch 6: val_loss did not improve from 0.61197\n",
      "121/121 [==============================] - 0s 3ms/step - loss: 0.5913 - acc: 0.6948 - val_loss: 0.6177 - val_acc: 0.6608\n",
      "Epoch 7/100\n",
      "111/121 [==========================>...] - ETA: 0s - loss: 0.5789 - acc: 0.7062\n",
      "Epoch 7: val_loss did not improve from 0.61197\n",
      "121/121 [==============================] - 0s 3ms/step - loss: 0.5797 - acc: 0.7058 - val_loss: 0.6141 - val_acc: 0.6630\n",
      "Epoch 8/100\n",
      "120/121 [============================>.] - ETA: 0s - loss: 0.5616 - acc: 0.7231\n",
      "Epoch 8: val_loss did not improve from 0.61197\n",
      "121/121 [==============================] - 0s 3ms/step - loss: 0.5618 - acc: 0.7228 - val_loss: 0.6311 - val_acc: 0.6499\n",
      "138/138 [==============================] - 0s 858us/step\n",
      "0.696547871534616 0.641937261892909 0.6654561960962324 0.5544135429262395\n"
     ]
    },
    {
     "name": "stderr",
     "output_type": "stream",
     "text": [
      "2023-11-13 00:07:22.183294: I tensorflow/core/common_runtime/gpu/gpu_device.cc:1886] Created device /job:localhost/replica:0/task:0/device:GPU:0 with 13074 MB memory:  -> device: 0, name: Quadro RTX 5000, pci bus id: 0000:2b:00.0, compute capability: 7.5\n",
      "2023-11-13 00:07:22.193287: I tensorflow/core/common_runtime/gpu/gpu_device.cc:1886] Created device /job:localhost/replica:0/task:0/device:GPU:0 with 13074 MB memory:  -> device: 0, name: Quadro RTX 5000, pci bus id: 0000:2b:00.0, compute capability: 7.5\n"
     ]
    },
    {
     "name": "stdout",
     "output_type": "stream",
     "text": [
      "Problem type:  los_7\n",
      "__________________\n",
      "Epoch 1/100\n",
      "107/121 [=========================>....] - ETA: 0s - loss: 0.3369 - acc: 0.8870\n",
      "Epoch 1: val_loss improved from inf to 0.26729, saving model to ../results/timeseries-baseline/GRU-128-los_7-best_model.hdf5\n",
      "121/121 [==============================] - 1s 5ms/step - loss: 0.3271 - acc: 0.8915 - val_loss: 0.2673 - val_acc: 0.9228\n",
      "Epoch 2/100\n",
      " 69/121 [================>.............] - ETA: 0s - loss: 0.2613 - acc: 0.9214"
     ]
    },
    {
     "name": "stderr",
     "output_type": "stream",
     "text": [
      "/data/apps/miniforge3/envs/cse6250-project/lib/python3.9/site-packages/keras/src/engine/training.py:3079: UserWarning: You are saving your model as an HDF5 file via `model.save()`. This file format is considered legacy. We recommend using instead the native Keras format, e.g. `model.save('my_model.keras')`.\n",
      "  saving_api.save_model(\n"
     ]
    },
    {
     "name": "stdout",
     "output_type": "stream",
     "text": [
      "116/121 [===========================>..] - ETA: 0s - loss: 0.2591 - acc: 0.9221\n",
      "Epoch 2: val_loss improved from 0.26729 to 0.26602, saving model to ../results/timeseries-baseline/GRU-128-los_7-best_model.hdf5\n",
      "121/121 [==============================] - 0s 3ms/step - loss: 0.2593 - acc: 0.9219 - val_loss: 0.2660 - val_acc: 0.9219\n",
      "Epoch 3/100\n",
      "111/121 [==========================>...] - ETA: 0s - loss: 0.2468 - acc: 0.9240\n",
      "Epoch 3: val_loss improved from 0.26602 to 0.26026, saving model to ../results/timeseries-baseline/GRU-128-los_7-best_model.hdf5\n",
      "121/121 [==============================] - 0s 3ms/step - loss: 0.2501 - acc: 0.9222 - val_loss: 0.2603 - val_acc: 0.9196\n",
      "Epoch 4/100\n",
      "120/121 [============================>.] - ETA: 0s - loss: 0.2431 - acc: 0.9217\n",
      "Epoch 4: val_loss improved from 0.26026 to 0.25318, saving model to ../results/timeseries-baseline/GRU-128-los_7-best_model.hdf5\n",
      "121/121 [==============================] - 0s 3ms/step - loss: 0.2430 - acc: 0.9218 - val_loss: 0.2532 - val_acc: 0.9219\n",
      "Epoch 5/100\n",
      "107/121 [=========================>....] - ETA: 0s - loss: 0.2334 - acc: 0.9250\n",
      "Epoch 5: val_loss did not improve from 0.25318\n",
      "121/121 [==============================] - 0s 3ms/step - loss: 0.2367 - acc: 0.9231 - val_loss: 0.2543 - val_acc: 0.9219\n",
      "Epoch 6/100\n",
      "108/121 [=========================>....] - ETA: 0s - loss: 0.2319 - acc: 0.9235\n",
      "Epoch 6: val_loss did not improve from 0.25318\n",
      "121/121 [==============================] - 0s 3ms/step - loss: 0.2305 - acc: 0.9243 - val_loss: 0.2573 - val_acc: 0.9219\n",
      "Epoch 7/100\n",
      "117/121 [============================>.] - ETA: 0s - loss: 0.2232 - acc: 0.9267\n",
      "Epoch 7: val_loss did not improve from 0.25318\n",
      "121/121 [==============================] - 0s 3ms/step - loss: 0.2236 - acc: 0.9267 - val_loss: 0.2592 - val_acc: 0.9205\n",
      "138/138 [==============================] - 0s 868us/step\n",
      "0.7390248300735193 0.2067265604339808 0.9187471629596006 0.005555555555555555\n"
     ]
    },
    {
     "name": "stderr",
     "output_type": "stream",
     "text": [
      "2023-11-13 00:07:28.541137: I tensorflow/core/common_runtime/gpu/gpu_device.cc:1886] Created device /job:localhost/replica:0/task:0/device:GPU:0 with 13074 MB memory:  -> device: 0, name: Quadro RTX 5000, pci bus id: 0000:2b:00.0, compute capability: 7.5\n",
      "2023-11-13 00:07:28.551437: I tensorflow/core/common_runtime/gpu/gpu_device.cc:1886] Created device /job:localhost/replica:0/task:0/device:GPU:0 with 13074 MB memory:  -> device: 0, name: Quadro RTX 5000, pci bus id: 0000:2b:00.0, compute capability: 7.5\n"
     ]
    },
    {
     "name": "stdout",
     "output_type": "stream",
     "text": [
      "Hidden unit:  256\n",
      "Iteration number:  1\n",
      "=============================\n",
      "Problem type:  mort_hosp\n",
      "__________________\n",
      "Epoch 1/100\n",
      "109/121 [==========================>...] - ETA: 0s - loss: 0.3124 - acc: 0.8868\n",
      "Epoch 1: val_loss improved from inf to 0.24948, saving model to ../results/timeseries-baseline/GRU-256-mort_hosp-best_model.hdf5\n",
      "121/121 [==============================] - 2s 6ms/step - loss: 0.3075 - acc: 0.8880 - val_loss: 0.2495 - val_acc: 0.9114\n",
      "Epoch 2/100\n",
      " 53/121 [============>.................] - ETA: 0s - loss: 0.2453 - acc: 0.9145"
     ]
    },
    {
     "name": "stderr",
     "output_type": "stream",
     "text": [
      "/data/apps/miniforge3/envs/cse6250-project/lib/python3.9/site-packages/keras/src/engine/training.py:3079: UserWarning: You are saving your model as an HDF5 file via `model.save()`. This file format is considered legacy. We recommend using instead the native Keras format, e.g. `model.save('my_model.keras')`.\n",
      "  saving_api.save_model(\n"
     ]
    },
    {
     "name": "stdout",
     "output_type": "stream",
     "text": [
      "120/121 [============================>.] - ETA: 0s - loss: 0.2451 - acc: 0.9136\n",
      "Epoch 2: val_loss improved from 0.24948 to 0.24480, saving model to ../results/timeseries-baseline/GRU-256-mort_hosp-best_model.hdf5\n",
      "121/121 [==============================] - 0s 4ms/step - loss: 0.2456 - acc: 0.9135 - val_loss: 0.2448 - val_acc: 0.9128\n",
      "Epoch 3/100\n",
      "113/121 [===========================>..] - ETA: 0s - loss: 0.2299 - acc: 0.9175\n",
      "Epoch 3: val_loss improved from 0.24480 to 0.23658, saving model to ../results/timeseries-baseline/GRU-256-mort_hosp-best_model.hdf5\n",
      "121/121 [==============================] - 0s 4ms/step - loss: 0.2292 - acc: 0.9181 - val_loss: 0.2366 - val_acc: 0.9128\n",
      "Epoch 4/100\n",
      "111/121 [==========================>...] - ETA: 0s - loss: 0.2185 - acc: 0.9209\n",
      "Epoch 4: val_loss did not improve from 0.23658\n",
      "121/121 [==============================] - 0s 4ms/step - loss: 0.2163 - acc: 0.9219 - val_loss: 0.2423 - val_acc: 0.9155\n",
      "Epoch 5/100\n",
      "111/121 [==========================>...] - ETA: 0s - loss: 0.2081 - acc: 0.9259\n",
      "Epoch 5: val_loss improved from 0.23658 to 0.23354, saving model to ../results/timeseries-baseline/GRU-256-mort_hosp-best_model.hdf5\n",
      "121/121 [==============================] - 0s 4ms/step - loss: 0.2071 - acc: 0.9266 - val_loss: 0.2335 - val_acc: 0.9173\n",
      "Epoch 6/100\n",
      "121/121 [==============================] - ETA: 0s - loss: 0.1933 - acc: 0.9309\n",
      "Epoch 6: val_loss did not improve from 0.23354\n",
      "121/121 [==============================] - 0s 4ms/step - loss: 0.1933 - acc: 0.9309 - val_loss: 0.2354 - val_acc: 0.9151\n",
      "Epoch 7/100\n",
      "121/121 [==============================] - ETA: 0s - loss: 0.1822 - acc: 0.9363\n",
      "Epoch 7: val_loss did not improve from 0.23354\n",
      "121/121 [==============================] - 0s 4ms/step - loss: 0.1822 - acc: 0.9363 - val_loss: 0.2432 - val_acc: 0.9110\n",
      "Epoch 8/100\n",
      "109/121 [==========================>...] - ETA: 0s - loss: 0.1635 - acc: 0.9428\n",
      "Epoch 8: val_loss did not improve from 0.23354\n",
      "121/121 [==============================] - 0s 4ms/step - loss: 0.1639 - acc: 0.9431 - val_loss: 0.2505 - val_acc: 0.9119\n",
      "138/138 [==============================] - 0s 901us/step\n",
      "0.8760650826205703 0.5624562244325588 0.9144348615524285 0.4606580829756795\n"
     ]
    },
    {
     "name": "stderr",
     "output_type": "stream",
     "text": [
      "2023-11-13 00:07:36.128032: I tensorflow/core/common_runtime/gpu/gpu_device.cc:1886] Created device /job:localhost/replica:0/task:0/device:GPU:0 with 13074 MB memory:  -> device: 0, name: Quadro RTX 5000, pci bus id: 0000:2b:00.0, compute capability: 7.5\n",
      "2023-11-13 00:07:36.138484: I tensorflow/core/common_runtime/gpu/gpu_device.cc:1886] Created device /job:localhost/replica:0/task:0/device:GPU:0 with 13074 MB memory:  -> device: 0, name: Quadro RTX 5000, pci bus id: 0000:2b:00.0, compute capability: 7.5\n"
     ]
    },
    {
     "name": "stdout",
     "output_type": "stream",
     "text": [
      "Problem type:  mort_icu\n",
      "__________________\n",
      "Epoch 1/100\n",
      "119/121 [============================>.] - ETA: 0s - loss: 0.2452 - acc: 0.9185\n",
      "Epoch 1: val_loss improved from inf to 0.18472, saving model to ../results/timeseries-baseline/GRU-256-mort_icu-best_model.hdf5\n",
      "121/121 [==============================] - 2s 6ms/step - loss: 0.2448 - acc: 0.9187 - val_loss: 0.1847 - val_acc: 0.9419\n",
      "Epoch 2/100\n",
      " 54/121 [============>.................] - ETA: 0s - loss: 0.1831 - acc: 0.9417"
     ]
    },
    {
     "name": "stderr",
     "output_type": "stream",
     "text": [
      "/data/apps/miniforge3/envs/cse6250-project/lib/python3.9/site-packages/keras/src/engine/training.py:3079: UserWarning: You are saving your model as an HDF5 file via `model.save()`. This file format is considered legacy. We recommend using instead the native Keras format, e.g. `model.save('my_model.keras')`.\n",
      "  saving_api.save_model(\n"
     ]
    },
    {
     "name": "stdout",
     "output_type": "stream",
     "text": [
      "118/121 [============================>.] - ETA: 0s - loss: 0.1814 - acc: 0.9410\n",
      "Epoch 2: val_loss improved from 0.18472 to 0.17299, saving model to ../results/timeseries-baseline/GRU-256-mort_icu-best_model.hdf5\n",
      "121/121 [==============================] - 0s 4ms/step - loss: 0.1807 - acc: 0.9414 - val_loss: 0.1730 - val_acc: 0.9405\n",
      "Epoch 3/100\n",
      "116/121 [===========================>..] - ETA: 0s - loss: 0.1673 - acc: 0.9446\n",
      "Epoch 3: val_loss improved from 0.17299 to 0.17199, saving model to ../results/timeseries-baseline/GRU-256-mort_icu-best_model.hdf5\n",
      "121/121 [==============================] - 0s 4ms/step - loss: 0.1664 - acc: 0.9450 - val_loss: 0.1720 - val_acc: 0.9432\n",
      "Epoch 4/100\n",
      "118/121 [============================>.] - ETA: 0s - loss: 0.1552 - acc: 0.9483\n",
      "Epoch 4: val_loss improved from 0.17199 to 0.16409, saving model to ../results/timeseries-baseline/GRU-256-mort_icu-best_model.hdf5\n",
      "121/121 [==============================] - 0s 4ms/step - loss: 0.1551 - acc: 0.9480 - val_loss: 0.1641 - val_acc: 0.9428\n",
      "Epoch 5/100\n",
      "116/121 [===========================>..] - ETA: 0s - loss: 0.1440 - acc: 0.9510\n",
      "Epoch 5: val_loss improved from 0.16409 to 0.16172, saving model to ../results/timeseries-baseline/GRU-256-mort_icu-best_model.hdf5\n",
      "121/121 [==============================] - 0s 4ms/step - loss: 0.1448 - acc: 0.9503 - val_loss: 0.1617 - val_acc: 0.9432\n",
      "Epoch 6/100\n",
      "106/121 [=========================>....] - ETA: 0s - loss: 0.1342 - acc: 0.9555\n",
      "Epoch 6: val_loss did not improve from 0.16172\n",
      "121/121 [==============================] - 0s 3ms/step - loss: 0.1345 - acc: 0.9559 - val_loss: 0.1770 - val_acc: 0.9410\n",
      "Epoch 7/100\n",
      "115/121 [===========================>..] - ETA: 0s - loss: 0.1244 - acc: 0.9575\n",
      "Epoch 7: val_loss did not improve from 0.16172\n",
      "121/121 [==============================] - 0s 4ms/step - loss: 0.1232 - acc: 0.9579 - val_loss: 0.1831 - val_acc: 0.9378\n",
      "Epoch 8/100\n",
      "110/121 [==========================>...] - ETA: 0s - loss: 0.1080 - acc: 0.9649\n",
      "Epoch 8: val_loss did not improve from 0.16172\n",
      "121/121 [==============================] - 0s 4ms/step - loss: 0.1093 - acc: 0.9643 - val_loss: 0.1838 - val_acc: 0.9391\n",
      "138/138 [==============================] - 0s 854us/step\n",
      "0.8857564304632031 0.5242130160322261 0.9396277802995915 0.4267241379310345\n"
     ]
    },
    {
     "name": "stderr",
     "output_type": "stream",
     "text": [
      "2023-11-13 00:07:43.995569: I tensorflow/core/common_runtime/gpu/gpu_device.cc:1886] Created device /job:localhost/replica:0/task:0/device:GPU:0 with 13074 MB memory:  -> device: 0, name: Quadro RTX 5000, pci bus id: 0000:2b:00.0, compute capability: 7.5\n",
      "2023-11-13 00:07:44.005421: I tensorflow/core/common_runtime/gpu/gpu_device.cc:1886] Created device /job:localhost/replica:0/task:0/device:GPU:0 with 13074 MB memory:  -> device: 0, name: Quadro RTX 5000, pci bus id: 0000:2b:00.0, compute capability: 7.5\n"
     ]
    },
    {
     "name": "stdout",
     "output_type": "stream",
     "text": [
      "Problem type:  los_3\n",
      "__________________\n",
      "Epoch 1/100\n",
      "110/121 [==========================>...] - ETA: 0s - loss: 0.6606 - acc: 0.6378\n",
      "Epoch 1: val_loss improved from inf to 0.64026, saving model to ../results/timeseries-baseline/GRU-256-los_3-best_model.hdf5\n",
      "121/121 [==============================] - 1s 6ms/step - loss: 0.6596 - acc: 0.6381 - val_loss: 0.6403 - val_acc: 0.6721\n",
      "Epoch 2/100\n",
      " 53/121 [============>.................] - ETA: 0s - loss: 0.6462 - acc: 0.6487"
     ]
    },
    {
     "name": "stderr",
     "output_type": "stream",
     "text": [
      "/data/apps/miniforge3/envs/cse6250-project/lib/python3.9/site-packages/keras/src/engine/training.py:3079: UserWarning: You are saving your model as an HDF5 file via `model.save()`. This file format is considered legacy. We recommend using instead the native Keras format, e.g. `model.save('my_model.keras')`.\n",
      "  saving_api.save_model(\n"
     ]
    },
    {
     "name": "stdout",
     "output_type": "stream",
     "text": [
      "117/121 [============================>.] - ETA: 0s - loss: 0.6362 - acc: 0.6600\n",
      "Epoch 2: val_loss improved from 0.64026 to 0.63970, saving model to ../results/timeseries-baseline/GRU-256-los_3-best_model.hdf5\n",
      "121/121 [==============================] - 0s 4ms/step - loss: 0.6360 - acc: 0.6601 - val_loss: 0.6397 - val_acc: 0.6503\n",
      "Epoch 3/100\n",
      "114/121 [===========================>..] - ETA: 0s - loss: 0.6221 - acc: 0.6685\n",
      "Epoch 3: val_loss improved from 0.63970 to 0.62317, saving model to ../results/timeseries-baseline/GRU-256-los_3-best_model.hdf5\n",
      "121/121 [==============================] - 0s 4ms/step - loss: 0.6221 - acc: 0.6690 - val_loss: 0.6232 - val_acc: 0.6649\n",
      "Epoch 4/100\n",
      "118/121 [============================>.] - ETA: 0s - loss: 0.6099 - acc: 0.6764\n",
      "Epoch 4: val_loss improved from 0.62317 to 0.62123, saving model to ../results/timeseries-baseline/GRU-256-los_3-best_model.hdf5\n",
      "121/121 [==============================] - 0s 4ms/step - loss: 0.6099 - acc: 0.6761 - val_loss: 0.6212 - val_acc: 0.6612\n",
      "Epoch 5/100\n",
      "116/121 [===========================>..] - ETA: 0s - loss: 0.5980 - acc: 0.6861\n",
      "Epoch 5: val_loss improved from 0.62123 to 0.61664, saving model to ../results/timeseries-baseline/GRU-256-los_3-best_model.hdf5\n",
      "121/121 [==============================] - 0s 4ms/step - loss: 0.5985 - acc: 0.6852 - val_loss: 0.6166 - val_acc: 0.6689\n",
      "Epoch 6/100\n",
      "119/121 [============================>.] - ETA: 0s - loss: 0.5827 - acc: 0.7033\n",
      "Epoch 6: val_loss did not improve from 0.61664\n",
      "121/121 [==============================] - 0s 3ms/step - loss: 0.5824 - acc: 0.7034 - val_loss: 0.6245 - val_acc: 0.6644\n",
      "Epoch 7/100\n",
      "110/121 [==========================>...] - ETA: 0s - loss: 0.5631 - acc: 0.7195\n",
      "Epoch 7: val_loss did not improve from 0.61664\n",
      "121/121 [==============================] - 0s 4ms/step - loss: 0.5631 - acc: 0.7182 - val_loss: 0.6304 - val_acc: 0.6639\n",
      "Epoch 8/100\n",
      "118/121 [============================>.] - ETA: 0s - loss: 0.5373 - acc: 0.7356\n",
      "Epoch 8: val_loss did not improve from 0.61664\n",
      "121/121 [==============================] - 0s 4ms/step - loss: 0.5374 - acc: 0.7353 - val_loss: 0.6340 - val_acc: 0.6649\n",
      "138/138 [==============================] - 0s 887us/step\n",
      "0.6878377013583801 0.6353801816329875 0.6536541080344984 0.5672149744753262\n"
     ]
    },
    {
     "name": "stderr",
     "output_type": "stream",
     "text": [
      "2023-11-13 00:07:51.625313: I tensorflow/core/common_runtime/gpu/gpu_device.cc:1886] Created device /job:localhost/replica:0/task:0/device:GPU:0 with 13074 MB memory:  -> device: 0, name: Quadro RTX 5000, pci bus id: 0000:2b:00.0, compute capability: 7.5\n",
      "2023-11-13 00:07:51.635185: I tensorflow/core/common_runtime/gpu/gpu_device.cc:1886] Created device /job:localhost/replica:0/task:0/device:GPU:0 with 13074 MB memory:  -> device: 0, name: Quadro RTX 5000, pci bus id: 0000:2b:00.0, compute capability: 7.5\n"
     ]
    },
    {
     "name": "stdout",
     "output_type": "stream",
     "text": [
      "Problem type:  los_7\n",
      "__________________\n",
      "Epoch 1/100\n",
      "111/121 [==========================>...] - ETA: 0s - loss: 0.3197 - acc: 0.8979\n",
      "Epoch 1: val_loss improved from inf to 0.26964, saving model to ../results/timeseries-baseline/GRU-256-los_7-best_model.hdf5\n",
      "121/121 [==============================] - 1s 6ms/step - loss: 0.3160 - acc: 0.8997 - val_loss: 0.2696 - val_acc: 0.9214\n",
      "Epoch 2/100\n",
      " 56/121 [============>.................] - ETA: 0s - loss: 0.2554 - acc: 0.9240"
     ]
    },
    {
     "name": "stderr",
     "output_type": "stream",
     "text": [
      "/data/apps/miniforge3/envs/cse6250-project/lib/python3.9/site-packages/keras/src/engine/training.py:3079: UserWarning: You are saving your model as an HDF5 file via `model.save()`. This file format is considered legacy. We recommend using instead the native Keras format, e.g. `model.save('my_model.keras')`.\n",
      "  saving_api.save_model(\n"
     ]
    },
    {
     "name": "stdout",
     "output_type": "stream",
     "text": [
      "118/121 [============================>.] - ETA: 0s - loss: 0.2580 - acc: 0.9213\n",
      "Epoch 2: val_loss improved from 0.26964 to 0.26484, saving model to ../results/timeseries-baseline/GRU-256-los_7-best_model.hdf5\n",
      "121/121 [==============================] - 0s 4ms/step - loss: 0.2591 - acc: 0.9208 - val_loss: 0.2648 - val_acc: 0.9223\n",
      "Epoch 3/100\n",
      "110/121 [==========================>...] - ETA: 0s - loss: 0.2492 - acc: 0.9218\n",
      "Epoch 3: val_loss improved from 0.26484 to 0.25985, saving model to ../results/timeseries-baseline/GRU-256-los_7-best_model.hdf5\n",
      "121/121 [==============================] - 0s 4ms/step - loss: 0.2486 - acc: 0.9220 - val_loss: 0.2598 - val_acc: 0.9214\n",
      "Epoch 4/100\n",
      "121/121 [==============================] - ETA: 0s - loss: 0.2408 - acc: 0.9230\n",
      "Epoch 4: val_loss improved from 0.25985 to 0.25502, saving model to ../results/timeseries-baseline/GRU-256-los_7-best_model.hdf5\n",
      "121/121 [==============================] - 0s 4ms/step - loss: 0.2408 - acc: 0.9230 - val_loss: 0.2550 - val_acc: 0.9214\n",
      "Epoch 5/100\n",
      "113/121 [===========================>..] - ETA: 0s - loss: 0.2353 - acc: 0.9246\n",
      "Epoch 5: val_loss did not improve from 0.25502\n",
      "121/121 [==============================] - 0s 4ms/step - loss: 0.2365 - acc: 0.9241 - val_loss: 0.2583 - val_acc: 0.9196\n",
      "Epoch 6/100\n",
      "115/121 [===========================>..] - ETA: 0s - loss: 0.2263 - acc: 0.9255\n",
      "Epoch 6: val_loss did not improve from 0.25502\n",
      "121/121 [==============================] - 0s 4ms/step - loss: 0.2256 - acc: 0.9257 - val_loss: 0.2641 - val_acc: 0.9183\n",
      "Epoch 7/100\n",
      "112/121 [==========================>...] - ETA: 0s - loss: 0.2171 - acc: 0.9284\n",
      "Epoch 7: val_loss did not improve from 0.25502\n",
      "121/121 [==============================] - 0s 4ms/step - loss: 0.2171 - acc: 0.9287 - val_loss: 0.2711 - val_acc: 0.9187\n",
      "138/138 [==============================] - 0s 940us/step\n",
      "0.7335857955333611 0.21284533164355723 0.9198819791193826 0.03814713896457766\n"
     ]
    },
    {
     "name": "stderr",
     "output_type": "stream",
     "text": [
      "2023-11-13 00:07:58.890924: I tensorflow/core/common_runtime/gpu/gpu_device.cc:1886] Created device /job:localhost/replica:0/task:0/device:GPU:0 with 13074 MB memory:  -> device: 0, name: Quadro RTX 5000, pci bus id: 0000:2b:00.0, compute capability: 7.5\n",
      "2023-11-13 00:07:58.903506: I tensorflow/core/common_runtime/gpu/gpu_device.cc:1886] Created device /job:localhost/replica:0/task:0/device:GPU:0 with 13074 MB memory:  -> device: 0, name: Quadro RTX 5000, pci bus id: 0000:2b:00.0, compute capability: 7.5\n"
     ]
    },
    {
     "name": "stdout",
     "output_type": "stream",
     "text": [
      "Iteration number:  2\n",
      "=============================\n",
      "Problem type:  mort_hosp\n",
      "__________________\n",
      "Epoch 1/100\n",
      "119/121 [============================>.] - ETA: 0s - loss: 0.3082 - acc: 0.8873\n",
      "Epoch 1: val_loss improved from inf to 0.24809, saving model to ../results/timeseries-baseline/GRU-256-mort_hosp-best_model.hdf5\n",
      "121/121 [==============================] - 2s 6ms/step - loss: 0.3075 - acc: 0.8878 - val_loss: 0.2481 - val_acc: 0.9142\n",
      "Epoch 2/100\n",
      " 54/121 [============>.................] - ETA: 0s - loss: 0.2506 - acc: 0.9136"
     ]
    },
    {
     "name": "stderr",
     "output_type": "stream",
     "text": [
      "/data/apps/miniforge3/envs/cse6250-project/lib/python3.9/site-packages/keras/src/engine/training.py:3079: UserWarning: You are saving your model as an HDF5 file via `model.save()`. This file format is considered legacy. We recommend using instead the native Keras format, e.g. `model.save('my_model.keras')`.\n",
      "  saving_api.save_model(\n"
     ]
    },
    {
     "name": "stdout",
     "output_type": "stream",
     "text": [
      "118/121 [============================>.] - ETA: 0s - loss: 0.2478 - acc: 0.9127\n",
      "Epoch 2: val_loss improved from 0.24809 to 0.24101, saving model to ../results/timeseries-baseline/GRU-256-mort_hosp-best_model.hdf5\n",
      "121/121 [==============================] - 0s 4ms/step - loss: 0.2469 - acc: 0.9128 - val_loss: 0.2410 - val_acc: 0.9137\n",
      "Epoch 3/100\n",
      "112/121 [==========================>...] - ETA: 0s - loss: 0.2323 - acc: 0.9176\n",
      "Epoch 3: val_loss improved from 0.24101 to 0.24084, saving model to ../results/timeseries-baseline/GRU-256-mort_hosp-best_model.hdf5\n",
      "121/121 [==============================] - 0s 4ms/step - loss: 0.2305 - acc: 0.9177 - val_loss: 0.2408 - val_acc: 0.9133\n",
      "Epoch 4/100\n",
      "108/121 [=========================>....] - ETA: 0s - loss: 0.2196 - acc: 0.9226\n",
      "Epoch 4: val_loss improved from 0.24084 to 0.23418, saving model to ../results/timeseries-baseline/GRU-256-mort_hosp-best_model.hdf5\n",
      "121/121 [==============================] - 0s 4ms/step - loss: 0.2178 - acc: 0.9228 - val_loss: 0.2342 - val_acc: 0.9155\n",
      "Epoch 5/100\n",
      "112/121 [==========================>...] - ETA: 0s - loss: 0.2042 - acc: 0.9284\n",
      "Epoch 5: val_loss did not improve from 0.23418\n",
      "121/121 [==============================] - 0s 4ms/step - loss: 0.2056 - acc: 0.9274 - val_loss: 0.2427 - val_acc: 0.9074\n",
      "Epoch 6/100\n",
      "116/121 [===========================>..] - ETA: 0s - loss: 0.1931 - acc: 0.9316\n",
      "Epoch 6: val_loss did not improve from 0.23418\n",
      "121/121 [==============================] - 0s 4ms/step - loss: 0.1939 - acc: 0.9312 - val_loss: 0.2405 - val_acc: 0.9164\n",
      "Epoch 7/100\n",
      "111/121 [==========================>...] - ETA: 0s - loss: 0.1823 - acc: 0.9363\n",
      "Epoch 7: val_loss did not improve from 0.23418\n",
      "121/121 [==============================] - 0s 4ms/step - loss: 0.1837 - acc: 0.9359 - val_loss: 0.2433 - val_acc: 0.9114\n",
      "138/138 [==============================] - 0s 862us/step\n",
      "0.8802103275848342 0.5693985095345756 0.9153427144802542 0.4357034795763995\n"
     ]
    },
    {
     "name": "stderr",
     "output_type": "stream",
     "text": [
      "2023-11-13 00:08:06.251482: I tensorflow/core/common_runtime/gpu/gpu_device.cc:1886] Created device /job:localhost/replica:0/task:0/device:GPU:0 with 13074 MB memory:  -> device: 0, name: Quadro RTX 5000, pci bus id: 0000:2b:00.0, compute capability: 7.5\n",
      "2023-11-13 00:08:06.263563: I tensorflow/core/common_runtime/gpu/gpu_device.cc:1886] Created device /job:localhost/replica:0/task:0/device:GPU:0 with 13074 MB memory:  -> device: 0, name: Quadro RTX 5000, pci bus id: 0000:2b:00.0, compute capability: 7.5\n"
     ]
    },
    {
     "name": "stdout",
     "output_type": "stream",
     "text": [
      "Problem type:  mort_icu\n",
      "__________________\n",
      "Epoch 1/100\n",
      "116/121 [===========================>..] - ETA: 0s - loss: 0.2542 - acc: 0.9149\n",
      "Epoch 1: val_loss improved from inf to 0.18620, saving model to ../results/timeseries-baseline/GRU-256-mort_icu-best_model.hdf5\n",
      "121/121 [==============================] - 2s 5ms/step - loss: 0.2517 - acc: 0.9159 - val_loss: 0.1862 - val_acc: 0.9419\n",
      "Epoch 2/100\n",
      " 53/121 [============>.................] - ETA: 0s - loss: 0.1907 - acc: 0.9394"
     ]
    },
    {
     "name": "stderr",
     "output_type": "stream",
     "text": [
      "/data/apps/miniforge3/envs/cse6250-project/lib/python3.9/site-packages/keras/src/engine/training.py:3079: UserWarning: You are saving your model as an HDF5 file via `model.save()`. This file format is considered legacy. We recommend using instead the native Keras format, e.g. `model.save('my_model.keras')`.\n",
      "  saving_api.save_model(\n"
     ]
    },
    {
     "name": "stdout",
     "output_type": "stream",
     "text": [
      "118/121 [============================>.] - ETA: 0s - loss: 0.1821 - acc: 0.9417\n",
      "Epoch 2: val_loss improved from 0.18620 to 0.17402, saving model to ../results/timeseries-baseline/GRU-256-mort_icu-best_model.hdf5\n",
      "121/121 [==============================] - 0s 4ms/step - loss: 0.1823 - acc: 0.9416 - val_loss: 0.1740 - val_acc: 0.9414\n",
      "Epoch 3/100\n",
      "117/121 [============================>.] - ETA: 0s - loss: 0.1678 - acc: 0.9452\n",
      "Epoch 3: val_loss improved from 0.17402 to 0.16956, saving model to ../results/timeseries-baseline/GRU-256-mort_icu-best_model.hdf5\n",
      "121/121 [==============================] - 0s 4ms/step - loss: 0.1679 - acc: 0.9447 - val_loss: 0.1696 - val_acc: 0.9437\n",
      "Epoch 4/100\n",
      "109/121 [==========================>...] - ETA: 0s - loss: 0.1547 - acc: 0.9481\n",
      "Epoch 4: val_loss improved from 0.16956 to 0.16870, saving model to ../results/timeseries-baseline/GRU-256-mort_icu-best_model.hdf5\n",
      "121/121 [==============================] - 0s 4ms/step - loss: 0.1552 - acc: 0.9481 - val_loss: 0.1687 - val_acc: 0.9432\n",
      "Epoch 5/100\n",
      "113/121 [===========================>..] - ETA: 0s - loss: 0.1452 - acc: 0.9513\n",
      "Epoch 5: val_loss did not improve from 0.16870\n",
      "121/121 [==============================] - 0s 4ms/step - loss: 0.1460 - acc: 0.9509 - val_loss: 0.1720 - val_acc: 0.9382\n",
      "Epoch 6/100\n",
      "118/121 [============================>.] - ETA: 0s - loss: 0.1333 - acc: 0.9552\n",
      "Epoch 6: val_loss improved from 0.16870 to 0.16525, saving model to ../results/timeseries-baseline/GRU-256-mort_icu-best_model.hdf5\n",
      "121/121 [==============================] - 0s 4ms/step - loss: 0.1359 - acc: 0.9544 - val_loss: 0.1652 - val_acc: 0.9419\n",
      "Epoch 7/100\n",
      "108/121 [=========================>....] - ETA: 0s - loss: 0.1204 - acc: 0.9614\n",
      "Epoch 7: val_loss did not improve from 0.16525\n",
      "121/121 [==============================] - 0s 4ms/step - loss: 0.1208 - acc: 0.9614 - val_loss: 0.1825 - val_acc: 0.9364\n",
      "Epoch 8/100\n",
      "117/121 [============================>.] - ETA: 0s - loss: 0.1114 - acc: 0.9636\n",
      "Epoch 8: val_loss did not improve from 0.16525\n",
      "121/121 [==============================] - 0s 4ms/step - loss: 0.1123 - acc: 0.9633 - val_loss: 0.1850 - val_acc: 0.9391\n",
      "Epoch 9/100\n",
      "112/121 [==========================>...] - ETA: 0s - loss: 0.0938 - acc: 0.9713\n",
      "Epoch 9: val_loss did not improve from 0.16525\n",
      "121/121 [==============================] - 0s 4ms/step - loss: 0.0953 - acc: 0.9708 - val_loss: 0.1916 - val_acc: 0.9369\n",
      "138/138 [==============================] - 0s 865us/step\n",
      "0.8839048829166194 0.5114757024241303 0.9423513390830686 0.44298245614035087\n"
     ]
    },
    {
     "name": "stderr",
     "output_type": "stream",
     "text": [
      "2023-11-13 00:08:14.468628: I tensorflow/core/common_runtime/gpu/gpu_device.cc:1886] Created device /job:localhost/replica:0/task:0/device:GPU:0 with 13074 MB memory:  -> device: 0, name: Quadro RTX 5000, pci bus id: 0000:2b:00.0, compute capability: 7.5\n",
      "2023-11-13 00:08:14.479004: I tensorflow/core/common_runtime/gpu/gpu_device.cc:1886] Created device /job:localhost/replica:0/task:0/device:GPU:0 with 13074 MB memory:  -> device: 0, name: Quadro RTX 5000, pci bus id: 0000:2b:00.0, compute capability: 7.5\n"
     ]
    },
    {
     "name": "stdout",
     "output_type": "stream",
     "text": [
      "Problem type:  los_3\n",
      "__________________\n",
      "Epoch 1/100\n",
      "110/121 [==========================>...] - ETA: 0s - loss: 0.6611 - acc: 0.6330\n",
      "Epoch 1: val_loss improved from inf to 0.63569, saving model to ../results/timeseries-baseline/GRU-256-los_3-best_model.hdf5\n",
      "121/121 [==============================] - 2s 6ms/step - loss: 0.6595 - acc: 0.6357 - val_loss: 0.6357 - val_acc: 0.6703\n",
      "Epoch 2/100\n",
      " 50/121 [===========>..................] - ETA: 0s - loss: 0.6351 - acc: 0.6639"
     ]
    },
    {
     "name": "stderr",
     "output_type": "stream",
     "text": [
      "/data/apps/miniforge3/envs/cse6250-project/lib/python3.9/site-packages/keras/src/engine/training.py:3079: UserWarning: You are saving your model as an HDF5 file via `model.save()`. This file format is considered legacy. We recommend using instead the native Keras format, e.g. `model.save('my_model.keras')`.\n",
      "  saving_api.save_model(\n"
     ]
    },
    {
     "name": "stdout",
     "output_type": "stream",
     "text": [
      "118/121 [============================>.] - ETA: 0s - loss: 0.6347 - acc: 0.6596\n",
      "Epoch 2: val_loss improved from 0.63569 to 0.62600, saving model to ../results/timeseries-baseline/GRU-256-los_3-best_model.hdf5\n",
      "121/121 [==============================] - 0s 4ms/step - loss: 0.6352 - acc: 0.6589 - val_loss: 0.6260 - val_acc: 0.6780\n",
      "Epoch 3/100\n",
      "112/121 [==========================>...] - ETA: 0s - loss: 0.6206 - acc: 0.6692\n",
      "Epoch 3: val_loss improved from 0.62600 to 0.61847, saving model to ../results/timeseries-baseline/GRU-256-los_3-best_model.hdf5\n",
      "121/121 [==============================] - 0s 4ms/step - loss: 0.6210 - acc: 0.6687 - val_loss: 0.6185 - val_acc: 0.6676\n",
      "Epoch 4/100\n",
      "118/121 [============================>.] - ETA: 0s - loss: 0.6097 - acc: 0.6809\n",
      "Epoch 4: val_loss improved from 0.61847 to 0.61489, saving model to ../results/timeseries-baseline/GRU-256-los_3-best_model.hdf5\n",
      "121/121 [==============================] - 0s 4ms/step - loss: 0.6096 - acc: 0.6810 - val_loss: 0.6149 - val_acc: 0.6812\n",
      "Epoch 5/100\n",
      "107/121 [=========================>....] - ETA: 0s - loss: 0.5990 - acc: 0.6879\n",
      "Epoch 5: val_loss improved from 0.61489 to 0.61242, saving model to ../results/timeseries-baseline/GRU-256-los_3-best_model.hdf5\n",
      "121/121 [==============================] - 0s 3ms/step - loss: 0.5979 - acc: 0.6892 - val_loss: 0.6124 - val_acc: 0.6685\n",
      "Epoch 6/100\n",
      "121/121 [==============================] - ETA: 0s - loss: 0.5843 - acc: 0.7015\n",
      "Epoch 6: val_loss did not improve from 0.61242\n",
      "121/121 [==============================] - 0s 4ms/step - loss: 0.5843 - acc: 0.7015 - val_loss: 0.6138 - val_acc: 0.6680\n",
      "Epoch 7/100\n",
      "110/121 [==========================>...] - ETA: 0s - loss: 0.5618 - acc: 0.7205\n",
      "Epoch 7: val_loss did not improve from 0.61242\n",
      "121/121 [==============================] - 0s 4ms/step - loss: 0.5630 - acc: 0.7193 - val_loss: 0.6292 - val_acc: 0.6589\n",
      "Epoch 8/100\n",
      "113/121 [===========================>..] - ETA: 0s - loss: 0.5354 - acc: 0.7410\n",
      "Epoch 8: val_loss did not improve from 0.61242\n",
      "121/121 [==============================] - 0s 4ms/step - loss: 0.5371 - acc: 0.7388 - val_loss: 0.6427 - val_acc: 0.6580\n",
      "138/138 [==============================] - 0s 835us/step\n",
      "0.6938635139456983 0.637724875529093 0.657739446209714 0.5302180685358255\n"
     ]
    },
    {
     "name": "stderr",
     "output_type": "stream",
     "text": [
      "2023-11-13 00:08:22.207159: I tensorflow/core/common_runtime/gpu/gpu_device.cc:1886] Created device /job:localhost/replica:0/task:0/device:GPU:0 with 13074 MB memory:  -> device: 0, name: Quadro RTX 5000, pci bus id: 0000:2b:00.0, compute capability: 7.5\n",
      "2023-11-13 00:08:22.217278: I tensorflow/core/common_runtime/gpu/gpu_device.cc:1886] Created device /job:localhost/replica:0/task:0/device:GPU:0 with 13074 MB memory:  -> device: 0, name: Quadro RTX 5000, pci bus id: 0000:2b:00.0, compute capability: 7.5\n"
     ]
    },
    {
     "name": "stdout",
     "output_type": "stream",
     "text": [
      "Problem type:  los_7\n",
      "__________________\n",
      "Epoch 1/100\n",
      "109/121 [==========================>...] - ETA: 0s - loss: 0.3261 - acc: 0.8944\n",
      "Epoch 1: val_loss improved from inf to 0.26848, saving model to ../results/timeseries-baseline/GRU-256-los_7-best_model.hdf5\n",
      "121/121 [==============================] - 1s 6ms/step - loss: 0.3201 - acc: 0.8976 - val_loss: 0.2685 - val_acc: 0.9233\n",
      "Epoch 2/100\n",
      " 54/121 [============>.................] - ETA: 0s - loss: 0.2538 - acc: 0.9243"
     ]
    },
    {
     "name": "stderr",
     "output_type": "stream",
     "text": [
      "/data/apps/miniforge3/envs/cse6250-project/lib/python3.9/site-packages/keras/src/engine/training.py:3079: UserWarning: You are saving your model as an HDF5 file via `model.save()`. This file format is considered legacy. We recommend using instead the native Keras format, e.g. `model.save('my_model.keras')`.\n",
      "  saving_api.save_model(\n"
     ]
    },
    {
     "name": "stdout",
     "output_type": "stream",
     "text": [
      "106/121 [=========================>....] - ETA: 0s - loss: 0.2600 - acc: 0.9220\n",
      "Epoch 2: val_loss improved from 0.26848 to 0.26229, saving model to ../results/timeseries-baseline/GRU-256-los_7-best_model.hdf5\n",
      "121/121 [==============================] - 0s 3ms/step - loss: 0.2611 - acc: 0.9214 - val_loss: 0.2623 - val_acc: 0.9228\n",
      "Epoch 3/100\n",
      "120/121 [============================>.] - ETA: 0s - loss: 0.2490 - acc: 0.9225\n",
      "Epoch 3: val_loss improved from 0.26229 to 0.26025, saving model to ../results/timeseries-baseline/GRU-256-los_7-best_model.hdf5\n",
      "121/121 [==============================] - 0s 4ms/step - loss: 0.2490 - acc: 0.9225 - val_loss: 0.2603 - val_acc: 0.9228\n",
      "Epoch 4/100\n",
      "113/121 [===========================>..] - ETA: 0s - loss: 0.2427 - acc: 0.9226\n",
      "Epoch 4: val_loss improved from 0.26025 to 0.25968, saving model to ../results/timeseries-baseline/GRU-256-los_7-best_model.hdf5\n",
      "121/121 [==============================] - 0s 4ms/step - loss: 0.2423 - acc: 0.9230 - val_loss: 0.2597 - val_acc: 0.9219\n",
      "Epoch 5/100\n",
      "115/121 [===========================>..] - ETA: 0s - loss: 0.2341 - acc: 0.9236\n",
      "Epoch 5: val_loss improved from 0.25968 to 0.25522, saving model to ../results/timeseries-baseline/GRU-256-los_7-best_model.hdf5\n",
      "121/121 [==============================] - 0s 4ms/step - loss: 0.2338 - acc: 0.9237 - val_loss: 0.2552 - val_acc: 0.9210\n",
      "Epoch 6/100\n",
      "121/121 [==============================] - ETA: 0s - loss: 0.2260 - acc: 0.9257\n",
      "Epoch 6: val_loss improved from 0.25522 to 0.25448, saving model to ../results/timeseries-baseline/GRU-256-los_7-best_model.hdf5\n",
      "121/121 [==============================] - 0s 4ms/step - loss: 0.2260 - acc: 0.9257 - val_loss: 0.2545 - val_acc: 0.9223\n",
      "Epoch 7/100\n",
      "117/121 [============================>.] - ETA: 0s - loss: 0.2143 - acc: 0.9286\n",
      "Epoch 7: val_loss did not improve from 0.25448\n",
      "121/121 [==============================] - 0s 3ms/step - loss: 0.2146 - acc: 0.9285 - val_loss: 0.2620 - val_acc: 0.9228\n",
      "Epoch 8/100\n",
      "109/121 [==========================>...] - ETA: 0s - loss: 0.2016 - acc: 0.9328\n",
      "Epoch 8: val_loss did not improve from 0.25448\n",
      "121/121 [==============================] - 0s 4ms/step - loss: 0.1997 - acc: 0.9333 - val_loss: 0.2712 - val_acc: 0.9219\n",
      "Epoch 9/100\n",
      "121/121 [==============================] - ETA: 0s - loss: 0.1822 - acc: 0.9402\n",
      "Epoch 9: val_loss did not improve from 0.25448\n",
      "121/121 [==============================] - 0s 3ms/step - loss: 0.1822 - acc: 0.9402 - val_loss: 0.2853 - val_acc: 0.9142\n",
      "138/138 [==============================] - 0s 923us/step\n",
      "0.733454709391039 0.20755960917919708 0.9142078983204721 0.06435643564356436\n"
     ]
    },
    {
     "name": "stderr",
     "output_type": "stream",
     "text": [
      "2023-11-13 00:08:30.185339: I tensorflow/core/common_runtime/gpu/gpu_device.cc:1886] Created device /job:localhost/replica:0/task:0/device:GPU:0 with 13074 MB memory:  -> device: 0, name: Quadro RTX 5000, pci bus id: 0000:2b:00.0, compute capability: 7.5\n",
      "2023-11-13 00:08:30.195031: I tensorflow/core/common_runtime/gpu/gpu_device.cc:1886] Created device /job:localhost/replica:0/task:0/device:GPU:0 with 13074 MB memory:  -> device: 0, name: Quadro RTX 5000, pci bus id: 0000:2b:00.0, compute capability: 7.5\n"
     ]
    },
    {
     "name": "stdout",
     "output_type": "stream",
     "text": [
      "Iteration number:  3\n",
      "=============================\n",
      "Problem type:  mort_hosp\n",
      "__________________\n",
      "Epoch 1/100\n",
      "115/121 [===========================>..] - ETA: 0s - loss: 0.3115 - acc: 0.8870\n",
      "Epoch 1: val_loss improved from inf to 0.25448, saving model to ../results/timeseries-baseline/GRU-256-mort_hosp-best_model.hdf5\n",
      "121/121 [==============================] - 1s 5ms/step - loss: 0.3097 - acc: 0.8876 - val_loss: 0.2545 - val_acc: 0.9124\n",
      "Epoch 2/100\n",
      " 51/121 [===========>..................] - ETA: 0s - loss: 0.2501 - acc: 0.9144"
     ]
    },
    {
     "name": "stderr",
     "output_type": "stream",
     "text": [
      "/data/apps/miniforge3/envs/cse6250-project/lib/python3.9/site-packages/keras/src/engine/training.py:3079: UserWarning: You are saving your model as an HDF5 file via `model.save()`. This file format is considered legacy. We recommend using instead the native Keras format, e.g. `model.save('my_model.keras')`.\n",
      "  saving_api.save_model(\n"
     ]
    },
    {
     "name": "stdout",
     "output_type": "stream",
     "text": [
      "116/121 [===========================>..] - ETA: 0s - loss: 0.2451 - acc: 0.9138\n",
      "Epoch 2: val_loss improved from 0.25448 to 0.24327, saving model to ../results/timeseries-baseline/GRU-256-mort_hosp-best_model.hdf5\n",
      "121/121 [==============================] - 0s 4ms/step - loss: 0.2445 - acc: 0.9141 - val_loss: 0.2433 - val_acc: 0.9160\n",
      "Epoch 3/100\n",
      "118/121 [============================>.] - ETA: 0s - loss: 0.2304 - acc: 0.9174\n",
      "Epoch 3: val_loss improved from 0.24327 to 0.24182, saving model to ../results/timeseries-baseline/GRU-256-mort_hosp-best_model.hdf5\n",
      "121/121 [==============================] - 0s 4ms/step - loss: 0.2307 - acc: 0.9171 - val_loss: 0.2418 - val_acc: 0.9096\n",
      "Epoch 4/100\n",
      "117/121 [============================>.] - ETA: 0s - loss: 0.2169 - acc: 0.9219\n",
      "Epoch 4: val_loss did not improve from 0.24182\n",
      "121/121 [==============================] - 0s 4ms/step - loss: 0.2184 - acc: 0.9210 - val_loss: 0.2434 - val_acc: 0.9119\n",
      "Epoch 5/100\n",
      "120/121 [============================>.] - ETA: 0s - loss: 0.2100 - acc: 0.9231\n",
      "Epoch 5: val_loss improved from 0.24182 to 0.23230, saving model to ../results/timeseries-baseline/GRU-256-mort_hosp-best_model.hdf5\n",
      "121/121 [==============================] - 0s 4ms/step - loss: 0.2094 - acc: 0.9234 - val_loss: 0.2323 - val_acc: 0.9169\n",
      "Epoch 6/100\n",
      "109/121 [==========================>...] - ETA: 0s - loss: 0.1970 - acc: 0.9309\n",
      "Epoch 6: val_loss did not improve from 0.23230\n",
      "121/121 [==============================] - 0s 4ms/step - loss: 0.1965 - acc: 0.9310 - val_loss: 0.2469 - val_acc: 0.9119\n",
      "Epoch 7/100\n",
      "110/121 [==========================>...] - ETA: 0s - loss: 0.1835 - acc: 0.9346\n",
      "Epoch 7: val_loss did not improve from 0.23230\n",
      "121/121 [==============================] - 0s 4ms/step - loss: 0.1830 - acc: 0.9352 - val_loss: 0.2461 - val_acc: 0.9092\n",
      "Epoch 8/100\n",
      "109/121 [==========================>...] - ETA: 0s - loss: 0.1656 - acc: 0.9427\n",
      "Epoch 8: val_loss did not improve from 0.23230\n",
      "121/121 [==============================] - 0s 3ms/step - loss: 0.1680 - acc: 0.9415 - val_loss: 0.2614 - val_acc: 0.9046\n",
      "138/138 [==============================] - 0s 860us/step\n",
      "0.8814424196012571 0.549726696082758 0.911484339536995 0.4444444444444444\n"
     ]
    },
    {
     "name": "stderr",
     "output_type": "stream",
     "text": [
      "2023-11-13 00:08:37.759396: I tensorflow/core/common_runtime/gpu/gpu_device.cc:1886] Created device /job:localhost/replica:0/task:0/device:GPU:0 with 13074 MB memory:  -> device: 0, name: Quadro RTX 5000, pci bus id: 0000:2b:00.0, compute capability: 7.5\n",
      "2023-11-13 00:08:37.768780: I tensorflow/core/common_runtime/gpu/gpu_device.cc:1886] Created device /job:localhost/replica:0/task:0/device:GPU:0 with 13074 MB memory:  -> device: 0, name: Quadro RTX 5000, pci bus id: 0000:2b:00.0, compute capability: 7.5\n"
     ]
    },
    {
     "name": "stdout",
     "output_type": "stream",
     "text": [
      "Problem type:  mort_icu\n",
      "__________________\n",
      "Epoch 1/100\n",
      "111/121 [==========================>...] - ETA: 0s - loss: 0.2497 - acc: 0.9172\n",
      "Epoch 1: val_loss improved from inf to 0.18293, saving model to ../results/timeseries-baseline/GRU-256-mort_icu-best_model.hdf5\n",
      "121/121 [==============================] - 2s 6ms/step - loss: 0.2454 - acc: 0.9191 - val_loss: 0.1829 - val_acc: 0.9428\n",
      "Epoch 2/100\n",
      " 51/121 [===========>..................] - ETA: 0s - loss: 0.1753 - acc: 0.9441"
     ]
    },
    {
     "name": "stderr",
     "output_type": "stream",
     "text": [
      "/data/apps/miniforge3/envs/cse6250-project/lib/python3.9/site-packages/keras/src/engine/training.py:3079: UserWarning: You are saving your model as an HDF5 file via `model.save()`. This file format is considered legacy. We recommend using instead the native Keras format, e.g. `model.save('my_model.keras')`.\n",
      "  saving_api.save_model(\n"
     ]
    },
    {
     "name": "stdout",
     "output_type": "stream",
     "text": [
      "109/121 [==========================>...] - ETA: 0s - loss: 0.1764 - acc: 0.9432\n",
      "Epoch 2: val_loss improved from 0.18293 to 0.17027, saving model to ../results/timeseries-baseline/GRU-256-mort_icu-best_model.hdf5\n",
      "121/121 [==============================] - 0s 4ms/step - loss: 0.1782 - acc: 0.9425 - val_loss: 0.1703 - val_acc: 0.9414\n",
      "Epoch 3/100\n",
      "109/121 [==========================>...] - ETA: 0s - loss: 0.1652 - acc: 0.9459\n",
      "Epoch 3: val_loss did not improve from 0.17027\n",
      "121/121 [==============================] - 0s 4ms/step - loss: 0.1644 - acc: 0.9456 - val_loss: 0.1737 - val_acc: 0.9410\n",
      "Epoch 4/100\n",
      "107/121 [=========================>....] - ETA: 0s - loss: 0.1512 - acc: 0.9485\n",
      "Epoch 4: val_loss improved from 0.17027 to 0.16823, saving model to ../results/timeseries-baseline/GRU-256-mort_icu-best_model.hdf5\n",
      "121/121 [==============================] - 0s 4ms/step - loss: 0.1539 - acc: 0.9480 - val_loss: 0.1682 - val_acc: 0.9396\n",
      "Epoch 5/100\n",
      "118/121 [============================>.] - ETA: 0s - loss: 0.1454 - acc: 0.9508\n",
      "Epoch 5: val_loss did not improve from 0.16823\n",
      "121/121 [==============================] - 0s 3ms/step - loss: 0.1446 - acc: 0.9511 - val_loss: 0.1749 - val_acc: 0.9414\n",
      "Epoch 6/100\n",
      "113/121 [===========================>..] - ETA: 0s - loss: 0.1329 - acc: 0.9565\n",
      "Epoch 6: val_loss did not improve from 0.16823\n",
      "121/121 [==============================] - 0s 4ms/step - loss: 0.1340 - acc: 0.9560 - val_loss: 0.1743 - val_acc: 0.9410\n",
      "Epoch 7/100\n",
      "120/121 [============================>.] - ETA: 0s - loss: 0.1212 - acc: 0.9598\n",
      "Epoch 7: val_loss did not improve from 0.16823\n",
      "121/121 [==============================] - 0s 3ms/step - loss: 0.1215 - acc: 0.9596 - val_loss: 0.1803 - val_acc: 0.9355\n",
      "138/138 [==============================] - 0s 850us/step\n",
      "0.8850026963161146 0.5190605243522382 0.9418974126191557 0.43612334801762115\n"
     ]
    },
    {
     "name": "stderr",
     "output_type": "stream",
     "text": [
      "2023-11-13 00:08:45.222985: I tensorflow/core/common_runtime/gpu/gpu_device.cc:1886] Created device /job:localhost/replica:0/task:0/device:GPU:0 with 13074 MB memory:  -> device: 0, name: Quadro RTX 5000, pci bus id: 0000:2b:00.0, compute capability: 7.5\n",
      "2023-11-13 00:08:45.234151: I tensorflow/core/common_runtime/gpu/gpu_device.cc:1886] Created device /job:localhost/replica:0/task:0/device:GPU:0 with 13074 MB memory:  -> device: 0, name: Quadro RTX 5000, pci bus id: 0000:2b:00.0, compute capability: 7.5\n"
     ]
    },
    {
     "name": "stdout",
     "output_type": "stream",
     "text": [
      "Problem type:  los_3\n",
      "__________________\n",
      "Epoch 1/100\n",
      "110/121 [==========================>...] - ETA: 0s - loss: 0.6625 - acc: 0.6334\n",
      "Epoch 1: val_loss improved from inf to 0.63728, saving model to ../results/timeseries-baseline/GRU-256-los_3-best_model.hdf5\n",
      "121/121 [==============================] - 1s 5ms/step - loss: 0.6612 - acc: 0.6349 - val_loss: 0.6373 - val_acc: 0.6685\n",
      "Epoch 2/100\n",
      " 54/121 [============>.................] - ETA: 0s - loss: 0.6364 - acc: 0.6632"
     ]
    },
    {
     "name": "stderr",
     "output_type": "stream",
     "text": [
      "/data/apps/miniforge3/envs/cse6250-project/lib/python3.9/site-packages/keras/src/engine/training.py:3079: UserWarning: You are saving your model as an HDF5 file via `model.save()`. This file format is considered legacy. We recommend using instead the native Keras format, e.g. `model.save('my_model.keras')`.\n",
      "  saving_api.save_model(\n"
     ]
    },
    {
     "name": "stdout",
     "output_type": "stream",
     "text": [
      "116/121 [===========================>..] - ETA: 0s - loss: 0.6354 - acc: 0.6604\n",
      "Epoch 2: val_loss improved from 0.63728 to 0.62342, saving model to ../results/timeseries-baseline/GRU-256-los_3-best_model.hdf5\n",
      "121/121 [==============================] - 0s 4ms/step - loss: 0.6361 - acc: 0.6599 - val_loss: 0.6234 - val_acc: 0.6717\n",
      "Epoch 3/100\n",
      "118/121 [============================>.] - ETA: 0s - loss: 0.6221 - acc: 0.6698\n",
      "Epoch 3: val_loss improved from 0.62342 to 0.62147, saving model to ../results/timeseries-baseline/GRU-256-los_3-best_model.hdf5\n",
      "121/121 [==============================] - 0s 4ms/step - loss: 0.6225 - acc: 0.6693 - val_loss: 0.6215 - val_acc: 0.6621\n",
      "Epoch 4/100\n",
      "121/121 [==============================] - ETA: 0s - loss: 0.6113 - acc: 0.6772\n",
      "Epoch 4: val_loss improved from 0.62147 to 0.61459, saving model to ../results/timeseries-baseline/GRU-256-los_3-best_model.hdf5\n",
      "121/121 [==============================] - 0s 4ms/step - loss: 0.6113 - acc: 0.6772 - val_loss: 0.6146 - val_acc: 0.6730\n",
      "Epoch 5/100\n",
      "115/121 [===========================>..] - ETA: 0s - loss: 0.5978 - acc: 0.6897\n",
      "Epoch 5: val_loss did not improve from 0.61459\n",
      "121/121 [==============================] - 0s 4ms/step - loss: 0.5979 - acc: 0.6892 - val_loss: 0.6173 - val_acc: 0.6726\n",
      "Epoch 6/100\n",
      "118/121 [============================>.] - ETA: 0s - loss: 0.5839 - acc: 0.6997\n",
      "Epoch 6: val_loss did not improve from 0.61459\n",
      "121/121 [==============================] - 0s 3ms/step - loss: 0.5842 - acc: 0.6994 - val_loss: 0.6206 - val_acc: 0.6662\n",
      "Epoch 7/100\n",
      "112/121 [==========================>...] - ETA: 0s - loss: 0.5614 - acc: 0.7204\n",
      "Epoch 7: val_loss did not improve from 0.61459\n",
      "121/121 [==============================] - 0s 4ms/step - loss: 0.5633 - acc: 0.7190 - val_loss: 0.6314 - val_acc: 0.6503\n",
      "138/138 [==============================] - 0s 840us/step\n",
      "0.6935513768957566 0.637249184715314 0.6579664094416704 0.535020055538414\n"
     ]
    },
    {
     "name": "stderr",
     "output_type": "stream",
     "text": [
      "2023-11-13 00:08:52.313719: I tensorflow/core/common_runtime/gpu/gpu_device.cc:1886] Created device /job:localhost/replica:0/task:0/device:GPU:0 with 13074 MB memory:  -> device: 0, name: Quadro RTX 5000, pci bus id: 0000:2b:00.0, compute capability: 7.5\n",
      "2023-11-13 00:08:52.322685: I tensorflow/core/common_runtime/gpu/gpu_device.cc:1886] Created device /job:localhost/replica:0/task:0/device:GPU:0 with 13074 MB memory:  -> device: 0, name: Quadro RTX 5000, pci bus id: 0000:2b:00.0, compute capability: 7.5\n"
     ]
    },
    {
     "name": "stdout",
     "output_type": "stream",
     "text": [
      "Problem type:  los_7\n",
      "__________________\n",
      "Epoch 1/100\n",
      "113/121 [===========================>..] - ETA: 0s - loss: 0.3171 - acc: 0.8959\n",
      "Epoch 1: val_loss improved from inf to 0.27226, saving model to ../results/timeseries-baseline/GRU-256-los_7-best_model.hdf5\n",
      "121/121 [==============================] - 2s 6ms/step - loss: 0.3143 - acc: 0.8979 - val_loss: 0.2723 - val_acc: 0.9214\n",
      "Epoch 2/100\n",
      " 58/121 [=============>................] - ETA: 0s - loss: 0.2607 - acc: 0.9223"
     ]
    },
    {
     "name": "stderr",
     "output_type": "stream",
     "text": [
      "/data/apps/miniforge3/envs/cse6250-project/lib/python3.9/site-packages/keras/src/engine/training.py:3079: UserWarning: You are saving your model as an HDF5 file via `model.save()`. This file format is considered legacy. We recommend using instead the native Keras format, e.g. `model.save('my_model.keras')`.\n",
      "  saving_api.save_model(\n"
     ]
    },
    {
     "name": "stdout",
     "output_type": "stream",
     "text": [
      "112/121 [==========================>...] - ETA: 0s - loss: 0.2595 - acc: 0.9221\n",
      "Epoch 2: val_loss improved from 0.27226 to 0.26070, saving model to ../results/timeseries-baseline/GRU-256-los_7-best_model.hdf5\n",
      "121/121 [==============================] - 0s 3ms/step - loss: 0.2591 - acc: 0.9221 - val_loss: 0.2607 - val_acc: 0.9214\n",
      "Epoch 3/100\n",
      "115/121 [===========================>..] - ETA: 0s - loss: 0.2481 - acc: 0.9226\n",
      "Epoch 3: val_loss improved from 0.26070 to 0.25755, saving model to ../results/timeseries-baseline/GRU-256-los_7-best_model.hdf5\n",
      "121/121 [==============================] - 0s 4ms/step - loss: 0.2485 - acc: 0.9223 - val_loss: 0.2576 - val_acc: 0.9214\n",
      "Epoch 4/100\n",
      "119/121 [============================>.] - ETA: 0s - loss: 0.2399 - acc: 0.9231\n",
      "Epoch 4: val_loss improved from 0.25755 to 0.25578, saving model to ../results/timeseries-baseline/GRU-256-los_7-best_model.hdf5\n",
      "121/121 [==============================] - 0s 4ms/step - loss: 0.2399 - acc: 0.9232 - val_loss: 0.2558 - val_acc: 0.9214\n",
      "Epoch 5/100\n",
      "116/121 [===========================>..] - ETA: 0s - loss: 0.2301 - acc: 0.9244\n",
      "Epoch 5: val_loss did not improve from 0.25578\n",
      "121/121 [==============================] - 0s 4ms/step - loss: 0.2318 - acc: 0.9237 - val_loss: 0.2598 - val_acc: 0.9223\n",
      "Epoch 6/100\n",
      "113/121 [===========================>..] - ETA: 0s - loss: 0.2234 - acc: 0.9263\n",
      "Epoch 6: val_loss did not improve from 0.25578\n",
      "121/121 [==============================] - 0s 4ms/step - loss: 0.2240 - acc: 0.9259 - val_loss: 0.2619 - val_acc: 0.9205\n",
      "Epoch 7/100\n",
      "119/121 [============================>.] - ETA: 0s - loss: 0.2105 - acc: 0.9301\n",
      "Epoch 7: val_loss did not improve from 0.25578\n",
      "121/121 [==============================] - 0s 3ms/step - loss: 0.2104 - acc: 0.9302 - val_loss: 0.2682 - val_acc: 0.9124\n",
      "138/138 [==============================] - 0s 863us/step\n",
      "0.7367575253155778 0.21900232163430416 0.9189741261915569 0.03773584905660378\n"
     ]
    },
    {
     "name": "stderr",
     "output_type": "stream",
     "text": [
      "2023-11-13 00:08:59.677319: I tensorflow/core/common_runtime/gpu/gpu_device.cc:1886] Created device /job:localhost/replica:0/task:0/device:GPU:0 with 13074 MB memory:  -> device: 0, name: Quadro RTX 5000, pci bus id: 0000:2b:00.0, compute capability: 7.5\n",
      "2023-11-13 00:08:59.688063: I tensorflow/core/common_runtime/gpu/gpu_device.cc:1886] Created device /job:localhost/replica:0/task:0/device:GPU:0 with 13074 MB memory:  -> device: 0, name: Quadro RTX 5000, pci bus id: 0000:2b:00.0, compute capability: 7.5\n"
     ]
    },
    {
     "name": "stdout",
     "output_type": "stream",
     "text": [
      "Iteration number:  4\n",
      "=============================\n",
      "Problem type:  mort_hosp\n",
      "__________________\n",
      "Epoch 1/100\n",
      "109/121 [==========================>...] - ETA: 0s - loss: 0.3153 - acc: 0.8865\n",
      "Epoch 1: val_loss improved from inf to 0.24538, saving model to ../results/timeseries-baseline/GRU-256-mort_hosp-best_model.hdf5\n",
      "121/121 [==============================] - 1s 5ms/step - loss: 0.3083 - acc: 0.8896 - val_loss: 0.2454 - val_acc: 0.9133\n",
      "Epoch 2/100\n",
      " 54/121 [============>.................] - ETA: 0s - loss: 0.2447 - acc: 0.9149"
     ]
    },
    {
     "name": "stderr",
     "output_type": "stream",
     "text": [
      "/data/apps/miniforge3/envs/cse6250-project/lib/python3.9/site-packages/keras/src/engine/training.py:3079: UserWarning: You are saving your model as an HDF5 file via `model.save()`. This file format is considered legacy. We recommend using instead the native Keras format, e.g. `model.save('my_model.keras')`.\n",
      "  saving_api.save_model(\n"
     ]
    },
    {
     "name": "stdout",
     "output_type": "stream",
     "text": [
      "118/121 [============================>.] - ETA: 0s - loss: 0.2446 - acc: 0.9135\n",
      "Epoch 2: val_loss improved from 0.24538 to 0.24434, saving model to ../results/timeseries-baseline/GRU-256-mort_hosp-best_model.hdf5\n",
      "121/121 [==============================] - 0s 4ms/step - loss: 0.2446 - acc: 0.9135 - val_loss: 0.2443 - val_acc: 0.9151\n",
      "Epoch 3/100\n",
      "113/121 [===========================>..] - ETA: 0s - loss: 0.2284 - acc: 0.9179\n",
      "Epoch 3: val_loss improved from 0.24434 to 0.23688, saving model to ../results/timeseries-baseline/GRU-256-mort_hosp-best_model.hdf5\n",
      "121/121 [==============================] - 0s 4ms/step - loss: 0.2297 - acc: 0.9175 - val_loss: 0.2369 - val_acc: 0.9160\n",
      "Epoch 4/100\n",
      "107/121 [=========================>....] - ETA: 0s - loss: 0.2163 - acc: 0.9231\n",
      "Epoch 4: val_loss improved from 0.23688 to 0.23383, saving model to ../results/timeseries-baseline/GRU-256-mort_hosp-best_model.hdf5\n",
      "121/121 [==============================] - 0s 3ms/step - loss: 0.2204 - acc: 0.9215 - val_loss: 0.2338 - val_acc: 0.9128\n",
      "Epoch 5/100\n",
      "106/121 [=========================>....] - ETA: 0s - loss: 0.2053 - acc: 0.9254\n",
      "Epoch 5: val_loss did not improve from 0.23383\n",
      "121/121 [==============================] - 0s 3ms/step - loss: 0.2066 - acc: 0.9246 - val_loss: 0.2377 - val_acc: 0.9101\n",
      "Epoch 6/100\n",
      "109/121 [==========================>...] - ETA: 0s - loss: 0.1927 - acc: 0.9298\n",
      "Epoch 6: val_loss did not improve from 0.23383\n",
      "121/121 [==============================] - 0s 4ms/step - loss: 0.1928 - acc: 0.9298 - val_loss: 0.2351 - val_acc: 0.9133\n",
      "Epoch 7/100\n",
      "115/121 [===========================>..] - ETA: 0s - loss: 0.1789 - acc: 0.9374\n",
      "Epoch 7: val_loss did not improve from 0.23383\n",
      "121/121 [==============================] - 0s 4ms/step - loss: 0.1800 - acc: 0.9368 - val_loss: 0.2401 - val_acc: 0.9092\n",
      "138/138 [==============================] - 0s 953us/step\n",
      "0.8699122046431725 0.5411680464955075 0.9108034498411257 0.4329004329004329\n"
     ]
    },
    {
     "name": "stderr",
     "output_type": "stream",
     "text": [
      "2023-11-13 00:09:06.832024: I tensorflow/core/common_runtime/gpu/gpu_device.cc:1886] Created device /job:localhost/replica:0/task:0/device:GPU:0 with 13074 MB memory:  -> device: 0, name: Quadro RTX 5000, pci bus id: 0000:2b:00.0, compute capability: 7.5\n",
      "2023-11-13 00:09:06.848062: I tensorflow/core/common_runtime/gpu/gpu_device.cc:1886] Created device /job:localhost/replica:0/task:0/device:GPU:0 with 13074 MB memory:  -> device: 0, name: Quadro RTX 5000, pci bus id: 0000:2b:00.0, compute capability: 7.5\n"
     ]
    },
    {
     "name": "stdout",
     "output_type": "stream",
     "text": [
      "Problem type:  mort_icu\n",
      "__________________\n",
      "Epoch 1/100\n",
      "115/121 [===========================>..] - ETA: 0s - loss: 0.2455 - acc: 0.9196\n",
      "Epoch 1: val_loss improved from inf to 0.18014, saving model to ../results/timeseries-baseline/GRU-256-mort_icu-best_model.hdf5\n",
      "121/121 [==============================] - 1s 5ms/step - loss: 0.2426 - acc: 0.9203 - val_loss: 0.1801 - val_acc: 0.9410\n",
      "Epoch 2/100\n",
      " 54/121 [============>.................] - ETA: 0s - loss: 0.1784 - acc: 0.9430"
     ]
    },
    {
     "name": "stderr",
     "output_type": "stream",
     "text": [
      "/data/apps/miniforge3/envs/cse6250-project/lib/python3.9/site-packages/keras/src/engine/training.py:3079: UserWarning: You are saving your model as an HDF5 file via `model.save()`. This file format is considered legacy. We recommend using instead the native Keras format, e.g. `model.save('my_model.keras')`.\n",
      "  saving_api.save_model(\n"
     ]
    },
    {
     "name": "stdout",
     "output_type": "stream",
     "text": [
      "117/121 [============================>.] - ETA: 0s - loss: 0.1783 - acc: 0.9429\n",
      "Epoch 2: val_loss improved from 0.18014 to 0.16989, saving model to ../results/timeseries-baseline/GRU-256-mort_icu-best_model.hdf5\n",
      "121/121 [==============================] - 0s 4ms/step - loss: 0.1786 - acc: 0.9428 - val_loss: 0.1699 - val_acc: 0.9450\n",
      "Epoch 3/100\n",
      "113/121 [===========================>..] - ETA: 0s - loss: 0.1667 - acc: 0.9449\n",
      "Epoch 3: val_loss improved from 0.16989 to 0.16359, saving model to ../results/timeseries-baseline/GRU-256-mort_icu-best_model.hdf5\n",
      "121/121 [==============================] - 0s 4ms/step - loss: 0.1654 - acc: 0.9447 - val_loss: 0.1636 - val_acc: 0.9437\n",
      "Epoch 4/100\n",
      "105/121 [=========================>....] - ETA: 0s - loss: 0.1557 - acc: 0.9475\n",
      "Epoch 4: val_loss did not improve from 0.16359\n",
      "121/121 [==============================] - 0s 3ms/step - loss: 0.1556 - acc: 0.9478 - val_loss: 0.1673 - val_acc: 0.9419\n",
      "Epoch 5/100\n",
      "116/121 [===========================>..] - ETA: 0s - loss: 0.1458 - acc: 0.9502\n",
      "Epoch 5: val_loss did not improve from 0.16359\n",
      "121/121 [==============================] - 0s 4ms/step - loss: 0.1456 - acc: 0.9500 - val_loss: 0.1642 - val_acc: 0.9414\n",
      "Epoch 6/100\n",
      "121/121 [==============================] - ETA: 0s - loss: 0.1344 - acc: 0.9554\n",
      "Epoch 6: val_loss did not improve from 0.16359\n",
      "121/121 [==============================] - 0s 4ms/step - loss: 0.1344 - acc: 0.9554 - val_loss: 0.1662 - val_acc: 0.9446\n",
      "138/138 [==============================] - 0s 838us/step\n",
      "0.8876990124308274 0.5270855203217828 0.9418974126191557 0.4208144796380091\n"
     ]
    },
    {
     "name": "stderr",
     "output_type": "stream",
     "text": [
      "2023-11-13 00:09:13.565220: I tensorflow/core/common_runtime/gpu/gpu_device.cc:1886] Created device /job:localhost/replica:0/task:0/device:GPU:0 with 13074 MB memory:  -> device: 0, name: Quadro RTX 5000, pci bus id: 0000:2b:00.0, compute capability: 7.5\n",
      "2023-11-13 00:09:13.574516: I tensorflow/core/common_runtime/gpu/gpu_device.cc:1886] Created device /job:localhost/replica:0/task:0/device:GPU:0 with 13074 MB memory:  -> device: 0, name: Quadro RTX 5000, pci bus id: 0000:2b:00.0, compute capability: 7.5\n"
     ]
    },
    {
     "name": "stdout",
     "output_type": "stream",
     "text": [
      "Problem type:  los_3\n",
      "__________________\n",
      "Epoch 1/100\n",
      "107/121 [=========================>....] - ETA: 0s - loss: 0.6641 - acc: 0.6347\n",
      "Epoch 1: val_loss improved from inf to 0.63820, saving model to ../results/timeseries-baseline/GRU-256-los_3-best_model.hdf5\n",
      "121/121 [==============================] - 1s 6ms/step - loss: 0.6625 - acc: 0.6356 - val_loss: 0.6382 - val_acc: 0.6689\n",
      "Epoch 2/100\n",
      " 53/121 [============>.................] - ETA: 0s - loss: 0.6403 - acc: 0.6509"
     ]
    },
    {
     "name": "stderr",
     "output_type": "stream",
     "text": [
      "/data/apps/miniforge3/envs/cse6250-project/lib/python3.9/site-packages/keras/src/engine/training.py:3079: UserWarning: You are saving your model as an HDF5 file via `model.save()`. This file format is considered legacy. We recommend using instead the native Keras format, e.g. `model.save('my_model.keras')`.\n",
      "  saving_api.save_model(\n"
     ]
    },
    {
     "name": "stdout",
     "output_type": "stream",
     "text": [
      "118/121 [============================>.] - ETA: 0s - loss: 0.6370 - acc: 0.6553\n",
      "Epoch 2: val_loss improved from 0.63820 to 0.62253, saving model to ../results/timeseries-baseline/GRU-256-los_3-best_model.hdf5\n",
      "121/121 [==============================] - 0s 4ms/step - loss: 0.6377 - acc: 0.6548 - val_loss: 0.6225 - val_acc: 0.6726\n",
      "Epoch 3/100\n",
      "115/121 [===========================>..] - ETA: 0s - loss: 0.6257 - acc: 0.6675\n",
      "Epoch 3: val_loss improved from 0.62253 to 0.62067, saving model to ../results/timeseries-baseline/GRU-256-los_3-best_model.hdf5\n",
      "121/121 [==============================] - 0s 4ms/step - loss: 0.6239 - acc: 0.6700 - val_loss: 0.6207 - val_acc: 0.6735\n",
      "Epoch 4/100\n",
      "115/121 [===========================>..] - ETA: 0s - loss: 0.6130 - acc: 0.6760\n",
      "Epoch 4: val_loss improved from 0.62067 to 0.61392, saving model to ../results/timeseries-baseline/GRU-256-los_3-best_model.hdf5\n",
      "121/121 [==============================] - 0s 4ms/step - loss: 0.6127 - acc: 0.6762 - val_loss: 0.6139 - val_acc: 0.6730\n",
      "Epoch 5/100\n",
      "121/121 [==============================] - ETA: 0s - loss: 0.5998 - acc: 0.6877\n",
      "Epoch 5: val_loss did not improve from 0.61392\n",
      "121/121 [==============================] - 0s 4ms/step - loss: 0.5998 - acc: 0.6877 - val_loss: 0.6155 - val_acc: 0.6735\n",
      "Epoch 6/100\n",
      "118/121 [============================>.] - ETA: 0s - loss: 0.5854 - acc: 0.7019\n",
      "Epoch 6: val_loss did not improve from 0.61392\n",
      "121/121 [==============================] - 0s 3ms/step - loss: 0.5858 - acc: 0.7016 - val_loss: 0.6274 - val_acc: 0.6626\n",
      "Epoch 7/100\n",
      "118/121 [============================>.] - ETA: 0s - loss: 0.5666 - acc: 0.7170\n",
      "Epoch 7: val_loss did not improve from 0.61392\n",
      "121/121 [==============================] - 0s 3ms/step - loss: 0.5665 - acc: 0.7164 - val_loss: 0.6287 - val_acc: 0.6576\n",
      "138/138 [==============================] - 0s 857us/step\n",
      "0.6876906276826743 0.6243071334346664 0.6606899682251475 0.5599057992346188\n"
     ]
    },
    {
     "name": "stderr",
     "output_type": "stream",
     "text": [
      "2023-11-13 00:09:20.699167: I tensorflow/core/common_runtime/gpu/gpu_device.cc:1886] Created device /job:localhost/replica:0/task:0/device:GPU:0 with 13074 MB memory:  -> device: 0, name: Quadro RTX 5000, pci bus id: 0000:2b:00.0, compute capability: 7.5\n",
      "2023-11-13 00:09:20.709736: I tensorflow/core/common_runtime/gpu/gpu_device.cc:1886] Created device /job:localhost/replica:0/task:0/device:GPU:0 with 13074 MB memory:  -> device: 0, name: Quadro RTX 5000, pci bus id: 0000:2b:00.0, compute capability: 7.5\n"
     ]
    },
    {
     "name": "stdout",
     "output_type": "stream",
     "text": [
      "Problem type:  los_7\n",
      "__________________\n",
      "Epoch 1/100\n",
      "118/121 [============================>.] - ETA: 0s - loss: 0.3187 - acc: 0.8972\n",
      "Epoch 1: val_loss improved from inf to 0.27161, saving model to ../results/timeseries-baseline/GRU-256-los_7-best_model.hdf5\n",
      "121/121 [==============================] - 1s 6ms/step - loss: 0.3173 - acc: 0.8979 - val_loss: 0.2716 - val_acc: 0.9205\n",
      "Epoch 2/100\n",
      " 56/121 [============>.................] - ETA: 0s - loss: 0.2469 - acc: 0.9259"
     ]
    },
    {
     "name": "stderr",
     "output_type": "stream",
     "text": [
      "/data/apps/miniforge3/envs/cse6250-project/lib/python3.9/site-packages/keras/src/engine/training.py:3079: UserWarning: You are saving your model as an HDF5 file via `model.save()`. This file format is considered legacy. We recommend using instead the native Keras format, e.g. `model.save('my_model.keras')`.\n",
      "  saving_api.save_model(\n"
     ]
    },
    {
     "name": "stdout",
     "output_type": "stream",
     "text": [
      "116/121 [===========================>..] - ETA: 0s - loss: 0.2567 - acc: 0.9217\n",
      "Epoch 2: val_loss improved from 0.27161 to 0.26454, saving model to ../results/timeseries-baseline/GRU-256-los_7-best_model.hdf5\n",
      "121/121 [==============================] - 0s 4ms/step - loss: 0.2575 - acc: 0.9212 - val_loss: 0.2645 - val_acc: 0.9237\n",
      "Epoch 3/100\n",
      "103/121 [========================>.....] - ETA: 0s - loss: 0.2462 - acc: 0.9216\n",
      "Epoch 3: val_loss improved from 0.26454 to 0.25845, saving model to ../results/timeseries-baseline/GRU-256-los_7-best_model.hdf5\n",
      "121/121 [==============================] - 0s 3ms/step - loss: 0.2470 - acc: 0.9221 - val_loss: 0.2584 - val_acc: 0.9237\n",
      "Epoch 4/100\n",
      "115/121 [===========================>..] - ETA: 0s - loss: 0.2391 - acc: 0.9237\n",
      "Epoch 4: val_loss improved from 0.25845 to 0.25753, saving model to ../results/timeseries-baseline/GRU-256-los_7-best_model.hdf5\n",
      "121/121 [==============================] - 0s 4ms/step - loss: 0.2404 - acc: 0.9231 - val_loss: 0.2575 - val_acc: 0.9228\n",
      "Epoch 5/100\n",
      "117/121 [============================>.] - ETA: 0s - loss: 0.2330 - acc: 0.9239\n",
      "Epoch 5: val_loss did not improve from 0.25753\n",
      "121/121 [==============================] - 0s 4ms/step - loss: 0.2329 - acc: 0.9242 - val_loss: 0.2686 - val_acc: 0.9178\n",
      "Epoch 6/100\n",
      "119/121 [============================>.] - ETA: 0s - loss: 0.2266 - acc: 0.9254\n",
      "Epoch 6: val_loss did not improve from 0.25753\n",
      "121/121 [==============================] - 0s 3ms/step - loss: 0.2256 - acc: 0.9257 - val_loss: 0.2683 - val_acc: 0.9196\n",
      "Epoch 7/100\n",
      "110/121 [==========================>...] - ETA: 0s - loss: 0.2106 - acc: 0.9308\n",
      "Epoch 7: val_loss did not improve from 0.25753\n",
      "121/121 [==============================] - 0s 3ms/step - loss: 0.2127 - acc: 0.9297 - val_loss: 0.2734 - val_acc: 0.9155\n",
      "138/138 [==============================] - 0s 899us/step\n",
      "0.7304570675544457 0.20758197760186597 0.9185201997276441 0.011019283746556472\n"
     ]
    },
    {
     "name": "stderr",
     "output_type": "stream",
     "text": [
      "2023-11-13 00:09:27.867187: I tensorflow/core/common_runtime/gpu/gpu_device.cc:1886] Created device /job:localhost/replica:0/task:0/device:GPU:0 with 13074 MB memory:  -> device: 0, name: Quadro RTX 5000, pci bus id: 0000:2b:00.0, compute capability: 7.5\n",
      "2023-11-13 00:09:27.880648: I tensorflow/core/common_runtime/gpu/gpu_device.cc:1886] Created device /job:localhost/replica:0/task:0/device:GPU:0 with 13074 MB memory:  -> device: 0, name: Quadro RTX 5000, pci bus id: 0000:2b:00.0, compute capability: 7.5\n"
     ]
    },
    {
     "name": "stdout",
     "output_type": "stream",
     "text": [
      "Iteration number:  5\n",
      "=============================\n",
      "Problem type:  mort_hosp\n",
      "__________________\n",
      "Epoch 1/100\n",
      "111/121 [==========================>...] - ETA: 0s - loss: 0.3121 - acc: 0.8857\n",
      "Epoch 1: val_loss improved from inf to 0.24746, saving model to ../results/timeseries-baseline/GRU-256-mort_hosp-best_model.hdf5\n",
      "121/121 [==============================] - 1s 5ms/step - loss: 0.3060 - acc: 0.8887 - val_loss: 0.2475 - val_acc: 0.9137\n",
      "Epoch 2/100\n",
      " 51/121 [===========>..................] - ETA: 0s - loss: 0.2507 - acc: 0.9102"
     ]
    },
    {
     "name": "stderr",
     "output_type": "stream",
     "text": [
      "/data/apps/miniforge3/envs/cse6250-project/lib/python3.9/site-packages/keras/src/engine/training.py:3079: UserWarning: You are saving your model as an HDF5 file via `model.save()`. This file format is considered legacy. We recommend using instead the native Keras format, e.g. `model.save('my_model.keras')`.\n",
      "  saving_api.save_model(\n"
     ]
    },
    {
     "name": "stdout",
     "output_type": "stream",
     "text": [
      "121/121 [==============================] - ETA: 0s - loss: 0.2456 - acc: 0.9131\n",
      "Epoch 2: val_loss improved from 0.24746 to 0.23770, saving model to ../results/timeseries-baseline/GRU-256-mort_hosp-best_model.hdf5\n",
      "121/121 [==============================] - 0s 4ms/step - loss: 0.2456 - acc: 0.9131 - val_loss: 0.2377 - val_acc: 0.9160\n",
      "Epoch 3/100\n",
      "110/121 [==========================>...] - ETA: 0s - loss: 0.2247 - acc: 0.9200\n",
      "Epoch 3: val_loss improved from 0.23770 to 0.23326, saving model to ../results/timeseries-baseline/GRU-256-mort_hosp-best_model.hdf5\n",
      "121/121 [==============================] - 0s 4ms/step - loss: 0.2287 - acc: 0.9181 - val_loss: 0.2333 - val_acc: 0.9164\n",
      "Epoch 4/100\n",
      "113/121 [===========================>..] - ETA: 0s - loss: 0.2167 - acc: 0.9216\n",
      "Epoch 4: val_loss did not improve from 0.23326\n",
      "121/121 [==============================] - 0s 4ms/step - loss: 0.2180 - acc: 0.9215 - val_loss: 0.2367 - val_acc: 0.9160\n",
      "Epoch 5/100\n",
      "111/121 [==========================>...] - ETA: 0s - loss: 0.2074 - acc: 0.9269\n",
      "Epoch 5: val_loss improved from 0.23326 to 0.23253, saving model to ../results/timeseries-baseline/GRU-256-mort_hosp-best_model.hdf5\n",
      "121/121 [==============================] - 0s 4ms/step - loss: 0.2066 - acc: 0.9271 - val_loss: 0.2325 - val_acc: 0.9173\n",
      "Epoch 6/100\n",
      "120/121 [============================>.] - ETA: 0s - loss: 0.1927 - acc: 0.9298\n",
      "Epoch 6: val_loss improved from 0.23253 to 0.23153, saving model to ../results/timeseries-baseline/GRU-256-mort_hosp-best_model.hdf5\n",
      "121/121 [==============================] - 0s 4ms/step - loss: 0.1938 - acc: 0.9296 - val_loss: 0.2315 - val_acc: 0.9142\n",
      "Epoch 7/100\n",
      "118/121 [============================>.] - ETA: 0s - loss: 0.1763 - acc: 0.9382\n",
      "Epoch 7: val_loss did not improve from 0.23153\n",
      "121/121 [==============================] - 0s 4ms/step - loss: 0.1770 - acc: 0.9381 - val_loss: 0.2344 - val_acc: 0.9114\n",
      "Epoch 8/100\n",
      "118/121 [============================>.] - ETA: 0s - loss: 0.1605 - acc: 0.9457\n",
      "Epoch 8: val_loss did not improve from 0.23153\n",
      "121/121 [==============================] - 0s 3ms/step - loss: 0.1601 - acc: 0.9459 - val_loss: 0.2490 - val_acc: 0.9051\n",
      "Epoch 9/100\n",
      "109/121 [==========================>...] - ETA: 0s - loss: 0.1458 - acc: 0.9514\n",
      "Epoch 9: val_loss did not improve from 0.23153\n",
      "121/121 [==============================] - 0s 4ms/step - loss: 0.1461 - acc: 0.9516 - val_loss: 0.2707 - val_acc: 0.9033\n",
      "138/138 [==============================] - 0s 973us/step\n",
      "0.876642405736837 0.5513918810455387 0.9094416704493872 0.4340425531914894\n"
     ]
    },
    {
     "name": "stderr",
     "output_type": "stream",
     "text": [
      "2023-11-13 00:09:36.265999: I tensorflow/core/common_runtime/gpu/gpu_device.cc:1886] Created device /job:localhost/replica:0/task:0/device:GPU:0 with 13074 MB memory:  -> device: 0, name: Quadro RTX 5000, pci bus id: 0000:2b:00.0, compute capability: 7.5\n",
      "2023-11-13 00:09:36.276350: I tensorflow/core/common_runtime/gpu/gpu_device.cc:1886] Created device /job:localhost/replica:0/task:0/device:GPU:0 with 13074 MB memory:  -> device: 0, name: Quadro RTX 5000, pci bus id: 0000:2b:00.0, compute capability: 7.5\n"
     ]
    },
    {
     "name": "stdout",
     "output_type": "stream",
     "text": [
      "Problem type:  mort_icu\n",
      "__________________\n",
      "Epoch 1/100\n",
      "109/121 [==========================>...] - ETA: 0s - loss: 0.2531 - acc: 0.9171\n",
      "Epoch 1: val_loss improved from inf to 0.18513, saving model to ../results/timeseries-baseline/GRU-256-mort_icu-best_model.hdf5\n",
      "121/121 [==============================] - 1s 6ms/step - loss: 0.2459 - acc: 0.9200 - val_loss: 0.1851 - val_acc: 0.9419\n",
      "Epoch 2/100\n",
      " 56/121 [============>.................] - ETA: 0s - loss: 0.1740 - acc: 0.9449"
     ]
    },
    {
     "name": "stderr",
     "output_type": "stream",
     "text": [
      "/data/apps/miniforge3/envs/cse6250-project/lib/python3.9/site-packages/keras/src/engine/training.py:3079: UserWarning: You are saving your model as an HDF5 file via `model.save()`. This file format is considered legacy. We recommend using instead the native Keras format, e.g. `model.save('my_model.keras')`.\n",
      "  saving_api.save_model(\n"
     ]
    },
    {
     "name": "stdout",
     "output_type": "stream",
     "text": [
      "118/121 [============================>.] - ETA: 0s - loss: 0.1819 - acc: 0.9421\n",
      "Epoch 2: val_loss improved from 0.18513 to 0.17998, saving model to ../results/timeseries-baseline/GRU-256-mort_icu-best_model.hdf5\n",
      "121/121 [==============================] - 0s 4ms/step - loss: 0.1819 - acc: 0.9421 - val_loss: 0.1800 - val_acc: 0.9450\n",
      "Epoch 3/100\n",
      "108/121 [=========================>....] - ETA: 0s - loss: 0.1646 - acc: 0.9444\n",
      "Epoch 3: val_loss improved from 0.17998 to 0.17048, saving model to ../results/timeseries-baseline/GRU-256-mort_icu-best_model.hdf5\n",
      "121/121 [==============================] - 0s 4ms/step - loss: 0.1663 - acc: 0.9442 - val_loss: 0.1705 - val_acc: 0.9428\n",
      "Epoch 4/100\n",
      "119/121 [============================>.] - ETA: 0s - loss: 0.1562 - acc: 0.9471\n",
      "Epoch 4: val_loss improved from 0.17048 to 0.16948, saving model to ../results/timeseries-baseline/GRU-256-mort_icu-best_model.hdf5\n",
      "121/121 [==============================] - 0s 4ms/step - loss: 0.1561 - acc: 0.9473 - val_loss: 0.1695 - val_acc: 0.9423\n",
      "Epoch 5/100\n",
      "107/121 [=========================>....] - ETA: 0s - loss: 0.1431 - acc: 0.9508\n",
      "Epoch 5: val_loss did not improve from 0.16948\n",
      "121/121 [==============================] - 0s 3ms/step - loss: 0.1459 - acc: 0.9507 - val_loss: 0.1724 - val_acc: 0.9401\n",
      "Epoch 6/100\n",
      "108/121 [=========================>....] - ETA: 0s - loss: 0.1365 - acc: 0.9544\n",
      "Epoch 6: val_loss did not improve from 0.16948\n",
      "121/121 [==============================] - 0s 3ms/step - loss: 0.1365 - acc: 0.9543 - val_loss: 0.1706 - val_acc: 0.9423\n",
      "Epoch 7/100\n",
      "113/121 [===========================>..] - ETA: 0s - loss: 0.1248 - acc: 0.9591\n",
      "Epoch 7: val_loss did not improve from 0.16948\n",
      "121/121 [==============================] - 0s 4ms/step - loss: 0.1249 - acc: 0.9590 - val_loss: 0.1772 - val_acc: 0.9405\n",
      "138/138 [==============================] - 0s 905us/step\n",
      "0.8894564396437931 0.5233690116570606 0.9412165229232864 0.46376811594202905\n"
     ]
    },
    {
     "name": "stderr",
     "output_type": "stream",
     "text": [
      "2023-11-13 00:09:43.419925: I tensorflow/core/common_runtime/gpu/gpu_device.cc:1886] Created device /job:localhost/replica:0/task:0/device:GPU:0 with 13074 MB memory:  -> device: 0, name: Quadro RTX 5000, pci bus id: 0000:2b:00.0, compute capability: 7.5\n",
      "2023-11-13 00:09:43.429956: I tensorflow/core/common_runtime/gpu/gpu_device.cc:1886] Created device /job:localhost/replica:0/task:0/device:GPU:0 with 13074 MB memory:  -> device: 0, name: Quadro RTX 5000, pci bus id: 0000:2b:00.0, compute capability: 7.5\n"
     ]
    },
    {
     "name": "stdout",
     "output_type": "stream",
     "text": [
      "Problem type:  los_3\n",
      "__________________\n",
      "Epoch 1/100\n",
      "117/121 [============================>.] - ETA: 0s - loss: 0.6596 - acc: 0.6378\n",
      "Epoch 1: val_loss improved from inf to 0.63842, saving model to ../results/timeseries-baseline/GRU-256-los_3-best_model.hdf5\n",
      "121/121 [==============================] - 1s 5ms/step - loss: 0.6590 - acc: 0.6383 - val_loss: 0.6384 - val_acc: 0.6612\n",
      "Epoch 2/100\n",
      " 51/121 [===========>..................] - ETA: 0s - loss: 0.6375 - acc: 0.6610"
     ]
    },
    {
     "name": "stderr",
     "output_type": "stream",
     "text": [
      "/data/apps/miniforge3/envs/cse6250-project/lib/python3.9/site-packages/keras/src/engine/training.py:3079: UserWarning: You are saving your model as an HDF5 file via `model.save()`. This file format is considered legacy. We recommend using instead the native Keras format, e.g. `model.save('my_model.keras')`.\n",
      "  saving_api.save_model(\n"
     ]
    },
    {
     "name": "stdout",
     "output_type": "stream",
     "text": [
      "114/121 [===========================>..] - ETA: 0s - loss: 0.6355 - acc: 0.6587\n",
      "Epoch 2: val_loss improved from 0.63842 to 0.62606, saving model to ../results/timeseries-baseline/GRU-256-los_3-best_model.hdf5\n",
      "121/121 [==============================] - 0s 4ms/step - loss: 0.6353 - acc: 0.6582 - val_loss: 0.6261 - val_acc: 0.6630\n",
      "Epoch 3/100\n",
      "112/121 [==========================>...] - ETA: 0s - loss: 0.6233 - acc: 0.6678\n",
      "Epoch 3: val_loss improved from 0.62606 to 0.61196, saving model to ../results/timeseries-baseline/GRU-256-los_3-best_model.hdf5\n",
      "121/121 [==============================] - 0s 4ms/step - loss: 0.6238 - acc: 0.6670 - val_loss: 0.6120 - val_acc: 0.6712\n",
      "Epoch 4/100\n",
      "114/121 [===========================>..] - ETA: 0s - loss: 0.6105 - acc: 0.6758\n",
      "Epoch 4: val_loss did not improve from 0.61196\n",
      "121/121 [==============================] - 0s 4ms/step - loss: 0.6115 - acc: 0.6759 - val_loss: 0.6135 - val_acc: 0.6717\n",
      "Epoch 5/100\n",
      "108/121 [=========================>....] - ETA: 0s - loss: 0.5995 - acc: 0.6869\n",
      "Epoch 5: val_loss did not improve from 0.61196\n",
      "121/121 [==============================] - 0s 3ms/step - loss: 0.5996 - acc: 0.6879 - val_loss: 0.6202 - val_acc: 0.6617\n",
      "Epoch 6/100\n",
      "108/121 [=========================>....] - ETA: 0s - loss: 0.5859 - acc: 0.7007\n",
      "Epoch 6: val_loss did not improve from 0.61196\n",
      "121/121 [==============================] - 0s 4ms/step - loss: 0.5862 - acc: 0.7006 - val_loss: 0.6202 - val_acc: 0.6540\n",
      "138/138 [==============================] - 0s 923us/step\n",
      "0.7001668518237978 0.6453209823783658 0.6595551520653654 0.5291902071563088\n"
     ]
    },
    {
     "name": "stderr",
     "output_type": "stream",
     "text": [
      "2023-11-13 00:09:50.171138: I tensorflow/core/common_runtime/gpu/gpu_device.cc:1886] Created device /job:localhost/replica:0/task:0/device:GPU:0 with 13074 MB memory:  -> device: 0, name: Quadro RTX 5000, pci bus id: 0000:2b:00.0, compute capability: 7.5\n",
      "2023-11-13 00:09:50.182394: I tensorflow/core/common_runtime/gpu/gpu_device.cc:1886] Created device /job:localhost/replica:0/task:0/device:GPU:0 with 13074 MB memory:  -> device: 0, name: Quadro RTX 5000, pci bus id: 0000:2b:00.0, compute capability: 7.5\n"
     ]
    },
    {
     "name": "stdout",
     "output_type": "stream",
     "text": [
      "Problem type:  los_7\n",
      "__________________\n",
      "Epoch 1/100\n",
      "109/121 [==========================>...] - ETA: 0s - loss: 0.3245 - acc: 0.8939\n",
      "Epoch 1: val_loss improved from inf to 0.26707, saving model to ../results/timeseries-baseline/GRU-256-los_7-best_model.hdf5\n",
      "121/121 [==============================] - 1s 6ms/step - loss: 0.3176 - acc: 0.8971 - val_loss: 0.2671 - val_acc: 0.9223\n",
      "Epoch 2/100\n",
      " 45/121 [==========>...................] - ETA: 0s - loss: 0.2512 - acc: 0.9250"
     ]
    },
    {
     "name": "stderr",
     "output_type": "stream",
     "text": [
      "/data/apps/miniforge3/envs/cse6250-project/lib/python3.9/site-packages/keras/src/engine/training.py:3079: UserWarning: You are saving your model as an HDF5 file via `model.save()`. This file format is considered legacy. We recommend using instead the native Keras format, e.g. `model.save('my_model.keras')`.\n",
      "  saving_api.save_model(\n"
     ]
    },
    {
     "name": "stdout",
     "output_type": "stream",
     "text": [
      "121/121 [==============================] - ETA: 0s - loss: 0.2579 - acc: 0.9211\n",
      "Epoch 2: val_loss improved from 0.26707 to 0.25901, saving model to ../results/timeseries-baseline/GRU-256-los_7-best_model.hdf5\n",
      "121/121 [==============================] - 0s 4ms/step - loss: 0.2579 - acc: 0.9211 - val_loss: 0.2590 - val_acc: 0.9219\n",
      "Epoch 3/100\n",
      "108/121 [=========================>....] - ETA: 0s - loss: 0.2443 - acc: 0.9232\n",
      "Epoch 3: val_loss did not improve from 0.25901\n",
      "121/121 [==============================] - 0s 4ms/step - loss: 0.2469 - acc: 0.9225 - val_loss: 0.2597 - val_acc: 0.9233\n",
      "Epoch 4/100\n",
      "112/121 [==========================>...] - ETA: 0s - loss: 0.2430 - acc: 0.9224\n",
      "Epoch 4: val_loss did not improve from 0.25901\n",
      "121/121 [==============================] - 0s 4ms/step - loss: 0.2415 - acc: 0.9225 - val_loss: 0.2623 - val_acc: 0.9214\n",
      "Epoch 5/100\n",
      "119/121 [============================>.] - ETA: 0s - loss: 0.2323 - acc: 0.9243\n",
      "Epoch 5: val_loss did not improve from 0.25901\n",
      "121/121 [==============================] - 0s 4ms/step - loss: 0.2323 - acc: 0.9241 - val_loss: 0.2603 - val_acc: 0.9237\n",
      "138/138 [==============================] - 0s 888us/step\n",
      "0.7483111388542101 0.21083867786248905 0.9189741261915569 0.027247956403269755\n"
     ]
    },
    {
     "name": "stderr",
     "output_type": "stream",
     "text": [
      "2023-11-13 00:09:56.675875: I tensorflow/core/common_runtime/gpu/gpu_device.cc:1886] Created device /job:localhost/replica:0/task:0/device:GPU:0 with 13074 MB memory:  -> device: 0, name: Quadro RTX 5000, pci bus id: 0000:2b:00.0, compute capability: 7.5\n",
      "2023-11-13 00:09:56.686660: I tensorflow/core/common_runtime/gpu/gpu_device.cc:1886] Created device /job:localhost/replica:0/task:0/device:GPU:0 with 13074 MB memory:  -> device: 0, name: Quadro RTX 5000, pci bus id: 0000:2b:00.0, compute capability: 7.5\n"
     ]
    },
    {
     "name": "stdout",
     "output_type": "stream",
     "text": [
      "Iteration number:  6\n",
      "=============================\n",
      "Problem type:  mort_hosp\n",
      "__________________\n",
      "Epoch 1/100\n",
      "107/121 [=========================>....] - ETA: 0s - loss: 0.3123 - acc: 0.8858\n",
      "Epoch 1: val_loss improved from inf to 0.25205, saving model to ../results/timeseries-baseline/GRU-256-mort_hosp-best_model.hdf5\n",
      "121/121 [==============================] - 1s 6ms/step - loss: 0.3066 - acc: 0.8886 - val_loss: 0.2520 - val_acc: 0.9151\n",
      "Epoch 2/100\n",
      " 50/121 [===========>..................] - ETA: 0s - loss: 0.2543 - acc: 0.9128"
     ]
    },
    {
     "name": "stderr",
     "output_type": "stream",
     "text": [
      "/data/apps/miniforge3/envs/cse6250-project/lib/python3.9/site-packages/keras/src/engine/training.py:3079: UserWarning: You are saving your model as an HDF5 file via `model.save()`. This file format is considered legacy. We recommend using instead the native Keras format, e.g. `model.save('my_model.keras')`.\n",
      "  saving_api.save_model(\n"
     ]
    },
    {
     "name": "stdout",
     "output_type": "stream",
     "text": [
      "115/121 [===========================>..] - ETA: 0s - loss: 0.2475 - acc: 0.9141\n",
      "Epoch 2: val_loss improved from 0.25205 to 0.23969, saving model to ../results/timeseries-baseline/GRU-256-mort_hosp-best_model.hdf5\n",
      "121/121 [==============================] - 0s 4ms/step - loss: 0.2471 - acc: 0.9139 - val_loss: 0.2397 - val_acc: 0.9128\n",
      "Epoch 3/100\n",
      "117/121 [============================>.] - ETA: 0s - loss: 0.2303 - acc: 0.9161\n",
      "Epoch 3: val_loss improved from 0.23969 to 0.23812, saving model to ../results/timeseries-baseline/GRU-256-mort_hosp-best_model.hdf5\n",
      "121/121 [==============================] - 0s 4ms/step - loss: 0.2312 - acc: 0.9156 - val_loss: 0.2381 - val_acc: 0.9187\n",
      "Epoch 4/100\n",
      "114/121 [===========================>..] - ETA: 0s - loss: 0.2185 - acc: 0.9223\n",
      "Epoch 4: val_loss improved from 0.23812 to 0.23062, saving model to ../results/timeseries-baseline/GRU-256-mort_hosp-best_model.hdf5\n",
      "121/121 [==============================] - 0s 4ms/step - loss: 0.2191 - acc: 0.9220 - val_loss: 0.2306 - val_acc: 0.9137\n",
      "Epoch 5/100\n",
      "107/121 [=========================>....] - ETA: 0s - loss: 0.2102 - acc: 0.9233\n",
      "Epoch 5: val_loss did not improve from 0.23062\n",
      "121/121 [==============================] - 0s 3ms/step - loss: 0.2075 - acc: 0.9246 - val_loss: 0.2350 - val_acc: 0.9169\n",
      "Epoch 6/100\n",
      "110/121 [==========================>...] - ETA: 0s - loss: 0.1958 - acc: 0.9295\n",
      "Epoch 6: val_loss did not improve from 0.23062\n",
      "121/121 [==============================] - 0s 4ms/step - loss: 0.1964 - acc: 0.9292 - val_loss: 0.2401 - val_acc: 0.9064\n",
      "Epoch 7/100\n",
      "108/121 [=========================>....] - ETA: 0s - loss: 0.1841 - acc: 0.9337\n",
      "Epoch 7: val_loss did not improve from 0.23062\n",
      "121/121 [==============================] - 0s 4ms/step - loss: 0.1849 - acc: 0.9339 - val_loss: 0.2344 - val_acc: 0.9142\n",
      "138/138 [==============================] - 0s 871us/step\n",
      "0.8803944644136623 0.577209007408676 0.9164775306400363 0.4727793696275072\n"
     ]
    },
    {
     "name": "stderr",
     "output_type": "stream",
     "text": [
      "2023-11-13 00:10:04.064114: I tensorflow/core/common_runtime/gpu/gpu_device.cc:1886] Created device /job:localhost/replica:0/task:0/device:GPU:0 with 13074 MB memory:  -> device: 0, name: Quadro RTX 5000, pci bus id: 0000:2b:00.0, compute capability: 7.5\n",
      "2023-11-13 00:10:04.074859: I tensorflow/core/common_runtime/gpu/gpu_device.cc:1886] Created device /job:localhost/replica:0/task:0/device:GPU:0 with 13074 MB memory:  -> device: 0, name: Quadro RTX 5000, pci bus id: 0000:2b:00.0, compute capability: 7.5\n"
     ]
    },
    {
     "name": "stdout",
     "output_type": "stream",
     "text": [
      "Problem type:  mort_icu\n",
      "__________________\n",
      "Epoch 1/100\n",
      "107/121 [=========================>....] - ETA: 0s - loss: 0.2519 - acc: 0.9157\n",
      "Epoch 1: val_loss improved from inf to 0.18230, saving model to ../results/timeseries-baseline/GRU-256-mort_icu-best_model.hdf5\n",
      "121/121 [==============================] - 2s 6ms/step - loss: 0.2478 - acc: 0.9174 - val_loss: 0.1823 - val_acc: 0.9423\n",
      "Epoch 2/100\n",
      " 56/121 [============>.................] - ETA: 0s - loss: 0.1830 - acc: 0.9410"
     ]
    },
    {
     "name": "stderr",
     "output_type": "stream",
     "text": [
      "/data/apps/miniforge3/envs/cse6250-project/lib/python3.9/site-packages/keras/src/engine/training.py:3079: UserWarning: You are saving your model as an HDF5 file via `model.save()`. This file format is considered legacy. We recommend using instead the native Keras format, e.g. `model.save('my_model.keras')`.\n",
      "  saving_api.save_model(\n"
     ]
    },
    {
     "name": "stdout",
     "output_type": "stream",
     "text": [
      "116/121 [===========================>..] - ETA: 0s - loss: 0.1823 - acc: 0.9406\n",
      "Epoch 2: val_loss improved from 0.18230 to 0.17478, saving model to ../results/timeseries-baseline/GRU-256-mort_icu-best_model.hdf5\n",
      "121/121 [==============================] - 0s 4ms/step - loss: 0.1816 - acc: 0.9406 - val_loss: 0.1748 - val_acc: 0.9437\n",
      "Epoch 3/100\n",
      "109/121 [==========================>...] - ETA: 0s - loss: 0.1690 - acc: 0.9427\n",
      "Epoch 3: val_loss improved from 0.17478 to 0.17261, saving model to ../results/timeseries-baseline/GRU-256-mort_icu-best_model.hdf5\n",
      "121/121 [==============================] - 0s 4ms/step - loss: 0.1658 - acc: 0.9440 - val_loss: 0.1726 - val_acc: 0.9428\n",
      "Epoch 4/100\n",
      "119/121 [============================>.] - ETA: 0s - loss: 0.1572 - acc: 0.9481\n",
      "Epoch 4: val_loss improved from 0.17261 to 0.16564, saving model to ../results/timeseries-baseline/GRU-256-mort_icu-best_model.hdf5\n",
      "121/121 [==============================] - 0s 3ms/step - loss: 0.1577 - acc: 0.9478 - val_loss: 0.1656 - val_acc: 0.9446\n",
      "Epoch 5/100\n",
      "114/121 [===========================>..] - ETA: 0s - loss: 0.1456 - acc: 0.9505\n",
      "Epoch 5: val_loss improved from 0.16564 to 0.16451, saving model to ../results/timeseries-baseline/GRU-256-mort_icu-best_model.hdf5\n",
      "121/121 [==============================] - 0s 4ms/step - loss: 0.1461 - acc: 0.9506 - val_loss: 0.1645 - val_acc: 0.9437\n",
      "Epoch 6/100\n",
      "109/121 [==========================>...] - ETA: 0s - loss: 0.1357 - acc: 0.9526\n",
      "Epoch 6: val_loss did not improve from 0.16451\n",
      "121/121 [==============================] - 0s 4ms/step - loss: 0.1354 - acc: 0.9530 - val_loss: 0.1697 - val_acc: 0.9432\n",
      "Epoch 7/100\n",
      "109/121 [==========================>...] - ETA: 0s - loss: 0.1225 - acc: 0.9597\n",
      "Epoch 7: val_loss did not improve from 0.16451\n",
      "121/121 [==============================] - 0s 3ms/step - loss: 0.1233 - acc: 0.9598 - val_loss: 0.1749 - val_acc: 0.9401\n",
      "Epoch 8/100\n",
      "113/121 [===========================>..] - ETA: 0s - loss: 0.1098 - acc: 0.9638\n",
      "Epoch 8: val_loss did not improve from 0.16451\n",
      "121/121 [==============================] - 0s 4ms/step - loss: 0.1094 - acc: 0.9636 - val_loss: 0.1899 - val_acc: 0.9373\n",
      "138/138 [==============================] - 0s 983us/step\n",
      "0.886252876649131 0.5178759526743595 0.9405356332274172 0.43534482758620696\n"
     ]
    },
    {
     "name": "stderr",
     "output_type": "stream",
     "text": [
      "2023-11-13 00:10:12.007468: I tensorflow/core/common_runtime/gpu/gpu_device.cc:1886] Created device /job:localhost/replica:0/task:0/device:GPU:0 with 13074 MB memory:  -> device: 0, name: Quadro RTX 5000, pci bus id: 0000:2b:00.0, compute capability: 7.5\n",
      "2023-11-13 00:10:12.021107: I tensorflow/core/common_runtime/gpu/gpu_device.cc:1886] Created device /job:localhost/replica:0/task:0/device:GPU:0 with 13074 MB memory:  -> device: 0, name: Quadro RTX 5000, pci bus id: 0000:2b:00.0, compute capability: 7.5\n"
     ]
    },
    {
     "name": "stdout",
     "output_type": "stream",
     "text": [
      "Problem type:  los_3\n",
      "__________________\n",
      "Epoch 1/100\n",
      "115/121 [===========================>..] - ETA: 0s - loss: 0.6608 - acc: 0.6370\n",
      "Epoch 1: val_loss improved from inf to 0.65029, saving model to ../results/timeseries-baseline/GRU-256-los_3-best_model.hdf5\n",
      "121/121 [==============================] - 1s 6ms/step - loss: 0.6613 - acc: 0.6367 - val_loss: 0.6503 - val_acc: 0.6431\n",
      "Epoch 2/100\n",
      " 56/121 [============>.................] - ETA: 0s - loss: 0.6383 - acc: 0.6557"
     ]
    },
    {
     "name": "stderr",
     "output_type": "stream",
     "text": [
      "/data/apps/miniforge3/envs/cse6250-project/lib/python3.9/site-packages/keras/src/engine/training.py:3079: UserWarning: You are saving your model as an HDF5 file via `model.save()`. This file format is considered legacy. We recommend using instead the native Keras format, e.g. `model.save('my_model.keras')`.\n",
      "  saving_api.save_model(\n"
     ]
    },
    {
     "name": "stdout",
     "output_type": "stream",
     "text": [
      "110/121 [==========================>...] - ETA: 0s - loss: 0.6369 - acc: 0.6592\n",
      "Epoch 2: val_loss improved from 0.65029 to 0.61983, saving model to ../results/timeseries-baseline/GRU-256-los_3-best_model.hdf5\n",
      "121/121 [==============================] - 0s 3ms/step - loss: 0.6355 - acc: 0.6605 - val_loss: 0.6198 - val_acc: 0.6748\n",
      "Epoch 3/100\n",
      "108/121 [=========================>....] - ETA: 0s - loss: 0.6230 - acc: 0.6680\n",
      "Epoch 3: val_loss improved from 0.61983 to 0.61402, saving model to ../results/timeseries-baseline/GRU-256-los_3-best_model.hdf5\n",
      "121/121 [==============================] - 0s 3ms/step - loss: 0.6225 - acc: 0.6680 - val_loss: 0.6140 - val_acc: 0.6821\n",
      "Epoch 4/100\n",
      "106/121 [=========================>....] - ETA: 0s - loss: 0.6118 - acc: 0.6786\n",
      "Epoch 4: val_loss improved from 0.61402 to 0.61332, saving model to ../results/timeseries-baseline/GRU-256-los_3-best_model.hdf5\n",
      "121/121 [==============================] - 0s 4ms/step - loss: 0.6117 - acc: 0.6788 - val_loss: 0.6133 - val_acc: 0.6739\n",
      "Epoch 5/100\n",
      "111/121 [==========================>...] - ETA: 0s - loss: 0.5976 - acc: 0.6908\n",
      "Epoch 5: val_loss improved from 0.61332 to 0.61017, saving model to ../results/timeseries-baseline/GRU-256-los_3-best_model.hdf5\n",
      "121/121 [==============================] - 1s 4ms/step - loss: 0.5986 - acc: 0.6905 - val_loss: 0.6102 - val_acc: 0.6744\n",
      "Epoch 6/100\n",
      "107/121 [=========================>....] - ETA: 0s - loss: 0.5803 - acc: 0.7076\n",
      "Epoch 6: val_loss did not improve from 0.61017\n",
      "121/121 [==============================] - 0s 4ms/step - loss: 0.5830 - acc: 0.7048 - val_loss: 0.6206 - val_acc: 0.6576\n",
      "Epoch 7/100\n",
      "107/121 [=========================>....] - ETA: 0s - loss: 0.5614 - acc: 0.7195\n",
      "Epoch 7: val_loss did not improve from 0.61017\n",
      "121/121 [==============================] - 0s 3ms/step - loss: 0.5633 - acc: 0.7174 - val_loss: 0.6232 - val_acc: 0.6689\n",
      "Epoch 8/100\n",
      "114/121 [===========================>..] - ETA: 0s - loss: 0.5337 - acc: 0.7391\n",
      "Epoch 8: val_loss did not improve from 0.61017\n",
      "121/121 [==============================] - 0s 4ms/step - loss: 0.5355 - acc: 0.7383 - val_loss: 0.6419 - val_acc: 0.6594\n",
      "138/138 [==============================] - 0s 994us/step\n",
      "0.6996237943745897 0.639351719326253 0.6588742623694961 0.558590308370044\n"
     ]
    },
    {
     "name": "stderr",
     "output_type": "stream",
     "text": [
      "2023-11-13 00:10:19.897056: I tensorflow/core/common_runtime/gpu/gpu_device.cc:1886] Created device /job:localhost/replica:0/task:0/device:GPU:0 with 13074 MB memory:  -> device: 0, name: Quadro RTX 5000, pci bus id: 0000:2b:00.0, compute capability: 7.5\n",
      "2023-11-13 00:10:19.908712: I tensorflow/core/common_runtime/gpu/gpu_device.cc:1886] Created device /job:localhost/replica:0/task:0/device:GPU:0 with 13074 MB memory:  -> device: 0, name: Quadro RTX 5000, pci bus id: 0000:2b:00.0, compute capability: 7.5\n"
     ]
    },
    {
     "name": "stdout",
     "output_type": "stream",
     "text": [
      "Problem type:  los_7\n",
      "__________________\n",
      "Epoch 1/100\n",
      "115/121 [===========================>..] - ETA: 0s - loss: 0.3220 - acc: 0.8950\n",
      "Epoch 1: val_loss improved from inf to 0.27314, saving model to ../results/timeseries-baseline/GRU-256-los_7-best_model.hdf5\n",
      "121/121 [==============================] - 1s 6ms/step - loss: 0.3188 - acc: 0.8968 - val_loss: 0.2731 - val_acc: 0.9201\n",
      "Epoch 2/100\n",
      " 50/121 [===========>..................] - ETA: 0s - loss: 0.2625 - acc: 0.9203"
     ]
    },
    {
     "name": "stderr",
     "output_type": "stream",
     "text": [
      "/data/apps/miniforge3/envs/cse6250-project/lib/python3.9/site-packages/keras/src/engine/training.py:3079: UserWarning: You are saving your model as an HDF5 file via `model.save()`. This file format is considered legacy. We recommend using instead the native Keras format, e.g. `model.save('my_model.keras')`.\n",
      "  saving_api.save_model(\n"
     ]
    },
    {
     "name": "stdout",
     "output_type": "stream",
     "text": [
      "112/121 [==========================>...] - ETA: 0s - loss: 0.2592 - acc: 0.9215\n",
      "Epoch 2: val_loss improved from 0.27314 to 0.26213, saving model to ../results/timeseries-baseline/GRU-256-los_7-best_model.hdf5\n",
      "121/121 [==============================] - 0s 4ms/step - loss: 0.2594 - acc: 0.9213 - val_loss: 0.2621 - val_acc: 0.9205\n",
      "Epoch 3/100\n",
      "113/121 [===========================>..] - ETA: 0s - loss: 0.2452 - acc: 0.9225\n",
      "Epoch 3: val_loss did not improve from 0.26213\n",
      "121/121 [==============================] - 0s 4ms/step - loss: 0.2471 - acc: 0.9219 - val_loss: 0.2621 - val_acc: 0.9205\n",
      "Epoch 4/100\n",
      "106/121 [=========================>....] - ETA: 0s - loss: 0.2412 - acc: 0.9217\n",
      "Epoch 4: val_loss did not improve from 0.26213\n",
      "121/121 [==============================] - 0s 4ms/step - loss: 0.2400 - acc: 0.9220 - val_loss: 0.2627 - val_acc: 0.9223\n",
      "Epoch 5/100\n",
      "112/121 [==========================>...] - ETA: 0s - loss: 0.2340 - acc: 0.9238\n",
      "Epoch 5: val_loss improved from 0.26213 to 0.26181, saving model to ../results/timeseries-baseline/GRU-256-los_7-best_model.hdf5\n",
      "121/121 [==============================] - 0s 4ms/step - loss: 0.2335 - acc: 0.9244 - val_loss: 0.2618 - val_acc: 0.9228\n",
      "Epoch 6/100\n",
      "119/121 [============================>.] - ETA: 0s - loss: 0.2224 - acc: 0.9281\n",
      "Epoch 6: val_loss did not improve from 0.26181\n",
      "121/121 [==============================] - 0s 3ms/step - loss: 0.2230 - acc: 0.9281 - val_loss: 0.2655 - val_acc: 0.9183\n",
      "Epoch 7/100\n",
      "120/121 [============================>.] - ETA: 0s - loss: 0.2143 - acc: 0.9292\n",
      "Epoch 7: val_loss improved from 0.26181 to 0.26170, saving model to ../results/timeseries-baseline/GRU-256-los_7-best_model.hdf5\n",
      "121/121 [==============================] - 0s 4ms/step - loss: 0.2141 - acc: 0.9292 - val_loss: 0.2617 - val_acc: 0.9219\n",
      "Epoch 8/100\n",
      "116/121 [===========================>..] - ETA: 0s - loss: 0.2025 - acc: 0.9332\n",
      "Epoch 8: val_loss did not improve from 0.26170\n",
      "121/121 [==============================] - 0s 4ms/step - loss: 0.2013 - acc: 0.9334 - val_loss: 0.2650 - val_acc: 0.9192\n",
      "Epoch 9/100\n",
      "115/121 [===========================>..] - ETA: 0s - loss: 0.1854 - acc: 0.9404\n",
      "Epoch 9: val_loss did not improve from 0.26170\n",
      "121/121 [==============================] - 0s 4ms/step - loss: 0.1860 - acc: 0.9398 - val_loss: 0.2826 - val_acc: 0.9105\n",
      "Epoch 10/100\n",
      "114/121 [===========================>..] - ETA: 0s - loss: 0.1683 - acc: 0.9463\n",
      "Epoch 10: val_loss did not improve from 0.26170\n",
      "121/121 [==============================] - 0s 4ms/step - loss: 0.1685 - acc: 0.9466 - val_loss: 0.2946 - val_acc: 0.9142\n",
      "138/138 [==============================] - 0s 913us/step\n",
      "0.7224296018865307 0.19327615341765275 0.915796640944167 0.060759493670886074\n"
     ]
    },
    {
     "name": "stderr",
     "output_type": "stream",
     "text": [
      "2023-11-13 00:10:28.598793: I tensorflow/core/common_runtime/gpu/gpu_device.cc:1886] Created device /job:localhost/replica:0/task:0/device:GPU:0 with 13074 MB memory:  -> device: 0, name: Quadro RTX 5000, pci bus id: 0000:2b:00.0, compute capability: 7.5\n",
      "2023-11-13 00:10:28.615343: I tensorflow/core/common_runtime/gpu/gpu_device.cc:1886] Created device /job:localhost/replica:0/task:0/device:GPU:0 with 13074 MB memory:  -> device: 0, name: Quadro RTX 5000, pci bus id: 0000:2b:00.0, compute capability: 7.5\n"
     ]
    },
    {
     "name": "stdout",
     "output_type": "stream",
     "text": [
      "Iteration number:  7\n",
      "=============================\n",
      "Problem type:  mort_hosp\n",
      "__________________\n",
      "Epoch 1/100\n",
      "121/121 [==============================] - ETA: 0s - loss: 0.3101 - acc: 0.8907\n",
      "Epoch 1: val_loss improved from inf to 0.25328, saving model to ../results/timeseries-baseline/GRU-256-mort_hosp-best_model.hdf5\n",
      "121/121 [==============================] - 1s 6ms/step - loss: 0.3101 - acc: 0.8907 - val_loss: 0.2533 - val_acc: 0.9137\n",
      "Epoch 2/100\n",
      " 50/121 [===========>..................] - ETA: 0s - loss: 0.2597 - acc: 0.9091"
     ]
    },
    {
     "name": "stderr",
     "output_type": "stream",
     "text": [
      "/data/apps/miniforge3/envs/cse6250-project/lib/python3.9/site-packages/keras/src/engine/training.py:3079: UserWarning: You are saving your model as an HDF5 file via `model.save()`. This file format is considered legacy. We recommend using instead the native Keras format, e.g. `model.save('my_model.keras')`.\n",
      "  saving_api.save_model(\n"
     ]
    },
    {
     "name": "stdout",
     "output_type": "stream",
     "text": [
      "119/121 [============================>.] - ETA: 0s - loss: 0.2460 - acc: 0.9152\n",
      "Epoch 2: val_loss improved from 0.25328 to 0.23825, saving model to ../results/timeseries-baseline/GRU-256-mort_hosp-best_model.hdf5\n",
      "121/121 [==============================] - 0s 3ms/step - loss: 0.2454 - acc: 0.9154 - val_loss: 0.2382 - val_acc: 0.9151\n",
      "Epoch 3/100\n",
      "114/121 [===========================>..] - ETA: 0s - loss: 0.2287 - acc: 0.9196\n",
      "Epoch 3: val_loss improved from 0.23825 to 0.23697, saving model to ../results/timeseries-baseline/GRU-256-mort_hosp-best_model.hdf5\n",
      "121/121 [==============================] - 0s 4ms/step - loss: 0.2303 - acc: 0.9190 - val_loss: 0.2370 - val_acc: 0.9151\n",
      "Epoch 4/100\n",
      "121/121 [==============================] - ETA: 0s - loss: 0.2185 - acc: 0.9233\n",
      "Epoch 4: val_loss improved from 0.23697 to 0.23039, saving model to ../results/timeseries-baseline/GRU-256-mort_hosp-best_model.hdf5\n",
      "121/121 [==============================] - 0s 4ms/step - loss: 0.2185 - acc: 0.9233 - val_loss: 0.2304 - val_acc: 0.9155\n",
      "Epoch 5/100\n",
      "116/121 [===========================>..] - ETA: 0s - loss: 0.2063 - acc: 0.9269\n",
      "Epoch 5: val_loss did not improve from 0.23039\n",
      "121/121 [==============================] - 0s 4ms/step - loss: 0.2058 - acc: 0.9269 - val_loss: 0.2305 - val_acc: 0.9169\n",
      "Epoch 6/100\n",
      "116/121 [===========================>..] - ETA: 0s - loss: 0.1934 - acc: 0.9316\n",
      "Epoch 6: val_loss did not improve from 0.23039\n",
      "121/121 [==============================] - 0s 4ms/step - loss: 0.1941 - acc: 0.9315 - val_loss: 0.2322 - val_acc: 0.9151\n",
      "Epoch 7/100\n",
      "110/121 [==========================>...] - ETA: 0s - loss: 0.1791 - acc: 0.9371\n",
      "Epoch 7: val_loss did not improve from 0.23039\n",
      "121/121 [==============================] - 0s 4ms/step - loss: 0.1801 - acc: 0.9368 - val_loss: 0.2420 - val_acc: 0.9124\n",
      "138/138 [==============================] - 0s 971us/step\n",
      "0.879241984496762 0.5622528727671652 0.9123921924648207 0.4186746987951807\n"
     ]
    },
    {
     "name": "stderr",
     "output_type": "stream",
     "text": [
      "2023-11-13 00:10:37.182024: I tensorflow/core/common_runtime/gpu/gpu_device.cc:1886] Created device /job:localhost/replica:0/task:0/device:GPU:0 with 13074 MB memory:  -> device: 0, name: Quadro RTX 5000, pci bus id: 0000:2b:00.0, compute capability: 7.5\n",
      "2023-11-13 00:10:37.193339: I tensorflow/core/common_runtime/gpu/gpu_device.cc:1886] Created device /job:localhost/replica:0/task:0/device:GPU:0 with 13074 MB memory:  -> device: 0, name: Quadro RTX 5000, pci bus id: 0000:2b:00.0, compute capability: 7.5\n"
     ]
    },
    {
     "name": "stdout",
     "output_type": "stream",
     "text": [
      "Problem type:  mort_icu\n",
      "__________________\n",
      "Epoch 1/100\n",
      "111/121 [==========================>...] - ETA: 0s - loss: 0.2516 - acc: 0.9152\n",
      "Epoch 1: val_loss improved from inf to 0.19444, saving model to ../results/timeseries-baseline/GRU-256-mort_icu-best_model.hdf5\n",
      "121/121 [==============================] - 1s 5ms/step - loss: 0.2469 - acc: 0.9170 - val_loss: 0.1944 - val_acc: 0.9401\n",
      "Epoch 2/100\n",
      " 52/121 [===========>..................] - ETA: 0s - loss: 0.1869 - acc: 0.9396"
     ]
    },
    {
     "name": "stderr",
     "output_type": "stream",
     "text": [
      "/data/apps/miniforge3/envs/cse6250-project/lib/python3.9/site-packages/keras/src/engine/training.py:3079: UserWarning: You are saving your model as an HDF5 file via `model.save()`. This file format is considered legacy. We recommend using instead the native Keras format, e.g. `model.save('my_model.keras')`.\n",
      "  saving_api.save_model(\n"
     ]
    },
    {
     "name": "stdout",
     "output_type": "stream",
     "text": [
      "108/121 [=========================>....] - ETA: 0s - loss: 0.1816 - acc: 0.9419\n",
      "Epoch 2: val_loss improved from 0.19444 to 0.17162, saving model to ../results/timeseries-baseline/GRU-256-mort_icu-best_model.hdf5\n",
      "121/121 [==============================] - 0s 4ms/step - loss: 0.1827 - acc: 0.9418 - val_loss: 0.1716 - val_acc: 0.9432\n",
      "Epoch 3/100\n",
      "113/121 [===========================>..] - ETA: 0s - loss: 0.1640 - acc: 0.9452\n",
      "Epoch 3: val_loss did not improve from 0.17162\n",
      "121/121 [==============================] - 0s 4ms/step - loss: 0.1655 - acc: 0.9447 - val_loss: 0.1762 - val_acc: 0.9423\n",
      "Epoch 4/100\n",
      "116/121 [===========================>..] - ETA: 0s - loss: 0.1563 - acc: 0.9479\n",
      "Epoch 4: val_loss improved from 0.17162 to 0.16986, saving model to ../results/timeseries-baseline/GRU-256-mort_icu-best_model.hdf5\n",
      "121/121 [==============================] - 0s 4ms/step - loss: 0.1562 - acc: 0.9482 - val_loss: 0.1699 - val_acc: 0.9405\n",
      "Epoch 5/100\n",
      "108/121 [=========================>....] - ETA: 0s - loss: 0.1469 - acc: 0.9509\n",
      "Epoch 5: val_loss did not improve from 0.16986\n",
      "121/121 [==============================] - 0s 4ms/step - loss: 0.1457 - acc: 0.9511 - val_loss: 0.1793 - val_acc: 0.9423\n",
      "Epoch 6/100\n",
      "117/121 [============================>.] - ETA: 0s - loss: 0.1362 - acc: 0.9543\n",
      "Epoch 6: val_loss did not improve from 0.16986\n",
      "121/121 [==============================] - 0s 4ms/step - loss: 0.1365 - acc: 0.9538 - val_loss: 0.1750 - val_acc: 0.9387\n",
      "Epoch 7/100\n",
      "110/121 [==========================>...] - ETA: 0s - loss: 0.1251 - acc: 0.9581\n",
      "Epoch 7: val_loss did not improve from 0.16986\n",
      "121/121 [==============================] - 0s 4ms/step - loss: 0.1258 - acc: 0.9576 - val_loss: 0.1708 - val_acc: 0.9405\n",
      "138/138 [==============================] - 0s 838us/step\n",
      "0.8882891932113008 0.5148011052358665 0.9400817067635043 0.4382978723404255\n"
     ]
    },
    {
     "name": "stderr",
     "output_type": "stream",
     "text": [
      "2023-11-13 00:10:44.868602: I tensorflow/core/common_runtime/gpu/gpu_device.cc:1886] Created device /job:localhost/replica:0/task:0/device:GPU:0 with 13074 MB memory:  -> device: 0, name: Quadro RTX 5000, pci bus id: 0000:2b:00.0, compute capability: 7.5\n",
      "2023-11-13 00:10:44.878177: I tensorflow/core/common_runtime/gpu/gpu_device.cc:1886] Created device /job:localhost/replica:0/task:0/device:GPU:0 with 13074 MB memory:  -> device: 0, name: Quadro RTX 5000, pci bus id: 0000:2b:00.0, compute capability: 7.5\n"
     ]
    },
    {
     "name": "stdout",
     "output_type": "stream",
     "text": [
      "Problem type:  los_3\n",
      "__________________\n",
      "Epoch 1/100\n",
      "112/121 [==========================>...] - ETA: 0s - loss: 0.6643 - acc: 0.6334\n",
      "Epoch 1: val_loss improved from inf to 0.63477, saving model to ../results/timeseries-baseline/GRU-256-los_3-best_model.hdf5\n",
      "121/121 [==============================] - 1s 5ms/step - loss: 0.6624 - acc: 0.6358 - val_loss: 0.6348 - val_acc: 0.6744\n",
      "Epoch 2/100\n",
      " 57/121 [=============>................] - ETA: 0s - loss: 0.6418 - acc: 0.6525"
     ]
    },
    {
     "name": "stderr",
     "output_type": "stream",
     "text": [
      "/data/apps/miniforge3/envs/cse6250-project/lib/python3.9/site-packages/keras/src/engine/training.py:3079: UserWarning: You are saving your model as an HDF5 file via `model.save()`. This file format is considered legacy. We recommend using instead the native Keras format, e.g. `model.save('my_model.keras')`.\n",
      "  saving_api.save_model(\n"
     ]
    },
    {
     "name": "stdout",
     "output_type": "stream",
     "text": [
      "109/121 [==========================>...] - ETA: 0s - loss: 0.6397 - acc: 0.6534\n",
      "Epoch 2: val_loss improved from 0.63477 to 0.62515, saving model to ../results/timeseries-baseline/GRU-256-los_3-best_model.hdf5\n",
      "121/121 [==============================] - 0s 3ms/step - loss: 0.6384 - acc: 0.6545 - val_loss: 0.6251 - val_acc: 0.6780\n",
      "Epoch 3/100\n",
      "109/121 [==========================>...] - ETA: 0s - loss: 0.6231 - acc: 0.6704\n",
      "Epoch 3: val_loss improved from 0.62515 to 0.62456, saving model to ../results/timeseries-baseline/GRU-256-los_3-best_model.hdf5\n",
      "121/121 [==============================] - 0s 3ms/step - loss: 0.6246 - acc: 0.6677 - val_loss: 0.6246 - val_acc: 0.6639\n",
      "Epoch 4/100\n",
      "114/121 [===========================>..] - ETA: 0s - loss: 0.6117 - acc: 0.6803\n",
      "Epoch 4: val_loss improved from 0.62456 to 0.61920, saving model to ../results/timeseries-baseline/GRU-256-los_3-best_model.hdf5\n",
      "121/121 [==============================] - 0s 4ms/step - loss: 0.6120 - acc: 0.6800 - val_loss: 0.6192 - val_acc: 0.6685\n",
      "Epoch 5/100\n",
      "113/121 [===========================>..] - ETA: 0s - loss: 0.5978 - acc: 0.6897\n",
      "Epoch 5: val_loss did not improve from 0.61920\n",
      "121/121 [==============================] - 0s 4ms/step - loss: 0.5980 - acc: 0.6898 - val_loss: 0.6268 - val_acc: 0.6612\n",
      "Epoch 6/100\n",
      "111/121 [==========================>...] - ETA: 0s - loss: 0.5858 - acc: 0.7021\n",
      "Epoch 6: val_loss improved from 0.61920 to 0.61624, saving model to ../results/timeseries-baseline/GRU-256-los_3-best_model.hdf5\n",
      "121/121 [==============================] - 0s 4ms/step - loss: 0.5854 - acc: 0.7025 - val_loss: 0.6162 - val_acc: 0.6649\n",
      "Epoch 7/100\n",
      "121/121 [==============================] - ETA: 0s - loss: 0.5654 - acc: 0.7207\n",
      "Epoch 7: val_loss did not improve from 0.61624\n",
      "121/121 [==============================] - 0s 3ms/step - loss: 0.5654 - acc: 0.7207 - val_loss: 0.6244 - val_acc: 0.6644\n",
      "Epoch 8/100\n",
      "118/121 [============================>.] - ETA: 0s - loss: 0.5393 - acc: 0.7380\n",
      "Epoch 8: val_loss did not improve from 0.61624\n",
      "121/121 [==============================] - 0s 3ms/step - loss: 0.5393 - acc: 0.7382 - val_loss: 0.6393 - val_acc: 0.6499\n",
      "Epoch 9/100\n",
      "104/121 [========================>.....] - ETA: 0s - loss: 0.4993 - acc: 0.7680\n",
      "Epoch 9: val_loss did not improve from 0.61624\n",
      "121/121 [==============================] - 0s 3ms/step - loss: 0.4996 - acc: 0.7657 - val_loss: 0.6696 - val_acc: 0.6540\n",
      "138/138 [==============================] - 0s 849us/step\n",
      "0.6890538470602097 0.6347390982305932 0.6579664094416704 0.551888195063931\n"
     ]
    },
    {
     "name": "stderr",
     "output_type": "stream",
     "text": [
      "2023-11-13 00:10:53.192143: I tensorflow/core/common_runtime/gpu/gpu_device.cc:1886] Created device /job:localhost/replica:0/task:0/device:GPU:0 with 13074 MB memory:  -> device: 0, name: Quadro RTX 5000, pci bus id: 0000:2b:00.0, compute capability: 7.5\n",
      "2023-11-13 00:10:53.201912: I tensorflow/core/common_runtime/gpu/gpu_device.cc:1886] Created device /job:localhost/replica:0/task:0/device:GPU:0 with 13074 MB memory:  -> device: 0, name: Quadro RTX 5000, pci bus id: 0000:2b:00.0, compute capability: 7.5\n"
     ]
    },
    {
     "name": "stdout",
     "output_type": "stream",
     "text": [
      "Problem type:  los_7\n",
      "__________________\n",
      "Epoch 1/100\n",
      "116/121 [===========================>..] - ETA: 0s - loss: 0.3193 - acc: 0.8970\n",
      "Epoch 1: val_loss improved from inf to 0.26344, saving model to ../results/timeseries-baseline/GRU-256-los_7-best_model.hdf5\n",
      "121/121 [==============================] - 1s 5ms/step - loss: 0.3176 - acc: 0.8977 - val_loss: 0.2634 - val_acc: 0.9205\n",
      "Epoch 2/100\n",
      " 53/121 [============>.................] - ETA: 0s - loss: 0.2643 - acc: 0.9214"
     ]
    },
    {
     "name": "stderr",
     "output_type": "stream",
     "text": [
      "/data/apps/miniforge3/envs/cse6250-project/lib/python3.9/site-packages/keras/src/engine/training.py:3079: UserWarning: You are saving your model as an HDF5 file via `model.save()`. This file format is considered legacy. We recommend using instead the native Keras format, e.g. `model.save('my_model.keras')`.\n",
      "  saving_api.save_model(\n"
     ]
    },
    {
     "name": "stdout",
     "output_type": "stream",
     "text": [
      "119/121 [============================>.] - ETA: 0s - loss: 0.2607 - acc: 0.9208\n",
      "Epoch 2: val_loss improved from 0.26344 to 0.25889, saving model to ../results/timeseries-baseline/GRU-256-los_7-best_model.hdf5\n",
      "121/121 [==============================] - 0s 4ms/step - loss: 0.2594 - acc: 0.9212 - val_loss: 0.2589 - val_acc: 0.9219\n",
      "Epoch 3/100\n",
      "113/121 [===========================>..] - ETA: 0s - loss: 0.2495 - acc: 0.9209\n",
      "Epoch 3: val_loss improved from 0.25889 to 0.25805, saving model to ../results/timeseries-baseline/GRU-256-los_7-best_model.hdf5\n",
      "121/121 [==============================] - 0s 4ms/step - loss: 0.2484 - acc: 0.9214 - val_loss: 0.2581 - val_acc: 0.9233\n",
      "Epoch 4/100\n",
      "110/121 [==========================>...] - ETA: 0s - loss: 0.2398 - acc: 0.9238\n",
      "Epoch 4: val_loss improved from 0.25805 to 0.25538, saving model to ../results/timeseries-baseline/GRU-256-los_7-best_model.hdf5\n",
      "121/121 [==============================] - 0s 3ms/step - loss: 0.2398 - acc: 0.9236 - val_loss: 0.2554 - val_acc: 0.9237\n",
      "Epoch 5/100\n",
      "109/121 [==========================>...] - ETA: 0s - loss: 0.2318 - acc: 0.9243\n",
      "Epoch 5: val_loss did not improve from 0.25538\n",
      "121/121 [==============================] - 0s 4ms/step - loss: 0.2333 - acc: 0.9239 - val_loss: 0.2578 - val_acc: 0.9237\n",
      "Epoch 6/100\n",
      "109/121 [==========================>...] - ETA: 0s - loss: 0.2248 - acc: 0.9261\n",
      "Epoch 6: val_loss did not improve from 0.25538\n",
      "121/121 [==============================] - 0s 3ms/step - loss: 0.2258 - acc: 0.9259 - val_loss: 0.2622 - val_acc: 0.9210\n",
      "Epoch 7/100\n",
      "119/121 [============================>.] - ETA: 0s - loss: 0.2146 - acc: 0.9287\n",
      "Epoch 7: val_loss did not improve from 0.25538\n",
      "121/121 [==============================] - 0s 3ms/step - loss: 0.2146 - acc: 0.9287 - val_loss: 0.2675 - val_acc: 0.9214\n",
      "138/138 [==============================] - 0s 851us/step\n",
      "0.7386551532806215 0.2127530053516211 0.9185201997276441 0.03234501347708895\n"
     ]
    },
    {
     "name": "stderr",
     "output_type": "stream",
     "text": [
      "2023-11-13 00:11:00.577117: I tensorflow/core/common_runtime/gpu/gpu_device.cc:1886] Created device /job:localhost/replica:0/task:0/device:GPU:0 with 13074 MB memory:  -> device: 0, name: Quadro RTX 5000, pci bus id: 0000:2b:00.0, compute capability: 7.5\n",
      "2023-11-13 00:11:00.587415: I tensorflow/core/common_runtime/gpu/gpu_device.cc:1886] Created device /job:localhost/replica:0/task:0/device:GPU:0 with 13074 MB memory:  -> device: 0, name: Quadro RTX 5000, pci bus id: 0000:2b:00.0, compute capability: 7.5\n"
     ]
    },
    {
     "name": "stdout",
     "output_type": "stream",
     "text": [
      "Iteration number:  8\n",
      "=============================\n",
      "Problem type:  mort_hosp\n",
      "__________________\n",
      "Epoch 1/100\n",
      "108/121 [=========================>....] - ETA: 0s - loss: 0.3122 - acc: 0.8865\n",
      "Epoch 1: val_loss improved from inf to 0.24695, saving model to ../results/timeseries-baseline/GRU-256-mort_hosp-best_model.hdf5\n",
      "121/121 [==============================] - 1s 6ms/step - loss: 0.3091 - acc: 0.8880 - val_loss: 0.2469 - val_acc: 0.9151\n",
      "Epoch 2/100\n",
      " 54/121 [============>.................] - ETA: 0s - loss: 0.2392 - acc: 0.9181"
     ]
    },
    {
     "name": "stderr",
     "output_type": "stream",
     "text": [
      "/data/apps/miniforge3/envs/cse6250-project/lib/python3.9/site-packages/keras/src/engine/training.py:3079: UserWarning: You are saving your model as an HDF5 file via `model.save()`. This file format is considered legacy. We recommend using instead the native Keras format, e.g. `model.save('my_model.keras')`.\n",
      "  saving_api.save_model(\n"
     ]
    },
    {
     "name": "stdout",
     "output_type": "stream",
     "text": [
      "113/121 [===========================>..] - ETA: 0s - loss: 0.2465 - acc: 0.9129\n",
      "Epoch 2: val_loss improved from 0.24695 to 0.24446, saving model to ../results/timeseries-baseline/GRU-256-mort_hosp-best_model.hdf5\n",
      "121/121 [==============================] - 0s 4ms/step - loss: 0.2481 - acc: 0.9128 - val_loss: 0.2445 - val_acc: 0.9128\n",
      "Epoch 3/100\n",
      "117/121 [============================>.] - ETA: 0s - loss: 0.2317 - acc: 0.9163\n",
      "Epoch 3: val_loss improved from 0.24446 to 0.24236, saving model to ../results/timeseries-baseline/GRU-256-mort_hosp-best_model.hdf5\n",
      "121/121 [==============================] - 0s 4ms/step - loss: 0.2312 - acc: 0.9166 - val_loss: 0.2424 - val_acc: 0.9087\n",
      "Epoch 4/100\n",
      "119/121 [============================>.] - ETA: 0s - loss: 0.2183 - acc: 0.9208\n",
      "Epoch 4: val_loss improved from 0.24236 to 0.23179, saving model to ../results/timeseries-baseline/GRU-256-mort_hosp-best_model.hdf5\n",
      "121/121 [==============================] - 0s 4ms/step - loss: 0.2184 - acc: 0.9208 - val_loss: 0.2318 - val_acc: 0.9146\n",
      "Epoch 5/100\n",
      "115/121 [===========================>..] - ETA: 0s - loss: 0.2104 - acc: 0.9234\n",
      "Epoch 5: val_loss improved from 0.23179 to 0.23080, saving model to ../results/timeseries-baseline/GRU-256-mort_hosp-best_model.hdf5\n",
      "121/121 [==============================] - 0s 4ms/step - loss: 0.2094 - acc: 0.9238 - val_loss: 0.2308 - val_acc: 0.9151\n",
      "Epoch 6/100\n",
      "115/121 [===========================>..] - ETA: 0s - loss: 0.1961 - acc: 0.9306\n",
      "Epoch 6: val_loss did not improve from 0.23080\n",
      "121/121 [==============================] - 0s 4ms/step - loss: 0.1963 - acc: 0.9302 - val_loss: 0.2351 - val_acc: 0.9128\n",
      "Epoch 7/100\n",
      "119/121 [============================>.] - ETA: 0s - loss: 0.1833 - acc: 0.9364\n",
      "Epoch 7: val_loss did not improve from 0.23080\n",
      "121/121 [==============================] - 0s 3ms/step - loss: 0.1840 - acc: 0.9362 - val_loss: 0.2481 - val_acc: 0.9146\n",
      "Epoch 8/100\n",
      "105/121 [=========================>....] - ETA: 0s - loss: 0.1677 - acc: 0.9423\n",
      "Epoch 8: val_loss did not improve from 0.23080\n",
      "121/121 [==============================] - 0s 3ms/step - loss: 0.1674 - acc: 0.9429 - val_loss: 0.2535 - val_acc: 0.9046\n",
      "138/138 [==============================] - 0s 873us/step\n",
      "0.871620886098915 0.5504828409114089 0.9128461189287336 0.4385964912280702\n"
     ]
    },
    {
     "name": "stderr",
     "output_type": "stream",
     "text": [
      "2023-11-13 00:11:08.418071: I tensorflow/core/common_runtime/gpu/gpu_device.cc:1886] Created device /job:localhost/replica:0/task:0/device:GPU:0 with 13074 MB memory:  -> device: 0, name: Quadro RTX 5000, pci bus id: 0000:2b:00.0, compute capability: 7.5\n",
      "2023-11-13 00:11:08.427405: I tensorflow/core/common_runtime/gpu/gpu_device.cc:1886] Created device /job:localhost/replica:0/task:0/device:GPU:0 with 13074 MB memory:  -> device: 0, name: Quadro RTX 5000, pci bus id: 0000:2b:00.0, compute capability: 7.5\n"
     ]
    },
    {
     "name": "stdout",
     "output_type": "stream",
     "text": [
      "Problem type:  mort_icu\n",
      "__________________\n",
      "Epoch 1/100\n",
      "112/121 [==========================>...] - ETA: 0s - loss: 0.2482 - acc: 0.9161\n",
      "Epoch 1: val_loss improved from inf to 0.17880, saving model to ../results/timeseries-baseline/GRU-256-mort_icu-best_model.hdf5\n",
      "121/121 [==============================] - 2s 5ms/step - loss: 0.2456 - acc: 0.9172 - val_loss: 0.1788 - val_acc: 0.9419\n",
      "Epoch 2/100\n",
      " 54/121 [============>.................] - ETA: 0s - loss: 0.1810 - acc: 0.9440"
     ]
    },
    {
     "name": "stderr",
     "output_type": "stream",
     "text": [
      "/data/apps/miniforge3/envs/cse6250-project/lib/python3.9/site-packages/keras/src/engine/training.py:3079: UserWarning: You are saving your model as an HDF5 file via `model.save()`. This file format is considered legacy. We recommend using instead the native Keras format, e.g. `model.save('my_model.keras')`.\n",
      "  saving_api.save_model(\n"
     ]
    },
    {
     "name": "stdout",
     "output_type": "stream",
     "text": [
      "121/121 [==============================] - ETA: 0s - loss: 0.1810 - acc: 0.9429\n",
      "Epoch 2: val_loss improved from 0.17880 to 0.17562, saving model to ../results/timeseries-baseline/GRU-256-mort_icu-best_model.hdf5\n",
      "121/121 [==============================] - 0s 3ms/step - loss: 0.1810 - acc: 0.9429 - val_loss: 0.1756 - val_acc: 0.9405\n",
      "Epoch 3/100\n",
      "118/121 [============================>.] - ETA: 0s - loss: 0.1643 - acc: 0.9464\n",
      "Epoch 3: val_loss improved from 0.17562 to 0.16160, saving model to ../results/timeseries-baseline/GRU-256-mort_icu-best_model.hdf5\n",
      "121/121 [==============================] - 0s 4ms/step - loss: 0.1657 - acc: 0.9460 - val_loss: 0.1616 - val_acc: 0.9478\n",
      "Epoch 4/100\n",
      "119/121 [============================>.] - ETA: 0s - loss: 0.1548 - acc: 0.9470\n",
      "Epoch 4: val_loss did not improve from 0.16160\n",
      "121/121 [==============================] - 0s 3ms/step - loss: 0.1543 - acc: 0.9473 - val_loss: 0.1639 - val_acc: 0.9437\n",
      "Epoch 5/100\n",
      "112/121 [==========================>...] - ETA: 0s - loss: 0.1442 - acc: 0.9522\n",
      "Epoch 5: val_loss did not improve from 0.16160\n",
      "121/121 [==============================] - 0s 4ms/step - loss: 0.1479 - acc: 0.9506 - val_loss: 0.1684 - val_acc: 0.9446\n",
      "Epoch 6/100\n",
      "113/121 [===========================>..] - ETA: 0s - loss: 0.1347 - acc: 0.9550\n",
      "Epoch 6: val_loss did not improve from 0.16160\n",
      "121/121 [==============================] - 0s 4ms/step - loss: 0.1352 - acc: 0.9547 - val_loss: 0.1669 - val_acc: 0.9446\n",
      "138/138 [==============================] - 0s 841us/step\n",
      "0.8954785980390569 0.519097605116355 0.9405356332274172 0.41777777777777775\n"
     ]
    },
    {
     "name": "stderr",
     "output_type": "stream",
     "text": [
      "2023-11-13 00:11:15.460225: I tensorflow/core/common_runtime/gpu/gpu_device.cc:1886] Created device /job:localhost/replica:0/task:0/device:GPU:0 with 13074 MB memory:  -> device: 0, name: Quadro RTX 5000, pci bus id: 0000:2b:00.0, compute capability: 7.5\n",
      "2023-11-13 00:11:15.469208: I tensorflow/core/common_runtime/gpu/gpu_device.cc:1886] Created device /job:localhost/replica:0/task:0/device:GPU:0 with 13074 MB memory:  -> device: 0, name: Quadro RTX 5000, pci bus id: 0000:2b:00.0, compute capability: 7.5\n"
     ]
    },
    {
     "name": "stdout",
     "output_type": "stream",
     "text": [
      "Problem type:  los_3\n",
      "__________________\n",
      "Epoch 1/100\n",
      "115/121 [===========================>..] - ETA: 0s - loss: 0.6621 - acc: 0.6297\n",
      "Epoch 1: val_loss improved from inf to 0.63196, saving model to ../results/timeseries-baseline/GRU-256-los_3-best_model.hdf5\n",
      "121/121 [==============================] - 1s 6ms/step - loss: 0.6605 - acc: 0.6314 - val_loss: 0.6320 - val_acc: 0.6703\n",
      "Epoch 2/100\n",
      " 54/121 [============>.................] - ETA: 0s - loss: 0.6365 - acc: 0.6584"
     ]
    },
    {
     "name": "stderr",
     "output_type": "stream",
     "text": [
      "/data/apps/miniforge3/envs/cse6250-project/lib/python3.9/site-packages/keras/src/engine/training.py:3079: UserWarning: You are saving your model as an HDF5 file via `model.save()`. This file format is considered legacy. We recommend using instead the native Keras format, e.g. `model.save('my_model.keras')`.\n",
      "  saving_api.save_model(\n"
     ]
    },
    {
     "name": "stdout",
     "output_type": "stream",
     "text": [
      "105/121 [=========================>....] - ETA: 0s - loss: 0.6355 - acc: 0.6574\n",
      "Epoch 2: val_loss improved from 0.63196 to 0.62105, saving model to ../results/timeseries-baseline/GRU-256-los_3-best_model.hdf5\n",
      "121/121 [==============================] - 0s 3ms/step - loss: 0.6355 - acc: 0.6585 - val_loss: 0.6210 - val_acc: 0.6785\n",
      "Epoch 3/100\n",
      "105/121 [=========================>....] - ETA: 0s - loss: 0.6211 - acc: 0.6687\n",
      "Epoch 3: val_loss did not improve from 0.62105\n",
      "121/121 [==============================] - 0s 3ms/step - loss: 0.6226 - acc: 0.6662 - val_loss: 0.6225 - val_acc: 0.6685\n",
      "Epoch 4/100\n",
      "119/121 [============================>.] - ETA: 0s - loss: 0.6095 - acc: 0.6796\n",
      "Epoch 4: val_loss improved from 0.62105 to 0.61393, saving model to ../results/timeseries-baseline/GRU-256-los_3-best_model.hdf5\n",
      "121/121 [==============================] - 0s 3ms/step - loss: 0.6098 - acc: 0.6790 - val_loss: 0.6139 - val_acc: 0.6653\n",
      "Epoch 5/100\n",
      "118/121 [============================>.] - ETA: 0s - loss: 0.5998 - acc: 0.6854\n",
      "Epoch 5: val_loss did not improve from 0.61393\n",
      "121/121 [==============================] - 0s 3ms/step - loss: 0.6001 - acc: 0.6850 - val_loss: 0.6172 - val_acc: 0.6653\n",
      "Epoch 6/100\n",
      "105/121 [=========================>....] - ETA: 0s - loss: 0.5822 - acc: 0.7039\n",
      "Epoch 6: val_loss did not improve from 0.61393\n",
      "121/121 [==============================] - 0s 3ms/step - loss: 0.5827 - acc: 0.7027 - val_loss: 0.6207 - val_acc: 0.6617\n",
      "Epoch 7/100\n",
      "108/121 [=========================>....] - ETA: 0s - loss: 0.5648 - acc: 0.7148\n",
      "Epoch 7: val_loss did not improve from 0.61393\n",
      "121/121 [==============================] - 0s 3ms/step - loss: 0.5663 - acc: 0.7138 - val_loss: 0.6210 - val_acc: 0.6617\n",
      "138/138 [==============================] - 0s 841us/step\n",
      "0.695308581191402 0.6386984705487592 0.6586472991375397 0.543966040024257\n"
     ]
    },
    {
     "name": "stderr",
     "output_type": "stream",
     "text": [
      "2023-11-13 00:11:22.829255: I tensorflow/core/common_runtime/gpu/gpu_device.cc:1886] Created device /job:localhost/replica:0/task:0/device:GPU:0 with 13074 MB memory:  -> device: 0, name: Quadro RTX 5000, pci bus id: 0000:2b:00.0, compute capability: 7.5\n",
      "2023-11-13 00:11:22.840470: I tensorflow/core/common_runtime/gpu/gpu_device.cc:1886] Created device /job:localhost/replica:0/task:0/device:GPU:0 with 13074 MB memory:  -> device: 0, name: Quadro RTX 5000, pci bus id: 0000:2b:00.0, compute capability: 7.5\n"
     ]
    },
    {
     "name": "stdout",
     "output_type": "stream",
     "text": [
      "Problem type:  los_7\n",
      "__________________\n",
      "Epoch 1/100\n",
      "111/121 [==========================>...] - ETA: 0s - loss: 0.3214 - acc: 0.8986\n",
      "Epoch 1: val_loss improved from inf to 0.27309, saving model to ../results/timeseries-baseline/GRU-256-los_7-best_model.hdf5\n",
      "121/121 [==============================] - 1s 5ms/step - loss: 0.3172 - acc: 0.9006 - val_loss: 0.2731 - val_acc: 0.9219\n",
      "Epoch 2/100\n",
      " 57/121 [=============>................] - ETA: 0s - loss: 0.2665 - acc: 0.9202"
     ]
    },
    {
     "name": "stderr",
     "output_type": "stream",
     "text": [
      "/data/apps/miniforge3/envs/cse6250-project/lib/python3.9/site-packages/keras/src/engine/training.py:3079: UserWarning: You are saving your model as an HDF5 file via `model.save()`. This file format is considered legacy. We recommend using instead the native Keras format, e.g. `model.save('my_model.keras')`.\n",
      "  saving_api.save_model(\n"
     ]
    },
    {
     "name": "stdout",
     "output_type": "stream",
     "text": [
      "120/121 [============================>.] - ETA: 0s - loss: 0.2586 - acc: 0.9217\n",
      "Epoch 2: val_loss improved from 0.27309 to 0.26104, saving model to ../results/timeseries-baseline/GRU-256-los_7-best_model.hdf5\n",
      "121/121 [==============================] - 0s 4ms/step - loss: 0.2586 - acc: 0.9217 - val_loss: 0.2610 - val_acc: 0.9228\n",
      "Epoch 3/100\n",
      "117/121 [============================>.] - ETA: 0s - loss: 0.2474 - acc: 0.9231\n",
      "Epoch 3: val_loss did not improve from 0.26104\n",
      "121/121 [==============================] - 0s 4ms/step - loss: 0.2489 - acc: 0.9225 - val_loss: 0.2625 - val_acc: 0.9223\n",
      "Epoch 4/100\n",
      "112/121 [==========================>...] - ETA: 0s - loss: 0.2410 - acc: 0.9229\n",
      "Epoch 4: val_loss improved from 0.26104 to 0.25957, saving model to ../results/timeseries-baseline/GRU-256-los_7-best_model.hdf5\n",
      "121/121 [==============================] - 0s 4ms/step - loss: 0.2415 - acc: 0.9228 - val_loss: 0.2596 - val_acc: 0.9205\n",
      "Epoch 5/100\n",
      "111/121 [==========================>...] - ETA: 0s - loss: 0.2338 - acc: 0.9236\n",
      "Epoch 5: val_loss improved from 0.25957 to 0.25887, saving model to ../results/timeseries-baseline/GRU-256-los_7-best_model.hdf5\n",
      "121/121 [==============================] - 0s 4ms/step - loss: 0.2332 - acc: 0.9241 - val_loss: 0.2589 - val_acc: 0.9205\n",
      "Epoch 6/100\n",
      "107/121 [=========================>....] - ETA: 0s - loss: 0.2259 - acc: 0.9270\n",
      "Epoch 6: val_loss did not improve from 0.25887\n",
      "121/121 [==============================] - 0s 3ms/step - loss: 0.2256 - acc: 0.9270 - val_loss: 0.2614 - val_acc: 0.9242\n",
      "Epoch 7/100\n",
      "110/121 [==========================>...] - ETA: 0s - loss: 0.2194 - acc: 0.9277\n",
      "Epoch 7: val_loss did not improve from 0.25887\n",
      "121/121 [==============================] - 0s 3ms/step - loss: 0.2161 - acc: 0.9288 - val_loss: 0.2764 - val_acc: 0.9178\n",
      "Epoch 8/100\n",
      "118/121 [============================>.] - ETA: 0s - loss: 0.2040 - acc: 0.9339\n",
      "Epoch 8: val_loss did not improve from 0.25887\n",
      "121/121 [==============================] - 0s 4ms/step - loss: 0.2040 - acc: 0.9339 - val_loss: 0.2868 - val_acc: 0.9114\n",
      "138/138 [==============================] - 0s 899us/step\n",
      "0.7352642530170621 0.2123730819052568 0.9185201997276441 0.08184143222506393\n"
     ]
    },
    {
     "name": "stderr",
     "output_type": "stream",
     "text": [
      "2023-11-13 00:11:30.638747: I tensorflow/core/common_runtime/gpu/gpu_device.cc:1886] Created device /job:localhost/replica:0/task:0/device:GPU:0 with 13074 MB memory:  -> device: 0, name: Quadro RTX 5000, pci bus id: 0000:2b:00.0, compute capability: 7.5\n",
      "2023-11-13 00:11:30.648094: I tensorflow/core/common_runtime/gpu/gpu_device.cc:1886] Created device /job:localhost/replica:0/task:0/device:GPU:0 with 13074 MB memory:  -> device: 0, name: Quadro RTX 5000, pci bus id: 0000:2b:00.0, compute capability: 7.5\n"
     ]
    },
    {
     "name": "stdout",
     "output_type": "stream",
     "text": [
      "Iteration number:  9\n",
      "=============================\n",
      "Problem type:  mort_hosp\n",
      "__________________\n",
      "Epoch 1/100\n",
      "113/121 [===========================>..] - ETA: 0s - loss: 0.3129 - acc: 0.8890\n",
      "Epoch 1: val_loss improved from inf to 0.24750, saving model to ../results/timeseries-baseline/GRU-256-mort_hosp-best_model.hdf5\n",
      "121/121 [==============================] - 1s 6ms/step - loss: 0.3084 - acc: 0.8908 - val_loss: 0.2475 - val_acc: 0.9119\n",
      "Epoch 2/100\n",
      " 52/121 [===========>..................] - ETA: 0s - loss: 0.2341 - acc: 0.9187"
     ]
    },
    {
     "name": "stderr",
     "output_type": "stream",
     "text": [
      "/data/apps/miniforge3/envs/cse6250-project/lib/python3.9/site-packages/keras/src/engine/training.py:3079: UserWarning: You are saving your model as an HDF5 file via `model.save()`. This file format is considered legacy. We recommend using instead the native Keras format, e.g. `model.save('my_model.keras')`.\n",
      "  saving_api.save_model(\n"
     ]
    },
    {
     "name": "stdout",
     "output_type": "stream",
     "text": [
      "121/121 [==============================] - ETA: 0s - loss: 0.2464 - acc: 0.9143\n",
      "Epoch 2: val_loss improved from 0.24750 to 0.23821, saving model to ../results/timeseries-baseline/GRU-256-mort_hosp-best_model.hdf5\n",
      "121/121 [==============================] - 0s 4ms/step - loss: 0.2464 - acc: 0.9143 - val_loss: 0.2382 - val_acc: 0.9173\n",
      "Epoch 3/100\n",
      "119/121 [============================>.] - ETA: 0s - loss: 0.2295 - acc: 0.9190\n",
      "Epoch 3: val_loss improved from 0.23821 to 0.23425, saving model to ../results/timeseries-baseline/GRU-256-mort_hosp-best_model.hdf5\n",
      "121/121 [==============================] - 0s 4ms/step - loss: 0.2302 - acc: 0.9187 - val_loss: 0.2342 - val_acc: 0.9155\n",
      "Epoch 4/100\n",
      "108/121 [=========================>....] - ETA: 0s - loss: 0.2199 - acc: 0.9217\n",
      "Epoch 4: val_loss improved from 0.23425 to 0.23397, saving model to ../results/timeseries-baseline/GRU-256-mort_hosp-best_model.hdf5\n",
      "121/121 [==============================] - 0s 3ms/step - loss: 0.2200 - acc: 0.9214 - val_loss: 0.2340 - val_acc: 0.9110\n",
      "Epoch 5/100\n",
      "106/121 [=========================>....] - ETA: 0s - loss: 0.2113 - acc: 0.9240\n",
      "Epoch 5: val_loss improved from 0.23397 to 0.23074, saving model to ../results/timeseries-baseline/GRU-256-mort_hosp-best_model.hdf5\n",
      "121/121 [==============================] - 0s 3ms/step - loss: 0.2087 - acc: 0.9246 - val_loss: 0.2307 - val_acc: 0.9155\n",
      "Epoch 6/100\n",
      "105/121 [=========================>....] - ETA: 0s - loss: 0.1959 - acc: 0.9309\n",
      "Epoch 6: val_loss did not improve from 0.23074\n",
      "121/121 [==============================] - 0s 3ms/step - loss: 0.1963 - acc: 0.9298 - val_loss: 0.2337 - val_acc: 0.9183\n",
      "Epoch 7/100\n",
      "105/121 [=========================>....] - ETA: 0s - loss: 0.1809 - acc: 0.9352\n",
      "Epoch 7: val_loss did not improve from 0.23074\n",
      "121/121 [==============================] - 0s 3ms/step - loss: 0.1815 - acc: 0.9352 - val_loss: 0.2464 - val_acc: 0.9151\n",
      "Epoch 8/100\n",
      "118/121 [============================>.] - ETA: 0s - loss: 0.1681 - acc: 0.9419\n",
      "Epoch 8: val_loss did not improve from 0.23074\n",
      "121/121 [==============================] - 0s 3ms/step - loss: 0.1688 - acc: 0.9418 - val_loss: 0.2560 - val_acc: 0.9124\n",
      "138/138 [==============================] - 0s 942us/step\n",
      "0.880340848101739 0.5557892885850932 0.9126191556967771 0.44604316546762596\n"
     ]
    },
    {
     "name": "stderr",
     "output_type": "stream",
     "text": [
      "2023-11-13 00:11:38.486146: I tensorflow/core/common_runtime/gpu/gpu_device.cc:1886] Created device /job:localhost/replica:0/task:0/device:GPU:0 with 13074 MB memory:  -> device: 0, name: Quadro RTX 5000, pci bus id: 0000:2b:00.0, compute capability: 7.5\n",
      "2023-11-13 00:11:38.498098: I tensorflow/core/common_runtime/gpu/gpu_device.cc:1886] Created device /job:localhost/replica:0/task:0/device:GPU:0 with 13074 MB memory:  -> device: 0, name: Quadro RTX 5000, pci bus id: 0000:2b:00.0, compute capability: 7.5\n"
     ]
    },
    {
     "name": "stdout",
     "output_type": "stream",
     "text": [
      "Problem type:  mort_icu\n",
      "__________________\n",
      "Epoch 1/100\n",
      "119/121 [============================>.] - ETA: 0s - loss: 0.2427 - acc: 0.9208\n",
      "Epoch 1: val_loss improved from inf to 0.18449, saving model to ../results/timeseries-baseline/GRU-256-mort_icu-best_model.hdf5\n",
      "121/121 [==============================] - 1s 6ms/step - loss: 0.2418 - acc: 0.9212 - val_loss: 0.1845 - val_acc: 0.9410\n",
      "Epoch 2/100\n",
      " 51/121 [===========>..................] - ETA: 0s - loss: 0.1818 - acc: 0.9404"
     ]
    },
    {
     "name": "stderr",
     "output_type": "stream",
     "text": [
      "/data/apps/miniforge3/envs/cse6250-project/lib/python3.9/site-packages/keras/src/engine/training.py:3079: UserWarning: You are saving your model as an HDF5 file via `model.save()`. This file format is considered legacy. We recommend using instead the native Keras format, e.g. `model.save('my_model.keras')`.\n",
      "  saving_api.save_model(\n"
     ]
    },
    {
     "name": "stdout",
     "output_type": "stream",
     "text": [
      "117/121 [============================>.] - ETA: 0s - loss: 0.1801 - acc: 0.9414\n",
      "Epoch 2: val_loss improved from 0.18449 to 0.17955, saving model to ../results/timeseries-baseline/GRU-256-mort_icu-best_model.hdf5\n",
      "121/121 [==============================] - 0s 4ms/step - loss: 0.1802 - acc: 0.9412 - val_loss: 0.1796 - val_acc: 0.9387\n",
      "Epoch 3/100\n",
      "114/121 [===========================>..] - ETA: 0s - loss: 0.1638 - acc: 0.9461\n",
      "Epoch 3: val_loss improved from 0.17955 to 0.16993, saving model to ../results/timeseries-baseline/GRU-256-mort_icu-best_model.hdf5\n",
      "121/121 [==============================] - 0s 4ms/step - loss: 0.1661 - acc: 0.9454 - val_loss: 0.1699 - val_acc: 0.9423\n",
      "Epoch 4/100\n",
      "119/121 [============================>.] - ETA: 0s - loss: 0.1565 - acc: 0.9468\n",
      "Epoch 4: val_loss improved from 0.16993 to 0.16758, saving model to ../results/timeseries-baseline/GRU-256-mort_icu-best_model.hdf5\n",
      "121/121 [==============================] - 0s 4ms/step - loss: 0.1567 - acc: 0.9467 - val_loss: 0.1676 - val_acc: 0.9450\n",
      "Epoch 5/100\n",
      "110/121 [==========================>...] - ETA: 0s - loss: 0.1493 - acc: 0.9490\n",
      "Epoch 5: val_loss improved from 0.16758 to 0.16666, saving model to ../results/timeseries-baseline/GRU-256-mort_icu-best_model.hdf5\n",
      "121/121 [==============================] - 0s 4ms/step - loss: 0.1479 - acc: 0.9497 - val_loss: 0.1667 - val_acc: 0.9437\n",
      "Epoch 6/100\n",
      "118/121 [============================>.] - ETA: 0s - loss: 0.1394 - acc: 0.9531\n",
      "Epoch 6: val_loss improved from 0.16666 to 0.16531, saving model to ../results/timeseries-baseline/GRU-256-mort_icu-best_model.hdf5\n",
      "121/121 [==============================] - 0s 4ms/step - loss: 0.1398 - acc: 0.9532 - val_loss: 0.1653 - val_acc: 0.9419\n",
      "Epoch 7/100\n",
      "109/121 [==========================>...] - ETA: 0s - loss: 0.1247 - acc: 0.9579\n",
      "Epoch 7: val_loss did not improve from 0.16531\n",
      "121/121 [==============================] - 0s 4ms/step - loss: 0.1268 - acc: 0.9575 - val_loss: 0.1732 - val_acc: 0.9410\n",
      "Epoch 8/100\n",
      "115/121 [===========================>..] - ETA: 0s - loss: 0.1123 - acc: 0.9630\n",
      "Epoch 8: val_loss did not improve from 0.16531\n",
      "121/121 [==============================] - 0s 4ms/step - loss: 0.1139 - acc: 0.9625 - val_loss: 0.1725 - val_acc: 0.9423\n",
      "Epoch 9/100\n",
      "121/121 [==============================] - ETA: 0s - loss: 0.1037 - acc: 0.9662\n",
      "Epoch 9: val_loss did not improve from 0.16531\n",
      "121/121 [==============================] - 0s 3ms/step - loss: 0.1037 - acc: 0.9662 - val_loss: 0.1843 - val_acc: 0.9405\n",
      "138/138 [==============================] - 0s 873us/step\n",
      "0.8792698422250047 0.4990433445405441 0.9371311847480708 0.4093816631130064\n"
     ]
    },
    {
     "name": "stderr",
     "output_type": "stream",
     "text": [
      "2023-11-13 00:11:46.909934: I tensorflow/core/common_runtime/gpu/gpu_device.cc:1886] Created device /job:localhost/replica:0/task:0/device:GPU:0 with 13074 MB memory:  -> device: 0, name: Quadro RTX 5000, pci bus id: 0000:2b:00.0, compute capability: 7.5\n",
      "2023-11-13 00:11:46.922177: I tensorflow/core/common_runtime/gpu/gpu_device.cc:1886] Created device /job:localhost/replica:0/task:0/device:GPU:0 with 13074 MB memory:  -> device: 0, name: Quadro RTX 5000, pci bus id: 0000:2b:00.0, compute capability: 7.5\n"
     ]
    },
    {
     "name": "stdout",
     "output_type": "stream",
     "text": [
      "Problem type:  los_3\n",
      "__________________\n",
      "Epoch 1/100\n",
      "120/121 [============================>.] - ETA: 0s - loss: 0.6602 - acc: 0.6409\n",
      "Epoch 1: val_loss improved from inf to 0.63309, saving model to ../results/timeseries-baseline/GRU-256-los_3-best_model.hdf5\n",
      "121/121 [==============================] - 2s 6ms/step - loss: 0.6602 - acc: 0.6408 - val_loss: 0.6331 - val_acc: 0.6762\n",
      "Epoch 2/100\n",
      " 53/121 [============>.................] - ETA: 0s - loss: 0.6362 - acc: 0.6644"
     ]
    },
    {
     "name": "stderr",
     "output_type": "stream",
     "text": [
      "/data/apps/miniforge3/envs/cse6250-project/lib/python3.9/site-packages/keras/src/engine/training.py:3079: UserWarning: You are saving your model as an HDF5 file via `model.save()`. This file format is considered legacy. We recommend using instead the native Keras format, e.g. `model.save('my_model.keras')`.\n",
      "  saving_api.save_model(\n"
     ]
    },
    {
     "name": "stdout",
     "output_type": "stream",
     "text": [
      "117/121 [============================>.] - ETA: 0s - loss: 0.6350 - acc: 0.6591\n",
      "Epoch 2: val_loss improved from 0.63309 to 0.62340, saving model to ../results/timeseries-baseline/GRU-256-los_3-best_model.hdf5\n",
      "121/121 [==============================] - 0s 4ms/step - loss: 0.6358 - acc: 0.6583 - val_loss: 0.6234 - val_acc: 0.6721\n",
      "Epoch 3/100\n",
      "108/121 [=========================>....] - ETA: 0s - loss: 0.6224 - acc: 0.6667\n",
      "Epoch 3: val_loss improved from 0.62340 to 0.62119, saving model to ../results/timeseries-baseline/GRU-256-los_3-best_model.hdf5\n",
      "121/121 [==============================] - 0s 4ms/step - loss: 0.6225 - acc: 0.6668 - val_loss: 0.6212 - val_acc: 0.6708\n",
      "Epoch 4/100\n",
      "118/121 [============================>.] - ETA: 0s - loss: 0.6096 - acc: 0.6800\n",
      "Epoch 4: val_loss improved from 0.62119 to 0.61427, saving model to ../results/timeseries-baseline/GRU-256-los_3-best_model.hdf5\n",
      "121/121 [==============================] - 0s 4ms/step - loss: 0.6100 - acc: 0.6798 - val_loss: 0.6143 - val_acc: 0.6744\n",
      "Epoch 5/100\n",
      "110/121 [==========================>...] - ETA: 0s - loss: 0.5959 - acc: 0.6916\n",
      "Epoch 5: val_loss did not improve from 0.61427\n",
      "121/121 [==============================] - 0s 4ms/step - loss: 0.5967 - acc: 0.6903 - val_loss: 0.6192 - val_acc: 0.6717\n",
      "Epoch 6/100\n",
      "114/121 [===========================>..] - ETA: 0s - loss: 0.5831 - acc: 0.6983\n",
      "Epoch 6: val_loss did not improve from 0.61427\n",
      "121/121 [==============================] - 0s 4ms/step - loss: 0.5829 - acc: 0.6986 - val_loss: 0.6218 - val_acc: 0.6685\n",
      "Epoch 7/100\n",
      "103/121 [========================>.....] - ETA: 0s - loss: 0.5642 - acc: 0.7178\n",
      "Epoch 7: val_loss did not improve from 0.61427\n",
      "121/121 [==============================] - 0s 4ms/step - loss: 0.5651 - acc: 0.7167 - val_loss: 0.6237 - val_acc: 0.6685\n",
      "138/138 [==============================] - 0s 895us/step\n",
      "0.697274297665337 0.6427954499084738 0.657739446209714 0.5357142857142857\n"
     ]
    },
    {
     "name": "stderr",
     "output_type": "stream",
     "text": [
      "2023-11-13 00:11:54.647681: I tensorflow/core/common_runtime/gpu/gpu_device.cc:1886] Created device /job:localhost/replica:0/task:0/device:GPU:0 with 13074 MB memory:  -> device: 0, name: Quadro RTX 5000, pci bus id: 0000:2b:00.0, compute capability: 7.5\n",
      "2023-11-13 00:11:54.659028: I tensorflow/core/common_runtime/gpu/gpu_device.cc:1886] Created device /job:localhost/replica:0/task:0/device:GPU:0 with 13074 MB memory:  -> device: 0, name: Quadro RTX 5000, pci bus id: 0000:2b:00.0, compute capability: 7.5\n"
     ]
    },
    {
     "name": "stdout",
     "output_type": "stream",
     "text": [
      "Problem type:  los_7\n",
      "__________________\n",
      "Epoch 1/100\n",
      "111/121 [==========================>...] - ETA: 0s - loss: 0.3172 - acc: 0.8998\n",
      "Epoch 1: val_loss improved from inf to 0.27222, saving model to ../results/timeseries-baseline/GRU-256-los_7-best_model.hdf5\n",
      "121/121 [==============================] - 2s 6ms/step - loss: 0.3139 - acc: 0.9011 - val_loss: 0.2722 - val_acc: 0.9196\n",
      "Epoch 2/100\n",
      " 53/121 [============>.................] - ETA: 0s - loss: 0.2592 - acc: 0.9217"
     ]
    },
    {
     "name": "stderr",
     "output_type": "stream",
     "text": [
      "/data/apps/miniforge3/envs/cse6250-project/lib/python3.9/site-packages/keras/src/engine/training.py:3079: UserWarning: You are saving your model as an HDF5 file via `model.save()`. This file format is considered legacy. We recommend using instead the native Keras format, e.g. `model.save('my_model.keras')`.\n",
      "  saving_api.save_model(\n"
     ]
    },
    {
     "name": "stdout",
     "output_type": "stream",
     "text": [
      "117/121 [============================>.] - ETA: 0s - loss: 0.2590 - acc: 0.9211\n",
      "Epoch 2: val_loss improved from 0.27222 to 0.26058, saving model to ../results/timeseries-baseline/GRU-256-los_7-best_model.hdf5\n",
      "121/121 [==============================] - 0s 4ms/step - loss: 0.2598 - acc: 0.9210 - val_loss: 0.2606 - val_acc: 0.9219\n",
      "Epoch 3/100\n",
      "112/121 [==========================>...] - ETA: 0s - loss: 0.2503 - acc: 0.9226\n",
      "Epoch 3: val_loss improved from 0.26058 to 0.25765, saving model to ../results/timeseries-baseline/GRU-256-los_7-best_model.hdf5\n",
      "121/121 [==============================] - 0s 4ms/step - loss: 0.2490 - acc: 0.9226 - val_loss: 0.2577 - val_acc: 0.9219\n",
      "Epoch 4/100\n",
      "114/121 [===========================>..] - ETA: 0s - loss: 0.2411 - acc: 0.9228\n",
      "Epoch 4: val_loss did not improve from 0.25765\n",
      "121/121 [==============================] - 0s 4ms/step - loss: 0.2402 - acc: 0.9232 - val_loss: 0.2586 - val_acc: 0.9219\n",
      "Epoch 5/100\n",
      "110/121 [==========================>...] - ETA: 0s - loss: 0.2310 - acc: 0.9265\n",
      "Epoch 5: val_loss did not improve from 0.25765\n",
      "121/121 [==============================] - 0s 4ms/step - loss: 0.2327 - acc: 0.9253 - val_loss: 0.2582 - val_acc: 0.9210\n",
      "Epoch 6/100\n",
      "117/121 [============================>.] - ETA: 0s - loss: 0.2248 - acc: 0.9263\n",
      "Epoch 6: val_loss did not improve from 0.25765\n",
      "121/121 [==============================] - 0s 3ms/step - loss: 0.2245 - acc: 0.9263 - val_loss: 0.2668 - val_acc: 0.9155\n",
      "138/138 [==============================] - 0s 838us/step\n",
      "0.7400208073241781 0.20669231947928202 0.9182932364956877 0.02702702702702703\n"
     ]
    },
    {
     "name": "stderr",
     "output_type": "stream",
     "text": [
      "2023-11-13 00:12:01.761161: I tensorflow/core/common_runtime/gpu/gpu_device.cc:1886] Created device /job:localhost/replica:0/task:0/device:GPU:0 with 13074 MB memory:  -> device: 0, name: Quadro RTX 5000, pci bus id: 0000:2b:00.0, compute capability: 7.5\n",
      "2023-11-13 00:12:01.770751: I tensorflow/core/common_runtime/gpu/gpu_device.cc:1886] Created device /job:localhost/replica:0/task:0/device:GPU:0 with 13074 MB memory:  -> device: 0, name: Quadro RTX 5000, pci bus id: 0000:2b:00.0, compute capability: 7.5\n"
     ]
    },
    {
     "name": "stdout",
     "output_type": "stream",
     "text": [
      "Iteration number:  10\n",
      "=============================\n",
      "Problem type:  mort_hosp\n",
      "__________________\n",
      "Epoch 1/100\n",
      "121/121 [==============================] - ETA: 0s - loss: 0.3035 - acc: 0.8907\n",
      "Epoch 1: val_loss improved from inf to 0.24501, saving model to ../results/timeseries-baseline/GRU-256-mort_hosp-best_model.hdf5\n",
      "121/121 [==============================] - 2s 6ms/step - loss: 0.3035 - acc: 0.8907 - val_loss: 0.2450 - val_acc: 0.9155\n",
      "Epoch 2/100\n",
      " 51/121 [===========>..................] - ETA: 0s - loss: 0.2388 - acc: 0.9154"
     ]
    },
    {
     "name": "stderr",
     "output_type": "stream",
     "text": [
      "/data/apps/miniforge3/envs/cse6250-project/lib/python3.9/site-packages/keras/src/engine/training.py:3079: UserWarning: You are saving your model as an HDF5 file via `model.save()`. This file format is considered legacy. We recommend using instead the native Keras format, e.g. `model.save('my_model.keras')`.\n",
      "  saving_api.save_model(\n"
     ]
    },
    {
     "name": "stdout",
     "output_type": "stream",
     "text": [
      "121/121 [==============================] - ETA: 0s - loss: 0.2456 - acc: 0.9139\n",
      "Epoch 2: val_loss improved from 0.24501 to 0.24256, saving model to ../results/timeseries-baseline/GRU-256-mort_hosp-best_model.hdf5\n",
      "121/121 [==============================] - 0s 4ms/step - loss: 0.2456 - acc: 0.9139 - val_loss: 0.2426 - val_acc: 0.9124\n",
      "Epoch 3/100\n",
      "113/121 [===========================>..] - ETA: 0s - loss: 0.2300 - acc: 0.9159\n",
      "Epoch 3: val_loss did not improve from 0.24256\n",
      "121/121 [==============================] - 0s 4ms/step - loss: 0.2302 - acc: 0.9160 - val_loss: 0.2485 - val_acc: 0.9146\n",
      "Epoch 4/100\n",
      "111/121 [==========================>...] - ETA: 0s - loss: 0.2186 - acc: 0.9213\n",
      "Epoch 4: val_loss improved from 0.24256 to 0.23502, saving model to ../results/timeseries-baseline/GRU-256-mort_hosp-best_model.hdf5\n",
      "121/121 [==============================] - 0s 4ms/step - loss: 0.2190 - acc: 0.9212 - val_loss: 0.2350 - val_acc: 0.9137\n",
      "Epoch 5/100\n",
      "118/121 [============================>.] - ETA: 0s - loss: 0.2063 - acc: 0.9250\n",
      "Epoch 5: val_loss improved from 0.23502 to 0.23374, saving model to ../results/timeseries-baseline/GRU-256-mort_hosp-best_model.hdf5\n",
      "121/121 [==============================] - 0s 4ms/step - loss: 0.2069 - acc: 0.9250 - val_loss: 0.2337 - val_acc: 0.9128\n",
      "Epoch 6/100\n",
      "114/121 [===========================>..] - ETA: 0s - loss: 0.1916 - acc: 0.9330\n",
      "Epoch 6: val_loss did not improve from 0.23374\n",
      "121/121 [==============================] - 0s 4ms/step - loss: 0.1951 - acc: 0.9312 - val_loss: 0.2393 - val_acc: 0.9110\n",
      "Epoch 7/100\n",
      "116/121 [===========================>..] - ETA: 0s - loss: 0.1805 - acc: 0.9366\n",
      "Epoch 7: val_loss did not improve from 0.23374\n",
      "121/121 [==============================] - 0s 4ms/step - loss: 0.1805 - acc: 0.9364 - val_loss: 0.2495 - val_acc: 0.9096\n",
      "Epoch 8/100\n",
      "121/121 [==============================] - ETA: 0s - loss: 0.1656 - acc: 0.9423\n",
      "Epoch 8: val_loss did not improve from 0.23374\n",
      "121/121 [==============================] - 0s 4ms/step - loss: 0.1656 - acc: 0.9423 - val_loss: 0.2508 - val_acc: 0.9037\n",
      "138/138 [==============================] - 0s 890us/step\n",
      "0.8789896087254861 0.5512176994672372 0.9119382660009079 0.4519774011299435\n"
     ]
    },
    {
     "name": "stderr",
     "output_type": "stream",
     "text": [
      "2023-11-13 00:12:09.897853: I tensorflow/core/common_runtime/gpu/gpu_device.cc:1886] Created device /job:localhost/replica:0/task:0/device:GPU:0 with 13074 MB memory:  -> device: 0, name: Quadro RTX 5000, pci bus id: 0000:2b:00.0, compute capability: 7.5\n",
      "2023-11-13 00:12:09.913087: I tensorflow/core/common_runtime/gpu/gpu_device.cc:1886] Created device /job:localhost/replica:0/task:0/device:GPU:0 with 13074 MB memory:  -> device: 0, name: Quadro RTX 5000, pci bus id: 0000:2b:00.0, compute capability: 7.5\n"
     ]
    },
    {
     "name": "stdout",
     "output_type": "stream",
     "text": [
      "Problem type:  mort_icu\n",
      "__________________\n",
      "Epoch 1/100\n",
      "109/121 [==========================>...] - ETA: 0s - loss: 0.2526 - acc: 0.9136\n",
      "Epoch 1: val_loss improved from inf to 0.18383, saving model to ../results/timeseries-baseline/GRU-256-mort_icu-best_model.hdf5\n",
      "121/121 [==============================] - 1s 6ms/step - loss: 0.2478 - acc: 0.9162 - val_loss: 0.1838 - val_acc: 0.9401\n",
      "Epoch 2/100\n",
      " 53/121 [============>.................] - ETA: 0s - loss: 0.1761 - acc: 0.9446"
     ]
    },
    {
     "name": "stderr",
     "output_type": "stream",
     "text": [
      "/data/apps/miniforge3/envs/cse6250-project/lib/python3.9/site-packages/keras/src/engine/training.py:3079: UserWarning: You are saving your model as an HDF5 file via `model.save()`. This file format is considered legacy. We recommend using instead the native Keras format, e.g. `model.save('my_model.keras')`.\n",
      "  saving_api.save_model(\n"
     ]
    },
    {
     "name": "stdout",
     "output_type": "stream",
     "text": [
      "112/121 [==========================>...] - ETA: 0s - loss: 0.1794 - acc: 0.9422\n",
      "Epoch 2: val_loss improved from 0.18383 to 0.17540, saving model to ../results/timeseries-baseline/GRU-256-mort_icu-best_model.hdf5\n",
      "121/121 [==============================] - 0s 4ms/step - loss: 0.1806 - acc: 0.9416 - val_loss: 0.1754 - val_acc: 0.9446\n",
      "Epoch 3/100\n",
      "110/121 [==========================>...] - ETA: 0s - loss: 0.1678 - acc: 0.9428\n",
      "Epoch 3: val_loss improved from 0.17540 to 0.17391, saving model to ../results/timeseries-baseline/GRU-256-mort_icu-best_model.hdf5\n",
      "121/121 [==============================] - 0s 4ms/step - loss: 0.1671 - acc: 0.9430 - val_loss: 0.1739 - val_acc: 0.9437\n",
      "Epoch 4/100\n",
      "111/121 [==========================>...] - ETA: 0s - loss: 0.1545 - acc: 0.9482\n",
      "Epoch 4: val_loss improved from 0.17391 to 0.16828, saving model to ../results/timeseries-baseline/GRU-256-mort_icu-best_model.hdf5\n",
      "121/121 [==============================] - 0s 4ms/step - loss: 0.1561 - acc: 0.9474 - val_loss: 0.1683 - val_acc: 0.9396\n",
      "Epoch 5/100\n",
      "119/121 [============================>.] - ETA: 0s - loss: 0.1463 - acc: 0.9510\n",
      "Epoch 5: val_loss did not improve from 0.16828\n",
      "121/121 [==============================] - 0s 3ms/step - loss: 0.1464 - acc: 0.9510 - val_loss: 0.1703 - val_acc: 0.9414\n",
      "Epoch 6/100\n",
      "108/121 [=========================>....] - ETA: 0s - loss: 0.1368 - acc: 0.9547\n",
      "Epoch 6: val_loss did not improve from 0.16828\n",
      "121/121 [==============================] - 0s 3ms/step - loss: 0.1365 - acc: 0.9545 - val_loss: 0.1721 - val_acc: 0.9401\n",
      "Epoch 7/100\n",
      "108/121 [=========================>....] - ETA: 0s - loss: 0.1242 - acc: 0.9594\n",
      "Epoch 7: val_loss did not improve from 0.16828\n",
      "121/121 [==============================] - 0s 3ms/step - loss: 0.1251 - acc: 0.9592 - val_loss: 0.1706 - val_acc: 0.9405\n",
      "138/138 [==============================] - 0s 1ms/step\n",
      "0.8870471133988009 0.5115374546412007 0.9412165229232864 0.4126984126984127\n"
     ]
    },
    {
     "name": "stderr",
     "output_type": "stream",
     "text": [
      "2023-11-13 00:12:17.589251: I tensorflow/core/common_runtime/gpu/gpu_device.cc:1886] Created device /job:localhost/replica:0/task:0/device:GPU:0 with 13074 MB memory:  -> device: 0, name: Quadro RTX 5000, pci bus id: 0000:2b:00.0, compute capability: 7.5\n",
      "2023-11-13 00:12:17.601261: I tensorflow/core/common_runtime/gpu/gpu_device.cc:1886] Created device /job:localhost/replica:0/task:0/device:GPU:0 with 13074 MB memory:  -> device: 0, name: Quadro RTX 5000, pci bus id: 0000:2b:00.0, compute capability: 7.5\n"
     ]
    },
    {
     "name": "stdout",
     "output_type": "stream",
     "text": [
      "Problem type:  los_3\n",
      "__________________\n",
      "Epoch 1/100\n",
      "114/121 [===========================>..] - ETA: 0s - loss: 0.6651 - acc: 0.6334\n",
      "Epoch 1: val_loss improved from inf to 0.63827, saving model to ../results/timeseries-baseline/GRU-256-los_3-best_model.hdf5\n",
      "121/121 [==============================] - 1s 5ms/step - loss: 0.6632 - acc: 0.6348 - val_loss: 0.6383 - val_acc: 0.6667\n",
      "Epoch 2/100\n",
      " 55/121 [============>.................] - ETA: 0s - loss: 0.6395 - acc: 0.6540"
     ]
    },
    {
     "name": "stderr",
     "output_type": "stream",
     "text": [
      "/data/apps/miniforge3/envs/cse6250-project/lib/python3.9/site-packages/keras/src/engine/training.py:3079: UserWarning: You are saving your model as an HDF5 file via `model.save()`. This file format is considered legacy. We recommend using instead the native Keras format, e.g. `model.save('my_model.keras')`.\n",
      "  saving_api.save_model(\n"
     ]
    },
    {
     "name": "stdout",
     "output_type": "stream",
     "text": [
      "119/121 [============================>.] - ETA: 0s - loss: 0.6371 - acc: 0.6565\n",
      "Epoch 2: val_loss improved from 0.63827 to 0.62680, saving model to ../results/timeseries-baseline/GRU-256-los_3-best_model.hdf5\n",
      "121/121 [==============================] - 0s 4ms/step - loss: 0.6372 - acc: 0.6562 - val_loss: 0.6268 - val_acc: 0.6757\n",
      "Epoch 3/100\n",
      "114/121 [===========================>..] - ETA: 0s - loss: 0.6237 - acc: 0.6701\n",
      "Epoch 3: val_loss improved from 0.62680 to 0.61915, saving model to ../results/timeseries-baseline/GRU-256-los_3-best_model.hdf5\n",
      "121/121 [==============================] - 0s 4ms/step - loss: 0.6238 - acc: 0.6702 - val_loss: 0.6191 - val_acc: 0.6748\n",
      "Epoch 4/100\n",
      "108/121 [=========================>....] - ETA: 0s - loss: 0.6100 - acc: 0.6764\n",
      "Epoch 4: val_loss improved from 0.61915 to 0.61784, saving model to ../results/timeseries-baseline/GRU-256-los_3-best_model.hdf5\n",
      "121/121 [==============================] - 0s 4ms/step - loss: 0.6106 - acc: 0.6761 - val_loss: 0.6178 - val_acc: 0.6653\n",
      "Epoch 5/100\n",
      "111/121 [==========================>...] - ETA: 0s - loss: 0.5987 - acc: 0.6902\n",
      "Epoch 5: val_loss did not improve from 0.61784\n",
      "121/121 [==============================] - 0s 4ms/step - loss: 0.5990 - acc: 0.6901 - val_loss: 0.6208 - val_acc: 0.6639\n",
      "Epoch 6/100\n",
      "117/121 [============================>.] - ETA: 0s - loss: 0.5853 - acc: 0.6995\n",
      "Epoch 6: val_loss did not improve from 0.61784\n",
      "121/121 [==============================] - 0s 4ms/step - loss: 0.5858 - acc: 0.6995 - val_loss: 0.6200 - val_acc: 0.6580\n",
      "Epoch 7/100\n",
      "112/121 [==========================>...] - ETA: 0s - loss: 0.5633 - acc: 0.7188\n",
      "Epoch 7: val_loss did not improve from 0.61784\n",
      "121/121 [==============================] - 0s 4ms/step - loss: 0.5639 - acc: 0.7185 - val_loss: 0.6409 - val_acc: 0.6453\n",
      "138/138 [==============================] - 0s 872us/step\n",
      "0.6887487586055985 0.6295625034332583 0.6595551520653654 0.5429616087751371\n"
     ]
    },
    {
     "name": "stderr",
     "output_type": "stream",
     "text": [
      "2023-11-13 00:12:25.446852: I tensorflow/core/common_runtime/gpu/gpu_device.cc:1886] Created device /job:localhost/replica:0/task:0/device:GPU:0 with 13074 MB memory:  -> device: 0, name: Quadro RTX 5000, pci bus id: 0000:2b:00.0, compute capability: 7.5\n",
      "2023-11-13 00:12:25.457316: I tensorflow/core/common_runtime/gpu/gpu_device.cc:1886] Created device /job:localhost/replica:0/task:0/device:GPU:0 with 13074 MB memory:  -> device: 0, name: Quadro RTX 5000, pci bus id: 0000:2b:00.0, compute capability: 7.5\n"
     ]
    },
    {
     "name": "stdout",
     "output_type": "stream",
     "text": [
      "Problem type:  los_7\n",
      "__________________\n",
      "Epoch 1/100\n",
      "119/121 [============================>.] - ETA: 0s - loss: 0.3172 - acc: 0.9001\n",
      "Epoch 1: val_loss improved from inf to 0.26897, saving model to ../results/timeseries-baseline/GRU-256-los_7-best_model.hdf5\n",
      "121/121 [==============================] - 1s 6ms/step - loss: 0.3169 - acc: 0.9000 - val_loss: 0.2690 - val_acc: 0.9205\n",
      "Epoch 2/100\n",
      " 55/121 [============>.................] - ETA: 0s - loss: 0.2601 - acc: 0.9210"
     ]
    },
    {
     "name": "stderr",
     "output_type": "stream",
     "text": [
      "/data/apps/miniforge3/envs/cse6250-project/lib/python3.9/site-packages/keras/src/engine/training.py:3079: UserWarning: You are saving your model as an HDF5 file via `model.save()`. This file format is considered legacy. We recommend using instead the native Keras format, e.g. `model.save('my_model.keras')`.\n",
      "  saving_api.save_model(\n"
     ]
    },
    {
     "name": "stdout",
     "output_type": "stream",
     "text": [
      "118/121 [============================>.] - ETA: 0s - loss: 0.2606 - acc: 0.9211\n",
      "Epoch 2: val_loss improved from 0.26897 to 0.26021, saving model to ../results/timeseries-baseline/GRU-256-los_7-best_model.hdf5\n",
      "121/121 [==============================] - 0s 4ms/step - loss: 0.2596 - acc: 0.9215 - val_loss: 0.2602 - val_acc: 0.9219\n",
      "Epoch 3/100\n",
      "118/121 [============================>.] - ETA: 0s - loss: 0.2485 - acc: 0.9224\n",
      "Epoch 3: val_loss improved from 0.26021 to 0.25873, saving model to ../results/timeseries-baseline/GRU-256-los_7-best_model.hdf5\n",
      "121/121 [==============================] - 0s 4ms/step - loss: 0.2478 - acc: 0.9225 - val_loss: 0.2587 - val_acc: 0.9196\n",
      "Epoch 4/100\n",
      "104/121 [========================>.....] - ETA: 0s - loss: 0.2392 - acc: 0.9226\n",
      "Epoch 4: val_loss did not improve from 0.25873\n",
      "121/121 [==============================] - 0s 3ms/step - loss: 0.2404 - acc: 0.9225 - val_loss: 0.2644 - val_acc: 0.9219\n",
      "Epoch 5/100\n",
      "116/121 [===========================>..] - ETA: 0s - loss: 0.2322 - acc: 0.9246\n",
      "Epoch 5: val_loss improved from 0.25873 to 0.25734, saving model to ../results/timeseries-baseline/GRU-256-los_7-best_model.hdf5\n",
      "121/121 [==============================] - 0s 4ms/step - loss: 0.2329 - acc: 0.9240 - val_loss: 0.2573 - val_acc: 0.9237\n",
      "Epoch 6/100\n",
      "115/121 [===========================>..] - ETA: 0s - loss: 0.2232 - acc: 0.9269\n",
      "Epoch 6: val_loss did not improve from 0.25734\n",
      "121/121 [==============================] - 0s 4ms/step - loss: 0.2239 - acc: 0.9269 - val_loss: 0.2593 - val_acc: 0.9146\n",
      "Epoch 7/100\n",
      "113/121 [===========================>..] - ETA: 0s - loss: 0.2160 - acc: 0.9304\n",
      "Epoch 7: val_loss did not improve from 0.25734\n",
      "121/121 [==============================] - 0s 4ms/step - loss: 0.2155 - acc: 0.9304 - val_loss: 0.2629 - val_acc: 0.9214\n",
      "Epoch 8/100\n",
      "112/121 [==========================>...] - ETA: 0s - loss: 0.1990 - acc: 0.9348\n",
      "Epoch 8: val_loss did not improve from 0.25734\n",
      "121/121 [==============================] - 0s 4ms/step - loss: 0.2002 - acc: 0.9341 - val_loss: 0.2761 - val_acc: 0.9155\n",
      "138/138 [==============================] - 0s 856us/step\n",
      "0.7357816618116244 0.20300193301702088 0.9189741261915569 0.032520325203252036\n"
     ]
    },
    {
     "name": "stderr",
     "output_type": "stream",
     "text": [
      "2023-11-13 00:12:33.383207: I tensorflow/core/common_runtime/gpu/gpu_device.cc:1886] Created device /job:localhost/replica:0/task:0/device:GPU:0 with 13074 MB memory:  -> device: 0, name: Quadro RTX 5000, pci bus id: 0000:2b:00.0, compute capability: 7.5\n",
      "2023-11-13 00:12:33.393354: I tensorflow/core/common_runtime/gpu/gpu_device.cc:1886] Created device /job:localhost/replica:0/task:0/device:GPU:0 with 13074 MB memory:  -> device: 0, name: Quadro RTX 5000, pci bus id: 0000:2b:00.0, compute capability: 7.5\n"
     ]
    }
   ],
   "source": [
    "epoch_num = 100\n",
    "model_patience = 3\n",
    "monitor_criteria = 'val_loss'\n",
    "batch_size = 128\n",
    "\n",
    "unit_sizes = [128, 256]\n",
    "#unit_sizes = [256]\n",
    "iter_num = 11\n",
    "target_problems = ['mort_hosp', 'mort_icu', 'los_3', 'los_7']\n",
    "layers = [\"LSTM\", \"GRU\"]\n",
    "#layers = [\"GRU\"]\n",
    "for each_layer in layers:\n",
    "    print(\"Layer: \", each_layer)\n",
    "    for each_unit_size in unit_sizes:\n",
    "        print(\"Hidden unit: \", each_unit_size)\n",
    "        for iteration in range(1, iter_num):\n",
    "            print(\"Iteration number: \", iteration)\n",
    "            print(\"=============================\")\n",
    "\n",
    "            for each_problem in target_problems:\n",
    "                print (\"Problem type: \", each_problem)\n",
    "                print (\"__________________\")\n",
    "\n",
    "\n",
    "                early_stopping_monitor = EarlyStopping(monitor=monitor_criteria, patience=model_patience)\n",
    "                best_model_name = \"../results/timeseries-baseline/best_models/\"+str(each_layer)+\"-\"+str(each_unit_size)+\"-\"+str(each_problem)+\"-\"+\"best_model.hdf5\"\n",
    "                checkpoint = ModelCheckpoint(best_model_name, monitor='val_loss', verbose=1,\n",
    "                    save_best_only=True, mode='min', save_freq='epoch')\n",
    "\n",
    "\n",
    "                callbacks = [early_stopping_monitor, checkpoint]\n",
    "\n",
    "                model = timeseries_model(each_layer, each_unit_size)\n",
    "                model.fit(x_train_lstm, y_train[each_problem], epochs=epoch_num, verbose=1, \n",
    "                          validation_data=(x_dev_lstm, y_dev[each_problem]), callbacks=callbacks, batch_size= batch_size)\n",
    "\n",
    "                model.load_weights(best_model_name)\n",
    "\n",
    "                probs, predictions = make_prediction_timeseries(model, x_test_lstm)\n",
    "                save_scores_timeseries(predictions, probs, y_test[each_problem].values,str(each_layer),\n",
    "                                       each_problem, iteration, each_unit_size,type_of_ner)\n",
    "                reset_keras(model)\n",
    "                #del model\n",
    "                clear_session()\n",
    "                gc.collect()"
   ]
  },
  {
   "cell_type": "code",
   "execution_count": null,
   "metadata": {},
   "outputs": [],
   "source": []
  }
 ],
 "metadata": {
  "kernelspec": {
   "display_name": "cse6250-project",
   "language": "python",
   "name": "python3"
  },
  "language_info": {
   "codemirror_mode": {
    "name": "ipython",
    "version": 3
   },
   "file_extension": ".py",
   "mimetype": "text/x-python",
   "name": "python",
   "nbconvert_exporter": "python",
   "pygments_lexer": "ipython3",
   "version": "3.9.18"
  }
 },
 "nbformat": 4,
 "nbformat_minor": 2
}
