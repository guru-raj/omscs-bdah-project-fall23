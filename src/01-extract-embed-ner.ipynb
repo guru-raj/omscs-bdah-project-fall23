{
 "cells": [
  {
   "cell_type": "code",
   "execution_count": 25,
   "metadata": {},
   "outputs": [],
   "source": [
    "import pandas as pd\n",
    "import numpy as np\n",
    "from gensim.models import Word2Vec, FastText\n",
    "import spacy"
   ]
  },
  {
   "cell_type": "markdown",
   "metadata": {},
   "source": [
    "# MEDICAL NER EXTRACTION USING MED7"
   ]
  },
  {
   "cell_type": "code",
   "execution_count": 26,
   "metadata": {},
   "outputs": [],
   "source": [
    "med7 = spacy.load(\"en_core_med7_lg\")\n",
    "new_notes = pd.read_pickle(\"../data/clinical_notes/preprocessed_notes.p\")\n",
    "new_notes['ner'] = None"
   ]
  },
  {
   "cell_type": "code",
   "execution_count": 4,
   "metadata": {},
   "outputs": [
    {
     "name": "stdout",
     "output_type": "stream",
     "text": [
      "0\n",
      "1000\n",
      "2000\n",
      "3000\n",
      "4000\n",
      "5000\n",
      "6000\n",
      "7000\n",
      "8000\n",
      "9000\n",
      "10000\n",
      "11000\n",
      "12000\n",
      "13000\n",
      "14000\n",
      "15000\n",
      "16000\n",
      "17000\n",
      "18000\n",
      "19000\n",
      "20000\n",
      "21000\n",
      "22000\n",
      "23000\n",
      "24000\n",
      "25000\n",
      "26000\n",
      "27000\n",
      "28000\n",
      "29000\n",
      "error..\n"
     ]
    }
   ],
   "source": [
    "count = 0\n",
    "preprocessed_index = {}\n",
    "patient_clinical_notes = {}\n",
    "for i in new_notes.itertuples():\n",
    "\n",
    "    if count % 1000 == 0:\n",
    "        print(count)\n",
    "\n",
    "    count += 1\n",
    "    ind = i.Index\n",
    "    text = i.preprocessed_text\n",
    "\n",
    "    if p_id not in patient_clinical_notes:\n",
    "        patient_clinical_notes[p_id] = []\n",
    "\n",
    "    all_pred = []\n",
    "    for each_sent in text:\n",
    "        try:\n",
    "            doc = med7(each_sent)\n",
    "            result = ([(ent.text, ent.label_) for ent in doc.ents])\n",
    "            result_only = [ent.text for ent in doc.ents]\n",
    "            if len(result) == 0: continue\n",
    "            all_pred.append(result)\n",
    "            patient_clinical_notes[p_id].extend(result)\n",
    "        except:\n",
    "            print(\"error..\")\n",
    "            continue\n",
    "    new_notes.at[ind, 'ner'] = all_pred\n",
    "\n",
    "pd.to_pickle(new_notes, \"../data/clinical_notes/ner_df.p\")\n",
    "pd.to_pickle(patient_clinical_notes,\"../data/clinical_notes/patient_clinical_notes.pkl\")"
   ]
  },
  {
   "cell_type": "code",
   "execution_count": 3,
   "metadata": {},
   "outputs": [],
   "source": [
    "def mean(a):\n",
    "    return sum(a) / len(a)"
   ]
  },
  {
   "cell_type": "code",
   "execution_count": 6,
   "metadata": {},
   "outputs": [],
   "source": [
    "##Patient ID -> NER words dictionary\n",
    "\n",
    "null_index_list = []\n",
    "for i in new_notes.itertuples():\n",
    "\n",
    "    if len(i.ner) == 0:\n",
    "        null_index_list.append(i.Index)\n",
    "new_notes.drop(null_index_list, inplace=True)\n",
    "\n",
    "med7_ner_data = {}\n",
    "\n",
    "for ii in new_notes.itertuples():\n",
    "\n",
    "    p_id = ii.SUBJECT_ID\n",
    "    ind = ii.Index\n",
    "\n",
    "    try:\n",
    "        new_ner = new_notes.loc[ind].ner\n",
    "    except:\n",
    "        new_ner = []\n",
    "\n",
    "    unique = set()\n",
    "    new_temp = []\n",
    "\n",
    "    for j in new_ner:\n",
    "        for k in j:\n",
    "            unique.add(k[0])\n",
    "            new_temp.append(k)\n",
    "\n",
    "    if p_id in med7_ner_data:\n",
    "        for i in new_temp:\n",
    "            med7_ner_data[p_id].append(i)\n",
    "    else:\n",
    "        med7_ner_data[p_id] = new_temp\n",
    "\n",
    "pd.to_pickle(med7_ner_data, \"../data/clinical_notes/new_ner_word_dict.pkl\")"
   ]
  },
  {
   "cell_type": "markdown",
   "metadata": {},
   "source": [
    "# WORD2VEC EMBEDDING REPRESENTATION"
   ]
  },
  {
   "cell_type": "code",
   "execution_count": 35,
   "metadata": {},
   "outputs": [],
   "source": [
    "med7_ner_data = pd.read_pickle(\"../data/clinical_notes/new_ner_word_dict.pkl\")\n",
    "w2vec = Word2Vec.load(\"../embeddings/word2vec.model\")"
   ]
  },
  {
   "cell_type": "code",
   "execution_count": 5,
   "metadata": {},
   "outputs": [
    {
     "name": "stdout",
     "output_type": "stream",
     "text": [
      "w2vec starting..\n",
      "word2vec length is {} 22203\n"
     ]
    }
   ],
   "source": [
    "data_types = [med7_ner_data]\n",
    "data_names = [\"new_ner\"]\n",
    "new_word2vec = {}\n",
    "\n",
    "for data, names in zip(data_types, data_names):\n",
    "    print(\"w2vec starting..\")\n",
    "    for k,v in data.items():\n",
    "\n",
    "        patient_temp = []\n",
    "        for i in v:\n",
    "            if w2vec.wv.has_index_for(i[0]):\n",
    "                patient_temp.append(w2vec.wv[i[0]])\n",
    "            else:\n",
    "                avg = []\n",
    "                num = 0\n",
    "                temp = []\n",
    "\n",
    "                if len(i[0].split(\" \")) > 1:\n",
    "                    for each_word in i[0].split(\" \"):\n",
    "                        if w2vec.wv.has_index_for(each_word):\n",
    "                            temp = w2vec.wv[each_word]\n",
    "                            avg.append(temp)\n",
    "                            num += 1\n",
    "                    if num == 0: continue\n",
    "                    avg = np.asarray(avg)\n",
    "                    t = np.asarray(list(map(mean, zip(*avg))))\n",
    "                    patient_temp.append(t)\n",
    "        if len(patient_temp) == 0: continue\n",
    "        new_word2vec[k] = patient_temp\n",
    "\n",
    "    print(\"word2vec length is {}\", len(new_word2vec))\n",
    "    pd.to_pickle(new_word2vec, \"../data/clinical_notes/representations/\" + names + \"_word2vec_dict.pkl\")"
   ]
  },
  {
   "cell_type": "markdown",
   "metadata": {},
   "source": [
    "# FASTTEXT EMBEDDING REPRESENTATION"
   ]
  },
  {
   "cell_type": "code",
   "execution_count": 6,
   "metadata": {},
   "outputs": [
    {
     "name": "stderr",
     "output_type": "stream",
     "text": [
      "/tmp/ipykernel_35453/3588191094.py:1: DeprecationWarning: Call to deprecated `load_fasttext_format` (use load_facebook_vectors (to use pretrained embeddings) or load_facebook_model (to continue training with the loaded full model, more RAM) instead).\n",
      "  fasttext = FastText.load_fasttext_format(\"../embeddings/fasttext.bin\")\n"
     ]
    }
   ],
   "source": [
    "fasttext = FastText.load_fasttext_format(\"../embeddings/fasttext_skipgram.bin\")"
   ]
  },
  {
   "cell_type": "code",
   "execution_count": 14,
   "metadata": {},
   "outputs": [
    {
     "name": "stdout",
     "output_type": "stream",
     "text": [
      "fasttext starting..\n",
      "fasttext length is {} 22327\n"
     ]
    }
   ],
   "source": [
    "data_types = [med7_ner_data]\n",
    "data_names = [\"new_ner\"]\n",
    "new_fasttextvec = {}\n",
    "\n",
    "for data, names in zip(data_types, data_names):\n",
    "    print(\"fasttext starting..\")        \n",
    "    for k,v in data.items():\n",
    "        patient_temp = []\n",
    "        for i in v:\n",
    "            if fasttext.wv.has_index_for(i[0]):\n",
    "                patient_temp.append(fasttext.wv[i[0]])\n",
    "        if len(patient_temp) == 0: continue\n",
    "        new_fasttextvec[k] = patient_temp\n",
    "    print(\"fasttext length is {}\", len(new_fasttextvec))\n",
    "    pd.to_pickle(new_fasttextvec, \"../data/clinical_notes/representations/\" + names + \"_fasttext_dict.pkl\")\n",
    " "
   ]
  },
  {
   "cell_type": "markdown",
   "metadata": {},
   "source": [
    "# CONCAT EMBEDDING REPRESENTATION"
   ]
  },
  {
   "cell_type": "code",
   "execution_count": 9,
   "metadata": {},
   "outputs": [
    {
     "name": "stdout",
     "output_type": "stream",
     "text": [
      "concat starting..\n",
      "concat length is {} 22095\n"
     ]
    }
   ],
   "source": [
    "data_types = [med7_ner_data]\n",
    "data_names = [\"new_ner\"]\n",
    "new_concatvec = {}\n",
    "\n",
    "for data, names in zip(data_types, data_names):\n",
    "    print(\"concat starting..\")        \n",
    "    for k,v in data.items():\n",
    "        if k in new_word2vec and k in new_fasttextvec:\n",
    "            patient_temp = []\n",
    "            for i in v:\n",
    "                w2vec_temp = []\n",
    "                if w2vec.wv.has_index_for(i[0]):\n",
    "                    w2vec_temp = w2vec.wv[i[0]]\n",
    "                else:\n",
    "                    avg = []\n",
    "                    num = 0\n",
    "                    temp = []\n",
    "\n",
    "                    if len(i[0].split(\" \")) > 1:\n",
    "                        for each_word in i[0].split(\" \"):\n",
    "                            if w2vec.wv.has_index_for(each_word):\n",
    "                                temp = w2vec.wv[each_word]\n",
    "                                avg.append(temp)\n",
    "                                num += 1\n",
    "                        if num == 0: \n",
    "                            w2vec_temp = [0] * 100\n",
    "                        else:\n",
    "                            avg = np.asarray(avg)\n",
    "                            w2vec_temp = np.asarray(list(map(mean, zip(*avg))))\n",
    "                    else:\n",
    "                        w2vec_temp = [0] * 100\n",
    "                \n",
    "                if fasttext.wv.has_index_for(i[0]):\n",
    "                    fasttemp = fasttext.wv[i[0]]\n",
    "                else:\n",
    "                    fasttemp = [0] * 100\n",
    "\n",
    "                appended = np.append(fasttemp, w2vec_temp, 0)\n",
    "                patient_temp.append(appended)\n",
    "            if len(patient_temp) == 0: continue\n",
    "            new_concatvec[k] = patient_temp\n",
    "\n",
    "    print(\"concat length is {}\", len(new_concatvec))\n",
    "    pd.to_pickle(new_concatvec, \"../data/clinical_notes/representations/\" + names + \"_concat_dict.pkl\")"
   ]
  },
  {
   "cell_type": "markdown",
   "metadata": {},
   "source": [
    "# DOC2VEC EMBEDDING REPRESENTATION"
   ]
  },
  {
   "cell_type": "code",
   "execution_count": null,
   "metadata": {},
   "outputs": [],
   "source": [
    "tag_data = [TaggedDocument(words=patient_clinical_notes[i], tags=[str(i)]) for i in patient_clinical_notes.keys()]"
   ]
  },
  {
   "cell_type": "code",
   "execution_count": null,
   "metadata": {},
   "outputs": [],
   "source": [
    "doc2vec_model = Doc2Vec(vector_size=100,\n",
    "               alpha=0.025,\n",
    "               min_alpha=0.00025,\n",
    "               min_count=1,\n",
    "               dm=1)"
   ]
  },
  {
   "cell_type": "code",
   "execution_count": null,
   "metadata": {},
   "outputs": [],
   "source": [
    "doc2vec_model.build_vocab(tag_data)\n",
    "max_epochs = 25\n",
    "for epoch in range(max_epochs):\n",
    "        print(f\"Iteration {epoch}\")\n",
    "        doc2vec_model.train(tag_data,\n",
    "                   total_examples=model.corpus_count,\n",
    "                   epochs=model.epochs)\n",
    "\n",
    "        # Here I decrease the learning rate. \n",
    "\n",
    "        doc2vec_model.alpha -= 0.0002\n",
    "\n",
    "        doc2vec_model.min_alpha = model.alpha\n",
    "doc2vec_model.save(\"../embeddings/doc2vec.model\")"
   ]
  },
  {
   "cell_type": "code",
   "execution_count": null,
   "metadata": {},
   "outputs": [],
   "source": [
    "new_doc2vec = {}\n",
    "print(\"doc2vec starting..\")        \n",
    "\n",
    "for patient in patient_clinical_notes.keys():\n",
    "    if count % 1000 == 0:\n",
    "        print(count)\n",
    "    new_doc2vec[patient] = list()\n",
    "    new_doc2vec[patient].append(model.dv[str(patient)])\n",
    "\n",
    "print(\"doc2vec length is {}\", len(new_doc2vec))\n",
    "pd.to_pickle(new_doc2vec, \"../data/clinical_notes/representations/new_ner_doc2vec_dict.pkl\")"
   ]
  },
  {
   "cell_type": "code",
   "execution_count": null,
   "metadata": {},
   "outputs": [
    {
     "name": "stdout",
     "output_type": "stream",
     "text": [
      "22095 22095 22095 22095\n"
     ]
    }
   ],
   "source": [
    "intersect = set(new_word2vec.keys()) & set(new_fasttextvec.keys()) & set(new_concatvec.keys() & set(new_doc2vec.keys()))\n",
    "new_word2vec_dict = {x: new_word2vec[x] for x in new_word2vec if x in intersect}\n",
    "new_fasttextvec_dict = {x: new_fasttextvec[x] for x in new_fasttextvec if x in intersect}\n",
    "new_concatvec_dict = {x: new_concatvec[x] for x in new_concatvec if x in intersect}\n",
    "new_doc2vec_dict = {x: new_doc2vec[x] for x in new_doc2vec if x in intersect}\n",
    "print (len(new_word2vec_dict), len(new_fasttextvec_dict), len(new_fasttextvec2_dict), len(new_concatvec_dict), len(new_doc2vec_dict))\n",
    "\n",
    "\n",
    "pd.to_pickle(new_word2vec_dict, \"../data/clinical_notes/representations/\"+\"new_ner\"+\"_word2vec_limited_dict.pkl\")\n",
    "pd.to_pickle(new_fasttextvec_dict, \"../data/clinical_notes/representations/\"+\"new_ner\"+\"_fasttext_limited_dict.pkl\")\n",
    "pd.to_pickle(new_concatvec_dict, \"../data/clinical_notes/representations/\"+\"new_ner\"+\"_combined_limited_dict.pkl\")\n",
    "pd.to_pickle(new_doc2vec_dict, \"../data/clinical_notes/representations/\"+\"new_ner\"+\"_doc2vec_limited_dict.pkl\")"
   ]
  }
 ],
 "metadata": {
  "kernelspec": {
   "display_name": "cse6250-project",
   "language": "python",
   "name": "python3"
  },
  "language_info": {
   "codemirror_mode": {
    "name": "ipython",
    "version": 3
   },
   "file_extension": ".py",
   "mimetype": "text/x-python",
   "name": "python",
   "nbconvert_exporter": "python",
   "pygments_lexer": "ipython3",
   "version": "3.9.18"
  }
 },
 "nbformat": 4,
 "nbformat_minor": 2
}
