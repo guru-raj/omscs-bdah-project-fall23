{
 "cells": [
  {
   "cell_type": "code",
   "execution_count": 2,
   "metadata": {},
   "outputs": [
    {
     "name": "stderr",
     "output_type": "stream",
     "text": [
      "2023-11-12 23:34:35.347405: E tensorflow/compiler/xla/stream_executor/cuda/cuda_dnn.cc:9342] Unable to register cuDNN factory: Attempting to register factory for plugin cuDNN when one has already been registered\n",
      "2023-11-12 23:34:35.347433: E tensorflow/compiler/xla/stream_executor/cuda/cuda_fft.cc:609] Unable to register cuFFT factory: Attempting to register factory for plugin cuFFT when one has already been registered\n",
      "2023-11-12 23:34:35.347462: E tensorflow/compiler/xla/stream_executor/cuda/cuda_blas.cc:1518] Unable to register cuBLAS factory: Attempting to register factory for plugin cuBLAS when one has already been registered\n",
      "2023-11-12 23:34:35.353669: I tensorflow/core/platform/cpu_feature_guard.cc:182] This TensorFlow binary is optimized to use available CPU instructions in performance-critical operations.\n",
      "To enable the following instructions: AVX2 FMA, in other operations, rebuild TensorFlow with the appropriate compiler flags.\n"
     ]
    }
   ],
   "source": [
    "import pandas as pd\n",
    "import numpy as np\n",
    "from gensim.models import Word2Vec, FastText\n",
    "import spacy"
   ]
  },
  {
   "cell_type": "markdown",
   "metadata": {},
   "source": [
    "# MEDICAL NER EXTRACTION USING MED7"
   ]
  },
  {
   "cell_type": "code",
   "execution_count": 3,
   "metadata": {},
   "outputs": [],
   "source": [
    "med7 = spacy.load(\"en_core_med7_lg\")\n",
    "new_notes = pd.read_pickle(\"../data/clinical_notes/preprocessed_notes.p\")\n",
    "new_notes['ner'] = None"
   ]
  },
  {
   "cell_type": "code",
   "execution_count": 5,
   "metadata": {},
   "outputs": [
    {
     "name": "stdout",
     "output_type": "stream",
     "text": [
      "0\n",
      "1000\n",
      "2000\n",
      "3000\n",
      "4000\n",
      "5000\n",
      "6000\n",
      "7000\n",
      "8000\n",
      "9000\n",
      "10000\n",
      "11000\n",
      "12000\n",
      "13000\n",
      "14000\n",
      "15000\n",
      "16000\n",
      "17000\n",
      "18000\n",
      "19000\n",
      "20000\n",
      "21000\n",
      "22000\n",
      "23000\n",
      "24000\n",
      "25000\n",
      "26000\n",
      "27000\n",
      "28000\n",
      "29000\n",
      "30000\n",
      "31000\n",
      "32000\n",
      "33000\n",
      "34000\n",
      "35000\n",
      "36000\n",
      "37000\n"
     ]
    }
   ],
   "source": [
    "count = 0\n",
    "preprocessed_index = {}\n",
    "for i in new_notes.itertuples():\n",
    "\n",
    "    if count % 1000 == 0:\n",
    "        print(count)\n",
    "\n",
    "    count += 1\n",
    "    ind = i.Index\n",
    "    text = i.preprocessed_text\n",
    "\n",
    "    all_pred = []\n",
    "    for each_sent in text:\n",
    "        try:\n",
    "            doc = med7(each_sent)\n",
    "            result = ([(ent.text, ent.label_) for ent in doc.ents])\n",
    "            if len(result) == 0: continue\n",
    "            all_pred.append(result)\n",
    "        except:\n",
    "            print(\"error..\")\n",
    "            continue\n",
    "    new_notes.at[ind, 'ner'] = all_pred\n",
    "\n",
    "pd.to_pickle(new_notes, \"../data/clinical_notes/ner_df.p\")"
   ]
  },
  {
   "cell_type": "code",
   "execution_count": 5,
   "metadata": {},
   "outputs": [],
   "source": [
    "def mean(a):\n",
    "    return sum(a) / len(a)"
   ]
  },
  {
   "cell_type": "code",
   "execution_count": 6,
   "metadata": {},
   "outputs": [],
   "source": [
    "##Patient ID -> NER words dictionary\n",
    "null_index_list = []\n",
    "for i in new_notes.itertuples():\n",
    "\n",
    "    if len(i.ner) == 0:\n",
    "        null_index_list.append(i.Index)\n",
    "new_notes.drop(null_index_list, inplace=True)\n",
    "\n",
    "med7_ner_data = {}\n",
    "\n",
    "for ii in new_notes.itertuples():\n",
    "\n",
    "    p_id = ii.SUBJECT_ID\n",
    "    ind = ii.Index\n",
    "\n",
    "    try:\n",
    "        new_ner = new_notes.loc[ind].ner\n",
    "    except:\n",
    "        new_ner = []\n",
    "\n",
    "    unique = set()\n",
    "    new_temp = []\n",
    "\n",
    "    for j in new_ner:\n",
    "        for k in j:\n",
    "            unique.add(k[0])\n",
    "            new_temp.append(k)\n",
    "\n",
    "    if p_id in med7_ner_data:\n",
    "        for i in new_temp:\n",
    "            med7_ner_data[p_id].append(i)\n",
    "    else:\n",
    "        med7_ner_data[p_id] = new_temp\n",
    "\n",
    "pd.to_pickle(med7_ner_data, \"../data/clinical_notes/new_ner_word_dict.pkl\")"
   ]
  },
  {
   "cell_type": "markdown",
   "metadata": {},
   "source": [
    "# WORD2VEC EMBEDDING REPRESENTATION"
   ]
  },
  {
   "cell_type": "code",
   "execution_count": 8,
   "metadata": {},
   "outputs": [],
   "source": [
    "w2vec = Word2Vec.load(\"../embeddings/word2vec.model\")"
   ]
  },
  {
   "cell_type": "code",
   "execution_count": 9,
   "metadata": {},
   "outputs": [
    {
     "name": "stdout",
     "output_type": "stream",
     "text": [
      "w2vec starting..\n",
      "word2vec length is {} 22203\n"
     ]
    }
   ],
   "source": [
    "data_types = [med7_ner_data]\n",
    "data_names = [\"new_ner\"]\n",
    "new_word2vec = {}\n",
    "\n",
    "for data, names in zip(data_types, data_names):\n",
    "    print(\"w2vec starting..\")\n",
    "    for k,v in data.items():\n",
    "\n",
    "        patient_temp = []\n",
    "        for i in v:\n",
    "            if w2vec.wv.has_index_for(i[0]):\n",
    "                patient_temp.append(w2vec.wv[i[0]])\n",
    "            else:\n",
    "                avg = []\n",
    "                num = 0\n",
    "                temp = []\n",
    "\n",
    "                if len(i[0].split(\" \")) > 1:\n",
    "                    for each_word in i[0].split(\" \"):\n",
    "                        if w2vec.wv.has_index_for(each_word):\n",
    "                            temp = w2vec.wv[each_word]\n",
    "                            avg.append(temp)\n",
    "                            num += 1\n",
    "                    if num == 0: continue\n",
    "                    avg = np.asarray(avg)\n",
    "                    t = np.asarray(list(map(mean, zip(*avg))))\n",
    "                    patient_temp.append(t)\n",
    "        if len(patient_temp) == 0: continue\n",
    "        new_word2vec[k] = patient_temp\n",
    "\n",
    "    print(\"word2vec length is {}\", len(new_word2vec))\n",
    "    pd.to_pickle(new_word2vec, \"../data/clinical_notes/representations/\" + names + \"_word2vec_dict.pkl\")"
   ]
  },
  {
   "cell_type": "markdown",
   "metadata": {},
   "source": [
    "# FASTTEXT EMBEDDING REPRESENTATION"
   ]
  },
  {
   "cell_type": "code",
   "execution_count": 13,
   "metadata": {},
   "outputs": [
    {
     "name": "stderr",
     "output_type": "stream",
     "text": [
      "/tmp/ipykernel_274270/3588191094.py:1: DeprecationWarning: Call to deprecated `load_fasttext_format` (use load_facebook_vectors (to use pretrained embeddings) or load_facebook_model (to continue training with the loaded full model, more RAM) instead).\n",
      "  fasttext = FastText.load_fasttext_format(\"../embeddings/fasttext.bin\")\n"
     ]
    }
   ],
   "source": [
    "fasttext = FastText.load_fasttext_format(\"../embeddings/fasttext.bin\")"
   ]
  },
  {
   "cell_type": "code",
   "execution_count": 14,
   "metadata": {},
   "outputs": [
    {
     "name": "stdout",
     "output_type": "stream",
     "text": [
      "fasttext starting..\n",
      "fasttext length is {} 22327\n"
     ]
    }
   ],
   "source": [
    "data_types = [med7_ner_data]\n",
    "data_names = [\"new_ner\"]\n",
    "new_fasttextvec = {}\n",
    "\n",
    "for data, names in zip(data_types, data_names):\n",
    "    print(\"fasttext starting..\")        \n",
    "    for k,v in data.items():\n",
    "        patient_temp = []\n",
    "        for i in v:\n",
    "            if fasttext.wv.has_index_for(i[0]):\n",
    "                patient_temp.append(fasttext.wv[i[0]])\n",
    "        if len(patient_temp) == 0: continue\n",
    "        new_fasttextvec[k] = patient_temp\n",
    "    print(\"fasttext length is {}\", len(new_fasttextvec))\n",
    "    pd.to_pickle(new_fasttextvec, \"../data/clinical_notes/representations/\" + names + \"_fasttext_dict.pkl\")\n",
    " "
   ]
  },
  {
   "cell_type": "markdown",
   "metadata": {},
   "source": [
    "# CONCAT EMBEDDING REPRESENTATION"
   ]
  },
  {
   "cell_type": "code",
   "execution_count": 20,
   "metadata": {},
   "outputs": [
    {
     "name": "stdout",
     "output_type": "stream",
     "text": [
      "concat starting..\n",
      "concat length is {} 22095\n"
     ]
    }
   ],
   "source": [
    "data_types = [med7_ner_data]\n",
    "data_names = [\"new_ner\"]\n",
    "new_concatvec = {}\n",
    "\n",
    "for data, names in zip(data_types, data_names):\n",
    "    print(\"concat starting..\")        \n",
    "    for k,v in data.items():\n",
    "        if k in new_word2vec and k in new_fasttextvec:\n",
    "            patient_temp = []\n",
    "            for i in v:\n",
    "                w2vec_temp = []\n",
    "                if w2vec.wv.has_index_for(i[0]):\n",
    "                    w2vec_temp = w2vec.wv[i[0]]\n",
    "                else:\n",
    "                    avg = []\n",
    "                    num = 0\n",
    "                    temp = []\n",
    "\n",
    "                    if len(i[0].split(\" \")) > 1:\n",
    "                        for each_word in i[0].split(\" \"):\n",
    "                            if w2vec.wv.has_index_for(each_word):\n",
    "                                temp = w2vec.wv[each_word]\n",
    "                                avg.append(temp)\n",
    "                                num += 1\n",
    "                        if num == 0: \n",
    "                            w2vec_temp = [0] * 100\n",
    "                        else:\n",
    "                            avg = np.asarray(avg)\n",
    "                            w2vec_temp = np.asarray(list(map(mean, zip(*avg))))\n",
    "                    else:\n",
    "                        w2vec_temp = [0] * 100\n",
    "                \n",
    "                if fasttext.wv.has_index_for(i[0]):\n",
    "                    fasttemp = fasttext.wv[i[0]]\n",
    "                else:\n",
    "                    fasttemp = [0] * 100\n",
    "\n",
    "                appended = np.append(fasttemp, w2vec_temp, 0)\n",
    "                patient_temp.append(appended)\n",
    "            if len(patient_temp) == 0: continue\n",
    "            new_concatvec[k] = patient_temp\n",
    "\n",
    "    print(\"concat length is {}\", len(new_concatvec))\n",
    "    pd.to_pickle(new_fasttextvec, \"../data/clinical_notes/representations/\" + names + \"_concat_dict.pkl\")"
   ]
  },
  {
   "cell_type": "code",
   "execution_count": 21,
   "metadata": {},
   "outputs": [
    {
     "name": "stdout",
     "output_type": "stream",
     "text": [
      "22203 22327 22095\n"
     ]
    }
   ],
   "source": [
    "print(len(new_word2vec), len(new_fasttextvec), len(new_concatvec))"
   ]
  },
  {
   "cell_type": "code",
   "execution_count": 18,
   "metadata": {},
   "outputs": [
    {
     "ename": "NameError",
     "evalue": "name 'new_fasttext_dict' is not defined",
     "output_type": "error",
     "traceback": [
      "\u001b[0;31m---------------------------------------------------------------------------\u001b[0m",
      "\u001b[0;31mNameError\u001b[0m                                 Traceback (most recent call last)",
      "\u001b[1;32m/data/courses/OMSAnalytics/Fall2023/CSE6250/Projects/Project046/ConvolutionMedicalNer/omscs-bdah-project-fall23/src/01-extract-embed-ner.ipynb Cell 16\u001b[0m line \u001b[0;36m1\n\u001b[0;32m----> <a href='vscode-notebook-cell:/data/courses/OMSAnalytics/Fall2023/CSE6250/Projects/Project046/ConvolutionMedicalNer/omscs-bdah-project-fall23/src/01-extract-embed-ner.ipynb#X21sZmlsZQ%3D%3D?line=0'>1</a>\u001b[0m diff \u001b[39m=\u001b[39m \u001b[39mset\u001b[39m(new_fasttext_dict\u001b[39m.\u001b[39mkeys())\u001b[39m.\u001b[39mdifference(\u001b[39mset\u001b[39m(new_word2vec_dict))\n\u001b[1;32m      <a href='vscode-notebook-cell:/data/courses/OMSAnalytics/Fall2023/CSE6250/Projects/Project046/ConvolutionMedicalNer/omscs-bdah-project-fall23/src/01-extract-embed-ner.ipynb#X21sZmlsZQ%3D%3D?line=1'>2</a>\u001b[0m \u001b[39mprint\u001b[39m(diff)\n\u001b[1;32m      <a href='vscode-notebook-cell:/data/courses/OMSAnalytics/Fall2023/CSE6250/Projects/Project046/ConvolutionMedicalNer/omscs-bdah-project-fall23/src/01-extract-embed-ner.ipynb#X21sZmlsZQ%3D%3D?line=2'>3</a>\u001b[0m \u001b[39m\"\"\" for i in diff:\u001b[39;00m\n\u001b[1;32m      <a href='vscode-notebook-cell:/data/courses/OMSAnalytics/Fall2023/CSE6250/Projects/Project046/ConvolutionMedicalNer/omscs-bdah-project-fall23/src/01-extract-embed-ner.ipynb#X21sZmlsZQ%3D%3D?line=3'>4</a>\u001b[0m \u001b[39m    del new_fasttext_dict[i]\u001b[39;00m\n\u001b[1;32m      <a href='vscode-notebook-cell:/data/courses/OMSAnalytics/Fall2023/CSE6250/Projects/Project046/ConvolutionMedicalNer/omscs-bdah-project-fall23/src/01-extract-embed-ner.ipynb#X21sZmlsZQ%3D%3D?line=4'>5</a>\u001b[0m \u001b[39m    del new_combined_dict[i]\u001b[39;00m\n\u001b[0;32m   (...)\u001b[0m\n\u001b[1;32m     <a href='vscode-notebook-cell:/data/courses/OMSAnalytics/Fall2023/CSE6250/Projects/Project046/ConvolutionMedicalNer/omscs-bdah-project-fall23/src/01-extract-embed-ner.ipynb#X21sZmlsZQ%3D%3D?line=9'>10</a>\u001b[0m \u001b[39mpd.to_pickle(new_fasttext_dict, \"../data/clinical_notes/representations/\"+\"new_ner\"+\"_fasttext_limited_dict.pkl\")\u001b[39;00m\n\u001b[1;32m     <a href='vscode-notebook-cell:/data/courses/OMSAnalytics/Fall2023/CSE6250/Projects/Project046/ConvolutionMedicalNer/omscs-bdah-project-fall23/src/01-extract-embed-ner.ipynb#X21sZmlsZQ%3D%3D?line=10'>11</a>\u001b[0m \u001b[39mpd.to_pickle(new_combined_dict, \"../data/clinical_notes/representations/\"+\"new_ner\"+\"_combined_limited_dict.pkl\") \"\"\"\u001b[39;00m\n",
      "\u001b[0;31mNameError\u001b[0m: name 'new_fasttext_dict' is not defined"
     ]
    }
   ],
   "source": [
    "intersect = set(new_word2vec.keys()) & set(new_fasttextvec.keys()) & set(new_concatvec.keys())\n",
    "new_word2vec_dict = {x: new_word2vec[x] for x in new_word2vec if x in intersect}\n",
    "new_fasttextvec_dict = {x: new_fasttextvec[x] for x in new_fasttextvec if x in intersect}\n",
    "new_concatvec_dict = {x: new_concatvec[x] for x in new_concatvec if x in intersect}\n",
    "print (len(new_word2vec_dict), len(new_fasttextvec_dict), len(new_concatvec_dict))\n",
    "\n",
    "\n",
    "pd.to_pickle(new_word2vec_dict, \"../data/clinical_notes/representations/\"+\"new_ner\"+\"_word2vec_limited_dict.pkl\")\n",
    "pd.to_pickle(new_fasttext_dict, \"../data/clinical_notes/representations/\"+\"new_ner\"+\"_fasttext_limited_dict.pkl\")\n",
    "pd.to_pickle(new_combined_dict, \"../data/clinical_notes/representations/\"+\"new_ner\"+\"_combined_limited_dict.pkl\")"
   ]
  },
  {
   "cell_type": "code",
   "execution_count": null,
   "metadata": {},
   "outputs": [],
   "source": []
  }
 ],
 "metadata": {
  "kernelspec": {
   "display_name": "cse6250-project",
   "language": "python",
   "name": "python3"
  },
  "language_info": {
   "codemirror_mode": {
    "name": "ipython",
    "version": 3
   },
   "file_extension": ".py",
   "mimetype": "text/x-python",
   "name": "python",
   "nbconvert_exporter": "python",
   "pygments_lexer": "ipython3",
   "version": "3.9.18"
  }
 },
 "nbformat": 4,
 "nbformat_minor": 2
}
