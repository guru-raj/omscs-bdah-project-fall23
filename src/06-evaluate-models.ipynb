{
 "cells": [
  {
   "cell_type": "code",
   "execution_count": 46,
   "id": "4ade8238-855e-4bd1-9177-23b0f045038a",
   "metadata": {},
   "outputs": [],
   "source": [
    "import pandas as pd\n",
    "import os\n",
    "import numpy as np\n",
    "import matplotlib.pyplot as plt\n",
    "import collections\n",
    "\n",
    "from sklearn.utils import class_weight\n",
    "from sklearn.metrics import average_precision_score, roc_auc_score, accuracy_score, f1_score\n",
    "\n",
    "import warnings\n",
    "warnings.filterwarnings('ignore')"
   ]
  },
  {
   "cell_type": "markdown",
   "id": "ac69a6bc-eb49-4023-a185-43930ef4fb69",
   "metadata": {},
   "source": [
    "# Proposed Model"
   ]
  },
  {
   "cell_type": "code",
   "execution_count": 11,
   "id": "f9c3192a-e0e2-4ab4-bbec-5ee2f599d0f0",
   "metadata": {},
   "outputs": [],
   "source": [
    "PATH = '../results/proposed-model/metrics/'"
   ]
  },
  {
   "cell_type": "code",
   "execution_count": 12,
   "id": "69f518e9-ce7e-4d86-bfa9-d7c11b671513",
   "metadata": {},
   "outputs": [],
   "source": [
    "maxiter = 11\n",
    "output = {}\n",
    "for task in ['los_3', 'los_7', 'mort_hosp', 'mort_icu']:\n",
    "    for embedding in ['word2vec', 'fasttext','concat']:\n",
    "        for it in range(1, maxiter):\n",
    "            out = pd.read_pickle(PATH+f'GRU-256-{embedding}-{task}-{it}-new-cnn-.p')\n",
    "            output[task+'-'+embedding+'-'+str(it)] = out"
   ]
  },
  {
   "cell_type": "code",
   "execution_count": 13,
   "id": "f5bf3838-4714-4849-b31c-997fbb20d762",
   "metadata": {},
   "outputs": [],
   "source": [
    "out_df = pd.DataFrame(output).transpose().reset_index()"
   ]
  },
  {
   "cell_type": "code",
   "execution_count": 14,
   "id": "899bf123-76b3-455b-8dfc-05f47ab230f7",
   "metadata": {},
   "outputs": [],
   "source": [
    "out_df['task'] = out_df['index'].str.split('-', expand=True)[0]\n",
    "out_df['embedding'] = out_df['index'].str.split('-', expand=True)[1]\n",
    "out_df['iter'] = out_df['index'].str.split('-', expand=True)[2]"
   ]
  },
  {
   "cell_type": "code",
   "execution_count": 15,
   "id": "7a0e92ab-c407-4855-8cfd-25d315c19ac2",
   "metadata": {},
   "outputs": [
    {
     "data": {
      "text/html": [
       "<div>\n",
       "<style scoped>\n",
       "    .dataframe tbody tr th:only-of-type {\n",
       "        vertical-align: middle;\n",
       "    }\n",
       "\n",
       "    .dataframe tbody tr th {\n",
       "        vertical-align: top;\n",
       "    }\n",
       "\n",
       "    .dataframe thead th {\n",
       "        text-align: right;\n",
       "    }\n",
       "</style>\n",
       "<table border=\"1\" class=\"dataframe\">\n",
       "  <thead>\n",
       "    <tr style=\"text-align: right;\">\n",
       "      <th></th>\n",
       "      <th>index</th>\n",
       "      <th>auc</th>\n",
       "      <th>auprc</th>\n",
       "      <th>acc</th>\n",
       "      <th>F1</th>\n",
       "      <th>task</th>\n",
       "      <th>embedding</th>\n",
       "      <th>iter</th>\n",
       "    </tr>\n",
       "  </thead>\n",
       "  <tbody>\n",
       "    <tr>\n",
       "      <th>0</th>\n",
       "      <td>los_3-word2vec-1</td>\n",
       "      <td>0.699583</td>\n",
       "      <td>0.640729</td>\n",
       "      <td>0.663414</td>\n",
       "      <td>0.544952</td>\n",
       "      <td>los_3</td>\n",
       "      <td>word2vec</td>\n",
       "      <td>1</td>\n",
       "    </tr>\n",
       "    <tr>\n",
       "      <th>1</th>\n",
       "      <td>los_3-word2vec-2</td>\n",
       "      <td>0.700040</td>\n",
       "      <td>0.641611</td>\n",
       "      <td>0.665683</td>\n",
       "      <td>0.567147</td>\n",
       "      <td>los_3</td>\n",
       "      <td>word2vec</td>\n",
       "      <td>2</td>\n",
       "    </tr>\n",
       "    <tr>\n",
       "      <th>2</th>\n",
       "      <td>los_3-word2vec-3</td>\n",
       "      <td>0.705171</td>\n",
       "      <td>0.647851</td>\n",
       "      <td>0.668634</td>\n",
       "      <td>0.559445</td>\n",
       "      <td>los_3</td>\n",
       "      <td>word2vec</td>\n",
       "      <td>3</td>\n",
       "    </tr>\n",
       "    <tr>\n",
       "      <th>3</th>\n",
       "      <td>los_3-word2vec-4</td>\n",
       "      <td>0.702934</td>\n",
       "      <td>0.644672</td>\n",
       "      <td>0.655243</td>\n",
       "      <td>0.487690</td>\n",
       "      <td>los_3</td>\n",
       "      <td>word2vec</td>\n",
       "      <td>4</td>\n",
       "    </tr>\n",
       "    <tr>\n",
       "      <th>4</th>\n",
       "      <td>los_3-word2vec-5</td>\n",
       "      <td>0.691195</td>\n",
       "      <td>0.633026</td>\n",
       "      <td>0.659101</td>\n",
       "      <td>0.542909</td>\n",
       "      <td>los_3</td>\n",
       "      <td>word2vec</td>\n",
       "      <td>5</td>\n",
       "    </tr>\n",
       "    <tr>\n",
       "      <th>...</th>\n",
       "      <td>...</td>\n",
       "      <td>...</td>\n",
       "      <td>...</td>\n",
       "      <td>...</td>\n",
       "      <td>...</td>\n",
       "      <td>...</td>\n",
       "      <td>...</td>\n",
       "      <td>...</td>\n",
       "    </tr>\n",
       "    <tr>\n",
       "      <th>115</th>\n",
       "      <td>mort_icu-concat-6</td>\n",
       "      <td>0.881870</td>\n",
       "      <td>0.514552</td>\n",
       "      <td>0.940763</td>\n",
       "      <td>0.450526</td>\n",
       "      <td>mort_icu</td>\n",
       "      <td>concat</td>\n",
       "      <td>6</td>\n",
       "    </tr>\n",
       "    <tr>\n",
       "      <th>116</th>\n",
       "      <td>mort_icu-concat-7</td>\n",
       "      <td>0.886337</td>\n",
       "      <td>0.535997</td>\n",
       "      <td>0.942805</td>\n",
       "      <td>0.456897</td>\n",
       "      <td>mort_icu</td>\n",
       "      <td>concat</td>\n",
       "      <td>7</td>\n",
       "    </tr>\n",
       "    <tr>\n",
       "      <th>117</th>\n",
       "      <td>mort_icu-concat-8</td>\n",
       "      <td>0.879854</td>\n",
       "      <td>0.517409</td>\n",
       "      <td>0.938039</td>\n",
       "      <td>0.489720</td>\n",
       "      <td>mort_icu</td>\n",
       "      <td>concat</td>\n",
       "      <td>8</td>\n",
       "    </tr>\n",
       "    <tr>\n",
       "      <th>118</th>\n",
       "      <td>mort_icu-concat-9</td>\n",
       "      <td>0.880359</td>\n",
       "      <td>0.516834</td>\n",
       "      <td>0.941670</td>\n",
       "      <td>0.400932</td>\n",
       "      <td>mort_icu</td>\n",
       "      <td>concat</td>\n",
       "      <td>9</td>\n",
       "    </tr>\n",
       "    <tr>\n",
       "      <th>119</th>\n",
       "      <td>mort_icu-concat-10</td>\n",
       "      <td>0.882372</td>\n",
       "      <td>0.518559</td>\n",
       "      <td>0.943032</td>\n",
       "      <td>0.440980</td>\n",
       "      <td>mort_icu</td>\n",
       "      <td>concat</td>\n",
       "      <td>10</td>\n",
       "    </tr>\n",
       "  </tbody>\n",
       "</table>\n",
       "<p>120 rows × 8 columns</p>\n",
       "</div>"
      ],
      "text/plain": [
       "                  index       auc     auprc       acc        F1      task  \\\n",
       "0      los_3-word2vec-1  0.699583  0.640729  0.663414  0.544952     los_3   \n",
       "1      los_3-word2vec-2  0.700040  0.641611  0.665683  0.567147     los_3   \n",
       "2      los_3-word2vec-3  0.705171  0.647851  0.668634  0.559445     los_3   \n",
       "3      los_3-word2vec-4  0.702934  0.644672  0.655243  0.487690     los_3   \n",
       "4      los_3-word2vec-5  0.691195  0.633026  0.659101  0.542909     los_3   \n",
       "..                  ...       ...       ...       ...       ...       ...   \n",
       "115   mort_icu-concat-6  0.881870  0.514552  0.940763  0.450526  mort_icu   \n",
       "116   mort_icu-concat-7  0.886337  0.535997  0.942805  0.456897  mort_icu   \n",
       "117   mort_icu-concat-8  0.879854  0.517409  0.938039  0.489720  mort_icu   \n",
       "118   mort_icu-concat-9  0.880359  0.516834  0.941670  0.400932  mort_icu   \n",
       "119  mort_icu-concat-10  0.882372  0.518559  0.943032  0.440980  mort_icu   \n",
       "\n",
       "    embedding iter  \n",
       "0    word2vec    1  \n",
       "1    word2vec    2  \n",
       "2    word2vec    3  \n",
       "3    word2vec    4  \n",
       "4    word2vec    5  \n",
       "..        ...  ...  \n",
       "115    concat    6  \n",
       "116    concat    7  \n",
       "117    concat    8  \n",
       "118    concat    9  \n",
       "119    concat   10  \n",
       "\n",
       "[120 rows x 8 columns]"
      ]
     },
     "metadata": {},
     "output_type": "display_data"
    }
   ],
   "source": [
    "display(out_df)"
   ]
  },
  {
   "cell_type": "code",
   "execution_count": 16,
   "metadata": {},
   "outputs": [
    {
     "data": {
      "image/png": "[encoded data removed]",
      "text/plain": [
       "<Figure size 500x500 with 1 Axes>"
      ]
     },
     "metadata": {},
     "output_type": "display_data"
    }
   ],
   "source": [
    "out_df[(out_df['task']=='los_7') &  (out_df['embedding'] == 'word2vec')].plot(x=\"iter\", y=[\"auc\",\"auprc\",\"acc\",\"F1\"], kind=\"line\", figsize=(5,5))\n",
    "plt.show()"
   ]
  },
  {
   "cell_type": "code",
   "execution_count": 17,
   "metadata": {},
   "outputs": [
    {
     "data": {
      "image/png": "[encoded data removed]",
      "text/plain": [
       "<Figure size 500x500 with 1 Axes>"
      ]
     },
     "metadata": {},
     "output_type": "display_data"
    }
   ],
   "source": [
    "out_df[(out_df['task']=='los_7') &  (out_df['embedding'] == 'fasttext')].plot(x=\"iter\", y=[\"auc\",\"auprc\",\"acc\",\"F1\"], kind=\"line\", figsize=(5,5))\n",
    "plt.show()"
   ]
  },
  {
   "cell_type": "code",
   "execution_count": 18,
   "metadata": {},
   "outputs": [
    {
     "data": {
      "image/png": "[encoded data removed]",
      "text/plain": [
       "<Figure size 500x500 with 1 Axes>"
      ]
     },
     "metadata": {},
     "output_type": "display_data"
    }
   ],
   "source": [
    "out_df[(out_df['task']=='los_3') &  (out_df['embedding'] == 'word2vec')].plot(x=\"iter\", y=[\"auc\",\"auprc\",\"acc\",\"F1\"], kind=\"line\", figsize=(5,5))\n",
    "plt.show()"
   ]
  },
  {
   "cell_type": "code",
   "execution_count": 19,
   "metadata": {},
   "outputs": [
    {
     "data": {
      "image/png": "[encoded data removed]",
      "text/plain": [
       "<Figure size 500x500 with 1 Axes>"
      ]
     },
     "metadata": {},
     "output_type": "display_data"
    }
   ],
   "source": [
    "out_df[(out_df['task']=='los_3') &  (out_df['embedding'] == 'fasttext')].plot(x=\"iter\", y=[\"auc\",\"auprc\",\"acc\",\"F1\"], kind=\"line\", figsize=(5,5))\n",
    "plt.show()"
   ]
  },
  {
   "cell_type": "code",
   "execution_count": 20,
   "metadata": {},
   "outputs": [
    {
     "data": {
      "image/png": "[encoded data removed]",
      "text/plain": [
       "<Figure size 500x500 with 1 Axes>"
      ]
     },
     "metadata": {},
     "output_type": "display_data"
    }
   ],
   "source": [
    "out_df[(out_df['task']=='mort_icu') &  (out_df['embedding'] == 'word2vec')].plot(x=\"iter\", y=[\"auc\",\"auprc\",\"acc\",\"F1\"], kind=\"line\", figsize=(5,5))\n",
    "plt.show()"
   ]
  },
  {
   "cell_type": "code",
   "execution_count": 21,
   "metadata": {},
   "outputs": [
    {
     "data": {
      "image/png": "[encoded data removed]",
      "text/plain": [
       "<Figure size 500x500 with 1 Axes>"
      ]
     },
     "metadata": {},
     "output_type": "display_data"
    }
   ],
   "source": [
    "out_df[(out_df['task']=='mort_icu') &  (out_df['embedding'] == 'fasttext')].plot(x=\"iter\", y=[\"auc\",\"auprc\",\"acc\",\"F1\"], kind=\"line\", figsize=(5,5))\n",
    "plt.show()"
   ]
  },
  {
   "cell_type": "code",
   "execution_count": 22,
   "metadata": {},
   "outputs": [
    {
     "data": {
      "image/png": "[encoded data removed]",
      "text/plain": [
       "<Figure size 500x500 with 1 Axes>"
      ]
     },
     "metadata": {},
     "output_type": "display_data"
    }
   ],
   "source": [
    "out_df[(out_df['task']=='mort_hosp') &  (out_df['embedding'] == 'word2vec')].plot(x=\"iter\", y=[\"auc\",\"auprc\",\"acc\",\"F1\"], kind=\"line\", figsize=(5,5))\n",
    "plt.show()"
   ]
  },
  {
   "cell_type": "code",
   "execution_count": 23,
   "metadata": {},
   "outputs": [
    {
     "data": {
      "image/png": "[encoded data removed]",
      "text/plain": [
       "<Figure size 500x500 with 1 Axes>"
      ]
     },
     "metadata": {},
     "output_type": "display_data"
    }
   ],
   "source": [
    "out_df[(out_df['task']=='mort_hosp') &  (out_df['embedding'] == 'fasttext')].plot(x=\"iter\", y=[\"auc\",\"auprc\",\"acc\",\"F1\"], kind=\"line\", figsize=(5,5))\n",
    "plt.show()"
   ]
  },
  {
   "cell_type": "code",
   "execution_count": 25,
   "id": "08c36e3e-bc99-40bb-bd50-8850a8c724a1",
   "metadata": {},
   "outputs": [],
   "source": [
    "max_score = {}\n",
    "for task in ['los_3', 'los_7', 'mort_hosp', 'mort_icu']:\n",
    "    for embedding in ['word2vec','fasttext','concat']:\n",
    "        ind = out_df[(out_df['task']==task) & (out_df['embedding']==embedding)]['auc'].argmax()\n",
    "        score = out_df[(out_df['task']==task) & (out_df['embedding']==embedding)].iloc[ind][['auc', 'auprc', 'acc', 'F1']].to_dict()\n",
    "        max_score[task+'-'+embedding] = score"
   ]
  },
  {
   "cell_type": "code",
   "execution_count": 26,
   "id": "1c5eafb1-388a-4673-bfbd-10bcff854545",
   "metadata": {},
   "outputs": [
    {
     "data": {
      "text/html": [
       "<div>\n",
       "<style scoped>\n",
       "    .dataframe tbody tr th:only-of-type {\n",
       "        vertical-align: middle;\n",
       "    }\n",
       "\n",
       "    .dataframe tbody tr th {\n",
       "        vertical-align: top;\n",
       "    }\n",
       "\n",
       "    .dataframe thead th {\n",
       "        text-align: right;\n",
       "    }\n",
       "</style>\n",
       "<table border=\"1\" class=\"dataframe\">\n",
       "  <thead>\n",
       "    <tr style=\"text-align: right;\">\n",
       "      <th></th>\n",
       "      <th>auc</th>\n",
       "      <th>auprc</th>\n",
       "      <th>acc</th>\n",
       "      <th>F1</th>\n",
       "    </tr>\n",
       "  </thead>\n",
       "  <tbody>\n",
       "    <tr>\n",
       "      <th>los_3-word2vec</th>\n",
       "      <td>0.706321</td>\n",
       "      <td>0.642793</td>\n",
       "      <td>0.660690</td>\n",
       "      <td>0.585528</td>\n",
       "    </tr>\n",
       "    <tr>\n",
       "      <th>los_3-fasttext</th>\n",
       "      <td>0.706271</td>\n",
       "      <td>0.650867</td>\n",
       "      <td>0.666364</td>\n",
       "      <td>0.517083</td>\n",
       "    </tr>\n",
       "    <tr>\n",
       "      <th>los_3-concat</th>\n",
       "      <td>0.709983</td>\n",
       "      <td>0.650439</td>\n",
       "      <td>0.661825</td>\n",
       "      <td>0.586800</td>\n",
       "    </tr>\n",
       "    <tr>\n",
       "      <th>los_7-word2vec</th>\n",
       "      <td>0.744368</td>\n",
       "      <td>0.233339</td>\n",
       "      <td>0.918293</td>\n",
       "      <td>0.027027</td>\n",
       "    </tr>\n",
       "    <tr>\n",
       "      <th>los_7-fasttext</th>\n",
       "      <td>0.746599</td>\n",
       "      <td>0.212171</td>\n",
       "      <td>0.919201</td>\n",
       "      <td>0.000000</td>\n",
       "    </tr>\n",
       "    <tr>\n",
       "      <th>los_7-concat</th>\n",
       "      <td>0.738795</td>\n",
       "      <td>0.223097</td>\n",
       "      <td>0.919428</td>\n",
       "      <td>0.005602</td>\n",
       "    </tr>\n",
       "    <tr>\n",
       "      <th>mort_hosp-word2vec</th>\n",
       "      <td>0.882303</td>\n",
       "      <td>0.581340</td>\n",
       "      <td>0.917839</td>\n",
       "      <td>0.461310</td>\n",
       "    </tr>\n",
       "    <tr>\n",
       "      <th>mort_hosp-fasttext</th>\n",
       "      <td>0.878971</td>\n",
       "      <td>0.570017</td>\n",
       "      <td>0.912619</td>\n",
       "      <td>0.442836</td>\n",
       "    </tr>\n",
       "    <tr>\n",
       "      <th>mort_hosp-concat</th>\n",
       "      <td>0.877698</td>\n",
       "      <td>0.568823</td>\n",
       "      <td>0.913754</td>\n",
       "      <td>0.358108</td>\n",
       "    </tr>\n",
       "    <tr>\n",
       "      <th>mort_icu-word2vec</th>\n",
       "      <td>0.888295</td>\n",
       "      <td>0.524926</td>\n",
       "      <td>0.941670</td>\n",
       "      <td>0.419865</td>\n",
       "    </tr>\n",
       "    <tr>\n",
       "      <th>mort_icu-fasttext</th>\n",
       "      <td>0.887687</td>\n",
       "      <td>0.505936</td>\n",
       "      <td>0.938266</td>\n",
       "      <td>0.456000</td>\n",
       "    </tr>\n",
       "    <tr>\n",
       "      <th>mort_icu-concat</th>\n",
       "      <td>0.886337</td>\n",
       "      <td>0.535997</td>\n",
       "      <td>0.942805</td>\n",
       "      <td>0.456897</td>\n",
       "    </tr>\n",
       "  </tbody>\n",
       "</table>\n",
       "</div>"
      ],
      "text/plain": [
       "                         auc     auprc       acc        F1\n",
       "los_3-word2vec      0.706321  0.642793  0.660690  0.585528\n",
       "los_3-fasttext      0.706271  0.650867  0.666364  0.517083\n",
       "los_3-concat        0.709983  0.650439  0.661825  0.586800\n",
       "los_7-word2vec      0.744368  0.233339  0.918293  0.027027\n",
       "los_7-fasttext      0.746599  0.212171  0.919201  0.000000\n",
       "los_7-concat        0.738795  0.223097  0.919428  0.005602\n",
       "mort_hosp-word2vec  0.882303  0.581340  0.917839  0.461310\n",
       "mort_hosp-fasttext  0.878971  0.570017  0.912619  0.442836\n",
       "mort_hosp-concat    0.877698  0.568823  0.913754  0.358108\n",
       "mort_icu-word2vec   0.888295  0.524926  0.941670  0.419865\n",
       "mort_icu-fasttext   0.887687  0.505936  0.938266  0.456000\n",
       "mort_icu-concat     0.886337  0.535997  0.942805  0.456897"
      ]
     },
     "execution_count": 26,
     "metadata": {},
     "output_type": "execute_result"
    }
   ],
   "source": [
    "pd.DataFrame(max_score).transpose()"
   ]
  },
  {
   "cell_type": "code",
   "execution_count": 27,
   "id": "918803b9-a049-469c-ba93-c3d47ebff6a9",
   "metadata": {},
   "outputs": [],
   "source": [
    "pd.DataFrame(max_score).transpose().to_csv('../results/proposed-model/metrics/best_scores.csv')"
   ]
  },
  {
   "cell_type": "markdown",
   "id": "3f3b6c26-9f20-4553-9ab1-019c092460cf",
   "metadata": {},
   "source": [
    "# Baseline"
   ]
  },
  {
   "cell_type": "code",
   "execution_count": 28,
   "id": "5f887f48-18e9-4306-9212-13de34238e52",
   "metadata": {},
   "outputs": [],
   "source": [
    "PATH = '../results/timeseries-baseline/metrics/'"
   ]
  },
  {
   "cell_type": "code",
   "execution_count": 29,
   "id": "828e9342-eeec-474b-934a-eb7c1cb4c8e6",
   "metadata": {},
   "outputs": [],
   "source": [
    "maxiter = 11\n",
    "output = {}\n",
    "for model in ['GRU', 'LSTM']:\n",
    "    for size in [128, 256]:\n",
    "        for task in ['los_3', 'los_7', 'mort_hosp', 'mort_icu']:\n",
    "            for it in range(1, maxiter):\n",
    "                out = pd.read_pickle(PATH+f'{size}-{model}-{task}-{it}-new.p')\n",
    "                output['-'.join([str(size), model, task, str(it)])] = out"
   ]
  },
  {
   "cell_type": "code",
   "execution_count": 30,
   "id": "eb013e66-487d-432e-bab1-ed46cc125e51",
   "metadata": {},
   "outputs": [],
   "source": [
    "bl_outdf = pd.DataFrame(output).transpose()\n",
    "bl_outdf = bl_outdf.reset_index()"
   ]
  },
  {
   "cell_type": "code",
   "execution_count": 31,
   "id": "7ad7fa2d-ab49-4f1f-837c-c7f96d5136e7",
   "metadata": {},
   "outputs": [
    {
     "data": {
      "text/html": [
       "<div>\n",
       "<style scoped>\n",
       "    .dataframe tbody tr th:only-of-type {\n",
       "        vertical-align: middle;\n",
       "    }\n",
       "\n",
       "    .dataframe tbody tr th {\n",
       "        vertical-align: top;\n",
       "    }\n",
       "\n",
       "    .dataframe thead th {\n",
       "        text-align: right;\n",
       "    }\n",
       "</style>\n",
       "<table border=\"1\" class=\"dataframe\">\n",
       "  <thead>\n",
       "    <tr style=\"text-align: right;\">\n",
       "      <th></th>\n",
       "      <th>0</th>\n",
       "      <th>1</th>\n",
       "      <th>2</th>\n",
       "      <th>3</th>\n",
       "    </tr>\n",
       "  </thead>\n",
       "  <tbody>\n",
       "    <tr>\n",
       "      <th>0</th>\n",
       "      <td>128</td>\n",
       "      <td>GRU</td>\n",
       "      <td>los_3</td>\n",
       "      <td>1</td>\n",
       "    </tr>\n",
       "    <tr>\n",
       "      <th>1</th>\n",
       "      <td>128</td>\n",
       "      <td>GRU</td>\n",
       "      <td>los_3</td>\n",
       "      <td>2</td>\n",
       "    </tr>\n",
       "    <tr>\n",
       "      <th>2</th>\n",
       "      <td>128</td>\n",
       "      <td>GRU</td>\n",
       "      <td>los_3</td>\n",
       "      <td>3</td>\n",
       "    </tr>\n",
       "    <tr>\n",
       "      <th>3</th>\n",
       "      <td>128</td>\n",
       "      <td>GRU</td>\n",
       "      <td>los_3</td>\n",
       "      <td>4</td>\n",
       "    </tr>\n",
       "    <tr>\n",
       "      <th>4</th>\n",
       "      <td>128</td>\n",
       "      <td>GRU</td>\n",
       "      <td>los_3</td>\n",
       "      <td>5</td>\n",
       "    </tr>\n",
       "    <tr>\n",
       "      <th>...</th>\n",
       "      <td>...</td>\n",
       "      <td>...</td>\n",
       "      <td>...</td>\n",
       "      <td>...</td>\n",
       "    </tr>\n",
       "    <tr>\n",
       "      <th>155</th>\n",
       "      <td>256</td>\n",
       "      <td>LSTM</td>\n",
       "      <td>mort_icu</td>\n",
       "      <td>6</td>\n",
       "    </tr>\n",
       "    <tr>\n",
       "      <th>156</th>\n",
       "      <td>256</td>\n",
       "      <td>LSTM</td>\n",
       "      <td>mort_icu</td>\n",
       "      <td>7</td>\n",
       "    </tr>\n",
       "    <tr>\n",
       "      <th>157</th>\n",
       "      <td>256</td>\n",
       "      <td>LSTM</td>\n",
       "      <td>mort_icu</td>\n",
       "      <td>8</td>\n",
       "    </tr>\n",
       "    <tr>\n",
       "      <th>158</th>\n",
       "      <td>256</td>\n",
       "      <td>LSTM</td>\n",
       "      <td>mort_icu</td>\n",
       "      <td>9</td>\n",
       "    </tr>\n",
       "    <tr>\n",
       "      <th>159</th>\n",
       "      <td>256</td>\n",
       "      <td>LSTM</td>\n",
       "      <td>mort_icu</td>\n",
       "      <td>10</td>\n",
       "    </tr>\n",
       "  </tbody>\n",
       "</table>\n",
       "<p>160 rows × 4 columns</p>\n",
       "</div>"
      ],
      "text/plain": [
       "       0     1         2   3\n",
       "0    128   GRU     los_3   1\n",
       "1    128   GRU     los_3   2\n",
       "2    128   GRU     los_3   3\n",
       "3    128   GRU     los_3   4\n",
       "4    128   GRU     los_3   5\n",
       "..   ...   ...       ...  ..\n",
       "155  256  LSTM  mort_icu   6\n",
       "156  256  LSTM  mort_icu   7\n",
       "157  256  LSTM  mort_icu   8\n",
       "158  256  LSTM  mort_icu   9\n",
       "159  256  LSTM  mort_icu  10\n",
       "\n",
       "[160 rows x 4 columns]"
      ]
     },
     "execution_count": 31,
     "metadata": {},
     "output_type": "execute_result"
    }
   ],
   "source": [
    "bl_outdf['index'].str.split('-', expand=True)"
   ]
  },
  {
   "cell_type": "code",
   "execution_count": 32,
   "id": "5c789b88-0a59-46ba-ba60-e32015c29e7f",
   "metadata": {},
   "outputs": [],
   "source": [
    "bl_outdf['hidden_unit'] = bl_outdf['index'].str.split('-', expand=True)[0]\n",
    "bl_outdf['model'] = bl_outdf['index'].str.split('-',  expand=True)[1]\n",
    "bl_outdf['task'] = bl_outdf['index'].str.split('-',  expand=True)[2]\n",
    "bl_outdf['iter'] = bl_outdf['index'].str.split('-',  expand=True)[3]"
   ]
  },
  {
   "cell_type": "code",
   "execution_count": 33,
   "metadata": {},
   "outputs": [
    {
     "name": "stdout",
     "output_type": "stream",
     "text": [
      "                    index       auc     auprc       acc        F1 hidden_unit  \\\n",
      "0         128-GRU-los_3-1  0.692213  0.641977  0.661825  0.554159         128   \n",
      "1         128-GRU-los_3-2  0.694263  0.637183  0.662279  0.551807         128   \n",
      "2         128-GRU-los_3-3  0.687500  0.629461  0.657512  0.570453         128   \n",
      "3         128-GRU-los_3-4  0.690616  0.631797  0.657286  0.545728         128   \n",
      "4         128-GRU-los_3-5  0.701538  0.642738  0.666364  0.562760         128   \n",
      "..                    ...       ...       ...       ...       ...         ...   \n",
      "155   256-LSTM-mort_icu-6  0.879490  0.465627  0.935089  0.347032         256   \n",
      "156   256-LSTM-mort_icu-7  0.882524  0.508054  0.941217  0.423163         256   \n",
      "157   256-LSTM-mort_icu-8  0.887754  0.504423  0.940309  0.378251         256   \n",
      "158   256-LSTM-mort_icu-9  0.880689  0.502082  0.940763  0.410835         256   \n",
      "159  256-LSTM-mort_icu-10  0.879466  0.484076  0.938039  0.357647         256   \n",
      "\n",
      "    model      task iter  \n",
      "0     GRU     los_3    1  \n",
      "1     GRU     los_3    2  \n",
      "2     GRU     los_3    3  \n",
      "3     GRU     los_3    4  \n",
      "4     GRU     los_3    5  \n",
      "..    ...       ...  ...  \n",
      "155  LSTM  mort_icu    6  \n",
      "156  LSTM  mort_icu    7  \n",
      "157  LSTM  mort_icu    8  \n",
      "158  LSTM  mort_icu    9  \n",
      "159  LSTM  mort_icu   10  \n",
      "\n",
      "[160 rows x 9 columns]\n"
     ]
    }
   ],
   "source": [
    "print(bl_outdf)"
   ]
  },
  {
   "cell_type": "code",
   "execution_count": 34,
   "id": "503a659d-b7cb-4047-8dd6-f4216a06bd78",
   "metadata": {},
   "outputs": [],
   "source": [
    "bl_score = {}\n",
    "for model in ['GRU', 'LSTM']:\n",
    "        for task in ['los_3', 'los_7', 'mort_hosp', 'mort_icu']:\n",
    "            sub_df = bl_outdf[(bl_outdf['model']==model) & (bl_outdf['task']==task)]\n",
    "            ind = sub_df['auc'].argmax()\n",
    "            bl_score['-'.join([model, task])] = sub_df.iloc[ind]"
   ]
  },
  {
   "cell_type": "code",
   "execution_count": 35,
   "id": "eb854ede-2cd5-492f-b0ac-92346bf73715",
   "metadata": {},
   "outputs": [],
   "source": [
    "ts_baseline_df = pd.DataFrame(bl_score).transpose().sort_values('task')"
   ]
  },
  {
   "cell_type": "code",
   "execution_count": 36,
   "id": "c9254d92-5de6-4184-b23d-0c089f43330e",
   "metadata": {},
   "outputs": [],
   "source": [
    "ts_baseline_df.to_csv('../results/timeseries-baseline/metrics/best_scores.csv')"
   ]
  },
  {
   "cell_type": "code",
   "execution_count": 37,
   "metadata": {},
   "outputs": [
    {
     "data": {
      "text/html": [
       "<div>\n",
       "<style scoped>\n",
       "    .dataframe tbody tr th:only-of-type {\n",
       "        vertical-align: middle;\n",
       "    }\n",
       "\n",
       "    .dataframe tbody tr th {\n",
       "        vertical-align: top;\n",
       "    }\n",
       "\n",
       "    .dataframe thead th {\n",
       "        text-align: right;\n",
       "    }\n",
       "</style>\n",
       "<table border=\"1\" class=\"dataframe\">\n",
       "  <thead>\n",
       "    <tr style=\"text-align: right;\">\n",
       "      <th></th>\n",
       "      <th>index</th>\n",
       "      <th>auc</th>\n",
       "      <th>auprc</th>\n",
       "      <th>acc</th>\n",
       "      <th>F1</th>\n",
       "      <th>hidden_unit</th>\n",
       "      <th>model</th>\n",
       "      <th>task</th>\n",
       "      <th>iter</th>\n",
       "    </tr>\n",
       "  </thead>\n",
       "  <tbody>\n",
       "    <tr>\n",
       "      <th>GRU-los_3</th>\n",
       "      <td>128-GRU-los_3-5</td>\n",
       "      <td>0.701538</td>\n",
       "      <td>0.642738</td>\n",
       "      <td>0.666364</td>\n",
       "      <td>0.56276</td>\n",
       "      <td>128</td>\n",
       "      <td>GRU</td>\n",
       "      <td>los_3</td>\n",
       "      <td>5</td>\n",
       "    </tr>\n",
       "    <tr>\n",
       "      <th>LSTM-los_3</th>\n",
       "      <td>128-LSTM-los_3-4</td>\n",
       "      <td>0.696343</td>\n",
       "      <td>0.633673</td>\n",
       "      <td>0.658193</td>\n",
       "      <td>0.5369</td>\n",
       "      <td>128</td>\n",
       "      <td>LSTM</td>\n",
       "      <td>los_3</td>\n",
       "      <td>4</td>\n",
       "    </tr>\n",
       "    <tr>\n",
       "      <th>GRU-los_7</th>\n",
       "      <td>256-GRU-los_7-2</td>\n",
       "      <td>0.747498</td>\n",
       "      <td>0.221757</td>\n",
       "      <td>0.91852</td>\n",
       "      <td>0.047745</td>\n",
       "      <td>256</td>\n",
       "      <td>GRU</td>\n",
       "      <td>los_7</td>\n",
       "      <td>2</td>\n",
       "    </tr>\n",
       "    <tr>\n",
       "      <th>LSTM-los_7</th>\n",
       "      <td>256-LSTM-los_7-8</td>\n",
       "      <td>0.739706</td>\n",
       "      <td>0.204073</td>\n",
       "      <td>0.918747</td>\n",
       "      <td>0.01105</td>\n",
       "      <td>256</td>\n",
       "      <td>LSTM</td>\n",
       "      <td>los_7</td>\n",
       "      <td>8</td>\n",
       "    </tr>\n",
       "    <tr>\n",
       "      <th>GRU-mort_hosp</th>\n",
       "      <td>256-GRU-mort_hosp-9</td>\n",
       "      <td>0.884279</td>\n",
       "      <td>0.564403</td>\n",
       "      <td>0.912846</td>\n",
       "      <td>0.440233</td>\n",
       "      <td>256</td>\n",
       "      <td>GRU</td>\n",
       "      <td>mort_hosp</td>\n",
       "      <td>9</td>\n",
       "    </tr>\n",
       "    <tr>\n",
       "      <th>LSTM-mort_hosp</th>\n",
       "      <td>256-LSTM-mort_hosp-8</td>\n",
       "      <td>0.879725</td>\n",
       "      <td>0.558737</td>\n",
       "      <td>0.916931</td>\n",
       "      <td>0.45045</td>\n",
       "      <td>256</td>\n",
       "      <td>LSTM</td>\n",
       "      <td>mort_hosp</td>\n",
       "      <td>8</td>\n",
       "    </tr>\n",
       "    <tr>\n",
       "      <th>GRU-mort_icu</th>\n",
       "      <td>128-GRU-mort_icu-8</td>\n",
       "      <td>0.891895</td>\n",
       "      <td>0.520284</td>\n",
       "      <td>0.940082</td>\n",
       "      <td>0.440678</td>\n",
       "      <td>128</td>\n",
       "      <td>GRU</td>\n",
       "      <td>mort_icu</td>\n",
       "      <td>8</td>\n",
       "    </tr>\n",
       "    <tr>\n",
       "      <th>LSTM-mort_icu</th>\n",
       "      <td>128-LSTM-mort_icu-8</td>\n",
       "      <td>0.893798</td>\n",
       "      <td>0.513111</td>\n",
       "      <td>0.941897</td>\n",
       "      <td>0.415525</td>\n",
       "      <td>128</td>\n",
       "      <td>LSTM</td>\n",
       "      <td>mort_icu</td>\n",
       "      <td>8</td>\n",
       "    </tr>\n",
       "  </tbody>\n",
       "</table>\n",
       "</div>"
      ],
      "text/plain": [
       "                               index       auc     auprc       acc        F1  \\\n",
       "GRU-los_3            128-GRU-los_3-5  0.701538  0.642738  0.666364   0.56276   \n",
       "LSTM-los_3          128-LSTM-los_3-4  0.696343  0.633673  0.658193    0.5369   \n",
       "GRU-los_7            256-GRU-los_7-2  0.747498  0.221757   0.91852  0.047745   \n",
       "LSTM-los_7          256-LSTM-los_7-8  0.739706  0.204073  0.918747   0.01105   \n",
       "GRU-mort_hosp    256-GRU-mort_hosp-9  0.884279  0.564403  0.912846  0.440233   \n",
       "LSTM-mort_hosp  256-LSTM-mort_hosp-8  0.879725  0.558737  0.916931   0.45045   \n",
       "GRU-mort_icu      128-GRU-mort_icu-8  0.891895  0.520284  0.940082  0.440678   \n",
       "LSTM-mort_icu    128-LSTM-mort_icu-8  0.893798  0.513111  0.941897  0.415525   \n",
       "\n",
       "               hidden_unit model       task iter  \n",
       "GRU-los_3              128   GRU      los_3    5  \n",
       "LSTM-los_3             128  LSTM      los_3    4  \n",
       "GRU-los_7              256   GRU      los_7    2  \n",
       "LSTM-los_7             256  LSTM      los_7    8  \n",
       "GRU-mort_hosp          256   GRU  mort_hosp    9  \n",
       "LSTM-mort_hosp         256  LSTM  mort_hosp    8  \n",
       "GRU-mort_icu           128   GRU   mort_icu    8  \n",
       "LSTM-mort_icu          128  LSTM   mort_icu    8  "
      ]
     },
     "metadata": {},
     "output_type": "display_data"
    }
   ],
   "source": [
    "display(ts_baseline_df)"
   ]
  },
  {
   "cell_type": "markdown",
   "id": "a047e4e9-d2df-4203-a7c3-aeaf152e610d",
   "metadata": {},
   "source": [
    "# Multimodal Baseline"
   ]
  },
  {
   "cell_type": "code",
   "execution_count": 47,
   "id": "4e3c2a06-471c-4f72-adf6-e19e6dbc5626",
   "metadata": {},
   "outputs": [],
   "source": [
    "PATH = '../results/multimodal-baseline/metrics/'"
   ]
  },
  {
   "cell_type": "code",
   "execution_count": 48,
   "id": "224a5d98-8a7e-4f91-8de4-827014d70ce3",
   "metadata": {},
   "outputs": [],
   "source": [
    "maxiter = 11\n",
    "output = {}\n",
    "\n",
    "for size in [128]:\n",
    "    for task in ['los_3', 'los_7', 'mort_hosp', 'mort_icu']:\n",
    "            for embedding in ['word2vec', 'fasttext', 'concat','doc2vec']:\n",
    "                out = pd.read_pickle(PATH+f'GRU-{size}-{embedding}-{task}-1-new-avg-.p')\n",
    "                output['-'.join([str(size), task, embedding])] = out"
   ]
  },
  {
   "cell_type": "code",
   "execution_count": 49,
   "id": "114bad11-eaaa-495c-be96-74a2a1b582f2",
   "metadata": {},
   "outputs": [],
   "source": [
    "blavg_outdf = pd.DataFrame(output).transpose()\n",
    "blavg_outdf = blavg_outdf.reset_index()"
   ]
  },
  {
   "cell_type": "code",
   "execution_count": 50,
   "id": "cbfe165e-cec8-4862-83ff-a2d73a1a3ef2",
   "metadata": {},
   "outputs": [],
   "source": [
    "blavg_outdf['hidden_unit'] = blavg_outdf['index'].str.split('-', expand=True)[0]\n",
    "blavg_outdf['task'] = blavg_outdf['index'].str.split('-', expand=True)[1]\n",
    "blavg_outdf['embedding'] = blavg_outdf['index'].str.split('-', expand=True)[2]"
   ]
  },
  {
   "cell_type": "code",
   "execution_count": 51,
   "metadata": {},
   "outputs": [
    {
     "name": "stdout",
     "output_type": "stream",
     "text": [
      "                     index       auc     auprc       acc        F1  \\\n",
      "0       128-los_3-word2vec  0.701746  0.642210  0.659782  0.552136   \n",
      "1       128-los_3-fasttext  0.705585  0.644283  0.667726  0.553386   \n",
      "2         128-los_3-concat  0.710999  0.649688  0.667045  0.577112   \n",
      "3        128-los_3-doc2vec  0.684934  0.624441  0.656378  0.552600   \n",
      "4       128-los_7-word2vec  0.728503  0.212106  0.919428  0.016620   \n",
      "5       128-los_7-fasttext  0.737881  0.229783  0.919201  0.000000   \n",
      "6         128-los_7-concat  0.740868  0.211529  0.918974  0.042895   \n",
      "7        128-los_7-doc2vec  0.715294  0.197631  0.918747  0.027174   \n",
      "8   128-mort_hosp-word2vec  0.883033  0.594587  0.918974  0.489270   \n",
      "9   128-mort_hosp-fasttext  0.883361  0.582703  0.914889  0.390244   \n",
      "10    128-mort_hosp-concat  0.877172  0.570952  0.916478  0.437309   \n",
      "11   128-mort_hosp-doc2vec  0.883205  0.581472  0.918747  0.479651   \n",
      "12   128-mort_icu-word2vec  0.883480  0.539991  0.943032  0.389294   \n",
      "13   128-mort_icu-fasttext  0.881282  0.498046  0.939628  0.381395   \n",
      "14     128-mort_icu-concat  0.889898  0.530600  0.943486  0.440449   \n",
      "15    128-mort_icu-doc2vec  0.884966  0.523616  0.941217  0.440605   \n",
      "\n",
      "   hidden_unit       task embedding  \n",
      "0          128      los_3  word2vec  \n",
      "1          128      los_3  fasttext  \n",
      "2          128      los_3    concat  \n",
      "3          128      los_3   doc2vec  \n",
      "4          128      los_7  word2vec  \n",
      "5          128      los_7  fasttext  \n",
      "6          128      los_7    concat  \n",
      "7          128      los_7   doc2vec  \n",
      "8          128  mort_hosp  word2vec  \n",
      "9          128  mort_hosp  fasttext  \n",
      "10         128  mort_hosp    concat  \n",
      "11         128  mort_hosp   doc2vec  \n",
      "12         128   mort_icu  word2vec  \n",
      "13         128   mort_icu  fasttext  \n",
      "14         128   mort_icu    concat  \n",
      "15         128   mort_icu   doc2vec  \n"
     ]
    }
   ],
   "source": [
    "print(blavg_outdf)"
   ]
  },
  {
   "cell_type": "code",
   "execution_count": 54,
   "id": "6244a5ab-069f-4b7e-b63f-10957e005e72",
   "metadata": {},
   "outputs": [],
   "source": [
    "max_score = {}\n",
    "for task in ['los_3', 'los_7', 'mort_hosp', 'mort_icu']:\n",
    "    for embedding in ['word2vec','fasttext','concat','doc2vec']:\n",
    "        ind = blavg_outdf[(blavg_outdf['task']==task) & (blavg_outdf['embedding']==embedding)]['auc'].argmax()\n",
    "        score = blavg_outdf[(blavg_outdf['task']==task) & (blavg_outdf['embedding']==embedding)].iloc[ind][['auc', 'auprc', 'acc', 'F1']].to_dict()\n",
    "        max_score[task+'-'+embedding] = score"
   ]
  },
  {
   "cell_type": "code",
   "execution_count": 55,
   "id": "8b8cb9e0-97da-430b-bb71-dec1ce7b08f9",
   "metadata": {},
   "outputs": [
    {
     "data": {
      "text/html": [
       "<div>\n",
       "<style scoped>\n",
       "    .dataframe tbody tr th:only-of-type {\n",
       "        vertical-align: middle;\n",
       "    }\n",
       "\n",
       "    .dataframe tbody tr th {\n",
       "        vertical-align: top;\n",
       "    }\n",
       "\n",
       "    .dataframe thead th {\n",
       "        text-align: right;\n",
       "    }\n",
       "</style>\n",
       "<table border=\"1\" class=\"dataframe\">\n",
       "  <thead>\n",
       "    <tr style=\"text-align: right;\">\n",
       "      <th></th>\n",
       "      <th>auc</th>\n",
       "      <th>auprc</th>\n",
       "      <th>acc</th>\n",
       "      <th>F1</th>\n",
       "    </tr>\n",
       "  </thead>\n",
       "  <tbody>\n",
       "    <tr>\n",
       "      <th>los_3-word2vec</th>\n",
       "      <td>0.701746</td>\n",
       "      <td>0.642210</td>\n",
       "      <td>0.659782</td>\n",
       "      <td>0.552136</td>\n",
       "    </tr>\n",
       "    <tr>\n",
       "      <th>los_3-fasttext</th>\n",
       "      <td>0.705585</td>\n",
       "      <td>0.644283</td>\n",
       "      <td>0.667726</td>\n",
       "      <td>0.553386</td>\n",
       "    </tr>\n",
       "    <tr>\n",
       "      <th>los_3-concat</th>\n",
       "      <td>0.710999</td>\n",
       "      <td>0.649688</td>\n",
       "      <td>0.667045</td>\n",
       "      <td>0.577112</td>\n",
       "    </tr>\n",
       "    <tr>\n",
       "      <th>los_3-doc2vec</th>\n",
       "      <td>0.684934</td>\n",
       "      <td>0.624441</td>\n",
       "      <td>0.656378</td>\n",
       "      <td>0.552600</td>\n",
       "    </tr>\n",
       "    <tr>\n",
       "      <th>los_7-word2vec</th>\n",
       "      <td>0.728503</td>\n",
       "      <td>0.212106</td>\n",
       "      <td>0.919428</td>\n",
       "      <td>0.016620</td>\n",
       "    </tr>\n",
       "    <tr>\n",
       "      <th>los_7-fasttext</th>\n",
       "      <td>0.737881</td>\n",
       "      <td>0.229783</td>\n",
       "      <td>0.919201</td>\n",
       "      <td>0.000000</td>\n",
       "    </tr>\n",
       "    <tr>\n",
       "      <th>los_7-concat</th>\n",
       "      <td>0.740868</td>\n",
       "      <td>0.211529</td>\n",
       "      <td>0.918974</td>\n",
       "      <td>0.042895</td>\n",
       "    </tr>\n",
       "    <tr>\n",
       "      <th>los_7-doc2vec</th>\n",
       "      <td>0.715294</td>\n",
       "      <td>0.197631</td>\n",
       "      <td>0.918747</td>\n",
       "      <td>0.027174</td>\n",
       "    </tr>\n",
       "    <tr>\n",
       "      <th>mort_hosp-word2vec</th>\n",
       "      <td>0.883033</td>\n",
       "      <td>0.594587</td>\n",
       "      <td>0.918974</td>\n",
       "      <td>0.489270</td>\n",
       "    </tr>\n",
       "    <tr>\n",
       "      <th>mort_hosp-fasttext</th>\n",
       "      <td>0.883361</td>\n",
       "      <td>0.582703</td>\n",
       "      <td>0.914889</td>\n",
       "      <td>0.390244</td>\n",
       "    </tr>\n",
       "    <tr>\n",
       "      <th>mort_hosp-concat</th>\n",
       "      <td>0.877172</td>\n",
       "      <td>0.570952</td>\n",
       "      <td>0.916478</td>\n",
       "      <td>0.437309</td>\n",
       "    </tr>\n",
       "    <tr>\n",
       "      <th>mort_hosp-doc2vec</th>\n",
       "      <td>0.883205</td>\n",
       "      <td>0.581472</td>\n",
       "      <td>0.918747</td>\n",
       "      <td>0.479651</td>\n",
       "    </tr>\n",
       "    <tr>\n",
       "      <th>mort_icu-word2vec</th>\n",
       "      <td>0.883480</td>\n",
       "      <td>0.539991</td>\n",
       "      <td>0.943032</td>\n",
       "      <td>0.389294</td>\n",
       "    </tr>\n",
       "    <tr>\n",
       "      <th>mort_icu-fasttext</th>\n",
       "      <td>0.881282</td>\n",
       "      <td>0.498046</td>\n",
       "      <td>0.939628</td>\n",
       "      <td>0.381395</td>\n",
       "    </tr>\n",
       "    <tr>\n",
       "      <th>mort_icu-concat</th>\n",
       "      <td>0.889898</td>\n",
       "      <td>0.530600</td>\n",
       "      <td>0.943486</td>\n",
       "      <td>0.440449</td>\n",
       "    </tr>\n",
       "    <tr>\n",
       "      <th>mort_icu-doc2vec</th>\n",
       "      <td>0.884966</td>\n",
       "      <td>0.523616</td>\n",
       "      <td>0.941217</td>\n",
       "      <td>0.440605</td>\n",
       "    </tr>\n",
       "  </tbody>\n",
       "</table>\n",
       "</div>"
      ],
      "text/plain": [
       "                         auc     auprc       acc        F1\n",
       "los_3-word2vec      0.701746  0.642210  0.659782  0.552136\n",
       "los_3-fasttext      0.705585  0.644283  0.667726  0.553386\n",
       "los_3-concat        0.710999  0.649688  0.667045  0.577112\n",
       "los_3-doc2vec       0.684934  0.624441  0.656378  0.552600\n",
       "los_7-word2vec      0.728503  0.212106  0.919428  0.016620\n",
       "los_7-fasttext      0.737881  0.229783  0.919201  0.000000\n",
       "los_7-concat        0.740868  0.211529  0.918974  0.042895\n",
       "los_7-doc2vec       0.715294  0.197631  0.918747  0.027174\n",
       "mort_hosp-word2vec  0.883033  0.594587  0.918974  0.489270\n",
       "mort_hosp-fasttext  0.883361  0.582703  0.914889  0.390244\n",
       "mort_hosp-concat    0.877172  0.570952  0.916478  0.437309\n",
       "mort_hosp-doc2vec   0.883205  0.581472  0.918747  0.479651\n",
       "mort_icu-word2vec   0.883480  0.539991  0.943032  0.389294\n",
       "mort_icu-fasttext   0.881282  0.498046  0.939628  0.381395\n",
       "mort_icu-concat     0.889898  0.530600  0.943486  0.440449\n",
       "mort_icu-doc2vec    0.884966  0.523616  0.941217  0.440605"
      ]
     },
     "execution_count": 55,
     "metadata": {},
     "output_type": "execute_result"
    }
   ],
   "source": [
    "pd.DataFrame(max_score).transpose()"
   ]
  },
  {
   "cell_type": "code",
   "execution_count": 56,
   "id": "8875677f-ec66-4262-bc72-00a96a03ef9f",
   "metadata": {},
   "outputs": [],
   "source": [
    "pd.DataFrame(max_score).transpose().to_csv('../results/multimodal-baseline/metrics/best_scores.csv')"
   ]
  },
  {
   "cell_type": "code",
   "execution_count": null,
   "metadata": {},
   "outputs": [],
   "source": []
  }
 ],
 "metadata": {
  "kernelspec": {
   "display_name": "cse6250-project",
   "language": "python",
   "name": "python3"
  },
  "language_info": {
   "codemirror_mode": {
    "name": "ipython",
    "version": 3
   },
   "file_extension": ".py",
   "mimetype": "text/x-python",
   "name": "python",
   "nbconvert_exporter": "python",
   "pygments_lexer": "ipython3",
   "version": "3.9.18"
  }
 },
 "nbformat": 4,
 "nbformat_minor": 5
}
