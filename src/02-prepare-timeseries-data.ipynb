{
 "cells": [
  {
   "cell_type": "code",
   "execution_count": 1,
   "metadata": {},
   "outputs": [],
   "source": [
    "import pandas as pd\n",
    "import numpy as np"
   ]
  },
  {
   "cell_type": "code",
   "execution_count": 2,
   "metadata": {},
   "outputs": [],
   "source": [
    "lvl2_train =  pd.read_pickle(\"../data/timeseries/lvl2_imputer_train.pkl\")\n",
    "lvl2_dev =  pd.read_pickle(\"../data/timeseries/lvl2_imputer_dev.pkl\")\n",
    "lvl2_test =  pd.read_pickle(\"../data/timeseries/lvl2_imputer_test.pkl\")\n",
    "\n",
    "Ys =  pd.read_pickle(\"../data/timeseries/Ys.pkl\")\n",
    "Ys_train =  pd.read_pickle(\"../data/timeseries/Ys_train.pkl\")\n",
    "Ys_dev =  pd.read_pickle(\"../data/timeseries/Ys_dev.pkl\")\n",
    "Ys_test =  pd.read_pickle(\"../data/timeseries/Ys_test.pkl\")"
   ]
  },
  {
   "cell_type": "code",
   "execution_count": 3,
   "metadata": {},
   "outputs": [],
   "source": [
    "all_train_ids = set()\n",
    "for i in Ys_train.itertuples():\n",
    "    all_train_ids.add( i.Index[0] )\n",
    "    \n",
    "all_dev_ids = set()\n",
    "for i in Ys_dev.itertuples():\n",
    "    all_dev_ids.add( i.Index[0] )\n",
    "    \n",
    "all_test_ids = set()\n",
    "for i in Ys_test.itertuples():\n",
    "    all_test_ids.add( i.Index[0] )"
   ]
  },
  {
   "cell_type": "code",
   "execution_count": 4,
   "metadata": {},
   "outputs": [],
   "source": [
    "new_word2vec_dict = pd.read_pickle(\"../data/clinical_notes/representations/new_ner_word2vec_limited_dict.pkl\")\n",
    "new_keys = set(new_word2vec_dict.keys())\n",
    "new_train_ids = sorted(all_train_ids.intersection(new_keys))\n",
    "new_dev_ids = sorted(all_dev_ids.intersection(new_keys))\n",
    "new_test_ids = sorted(all_test_ids.intersection(new_keys))\n",
    "pd.to_pickle(new_train_ids, \"../data/timeseries/new_train_ids.pkl\")\n",
    "pd.to_pickle(new_test_ids, \"../data/timeseries/new_test_ids.pkl\")\n",
    "pd.to_pickle(new_dev_ids, \"../data/timeseries/new_dev_ids.pkl\")"
   ]
  },
  {
   "cell_type": "code",
   "execution_count": 5,
   "metadata": {},
   "outputs": [],
   "source": [
    "data_ids = [(new_train_ids, new_dev_ids, new_test_ids)]\n",
    "data_names = [\"new\"]\n",
    "\n",
    "for i, (tr, de, te) in zip(data_names, data_ids):\n",
    "    y_train = Ys_train.loc[tr]\n",
    "    y_dev = Ys_dev.loc[de]\n",
    "    y_test = Ys_test.loc[te]\n",
    "\n",
    "    sub_train = lvl2_train.loc[tr]\n",
    "    sub_train = sub_train.loc[:, pd.IndexSlice[:, 'mean']]\n",
    "\n",
    "    sub_dev = lvl2_dev.loc[de]\n",
    "    sub_dev = sub_dev.loc[:, pd.IndexSlice[:, 'mean']]\n",
    "\n",
    "    sub_test = lvl2_test.loc[te]\n",
    "    sub_test = sub_test.loc[:, pd.IndexSlice[:, 'mean']]\n",
    "\n",
    "    sub_train = sub_train.values\n",
    "    sub_dev = sub_dev.values\n",
    "    sub_test = sub_test.values\n",
    "\n",
    "    # reshape the data for timeseries prediction\n",
    "    x_train_lstm = sub_train.reshape(int(sub_train.shape[0] / 24), 24, 104)\n",
    "    x_dev_lstm = sub_dev.reshape(int(sub_dev.shape[0] / 24), 24, 104)\n",
    "    x_test_lstm = sub_test.reshape(int(sub_test.shape[0] / 24), 24, 104)\n",
    "\n",
    "    pd.to_pickle(x_train_lstm, \"../data/timeseries/\" + i + \"_x_train.pkl\")\n",
    "    pd.to_pickle(x_dev_lstm, \"../data/timeseries/\" + i + \"_x_dev.pkl\")\n",
    "    pd.to_pickle(x_test_lstm, \"../data/timeseries/\" + i + \"_x_test.pkl\")\n",
    "\n",
    "    pd.to_pickle(y_train, \"../data/timeseries/\" + i + \"_y_train.pkl\")\n",
    "    pd.to_pickle(y_dev, \"../data/timeseries/\" + i + \"_y_dev.pkl\")\n",
    "    pd.to_pickle(y_test, \"../data/timeseries/\" + i + \"_y_test.pkl\")"
   ]
  }
 ],
 "metadata": {
  "kernelspec": {
   "display_name": "cse6250-project",
   "language": "python",
   "name": "python3"
  },
  "language_info": {
   "codemirror_mode": {
    "name": "ipython",
    "version": 3
   },
   "file_extension": ".py",
   "mimetype": "text/x-python",
   "name": "python",
   "nbconvert_exporter": "python",
   "pygments_lexer": "ipython3",
   "version": "3.9.18"
  }
 },
 "nbformat": 4,
 "nbformat_minor": 2
}
