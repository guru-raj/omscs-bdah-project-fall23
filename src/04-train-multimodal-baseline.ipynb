{
 "cells": [
  {
   "cell_type": "code",
   "execution_count": 1,
   "metadata": {},
   "outputs": [
    {
     "name": "stderr",
     "output_type": "stream",
     "text": [
      "2023-11-23 14:24:05.647446: E tensorflow/compiler/xla/stream_executor/cuda/cuda_dnn.cc:9342] Unable to register cuDNN factory: Attempting to register factory for plugin cuDNN when one has already been registered\n",
      "2023-11-23 14:24:05.647478: E tensorflow/compiler/xla/stream_executor/cuda/cuda_fft.cc:609] Unable to register cuFFT factory: Attempting to register factory for plugin cuFFT when one has already been registered\n",
      "2023-11-23 14:24:05.647503: E tensorflow/compiler/xla/stream_executor/cuda/cuda_blas.cc:1518] Unable to register cuBLAS factory: Attempting to register factory for plugin cuBLAS when one has already been registered\n",
      "2023-11-23 14:24:05.653333: I tensorflow/core/platform/cpu_feature_guard.cc:182] This TensorFlow binary is optimized to use available CPU instructions in performance-critical operations.\n",
      "To enable the following instructions: AVX2 FMA, in other operations, rebuild TensorFlow with the appropriate compiler flags.\n"
     ]
    }
   ],
   "source": [
    "import pandas as pd\n",
    "import os\n",
    "import numpy as np\n",
    "from gensim.models import Word2Vec, FastText\n",
    "import glove\n",
    "from glove import Corpus\n",
    "\n",
    "import collections\n",
    "import gc \n",
    "\n",
    "import keras\n",
    "from keras import backend as K\n",
    "from keras import regularizers\n",
    "from keras.models import Sequential, Model\n",
    "from keras.layers import Flatten, Dense, Dropout, Input, concatenate, Activation, Concatenate, LSTM, GRU\n",
    "from keras.layers import Input, Conv2D, MaxPooling2D, UpSampling2D, Conv1D, BatchNormalization, GRU, Convolution1D, LSTM\n",
    "from keras.layers import UpSampling1D, MaxPooling1D, GlobalMaxPooling1D, GlobalAveragePooling1D,MaxPool1D\n",
    "\n",
    "from keras.optimizers import Adam\n",
    "\n",
    "from keras.callbacks import EarlyStopping, ModelCheckpoint, History, ReduceLROnPlateau\n",
    "import np_utils\n",
    "from tensorflow.python.keras.backend import set_session, clear_session, get_session\n",
    "import tensorflow as tf\n",
    "\n",
    "\n",
    "from sklearn.utils import class_weight\n",
    "from sklearn.metrics import average_precision_score, roc_auc_score, accuracy_score, f1_score"
   ]
  },
  {
   "cell_type": "code",
   "execution_count": 5,
   "metadata": {},
   "outputs": [],
   "source": [
    "def reset_keras(model):\n",
    "    sess = get_session()\n",
    "    clear_session()\n",
    "    sess.close()\n",
    "    sess = get_session()\n",
    "\n",
    "    try:\n",
    "        del model # this is from global space - change this as you need\n",
    "    except:\n",
    "        pass\n",
    "\n",
    "    gc.collect() # if it's done something you should see a number being outputted\n",
    "def create_dataset(dict_of_ner):\n",
    "    temp_data = []\n",
    "    for k, v in sorted(dict_of_ner.items()):\n",
    "        temp = []\n",
    "        for embed in v:\n",
    "            temp.append(embed)\n",
    "        temp_data.append(np.mean(temp, axis = 0)) \n",
    "    return np.asarray(temp_data)\n",
    "\n",
    "def make_prediction_multi_avg(model, test_data):\n",
    "    probs = model.predict(test_data)\n",
    "    y_pred = [1 if i>=0.5 else 0 for i in probs]\n",
    "    return probs, y_pred\n",
    "\n",
    "def save_scores_multi_avg(predictions, probs, ground_truth, \n",
    "                          \n",
    "                          embed_name, problem_type, iteration, hidden_unit_size,\n",
    "                          \n",
    "                          sequence_name, type_of_ner):\n",
    "    \n",
    "    auc = roc_auc_score(ground_truth, probs)\n",
    "    auprc = average_precision_score(ground_truth, probs)\n",
    "    acc   = accuracy_score(ground_truth, predictions)\n",
    "    F1    = f1_score(ground_truth, predictions)\n",
    "    \n",
    "    result_dict = {}    \n",
    "    result_dict['iteration'] = [iteration]\n",
    "    result_dict['auc'] = [auc]\n",
    "    result_dict['auprc'] = [auprc]\n",
    "    result_dict['acc'] = [acc]\n",
    "    result_dict['F1'] = [F1]\n",
    "        \n",
    "    filename = str(sequence_name)+\"-\"+str(hidden_unit_size)+\"-\"+embed_name+\"-\"+problem_type+\"-\"+type_of_ner+\"-avg.csv\"\n",
    "    \n",
    "    result_path = \"../results/multimodal-baseline/metrics/\"+filename\n",
    "    df = pd.DataFrame.from_dict(result_dict)\n",
    "    df.to_csv(result_path,mode='a',index=False,header=False)\n",
    "\n",
    "    result_dict = {}    \n",
    "    result_dict['auc'] = auc\n",
    "    result_dict['auprc'] = auprc\n",
    "    result_dict['acc'] = acc\n",
    "    result_dict['F1'] = F1\n",
    "\n",
    "    result_path = \"../results/multimodal-baseline/metrics/\"\n",
    "    file_name = str(sequence_name)+\"-\"+str(hidden_unit_size)+\"-\"+embed_name\n",
    "    file_name = file_name +\"-\"+problem_type+\"-\"+str(iteration)+\"-\"+type_of_ner+\"-avg-.p\"\n",
    "    pd.to_pickle(result_dict, os.path.join(result_path, file_name))\n",
    "    print(auc, auprc, acc, F1)\n",
    "    \n",
    "def avg_ner_model(layer_name, number_of_unit, embedding_name):\n",
    "\n",
    "    if embedding_name == \"concat\":\n",
    "        input_dimension = 200\n",
    "    else:\n",
    "        input_dimension = 100\n",
    "\n",
    "    sequence_input = Input(shape=(24,104))\n",
    "\n",
    "    input_avg = Input(shape=(input_dimension, ), name = \"avg\")        \n",
    "#     x_1 = Dense(256, activation='relu')(input_avg)\n",
    "#     x_1 = Dropout(0.3)(x_1)\n",
    "    \n",
    "    if layer_name == \"GRU\":\n",
    "        x = GRU(number_of_unit)(sequence_input)\n",
    "    elif layer_name == \"LSTM\":\n",
    "        x = LSTM(number_of_unit)(sequence_input)\n",
    "\n",
    "    x = keras.layers.Concatenate()([x, input_avg])\n",
    "\n",
    "    x = Dense(256, activation='relu')(x)\n",
    "    x = Dropout(0.2)(x)\n",
    "    \n",
    "    \n",
    "    logits_regularizer = regularizers.l2(l2=0.01)\n",
    "    \n",
    "    preds = Dense(1, activation='sigmoid',use_bias=False,\n",
    "                         kernel_initializer=tf.keras.initializers.GlorotNormal(), \n",
    "                  kernel_regularizer=logits_regularizer)(x)\n",
    "    \n",
    "    \n",
    "    opt = Adam(learning_rate=0.001, weight_decay=0.01)\n",
    "    model = Model(inputs=[sequence_input, input_avg], outputs=preds)\n",
    "    model.compile(loss='binary_crossentropy',\n",
    "                  optimizer=opt,\n",
    "                  metrics=['acc'])\n",
    "    \n",
    "    return model"
   ]
  },
  {
   "cell_type": "code",
   "execution_count": 3,
   "metadata": {},
   "outputs": [],
   "source": [
    "type_of_ner = \"new\"\n",
    "\n",
    "x_train_lstm = pd.read_pickle(\"../data/timeseries/\"+type_of_ner+\"_x_train.pkl\")\n",
    "x_dev_lstm = pd.read_pickle(\"../data/timeseries/\"+type_of_ner+\"_x_dev.pkl\")\n",
    "x_test_lstm = pd.read_pickle(\"../data/timeseries/\"+type_of_ner+\"_x_test.pkl\")\n",
    "\n",
    "y_train = pd.read_pickle(\"../data/timeseries/\"+type_of_ner+\"_y_train.pkl\")\n",
    "y_dev = pd.read_pickle(\"../data/timeseries/\"+type_of_ner+\"_y_dev.pkl\")\n",
    "y_test = pd.read_pickle(\"../data/timeseries/\"+type_of_ner+\"_y_test.pkl\")\n",
    "\n",
    "ner_word2vec = pd.read_pickle(\"../data/clinical_notes/representations/\"+type_of_ner+\"_ner_word2vec_limited_dict.pkl\")\n",
    "ner_fasttext = pd.read_pickle(\"../data/clinical_notes/representations/\"+type_of_ner+\"_ner_fasttext_limited_dict.pkl\")\n",
    "\n",
    "ner_concat = pd.read_pickle(\"../data/clinical_notes/representations/\"+type_of_ner+\"_ner_combined_limited_dict.pkl\")\n",
    "\n",
    "train_ids = pd.read_pickle(\"../data/timeseries/\"+type_of_ner+\"_train_ids.pkl\")\n",
    "dev_ids = pd.read_pickle(\"../data/timeseries/\"+type_of_ner+\"_dev_ids.pkl\")\n",
    "test_ids = pd.read_pickle(\"../data/timeseries/\"+type_of_ner+\"_test_ids.pkl\")"
   ]
  },
  {
   "cell_type": "code",
   "execution_count": 6,
   "metadata": {},
   "outputs": [
    {
     "name": "stdout",
     "output_type": "stream",
     "text": [
      "Layer:  GRU\n",
      "Hidden unit:  128\n",
      "Embedding:  fasttext2\n",
      "=============================\n",
      "Iteration number:  1\n",
      "Problem type:  mort_hosp\n",
      "__________________\n",
      "Epoch 1/100\n",
      "226/242 [===========================>..] - ETA: 0s - loss: 0.2802 - acc: 0.9054\n",
      "Epoch 1: val_loss improved from inf to 0.23903, saving model to ../results/multimodal-baseline/best_models/avg-fasttext2-mort_hosp-best_model.hdf5\n",
      "242/242 [==============================] - 2s 4ms/step - loss: 0.2774 - acc: 0.9059 - val_loss: 0.2390 - val_acc: 0.9133\n",
      "Epoch 2/100\n",
      " 52/242 [=====>........................] - ETA: 0s - loss: 0.2482 - acc: 0.9102"
     ]
    },
    {
     "name": "stderr",
     "output_type": "stream",
     "text": [
      "/data/apps/miniforge3/envs/cse6250-project/lib/python3.9/site-packages/keras/src/engine/training.py:3079: UserWarning: You are saving your model as an HDF5 file via `model.save()`. This file format is considered legacy. We recommend using instead the native Keras format, e.g. `model.save('my_model.keras')`.\n",
      "  saving_api.save_model(\n"
     ]
    },
    {
     "name": "stdout",
     "output_type": "stream",
     "text": [
      "238/242 [============================>.] - ETA: 0s - loss: 0.2391 - acc: 0.9147\n",
      "Epoch 2: val_loss improved from 0.23903 to 0.23093, saving model to ../results/multimodal-baseline/best_models/avg-fasttext2-mort_hosp-best_model.hdf5\n",
      "242/242 [==============================] - 1s 4ms/step - loss: 0.2387 - acc: 0.9147 - val_loss: 0.2309 - val_acc: 0.9160\n",
      "Epoch 3/100\n",
      "233/242 [===========================>..] - ETA: 0s - loss: 0.2228 - acc: 0.9183\n",
      "Epoch 3: val_loss did not improve from 0.23093\n",
      "242/242 [==============================] - 1s 4ms/step - loss: 0.2246 - acc: 0.9177 - val_loss: 0.2336 - val_acc: 0.9114\n",
      "Epoch 4/100\n",
      "238/242 [============================>.] - ETA: 0s - loss: 0.2122 - acc: 0.9233\n",
      "Epoch 4: val_loss improved from 0.23093 to 0.22848, saving model to ../results/multimodal-baseline/best_models/avg-fasttext2-mort_hosp-best_model.hdf5\n",
      "242/242 [==============================] - 1s 3ms/step - loss: 0.2121 - acc: 0.9232 - val_loss: 0.2285 - val_acc: 0.9183\n",
      "Epoch 5/100\n",
      "228/242 [===========================>..] - ETA: 0s - loss: 0.2023 - acc: 0.9255\n",
      "Epoch 5: val_loss did not improve from 0.22848\n",
      "242/242 [==============================] - 1s 3ms/step - loss: 0.1999 - acc: 0.9270 - val_loss: 0.2385 - val_acc: 0.9183\n",
      "Epoch 6/100\n",
      "224/242 [==========================>...] - ETA: 0s - loss: 0.1869 - acc: 0.9315\n",
      "Epoch 6: val_loss did not improve from 0.22848\n",
      "242/242 [==============================] - 1s 3ms/step - loss: 0.1871 - acc: 0.9316 - val_loss: 0.2540 - val_acc: 0.9069\n",
      "Epoch 7/100\n",
      "233/242 [===========================>..] - ETA: 0s - loss: 0.1664 - acc: 0.9390\n",
      "Epoch 7: val_loss did not improve from 0.22848\n",
      "242/242 [==============================] - 1s 3ms/step - loss: 0.1670 - acc: 0.9386 - val_loss: 0.2645 - val_acc: 0.9005\n",
      "Epoch 8/100\n",
      "223/242 [==========================>...] - ETA: 0s - loss: 0.1468 - acc: 0.9472\n",
      "Epoch 8: val_loss did not improve from 0.22848\n",
      "242/242 [==============================] - 1s 3ms/step - loss: 0.1465 - acc: 0.9474 - val_loss: 0.2902 - val_acc: 0.8965\n",
      "Epoch 9/100\n",
      "232/242 [===========================>..] - ETA: 0s - loss: 0.1244 - acc: 0.9582\n",
      "Epoch 9: val_loss did not improve from 0.22848\n",
      "242/242 [==============================] - 1s 3ms/step - loss: 0.1255 - acc: 0.9577 - val_loss: 0.2872 - val_acc: 0.9042\n",
      "138/138 [==============================] - 0s 980us/step\n",
      "0.8833606920945184 0.5827029293019967 0.9148887880163413 0.3902439024390244\n"
     ]
    },
    {
     "name": "stderr",
     "output_type": "stream",
     "text": [
      "2023-11-23 15:31:53.100328: I tensorflow/core/common_runtime/gpu/gpu_device.cc:1886] Created device /job:localhost/replica:0/task:0/device:GPU:0 with 14529 MB memory:  -> device: 0, name: Quadro RTX 5000, pci bus id: 0000:2b:00.0, compute capability: 7.5\n",
      "2023-11-23 15:31:53.110168: I tensorflow/core/common_runtime/gpu/gpu_device.cc:1886] Created device /job:localhost/replica:0/task:0/device:GPU:0 with 14529 MB memory:  -> device: 0, name: Quadro RTX 5000, pci bus id: 0000:2b:00.0, compute capability: 7.5\n"
     ]
    },
    {
     "name": "stdout",
     "output_type": "stream",
     "text": [
      "Problem type:  mort_icu\n",
      "__________________\n",
      "Epoch 1/100\n",
      "232/242 [===========================>..] - ETA: 0s - loss: 0.2115 - acc: 0.9327\n",
      "Epoch 1: val_loss improved from inf to 0.17445, saving model to ../results/multimodal-baseline/best_models/avg-fasttext2-mort_icu-best_model.hdf5\n",
      "242/242 [==============================] - 2s 4ms/step - loss: 0.2111 - acc: 0.9327 - val_loss: 0.1745 - val_acc: 0.9419\n",
      "Epoch 2/100\n",
      " 60/242 [======>.......................] - ETA: 0s - loss: 0.1571 - acc: 0.9474"
     ]
    },
    {
     "name": "stderr",
     "output_type": "stream",
     "text": [
      "/data/apps/miniforge3/envs/cse6250-project/lib/python3.9/site-packages/keras/src/engine/training.py:3079: UserWarning: You are saving your model as an HDF5 file via `model.save()`. This file format is considered legacy. We recommend using instead the native Keras format, e.g. `model.save('my_model.keras')`.\n",
      "  saving_api.save_model(\n"
     ]
    },
    {
     "name": "stdout",
     "output_type": "stream",
     "text": [
      "242/242 [==============================] - ETA: 0s - loss: 0.1738 - acc: 0.9422\n",
      "Epoch 2: val_loss improved from 0.17445 to 0.16608, saving model to ../results/multimodal-baseline/best_models/avg-fasttext2-mort_icu-best_model.hdf5\n",
      "242/242 [==============================] - 1s 3ms/step - loss: 0.1738 - acc: 0.9422 - val_loss: 0.1661 - val_acc: 0.9437\n",
      "Epoch 3/100\n",
      "226/242 [===========================>..] - ETA: 0s - loss: 0.1616 - acc: 0.9441\n",
      "Epoch 3: val_loss did not improve from 0.16608\n",
      "242/242 [==============================] - 1s 3ms/step - loss: 0.1615 - acc: 0.9443 - val_loss: 0.1668 - val_acc: 0.9432\n",
      "Epoch 4/100\n",
      "223/242 [==========================>...] - ETA: 0s - loss: 0.1508 - acc: 0.9469\n",
      "Epoch 4: val_loss improved from 0.16608 to 0.16565, saving model to ../results/multimodal-baseline/best_models/avg-fasttext2-mort_icu-best_model.hdf5\n",
      "242/242 [==============================] - 1s 3ms/step - loss: 0.1506 - acc: 0.9472 - val_loss: 0.1657 - val_acc: 0.9441\n",
      "Epoch 5/100\n",
      "237/242 [============================>.] - ETA: 0s - loss: 0.1402 - acc: 0.9506\n",
      "Epoch 5: val_loss did not improve from 0.16565\n",
      "242/242 [==============================] - 1s 3ms/step - loss: 0.1393 - acc: 0.9507 - val_loss: 0.1754 - val_acc: 0.9391\n",
      "Epoch 6/100\n",
      "233/242 [===========================>..] - ETA: 0s - loss: 0.1276 - acc: 0.9557\n",
      "Epoch 6: val_loss did not improve from 0.16565\n",
      "242/242 [==============================] - 1s 3ms/step - loss: 0.1263 - acc: 0.9564 - val_loss: 0.1734 - val_acc: 0.9464\n",
      "Epoch 7/100\n",
      "234/242 [============================>.] - ETA: 0s - loss: 0.1113 - acc: 0.9616\n",
      "Epoch 7: val_loss did not improve from 0.16565\n",
      "242/242 [==============================] - 1s 3ms/step - loss: 0.1108 - acc: 0.9618 - val_loss: 0.1848 - val_acc: 0.9410\n",
      "Epoch 8/100\n",
      "240/242 [============================>.] - ETA: 0s - loss: 0.0934 - acc: 0.9675\n",
      "Epoch 8: val_loss did not improve from 0.16565\n",
      "242/242 [==============================] - 1s 3ms/step - loss: 0.0935 - acc: 0.9675 - val_loss: 0.2054 - val_acc: 0.9373\n",
      "Epoch 9/100\n",
      "230/242 [===========================>..] - ETA: 0s - loss: 0.0728 - acc: 0.9770\n",
      "Epoch 9: val_loss did not improve from 0.16565\n",
      "242/242 [==============================] - 1s 3ms/step - loss: 0.0736 - acc: 0.9769 - val_loss: 0.2387 - val_acc: 0.9360\n",
      "138/138 [==============================] - 0s 992us/step\n",
      "0.8812818572256257 0.49804591070962484 0.9396277802995915 0.3813953488372093\n"
     ]
    },
    {
     "name": "stderr",
     "output_type": "stream",
     "text": [
      "2023-11-23 15:32:03.474775: I tensorflow/core/common_runtime/gpu/gpu_device.cc:1886] Created device /job:localhost/replica:0/task:0/device:GPU:0 with 14529 MB memory:  -> device: 0, name: Quadro RTX 5000, pci bus id: 0000:2b:00.0, compute capability: 7.5\n",
      "2023-11-23 15:32:03.483610: I tensorflow/core/common_runtime/gpu/gpu_device.cc:1886] Created device /job:localhost/replica:0/task:0/device:GPU:0 with 14529 MB memory:  -> device: 0, name: Quadro RTX 5000, pci bus id: 0000:2b:00.0, compute capability: 7.5\n"
     ]
    },
    {
     "name": "stdout",
     "output_type": "stream",
     "text": [
      "Problem type:  los_3\n",
      "__________________\n",
      "Epoch 1/100\n",
      "236/242 [============================>.] - ETA: 0s - loss: 0.6543 - acc: 0.6360\n",
      "Epoch 1: val_loss improved from inf to 0.62910, saving model to ../results/multimodal-baseline/best_models/avg-fasttext2-los_3-best_model.hdf5\n",
      "242/242 [==============================] - 2s 4ms/step - loss: 0.6548 - acc: 0.6358 - val_loss: 0.6291 - val_acc: 0.6621\n",
      "Epoch 2/100\n",
      " 55/242 [=====>........................] - ETA: 0s - loss: 0.6265 - acc: 0.6656"
     ]
    },
    {
     "name": "stderr",
     "output_type": "stream",
     "text": [
      "/data/apps/miniforge3/envs/cse6250-project/lib/python3.9/site-packages/keras/src/engine/training.py:3079: UserWarning: You are saving your model as an HDF5 file via `model.save()`. This file format is considered legacy. We recommend using instead the native Keras format, e.g. `model.save('my_model.keras')`.\n",
      "  saving_api.save_model(\n"
     ]
    },
    {
     "name": "stdout",
     "output_type": "stream",
     "text": [
      "232/242 [===========================>..] - ETA: 0s - loss: 0.6257 - acc: 0.6641\n",
      "Epoch 2: val_loss improved from 0.62910 to 0.61558, saving model to ../results/multimodal-baseline/best_models/avg-fasttext2-los_3-best_model.hdf5\n",
      "242/242 [==============================] - 1s 3ms/step - loss: 0.6262 - acc: 0.6634 - val_loss: 0.6156 - val_acc: 0.6812\n",
      "Epoch 3/100\n",
      "239/242 [============================>.] - ETA: 0s - loss: 0.6151 - acc: 0.6737\n",
      "Epoch 3: val_loss improved from 0.61558 to 0.61174, saving model to ../results/multimodal-baseline/best_models/avg-fasttext2-los_3-best_model.hdf5\n",
      "242/242 [==============================] - 1s 3ms/step - loss: 0.6150 - acc: 0.6735 - val_loss: 0.6117 - val_acc: 0.6735\n",
      "Epoch 4/100\n",
      "235/242 [============================>.] - ETA: 0s - loss: 0.6040 - acc: 0.6816\n",
      "Epoch 4: val_loss improved from 0.61174 to 0.60899, saving model to ../results/multimodal-baseline/best_models/avg-fasttext2-los_3-best_model.hdf5\n",
      "242/242 [==============================] - 1s 3ms/step - loss: 0.6032 - acc: 0.6824 - val_loss: 0.6090 - val_acc: 0.6798\n",
      "Epoch 5/100\n",
      "233/242 [===========================>..] - ETA: 0s - loss: 0.5896 - acc: 0.6984\n",
      "Epoch 5: val_loss did not improve from 0.60899\n",
      "242/242 [==============================] - 1s 3ms/step - loss: 0.5897 - acc: 0.6980 - val_loss: 0.6117 - val_acc: 0.6698\n",
      "Epoch 6/100\n",
      "234/242 [============================>.] - ETA: 0s - loss: 0.5755 - acc: 0.7072\n",
      "Epoch 6: val_loss did not improve from 0.60899\n",
      "242/242 [==============================] - 1s 3ms/step - loss: 0.5749 - acc: 0.7075 - val_loss: 0.6162 - val_acc: 0.6698\n",
      "Epoch 7/100\n",
      "232/242 [===========================>..] - ETA: 0s - loss: 0.5563 - acc: 0.7247\n",
      "Epoch 7: val_loss did not improve from 0.60899\n",
      "242/242 [==============================] - 1s 3ms/step - loss: 0.5555 - acc: 0.7252 - val_loss: 0.6255 - val_acc: 0.6630\n",
      "Epoch 8/100\n",
      "241/242 [============================>.] - ETA: 0s - loss: 0.5254 - acc: 0.7429\n",
      "Epoch 8: val_loss did not improve from 0.60899\n",
      "242/242 [==============================] - 1s 3ms/step - loss: 0.5253 - acc: 0.7429 - val_loss: 0.6484 - val_acc: 0.6599\n",
      "Epoch 9/100\n",
      "237/242 [============================>.] - ETA: 0s - loss: 0.4878 - acc: 0.7696\n",
      "Epoch 9: val_loss did not improve from 0.60899\n",
      "242/242 [==============================] - 1s 4ms/step - loss: 0.4883 - acc: 0.7692 - val_loss: 0.6555 - val_acc: 0.6580\n",
      "138/138 [==============================] - 0s 988us/step\n",
      "0.7055854331835244 0.644283187052159 0.6677258284157966 0.5533862111043318\n"
     ]
    },
    {
     "name": "stderr",
     "output_type": "stream",
     "text": [
      "2023-11-23 15:32:14.192094: I tensorflow/core/common_runtime/gpu/gpu_device.cc:1886] Created device /job:localhost/replica:0/task:0/device:GPU:0 with 14529 MB memory:  -> device: 0, name: Quadro RTX 5000, pci bus id: 0000:2b:00.0, compute capability: 7.5\n",
      "2023-11-23 15:32:14.200886: I tensorflow/core/common_runtime/gpu/gpu_device.cc:1886] Created device /job:localhost/replica:0/task:0/device:GPU:0 with 14529 MB memory:  -> device: 0, name: Quadro RTX 5000, pci bus id: 0000:2b:00.0, compute capability: 7.5\n"
     ]
    },
    {
     "name": "stdout",
     "output_type": "stream",
     "text": [
      "Problem type:  los_7\n",
      "__________________\n",
      "Epoch 1/100\n",
      "233/242 [===========================>..] - ETA: 0s - loss: 0.2827 - acc: 0.9166\n",
      "Epoch 1: val_loss improved from inf to 0.26553, saving model to ../results/multimodal-baseline/best_models/avg-fasttext2-los_7-best_model.hdf5\n",
      "242/242 [==============================] - 2s 4ms/step - loss: 0.2815 - acc: 0.9170 - val_loss: 0.2655 - val_acc: 0.9233\n",
      "Epoch 2/100\n",
      " 48/242 [====>.........................] - ETA: 0s - loss: 0.2567 - acc: 0.9245"
     ]
    },
    {
     "name": "stderr",
     "output_type": "stream",
     "text": [
      "/data/apps/miniforge3/envs/cse6250-project/lib/python3.9/site-packages/keras/src/engine/training.py:3079: UserWarning: You are saving your model as an HDF5 file via `model.save()`. This file format is considered legacy. We recommend using instead the native Keras format, e.g. `model.save('my_model.keras')`.\n",
      "  saving_api.save_model(\n"
     ]
    },
    {
     "name": "stdout",
     "output_type": "stream",
     "text": [
      "240/242 [============================>.] - ETA: 0s - loss: 0.2529 - acc: 0.9223\n",
      "Epoch 2: val_loss improved from 0.26553 to 0.25606, saving model to ../results/multimodal-baseline/best_models/avg-fasttext2-los_7-best_model.hdf5\n",
      "242/242 [==============================] - 1s 4ms/step - loss: 0.2533 - acc: 0.9222 - val_loss: 0.2561 - val_acc: 0.9233\n",
      "Epoch 3/100\n",
      "228/242 [===========================>..] - ETA: 0s - loss: 0.2456 - acc: 0.9221\n",
      "Epoch 3: val_loss did not improve from 0.25606\n",
      "242/242 [==============================] - 1s 3ms/step - loss: 0.2454 - acc: 0.9218 - val_loss: 0.2569 - val_acc: 0.9233\n",
      "Epoch 4/100\n",
      "229/242 [===========================>..] - ETA: 0s - loss: 0.2405 - acc: 0.9215\n",
      "Epoch 4: val_loss did not improve from 0.25606\n",
      "242/242 [==============================] - 1s 3ms/step - loss: 0.2381 - acc: 0.9224 - val_loss: 0.2637 - val_acc: 0.9233\n",
      "Epoch 5/100\n",
      "230/242 [===========================>..] - ETA: 0s - loss: 0.2282 - acc: 0.9238\n",
      "Epoch 5: val_loss did not improve from 0.25606\n",
      "242/242 [==============================] - 1s 3ms/step - loss: 0.2291 - acc: 0.9234 - val_loss: 0.2609 - val_acc: 0.9205\n",
      "Epoch 6/100\n",
      "226/242 [===========================>..] - ETA: 0s - loss: 0.2194 - acc: 0.9259\n",
      "Epoch 6: val_loss did not improve from 0.25606\n",
      "242/242 [==============================] - 1s 3ms/step - loss: 0.2183 - acc: 0.9263 - val_loss: 0.2709 - val_acc: 0.9214\n",
      "Epoch 7/100\n",
      "237/242 [============================>.] - ETA: 0s - loss: 0.2001 - acc: 0.9304\n",
      "Epoch 7: val_loss did not improve from 0.25606\n",
      "242/242 [==============================] - 1s 3ms/step - loss: 0.2007 - acc: 0.9301 - val_loss: 0.2676 - val_acc: 0.9214\n",
      "138/138 [==============================] - 0s 980us/step\n",
      "0.737881467609932 0.2297829112691309 0.9192010894235134 0.0\n"
     ]
    },
    {
     "name": "stderr",
     "output_type": "stream",
     "text": [
      "2023-11-23 15:32:23.199516: I tensorflow/core/common_runtime/gpu/gpu_device.cc:1886] Created device /job:localhost/replica:0/task:0/device:GPU:0 with 14529 MB memory:  -> device: 0, name: Quadro RTX 5000, pci bus id: 0000:2b:00.0, compute capability: 7.5\n",
      "2023-11-23 15:32:23.209748: I tensorflow/core/common_runtime/gpu/gpu_device.cc:1886] Created device /job:localhost/replica:0/task:0/device:GPU:0 with 14529 MB memory:  -> device: 0, name: Quadro RTX 5000, pci bus id: 0000:2b:00.0, compute capability: 7.5\n"
     ]
    },
    {
     "name": "stdout",
     "output_type": "stream",
     "text": [
      "Embedding:  concat2\n",
      "=============================\n",
      "Iteration number:  1\n",
      "Problem type:  mort_hosp\n",
      "__________________\n",
      "Epoch 1/100\n",
      "236/242 [============================>.] - ETA: 0s - loss: 0.2796 - acc: 0.9059\n",
      "Epoch 1: val_loss improved from inf to 0.24011, saving model to ../results/multimodal-baseline/best_models/avg-concat2-mort_hosp-best_model.hdf5\n",
      "242/242 [==============================] - 2s 4ms/step - loss: 0.2794 - acc: 0.9062 - val_loss: 0.2401 - val_acc: 0.9151\n",
      "Epoch 2/100\n",
      " 51/242 [=====>........................] - ETA: 0s - loss: 0.2380 - acc: 0.9170"
     ]
    },
    {
     "name": "stderr",
     "output_type": "stream",
     "text": [
      "/data/apps/miniforge3/envs/cse6250-project/lib/python3.9/site-packages/keras/src/engine/training.py:3079: UserWarning: You are saving your model as an HDF5 file via `model.save()`. This file format is considered legacy. We recommend using instead the native Keras format, e.g. `model.save('my_model.keras')`.\n",
      "  saving_api.save_model(\n"
     ]
    },
    {
     "name": "stdout",
     "output_type": "stream",
     "text": [
      "235/242 [============================>.] - ETA: 0s - loss: 0.2410 - acc: 0.9151\n",
      "Epoch 2: val_loss improved from 0.24011 to 0.22864, saving model to ../results/multimodal-baseline/best_models/avg-concat2-mort_hosp-best_model.hdf5\n",
      "242/242 [==============================] - 1s 3ms/step - loss: 0.2402 - acc: 0.9156 - val_loss: 0.2286 - val_acc: 0.9178\n",
      "Epoch 3/100\n",
      "238/242 [============================>.] - ETA: 0s - loss: 0.2251 - acc: 0.9179\n",
      "Epoch 3: val_loss improved from 0.22864 to 0.22851, saving model to ../results/multimodal-baseline/best_models/avg-concat2-mort_hosp-best_model.hdf5\n",
      "242/242 [==============================] - 1s 3ms/step - loss: 0.2250 - acc: 0.9181 - val_loss: 0.2285 - val_acc: 0.9142\n",
      "Epoch 4/100\n",
      "228/242 [===========================>..] - ETA: 0s - loss: 0.2127 - acc: 0.9210\n",
      "Epoch 4: val_loss did not improve from 0.22851\n",
      "242/242 [==============================] - 1s 3ms/step - loss: 0.2130 - acc: 0.9209 - val_loss: 0.2297 - val_acc: 0.9173\n",
      "Epoch 5/100\n",
      "241/242 [============================>.] - ETA: 0s - loss: 0.1994 - acc: 0.9261\n",
      "Epoch 5: val_loss did not improve from 0.22851\n",
      "242/242 [==============================] - 1s 3ms/step - loss: 0.1996 - acc: 0.9261 - val_loss: 0.2351 - val_acc: 0.9155\n",
      "Epoch 6/100\n",
      "230/242 [===========================>..] - ETA: 0s - loss: 0.1850 - acc: 0.9319\n",
      "Epoch 6: val_loss did not improve from 0.22851\n",
      "242/242 [==============================] - 1s 4ms/step - loss: 0.1864 - acc: 0.9316 - val_loss: 0.2378 - val_acc: 0.9128\n",
      "Epoch 7/100\n",
      "231/242 [===========================>..] - ETA: 0s - loss: 0.1651 - acc: 0.9405\n",
      "Epoch 7: val_loss did not improve from 0.22851\n",
      "242/242 [==============================] - 1s 4ms/step - loss: 0.1652 - acc: 0.9404 - val_loss: 0.2452 - val_acc: 0.9124\n",
      "Epoch 8/100\n",
      "237/242 [============================>.] - ETA: 0s - loss: 0.1452 - acc: 0.9475\n",
      "Epoch 8: val_loss did not improve from 0.22851\n",
      "242/242 [==============================] - 1s 3ms/step - loss: 0.1450 - acc: 0.9476 - val_loss: 0.2959 - val_acc: 0.9028\n",
      "138/138 [==============================] - 0s 971us/step\n",
      "0.8771715283302635 0.5709519670231068 0.9164775306400363 0.437308868501529\n"
     ]
    },
    {
     "name": "stderr",
     "output_type": "stream",
     "text": [
      "2023-11-23 15:32:33.791338: I tensorflow/core/common_runtime/gpu/gpu_device.cc:1886] Created device /job:localhost/replica:0/task:0/device:GPU:0 with 14529 MB memory:  -> device: 0, name: Quadro RTX 5000, pci bus id: 0000:2b:00.0, compute capability: 7.5\n",
      "2023-11-23 15:32:33.800502: I tensorflow/core/common_runtime/gpu/gpu_device.cc:1886] Created device /job:localhost/replica:0/task:0/device:GPU:0 with 14529 MB memory:  -> device: 0, name: Quadro RTX 5000, pci bus id: 0000:2b:00.0, compute capability: 7.5\n"
     ]
    },
    {
     "name": "stdout",
     "output_type": "stream",
     "text": [
      "Problem type:  mort_icu\n",
      "__________________\n",
      "Epoch 1/100\n",
      "237/242 [============================>.] - ETA: 0s - loss: 0.2124 - acc: 0.9360\n",
      "Epoch 1: val_loss improved from inf to 0.18165, saving model to ../results/multimodal-baseline/best_models/avg-concat2-mort_icu-best_model.hdf5\n",
      "242/242 [==============================] - 2s 4ms/step - loss: 0.2132 - acc: 0.9355 - val_loss: 0.1816 - val_acc: 0.9428\n",
      "Epoch 2/100\n",
      " 62/242 [======>.......................] - ETA: 0s - loss: 0.1635 - acc: 0.9448"
     ]
    },
    {
     "name": "stderr",
     "output_type": "stream",
     "text": [
      "/data/apps/miniforge3/envs/cse6250-project/lib/python3.9/site-packages/keras/src/engine/training.py:3079: UserWarning: You are saving your model as an HDF5 file via `model.save()`. This file format is considered legacy. We recommend using instead the native Keras format, e.g. `model.save('my_model.keras')`.\n",
      "  saving_api.save_model(\n"
     ]
    },
    {
     "name": "stdout",
     "output_type": "stream",
     "text": [
      "235/242 [============================>.] - ETA: 0s - loss: 0.1742 - acc: 0.9433\n",
      "Epoch 2: val_loss improved from 0.18165 to 0.16567, saving model to ../results/multimodal-baseline/best_models/avg-concat2-mort_icu-best_model.hdf5\n",
      "242/242 [==============================] - 1s 3ms/step - loss: 0.1740 - acc: 0.9434 - val_loss: 0.1657 - val_acc: 0.9455\n",
      "Epoch 3/100\n",
      "240/242 [============================>.] - ETA: 0s - loss: 0.1613 - acc: 0.9467\n",
      "Epoch 3: val_loss improved from 0.16567 to 0.16558, saving model to ../results/multimodal-baseline/best_models/avg-concat2-mort_icu-best_model.hdf5\n",
      "242/242 [==============================] - 1s 4ms/step - loss: 0.1614 - acc: 0.9466 - val_loss: 0.1656 - val_acc: 0.9428\n",
      "Epoch 4/100\n",
      "241/242 [============================>.] - ETA: 0s - loss: 0.1505 - acc: 0.9479\n",
      "Epoch 4: val_loss did not improve from 0.16558\n",
      "242/242 [==============================] - 1s 4ms/step - loss: 0.1502 - acc: 0.9480 - val_loss: 0.1676 - val_acc: 0.9441\n",
      "Epoch 5/100\n",
      "231/242 [===========================>..] - ETA: 0s - loss: 0.1376 - acc: 0.9543\n",
      "Epoch 5: val_loss did not improve from 0.16558\n",
      "242/242 [==============================] - 1s 3ms/step - loss: 0.1392 - acc: 0.9535 - val_loss: 0.1704 - val_acc: 0.9432\n",
      "Epoch 6/100\n",
      "242/242 [==============================] - ETA: 0s - loss: 0.1245 - acc: 0.9565\n",
      "Epoch 6: val_loss did not improve from 0.16558\n",
      "242/242 [==============================] - 1s 4ms/step - loss: 0.1245 - acc: 0.9565 - val_loss: 0.1755 - val_acc: 0.9396\n",
      "Epoch 7/100\n",
      "228/242 [===========================>..] - ETA: 0s - loss: 0.1075 - acc: 0.9622\n",
      "Epoch 7: val_loss did not improve from 0.16558\n",
      "242/242 [==============================] - 1s 3ms/step - loss: 0.1088 - acc: 0.9624 - val_loss: 0.1833 - val_acc: 0.9360\n",
      "Epoch 8/100\n",
      "232/242 [===========================>..] - ETA: 0s - loss: 0.0905 - acc: 0.9698\n",
      "Epoch 8: val_loss did not improve from 0.16558\n",
      "242/242 [==============================] - 1s 3ms/step - loss: 0.0899 - acc: 0.9697 - val_loss: 0.2040 - val_acc: 0.9328\n",
      "138/138 [==============================] - 0s 967us/step\n",
      "0.88989849662054 0.5305998628702292 0.9434861552428506 0.4404494382022472\n"
     ]
    },
    {
     "name": "stderr",
     "output_type": "stream",
     "text": [
      "2023-11-23 15:32:43.906378: I tensorflow/core/common_runtime/gpu/gpu_device.cc:1886] Created device /job:localhost/replica:0/task:0/device:GPU:0 with 14529 MB memory:  -> device: 0, name: Quadro RTX 5000, pci bus id: 0000:2b:00.0, compute capability: 7.5\n",
      "2023-11-23 15:32:43.915824: I tensorflow/core/common_runtime/gpu/gpu_device.cc:1886] Created device /job:localhost/replica:0/task:0/device:GPU:0 with 14529 MB memory:  -> device: 0, name: Quadro RTX 5000, pci bus id: 0000:2b:00.0, compute capability: 7.5\n"
     ]
    },
    {
     "name": "stdout",
     "output_type": "stream",
     "text": [
      "Problem type:  los_3\n",
      "__________________\n",
      "Epoch 1/100\n",
      "233/242 [===========================>..] - ETA: 0s - loss: 0.6754 - acc: 0.6248\n",
      "Epoch 1: val_loss improved from inf to 0.63123, saving model to ../results/multimodal-baseline/best_models/avg-concat2-los_3-best_model.hdf5\n",
      "242/242 [==============================] - 2s 5ms/step - loss: 0.6735 - acc: 0.6262 - val_loss: 0.6312 - val_acc: 0.6617\n",
      "Epoch 2/100\n",
      " 53/242 [=====>........................] - ETA: 0s - loss: 0.6275 - acc: 0.6680"
     ]
    },
    {
     "name": "stderr",
     "output_type": "stream",
     "text": [
      "/data/apps/miniforge3/envs/cse6250-project/lib/python3.9/site-packages/keras/src/engine/training.py:3079: UserWarning: You are saving your model as an HDF5 file via `model.save()`. This file format is considered legacy. We recommend using instead the native Keras format, e.g. `model.save('my_model.keras')`.\n",
      "  saving_api.save_model(\n"
     ]
    },
    {
     "name": "stdout",
     "output_type": "stream",
     "text": [
      "242/242 [==============================] - ETA: 0s - loss: 0.6302 - acc: 0.6624\n",
      "Epoch 2: val_loss improved from 0.63123 to 0.62055, saving model to ../results/multimodal-baseline/best_models/avg-concat2-los_3-best_model.hdf5\n",
      "242/242 [==============================] - 1s 4ms/step - loss: 0.6302 - acc: 0.6624 - val_loss: 0.6206 - val_acc: 0.6626\n",
      "Epoch 3/100\n",
      "235/242 [============================>.] - ETA: 0s - loss: 0.6133 - acc: 0.6743\n",
      "Epoch 3: val_loss improved from 0.62055 to 0.61686, saving model to ../results/multimodal-baseline/best_models/avg-concat2-los_3-best_model.hdf5\n",
      "242/242 [==============================] - 1s 3ms/step - loss: 0.6134 - acc: 0.6741 - val_loss: 0.6169 - val_acc: 0.6680\n",
      "Epoch 4/100\n",
      "227/242 [===========================>..] - ETA: 0s - loss: 0.6024 - acc: 0.6892\n",
      "Epoch 4: val_loss improved from 0.61686 to 0.61223, saving model to ../results/multimodal-baseline/best_models/avg-concat2-los_3-best_model.hdf5\n",
      "242/242 [==============================] - 1s 3ms/step - loss: 0.6008 - acc: 0.6906 - val_loss: 0.6122 - val_acc: 0.6717\n",
      "Epoch 5/100\n",
      "232/242 [===========================>..] - ETA: 0s - loss: 0.5840 - acc: 0.7010\n",
      "Epoch 5: val_loss did not improve from 0.61223\n",
      "242/242 [==============================] - 1s 4ms/step - loss: 0.5847 - acc: 0.7003 - val_loss: 0.6211 - val_acc: 0.6658\n",
      "Epoch 6/100\n",
      "230/242 [===========================>..] - ETA: 0s - loss: 0.5682 - acc: 0.7096\n",
      "Epoch 6: val_loss did not improve from 0.61223\n",
      "242/242 [==============================] - 1s 4ms/step - loss: 0.5690 - acc: 0.7089 - val_loss: 0.6193 - val_acc: 0.6626\n",
      "Epoch 7/100\n",
      "232/242 [===========================>..] - ETA: 0s - loss: 0.5450 - acc: 0.7310\n",
      "Epoch 7: val_loss did not improve from 0.61223\n",
      "242/242 [==============================] - 1s 3ms/step - loss: 0.5465 - acc: 0.7297 - val_loss: 0.6480 - val_acc: 0.6453\n",
      "Epoch 8/100\n",
      "235/242 [============================>.] - ETA: 0s - loss: 0.5177 - acc: 0.7505\n",
      "Epoch 8: val_loss did not improve from 0.61223\n",
      "242/242 [==============================] - 1s 4ms/step - loss: 0.5189 - acc: 0.7493 - val_loss: 0.6568 - val_acc: 0.6440\n",
      "Epoch 9/100\n",
      "239/242 [============================>.] - ETA: 0s - loss: 0.4844 - acc: 0.7720\n",
      "Epoch 9: val_loss did not improve from 0.61223\n",
      "242/242 [==============================] - 1s 3ms/step - loss: 0.4843 - acc: 0.7716 - val_loss: 0.7263 - val_acc: 0.6371\n",
      "138/138 [==============================] - 0s 950us/step\n",
      "0.7109989648033126 0.649688064983508 0.6670449387199274 0.5771115595272414\n"
     ]
    },
    {
     "name": "stderr",
     "output_type": "stream",
     "text": [
      "2023-11-23 15:32:54.604347: I tensorflow/core/common_runtime/gpu/gpu_device.cc:1886] Created device /job:localhost/replica:0/task:0/device:GPU:0 with 14529 MB memory:  -> device: 0, name: Quadro RTX 5000, pci bus id: 0000:2b:00.0, compute capability: 7.5\n",
      "2023-11-23 15:32:54.614368: I tensorflow/core/common_runtime/gpu/gpu_device.cc:1886] Created device /job:localhost/replica:0/task:0/device:GPU:0 with 14529 MB memory:  -> device: 0, name: Quadro RTX 5000, pci bus id: 0000:2b:00.0, compute capability: 7.5\n"
     ]
    },
    {
     "name": "stdout",
     "output_type": "stream",
     "text": [
      "Problem type:  los_7\n",
      "__________________\n",
      "Epoch 1/100\n",
      "232/242 [===========================>..] - ETA: 0s - loss: 0.2852 - acc: 0.9197\n",
      "Epoch 1: val_loss improved from inf to 0.27042, saving model to ../results/multimodal-baseline/best_models/avg-concat2-los_7-best_model.hdf5\n",
      "242/242 [==============================] - 2s 4ms/step - loss: 0.2855 - acc: 0.9192 - val_loss: 0.2704 - val_acc: 0.9233\n",
      "Epoch 2/100\n",
      " 52/242 [=====>........................] - ETA: 0s - loss: 0.2546 - acc: 0.9195"
     ]
    },
    {
     "name": "stderr",
     "output_type": "stream",
     "text": [
      "/data/apps/miniforge3/envs/cse6250-project/lib/python3.9/site-packages/keras/src/engine/training.py:3079: UserWarning: You are saving your model as an HDF5 file via `model.save()`. This file format is considered legacy. We recommend using instead the native Keras format, e.g. `model.save('my_model.keras')`.\n",
      "  saving_api.save_model(\n"
     ]
    },
    {
     "name": "stdout",
     "output_type": "stream",
     "text": [
      "230/242 [===========================>..] - ETA: 0s - loss: 0.2532 - acc: 0.9212\n",
      "Epoch 2: val_loss improved from 0.27042 to 0.25950, saving model to ../results/multimodal-baseline/best_models/avg-concat2-los_7-best_model.hdf5\n",
      "242/242 [==============================] - 1s 4ms/step - loss: 0.2527 - acc: 0.9215 - val_loss: 0.2595 - val_acc: 0.9233\n",
      "Epoch 3/100\n",
      "237/242 [============================>.] - ETA: 0s - loss: 0.2446 - acc: 0.9226\n",
      "Epoch 3: val_loss improved from 0.25950 to 0.25585, saving model to ../results/multimodal-baseline/best_models/avg-concat2-los_7-best_model.hdf5\n",
      "242/242 [==============================] - 1s 3ms/step - loss: 0.2449 - acc: 0.9226 - val_loss: 0.2559 - val_acc: 0.9228\n",
      "Epoch 4/100\n",
      "236/242 [============================>.] - ETA: 0s - loss: 0.2347 - acc: 0.9226\n",
      "Epoch 4: val_loss did not improve from 0.25585\n",
      "242/242 [==============================] - 1s 4ms/step - loss: 0.2349 - acc: 0.9226 - val_loss: 0.2573 - val_acc: 0.9233\n",
      "Epoch 5/100\n",
      "229/242 [===========================>..] - ETA: 0s - loss: 0.2270 - acc: 0.9231\n",
      "Epoch 5: val_loss did not improve from 0.25585\n",
      "242/242 [==============================] - 1s 3ms/step - loss: 0.2264 - acc: 0.9234 - val_loss: 0.2614 - val_acc: 0.9219\n",
      "Epoch 6/100\n",
      "224/242 [==========================>...] - ETA: 0s - loss: 0.2155 - acc: 0.9242\n",
      "Epoch 6: val_loss did not improve from 0.25585\n",
      "242/242 [==============================] - 1s 3ms/step - loss: 0.2160 - acc: 0.9241 - val_loss: 0.2612 - val_acc: 0.9205\n",
      "Epoch 7/100\n",
      "238/242 [============================>.] - ETA: 0s - loss: 0.2014 - acc: 0.9307\n",
      "Epoch 7: val_loss did not improve from 0.25585\n",
      "242/242 [==============================] - 1s 3ms/step - loss: 0.2011 - acc: 0.9308 - val_loss: 0.2723 - val_acc: 0.9173\n",
      "Epoch 8/100\n",
      "231/242 [===========================>..] - ETA: 0s - loss: 0.1779 - acc: 0.9376\n",
      "Epoch 8: val_loss did not improve from 0.25585\n",
      "242/242 [==============================] - 1s 4ms/step - loss: 0.1785 - acc: 0.9374 - val_loss: 0.2928 - val_acc: 0.9137\n",
      "138/138 [==============================] - 0s 1ms/step\n",
      "0.7408676654182274 0.2115286151519664 0.9189741261915569 0.04289544235924933\n"
     ]
    },
    {
     "name": "stderr",
     "output_type": "stream",
     "text": [
      "2023-11-23 15:33:04.612419: I tensorflow/core/common_runtime/gpu/gpu_device.cc:1886] Created device /job:localhost/replica:0/task:0/device:GPU:0 with 14529 MB memory:  -> device: 0, name: Quadro RTX 5000, pci bus id: 0000:2b:00.0, compute capability: 7.5\n",
      "2023-11-23 15:33:04.621928: I tensorflow/core/common_runtime/gpu/gpu_device.cc:1886] Created device /job:localhost/replica:0/task:0/device:GPU:0 with 14529 MB memory:  -> device: 0, name: Quadro RTX 5000, pci bus id: 0000:2b:00.0, compute capability: 7.5\n"
     ]
    },
    {
     "name": "stdout",
     "output_type": "stream",
     "text": [
      "Hidden unit:  256\n",
      "Embedding:  fasttext2\n",
      "=============================\n",
      "Iteration number:  1\n",
      "Problem type:  mort_hosp\n",
      "__________________\n",
      "Epoch 1/100\n",
      "225/242 [==========================>...] - ETA: 0s - loss: 0.2774 - acc: 0.9040\n",
      "Epoch 1: val_loss improved from inf to 0.24287, saving model to ../results/multimodal-baseline/best_models/avg-fasttext2-mort_hosp-best_model.hdf5\n",
      "242/242 [==============================] - 2s 4ms/step - loss: 0.2763 - acc: 0.9044 - val_loss: 0.2429 - val_acc: 0.9142\n",
      "Epoch 2/100\n",
      " 55/242 [=====>........................] - ETA: 0s - loss: 0.2376 - acc: 0.9139"
     ]
    },
    {
     "name": "stderr",
     "output_type": "stream",
     "text": [
      "/data/apps/miniforge3/envs/cse6250-project/lib/python3.9/site-packages/keras/src/engine/training.py:3079: UserWarning: You are saving your model as an HDF5 file via `model.save()`. This file format is considered legacy. We recommend using instead the native Keras format, e.g. `model.save('my_model.keras')`.\n",
      "  saving_api.save_model(\n"
     ]
    },
    {
     "name": "stdout",
     "output_type": "stream",
     "text": [
      "242/242 [==============================] - ETA: 0s - loss: 0.2376 - acc: 0.9155\n",
      "Epoch 2: val_loss improved from 0.24287 to 0.23197, saving model to ../results/multimodal-baseline/best_models/avg-fasttext2-mort_hosp-best_model.hdf5\n",
      "242/242 [==============================] - 1s 4ms/step - loss: 0.2376 - acc: 0.9155 - val_loss: 0.2320 - val_acc: 0.9173\n",
      "Epoch 3/100\n",
      "239/242 [============================>.] - ETA: 0s - loss: 0.2250 - acc: 0.9185\n",
      "Epoch 3: val_loss did not improve from 0.23197\n",
      "242/242 [==============================] - 1s 3ms/step - loss: 0.2246 - acc: 0.9185 - val_loss: 0.2382 - val_acc: 0.9146\n",
      "Epoch 4/100\n",
      "229/242 [===========================>..] - ETA: 0s - loss: 0.2108 - acc: 0.9229\n",
      "Epoch 4: val_loss improved from 0.23197 to 0.22592, saving model to ../results/multimodal-baseline/best_models/avg-fasttext2-mort_hosp-best_model.hdf5\n",
      "242/242 [==============================] - 1s 3ms/step - loss: 0.2120 - acc: 0.9223 - val_loss: 0.2259 - val_acc: 0.9178\n",
      "Epoch 5/100\n",
      "234/242 [============================>.] - ETA: 0s - loss: 0.1980 - acc: 0.9276\n",
      "Epoch 5: val_loss did not improve from 0.22592\n",
      "242/242 [==============================] - 1s 3ms/step - loss: 0.1980 - acc: 0.9276 - val_loss: 0.2440 - val_acc: 0.9074\n",
      "Epoch 6/100\n",
      "232/242 [===========================>..] - ETA: 0s - loss: 0.1818 - acc: 0.9335\n",
      "Epoch 6: val_loss did not improve from 0.22592\n",
      "242/242 [==============================] - 1s 3ms/step - loss: 0.1815 - acc: 0.9336 - val_loss: 0.2475 - val_acc: 0.9092\n",
      "Epoch 7/100\n",
      "231/242 [===========================>..] - ETA: 0s - loss: 0.1563 - acc: 0.9430\n",
      "Epoch 7: val_loss did not improve from 0.22592\n",
      "242/242 [==============================] - 1s 4ms/step - loss: 0.1571 - acc: 0.9428 - val_loss: 0.2729 - val_acc: 0.9074\n",
      "Epoch 8/100\n",
      "234/242 [============================>.] - ETA: 0s - loss: 0.1319 - acc: 0.9526\n",
      "Epoch 8: val_loss did not improve from 0.22592\n",
      "242/242 [==============================] - 1s 4ms/step - loss: 0.1317 - acc: 0.9526 - val_loss: 0.2810 - val_acc: 0.9060\n",
      "Epoch 9/100\n",
      "237/242 [============================>.] - ETA: 0s - loss: 0.1019 - acc: 0.9644\n",
      "Epoch 9: val_loss did not improve from 0.22592\n",
      "242/242 [==============================] - 1s 4ms/step - loss: 0.1011 - acc: 0.9647 - val_loss: 0.3289 - val_acc: 0.9010\n",
      "138/138 [==============================] - 0s 1ms/step\n",
      "0.8728437712738965 0.5667276179500579 0.9135270086246028 0.40930232558139534\n"
     ]
    },
    {
     "name": "stderr",
     "output_type": "stream",
     "text": [
      "2023-11-23 15:33:16.066062: I tensorflow/core/common_runtime/gpu/gpu_device.cc:1886] Created device /job:localhost/replica:0/task:0/device:GPU:0 with 14529 MB memory:  -> device: 0, name: Quadro RTX 5000, pci bus id: 0000:2b:00.0, compute capability: 7.5\n",
      "2023-11-23 15:33:16.075955: I tensorflow/core/common_runtime/gpu/gpu_device.cc:1886] Created device /job:localhost/replica:0/task:0/device:GPU:0 with 14529 MB memory:  -> device: 0, name: Quadro RTX 5000, pci bus id: 0000:2b:00.0, compute capability: 7.5\n"
     ]
    },
    {
     "name": "stdout",
     "output_type": "stream",
     "text": [
      "Problem type:  mort_icu\n",
      "__________________\n",
      "Epoch 1/100\n",
      "232/242 [===========================>..] - ETA: 0s - loss: 0.2086 - acc: 0.9346\n",
      "Epoch 1: val_loss improved from inf to 0.17441, saving model to ../results/multimodal-baseline/best_models/avg-fasttext2-mort_icu-best_model.hdf5\n",
      "242/242 [==============================] - 2s 5ms/step - loss: 0.2078 - acc: 0.9342 - val_loss: 0.1744 - val_acc: 0.9428\n",
      "Epoch 2/100\n",
      " 55/242 [=====>........................] - ETA: 0s - loss: 0.1627 - acc: 0.9483"
     ]
    },
    {
     "name": "stderr",
     "output_type": "stream",
     "text": [
      "/data/apps/miniforge3/envs/cse6250-project/lib/python3.9/site-packages/keras/src/engine/training.py:3079: UserWarning: You are saving your model as an HDF5 file via `model.save()`. This file format is considered legacy. We recommend using instead the native Keras format, e.g. `model.save('my_model.keras')`.\n",
      "  saving_api.save_model(\n"
     ]
    },
    {
     "name": "stdout",
     "output_type": "stream",
     "text": [
      "234/242 [============================>.] - ETA: 0s - loss: 0.1716 - acc: 0.9423\n",
      "Epoch 2: val_loss improved from 0.17441 to 0.17049, saving model to ../results/multimodal-baseline/best_models/avg-fasttext2-mort_icu-best_model.hdf5\n",
      "242/242 [==============================] - 1s 3ms/step - loss: 0.1719 - acc: 0.9425 - val_loss: 0.1705 - val_acc: 0.9423\n",
      "Epoch 3/100\n",
      "234/242 [============================>.] - ETA: 0s - loss: 0.1611 - acc: 0.9450\n",
      "Epoch 3: val_loss did not improve from 0.17049\n",
      "242/242 [==============================] - 1s 4ms/step - loss: 0.1612 - acc: 0.9450 - val_loss: 0.1709 - val_acc: 0.9428\n",
      "Epoch 4/100\n",
      "238/242 [============================>.] - ETA: 0s - loss: 0.1494 - acc: 0.9471\n",
      "Epoch 4: val_loss did not improve from 0.17049\n",
      "242/242 [==============================] - 1s 4ms/step - loss: 0.1501 - acc: 0.9469 - val_loss: 0.1705 - val_acc: 0.9428\n",
      "Epoch 5/100\n",
      "229/242 [===========================>..] - ETA: 0s - loss: 0.1374 - acc: 0.9534\n",
      "Epoch 5: val_loss improved from 0.17049 to 0.16837, saving model to ../results/multimodal-baseline/best_models/avg-fasttext2-mort_icu-best_model.hdf5\n",
      "242/242 [==============================] - 1s 3ms/step - loss: 0.1381 - acc: 0.9530 - val_loss: 0.1684 - val_acc: 0.9437\n",
      "Epoch 6/100\n",
      "234/242 [============================>.] - ETA: 0s - loss: 0.1241 - acc: 0.9570\n",
      "Epoch 6: val_loss did not improve from 0.16837\n",
      "242/242 [==============================] - 1s 4ms/step - loss: 0.1232 - acc: 0.9574 - val_loss: 0.1781 - val_acc: 0.9414\n",
      "Epoch 7/100\n",
      "229/242 [===========================>..] - ETA: 0s - loss: 0.1055 - acc: 0.9621\n",
      "Epoch 7: val_loss did not improve from 0.16837\n",
      "242/242 [==============================] - 1s 3ms/step - loss: 0.1064 - acc: 0.9620 - val_loss: 0.1853 - val_acc: 0.9405\n",
      "Epoch 8/100\n",
      "235/242 [============================>.] - ETA: 0s - loss: 0.0829 - acc: 0.9725\n",
      "Epoch 8: val_loss did not improve from 0.16837\n",
      "242/242 [==============================] - 1s 4ms/step - loss: 0.0833 - acc: 0.9724 - val_loss: 0.2135 - val_acc: 0.9337\n",
      "Epoch 9/100\n",
      "237/242 [============================>.] - ETA: 0s - loss: 0.0666 - acc: 0.9778\n",
      "Epoch 9: val_loss did not improve from 0.16837\n",
      "242/242 [==============================] - 1s 3ms/step - loss: 0.0671 - acc: 0.9777 - val_loss: 0.2088 - val_acc: 0.9337\n",
      "Epoch 10/100\n",
      "227/242 [===========================>..] - ETA: 0s - loss: 0.0416 - acc: 0.9866\n",
      "Epoch 10: val_loss did not improve from 0.16837\n",
      "242/242 [==============================] - 1s 3ms/step - loss: 0.0416 - acc: 0.9866 - val_loss: 0.2890 - val_acc: 0.9328\n",
      "138/138 [==============================] - 0s 988us/step\n",
      "0.8799232842133199 0.5091305680468278 0.9412165229232864 0.438177874186551\n"
     ]
    },
    {
     "name": "stderr",
     "output_type": "stream",
     "text": [
      "2023-11-23 15:33:27.986777: I tensorflow/core/common_runtime/gpu/gpu_device.cc:1886] Created device /job:localhost/replica:0/task:0/device:GPU:0 with 14529 MB memory:  -> device: 0, name: Quadro RTX 5000, pci bus id: 0000:2b:00.0, compute capability: 7.5\n",
      "2023-11-23 15:33:27.997374: I tensorflow/core/common_runtime/gpu/gpu_device.cc:1886] Created device /job:localhost/replica:0/task:0/device:GPU:0 with 14529 MB memory:  -> device: 0, name: Quadro RTX 5000, pci bus id: 0000:2b:00.0, compute capability: 7.5\n"
     ]
    },
    {
     "name": "stdout",
     "output_type": "stream",
     "text": [
      "Problem type:  los_3\n",
      "__________________\n",
      "Epoch 1/100\n",
      "236/242 [============================>.] - ETA: 0s - loss: 0.6547 - acc: 0.6396\n",
      "Epoch 1: val_loss improved from inf to 0.63012, saving model to ../results/multimodal-baseline/best_models/avg-fasttext2-los_3-best_model.hdf5\n",
      "242/242 [==============================] - 2s 5ms/step - loss: 0.6542 - acc: 0.6401 - val_loss: 0.6301 - val_acc: 0.6626\n",
      "Epoch 2/100\n",
      " 52/242 [=====>........................] - ETA: 0s - loss: 0.6209 - acc: 0.6635"
     ]
    },
    {
     "name": "stderr",
     "output_type": "stream",
     "text": [
      "/data/apps/miniforge3/envs/cse6250-project/lib/python3.9/site-packages/keras/src/engine/training.py:3079: UserWarning: You are saving your model as an HDF5 file via `model.save()`. This file format is considered legacy. We recommend using instead the native Keras format, e.g. `model.save('my_model.keras')`.\n",
      "  saving_api.save_model(\n"
     ]
    },
    {
     "name": "stdout",
     "output_type": "stream",
     "text": [
      "240/242 [============================>.] - ETA: 0s - loss: 0.6233 - acc: 0.6663\n",
      "Epoch 2: val_loss improved from 0.63012 to 0.61793, saving model to ../results/multimodal-baseline/best_models/avg-fasttext2-los_3-best_model.hdf5\n",
      "242/242 [==============================] - 1s 4ms/step - loss: 0.6237 - acc: 0.6659 - val_loss: 0.6179 - val_acc: 0.6708\n",
      "Epoch 3/100\n",
      "230/242 [===========================>..] - ETA: 0s - loss: 0.6095 - acc: 0.6817\n",
      "Epoch 3: val_loss did not improve from 0.61793\n",
      "242/242 [==============================] - 1s 3ms/step - loss: 0.6100 - acc: 0.6821 - val_loss: 0.6284 - val_acc: 0.6553\n",
      "Epoch 4/100\n",
      "238/242 [============================>.] - ETA: 0s - loss: 0.6013 - acc: 0.6881\n",
      "Epoch 4: val_loss improved from 0.61793 to 0.61155, saving model to ../results/multimodal-baseline/best_models/avg-fasttext2-los_3-best_model.hdf5\n",
      "242/242 [==============================] - 1s 4ms/step - loss: 0.6010 - acc: 0.6886 - val_loss: 0.6115 - val_acc: 0.6712\n",
      "Epoch 5/100\n",
      "239/242 [============================>.] - ETA: 0s - loss: 0.5867 - acc: 0.6995\n",
      "Epoch 5: val_loss improved from 0.61155 to 0.60844, saving model to ../results/multimodal-baseline/best_models/avg-fasttext2-los_3-best_model.hdf5\n",
      "242/242 [==============================] - 1s 4ms/step - loss: 0.5872 - acc: 0.6988 - val_loss: 0.6084 - val_acc: 0.6735\n",
      "Epoch 6/100\n",
      "237/242 [============================>.] - ETA: 0s - loss: 0.5667 - acc: 0.7148\n",
      "Epoch 6: val_loss did not improve from 0.60844\n",
      "242/242 [==============================] - 1s 4ms/step - loss: 0.5676 - acc: 0.7137 - val_loss: 0.6283 - val_acc: 0.6658\n",
      "Epoch 7/100\n",
      "231/242 [===========================>..] - ETA: 0s - loss: 0.5396 - acc: 0.7371\n",
      "Epoch 7: val_loss did not improve from 0.60844\n",
      "242/242 [==============================] - 1s 4ms/step - loss: 0.5403 - acc: 0.7368 - val_loss: 0.6268 - val_acc: 0.6739\n",
      "Epoch 8/100\n",
      "225/242 [==========================>...] - ETA: 0s - loss: 0.4979 - acc: 0.7642\n",
      "Epoch 8: val_loss did not improve from 0.60844\n",
      "242/242 [==============================] - 1s 4ms/step - loss: 0.4978 - acc: 0.7643 - val_loss: 0.6725 - val_acc: 0.6562\n",
      "Epoch 9/100\n",
      "232/242 [===========================>..] - ETA: 0s - loss: 0.4392 - acc: 0.8004\n",
      "Epoch 9: val_loss did not improve from 0.60844\n",
      "242/242 [==============================] - 1s 3ms/step - loss: 0.4388 - acc: 0.8008 - val_loss: 0.6988 - val_acc: 0.6412\n",
      "Epoch 10/100\n",
      "240/242 [============================>.] - ETA: 0s - loss: 0.3656 - acc: 0.8395\n",
      "Epoch 10: val_loss did not improve from 0.60844\n",
      "242/242 [==============================] - 1s 4ms/step - loss: 0.3651 - acc: 0.8399 - val_loss: 0.8147 - val_acc: 0.6376\n",
      "138/138 [==============================] - 0s 999us/step\n",
      "0.6942977915804003 0.6312106763062548 0.6629596005447117 0.5457326399510554\n"
     ]
    },
    {
     "name": "stderr",
     "output_type": "stream",
     "text": [
      "2023-11-23 15:33:40.297791: I tensorflow/core/common_runtime/gpu/gpu_device.cc:1886] Created device /job:localhost/replica:0/task:0/device:GPU:0 with 14529 MB memory:  -> device: 0, name: Quadro RTX 5000, pci bus id: 0000:2b:00.0, compute capability: 7.5\n",
      "2023-11-23 15:33:40.308135: I tensorflow/core/common_runtime/gpu/gpu_device.cc:1886] Created device /job:localhost/replica:0/task:0/device:GPU:0 with 14529 MB memory:  -> device: 0, name: Quadro RTX 5000, pci bus id: 0000:2b:00.0, compute capability: 7.5\n"
     ]
    },
    {
     "name": "stdout",
     "output_type": "stream",
     "text": [
      "Problem type:  los_7\n",
      "__________________\n",
      "Epoch 1/100\n",
      "234/242 [============================>.] - ETA: 0s - loss: 0.2780 - acc: 0.9179\n",
      "Epoch 1: val_loss improved from inf to 0.26011, saving model to ../results/multimodal-baseline/best_models/avg-fasttext2-los_7-best_model.hdf5\n",
      "242/242 [==============================] - 2s 5ms/step - loss: 0.2773 - acc: 0.9183 - val_loss: 0.2601 - val_acc: 0.9233\n",
      "Epoch 2/100\n",
      " 49/242 [=====>........................] - ETA: 0s - loss: 0.2545 - acc: 0.9184"
     ]
    },
    {
     "name": "stderr",
     "output_type": "stream",
     "text": [
      "/data/apps/miniforge3/envs/cse6250-project/lib/python3.9/site-packages/keras/src/engine/training.py:3079: UserWarning: You are saving your model as an HDF5 file via `model.save()`. This file format is considered legacy. We recommend using instead the native Keras format, e.g. `model.save('my_model.keras')`.\n",
      "  saving_api.save_model(\n"
     ]
    },
    {
     "name": "stdout",
     "output_type": "stream",
     "text": [
      "234/242 [============================>.] - ETA: 0s - loss: 0.2523 - acc: 0.9215\n",
      "Epoch 2: val_loss improved from 0.26011 to 0.25575, saving model to ../results/multimodal-baseline/best_models/avg-fasttext2-los_7-best_model.hdf5\n",
      "242/242 [==============================] - 1s 4ms/step - loss: 0.2522 - acc: 0.9217 - val_loss: 0.2557 - val_acc: 0.9233\n",
      "Epoch 3/100\n",
      "238/242 [============================>.] - ETA: 0s - loss: 0.2453 - acc: 0.9224\n",
      "Epoch 3: val_loss improved from 0.25575 to 0.25318, saving model to ../results/multimodal-baseline/best_models/avg-fasttext2-los_7-best_model.hdf5\n",
      "242/242 [==============================] - 1s 4ms/step - loss: 0.2458 - acc: 0.9222 - val_loss: 0.2532 - val_acc: 0.9233\n",
      "Epoch 4/100\n",
      "232/242 [===========================>..] - ETA: 0s - loss: 0.2377 - acc: 0.9232\n",
      "Epoch 4: val_loss did not improve from 0.25318\n",
      "242/242 [==============================] - 1s 4ms/step - loss: 0.2379 - acc: 0.9228 - val_loss: 0.2591 - val_acc: 0.9228\n",
      "Epoch 5/100\n",
      "233/242 [===========================>..] - ETA: 0s - loss: 0.2266 - acc: 0.9244\n",
      "Epoch 5: val_loss did not improve from 0.25318\n",
      "242/242 [==============================] - 1s 4ms/step - loss: 0.2287 - acc: 0.9237 - val_loss: 0.2631 - val_acc: 0.9192\n",
      "Epoch 6/100\n",
      "233/242 [===========================>..] - ETA: 0s - loss: 0.2173 - acc: 0.9256\n",
      "Epoch 6: val_loss did not improve from 0.25318\n",
      "242/242 [==============================] - 1s 3ms/step - loss: 0.2173 - acc: 0.9257 - val_loss: 0.2630 - val_acc: 0.9205\n",
      "Epoch 7/100\n",
      "231/242 [===========================>..] - ETA: 0s - loss: 0.1989 - acc: 0.9311\n",
      "Epoch 7: val_loss did not improve from 0.25318\n",
      "242/242 [==============================] - 1s 3ms/step - loss: 0.1973 - acc: 0.9314 - val_loss: 0.2796 - val_acc: 0.9133\n",
      "Epoch 8/100\n",
      "241/242 [============================>.] - ETA: 0s - loss: 0.1708 - acc: 0.9406\n",
      "Epoch 8: val_loss did not improve from 0.25318\n",
      "242/242 [==============================] - 1s 4ms/step - loss: 0.1709 - acc: 0.9406 - val_loss: 0.3082 - val_acc: 0.9064\n",
      "138/138 [==============================] - 0s 1ms/step\n",
      "0.7407657095297544 0.22994606996573805 0.9198819791193826 0.016713091922005572\n"
     ]
    },
    {
     "name": "stderr",
     "output_type": "stream",
     "text": [
      "2023-11-23 15:33:50.833831: I tensorflow/core/common_runtime/gpu/gpu_device.cc:1886] Created device /job:localhost/replica:0/task:0/device:GPU:0 with 14529 MB memory:  -> device: 0, name: Quadro RTX 5000, pci bus id: 0000:2b:00.0, compute capability: 7.5\n",
      "2023-11-23 15:33:50.843529: I tensorflow/core/common_runtime/gpu/gpu_device.cc:1886] Created device /job:localhost/replica:0/task:0/device:GPU:0 with 14529 MB memory:  -> device: 0, name: Quadro RTX 5000, pci bus id: 0000:2b:00.0, compute capability: 7.5\n"
     ]
    },
    {
     "name": "stdout",
     "output_type": "stream",
     "text": [
      "Embedding:  concat2\n",
      "=============================\n",
      "Iteration number:  1\n",
      "Problem type:  mort_hosp\n",
      "__________________\n",
      "Epoch 1/100\n",
      "234/242 [============================>.] - ETA: 0s - loss: 0.2898 - acc: 0.9015\n",
      "Epoch 1: val_loss improved from inf to 0.24187, saving model to ../results/multimodal-baseline/best_models/avg-concat2-mort_hosp-best_model.hdf5\n",
      "242/242 [==============================] - 2s 5ms/step - loss: 0.2893 - acc: 0.9021 - val_loss: 0.2419 - val_acc: 0.9151\n",
      "Epoch 2/100\n",
      " 55/242 [=====>........................] - ETA: 0s - loss: 0.2174 - acc: 0.9239"
     ]
    },
    {
     "name": "stderr",
     "output_type": "stream",
     "text": [
      "/data/apps/miniforge3/envs/cse6250-project/lib/python3.9/site-packages/keras/src/engine/training.py:3079: UserWarning: You are saving your model as an HDF5 file via `model.save()`. This file format is considered legacy. We recommend using instead the native Keras format, e.g. `model.save('my_model.keras')`.\n",
      "  saving_api.save_model(\n"
     ]
    },
    {
     "name": "stdout",
     "output_type": "stream",
     "text": [
      "233/242 [===========================>..] - ETA: 0s - loss: 0.2398 - acc: 0.9142\n",
      "Epoch 2: val_loss improved from 0.24187 to 0.24147, saving model to ../results/multimodal-baseline/best_models/avg-concat2-mort_hosp-best_model.hdf5\n",
      "242/242 [==============================] - 1s 3ms/step - loss: 0.2394 - acc: 0.9144 - val_loss: 0.2415 - val_acc: 0.9151\n",
      "Epoch 3/100\n",
      "242/242 [==============================] - ETA: 0s - loss: 0.2247 - acc: 0.9186\n",
      "Epoch 3: val_loss improved from 0.24147 to 0.23424, saving model to ../results/multimodal-baseline/best_models/avg-concat2-mort_hosp-best_model.hdf5\n",
      "242/242 [==============================] - 1s 4ms/step - loss: 0.2247 - acc: 0.9186 - val_loss: 0.2342 - val_acc: 0.9169\n",
      "Epoch 4/100\n",
      "241/242 [============================>.] - ETA: 0s - loss: 0.2095 - acc: 0.9235\n",
      "Epoch 4: val_loss did not improve from 0.23424\n",
      "242/242 [==============================] - 1s 3ms/step - loss: 0.2095 - acc: 0.9235 - val_loss: 0.2503 - val_acc: 0.9105\n",
      "Epoch 5/100\n",
      "240/242 [============================>.] - ETA: 0s - loss: 0.1959 - acc: 0.9281\n",
      "Epoch 5: val_loss improved from 0.23424 to 0.22821, saving model to ../results/multimodal-baseline/best_models/avg-concat2-mort_hosp-best_model.hdf5\n",
      "242/242 [==============================] - 1s 4ms/step - loss: 0.1975 - acc: 0.9276 - val_loss: 0.2282 - val_acc: 0.9151\n",
      "Epoch 6/100\n",
      "242/242 [==============================] - ETA: 0s - loss: 0.1769 - acc: 0.9352\n",
      "Epoch 6: val_loss did not improve from 0.22821\n",
      "242/242 [==============================] - 1s 4ms/step - loss: 0.1769 - acc: 0.9352 - val_loss: 0.2410 - val_acc: 0.9160\n",
      "Epoch 7/100\n",
      "231/242 [===========================>..] - ETA: 0s - loss: 0.1544 - acc: 0.9440\n",
      "Epoch 7: val_loss did not improve from 0.22821\n",
      "242/242 [==============================] - 1s 3ms/step - loss: 0.1551 - acc: 0.9440 - val_loss: 0.2581 - val_acc: 0.9069\n",
      "Epoch 8/100\n",
      "230/242 [===========================>..] - ETA: 0s - loss: 0.1287 - acc: 0.9546\n",
      "Epoch 8: val_loss did not improve from 0.22821\n",
      "242/242 [==============================] - 1s 3ms/step - loss: 0.1286 - acc: 0.9540 - val_loss: 0.3040 - val_acc: 0.9069\n",
      "Epoch 9/100\n",
      "230/242 [===========================>..] - ETA: 0s - loss: 0.1018 - acc: 0.9648\n",
      "Epoch 9: val_loss did not improve from 0.22821\n",
      "242/242 [==============================] - 1s 4ms/step - loss: 0.1025 - acc: 0.9644 - val_loss: 0.3228 - val_acc: 0.8919\n",
      "Epoch 10/100\n",
      "241/242 [============================>.] - ETA: 0s - loss: 0.0798 - acc: 0.9726\n",
      "Epoch 10: val_loss did not improve from 0.22821\n",
      "242/242 [==============================] - 1s 4ms/step - loss: 0.0799 - acc: 0.9726 - val_loss: 0.3782 - val_acc: 0.8901\n",
      "138/138 [==============================] - 0s 985us/step\n",
      "0.8784225756084775 0.584975137338771 0.9169314571039492 0.46017699115044247\n"
     ]
    },
    {
     "name": "stderr",
     "output_type": "stream",
     "text": [
      "2023-11-23 15:34:03.836479: I tensorflow/core/common_runtime/gpu/gpu_device.cc:1886] Created device /job:localhost/replica:0/task:0/device:GPU:0 with 14529 MB memory:  -> device: 0, name: Quadro RTX 5000, pci bus id: 0000:2b:00.0, compute capability: 7.5\n",
      "2023-11-23 15:34:03.846330: I tensorflow/core/common_runtime/gpu/gpu_device.cc:1886] Created device /job:localhost/replica:0/task:0/device:GPU:0 with 14529 MB memory:  -> device: 0, name: Quadro RTX 5000, pci bus id: 0000:2b:00.0, compute capability: 7.5\n"
     ]
    },
    {
     "name": "stdout",
     "output_type": "stream",
     "text": [
      "Problem type:  mort_icu\n",
      "__________________\n",
      "Epoch 1/100\n",
      "236/242 [============================>.] - ETA: 0s - loss: 0.2179 - acc: 0.9339\n",
      "Epoch 1: val_loss improved from inf to 0.18120, saving model to ../results/multimodal-baseline/best_models/avg-concat2-mort_icu-best_model.hdf5\n",
      "242/242 [==============================] - 2s 4ms/step - loss: 0.2172 - acc: 0.9339 - val_loss: 0.1812 - val_acc: 0.9432\n",
      "Epoch 2/100\n",
      " 49/242 [=====>........................] - ETA: 0s - loss: 0.1864 - acc: 0.9375"
     ]
    },
    {
     "name": "stderr",
     "output_type": "stream",
     "text": [
      "/data/apps/miniforge3/envs/cse6250-project/lib/python3.9/site-packages/keras/src/engine/training.py:3079: UserWarning: You are saving your model as an HDF5 file via `model.save()`. This file format is considered legacy. We recommend using instead the native Keras format, e.g. `model.save('my_model.keras')`.\n",
      "  saving_api.save_model(\n"
     ]
    },
    {
     "name": "stdout",
     "output_type": "stream",
     "text": [
      "242/242 [==============================] - ETA: 0s - loss: 0.1745 - acc: 0.9428\n",
      "Epoch 2: val_loss improved from 0.18120 to 0.17837, saving model to ../results/multimodal-baseline/best_models/avg-concat2-mort_icu-best_model.hdf5\n",
      "242/242 [==============================] - 1s 4ms/step - loss: 0.1745 - acc: 0.9428 - val_loss: 0.1784 - val_acc: 0.9437\n",
      "Epoch 3/100\n",
      "238/242 [============================>.] - ETA: 0s - loss: 0.1621 - acc: 0.9464\n",
      "Epoch 3: val_loss improved from 0.17837 to 0.17158, saving model to ../results/multimodal-baseline/best_models/avg-concat2-mort_icu-best_model.hdf5\n",
      "242/242 [==============================] - 1s 4ms/step - loss: 0.1612 - acc: 0.9468 - val_loss: 0.1716 - val_acc: 0.9446\n",
      "Epoch 4/100\n",
      "237/242 [============================>.] - ETA: 0s - loss: 0.1479 - acc: 0.9500\n",
      "Epoch 4: val_loss did not improve from 0.17158\n",
      "242/242 [==============================] - 1s 4ms/step - loss: 0.1498 - acc: 0.9488 - val_loss: 0.1845 - val_acc: 0.9351\n",
      "Epoch 5/100\n",
      "240/242 [============================>.] - ETA: 0s - loss: 0.1349 - acc: 0.9538\n",
      "Epoch 5: val_loss improved from 0.17158 to 0.16492, saving model to ../results/multimodal-baseline/best_models/avg-concat2-mort_icu-best_model.hdf5\n",
      "242/242 [==============================] - 1s 4ms/step - loss: 0.1345 - acc: 0.9540 - val_loss: 0.1649 - val_acc: 0.9469\n",
      "Epoch 6/100\n",
      "241/242 [============================>.] - ETA: 0s - loss: 0.1219 - acc: 0.9573\n",
      "Epoch 6: val_loss did not improve from 0.16492\n",
      "242/242 [==============================] - 1s 3ms/step - loss: 0.1225 - acc: 0.9573 - val_loss: 0.1774 - val_acc: 0.9473\n",
      "Epoch 7/100\n",
      "231/242 [===========================>..] - ETA: 0s - loss: 0.1013 - acc: 0.9640\n",
      "Epoch 7: val_loss did not improve from 0.16492\n",
      "242/242 [==============================] - 1s 3ms/step - loss: 0.1016 - acc: 0.9640 - val_loss: 0.1923 - val_acc: 0.9387\n",
      "Epoch 8/100\n",
      "240/242 [============================>.] - ETA: 0s - loss: 0.0825 - acc: 0.9725\n",
      "Epoch 8: val_loss did not improve from 0.16492\n",
      "242/242 [==============================] - 1s 4ms/step - loss: 0.0826 - acc: 0.9724 - val_loss: 0.2314 - val_acc: 0.9287\n",
      "Epoch 9/100\n",
      "239/242 [============================>.] - ETA: 0s - loss: 0.0599 - acc: 0.9808\n",
      "Epoch 9: val_loss did not improve from 0.16492\n",
      "242/242 [==============================] - 1s 4ms/step - loss: 0.0606 - acc: 0.9806 - val_loss: 0.2402 - val_acc: 0.9319\n",
      "Epoch 10/100\n",
      "225/242 [==========================>...] - ETA: 0s - loss: 0.0418 - acc: 0.9861\n",
      "Epoch 10: val_loss did not improve from 0.16492\n",
      "242/242 [==============================] - 1s 3ms/step - loss: 0.0432 - acc: 0.9859 - val_loss: 0.2646 - val_acc: 0.9332\n",
      "138/138 [==============================] - 0s 959us/step\n",
      "0.8767455657364954 0.5273004404690479 0.9434861552428506 0.46451612903225803\n"
     ]
    },
    {
     "name": "stderr",
     "output_type": "stream",
     "text": [
      "2023-11-23 15:34:15.974612: I tensorflow/core/common_runtime/gpu/gpu_device.cc:1886] Created device /job:localhost/replica:0/task:0/device:GPU:0 with 14529 MB memory:  -> device: 0, name: Quadro RTX 5000, pci bus id: 0000:2b:00.0, compute capability: 7.5\n",
      "2023-11-23 15:34:15.984602: I tensorflow/core/common_runtime/gpu/gpu_device.cc:1886] Created device /job:localhost/replica:0/task:0/device:GPU:0 with 14529 MB memory:  -> device: 0, name: Quadro RTX 5000, pci bus id: 0000:2b:00.0, compute capability: 7.5\n"
     ]
    },
    {
     "name": "stdout",
     "output_type": "stream",
     "text": [
      "Problem type:  los_3\n",
      "__________________\n",
      "Epoch 1/100\n",
      "235/242 [============================>.] - ETA: 0s - loss: 0.6695 - acc: 0.6268\n",
      "Epoch 1: val_loss improved from inf to 0.62449, saving model to ../results/multimodal-baseline/best_models/avg-concat2-los_3-best_model.hdf5\n",
      "242/242 [==============================] - 2s 4ms/step - loss: 0.6693 - acc: 0.6274 - val_loss: 0.6245 - val_acc: 0.6753\n",
      "Epoch 2/100\n",
      " 52/242 [=====>........................] - ETA: 0s - loss: 0.6301 - acc: 0.6623"
     ]
    },
    {
     "name": "stderr",
     "output_type": "stream",
     "text": [
      "/data/apps/miniforge3/envs/cse6250-project/lib/python3.9/site-packages/keras/src/engine/training.py:3079: UserWarning: You are saving your model as an HDF5 file via `model.save()`. This file format is considered legacy. We recommend using instead the native Keras format, e.g. `model.save('my_model.keras')`.\n",
      "  saving_api.save_model(\n"
     ]
    },
    {
     "name": "stdout",
     "output_type": "stream",
     "text": [
      "234/242 [============================>.] - ETA: 0s - loss: 0.6242 - acc: 0.6648\n",
      "Epoch 2: val_loss improved from 0.62449 to 0.62091, saving model to ../results/multimodal-baseline/best_models/avg-concat2-los_3-best_model.hdf5\n",
      "242/242 [==============================] - 1s 4ms/step - loss: 0.6255 - acc: 0.6629 - val_loss: 0.6209 - val_acc: 0.6703\n",
      "Epoch 3/100\n",
      "238/242 [============================>.] - ETA: 0s - loss: 0.6101 - acc: 0.6757\n",
      "Epoch 3: val_loss improved from 0.62091 to 0.61309, saving model to ../results/multimodal-baseline/best_models/avg-concat2-los_3-best_model.hdf5\n",
      "242/242 [==============================] - 1s 3ms/step - loss: 0.6103 - acc: 0.6761 - val_loss: 0.6131 - val_acc: 0.6712\n",
      "Epoch 4/100\n",
      "231/242 [===========================>..] - ETA: 0s - loss: 0.5960 - acc: 0.6885\n",
      "Epoch 4: val_loss improved from 0.61309 to 0.60687, saving model to ../results/multimodal-baseline/best_models/avg-concat2-los_3-best_model.hdf5\n",
      "242/242 [==============================] - 1s 3ms/step - loss: 0.5963 - acc: 0.6883 - val_loss: 0.6069 - val_acc: 0.6789\n",
      "Epoch 5/100\n",
      "240/242 [============================>.] - ETA: 0s - loss: 0.5812 - acc: 0.7007\n",
      "Epoch 5: val_loss did not improve from 0.60687\n",
      "242/242 [==============================] - 1s 3ms/step - loss: 0.5816 - acc: 0.7005 - val_loss: 0.6219 - val_acc: 0.6617\n",
      "Epoch 6/100\n",
      "239/242 [============================>.] - ETA: 0s - loss: 0.5602 - acc: 0.7199\n",
      "Epoch 6: val_loss did not improve from 0.60687\n",
      "242/242 [==============================] - 1s 3ms/step - loss: 0.5608 - acc: 0.7194 - val_loss: 0.6218 - val_acc: 0.6608\n",
      "Epoch 7/100\n",
      "238/242 [============================>.] - ETA: 0s - loss: 0.5316 - acc: 0.7411\n",
      "Epoch 7: val_loss did not improve from 0.60687\n",
      "242/242 [==============================] - 1s 4ms/step - loss: 0.5322 - acc: 0.7405 - val_loss: 0.6375 - val_acc: 0.6599\n",
      "Epoch 8/100\n",
      "236/242 [============================>.] - ETA: 0s - loss: 0.4889 - acc: 0.7661\n",
      "Epoch 8: val_loss did not improve from 0.60687\n",
      "242/242 [==============================] - 1s 4ms/step - loss: 0.4887 - acc: 0.7661 - val_loss: 0.6604 - val_acc: 0.6589\n",
      "Epoch 9/100\n",
      "240/242 [============================>.] - ETA: 0s - loss: 0.4315 - acc: 0.8019\n",
      "Epoch 9: val_loss did not improve from 0.60687\n",
      "242/242 [==============================] - 1s 4ms/step - loss: 0.4319 - acc: 0.8018 - val_loss: 0.7119 - val_acc: 0.6521\n",
      "138/138 [==============================] - 0s 987us/step\n",
      "0.7099182152535812 0.6467114804893151 0.6731729459827508 0.5757218621096052\n"
     ]
    },
    {
     "name": "stderr",
     "output_type": "stream",
     "text": [
      "2023-11-23 15:34:27.099372: I tensorflow/core/common_runtime/gpu/gpu_device.cc:1886] Created device /job:localhost/replica:0/task:0/device:GPU:0 with 14529 MB memory:  -> device: 0, name: Quadro RTX 5000, pci bus id: 0000:2b:00.0, compute capability: 7.5\n",
      "2023-11-23 15:34:27.108992: I tensorflow/core/common_runtime/gpu/gpu_device.cc:1886] Created device /job:localhost/replica:0/task:0/device:GPU:0 with 14529 MB memory:  -> device: 0, name: Quadro RTX 5000, pci bus id: 0000:2b:00.0, compute capability: 7.5\n"
     ]
    },
    {
     "name": "stdout",
     "output_type": "stream",
     "text": [
      "Problem type:  los_7\n",
      "__________________\n",
      "Epoch 1/100\n",
      "231/242 [===========================>..] - ETA: 0s - loss: 0.2864 - acc: 0.9186\n",
      "Epoch 1: val_loss improved from inf to 0.26640, saving model to ../results/multimodal-baseline/best_models/avg-concat2-los_7-best_model.hdf5\n",
      "242/242 [==============================] - 2s 5ms/step - loss: 0.2854 - acc: 0.9188 - val_loss: 0.2664 - val_acc: 0.9233\n",
      "Epoch 2/100\n",
      " 47/242 [====>.........................] - ETA: 0s - loss: 0.2410 - acc: 0.9259"
     ]
    },
    {
     "name": "stderr",
     "output_type": "stream",
     "text": [
      "/data/apps/miniforge3/envs/cse6250-project/lib/python3.9/site-packages/keras/src/engine/training.py:3079: UserWarning: You are saving your model as an HDF5 file via `model.save()`. This file format is considered legacy. We recommend using instead the native Keras format, e.g. `model.save('my_model.keras')`.\n",
      "  saving_api.save_model(\n"
     ]
    },
    {
     "name": "stdout",
     "output_type": "stream",
     "text": [
      "230/242 [===========================>..] - ETA: 0s - loss: 0.2559 - acc: 0.9216\n",
      "Epoch 2: val_loss improved from 0.26640 to 0.26111, saving model to ../results/multimodal-baseline/best_models/avg-concat2-los_7-best_model.hdf5\n",
      "242/242 [==============================] - 1s 4ms/step - loss: 0.2549 - acc: 0.9220 - val_loss: 0.2611 - val_acc: 0.9233\n",
      "Epoch 3/100\n",
      "236/242 [============================>.] - ETA: 0s - loss: 0.2434 - acc: 0.9219\n",
      "Epoch 3: val_loss improved from 0.26111 to 0.25873, saving model to ../results/multimodal-baseline/best_models/avg-concat2-los_7-best_model.hdf5\n",
      "242/242 [==============================] - 1s 4ms/step - loss: 0.2432 - acc: 0.9222 - val_loss: 0.2587 - val_acc: 0.9233\n",
      "Epoch 4/100\n",
      "237/242 [============================>.] - ETA: 0s - loss: 0.2349 - acc: 0.9227\n",
      "Epoch 4: val_loss did not improve from 0.25873\n",
      "242/242 [==============================] - 1s 4ms/step - loss: 0.2353 - acc: 0.9226 - val_loss: 0.2592 - val_acc: 0.9233\n",
      "Epoch 5/100\n",
      "236/242 [============================>.] - ETA: 0s - loss: 0.2247 - acc: 0.9239\n",
      "Epoch 5: val_loss did not improve from 0.25873\n",
      "242/242 [==============================] - 1s 4ms/step - loss: 0.2250 - acc: 0.9238 - val_loss: 0.2719 - val_acc: 0.9237\n",
      "Epoch 6/100\n",
      "241/242 [============================>.] - ETA: 0s - loss: 0.2108 - acc: 0.9263\n",
      "Epoch 6: val_loss did not improve from 0.25873\n",
      "242/242 [==============================] - 1s 4ms/step - loss: 0.2108 - acc: 0.9262 - val_loss: 0.2627 - val_acc: 0.9233\n",
      "Epoch 7/100\n",
      "235/242 [============================>.] - ETA: 0s - loss: 0.1868 - acc: 0.9342\n",
      "Epoch 7: val_loss did not improve from 0.25873\n",
      "242/242 [==============================] - 1s 4ms/step - loss: 0.1880 - acc: 0.9341 - val_loss: 0.2903 - val_acc: 0.9128\n",
      "Epoch 8/100\n",
      "234/242 [============================>.] - ETA: 0s - loss: 0.1556 - acc: 0.9460\n",
      "Epoch 8: val_loss did not improve from 0.25873\n",
      "242/242 [==============================] - 1s 4ms/step - loss: 0.1574 - acc: 0.9458 - val_loss: 0.3056 - val_acc: 0.9142\n",
      "138/138 [==============================] - 0s 986us/step\n",
      "0.7336572340130393 0.21703539492981339 0.9194280526554698 0.011142061281337047\n"
     ]
    },
    {
     "name": "stderr",
     "output_type": "stream",
     "text": [
      "2023-11-23 15:34:37.810469: I tensorflow/core/common_runtime/gpu/gpu_device.cc:1886] Created device /job:localhost/replica:0/task:0/device:GPU:0 with 14529 MB memory:  -> device: 0, name: Quadro RTX 5000, pci bus id: 0000:2b:00.0, compute capability: 7.5\n",
      "2023-11-23 15:34:37.819728: I tensorflow/core/common_runtime/gpu/gpu_device.cc:1886] Created device /job:localhost/replica:0/task:0/device:GPU:0 with 14529 MB memory:  -> device: 0, name: Quadro RTX 5000, pci bus id: 0000:2b:00.0, compute capability: 7.5\n"
     ]
    },
    {
     "ename": "",
     "evalue": "",
     "output_type": "error",
     "traceback": [
      "\u001b[1;31mThe Kernel crashed while executing code in the the current cell or a previous cell. Please review the code in the cell(s) to identify a possible cause of the failure. Click <a href='https://aka.ms/vscodeJupyterKernelCrash'>here</a> for more info. View Jupyter <a href='command:jupyter.viewOutput'>log</a> for further details."
     ]
    }
   ],
   "source": [
    "embedding_types = ['word2vec','fasttext','concat']\n",
    "embedding_dict = [ner_word2vec, ner_fasttext, ner_concat]\n",
    "target_problems = ['mort_hosp', 'mort_icu', 'los_3', 'los_7']\n",
    "\n",
    "\n",
    "num_epoch = 100\n",
    "model_patience = 5\n",
    "monitor_criteria = 'val_loss'\n",
    "batch_size = 64\n",
    "iter_num = 2\n",
    "unit_sizes = [128, 256]\n",
    "\n",
    "#layers = [\"LSTM\", \"GRU\"]\n",
    "layers = [\"GRU\"]\n",
    "for each_layer in layers:\n",
    "    print (\"Layer: \", each_layer)\n",
    "    for each_unit_size in unit_sizes:\n",
    "        print (\"Hidden unit: \", each_unit_size)\n",
    "\n",
    "        for embed_dict, embed_name in zip(embedding_dict, embedding_types):    \n",
    "            print (\"Embedding: \", embed_name)\n",
    "            print(\"=============================\")\n",
    "\n",
    "            temp_train_ner = dict((k, embed_dict[k]) for k in train_ids)\n",
    "            temp_dev_ner = dict((k, embed_dict[k]) for k in dev_ids)\n",
    "            temp_test_ner = dict((k, embed_dict[k]) for k in test_ids)\n",
    "\n",
    "            x_train_ner = create_dataset(temp_train_ner)\n",
    "            x_dev_ner = create_dataset(temp_dev_ner)\n",
    "            x_test_ner = create_dataset(temp_test_ner)\n",
    "\n",
    "\n",
    "            for iteration in range(1, iter_num):\n",
    "                print (\"Iteration number: \", iteration)\n",
    "\n",
    "                for each_problem in target_problems:\n",
    "                    print (\"Problem type: \", each_problem)\n",
    "                    print (\"__________________\")\n",
    "\n",
    "                    early_stopping_monitor = EarlyStopping(monitor=monitor_criteria, patience=model_patience)\n",
    "                    best_model_name = \"../results/multimodal-baseline/best_models/\"+\"avg-\"+str(embed_name)+\"-\"+str(each_problem)+\"-\"+\"best_model.hdf5\"\n",
    "                    checkpoint = ModelCheckpoint(best_model_name, monitor='val_loss', verbose=1,\n",
    "                        save_best_only=True, mode='min', save_freq='epoch')\n",
    "                    #checkpoint._supports_tf_logs = False\n",
    "\n",
    "\n",
    "\n",
    "                    callbacks = [early_stopping_monitor, checkpoint]\n",
    "\n",
    "                    model = avg_ner_model(each_layer, each_unit_size, embed_name)\n",
    "                    \n",
    "                    model.fit([x_train_lstm, x_train_ner], y_train[each_problem], epochs=num_epoch, verbose=1, \n",
    "                              validation_data=([x_dev_lstm, x_dev_ner], y_dev[each_problem]), callbacks=callbacks, \n",
    "                              batch_size=batch_size )\n",
    "\n",
    "                    model.load_weights(best_model_name)\n",
    "\n",
    "                    probs, predictions = make_prediction_multi_avg(model, [x_test_lstm, x_test_ner])\n",
    "                    \n",
    "                    save_scores_multi_avg(predictions, probs, y_test[each_problem], \n",
    "                                embed_name, each_problem, iteration, each_unit_size, \n",
    "                                each_layer, type_of_ner)\n",
    "                    \n",
    "                    reset_keras(model)\n",
    "                    #del model\n",
    "                    clear_session()\n",
    "                    gc.collect()"
   ]
  },
  {
   "cell_type": "code",
   "execution_count": null,
   "metadata": {},
   "outputs": [],
   "source": []
  },
  {
   "cell_type": "code",
   "execution_count": null,
   "metadata": {},
   "outputs": [],
   "source": []
  }
 ],
 "metadata": {
  "kernelspec": {
   "display_name": "cse6250-project",
   "language": "python",
   "name": "python3"
  },
  "language_info": {
   "codemirror_mode": {
    "name": "ipython",
    "version": 3
   },
   "file_extension": ".py",
   "mimetype": "text/x-python",
   "name": "python",
   "nbconvert_exporter": "python",
   "pygments_lexer": "ipython3",
   "version": "3.9.18"
  }
 },
 "nbformat": 4,
 "nbformat_minor": 2
}
