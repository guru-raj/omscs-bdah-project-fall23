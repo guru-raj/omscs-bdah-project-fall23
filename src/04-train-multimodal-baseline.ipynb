{
 "cells": [
  {
   "cell_type": "code",
   "execution_count": 1,
   "metadata": {},
   "outputs": [
    {
     "name": "stderr",
     "output_type": "stream",
     "text": [
      "2023-11-13 01:23:05.903284: E tensorflow/compiler/xla/stream_executor/cuda/cuda_dnn.cc:9342] Unable to register cuDNN factory: Attempting to register factory for plugin cuDNN when one has already been registered\n",
      "2023-11-13 01:23:05.903316: E tensorflow/compiler/xla/stream_executor/cuda/cuda_fft.cc:609] Unable to register cuFFT factory: Attempting to register factory for plugin cuFFT when one has already been registered\n",
      "2023-11-13 01:23:05.903348: E tensorflow/compiler/xla/stream_executor/cuda/cuda_blas.cc:1518] Unable to register cuBLAS factory: Attempting to register factory for plugin cuBLAS when one has already been registered\n",
      "2023-11-13 01:23:05.909441: I tensorflow/core/platform/cpu_feature_guard.cc:182] This TensorFlow binary is optimized to use available CPU instructions in performance-critical operations.\n",
      "To enable the following instructions: AVX2 FMA, in other operations, rebuild TensorFlow with the appropriate compiler flags.\n"
     ]
    }
   ],
   "source": [
    "import pandas as pd\n",
    "import os\n",
    "import numpy as np\n",
    "from gensim.models import Word2Vec, FastText\n",
    "import glove\n",
    "from glove import Corpus\n",
    "\n",
    "import collections\n",
    "import gc \n",
    "\n",
    "import keras\n",
    "from keras import backend as K\n",
    "from keras import regularizers\n",
    "from keras.models import Sequential, Model\n",
    "from keras.layers import Flatten, Dense, Dropout, Input, concatenate, Activation, Concatenate, LSTM, GRU\n",
    "from keras.layers import Input, Conv2D, MaxPooling2D, UpSampling2D, Conv1D, BatchNormalization, GRU, Convolution1D, LSTM\n",
    "from keras.layers import UpSampling1D, MaxPooling1D, GlobalMaxPooling1D, GlobalAveragePooling1D,MaxPool1D\n",
    "\n",
    "from keras.optimizers import Adam\n",
    "\n",
    "from keras.callbacks import EarlyStopping, ModelCheckpoint, History, ReduceLROnPlateau\n",
    "import np_utils\n",
    "from tensorflow.python.keras.backend import set_session, clear_session, get_session\n",
    "import tensorflow as tf\n",
    "\n",
    "\n",
    "from sklearn.utils import class_weight\n",
    "from sklearn.metrics import average_precision_score, roc_auc_score, accuracy_score, f1_score"
   ]
  },
  {
   "cell_type": "code",
   "execution_count": 2,
   "metadata": {},
   "outputs": [],
   "source": [
    "def reset_keras(model):\n",
    "    sess = get_session()\n",
    "    clear_session()\n",
    "    sess.close()\n",
    "    sess = get_session()\n",
    "\n",
    "    try:\n",
    "        del model # this is from global space - change this as you need\n",
    "    except:\n",
    "        pass\n",
    "\n",
    "    gc.collect() # if it's done something you should see a number being outputted\n",
    "def create_dataset(dict_of_ner):\n",
    "    temp_data = []\n",
    "    for k, v in sorted(dict_of_ner.items()):\n",
    "        temp = []\n",
    "        for embed in v:\n",
    "            temp.append(embed)\n",
    "        temp_data.append(np.mean(temp, axis = 0)) \n",
    "    return np.asarray(temp_data)\n",
    "\n",
    "def make_prediction_multi_avg(model, test_data):\n",
    "    probs = model.predict(test_data)\n",
    "    y_pred = [1 if i>=0.5 else 0 for i in probs]\n",
    "    return probs, y_pred\n",
    "\n",
    "def save_scores_multi_avg(predictions, probs, ground_truth, \n",
    "                          \n",
    "                          embed_name, problem_type, iteration, hidden_unit_size,\n",
    "                          \n",
    "                          sequence_name, type_of_ner):\n",
    "    \n",
    "    auc = roc_auc_score(ground_truth, probs)\n",
    "    auprc = average_precision_score(ground_truth, probs)\n",
    "    acc   = accuracy_score(ground_truth, predictions)\n",
    "    F1    = f1_score(ground_truth, predictions)\n",
    "    \n",
    "    result_dict = {}    \n",
    "    result_dict['iteration'] = [iteration]\n",
    "    result_dict['auc'] = [auc]\n",
    "    result_dict['auprc'] = [auprc]\n",
    "    result_dict['acc'] = [acc]\n",
    "    result_dict['F1'] = [F1]\n",
    "        \n",
    "    filename = str(sequence_name)+\"-\"+str(hidden_unit_size)+\"-\"+embed_name+\"-\"+problem_type+\"-\"+type_of_ner+\"-avg.csv\"\n",
    "    \n",
    "    result_path = \"../results/multimodal-baseline/metrics/\"+filename\n",
    "    df = pd.DataFrame.from_dict(result_dict)\n",
    "    df.to_csv(result_path,mode='a',index=False,header=False)\n",
    "\n",
    "    result_dict = {}    \n",
    "    result_dict['auc'] = auc\n",
    "    result_dict['auprc'] = auprc\n",
    "    result_dict['acc'] = acc\n",
    "    result_dict['F1'] = F1\n",
    "\n",
    "    result_path = \"../results/multimodal-baseline/metrics/\"\n",
    "    file_name = str(sequence_name)+\"-\"+str(hidden_unit_size)+\"-\"+embed_name\n",
    "    file_name = file_name +\"-\"+problem_type+\"-\"+str(iteration)+\"-\"+type_of_ner+\"-avg-.p\"\n",
    "    pd.to_pickle(result_dict, os.path.join(result_path, file_name))\n",
    "    print(auc, auprc, acc, F1)\n",
    "    \n",
    "def avg_ner_model(layer_name, number_of_unit, embedding_name):\n",
    "\n",
    "    if embedding_name == \"concat\":\n",
    "        input_dimension = 200\n",
    "    else:\n",
    "        input_dimension = 100\n",
    "\n",
    "    sequence_input = Input(shape=(24,104))\n",
    "\n",
    "    input_avg = Input(shape=(input_dimension, ), name = \"avg\")        \n",
    "#     x_1 = Dense(256, activation='relu')(input_avg)\n",
    "#     x_1 = Dropout(0.3)(x_1)\n",
    "    \n",
    "    if layer_name == \"GRU\":\n",
    "        x = GRU(number_of_unit)(sequence_input)\n",
    "    elif layer_name == \"LSTM\":\n",
    "        x = LSTM(number_of_unit)(sequence_input)\n",
    "\n",
    "    x = keras.layers.Concatenate()([x, input_avg])\n",
    "\n",
    "    x = Dense(256, activation='relu')(x)\n",
    "    x = Dropout(0.2)(x)\n",
    "    \n",
    "    \n",
    "    logits_regularizer = regularizers.l2(l2=0.01)\n",
    "    \n",
    "    preds = Dense(1, activation='sigmoid',use_bias=False,\n",
    "                         kernel_initializer=tf.keras.initializers.GlorotNormal(), \n",
    "                  kernel_regularizer=logits_regularizer)(x)\n",
    "    \n",
    "    \n",
    "    opt = Adam(learning_rate=0.001, weight_decay=0.01)\n",
    "    model = Model(inputs=[sequence_input, input_avg], outputs=preds)\n",
    "    model.compile(loss='binary_crossentropy',\n",
    "                  optimizer=opt,\n",
    "                  metrics=['acc'])\n",
    "    \n",
    "    return model"
   ]
  },
  {
   "cell_type": "code",
   "execution_count": 3,
   "metadata": {},
   "outputs": [],
   "source": [
    "type_of_ner = \"new\"\n",
    "\n",
    "x_train_lstm = pd.read_pickle(\"../data/timeseries/\"+type_of_ner+\"_x_train.pkl\")\n",
    "x_dev_lstm = pd.read_pickle(\"../data/timeseries/\"+type_of_ner+\"_x_dev.pkl\")\n",
    "x_test_lstm = pd.read_pickle(\"../data/timeseries/\"+type_of_ner+\"_x_test.pkl\")\n",
    "\n",
    "y_train = pd.read_pickle(\"../data/timeseries/\"+type_of_ner+\"_y_train.pkl\")\n",
    "y_dev = pd.read_pickle(\"../data/timeseries/\"+type_of_ner+\"_y_dev.pkl\")\n",
    "y_test = pd.read_pickle(\"../data/timeseries/\"+type_of_ner+\"_y_test.pkl\")\n",
    "\n",
    "ner_word2vec = pd.read_pickle(\"../data/clinical_notes/representations/\"+type_of_ner+\"_ner_word2vec_limited_dict.pkl\")\n",
    "ner_fasttext = pd.read_pickle(\"../data/clinical_notes/representations/\"+type_of_ner+\"_ner_fasttext_limited_dict.pkl\")\n",
    "ner_concat = pd.read_pickle(\"../data/clinical_notes/representations/\"+type_of_ner+\"_ner_combined_limited_dict.pkl\")\n",
    "\n",
    "train_ids = pd.read_pickle(\"../data/timeseries/\"+type_of_ner+\"_train_ids.pkl\")\n",
    "dev_ids = pd.read_pickle(\"../data/timeseries/\"+type_of_ner+\"_dev_ids.pkl\")\n",
    "test_ids = pd.read_pickle(\"../data/timeseries/\"+type_of_ner+\"_test_ids.pkl\")"
   ]
  },
  {
   "cell_type": "code",
   "execution_count": 4,
   "metadata": {},
   "outputs": [
    {
     "name": "stdout",
     "output_type": "stream",
     "text": [
      "Layer:  GRU\n",
      "Hidden unit:  128\n",
      "Embedding:  word2vec\n",
      "=============================\n",
      "Iteration number:  1\n",
      "Problem type:  mort_hosp\n",
      "__________________\n"
     ]
    },
    {
     "name": "stderr",
     "output_type": "stream",
     "text": [
      "2023-11-13 01:23:29.382048: I tensorflow/core/common_runtime/gpu/gpu_device.cc:1886] Created device /job:localhost/replica:0/task:0/device:GPU:0 with 1256 MB memory:  -> device: 0, name: Quadro RTX 5000, pci bus id: 0000:2b:00.0, compute capability: 7.5\n"
     ]
    },
    {
     "name": "stdout",
     "output_type": "stream",
     "text": [
      "Epoch 1/100\n"
     ]
    },
    {
     "name": "stderr",
     "output_type": "stream",
     "text": [
      "2023-11-13 01:23:30.309087: W tensorflow/tsl/framework/cpu_allocator_impl.cc:83] Allocation of 154622208 exceeds 10% of free system memory.\n",
      "2023-11-13 01:23:30.496320: W tensorflow/tsl/framework/cpu_allocator_impl.cc:83] Allocation of 154622208 exceeds 10% of free system memory.\n",
      "2023-11-13 01:23:31.523638: I tensorflow/compiler/xla/stream_executor/cuda/cuda_dnn.cc:442] Loaded cuDNN version 8700\n",
      "2023-11-13 01:23:32.298021: I tensorflow/compiler/xla/service/service.cc:168] XLA service 0x7fce501302f0 initialized for platform CUDA (this does not guarantee that XLA will be used). Devices:\n",
      "2023-11-13 01:23:32.298042: I tensorflow/compiler/xla/service/service.cc:176]   StreamExecutor device (0): Quadro RTX 5000, Compute Capability 7.5\n",
      "2023-11-13 01:23:32.300975: I tensorflow/compiler/mlir/tensorflow/utils/dump_mlir_util.cc:269] disabling MLIR crash reproducer, set env var `MLIR_CRASH_REPRODUCER_DIRECTORY` to enable.\n",
      "2023-11-13 01:23:32.367396: I ./tensorflow/compiler/jit/device_compiler.h:186] Compiled cluster using XLA!  This line is logged at most once for the lifetime of the process.\n"
     ]
    },
    {
     "name": "stdout",
     "output_type": "stream",
     "text": [
      "238/242 [============================>.] - ETA: 0s - loss: 0.2915 - acc: 0.9038\n",
      "Epoch 1: val_loss improved from inf to 0.24137, saving model to ../results/multimodal-baseline/best_models/avg-word2vec-mort_hosp-best_model.hdf5\n",
      "242/242 [==============================] - 3s 4ms/step - loss: 0.2906 - acc: 0.9039 - val_loss: 0.2414 - val_acc: 0.9164\n",
      "Epoch 2/100\n",
      " 60/242 [======>.......................] - ETA: 0s - loss: 0.2447 - acc: 0.9120"
     ]
    },
    {
     "name": "stderr",
     "output_type": "stream",
     "text": [
      "/data/apps/miniforge3/envs/cse6250-project/lib/python3.9/site-packages/keras/src/engine/training.py:3079: UserWarning: You are saving your model as an HDF5 file via `model.save()`. This file format is considered legacy. We recommend using instead the native Keras format, e.g. `model.save('my_model.keras')`.\n",
      "  saving_api.save_model(\n"
     ]
    },
    {
     "name": "stdout",
     "output_type": "stream",
     "text": [
      "242/242 [==============================] - ETA: 0s - loss: 0.2399 - acc: 0.9146\n",
      "Epoch 2: val_loss improved from 0.24137 to 0.22960, saving model to ../results/multimodal-baseline/best_models/avg-word2vec-mort_hosp-best_model.hdf5\n",
      "242/242 [==============================] - 1s 3ms/step - loss: 0.2399 - acc: 0.9146 - val_loss: 0.2296 - val_acc: 0.9164\n",
      "Epoch 3/100\n",
      "236/242 [============================>.] - ETA: 0s - loss: 0.2250 - acc: 0.9180\n",
      "Epoch 3: val_loss did not improve from 0.22960\n",
      "242/242 [==============================] - 1s 3ms/step - loss: 0.2243 - acc: 0.9180 - val_loss: 0.2316 - val_acc: 0.9164\n",
      "Epoch 4/100\n",
      "227/242 [===========================>..] - ETA: 0s - loss: 0.2115 - acc: 0.9234\n",
      "Epoch 4: val_loss did not improve from 0.22960\n",
      "242/242 [==============================] - 1s 3ms/step - loss: 0.2116 - acc: 0.9230 - val_loss: 0.2385 - val_acc: 0.9083\n",
      "Epoch 5/100\n",
      "229/242 [===========================>..] - ETA: 0s - loss: 0.1986 - acc: 0.9277\n",
      "Epoch 5: val_loss did not improve from 0.22960\n",
      "242/242 [==============================] - 1s 3ms/step - loss: 0.1967 - acc: 0.9286 - val_loss: 0.2460 - val_acc: 0.9110\n",
      "Epoch 6/100\n",
      "223/242 [==========================>...] - ETA: 0s - loss: 0.1837 - acc: 0.9334\n",
      "Epoch 6: val_loss did not improve from 0.22960\n",
      "242/242 [==============================] - 1s 3ms/step - loss: 0.1824 - acc: 0.9336 - val_loss: 0.2333 - val_acc: 0.9155\n",
      "Epoch 7/100\n",
      "222/242 [==========================>...] - ETA: 0s - loss: 0.1638 - acc: 0.9408\n",
      "Epoch 7: val_loss did not improve from 0.22960\n",
      "242/242 [==============================] - 1s 3ms/step - loss: 0.1642 - acc: 0.9404 - val_loss: 0.2462 - val_acc: 0.9119\n",
      "138/138 [==============================] - 0s 1ms/step\n",
      "0.8779048261721256 0.5819625898743778 0.9148887880163413 0.41860465116279066\n"
     ]
    },
    {
     "name": "stderr",
     "output_type": "stream",
     "text": [
      "2023-11-13 01:23:38.603379: I tensorflow/core/common_runtime/gpu/gpu_device.cc:1886] Created device /job:localhost/replica:0/task:0/device:GPU:0 with 1256 MB memory:  -> device: 0, name: Quadro RTX 5000, pci bus id: 0000:2b:00.0, compute capability: 7.5\n",
      "2023-11-13 01:23:38.615414: I tensorflow/core/common_runtime/gpu/gpu_device.cc:1886] Created device /job:localhost/replica:0/task:0/device:GPU:0 with 1256 MB memory:  -> device: 0, name: Quadro RTX 5000, pci bus id: 0000:2b:00.0, compute capability: 7.5\n"
     ]
    },
    {
     "name": "stdout",
     "output_type": "stream",
     "text": [
      "Problem type:  mort_icu\n",
      "__________________\n",
      "Epoch 1/100\n"
     ]
    },
    {
     "name": "stderr",
     "output_type": "stream",
     "text": [
      "2023-11-13 01:23:40.502720: W tensorflow/tsl/framework/cpu_allocator_impl.cc:83] Allocation of 154622208 exceeds 10% of free system memory.\n",
      "2023-11-13 01:23:40.670762: W tensorflow/tsl/framework/cpu_allocator_impl.cc:83] Allocation of 154622208 exceeds 10% of free system memory.\n"
     ]
    },
    {
     "name": "stdout",
     "output_type": "stream",
     "text": [
      "241/242 [============================>.] - ETA: 0s - loss: 0.2176 - acc: 0.9328\n",
      "Epoch 1: val_loss improved from inf to 0.17876, saving model to ../results/multimodal-baseline/best_models/avg-word2vec-mort_icu-best_model.hdf5\n",
      "242/242 [==============================] - 2s 4ms/step - loss: 0.2173 - acc: 0.9330 - val_loss: 0.1788 - val_acc: 0.9432\n",
      "Epoch 2/100\n",
      " 50/242 [=====>........................] - ETA: 0s - loss: 0.1731 - acc: 0.9413"
     ]
    },
    {
     "name": "stderr",
     "output_type": "stream",
     "text": [
      "/data/apps/miniforge3/envs/cse6250-project/lib/python3.9/site-packages/keras/src/engine/training.py:3079: UserWarning: You are saving your model as an HDF5 file via `model.save()`. This file format is considered legacy. We recommend using instead the native Keras format, e.g. `model.save('my_model.keras')`.\n",
      "  saving_api.save_model(\n"
     ]
    },
    {
     "name": "stdout",
     "output_type": "stream",
     "text": [
      "231/242 [===========================>..] - ETA: 0s - loss: 0.1749 - acc: 0.9417\n",
      "Epoch 2: val_loss improved from 0.17876 to 0.16694, saving model to ../results/multimodal-baseline/best_models/avg-word2vec-mort_icu-best_model.hdf5\n",
      "242/242 [==============================] - 1s 3ms/step - loss: 0.1757 - acc: 0.9417 - val_loss: 0.1669 - val_acc: 0.9478\n",
      "Epoch 3/100\n",
      "230/242 [===========================>..] - ETA: 0s - loss: 0.1574 - acc: 0.9473\n",
      "Epoch 3: val_loss did not improve from 0.16694\n",
      "242/242 [==============================] - 1s 3ms/step - loss: 0.1586 - acc: 0.9469 - val_loss: 0.1677 - val_acc: 0.9464\n",
      "Epoch 4/100\n",
      "224/242 [==========================>...] - ETA: 0s - loss: 0.1499 - acc: 0.9494\n",
      "Epoch 4: val_loss improved from 0.16694 to 0.16505, saving model to ../results/multimodal-baseline/best_models/avg-word2vec-mort_icu-best_model.hdf5\n",
      "242/242 [==============================] - 1s 3ms/step - loss: 0.1504 - acc: 0.9491 - val_loss: 0.1650 - val_acc: 0.9432\n",
      "Epoch 5/100\n",
      "237/242 [============================>.] - ETA: 0s - loss: 0.1381 - acc: 0.9535\n",
      "Epoch 5: val_loss improved from 0.16505 to 0.16231, saving model to ../results/multimodal-baseline/best_models/avg-word2vec-mort_icu-best_model.hdf5\n",
      "242/242 [==============================] - 1s 3ms/step - loss: 0.1382 - acc: 0.9536 - val_loss: 0.1623 - val_acc: 0.9482\n",
      "Epoch 6/100\n",
      "227/242 [===========================>..] - ETA: 0s - loss: 0.1246 - acc: 0.9557\n",
      "Epoch 6: val_loss did not improve from 0.16231\n",
      "242/242 [==============================] - 1s 3ms/step - loss: 0.1259 - acc: 0.9557 - val_loss: 0.1717 - val_acc: 0.9432\n",
      "Epoch 7/100\n",
      "231/242 [===========================>..] - ETA: 0s - loss: 0.1086 - acc: 0.9637\n",
      "Epoch 7: val_loss did not improve from 0.16231\n",
      "242/242 [==============================] - 1s 3ms/step - loss: 0.1094 - acc: 0.9628 - val_loss: 0.1848 - val_acc: 0.9382\n",
      "Epoch 8/100\n",
      "239/242 [============================>.] - ETA: 0s - loss: 0.0907 - acc: 0.9678\n",
      "Epoch 8: val_loss did not improve from 0.16231\n",
      "242/242 [==============================] - 1s 3ms/step - loss: 0.0911 - acc: 0.9677 - val_loss: 0.1996 - val_acc: 0.9396\n",
      "Epoch 9/100\n",
      "236/242 [============================>.] - ETA: 0s - loss: 0.0739 - acc: 0.9770\n",
      "Epoch 9: val_loss did not improve from 0.16231\n",
      "242/242 [==============================] - 1s 3ms/step - loss: 0.0741 - acc: 0.9769 - val_loss: 0.2174 - val_acc: 0.9396\n",
      "Epoch 10/100\n",
      "240/242 [============================>.] - ETA: 0s - loss: 0.0600 - acc: 0.9799\n",
      "Epoch 10: val_loss did not improve from 0.16231\n",
      "242/242 [==============================] - 1s 3ms/step - loss: 0.0609 - acc: 0.9797 - val_loss: 0.2358 - val_acc: 0.9405\n",
      "138/138 [==============================] - 0s 1ms/step\n",
      "0.8754672264512083 0.5202259974549377 0.9448479346345892 0.44393592677345534\n"
     ]
    },
    {
     "name": "stderr",
     "output_type": "stream",
     "text": [
      "2023-11-13 01:23:50.008437: I tensorflow/core/common_runtime/gpu/gpu_device.cc:1886] Created device /job:localhost/replica:0/task:0/device:GPU:0 with 1256 MB memory:  -> device: 0, name: Quadro RTX 5000, pci bus id: 0000:2b:00.0, compute capability: 7.5\n",
      "2023-11-13 01:23:50.019113: I tensorflow/core/common_runtime/gpu/gpu_device.cc:1886] Created device /job:localhost/replica:0/task:0/device:GPU:0 with 1256 MB memory:  -> device: 0, name: Quadro RTX 5000, pci bus id: 0000:2b:00.0, compute capability: 7.5\n"
     ]
    },
    {
     "name": "stdout",
     "output_type": "stream",
     "text": [
      "Problem type:  los_3\n",
      "__________________\n",
      "Epoch 1/100\n"
     ]
    },
    {
     "name": "stderr",
     "output_type": "stream",
     "text": [
      "2023-11-13 01:23:51.942915: W tensorflow/tsl/framework/cpu_allocator_impl.cc:83] Allocation of 154622208 exceeds 10% of free system memory.\n"
     ]
    },
    {
     "name": "stdout",
     "output_type": "stream",
     "text": [
      "240/242 [============================>.] - ETA: 0s - loss: 0.6807 - acc: 0.6228\n",
      "Epoch 1: val_loss improved from inf to 0.62466, saving model to ../results/multimodal-baseline/best_models/avg-word2vec-los_3-best_model.hdf5\n",
      "242/242 [==============================] - 2s 4ms/step - loss: 0.6806 - acc: 0.6229 - val_loss: 0.6247 - val_acc: 0.6658\n",
      "Epoch 2/100\n",
      " 60/242 [======>.......................] - ETA: 0s - loss: 0.6291 - acc: 0.6622"
     ]
    },
    {
     "name": "stderr",
     "output_type": "stream",
     "text": [
      "/data/apps/miniforge3/envs/cse6250-project/lib/python3.9/site-packages/keras/src/engine/training.py:3079: UserWarning: You are saving your model as an HDF5 file via `model.save()`. This file format is considered legacy. We recommend using instead the native Keras format, e.g. `model.save('my_model.keras')`.\n",
      "  saving_api.save_model(\n"
     ]
    },
    {
     "name": "stdout",
     "output_type": "stream",
     "text": [
      "235/242 [============================>.] - ETA: 0s - loss: 0.6317 - acc: 0.6585\n",
      "Epoch 2: val_loss improved from 0.62466 to 0.61805, saving model to ../results/multimodal-baseline/best_models/avg-word2vec-los_3-best_model.hdf5\n",
      "242/242 [==============================] - 1s 3ms/step - loss: 0.6319 - acc: 0.6575 - val_loss: 0.6180 - val_acc: 0.6717\n",
      "Epoch 3/100\n",
      "237/242 [============================>.] - ETA: 0s - loss: 0.6123 - acc: 0.6721\n",
      "Epoch 3: val_loss improved from 0.61805 to 0.61279, saving model to ../results/multimodal-baseline/best_models/avg-word2vec-los_3-best_model.hdf5\n",
      "242/242 [==============================] - 1s 3ms/step - loss: 0.6125 - acc: 0.6715 - val_loss: 0.6128 - val_acc: 0.6780\n",
      "Epoch 4/100\n",
      "235/242 [============================>.] - ETA: 0s - loss: 0.6004 - acc: 0.6833\n",
      "Epoch 4: val_loss improved from 0.61279 to 0.60671, saving model to ../results/multimodal-baseline/best_models/avg-word2vec-los_3-best_model.hdf5\n",
      "242/242 [==============================] - 1s 3ms/step - loss: 0.5999 - acc: 0.6835 - val_loss: 0.6067 - val_acc: 0.6767\n",
      "Epoch 5/100\n",
      "226/242 [===========================>..] - ETA: 0s - loss: 0.5830 - acc: 0.6981\n",
      "Epoch 5: val_loss did not improve from 0.60671\n",
      "242/242 [==============================] - 1s 3ms/step - loss: 0.5832 - acc: 0.6985 - val_loss: 0.6157 - val_acc: 0.6744\n",
      "Epoch 6/100\n",
      "230/242 [===========================>..] - ETA: 0s - loss: 0.5645 - acc: 0.7169\n",
      "Epoch 6: val_loss did not improve from 0.60671\n",
      "242/242 [==============================] - 1s 3ms/step - loss: 0.5655 - acc: 0.7156 - val_loss: 0.6292 - val_acc: 0.6535\n",
      "Epoch 7/100\n",
      "227/242 [===========================>..] - ETA: 0s - loss: 0.5469 - acc: 0.7281\n",
      "Epoch 7: val_loss did not improve from 0.60671\n",
      "242/242 [==============================] - 1s 3ms/step - loss: 0.5449 - acc: 0.7295 - val_loss: 0.6312 - val_acc: 0.6671\n",
      "Epoch 8/100\n",
      "225/242 [==========================>...] - ETA: 0s - loss: 0.5139 - acc: 0.7487\n",
      "Epoch 8: val_loss did not improve from 0.60671\n",
      "242/242 [==============================] - 1s 3ms/step - loss: 0.5149 - acc: 0.7477 - val_loss: 0.6561 - val_acc: 0.6512\n",
      "Epoch 9/100\n",
      "226/242 [===========================>..] - ETA: 0s - loss: 0.4792 - acc: 0.7730\n",
      "Epoch 9: val_loss did not improve from 0.60671\n",
      "242/242 [==============================] - 1s 3ms/step - loss: 0.4806 - acc: 0.7719 - val_loss: 0.6751 - val_acc: 0.6485\n",
      "138/138 [==============================] - 0s 1ms/step\n",
      "0.7007293718123516 0.6390966586039171 0.6663640490240581 0.568408690546095\n"
     ]
    },
    {
     "name": "stderr",
     "output_type": "stream",
     "text": [
      "2023-11-13 01:24:00.619450: I tensorflow/core/common_runtime/gpu/gpu_device.cc:1886] Created device /job:localhost/replica:0/task:0/device:GPU:0 with 1256 MB memory:  -> device: 0, name: Quadro RTX 5000, pci bus id: 0000:2b:00.0, compute capability: 7.5\n",
      "2023-11-13 01:24:00.629089: I tensorflow/core/common_runtime/gpu/gpu_device.cc:1886] Created device /job:localhost/replica:0/task:0/device:GPU:0 with 1256 MB memory:  -> device: 0, name: Quadro RTX 5000, pci bus id: 0000:2b:00.0, compute capability: 7.5\n"
     ]
    },
    {
     "name": "stdout",
     "output_type": "stream",
     "text": [
      "Problem type:  los_7\n",
      "__________________\n",
      "Epoch 1/100\n",
      "232/242 [===========================>..] - ETA: 0s - loss: 0.2926 - acc: 0.9162\n",
      "Epoch 1: val_loss improved from inf to 0.26324, saving model to ../results/multimodal-baseline/best_models/avg-word2vec-los_7-best_model.hdf5\n",
      "242/242 [==============================] - 2s 4ms/step - loss: 0.2901 - acc: 0.9171 - val_loss: 0.2632 - val_acc: 0.9242\n",
      "Epoch 2/100\n",
      " 60/242 [======>.......................] - ETA: 0s - loss: 0.2817 - acc: 0.9107"
     ]
    },
    {
     "name": "stderr",
     "output_type": "stream",
     "text": [
      "/data/apps/miniforge3/envs/cse6250-project/lib/python3.9/site-packages/keras/src/engine/training.py:3079: UserWarning: You are saving your model as an HDF5 file via `model.save()`. This file format is considered legacy. We recommend using instead the native Keras format, e.g. `model.save('my_model.keras')`.\n",
      "  saving_api.save_model(\n"
     ]
    },
    {
     "name": "stdout",
     "output_type": "stream",
     "text": [
      "232/242 [===========================>..] - ETA: 0s - loss: 0.2569 - acc: 0.9223\n",
      "Epoch 2: val_loss improved from 0.26324 to 0.26283, saving model to ../results/multimodal-baseline/best_models/avg-word2vec-los_7-best_model.hdf5\n",
      "242/242 [==============================] - 1s 3ms/step - loss: 0.2570 - acc: 0.9220 - val_loss: 0.2628 - val_acc: 0.9237\n",
      "Epoch 3/100\n",
      "238/242 [============================>.] - ETA: 0s - loss: 0.2428 - acc: 0.9223\n",
      "Epoch 3: val_loss improved from 0.26283 to 0.25789, saving model to ../results/multimodal-baseline/best_models/avg-word2vec-los_7-best_model.hdf5\n",
      "242/242 [==============================] - 1s 4ms/step - loss: 0.2436 - acc: 0.9219 - val_loss: 0.2579 - val_acc: 0.9237\n",
      "Epoch 4/100\n",
      "227/242 [===========================>..] - ETA: 0s - loss: 0.2336 - acc: 0.9231\n",
      "Epoch 4: val_loss did not improve from 0.25789\n",
      "242/242 [==============================] - 1s 3ms/step - loss: 0.2339 - acc: 0.9231 - val_loss: 0.2638 - val_acc: 0.9187\n",
      "Epoch 5/100\n",
      "240/242 [============================>.] - ETA: 0s - loss: 0.2256 - acc: 0.9238\n",
      "Epoch 5: val_loss did not improve from 0.25789\n",
      "242/242 [==============================] - 1s 3ms/step - loss: 0.2255 - acc: 0.9238 - val_loss: 0.2582 - val_acc: 0.9237\n",
      "Epoch 6/100\n",
      "235/242 [============================>.] - ETA: 0s - loss: 0.2152 - acc: 0.9275\n",
      "Epoch 6: val_loss did not improve from 0.25789\n",
      "242/242 [==============================] - 1s 3ms/step - loss: 0.2167 - acc: 0.9269 - val_loss: 0.2733 - val_acc: 0.9146\n",
      "Epoch 7/100\n",
      "235/242 [============================>.] - ETA: 0s - loss: 0.1980 - acc: 0.9304\n",
      "Epoch 7: val_loss did not improve from 0.25789\n",
      "242/242 [==============================] - 1s 3ms/step - loss: 0.1994 - acc: 0.9299 - val_loss: 0.2851 - val_acc: 0.9142\n",
      "Epoch 8/100\n",
      "242/242 [==============================] - ETA: 0s - loss: 0.1785 - acc: 0.9376\n",
      "Epoch 8: val_loss did not improve from 0.25789\n",
      "242/242 [==============================] - 1s 3ms/step - loss: 0.1785 - acc: 0.9376 - val_loss: 0.2968 - val_acc: 0.9155\n",
      "138/138 [==============================] - 0s 1ms/step\n",
      "0.7293854903592731 0.2134766965799996 0.9196550158874263 0.03804347826086957\n"
     ]
    },
    {
     "name": "stderr",
     "output_type": "stream",
     "text": [
      "2023-11-13 01:24:10.565874: I tensorflow/core/common_runtime/gpu/gpu_device.cc:1886] Created device /job:localhost/replica:0/task:0/device:GPU:0 with 1256 MB memory:  -> device: 0, name: Quadro RTX 5000, pci bus id: 0000:2b:00.0, compute capability: 7.5\n",
      "2023-11-13 01:24:10.576379: I tensorflow/core/common_runtime/gpu/gpu_device.cc:1886] Created device /job:localhost/replica:0/task:0/device:GPU:0 with 1256 MB memory:  -> device: 0, name: Quadro RTX 5000, pci bus id: 0000:2b:00.0, compute capability: 7.5\n"
     ]
    },
    {
     "name": "stdout",
     "output_type": "stream",
     "text": [
      "Embedding:  fasttext\n",
      "=============================\n",
      "Iteration number:  1\n",
      "Problem type:  mort_hosp\n",
      "__________________\n",
      "Epoch 1/100\n",
      "241/242 [============================>.] - ETA: 0s - loss: 0.2927 - acc: 0.8992\n",
      "Epoch 1: val_loss improved from inf to 0.23925, saving model to ../results/multimodal-baseline/best_models/avg-fasttext-mort_hosp-best_model.hdf5\n",
      "242/242 [==============================] - 2s 4ms/step - loss: 0.2926 - acc: 0.8991 - val_loss: 0.2392 - val_acc: 0.9160\n",
      "Epoch 2/100\n",
      " 60/242 [======>.......................] - ETA: 0s - loss: 0.2510 - acc: 0.9148"
     ]
    },
    {
     "name": "stderr",
     "output_type": "stream",
     "text": [
      "/data/apps/miniforge3/envs/cse6250-project/lib/python3.9/site-packages/keras/src/engine/training.py:3079: UserWarning: You are saving your model as an HDF5 file via `model.save()`. This file format is considered legacy. We recommend using instead the native Keras format, e.g. `model.save('my_model.keras')`.\n",
      "  saving_api.save_model(\n"
     ]
    },
    {
     "name": "stdout",
     "output_type": "stream",
     "text": [
      "239/242 [============================>.] - ETA: 0s - loss: 0.2424 - acc: 0.9152\n",
      "Epoch 2: val_loss improved from 0.23925 to 0.22961, saving model to ../results/multimodal-baseline/best_models/avg-fasttext-mort_hosp-best_model.hdf5\n",
      "242/242 [==============================] - 1s 3ms/step - loss: 0.2415 - acc: 0.9156 - val_loss: 0.2296 - val_acc: 0.9164\n",
      "Epoch 3/100\n",
      "232/242 [===========================>..] - ETA: 0s - loss: 0.2250 - acc: 0.9196\n",
      "Epoch 3: val_loss improved from 0.22961 to 0.22774, saving model to ../results/multimodal-baseline/best_models/avg-fasttext-mort_hosp-best_model.hdf5\n",
      "242/242 [==============================] - 1s 3ms/step - loss: 0.2250 - acc: 0.9198 - val_loss: 0.2277 - val_acc: 0.9173\n",
      "Epoch 4/100\n",
      "232/242 [===========================>..] - ETA: 0s - loss: 0.2131 - acc: 0.9226\n",
      "Epoch 4: val_loss did not improve from 0.22774\n",
      "242/242 [==============================] - 1s 4ms/step - loss: 0.2110 - acc: 0.9231 - val_loss: 0.2413 - val_acc: 0.9137\n",
      "Epoch 5/100\n",
      "235/242 [============================>.] - ETA: 0s - loss: 0.1972 - acc: 0.9287\n",
      "Epoch 5: val_loss improved from 0.22774 to 0.22495, saving model to ../results/multimodal-baseline/best_models/avg-fasttext-mort_hosp-best_model.hdf5\n",
      "242/242 [==============================] - 1s 5ms/step - loss: 0.1977 - acc: 0.9286 - val_loss: 0.2249 - val_acc: 0.9133\n",
      "Epoch 6/100\n",
      "237/242 [============================>.] - ETA: 0s - loss: 0.1853 - acc: 0.9322\n",
      "Epoch 6: val_loss did not improve from 0.22495\n",
      "242/242 [==============================] - 1s 3ms/step - loss: 0.1848 - acc: 0.9324 - val_loss: 0.2321 - val_acc: 0.9178\n",
      "Epoch 7/100\n",
      "239/242 [============================>.] - ETA: 0s - loss: 0.1640 - acc: 0.9405\n",
      "Epoch 7: val_loss did not improve from 0.22495\n",
      "242/242 [==============================] - 1s 3ms/step - loss: 0.1641 - acc: 0.9407 - val_loss: 0.2537 - val_acc: 0.9137\n",
      "Epoch 8/100\n",
      "228/242 [===========================>..] - ETA: 0s - loss: 0.1475 - acc: 0.9462\n",
      "Epoch 8: val_loss did not improve from 0.22495\n",
      "242/242 [==============================] - 1s 3ms/step - loss: 0.1468 - acc: 0.9467 - val_loss: 0.2609 - val_acc: 0.9114\n",
      "Epoch 9/100\n",
      "236/242 [============================>.] - ETA: 0s - loss: 0.1237 - acc: 0.9570\n",
      "Epoch 9: val_loss did not improve from 0.22495\n",
      "242/242 [==============================] - 1s 3ms/step - loss: 0.1238 - acc: 0.9569 - val_loss: 0.2706 - val_acc: 0.9092\n",
      "Epoch 10/100\n",
      "237/242 [============================>.] - ETA: 0s - loss: 0.0993 - acc: 0.9664\n",
      "Epoch 10: val_loss did not improve from 0.22495\n",
      "242/242 [==============================] - 1s 3ms/step - loss: 0.1001 - acc: 0.9658 - val_loss: 0.3018 - val_acc: 0.8915\n",
      "138/138 [==============================] - 0s 1ms/step\n",
      "0.8781967372037089 0.5744290396649474 0.917385383567862 0.4873239436619719\n"
     ]
    },
    {
     "name": "stderr",
     "output_type": "stream",
     "text": [
      "2023-11-13 01:24:22.969468: I tensorflow/core/common_runtime/gpu/gpu_device.cc:1886] Created device /job:localhost/replica:0/task:0/device:GPU:0 with 1256 MB memory:  -> device: 0, name: Quadro RTX 5000, pci bus id: 0000:2b:00.0, compute capability: 7.5\n",
      "2023-11-13 01:24:22.981415: I tensorflow/core/common_runtime/gpu/gpu_device.cc:1886] Created device /job:localhost/replica:0/task:0/device:GPU:0 with 1256 MB memory:  -> device: 0, name: Quadro RTX 5000, pci bus id: 0000:2b:00.0, compute capability: 7.5\n"
     ]
    },
    {
     "name": "stdout",
     "output_type": "stream",
     "text": [
      "Problem type:  mort_icu\n",
      "__________________\n",
      "Epoch 1/100\n",
      "233/242 [===========================>..] - ETA: 0s - loss: 0.2217 - acc: 0.9297\n",
      "Epoch 1: val_loss improved from inf to 0.17796, saving model to ../results/multimodal-baseline/best_models/avg-fasttext-mort_icu-best_model.hdf5\n",
      "242/242 [==============================] - 2s 4ms/step - loss: 0.2201 - acc: 0.9305 - val_loss: 0.1780 - val_acc: 0.9446\n",
      "Epoch 2/100\n",
      " 55/242 [=====>........................] - ETA: 0s - loss: 0.1567 - acc: 0.9480"
     ]
    },
    {
     "name": "stderr",
     "output_type": "stream",
     "text": [
      "/data/apps/miniforge3/envs/cse6250-project/lib/python3.9/site-packages/keras/src/engine/training.py:3079: UserWarning: You are saving your model as an HDF5 file via `model.save()`. This file format is considered legacy. We recommend using instead the native Keras format, e.g. `model.save('my_model.keras')`.\n",
      "  saving_api.save_model(\n"
     ]
    },
    {
     "name": "stdout",
     "output_type": "stream",
     "text": [
      "242/242 [==============================] - ETA: 0s - loss: 0.1750 - acc: 0.9423\n",
      "Epoch 2: val_loss improved from 0.17796 to 0.17534, saving model to ../results/multimodal-baseline/best_models/avg-fasttext-mort_icu-best_model.hdf5\n",
      "242/242 [==============================] - 1s 3ms/step - loss: 0.1750 - acc: 0.9423 - val_loss: 0.1753 - val_acc: 0.9432\n",
      "Epoch 3/100\n",
      "242/242 [==============================] - ETA: 0s - loss: 0.1611 - acc: 0.9451\n",
      "Epoch 3: val_loss improved from 0.17534 to 0.17313, saving model to ../results/multimodal-baseline/best_models/avg-fasttext-mort_icu-best_model.hdf5\n",
      "242/242 [==============================] - 1s 3ms/step - loss: 0.1611 - acc: 0.9451 - val_loss: 0.1731 - val_acc: 0.9423\n",
      "Epoch 4/100\n",
      "242/242 [==============================] - ETA: 0s - loss: 0.1505 - acc: 0.9480\n",
      "Epoch 4: val_loss improved from 0.17313 to 0.16812, saving model to ../results/multimodal-baseline/best_models/avg-fasttext-mort_icu-best_model.hdf5\n",
      "242/242 [==============================] - 1s 3ms/step - loss: 0.1505 - acc: 0.9480 - val_loss: 0.1681 - val_acc: 0.9414\n",
      "Epoch 5/100\n",
      "233/242 [===========================>..] - ETA: 0s - loss: 0.1384 - acc: 0.9521\n",
      "Epoch 5: val_loss did not improve from 0.16812\n",
      "242/242 [==============================] - 1s 3ms/step - loss: 0.1377 - acc: 0.9523 - val_loss: 0.1707 - val_acc: 0.9419\n",
      "Epoch 6/100\n",
      "232/242 [===========================>..] - ETA: 0s - loss: 0.1224 - acc: 0.9569\n",
      "Epoch 6: val_loss did not improve from 0.16812\n",
      "242/242 [==============================] - 1s 3ms/step - loss: 0.1235 - acc: 0.9567 - val_loss: 0.1782 - val_acc: 0.9401\n",
      "Epoch 7/100\n",
      "233/242 [===========================>..] - ETA: 0s - loss: 0.1071 - acc: 0.9626\n",
      "Epoch 7: val_loss did not improve from 0.16812\n",
      "242/242 [==============================] - 1s 3ms/step - loss: 0.1088 - acc: 0.9616 - val_loss: 0.1945 - val_acc: 0.9342\n",
      "Epoch 8/100\n",
      "234/242 [============================>.] - ETA: 0s - loss: 0.0931 - acc: 0.9671\n",
      "Epoch 8: val_loss did not improve from 0.16812\n",
      "242/242 [==============================] - 1s 3ms/step - loss: 0.0927 - acc: 0.9669 - val_loss: 0.2045 - val_acc: 0.9405\n",
      "Epoch 9/100\n",
      "241/242 [============================>.] - ETA: 0s - loss: 0.0773 - acc: 0.9737\n",
      "Epoch 9: val_loss did not improve from 0.16812\n",
      "242/242 [==============================] - 1s 3ms/step - loss: 0.0772 - acc: 0.9737 - val_loss: 0.2151 - val_acc: 0.9414\n",
      "138/138 [==============================] - 0s 1ms/step\n",
      "0.8706778901307115 0.5087276533607882 0.9398547435315479 0.4175824175824176\n"
     ]
    },
    {
     "name": "stderr",
     "output_type": "stream",
     "text": [
      "2023-11-13 01:24:33.804287: I tensorflow/core/common_runtime/gpu/gpu_device.cc:1886] Created device /job:localhost/replica:0/task:0/device:GPU:0 with 1256 MB memory:  -> device: 0, name: Quadro RTX 5000, pci bus id: 0000:2b:00.0, compute capability: 7.5\n",
      "2023-11-13 01:24:33.814947: I tensorflow/core/common_runtime/gpu/gpu_device.cc:1886] Created device /job:localhost/replica:0/task:0/device:GPU:0 with 1256 MB memory:  -> device: 0, name: Quadro RTX 5000, pci bus id: 0000:2b:00.0, compute capability: 7.5\n"
     ]
    },
    {
     "name": "stdout",
     "output_type": "stream",
     "text": [
      "Problem type:  los_3\n",
      "__________________\n",
      "Epoch 1/100\n",
      "238/242 [============================>.] - ETA: 0s - loss: 0.6852 - acc: 0.6147\n",
      "Epoch 1: val_loss improved from inf to 0.63436, saving model to ../results/multimodal-baseline/best_models/avg-fasttext-los_3-best_model.hdf5\n",
      "242/242 [==============================] - 2s 4ms/step - loss: 0.6844 - acc: 0.6152 - val_loss: 0.6344 - val_acc: 0.6571\n",
      "Epoch 2/100\n",
      " 40/242 [===>..........................] - ETA: 0s - loss: 0.6293 - acc: 0.6594"
     ]
    },
    {
     "name": "stderr",
     "output_type": "stream",
     "text": [
      "/data/apps/miniforge3/envs/cse6250-project/lib/python3.9/site-packages/keras/src/engine/training.py:3079: UserWarning: You are saving your model as an HDF5 file via `model.save()`. This file format is considered legacy. We recommend using instead the native Keras format, e.g. `model.save('my_model.keras')`.\n",
      "  saving_api.save_model(\n"
     ]
    },
    {
     "name": "stdout",
     "output_type": "stream",
     "text": [
      "232/242 [===========================>..] - ETA: 0s - loss: 0.6325 - acc: 0.6597\n",
      "Epoch 2: val_loss improved from 0.63436 to 0.62432, saving model to ../results/multimodal-baseline/best_models/avg-fasttext-los_3-best_model.hdf5\n",
      "242/242 [==============================] - 1s 3ms/step - loss: 0.6330 - acc: 0.6583 - val_loss: 0.6243 - val_acc: 0.6630\n",
      "Epoch 3/100\n",
      "236/242 [============================>.] - ETA: 0s - loss: 0.6144 - acc: 0.6743\n",
      "Epoch 3: val_loss improved from 0.62432 to 0.62073, saving model to ../results/multimodal-baseline/best_models/avg-fasttext-los_3-best_model.hdf5\n",
      "242/242 [==============================] - 1s 3ms/step - loss: 0.6146 - acc: 0.6744 - val_loss: 0.6207 - val_acc: 0.6585\n",
      "Epoch 4/100\n",
      "226/242 [===========================>..] - ETA: 0s - loss: 0.6006 - acc: 0.6857\n",
      "Epoch 4: val_loss did not improve from 0.62073\n",
      "242/242 [==============================] - 1s 3ms/step - loss: 0.6022 - acc: 0.6845 - val_loss: 0.6215 - val_acc: 0.6599\n",
      "Epoch 5/100\n",
      "241/242 [============================>.] - ETA: 0s - loss: 0.5870 - acc: 0.6964\n",
      "Epoch 5: val_loss improved from 0.62073 to 0.61041, saving model to ../results/multimodal-baseline/best_models/avg-fasttext-los_3-best_model.hdf5\n",
      "242/242 [==============================] - 1s 3ms/step - loss: 0.5870 - acc: 0.6963 - val_loss: 0.6104 - val_acc: 0.6771\n",
      "Epoch 6/100\n",
      "236/242 [============================>.] - ETA: 0s - loss: 0.5714 - acc: 0.7095\n",
      "Epoch 6: val_loss did not improve from 0.61041\n",
      "242/242 [==============================] - 1s 3ms/step - loss: 0.5708 - acc: 0.7108 - val_loss: 0.6343 - val_acc: 0.6567\n",
      "Epoch 7/100\n",
      "239/242 [============================>.] - ETA: 0s - loss: 0.5461 - acc: 0.7268\n",
      "Epoch 7: val_loss did not improve from 0.61041\n",
      "242/242 [==============================] - 1s 3ms/step - loss: 0.5463 - acc: 0.7269 - val_loss: 0.6295 - val_acc: 0.6603\n",
      "Epoch 8/100\n",
      "239/242 [============================>.] - ETA: 0s - loss: 0.5218 - acc: 0.7426\n",
      "Epoch 8: val_loss did not improve from 0.61041\n",
      "242/242 [==============================] - 1s 3ms/step - loss: 0.5223 - acc: 0.7420 - val_loss: 0.6318 - val_acc: 0.6630\n",
      "Epoch 9/100\n",
      "232/242 [===========================>..] - ETA: 0s - loss: 0.4865 - acc: 0.7690\n",
      "Epoch 9: val_loss did not improve from 0.61041\n",
      "242/242 [==============================] - 1s 3ms/step - loss: 0.4869 - acc: 0.7689 - val_loss: 0.6756 - val_acc: 0.6453\n",
      "Epoch 10/100\n",
      "233/242 [===========================>..] - ETA: 0s - loss: 0.4483 - acc: 0.7918\n",
      "Epoch 10: val_loss did not improve from 0.61041\n",
      "242/242 [==============================] - 1s 3ms/step - loss: 0.4492 - acc: 0.7909 - val_loss: 0.7008 - val_acc: 0.6435\n",
      "138/138 [==============================] - 0s 1ms/step\n",
      "0.6967826844417513 0.6389322375017827 0.6600090785292783 0.5280403276622558\n"
     ]
    },
    {
     "name": "stderr",
     "output_type": "stream",
     "text": [
      "2023-11-13 01:24:46.213916: I tensorflow/core/common_runtime/gpu/gpu_device.cc:1886] Created device /job:localhost/replica:0/task:0/device:GPU:0 with 1256 MB memory:  -> device: 0, name: Quadro RTX 5000, pci bus id: 0000:2b:00.0, compute capability: 7.5\n",
      "2023-11-13 01:24:46.223587: I tensorflow/core/common_runtime/gpu/gpu_device.cc:1886] Created device /job:localhost/replica:0/task:0/device:GPU:0 with 1256 MB memory:  -> device: 0, name: Quadro RTX 5000, pci bus id: 0000:2b:00.0, compute capability: 7.5\n"
     ]
    },
    {
     "name": "stdout",
     "output_type": "stream",
     "text": [
      "Problem type:  los_7\n",
      "__________________\n",
      "Epoch 1/100\n",
      "230/242 [===========================>..] - ETA: 0s - loss: 0.2880 - acc: 0.9194\n",
      "Epoch 1: val_loss improved from inf to 0.26740, saving model to ../results/multimodal-baseline/best_models/avg-fasttext-los_7-best_model.hdf5\n",
      "242/242 [==============================] - 2s 6ms/step - loss: 0.2861 - acc: 0.9199 - val_loss: 0.2674 - val_acc: 0.9228\n",
      "Epoch 2/100\n",
      " 49/242 [=====>........................] - ETA: 0s - loss: 0.2860 - acc: 0.9094"
     ]
    },
    {
     "name": "stderr",
     "output_type": "stream",
     "text": [
      "/data/apps/miniforge3/envs/cse6250-project/lib/python3.9/site-packages/keras/src/engine/training.py:3079: UserWarning: You are saving your model as an HDF5 file via `model.save()`. This file format is considered legacy. We recommend using instead the native Keras format, e.g. `model.save('my_model.keras')`.\n",
      "  saving_api.save_model(\n"
     ]
    },
    {
     "name": "stdout",
     "output_type": "stream",
     "text": [
      "235/242 [============================>.] - ETA: 0s - loss: 0.2543 - acc: 0.9218\n",
      "Epoch 2: val_loss improved from 0.26740 to 0.26486, saving model to ../results/multimodal-baseline/best_models/avg-fasttext-los_7-best_model.hdf5\n",
      "242/242 [==============================] - 1s 4ms/step - loss: 0.2544 - acc: 0.9217 - val_loss: 0.2649 - val_acc: 0.9237\n",
      "Epoch 3/100\n",
      "232/242 [===========================>..] - ETA: 0s - loss: 0.2437 - acc: 0.9224\n",
      "Epoch 3: val_loss improved from 0.26486 to 0.25801, saving model to ../results/multimodal-baseline/best_models/avg-fasttext-los_7-best_model.hdf5\n",
      "242/242 [==============================] - 1s 4ms/step - loss: 0.2442 - acc: 0.9223 - val_loss: 0.2580 - val_acc: 0.9233\n",
      "Epoch 4/100\n",
      "229/242 [===========================>..] - ETA: 0s - loss: 0.2379 - acc: 0.9223\n",
      "Epoch 4: val_loss did not improve from 0.25801\n",
      "242/242 [==============================] - 1s 4ms/step - loss: 0.2353 - acc: 0.9232 - val_loss: 0.2670 - val_acc: 0.9233\n",
      "Epoch 5/100\n",
      "241/242 [============================>.] - ETA: 0s - loss: 0.2268 - acc: 0.9238\n",
      "Epoch 5: val_loss did not improve from 0.25801\n",
      "242/242 [==============================] - 1s 4ms/step - loss: 0.2272 - acc: 0.9237 - val_loss: 0.2609 - val_acc: 0.9223\n",
      "Epoch 6/100\n",
      "235/242 [============================>.] - ETA: 0s - loss: 0.2160 - acc: 0.9257\n",
      "Epoch 6: val_loss did not improve from 0.25801\n",
      "242/242 [==============================] - 1s 3ms/step - loss: 0.2162 - acc: 0.9256 - val_loss: 0.2656 - val_acc: 0.9223\n",
      "Epoch 7/100\n",
      "232/242 [===========================>..] - ETA: 0s - loss: 0.1989 - acc: 0.9291\n",
      "Epoch 7: val_loss did not improve from 0.25801\n",
      "242/242 [==============================] - 1s 4ms/step - loss: 0.1989 - acc: 0.9297 - val_loss: 0.2818 - val_acc: 0.9187\n",
      "Epoch 8/100\n",
      "242/242 [==============================] - ETA: 0s - loss: 0.1776 - acc: 0.9368\n",
      "Epoch 8: val_loss did not improve from 0.25801\n",
      "242/242 [==============================] - 1s 3ms/step - loss: 0.1776 - acc: 0.9368 - val_loss: 0.2989 - val_acc: 0.9146\n",
      "138/138 [==============================] - 0s 1ms/step\n",
      "0.719126785961992 0.20156015343347572 0.9194280526554698 0.005602240896358543\n"
     ]
    },
    {
     "name": "stderr",
     "output_type": "stream",
     "text": [
      "2023-11-13 01:24:58.393453: I tensorflow/core/common_runtime/gpu/gpu_device.cc:1886] Created device /job:localhost/replica:0/task:0/device:GPU:0 with 1256 MB memory:  -> device: 0, name: Quadro RTX 5000, pci bus id: 0000:2b:00.0, compute capability: 7.5\n",
      "2023-11-13 01:24:58.405819: I tensorflow/core/common_runtime/gpu/gpu_device.cc:1886] Created device /job:localhost/replica:0/task:0/device:GPU:0 with 1256 MB memory:  -> device: 0, name: Quadro RTX 5000, pci bus id: 0000:2b:00.0, compute capability: 7.5\n"
     ]
    },
    {
     "name": "stdout",
     "output_type": "stream",
     "text": [
      "Hidden unit:  256\n",
      "Embedding:  word2vec\n",
      "=============================\n",
      "Iteration number:  1\n",
      "Problem type:  mort_hosp\n",
      "__________________\n",
      "Epoch 1/100\n",
      "237/242 [============================>.] - ETA: 0s - loss: 0.2928 - acc: 0.9027\n",
      "Epoch 1: val_loss improved from inf to 0.24004, saving model to ../results/multimodal-baseline/best_models/avg-word2vec-mort_hosp-best_model.hdf5\n",
      "242/242 [==============================] - 2s 5ms/step - loss: 0.2923 - acc: 0.9029 - val_loss: 0.2400 - val_acc: 0.9160\n",
      "Epoch 2/100\n",
      " 33/242 [===>..........................] - ETA: 0s - loss: 0.2045 - acc: 0.9295"
     ]
    },
    {
     "name": "stderr",
     "output_type": "stream",
     "text": [
      "/data/apps/miniforge3/envs/cse6250-project/lib/python3.9/site-packages/keras/src/engine/training.py:3079: UserWarning: You are saving your model as an HDF5 file via `model.save()`. This file format is considered legacy. We recommend using instead the native Keras format, e.g. `model.save('my_model.keras')`.\n",
      "  saving_api.save_model(\n"
     ]
    },
    {
     "name": "stdout",
     "output_type": "stream",
     "text": [
      "231/242 [===========================>..] - ETA: 0s - loss: 0.2383 - acc: 0.9169\n",
      "Epoch 2: val_loss improved from 0.24004 to 0.23569, saving model to ../results/multimodal-baseline/best_models/avg-word2vec-mort_hosp-best_model.hdf5\n",
      "242/242 [==============================] - 1s 4ms/step - loss: 0.2397 - acc: 0.9159 - val_loss: 0.2357 - val_acc: 0.9128\n",
      "Epoch 3/100\n",
      "229/242 [===========================>..] - ETA: 0s - loss: 0.2227 - acc: 0.9213\n",
      "Epoch 3: val_loss improved from 0.23569 to 0.22871, saving model to ../results/multimodal-baseline/best_models/avg-word2vec-mort_hosp-best_model.hdf5\n",
      "242/242 [==============================] - 1s 4ms/step - loss: 0.2237 - acc: 0.9212 - val_loss: 0.2287 - val_acc: 0.9160\n",
      "Epoch 4/100\n",
      "242/242 [==============================] - ETA: 0s - loss: 0.2106 - acc: 0.9243\n",
      "Epoch 4: val_loss did not improve from 0.22871\n",
      "242/242 [==============================] - 1s 4ms/step - loss: 0.2106 - acc: 0.9243 - val_loss: 0.2311 - val_acc: 0.9155\n",
      "Epoch 5/100\n",
      "230/242 [===========================>..] - ETA: 0s - loss: 0.1942 - acc: 0.9295\n",
      "Epoch 5: val_loss did not improve from 0.22871\n",
      "242/242 [==============================] - 1s 3ms/step - loss: 0.1931 - acc: 0.9296 - val_loss: 0.2403 - val_acc: 0.9151\n",
      "Epoch 6/100\n",
      "233/242 [===========================>..] - ETA: 0s - loss: 0.1730 - acc: 0.9360\n",
      "Epoch 6: val_loss did not improve from 0.22871\n",
      "242/242 [==============================] - 1s 3ms/step - loss: 0.1725 - acc: 0.9362 - val_loss: 0.2572 - val_acc: 0.9119\n",
      "Epoch 7/100\n",
      "241/242 [============================>.] - ETA: 0s - loss: 0.1510 - acc: 0.9477\n",
      "Epoch 7: val_loss did not improve from 0.22871\n",
      "242/242 [==============================] - 1s 4ms/step - loss: 0.1511 - acc: 0.9477 - val_loss: 0.2616 - val_acc: 0.9037\n",
      "Epoch 8/100\n",
      "239/242 [============================>.] - ETA: 0s - loss: 0.1293 - acc: 0.9535\n",
      "Epoch 8: val_loss did not improve from 0.22871\n",
      "242/242 [==============================] - 1s 4ms/step - loss: 0.1290 - acc: 0.9536 - val_loss: 0.2773 - val_acc: 0.9133\n",
      "138/138 [==============================] - 0s 1ms/step\n",
      "0.8747820821867657 0.5699077314026981 0.9164775306400363 0.4338461538461539\n"
     ]
    },
    {
     "name": "stderr",
     "output_type": "stream",
     "text": [
      "2023-11-13 01:25:10.768685: I tensorflow/core/common_runtime/gpu/gpu_device.cc:1886] Created device /job:localhost/replica:0/task:0/device:GPU:0 with 1256 MB memory:  -> device: 0, name: Quadro RTX 5000, pci bus id: 0000:2b:00.0, compute capability: 7.5\n",
      "2023-11-13 01:25:10.781190: I tensorflow/core/common_runtime/gpu/gpu_device.cc:1886] Created device /job:localhost/replica:0/task:0/device:GPU:0 with 1256 MB memory:  -> device: 0, name: Quadro RTX 5000, pci bus id: 0000:2b:00.0, compute capability: 7.5\n"
     ]
    },
    {
     "name": "stdout",
     "output_type": "stream",
     "text": [
      "Problem type:  mort_icu\n",
      "__________________\n",
      "Epoch 1/100\n",
      "227/242 [===========================>..] - ETA: 0s - loss: 0.2127 - acc: 0.9358\n",
      "Epoch 1: val_loss improved from inf to 0.17512, saving model to ../results/multimodal-baseline/best_models/avg-word2vec-mort_icu-best_model.hdf5\n",
      "242/242 [==============================] - 2s 4ms/step - loss: 0.2117 - acc: 0.9362 - val_loss: 0.1751 - val_acc: 0.9437\n",
      "Epoch 2/100\n",
      " 53/242 [=====>........................] - ETA: 0s - loss: 0.1810 - acc: 0.9372"
     ]
    },
    {
     "name": "stderr",
     "output_type": "stream",
     "text": [
      "/data/apps/miniforge3/envs/cse6250-project/lib/python3.9/site-packages/keras/src/engine/training.py:3079: UserWarning: You are saving your model as an HDF5 file via `model.save()`. This file format is considered legacy. We recommend using instead the native Keras format, e.g. `model.save('my_model.keras')`.\n",
      "  saving_api.save_model(\n"
     ]
    },
    {
     "name": "stdout",
     "output_type": "stream",
     "text": [
      "232/242 [===========================>..] - ETA: 0s - loss: 0.1726 - acc: 0.9440\n",
      "Epoch 2: val_loss improved from 0.17512 to 0.17027, saving model to ../results/multimodal-baseline/best_models/avg-word2vec-mort_icu-best_model.hdf5\n",
      "242/242 [==============================] - 1s 3ms/step - loss: 0.1740 - acc: 0.9438 - val_loss: 0.1703 - val_acc: 0.9450\n",
      "Epoch 3/100\n",
      "242/242 [==============================] - ETA: 0s - loss: 0.1614 - acc: 0.9456\n",
      "Epoch 3: val_loss improved from 0.17027 to 0.16665, saving model to ../results/multimodal-baseline/best_models/avg-word2vec-mort_icu-best_model.hdf5\n",
      "242/242 [==============================] - 1s 3ms/step - loss: 0.1614 - acc: 0.9456 - val_loss: 0.1666 - val_acc: 0.9469\n",
      "Epoch 4/100\n",
      "230/242 [===========================>..] - ETA: 0s - loss: 0.1466 - acc: 0.9499\n",
      "Epoch 4: val_loss improved from 0.16665 to 0.16360, saving model to ../results/multimodal-baseline/best_models/avg-word2vec-mort_icu-best_model.hdf5\n",
      "242/242 [==============================] - 1s 3ms/step - loss: 0.1473 - acc: 0.9502 - val_loss: 0.1636 - val_acc: 0.9455\n",
      "Epoch 5/100\n",
      "242/242 [==============================] - ETA: 0s - loss: 0.1364 - acc: 0.9516\n",
      "Epoch 5: val_loss did not improve from 0.16360\n",
      "242/242 [==============================] - 1s 3ms/step - loss: 0.1364 - acc: 0.9516 - val_loss: 0.1737 - val_acc: 0.9410\n",
      "Epoch 6/100\n",
      "234/242 [============================>.] - ETA: 0s - loss: 0.1195 - acc: 0.9581\n",
      "Epoch 6: val_loss did not improve from 0.16360\n",
      "242/242 [==============================] - 1s 3ms/step - loss: 0.1190 - acc: 0.9582 - val_loss: 0.1891 - val_acc: 0.9391\n",
      "Epoch 7/100\n",
      "231/242 [===========================>..] - ETA: 0s - loss: 0.1027 - acc: 0.9635\n",
      "Epoch 7: val_loss did not improve from 0.16360\n",
      "242/242 [==============================] - 1s 3ms/step - loss: 0.1027 - acc: 0.9632 - val_loss: 0.1822 - val_acc: 0.9432\n",
      "Epoch 8/100\n",
      "239/242 [============================>.] - ETA: 0s - loss: 0.0784 - acc: 0.9725\n",
      "Epoch 8: val_loss did not improve from 0.16360\n",
      "242/242 [==============================] - 1s 3ms/step - loss: 0.0783 - acc: 0.9726 - val_loss: 0.2157 - val_acc: 0.9446\n",
      "Epoch 9/100\n",
      "226/242 [===========================>..] - ETA: 0s - loss: 0.0601 - acc: 0.9798\n",
      "Epoch 9: val_loss did not improve from 0.16360\n",
      "242/242 [==============================] - 1s 3ms/step - loss: 0.0608 - acc: 0.9797 - val_loss: 0.2220 - val_acc: 0.9378\n",
      "138/138 [==============================] - 0s 1ms/step\n",
      "0.8823765847125433 0.5097282162972335 0.9414434861552429 0.3915094339622642\n"
     ]
    },
    {
     "name": "stderr",
     "output_type": "stream",
     "text": [
      "2023-11-13 01:25:22.424039: I tensorflow/core/common_runtime/gpu/gpu_device.cc:1886] Created device /job:localhost/replica:0/task:0/device:GPU:0 with 1256 MB memory:  -> device: 0, name: Quadro RTX 5000, pci bus id: 0000:2b:00.0, compute capability: 7.5\n",
      "2023-11-13 01:25:22.435348: I tensorflow/core/common_runtime/gpu/gpu_device.cc:1886] Created device /job:localhost/replica:0/task:0/device:GPU:0 with 1256 MB memory:  -> device: 0, name: Quadro RTX 5000, pci bus id: 0000:2b:00.0, compute capability: 7.5\n"
     ]
    },
    {
     "name": "stdout",
     "output_type": "stream",
     "text": [
      "Problem type:  los_3\n",
      "__________________\n",
      "Epoch 1/100\n",
      "232/242 [===========================>..] - ETA: 0s - loss: 0.6764 - acc: 0.6235\n",
      "Epoch 1: val_loss improved from inf to 0.62703, saving model to ../results/multimodal-baseline/best_models/avg-word2vec-los_3-best_model.hdf5\n",
      "242/242 [==============================] - 2s 4ms/step - loss: 0.6747 - acc: 0.6249 - val_loss: 0.6270 - val_acc: 0.6649\n",
      "Epoch 2/100\n",
      " 52/242 [=====>........................] - ETA: 0s - loss: 0.6230 - acc: 0.6644"
     ]
    },
    {
     "name": "stderr",
     "output_type": "stream",
     "text": [
      "/data/apps/miniforge3/envs/cse6250-project/lib/python3.9/site-packages/keras/src/engine/training.py:3079: UserWarning: You are saving your model as an HDF5 file via `model.save()`. This file format is considered legacy. We recommend using instead the native Keras format, e.g. `model.save('my_model.keras')`.\n",
      "  saving_api.save_model(\n"
     ]
    },
    {
     "name": "stdout",
     "output_type": "stream",
     "text": [
      "233/242 [===========================>..] - ETA: 0s - loss: 0.6272 - acc: 0.6591\n",
      "Epoch 2: val_loss improved from 0.62703 to 0.61663, saving model to ../results/multimodal-baseline/best_models/avg-word2vec-los_3-best_model.hdf5\n",
      "242/242 [==============================] - 1s 3ms/step - loss: 0.6275 - acc: 0.6591 - val_loss: 0.6166 - val_acc: 0.6744\n",
      "Epoch 3/100\n",
      "235/242 [============================>.] - ETA: 0s - loss: 0.6081 - acc: 0.6793\n",
      "Epoch 3: val_loss improved from 0.61663 to 0.61503, saving model to ../results/multimodal-baseline/best_models/avg-word2vec-los_3-best_model.hdf5\n",
      "242/242 [==============================] - 1s 4ms/step - loss: 0.6081 - acc: 0.6792 - val_loss: 0.6150 - val_acc: 0.6735\n",
      "Epoch 4/100\n",
      "236/242 [============================>.] - ETA: 0s - loss: 0.5929 - acc: 0.6925\n",
      "Epoch 4: val_loss improved from 0.61503 to 0.61192, saving model to ../results/multimodal-baseline/best_models/avg-word2vec-los_3-best_model.hdf5\n",
      "242/242 [==============================] - 1s 4ms/step - loss: 0.5925 - acc: 0.6922 - val_loss: 0.6119 - val_acc: 0.6658\n",
      "Epoch 5/100\n",
      "238/242 [============================>.] - ETA: 0s - loss: 0.5745 - acc: 0.7052\n",
      "Epoch 5: val_loss did not improve from 0.61192\n",
      "242/242 [==============================] - 1s 3ms/step - loss: 0.5748 - acc: 0.7052 - val_loss: 0.6256 - val_acc: 0.6630\n",
      "Epoch 6/100\n",
      "232/242 [===========================>..] - ETA: 0s - loss: 0.5496 - acc: 0.7277\n",
      "Epoch 6: val_loss did not improve from 0.61192\n",
      "242/242 [==============================] - 1s 4ms/step - loss: 0.5502 - acc: 0.7268 - val_loss: 0.6273 - val_acc: 0.6599\n",
      "Epoch 7/100\n",
      "228/242 [===========================>..] - ETA: 0s - loss: 0.5213 - acc: 0.7463\n",
      "Epoch 7: val_loss did not improve from 0.61192\n",
      "242/242 [==============================] - 1s 3ms/step - loss: 0.5224 - acc: 0.7449 - val_loss: 0.6559 - val_acc: 0.6408\n",
      "Epoch 8/100\n",
      "241/242 [============================>.] - ETA: 0s - loss: 0.4741 - acc: 0.7761\n",
      "Epoch 8: val_loss did not improve from 0.61192\n",
      "242/242 [==============================] - 1s 3ms/step - loss: 0.4742 - acc: 0.7760 - val_loss: 0.6908 - val_acc: 0.6485\n",
      "Epoch 9/100\n",
      "236/242 [============================>.] - ETA: 0s - loss: 0.4190 - acc: 0.8057\n",
      "Epoch 9: val_loss did not improve from 0.61192\n",
      "242/242 [==============================] - 1s 3ms/step - loss: 0.4185 - acc: 0.8064 - val_loss: 0.7635 - val_acc: 0.6385\n",
      "138/138 [==============================] - 0s 1ms/step\n",
      "0.6949088101129457 0.6350575578499864 0.6588742623694961 0.5441310282074613\n"
     ]
    },
    {
     "name": "stderr",
     "output_type": "stream",
     "text": [
      "2023-11-13 01:25:33.955976: I tensorflow/core/common_runtime/gpu/gpu_device.cc:1886] Created device /job:localhost/replica:0/task:0/device:GPU:0 with 1256 MB memory:  -> device: 0, name: Quadro RTX 5000, pci bus id: 0000:2b:00.0, compute capability: 7.5\n",
      "2023-11-13 01:25:33.969295: I tensorflow/core/common_runtime/gpu/gpu_device.cc:1886] Created device /job:localhost/replica:0/task:0/device:GPU:0 with 1256 MB memory:  -> device: 0, name: Quadro RTX 5000, pci bus id: 0000:2b:00.0, compute capability: 7.5\n"
     ]
    },
    {
     "name": "stdout",
     "output_type": "stream",
     "text": [
      "Problem type:  los_7\n",
      "__________________\n",
      "Epoch 1/100\n",
      "234/242 [============================>.] - ETA: 0s - loss: 0.2889 - acc: 0.9177\n",
      "Epoch 1: val_loss improved from inf to 0.26591, saving model to ../results/multimodal-baseline/best_models/avg-word2vec-los_7-best_model.hdf5\n",
      "242/242 [==============================] - 2s 5ms/step - loss: 0.2883 - acc: 0.9180 - val_loss: 0.2659 - val_acc: 0.9233\n",
      "Epoch 2/100\n",
      " 37/242 [===>..........................] - ETA: 0s - loss: 0.2540 - acc: 0.9210"
     ]
    },
    {
     "name": "stderr",
     "output_type": "stream",
     "text": [
      "/data/apps/miniforge3/envs/cse6250-project/lib/python3.9/site-packages/keras/src/engine/training.py:3079: UserWarning: You are saving your model as an HDF5 file via `model.save()`. This file format is considered legacy. We recommend using instead the native Keras format, e.g. `model.save('my_model.keras')`.\n",
      "  saving_api.save_model(\n"
     ]
    },
    {
     "name": "stdout",
     "output_type": "stream",
     "text": [
      "236/242 [============================>.] - ETA: 0s - loss: 0.2541 - acc: 0.9220\n",
      "Epoch 2: val_loss improved from 0.26591 to 0.25868, saving model to ../results/multimodal-baseline/best_models/avg-word2vec-los_7-best_model.hdf5\n",
      "242/242 [==============================] - 1s 4ms/step - loss: 0.2541 - acc: 0.9221 - val_loss: 0.2587 - val_acc: 0.9233\n",
      "Epoch 3/100\n",
      "231/242 [===========================>..] - ETA: 0s - loss: 0.2440 - acc: 0.9225\n",
      "Epoch 3: val_loss did not improve from 0.25868\n",
      "242/242 [==============================] - 1s 3ms/step - loss: 0.2439 - acc: 0.9225 - val_loss: 0.2656 - val_acc: 0.9228\n",
      "Epoch 4/100\n",
      "229/242 [===========================>..] - ETA: 0s - loss: 0.2332 - acc: 0.9230\n",
      "Epoch 4: val_loss did not improve from 0.25868\n",
      "242/242 [==============================] - 1s 3ms/step - loss: 0.2338 - acc: 0.9229 - val_loss: 0.2635 - val_acc: 0.9233\n",
      "Epoch 5/100\n",
      "228/242 [===========================>..] - ETA: 0s - loss: 0.2205 - acc: 0.9258\n",
      "Epoch 5: val_loss did not improve from 0.25868\n",
      "242/242 [==============================] - 1s 3ms/step - loss: 0.2218 - acc: 0.9250 - val_loss: 0.2643 - val_acc: 0.9214\n",
      "Epoch 6/100\n",
      "236/242 [============================>.] - ETA: 0s - loss: 0.2039 - acc: 0.9294\n",
      "Epoch 6: val_loss did not improve from 0.25868\n",
      "242/242 [==============================] - 1s 3ms/step - loss: 0.2054 - acc: 0.9286 - val_loss: 0.2790 - val_acc: 0.9169\n",
      "Epoch 7/100\n",
      "239/242 [============================>.] - ETA: 0s - loss: 0.1851 - acc: 0.9353\n",
      "Epoch 7: val_loss did not improve from 0.25868\n",
      "242/242 [==============================] - 1s 3ms/step - loss: 0.1854 - acc: 0.9353 - val_loss: 0.2975 - val_acc: 0.9037\n",
      "138/138 [==============================] - 0s 1ms/step\n",
      "0.7316895547232625 0.1990784179696649 0.9192010894235134 0.0\n"
     ]
    },
    {
     "name": "stderr",
     "output_type": "stream",
     "text": [
      "2023-11-13 01:25:44.265028: I tensorflow/core/common_runtime/gpu/gpu_device.cc:1886] Created device /job:localhost/replica:0/task:0/device:GPU:0 with 1256 MB memory:  -> device: 0, name: Quadro RTX 5000, pci bus id: 0000:2b:00.0, compute capability: 7.5\n",
      "2023-11-13 01:25:44.275606: I tensorflow/core/common_runtime/gpu/gpu_device.cc:1886] Created device /job:localhost/replica:0/task:0/device:GPU:0 with 1256 MB memory:  -> device: 0, name: Quadro RTX 5000, pci bus id: 0000:2b:00.0, compute capability: 7.5\n"
     ]
    },
    {
     "name": "stdout",
     "output_type": "stream",
     "text": [
      "Embedding:  fasttext\n",
      "=============================\n",
      "Iteration number:  1\n",
      "Problem type:  mort_hosp\n",
      "__________________\n",
      "Epoch 1/100\n",
      "233/242 [===========================>..] - ETA: 0s - loss: 0.2877 - acc: 0.9030\n",
      "Epoch 1: val_loss improved from inf to 0.23780, saving model to ../results/multimodal-baseline/best_models/avg-fasttext-mort_hosp-best_model.hdf5\n",
      "242/242 [==============================] - 2s 5ms/step - loss: 0.2862 - acc: 0.9030 - val_loss: 0.2378 - val_acc: 0.9164\n",
      "Epoch 2/100\n",
      " 53/242 [=====>........................] - ETA: 0s - loss: 0.2388 - acc: 0.9192"
     ]
    },
    {
     "name": "stderr",
     "output_type": "stream",
     "text": [
      "/data/apps/miniforge3/envs/cse6250-project/lib/python3.9/site-packages/keras/src/engine/training.py:3079: UserWarning: You are saving your model as an HDF5 file via `model.save()`. This file format is considered legacy. We recommend using instead the native Keras format, e.g. `model.save('my_model.keras')`.\n",
      "  saving_api.save_model(\n"
     ]
    },
    {
     "name": "stdout",
     "output_type": "stream",
     "text": [
      "229/242 [===========================>..] - ETA: 0s - loss: 0.2389 - acc: 0.9170\n",
      "Epoch 2: val_loss improved from 0.23780 to 0.23558, saving model to ../results/multimodal-baseline/best_models/avg-fasttext-mort_hosp-best_model.hdf5\n",
      "242/242 [==============================] - 1s 3ms/step - loss: 0.2401 - acc: 0.9166 - val_loss: 0.2356 - val_acc: 0.9160\n",
      "Epoch 3/100\n",
      "241/242 [============================>.] - ETA: 0s - loss: 0.2218 - acc: 0.9201\n",
      "Epoch 3: val_loss improved from 0.23558 to 0.22561, saving model to ../results/multimodal-baseline/best_models/avg-fasttext-mort_hosp-best_model.hdf5\n",
      "242/242 [==============================] - 1s 3ms/step - loss: 0.2219 - acc: 0.9200 - val_loss: 0.2256 - val_acc: 0.9196\n",
      "Epoch 4/100\n",
      "230/242 [===========================>..] - ETA: 0s - loss: 0.2074 - acc: 0.9249\n",
      "Epoch 4: val_loss improved from 0.22561 to 0.22328, saving model to ../results/multimodal-baseline/best_models/avg-fasttext-mort_hosp-best_model.hdf5\n",
      "242/242 [==============================] - 1s 3ms/step - loss: 0.2081 - acc: 0.9245 - val_loss: 0.2233 - val_acc: 0.9187\n",
      "Epoch 5/100\n",
      "239/242 [============================>.] - ETA: 0s - loss: 0.1943 - acc: 0.9285\n",
      "Epoch 5: val_loss did not improve from 0.22328\n",
      "242/242 [==============================] - 1s 3ms/step - loss: 0.1934 - acc: 0.9288 - val_loss: 0.2356 - val_acc: 0.9173\n",
      "Epoch 6/100\n",
      "231/242 [===========================>..] - ETA: 0s - loss: 0.1748 - acc: 0.9355\n",
      "Epoch 6: val_loss did not improve from 0.22328\n",
      "242/242 [==============================] - 1s 3ms/step - loss: 0.1752 - acc: 0.9359 - val_loss: 0.2575 - val_acc: 0.9015\n",
      "Epoch 7/100\n",
      "236/242 [============================>.] - ETA: 0s - loss: 0.1532 - acc: 0.9439\n",
      "Epoch 7: val_loss did not improve from 0.22328\n",
      "242/242 [==============================] - 1s 3ms/step - loss: 0.1536 - acc: 0.9434 - val_loss: 0.2811 - val_acc: 0.8969\n",
      "Epoch 8/100\n",
      "238/242 [============================>.] - ETA: 0s - loss: 0.1262 - acc: 0.9535\n",
      "Epoch 8: val_loss did not improve from 0.22328\n",
      "242/242 [==============================] - 1s 4ms/step - loss: 0.1266 - acc: 0.9533 - val_loss: 0.3033 - val_acc: 0.9024\n",
      "Epoch 9/100\n",
      "235/242 [============================>.] - ETA: 0s - loss: 0.0985 - acc: 0.9654\n",
      "Epoch 9: val_loss did not improve from 0.22328\n",
      "242/242 [==============================] - 1s 3ms/step - loss: 0.0983 - acc: 0.9653 - val_loss: 0.3319 - val_acc: 0.9074\n",
      "138/138 [==============================] - 0s 1ms/step\n",
      "0.8759578499967233 0.5727447038794063 0.9171584203359056 0.42519685039370075\n"
     ]
    },
    {
     "name": "stderr",
     "output_type": "stream",
     "text": [
      "2023-11-13 01:25:56.509230: I tensorflow/core/common_runtime/gpu/gpu_device.cc:1886] Created device /job:localhost/replica:0/task:0/device:GPU:0 with 1256 MB memory:  -> device: 0, name: Quadro RTX 5000, pci bus id: 0000:2b:00.0, compute capability: 7.5\n",
      "2023-11-13 01:25:56.519343: I tensorflow/core/common_runtime/gpu/gpu_device.cc:1886] Created device /job:localhost/replica:0/task:0/device:GPU:0 with 1256 MB memory:  -> device: 0, name: Quadro RTX 5000, pci bus id: 0000:2b:00.0, compute capability: 7.5\n"
     ]
    },
    {
     "name": "stdout",
     "output_type": "stream",
     "text": [
      "Problem type:  mort_icu\n",
      "__________________\n",
      "Epoch 1/100\n",
      "241/242 [============================>.] - ETA: 0s - loss: 0.2192 - acc: 0.9325\n",
      "Epoch 1: val_loss improved from inf to 0.19196, saving model to ../results/multimodal-baseline/best_models/avg-fasttext-mort_icu-best_model.hdf5\n",
      "242/242 [==============================] - 2s 5ms/step - loss: 0.2190 - acc: 0.9325 - val_loss: 0.1920 - val_acc: 0.9360\n",
      "Epoch 2/100\n",
      " 54/242 [=====>........................] - ETA: 0s - loss: 0.1880 - acc: 0.9361"
     ]
    },
    {
     "name": "stderr",
     "output_type": "stream",
     "text": [
      "/data/apps/miniforge3/envs/cse6250-project/lib/python3.9/site-packages/keras/src/engine/training.py:3079: UserWarning: You are saving your model as an HDF5 file via `model.save()`. This file format is considered legacy. We recommend using instead the native Keras format, e.g. `model.save('my_model.keras')`.\n",
      "  saving_api.save_model(\n"
     ]
    },
    {
     "name": "stdout",
     "output_type": "stream",
     "text": [
      "236/242 [============================>.] - ETA: 0s - loss: 0.1762 - acc: 0.9427\n",
      "Epoch 2: val_loss improved from 0.19196 to 0.16453, saving model to ../results/multimodal-baseline/best_models/avg-fasttext-mort_icu-best_model.hdf5\n",
      "242/242 [==============================] - 1s 3ms/step - loss: 0.1760 - acc: 0.9427 - val_loss: 0.1645 - val_acc: 0.9446\n",
      "Epoch 3/100\n",
      "238/242 [============================>.] - ETA: 0s - loss: 0.1618 - acc: 0.9446\n",
      "Epoch 3: val_loss did not improve from 0.16453\n",
      "242/242 [==============================] - 1s 3ms/step - loss: 0.1618 - acc: 0.9447 - val_loss: 0.1735 - val_acc: 0.9455\n",
      "Epoch 4/100\n",
      "231/242 [===========================>..] - ETA: 0s - loss: 0.1509 - acc: 0.9474\n",
      "Epoch 4: val_loss improved from 0.16453 to 0.16391, saving model to ../results/multimodal-baseline/best_models/avg-fasttext-mort_icu-best_model.hdf5\n",
      "242/242 [==============================] - 1s 3ms/step - loss: 0.1496 - acc: 0.9477 - val_loss: 0.1639 - val_acc: 0.9460\n",
      "Epoch 5/100\n",
      "230/242 [===========================>..] - ETA: 0s - loss: 0.1361 - acc: 0.9527\n",
      "Epoch 5: val_loss did not improve from 0.16391\n",
      "242/242 [==============================] - 1s 3ms/step - loss: 0.1364 - acc: 0.9525 - val_loss: 0.1717 - val_acc: 0.9432\n",
      "Epoch 6/100\n",
      "235/242 [============================>.] - ETA: 0s - loss: 0.1231 - acc: 0.9568\n",
      "Epoch 6: val_loss did not improve from 0.16391\n",
      "242/242 [==============================] - 1s 3ms/step - loss: 0.1237 - acc: 0.9565 - val_loss: 0.1742 - val_acc: 0.9428\n",
      "Epoch 7/100\n",
      "237/242 [============================>.] - ETA: 0s - loss: 0.1022 - acc: 0.9641\n",
      "Epoch 7: val_loss did not improve from 0.16391\n",
      "242/242 [==============================] - 1s 3ms/step - loss: 0.1028 - acc: 0.9638 - val_loss: 0.1798 - val_acc: 0.9419\n",
      "Epoch 8/100\n",
      "234/242 [============================>.] - ETA: 0s - loss: 0.0800 - acc: 0.9724\n",
      "Epoch 8: val_loss did not improve from 0.16391\n",
      "242/242 [==============================] - 1s 3ms/step - loss: 0.0811 - acc: 0.9720 - val_loss: 0.2058 - val_acc: 0.9382\n",
      "Epoch 9/100\n",
      "228/242 [===========================>..] - ETA: 0s - loss: 0.0622 - acc: 0.9795\n",
      "Epoch 9: val_loss did not improve from 0.16391\n",
      "242/242 [==============================] - 1s 3ms/step - loss: 0.0616 - acc: 0.9796 - val_loss: 0.2402 - val_acc: 0.9401\n",
      "138/138 [==============================] - 0s 1ms/step\n",
      "0.8814052937287312 0.5330139956131162 0.94416704493872 0.41981132075471694\n"
     ]
    },
    {
     "name": "stderr",
     "output_type": "stream",
     "text": [
      "2023-11-13 01:26:08.589970: I tensorflow/core/common_runtime/gpu/gpu_device.cc:1886] Created device /job:localhost/replica:0/task:0/device:GPU:0 with 1256 MB memory:  -> device: 0, name: Quadro RTX 5000, pci bus id: 0000:2b:00.0, compute capability: 7.5\n",
      "2023-11-13 01:26:08.603048: I tensorflow/core/common_runtime/gpu/gpu_device.cc:1886] Created device /job:localhost/replica:0/task:0/device:GPU:0 with 1256 MB memory:  -> device: 0, name: Quadro RTX 5000, pci bus id: 0000:2b:00.0, compute capability: 7.5\n"
     ]
    },
    {
     "name": "stdout",
     "output_type": "stream",
     "text": [
      "Problem type:  los_3\n",
      "__________________\n",
      "Epoch 1/100\n",
      "241/242 [============================>.] - ETA: 0s - loss: 0.6780 - acc: 0.6250\n",
      "Epoch 1: val_loss improved from inf to 0.63110, saving model to ../results/multimodal-baseline/best_models/avg-fasttext-los_3-best_model.hdf5\n",
      "242/242 [==============================] - 2s 5ms/step - loss: 0.6779 - acc: 0.6248 - val_loss: 0.6311 - val_acc: 0.6603\n",
      "Epoch 2/100\n",
      " 20/242 [=>............................] - ETA: 1s - loss: 0.6185 - acc: 0.6797"
     ]
    },
    {
     "name": "stderr",
     "output_type": "stream",
     "text": [
      "/data/apps/miniforge3/envs/cse6250-project/lib/python3.9/site-packages/keras/src/engine/training.py:3079: UserWarning: You are saving your model as an HDF5 file via `model.save()`. This file format is considered legacy. We recommend using instead the native Keras format, e.g. `model.save('my_model.keras')`.\n",
      "  saving_api.save_model(\n"
     ]
    },
    {
     "name": "stdout",
     "output_type": "stream",
     "text": [
      "231/242 [===========================>..] - ETA: 0s - loss: 0.6278 - acc: 0.6624\n",
      "Epoch 2: val_loss improved from 0.63110 to 0.62823, saving model to ../results/multimodal-baseline/best_models/avg-fasttext-los_3-best_model.hdf5\n",
      "242/242 [==============================] - 1s 5ms/step - loss: 0.6283 - acc: 0.6618 - val_loss: 0.6282 - val_acc: 0.6490\n",
      "Epoch 3/100\n",
      "227/242 [===========================>..] - ETA: 0s - loss: 0.6075 - acc: 0.6833\n",
      "Epoch 3: val_loss improved from 0.62823 to 0.61888, saving model to ../results/multimodal-baseline/best_models/avg-fasttext-los_3-best_model.hdf5\n",
      "242/242 [==============================] - 1s 4ms/step - loss: 0.6089 - acc: 0.6817 - val_loss: 0.6189 - val_acc: 0.6621\n",
      "Epoch 4/100\n",
      "237/242 [============================>.] - ETA: 0s - loss: 0.5961 - acc: 0.6927\n",
      "Epoch 4: val_loss improved from 0.61888 to 0.61304, saving model to ../results/multimodal-baseline/best_models/avg-fasttext-los_3-best_model.hdf5\n",
      "242/242 [==============================] - 1s 4ms/step - loss: 0.5955 - acc: 0.6932 - val_loss: 0.6130 - val_acc: 0.6785\n",
      "Epoch 5/100\n",
      "235/242 [============================>.] - ETA: 0s - loss: 0.5751 - acc: 0.7063\n",
      "Epoch 5: val_loss did not improve from 0.61304\n",
      "242/242 [==============================] - 1s 5ms/step - loss: 0.5754 - acc: 0.7056 - val_loss: 0.6186 - val_acc: 0.6748\n",
      "Epoch 6/100\n",
      "234/242 [============================>.] - ETA: 0s - loss: 0.5518 - acc: 0.7231\n",
      "Epoch 6: val_loss did not improve from 0.61304\n",
      "242/242 [==============================] - 1s 4ms/step - loss: 0.5521 - acc: 0.7225 - val_loss: 0.6344 - val_acc: 0.6612\n",
      "Epoch 7/100\n",
      "226/242 [===========================>..] - ETA: 0s - loss: 0.5219 - acc: 0.7461\n",
      "Epoch 7: val_loss did not improve from 0.61304\n",
      "242/242 [==============================] - 1s 3ms/step - loss: 0.5216 - acc: 0.7464 - val_loss: 0.6550 - val_acc: 0.6512\n",
      "Epoch 8/100\n",
      "241/242 [============================>.] - ETA: 0s - loss: 0.4792 - acc: 0.7720\n",
      "Epoch 8: val_loss did not improve from 0.61304\n",
      "242/242 [==============================] - 1s 3ms/step - loss: 0.4797 - acc: 0.7717 - val_loss: 0.6793 - val_acc: 0.6553\n",
      "Epoch 9/100\n",
      "238/242 [============================>.] - ETA: 0s - loss: 0.4245 - acc: 0.8059\n",
      "Epoch 9: val_loss did not improve from 0.61304\n",
      "242/242 [==============================] - 1s 3ms/step - loss: 0.4246 - acc: 0.8060 - val_loss: 0.7571 - val_acc: 0.6349\n",
      "138/138 [==============================] - 0s 1ms/step\n",
      "0.7078235200053864 0.6461197120325293 0.6629596005447117 0.5235803657362849\n"
     ]
    },
    {
     "name": "stderr",
     "output_type": "stream",
     "text": [
      "2023-11-13 01:26:21.722803: I tensorflow/core/common_runtime/gpu/gpu_device.cc:1886] Created device /job:localhost/replica:0/task:0/device:GPU:0 with 1256 MB memory:  -> device: 0, name: Quadro RTX 5000, pci bus id: 0000:2b:00.0, compute capability: 7.5\n",
      "2023-11-13 01:26:21.735711: I tensorflow/core/common_runtime/gpu/gpu_device.cc:1886] Created device /job:localhost/replica:0/task:0/device:GPU:0 with 1256 MB memory:  -> device: 0, name: Quadro RTX 5000, pci bus id: 0000:2b:00.0, compute capability: 7.5\n"
     ]
    },
    {
     "name": "stdout",
     "output_type": "stream",
     "text": [
      "Problem type:  los_7\n",
      "__________________\n",
      "Epoch 1/100\n",
      "229/242 [===========================>..] - ETA: 0s - loss: 0.2941 - acc: 0.9174\n",
      "Epoch 1: val_loss improved from inf to 0.27908, saving model to ../results/multimodal-baseline/best_models/avg-fasttext-los_7-best_model.hdf5\n",
      "242/242 [==============================] - 2s 4ms/step - loss: 0.2932 - acc: 0.9173 - val_loss: 0.2791 - val_acc: 0.9223\n",
      "Epoch 2/100\n",
      " 51/242 [=====>........................] - ETA: 0s - loss: 0.2625 - acc: 0.9203"
     ]
    },
    {
     "name": "stderr",
     "output_type": "stream",
     "text": [
      "/data/apps/miniforge3/envs/cse6250-project/lib/python3.9/site-packages/keras/src/engine/training.py:3079: UserWarning: You are saving your model as an HDF5 file via `model.save()`. This file format is considered legacy. We recommend using instead the native Keras format, e.g. `model.save('my_model.keras')`.\n",
      "  saving_api.save_model(\n"
     ]
    },
    {
     "name": "stdout",
     "output_type": "stream",
     "text": [
      "227/242 [===========================>..] - ETA: 0s - loss: 0.2584 - acc: 0.9215\n",
      "Epoch 2: val_loss improved from 0.27908 to 0.26412, saving model to ../results/multimodal-baseline/best_models/avg-fasttext-los_7-best_model.hdf5\n",
      "242/242 [==============================] - 1s 3ms/step - loss: 0.2576 - acc: 0.9219 - val_loss: 0.2641 - val_acc: 0.9233\n",
      "Epoch 3/100\n",
      "231/242 [===========================>..] - ETA: 0s - loss: 0.2420 - acc: 0.9237\n",
      "Epoch 3: val_loss did not improve from 0.26412\n",
      "242/242 [==============================] - 1s 3ms/step - loss: 0.2454 - acc: 0.9226 - val_loss: 0.2667 - val_acc: 0.9223\n",
      "Epoch 4/100\n",
      "236/242 [============================>.] - ETA: 0s - loss: 0.2342 - acc: 0.9228\n",
      "Epoch 4: val_loss improved from 0.26412 to 0.26257, saving model to ../results/multimodal-baseline/best_models/avg-fasttext-los_7-best_model.hdf5\n",
      "242/242 [==============================] - 1s 4ms/step - loss: 0.2342 - acc: 0.9226 - val_loss: 0.2626 - val_acc: 0.9233\n",
      "Epoch 5/100\n",
      "237/242 [============================>.] - ETA: 0s - loss: 0.2226 - acc: 0.9239\n",
      "Epoch 5: val_loss did not improve from 0.26257\n",
      "242/242 [==============================] - 1s 4ms/step - loss: 0.2227 - acc: 0.9235 - val_loss: 0.2681 - val_acc: 0.9228\n",
      "Epoch 6/100\n",
      "228/242 [===========================>..] - ETA: 0s - loss: 0.2102 - acc: 0.9287\n",
      "Epoch 6: val_loss did not improve from 0.26257\n",
      "242/242 [==============================] - 1s 3ms/step - loss: 0.2099 - acc: 0.9288 - val_loss: 0.2714 - val_acc: 0.9201\n",
      "Epoch 7/100\n",
      "233/242 [===========================>..] - ETA: 0s - loss: 0.1898 - acc: 0.9350\n",
      "Epoch 7: val_loss did not improve from 0.26257\n",
      "242/242 [==============================] - 1s 3ms/step - loss: 0.1903 - acc: 0.9346 - val_loss: 0.2905 - val_acc: 0.9015\n",
      "Epoch 8/100\n",
      "229/242 [===========================>..] - ETA: 0s - loss: 0.1595 - acc: 0.9459\n",
      "Epoch 8: val_loss did not improve from 0.26257\n",
      "242/242 [==============================] - 1s 4ms/step - loss: 0.1615 - acc: 0.9450 - val_loss: 0.2937 - val_acc: 0.9155\n",
      "Epoch 9/100\n",
      "236/242 [============================>.] - ETA: 0s - loss: 0.1299 - acc: 0.9557\n",
      "Epoch 9: val_loss did not improve from 0.26257\n",
      "242/242 [==============================] - 1s 3ms/step - loss: 0.1300 - acc: 0.9555 - val_loss: 0.3551 - val_acc: 0.9033\n",
      "138/138 [==============================] - 0s 1ms/step\n",
      "0.7250006935774727 0.2000504809041665 0.9187471629596006 0.0427807486631016\n"
     ]
    },
    {
     "name": "stderr",
     "output_type": "stream",
     "text": [
      "2023-11-13 01:26:33.657309: I tensorflow/core/common_runtime/gpu/gpu_device.cc:1886] Created device /job:localhost/replica:0/task:0/device:GPU:0 with 1256 MB memory:  -> device: 0, name: Quadro RTX 5000, pci bus id: 0000:2b:00.0, compute capability: 7.5\n",
      "2023-11-13 01:26:33.668028: I tensorflow/core/common_runtime/gpu/gpu_device.cc:1886] Created device /job:localhost/replica:0/task:0/device:GPU:0 with 1256 MB memory:  -> device: 0, name: Quadro RTX 5000, pci bus id: 0000:2b:00.0, compute capability: 7.5\n"
     ]
    }
   ],
   "source": [
    "#embedding_types = ['word2vec','fasttext','concat']\n",
    "embedding_types = ['word2vec','fasttext']\n",
    "#embedding_dict = [ner_word2vec, ner_fasttext, ner_concat]\n",
    "embedding_dict = [ner_word2vec, ner_fasttext]\n",
    "target_problems = ['mort_hosp', 'mort_icu', 'los_3', 'los_7']\n",
    "\n",
    "\n",
    "num_epoch = 100\n",
    "model_patience = 5\n",
    "monitor_criteria = 'val_loss'\n",
    "batch_size = 64\n",
    "iter_num = 2\n",
    "unit_sizes = [128, 256]\n",
    "\n",
    "#layers = [\"LSTM\", \"GRU\"]\n",
    "layers = [\"GRU\"]\n",
    "for each_layer in layers:\n",
    "    print (\"Layer: \", each_layer)\n",
    "    for each_unit_size in unit_sizes:\n",
    "        print (\"Hidden unit: \", each_unit_size)\n",
    "\n",
    "        for embed_dict, embed_name in zip(embedding_dict, embedding_types):    \n",
    "            print (\"Embedding: \", embed_name)\n",
    "            print(\"=============================\")\n",
    "\n",
    "            temp_train_ner = dict((k, ner_word2vec[k]) for k in train_ids)\n",
    "            temp_dev_ner = dict((k, ner_word2vec[k]) for k in dev_ids)\n",
    "            temp_test_ner = dict((k, ner_word2vec[k]) for k in test_ids)\n",
    "\n",
    "            x_train_ner = create_dataset(temp_train_ner)\n",
    "            x_dev_ner = create_dataset(temp_dev_ner)\n",
    "            x_test_ner = create_dataset(temp_test_ner)\n",
    "\n",
    "\n",
    "            for iteration in range(1, iter_num):\n",
    "                print (\"Iteration number: \", iteration)\n",
    "\n",
    "                for each_problem in target_problems:\n",
    "                    print (\"Problem type: \", each_problem)\n",
    "                    print (\"__________________\")\n",
    "\n",
    "                    early_stopping_monitor = EarlyStopping(monitor=monitor_criteria, patience=model_patience)\n",
    "                    best_model_name = \"../results/multimodal-baseline/best_models/\"+\"avg-\"+str(embed_name)+\"-\"+str(each_problem)+\"-\"+\"best_model.hdf5\"\n",
    "                    checkpoint = ModelCheckpoint(best_model_name, monitor='val_loss', verbose=1,\n",
    "                        save_best_only=True, mode='min', save_freq='epoch')\n",
    "                    #checkpoint._supports_tf_logs = False\n",
    "\n",
    "\n",
    "\n",
    "                    callbacks = [early_stopping_monitor, checkpoint]\n",
    "\n",
    "                    model = avg_ner_model(each_layer, each_unit_size, embed_name)\n",
    "                    \n",
    "                    model.fit([x_train_lstm, x_train_ner], y_train[each_problem], epochs=num_epoch, verbose=1, \n",
    "                              validation_data=([x_dev_lstm, x_dev_ner], y_dev[each_problem]), callbacks=callbacks, \n",
    "                              batch_size=batch_size )\n",
    "\n",
    "                    model.load_weights(best_model_name)\n",
    "\n",
    "                    probs, predictions = make_prediction_multi_avg(model, [x_test_lstm, x_test_ner])\n",
    "                    \n",
    "                    save_scores_multi_avg(predictions, probs, y_test[each_problem], \n",
    "                                embed_name, each_problem, iteration, each_unit_size, \n",
    "                                each_layer, type_of_ner)\n",
    "                    \n",
    "                    reset_keras(model)\n",
    "                    #del model\n",
    "                    clear_session()\n",
    "                    gc.collect()"
   ]
  },
  {
   "cell_type": "code",
   "execution_count": null,
   "metadata": {},
   "outputs": [],
   "source": []
  }
 ],
 "metadata": {
  "kernelspec": {
   "display_name": "cse6250-project",
   "language": "python",
   "name": "python3"
  },
  "language_info": {
   "codemirror_mode": {
    "name": "ipython",
    "version": 3
   },
   "file_extension": ".py",
   "mimetype": "text/x-python",
   "name": "python",
   "nbconvert_exporter": "python",
   "pygments_lexer": "ipython3",
   "version": "3.9.18"
  }
 },
 "nbformat": 4,
 "nbformat_minor": 2
}
